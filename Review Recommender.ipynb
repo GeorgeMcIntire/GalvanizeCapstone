{
 "cells": [
  {
   "cell_type": "code",
   "execution_count": 1,
   "metadata": {},
   "outputs": [],
   "source": [
    "import numpy as np\n",
    "import pandas as pd\n",
    "from sklearn.feature_extraction.text import TfidfVectorizer\n",
    "from sklearn.cluster import KMeans, AffinityPropagation\n",
    "from collections import Counter\n",
    "from scipy.spatial.distance import pdist, squareform\n",
    "import matplotlib.pyplot as plt\n",
    "from scipy.cluster.hierarchy import linkage, dendrogram\n"
   ]
  },
  {
   "cell_type": "code",
   "execution_count": 193,
   "metadata": {
    "collapsed": true
   },
   "outputs": [],
   "source": [
    "pd.options.display.max_colwidth = 100"
   ]
  },
  {
   "cell_type": "code",
   "execution_count": 2,
   "metadata": {
    "collapsed": true
   },
   "outputs": [],
   "source": [
    "import numpy as np\n",
    "import matplotlib.pyplot as plt\n",
    "%matplotlib inline\n",
    "\n",
    "# from textblob.sentiments import NaiveBayesAnalyzer\n",
    "import re\n",
    "import pandas as pd\n",
    "import sqlite3\n",
    "# from textblob import TextBlob\n",
    "\n",
    "import seaborn as sns\n",
    "sns.set(color_codes=True)\n",
    "\n",
    "# encoding=utf8\n",
    "# import sys\n",
    "# reload(sys)\n",
    "# sys.setdefaultencoding('utf8')"
   ]
  },
  {
   "cell_type": "code",
   "execution_count": null,
   "metadata": {
    "collapsed": true
   },
   "outputs": [],
   "source": []
  },
  {
   "cell_type": "code",
   "execution_count": null,
   "metadata": {},
   "outputs": [],
   "source": [
    "cd Desktop/"
   ]
  },
  {
   "cell_type": "code",
   "execution_count": null,
   "metadata": {
    "collapsed": true
   },
   "outputs": [],
   "source": [
    "df = pd.read_csv('../pitchfork3.csv')"
   ]
  },
  {
   "cell_type": "code",
   "execution_count": null,
   "metadata": {},
   "outputs": [],
   "source": []
  },
  {
   "cell_type": "code",
   "execution_count": 514,
   "metadata": {},
   "outputs": [],
   "source": [
    "df = pd.read_csv('../pitchfork3.csv')\n",
    "\n",
    "years = np.arange(1999, 2018)\n",
    "df_new = df[df['new_album'] == 1]\n",
    "df_reissue = df[df['new_album'] == 0]\n",
    "\n",
    "df_spotify = pd.read_csv('spotify_with_rank.csv')\n",
    "\n",
    "df_merged = df.merge(df_spotify, how='left', on=['artist', 'title'])"
   ]
  },
  {
   "cell_type": "code",
   "execution_count": null,
   "metadata": {},
   "outputs": [],
   "source": []
  },
  {
   "cell_type": "code",
   "execution_count": 518,
   "metadata": {
    "collapsed": true
   },
   "outputs": [],
   "source": [
    "# 4. Limit the number of features and see if the words of the topics change.\n",
    "vectorizer = TfidfVectorizer(stop_words='english', max_features=500, max_df=.4)\n",
    "X = vectorizer.fit_transform(df_merged['content'].values.astype('U'))"
   ]
  },
  {
   "cell_type": "code",
   "execution_count": 519,
   "metadata": {},
   "outputs": [],
   "source": [
    "df_merged['tf-idf'] = list(X.toarray())"
   ]
  },
  {
   "cell_type": "code",
   "execution_count": 520,
   "metadata": {},
   "outputs": [],
   "source": [
    "df_merged['danceability rounded'] = (df_merged['danceability mean']*10).round(1)\n",
    "df_merged['valence rounded'] = (df_merged['valence mean']*10).round(1)\n",
    "df_merged['energy rounded'] = (df_merged['energy mean']*10).round(1)\n",
    "df_merged['acousticness rounded'] = (df_merged['acousticness mean']*10).round(1)\n",
    "df_merged['score_bin_5'] = pd.cut(df_merged['score'], bins=5, labels=False)\n",
    "df_merged['score_bin_2'] = pd.cut(df_merged['score'], bins=2, labels=False)"
   ]
  },
  {
   "cell_type": "code",
   "execution_count": 521,
   "metadata": {},
   "outputs": [],
   "source": [
    "df_merged['danceability rounded'].fillna(value=df_merged['danceability rounded'].mean(), inplace=True)\n",
    "df_merged['valence rounded'].fillna(value=df_merged['valence rounded'].mean(), inplace=True)\n",
    "df_merged['energy rounded'].fillna(value=df_merged['energy rounded'].mean(), inplace=True)\n",
    "df_merged['acousticness rounded'].fillna(value=df_merged['acousticness rounded'].mean(), inplace=True)\n",
    "\n",
    "\n",
    "\n"
   ]
  },
  {
   "cell_type": "code",
   "execution_count": 522,
   "metadata": {},
   "outputs": [],
   "source": [
    "df_merged['spotify_match'] = np.where(df_merged['year sum'] > 0, 1, 0)\n"
   ]
  },
  {
   "cell_type": "code",
   "execution_count": null,
   "metadata": {},
   "outputs": [],
   "source": []
  },
  {
   "cell_type": "code",
   "execution_count": 523,
   "metadata": {},
   "outputs": [
    {
     "data": {
      "text/plain": [
       "2.9334875268464287"
      ]
     },
     "execution_count": 523,
     "metadata": {},
     "output_type": "execute_result"
    }
   ],
   "source": [
    "df_merged['acousticness rounded'].mean()"
   ]
  },
  {
   "cell_type": "code",
   "execution_count": 524,
   "metadata": {},
   "outputs": [],
   "source": [
    "import graphlab"
   ]
  },
  {
   "cell_type": "code",
   "execution_count": 525,
   "metadata": {},
   "outputs": [
    {
     "data": {
      "text/plain": [
       "(20125, 106)"
      ]
     },
     "execution_count": 525,
     "metadata": {},
     "output_type": "execute_result"
    }
   ],
   "source": [
    "df_merged.shape"
   ]
  },
  {
   "cell_type": "code",
   "execution_count": 526,
   "metadata": {},
   "outputs": [
    {
     "data": {
      "text/html": [
       "<div>\n",
       "<style>\n",
       "    .dataframe thead tr:only-child th {\n",
       "        text-align: right;\n",
       "    }\n",
       "\n",
       "    .dataframe thead th {\n",
       "        text-align: left;\n",
       "    }\n",
       "\n",
       "    .dataframe tbody tr th {\n",
       "        vertical-align: top;\n",
       "    }\n",
       "</style>\n",
       "<table border=\"1\" class=\"dataframe\">\n",
       "  <thead>\n",
       "    <tr style=\"text-align: right;\">\n",
       "      <th></th>\n",
       "      <th>Unnamed: 0_x</th>\n",
       "      <th>Unnamed: 0.1</th>\n",
       "      <th>index</th>\n",
       "      <th>reviewid</th>\n",
       "      <th>title</th>\n",
       "      <th>artist</th>\n",
       "      <th>url</th>\n",
       "      <th>score</th>\n",
       "      <th>best_new_music</th>\n",
       "      <th>best_new_reissue</th>\n",
       "      <th>...</th>\n",
       "      <th>year std</th>\n",
       "      <th>order_of_release</th>\n",
       "      <th>tf-idf</th>\n",
       "      <th>danceability rounded</th>\n",
       "      <th>valence rounded</th>\n",
       "      <th>energy rounded</th>\n",
       "      <th>acousticness rounded</th>\n",
       "      <th>score_bin_5</th>\n",
       "      <th>score_bin_2</th>\n",
       "      <th>spotify_match</th>\n",
       "    </tr>\n",
       "  </thead>\n",
       "  <tbody>\n",
       "    <tr>\n",
       "      <th>0</th>\n",
       "      <td>0</td>\n",
       "      <td>0</td>\n",
       "      <td>22</td>\n",
       "      <td>5a3aa14cdea49a0a938ccb18</td>\n",
       "      <td>merry christmas lil mama: re-wrapped</td>\n",
       "      <td>chance the rapper, jeremih</td>\n",
       "      <td>https://pitchfork.com/reviews/albums/merry-christmas-lil-mama-re-wrapped/</td>\n",
       "      <td>7.7</td>\n",
       "      <td>0</td>\n",
       "      <td>0</td>\n",
       "      <td>...</td>\n",
       "      <td>NaN</td>\n",
       "      <td>NaN</td>\n",
       "      <td>[0.0, 0.0, 0.0, 0.0, 0.0, 0.0, 0.0492463917932, 0.0, 0.0599769498473, 0.122689637953, 0.0, 0.0, ...</td>\n",
       "      <td>4.807575</td>\n",
       "      <td>3.95033</td>\n",
       "      <td>6.147844</td>\n",
       "      <td>2.933488</td>\n",
       "      <td>3</td>\n",
       "      <td>1</td>\n",
       "      <td>0</td>\n",
       "    </tr>\n",
       "    <tr>\n",
       "      <th>1</th>\n",
       "      <td>1</td>\n",
       "      <td>1</td>\n",
       "      <td>23</td>\n",
       "      <td>5a2eacf785030943c5158845</td>\n",
       "      <td>pressure</td>\n",
       "      <td>jeezy</td>\n",
       "      <td>https://pitchfork.com/reviews/albums/pressure/</td>\n",
       "      <td>6.3</td>\n",
       "      <td>0</td>\n",
       "      <td>0</td>\n",
       "      <td>...</td>\n",
       "      <td>0.0</td>\n",
       "      <td>24.0</td>\n",
       "      <td>[0.0, 0.0, 0.0, 0.0, 0.0885469483504, 0.0, 0.0, 0.0, 0.0, 0.0, 0.0, 0.0, 0.0, 0.164737975976, 0....</td>\n",
       "      <td>6.400000</td>\n",
       "      <td>3.40000</td>\n",
       "      <td>6.900000</td>\n",
       "      <td>0.400000</td>\n",
       "      <td>3</td>\n",
       "      <td>1</td>\n",
       "      <td>1</td>\n",
       "    </tr>\n",
       "    <tr>\n",
       "      <th>2</th>\n",
       "      <td>2</td>\n",
       "      <td>2</td>\n",
       "      <td>24</td>\n",
       "      <td>5a0a0f9fd5ec0a321fb119a2</td>\n",
       "      <td>the beautiful &amp; damned</td>\n",
       "      <td>g-eazy</td>\n",
       "      <td>https://pitchfork.com/reviews/albums/g-eazy-the-beautiful-and-damned/</td>\n",
       "      <td>5.1</td>\n",
       "      <td>0</td>\n",
       "      <td>0</td>\n",
       "      <td>...</td>\n",
       "      <td>0.0</td>\n",
       "      <td>5.0</td>\n",
       "      <td>[0.0, 0.0, 0.0, 0.0, 0.0, 0.0, 0.0, 0.0, 0.0, 0.0, 0.0, 0.0, 0.0, 0.0, 0.0, 0.0, 0.0, 0.0, 0.0, ...</td>\n",
       "      <td>6.600000</td>\n",
       "      <td>3.30000</td>\n",
       "      <td>6.600000</td>\n",
       "      <td>1.300000</td>\n",
       "      <td>2</td>\n",
       "      <td>1</td>\n",
       "      <td>1</td>\n",
       "    </tr>\n",
       "    <tr>\n",
       "      <th>3</th>\n",
       "      <td>3</td>\n",
       "      <td>3</td>\n",
       "      <td>25</td>\n",
       "      <td>5a285f957d91d040cf1e35e1</td>\n",
       "      <td>quiet storm</td>\n",
       "      <td>shy glizzy</td>\n",
       "      <td>https://pitchfork.com/reviews/albums/shy-glizzy-quiet-storm/</td>\n",
       "      <td>7.1</td>\n",
       "      <td>0</td>\n",
       "      <td>0</td>\n",
       "      <td>...</td>\n",
       "      <td>0.0</td>\n",
       "      <td>6.0</td>\n",
       "      <td>[0.0, 0.0, 0.0, 0.0, 0.0, 0.0, 0.0, 0.0, 0.0, 0.0, 0.0, 0.0, 0.0, 0.0, 0.0, 0.0, 0.0, 0.0, 0.092...</td>\n",
       "      <td>7.900000</td>\n",
       "      <td>4.40000</td>\n",
       "      <td>6.500000</td>\n",
       "      <td>0.800000</td>\n",
       "      <td>3</td>\n",
       "      <td>1</td>\n",
       "      <td>1</td>\n",
       "    </tr>\n",
       "    <tr>\n",
       "      <th>4</th>\n",
       "      <td>4</td>\n",
       "      <td>4</td>\n",
       "      <td>26</td>\n",
       "      <td>5a2eb9d5a31af72b3b598039</td>\n",
       "      <td>pop 2</td>\n",
       "      <td>charli xcx</td>\n",
       "      <td>https://pitchfork.com/reviews/albums/charli-xcx-pop-2/</td>\n",
       "      <td>8.4</td>\n",
       "      <td>1</td>\n",
       "      <td>0</td>\n",
       "      <td>...</td>\n",
       "      <td>0.0</td>\n",
       "      <td>5.0</td>\n",
       "      <td>[0.127673251153, 0.0, 0.0636567964761, 0.0, 0.0, 0.0, 0.0, 0.0, 0.0, 0.0, 0.0636478476188, 0.090...</td>\n",
       "      <td>6.100000</td>\n",
       "      <td>4.00000</td>\n",
       "      <td>6.100000</td>\n",
       "      <td>1.900000</td>\n",
       "      <td>4</td>\n",
       "      <td>1</td>\n",
       "      <td>1</td>\n",
       "    </tr>\n",
       "  </tbody>\n",
       "</table>\n",
       "<p>5 rows × 106 columns</p>\n",
       "</div>"
      ],
      "text/plain": [
       "   Unnamed: 0_x  Unnamed: 0.1  index                  reviewid  \\\n",
       "0             0             0     22  5a3aa14cdea49a0a938ccb18   \n",
       "1             1             1     23  5a2eacf785030943c5158845   \n",
       "2             2             2     24  5a0a0f9fd5ec0a321fb119a2   \n",
       "3             3             3     25  5a285f957d91d040cf1e35e1   \n",
       "4             4             4     26  5a2eb9d5a31af72b3b598039   \n",
       "\n",
       "                                  title                      artist  \\\n",
       "0  merry christmas lil mama: re-wrapped  chance the rapper, jeremih   \n",
       "1                              pressure                       jeezy   \n",
       "2                the beautiful & damned                      g-eazy   \n",
       "3                           quiet storm                  shy glizzy   \n",
       "4                                 pop 2                  charli xcx   \n",
       "\n",
       "                                                                         url  \\\n",
       "0  https://pitchfork.com/reviews/albums/merry-christmas-lil-mama-re-wrapped/   \n",
       "1                             https://pitchfork.com/reviews/albums/pressure/   \n",
       "2      https://pitchfork.com/reviews/albums/g-eazy-the-beautiful-and-damned/   \n",
       "3               https://pitchfork.com/reviews/albums/shy-glizzy-quiet-storm/   \n",
       "4                     https://pitchfork.com/reviews/albums/charli-xcx-pop-2/   \n",
       "\n",
       "   score  best_new_music  best_new_reissue      ...       year std  \\\n",
       "0    7.7               0                 0      ...            NaN   \n",
       "1    6.3               0                 0      ...            0.0   \n",
       "2    5.1               0                 0      ...            0.0   \n",
       "3    7.1               0                 0      ...            0.0   \n",
       "4    8.4               1                 0      ...            0.0   \n",
       "\n",
       "  order_of_release  \\\n",
       "0              NaN   \n",
       "1             24.0   \n",
       "2              5.0   \n",
       "3              6.0   \n",
       "4              5.0   \n",
       "\n",
       "                                                                                                tf-idf  \\\n",
       "0  [0.0, 0.0, 0.0, 0.0, 0.0, 0.0, 0.0492463917932, 0.0, 0.0599769498473, 0.122689637953, 0.0, 0.0, ...   \n",
       "1  [0.0, 0.0, 0.0, 0.0, 0.0885469483504, 0.0, 0.0, 0.0, 0.0, 0.0, 0.0, 0.0, 0.0, 0.164737975976, 0....   \n",
       "2  [0.0, 0.0, 0.0, 0.0, 0.0, 0.0, 0.0, 0.0, 0.0, 0.0, 0.0, 0.0, 0.0, 0.0, 0.0, 0.0, 0.0, 0.0, 0.0, ...   \n",
       "3  [0.0, 0.0, 0.0, 0.0, 0.0, 0.0, 0.0, 0.0, 0.0, 0.0, 0.0, 0.0, 0.0, 0.0, 0.0, 0.0, 0.0, 0.0, 0.092...   \n",
       "4  [0.127673251153, 0.0, 0.0636567964761, 0.0, 0.0, 0.0, 0.0, 0.0, 0.0, 0.0, 0.0636478476188, 0.090...   \n",
       "\n",
       "   danceability rounded  valence rounded  energy rounded  \\\n",
       "0              4.807575          3.95033        6.147844   \n",
       "1              6.400000          3.40000        6.900000   \n",
       "2              6.600000          3.30000        6.600000   \n",
       "3              7.900000          4.40000        6.500000   \n",
       "4              6.100000          4.00000        6.100000   \n",
       "\n",
       "   acousticness rounded  score_bin_5  score_bin_2  spotify_match  \n",
       "0              2.933488            3            1              0  \n",
       "1              0.400000            3            1              1  \n",
       "2              1.300000            2            1              1  \n",
       "3              0.800000            3            1              1  \n",
       "4              1.900000            4            1              1  \n",
       "\n",
       "[5 rows x 106 columns]"
      ]
     },
     "execution_count": 526,
     "metadata": {},
     "output_type": "execute_result"
    }
   ],
   "source": [
    "df_merged.head()"
   ]
  },
  {
   "cell_type": "code",
   "execution_count": 527,
   "metadata": {},
   "outputs": [],
   "source": [
    "df_merged =df_merged.dropna(subset=['content'])"
   ]
  },
  {
   "cell_type": "code",
   "execution_count": 528,
   "metadata": {},
   "outputs": [],
   "source": [
    "sf = graphlab.SFrame(df_merged[['url', 'tf-idf', \n",
    "                                'danceability rounded', 'valence rounded', 'energy rounded', 'acousticness rounded', \n",
    "                                'pub_year', u'genre_electronic', u'genre_experimental',\n",
    "       u'genre_folk/country', u'genre_global', u'genre_jazz', u'genre_metal',\n",
    "       u'genre_pop/r&b', u'genre_rap', u'genre_rock', 'new_album', 'spotify_match']])"
   ]
  },
  {
   "cell_type": "code",
   "execution_count": 529,
   "metadata": {
    "scrolled": true
   },
   "outputs": [
    {
     "name": "stdout",
     "output_type": "stream",
     "text": [
      "WARNING: The ItemContentRecommender model is still in beta.\n",
      "WARNING: This feature transformer is still in beta, and some interpretation rules may change in the future.\n",
      "('Applying transform:\\n', Class             : AutoVectorizer\n",
      "\n",
      "Model Fields\n",
      "------------\n",
      "Features          : ['tf-idf', 'danceability rounded', 'valence rounded', 'energy rounded', 'acousticness rounded', 'pub_year', 'genre_electronic', 'genre_experimental', 'genre_folk/country', 'genre_global', 'genre_jazz', 'genre_metal', 'genre_pop/r&b', 'genre_rap', 'genre_rock', 'new_album', 'spotify_match']\n",
      "Excluded Features : ['url']\n",
      "\n",
      "Column                Type   Interpretation  Transforms   Output Type\n",
      "--------------------  -----  --------------  -----------  -----------\n",
      "tf-idf                array  vector          None         array      \n",
      "danceability rounded  float  numerical       None         float      \n",
      "valence rounded       float  numerical       None         float      \n",
      "energy rounded        float  numerical       None         float      \n",
      "acousticness rounded  float  numerical       None         float      \n",
      "pub_year              int    numerical       None         int        \n",
      "genre_electronic      int    categorical     astype(str)  str        \n",
      "genre_experimental    int    categorical     astype(str)  str        \n",
      "genre_folk/country    int    categorical     astype(str)  str        \n",
      "genre_global          int    categorical     astype(str)  str        \n",
      "genre_jazz            int    categorical     astype(str)  str        \n",
      "genre_metal           int    categorical     astype(str)  str        \n",
      "genre_pop/r&b         int    categorical     astype(str)  str        \n",
      "genre_rap             int    categorical     astype(str)  str        \n",
      "genre_rock            int    categorical     astype(str)  str        \n",
      "new_album             int    categorical     astype(str)  str        \n",
      "spotify_match         int    categorical     astype(str)  str        \n",
      "\n",
      ")\n"
     ]
    },
    {
     "data": {
      "text/html": [
       "<pre>Recsys training: model = item_content_recommender</pre>"
      ],
      "text/plain": [
       "Recsys training: model = item_content_recommender"
      ]
     },
     "metadata": {},
     "output_type": "display_data"
    },
    {
     "name": "stdout",
     "output_type": "stream",
     "text": [
      "Defaulting to brute force instead of ball tree because there are multiple distance components.\n"
     ]
    },
    {
     "data": {
      "text/html": [
       "<pre>Starting brute force nearest neighbors model training.</pre>"
      ],
      "text/plain": [
       "Starting brute force nearest neighbors model training."
      ]
     },
     "metadata": {},
     "output_type": "display_data"
    },
    {
     "data": {
      "text/html": [
       "<pre>Starting pairwise querying.</pre>"
      ],
      "text/plain": [
       "Starting pairwise querying."
      ]
     },
     "metadata": {},
     "output_type": "display_data"
    },
    {
     "data": {
      "text/html": [
       "<pre>+--------------+---------+-------------+--------------+</pre>"
      ],
      "text/plain": [
       "+--------------+---------+-------------+--------------+"
      ]
     },
     "metadata": {},
     "output_type": "display_data"
    },
    {
     "data": {
      "text/html": [
       "<pre>| Query points | # Pairs | % Complete. | Elapsed Time |</pre>"
      ],
      "text/plain": [
       "| Query points | # Pairs | % Complete. | Elapsed Time |"
      ]
     },
     "metadata": {},
     "output_type": "display_data"
    },
    {
     "data": {
      "text/html": [
       "<pre>+--------------+---------+-------------+--------------+</pre>"
      ],
      "text/plain": [
       "+--------------+---------+-------------+--------------+"
      ]
     },
     "metadata": {},
     "output_type": "display_data"
    },
    {
     "data": {
      "text/html": [
       "<pre>| 0            | 10062   | 0.0024846   | 321.905ms    |</pre>"
      ],
      "text/plain": [
       "| 0            | 10062   | 0.0024846   | 321.905ms    |"
      ]
     },
     "metadata": {},
     "output_type": "display_data"
    },
    {
     "data": {
      "text/html": [
       "<pre>| 39           | 794898  | 0.196283    | 1.35s        |</pre>"
      ],
      "text/plain": [
       "| 39           | 794898  | 0.196283    | 1.35s        |"
      ]
     },
     "metadata": {},
     "output_type": "display_data"
    },
    {
     "data": {
      "text/html": [
       "<pre>| 84           | 1700478 | 0.419897    | 2.34s        |</pre>"
      ],
      "text/plain": [
       "| 84           | 1700478 | 0.419897    | 2.34s        |"
      ]
     },
     "metadata": {},
     "output_type": "display_data"
    },
    {
     "data": {
      "text/html": [
       "<pre>| 136          | 2746926 | 0.678295    | 3.33s        |</pre>"
      ],
      "text/plain": [
       "| 136          | 2746926 | 0.678295    | 3.33s        |"
      ]
     },
     "metadata": {},
     "output_type": "display_data"
    },
    {
     "data": {
      "text/html": [
       "<pre>| 171          | 3441204 | 0.849732    | 4.34s        |</pre>"
      ],
      "text/plain": [
       "| 171          | 3441204 | 0.849732    | 4.34s        |"
      ]
     },
     "metadata": {},
     "output_type": "display_data"
    },
    {
     "data": {
      "text/html": [
       "<pre>| 231          | 4658706 | 1.15037     | 5.36s        |</pre>"
      ],
      "text/plain": [
       "| 231          | 4658706 | 1.15037     | 5.36s        |"
      ]
     },
     "metadata": {},
     "output_type": "display_data"
    },
    {
     "data": {
      "text/html": [
       "<pre>| 280          | 5644782 | 1.39386     | 6.36s        |</pre>"
      ],
      "text/plain": [
       "| 280          | 5644782 | 1.39386     | 6.36s        |"
      ]
     },
     "metadata": {},
     "output_type": "display_data"
    },
    {
     "data": {
      "text/html": [
       "<pre>| 330          | 6640920 | 1.63983     | 7.36s        |</pre>"
      ],
      "text/plain": [
       "| 330          | 6640920 | 1.63983     | 7.36s        |"
      ]
     },
     "metadata": {},
     "output_type": "display_data"
    },
    {
     "data": {
      "text/html": [
       "<pre>| 381          | 7677306 | 1.89575     | 8.35s        |</pre>"
      ],
      "text/plain": [
       "| 381          | 7677306 | 1.89575     | 8.35s        |"
      ]
     },
     "metadata": {},
     "output_type": "display_data"
    },
    {
     "data": {
      "text/html": [
       "<pre>| 429          | 8643258 | 2.13427     | 9.35s        |</pre>"
      ],
      "text/plain": [
       "| 429          | 8643258 | 2.13427     | 9.35s        |"
      ]
     },
     "metadata": {},
     "output_type": "display_data"
    },
    {
     "data": {
      "text/html": [
       "<pre>| 485          | 9770202 | 2.41254     | 10.35s       |</pre>"
      ],
      "text/plain": [
       "| 485          | 9770202 | 2.41254     | 10.35s       |"
      ]
     },
     "metadata": {},
     "output_type": "display_data"
    },
    {
     "data": {
      "text/html": [
       "<pre>| 548          | 1.1e+07 | 2.7256      | 11.36s       |</pre>"
      ],
      "text/plain": [
       "| 548          | 1.1e+07 | 2.7256      | 11.36s       |"
      ]
     },
     "metadata": {},
     "output_type": "display_data"
    },
    {
     "data": {
      "text/html": [
       "<pre>| 612          | 1.2e+07 | 3.04363     | 12.37s       |</pre>"
      ],
      "text/plain": [
       "| 612          | 1.2e+07 | 3.04363     | 12.37s       |"
      ]
     },
     "metadata": {},
     "output_type": "display_data"
    },
    {
     "data": {
      "text/html": [
       "<pre>| 675          | 1.4e+07 | 3.35669     | 13.37s       |</pre>"
      ],
      "text/plain": [
       "| 675          | 1.4e+07 | 3.35669     | 13.37s       |"
      ]
     },
     "metadata": {},
     "output_type": "display_data"
    },
    {
     "data": {
      "text/html": [
       "<pre>| 729          | 1.5e+07 | 3.62502     | 14.37s       |</pre>"
      ],
      "text/plain": [
       "| 729          | 1.5e+07 | 3.62502     | 14.37s       |"
      ]
     },
     "metadata": {},
     "output_type": "display_data"
    },
    {
     "data": {
      "text/html": [
       "<pre>| 786          | 1.6e+07 | 3.90827     | 15.37s       |</pre>"
      ],
      "text/plain": [
       "| 786          | 1.6e+07 | 3.90827     | 15.37s       |"
      ]
     },
     "metadata": {},
     "output_type": "display_data"
    },
    {
     "data": {
      "text/html": [
       "<pre>| 839          | 1.7e+07 | 4.17164     | 16.37s       |</pre>"
      ],
      "text/plain": [
       "| 839          | 1.7e+07 | 4.17164     | 16.37s       |"
      ]
     },
     "metadata": {},
     "output_type": "display_data"
    },
    {
     "data": {
      "text/html": [
       "<pre>| 897          | 1.8e+07 | 4.45985     | 17.38s       |</pre>"
      ],
      "text/plain": [
       "| 897          | 1.8e+07 | 4.45985     | 17.38s       |"
      ]
     },
     "metadata": {},
     "output_type": "display_data"
    },
    {
     "data": {
      "text/html": [
       "<pre>| 959          | 1.9e+07 | 4.76545     | 18.38s       |</pre>"
      ],
      "text/plain": [
       "| 959          | 1.9e+07 | 4.76545     | 18.38s       |"
      ]
     },
     "metadata": {},
     "output_type": "display_data"
    },
    {
     "data": {
      "text/html": [
       "<pre>| 1015         | 2e+07   | 5.04621     | 19.38s       |</pre>"
      ],
      "text/plain": [
       "| 1015         | 2e+07   | 5.04621     | 19.38s       |"
      ]
     },
     "metadata": {},
     "output_type": "display_data"
    },
    {
     "data": {
      "text/html": [
       "<pre>| 1079         | 2.2e+07 | 5.36176     | 20.41s       |</pre>"
      ],
      "text/plain": [
       "| 1079         | 2.2e+07 | 5.36176     | 20.41s       |"
      ]
     },
     "metadata": {},
     "output_type": "display_data"
    },
    {
     "data": {
      "text/html": [
       "<pre>| 1124         | 2.3e+07 | 5.58786     | 21.39s       |</pre>"
      ],
      "text/plain": [
       "| 1124         | 2.3e+07 | 5.58786     | 21.39s       |"
      ]
     },
     "metadata": {},
     "output_type": "display_data"
    },
    {
     "data": {
      "text/html": [
       "<pre>| 1181         | 2.4e+07 | 5.8711      | 22.39s       |</pre>"
      ],
      "text/plain": [
       "| 1181         | 2.4e+07 | 5.8711      | 22.39s       |"
      ]
     },
     "metadata": {},
     "output_type": "display_data"
    },
    {
     "data": {
      "text/html": [
       "<pre>| 1238         | 2.5e+07 | 6.15186     | 23.39s       |</pre>"
      ],
      "text/plain": [
       "| 1238         | 2.5e+07 | 6.15186     | 23.39s       |"
      ]
     },
     "metadata": {},
     "output_type": "display_data"
    },
    {
     "data": {
      "text/html": [
       "<pre>| 1288         | 2.6e+07 | 6.40032     | 24.39s       |</pre>"
      ],
      "text/plain": [
       "| 1288         | 2.6e+07 | 6.40032     | 24.39s       |"
      ]
     },
     "metadata": {},
     "output_type": "display_data"
    },
    {
     "data": {
      "text/html": [
       "<pre>| 1336         | 2.7e+07 | 6.63884     | 25.40s       |</pre>"
      ],
      "text/plain": [
       "| 1336         | 2.7e+07 | 6.63884     | 25.40s       |"
      ]
     },
     "metadata": {},
     "output_type": "display_data"
    },
    {
     "data": {
      "text/html": [
       "<pre>| 1394         | 2.8e+07 | 6.92954     | 26.40s       |</pre>"
      ],
      "text/plain": [
       "| 1394         | 2.8e+07 | 6.92954     | 26.40s       |"
      ]
     },
     "metadata": {},
     "output_type": "display_data"
    },
    {
     "data": {
      "text/html": [
       "<pre>| 1453         | 2.9e+07 | 7.22023     | 27.42s       |</pre>"
      ],
      "text/plain": [
       "| 1453         | 2.9e+07 | 7.22023     | 27.42s       |"
      ]
     },
     "metadata": {},
     "output_type": "display_data"
    },
    {
     "data": {
      "text/html": [
       "<pre>| 1510         | 3e+07   | 7.50596     | 28.43s       |</pre>"
      ],
      "text/plain": [
       "| 1510         | 3e+07   | 7.50596     | 28.43s       |"
      ]
     },
     "metadata": {},
     "output_type": "display_data"
    },
    {
     "data": {
      "text/html": [
       "<pre>| 1570         | 3.2e+07 | 7.80163     | 29.43s       |</pre>"
      ],
      "text/plain": [
       "| 1570         | 3.2e+07 | 7.80163     | 29.43s       |"
      ]
     },
     "metadata": {},
     "output_type": "display_data"
    },
    {
     "data": {
      "text/html": [
       "<pre>| 1629         | 3.3e+07 | 8.0973      | 30.41s       |</pre>"
      ],
      "text/plain": [
       "| 1629         | 3.3e+07 | 8.0973      | 30.41s       |"
      ]
     },
     "metadata": {},
     "output_type": "display_data"
    },
    {
     "data": {
      "text/html": [
       "<pre>| 1692         | 3.4e+07 | 8.41036     | 31.42s       |</pre>"
      ],
      "text/plain": [
       "| 1692         | 3.4e+07 | 8.41036     | 31.42s       |"
      ]
     },
     "metadata": {},
     "output_type": "display_data"
    },
    {
     "data": {
      "text/html": [
       "<pre>| 1749         | 3.5e+07 | 8.6936      | 32.42s       |</pre>"
      ],
      "text/plain": [
       "| 1749         | 3.5e+07 | 8.6936      | 32.42s       |"
      ]
     },
     "metadata": {},
     "output_type": "display_data"
    },
    {
     "data": {
      "text/html": [
       "<pre>| 1801         | 3.6e+07 | 8.952       | 33.45s       |</pre>"
      ],
      "text/plain": [
       "| 1801         | 3.6e+07 | 8.952       | 33.45s       |"
      ]
     },
     "metadata": {},
     "output_type": "display_data"
    },
    {
     "data": {
      "text/html": [
       "<pre>| 1850         | 3.7e+07 | 9.19549     | 34.43s       |</pre>"
      ],
      "text/plain": [
       "| 1850         | 3.7e+07 | 9.19549     | 34.43s       |"
      ]
     },
     "metadata": {},
     "output_type": "display_data"
    },
    {
     "data": {
      "text/html": [
       "<pre>| 1907         | 3.8e+07 | 9.47625     | 35.43s       |</pre>"
      ],
      "text/plain": [
       "| 1907         | 3.8e+07 | 9.47625     | 35.43s       |"
      ]
     },
     "metadata": {},
     "output_type": "display_data"
    },
    {
     "data": {
      "text/html": [
       "<pre>| 1963         | 4e+07   | 9.75452     | 36.43s       |</pre>"
      ],
      "text/plain": [
       "| 1963         | 4e+07   | 9.75452     | 36.43s       |"
      ]
     },
     "metadata": {},
     "output_type": "display_data"
    },
    {
     "data": {
      "text/html": [
       "<pre>| 2023         | 4.1e+07 | 10.0527     | 37.45s       |</pre>"
      ],
      "text/plain": [
       "| 2023         | 4.1e+07 | 10.0527     | 37.45s       |"
      ]
     },
     "metadata": {},
     "output_type": "display_data"
    },
    {
     "data": {
      "text/html": [
       "<pre>| 2081         | 4.2e+07 | 10.3409     | 38.44s       |</pre>"
      ],
      "text/plain": [
       "| 2081         | 4.2e+07 | 10.3409     | 38.44s       |"
      ]
     },
     "metadata": {},
     "output_type": "display_data"
    },
    {
     "data": {
      "text/html": [
       "<pre>| 2141         | 4.3e+07 | 10.6415     | 39.45s       |</pre>"
      ],
      "text/plain": [
       "| 2141         | 4.3e+07 | 10.6415     | 39.45s       |"
      ]
     },
     "metadata": {},
     "output_type": "display_data"
    },
    {
     "data": {
      "text/html": [
       "<pre>| 2195         | 4.4e+07 | 10.9099     | 40.45s       |</pre>"
      ],
      "text/plain": [
       "| 2195         | 4.4e+07 | 10.9099     | 40.45s       |"
      ]
     },
     "metadata": {},
     "output_type": "display_data"
    },
    {
     "data": {
      "text/html": [
       "<pre>| 2255         | 4.5e+07 | 11.2055     | 41.45s       |</pre>"
      ],
      "text/plain": [
       "| 2255         | 4.5e+07 | 11.2055     | 41.45s       |"
      ]
     },
     "metadata": {},
     "output_type": "display_data"
    },
    {
     "data": {
      "text/html": [
       "<pre>| 2319         | 4.7e+07 | 11.5236     | 42.47s       |</pre>"
      ],
      "text/plain": [
       "| 2319         | 4.7e+07 | 11.5236     | 42.47s       |"
      ]
     },
     "metadata": {},
     "output_type": "display_data"
    },
    {
     "data": {
      "text/html": [
       "<pre>| 2367         | 4.8e+07 | 11.7621     | 43.46s       |</pre>"
      ],
      "text/plain": [
       "| 2367         | 4.8e+07 | 11.7621     | 43.46s       |"
      ]
     },
     "metadata": {},
     "output_type": "display_data"
    },
    {
     "data": {
      "text/html": [
       "<pre>| 2428         | 4.9e+07 | 12.0677     | 44.46s       |</pre>"
      ],
      "text/plain": [
       "| 2428         | 4.9e+07 | 12.0677     | 44.46s       |"
      ]
     },
     "metadata": {},
     "output_type": "display_data"
    },
    {
     "data": {
      "text/html": [
       "<pre>| 2488         | 5e+07   | 12.3658     | 45.46s       |</pre>"
      ],
      "text/plain": [
       "| 2488         | 5e+07   | 12.3658     | 45.46s       |"
      ]
     },
     "metadata": {},
     "output_type": "display_data"
    },
    {
     "data": {
      "text/html": [
       "<pre>| 2544         | 5.1e+07 | 12.6416     | 46.46s       |</pre>"
      ],
      "text/plain": [
       "| 2544         | 5.1e+07 | 12.6416     | 46.46s       |"
      ]
     },
     "metadata": {},
     "output_type": "display_data"
    },
    {
     "data": {
      "text/html": [
       "<pre>| 2606         | 5.2e+07 | 12.9497     | 47.47s       |</pre>"
      ],
      "text/plain": [
       "| 2606         | 5.2e+07 | 12.9497     | 47.47s       |"
      ]
     },
     "metadata": {},
     "output_type": "display_data"
    },
    {
     "data": {
      "text/html": [
       "<pre>| 2659         | 5.4e+07 | 13.2156     | 48.47s       |</pre>"
      ],
      "text/plain": [
       "| 2659         | 5.4e+07 | 13.2156     | 48.47s       |"
      ]
     },
     "metadata": {},
     "output_type": "display_data"
    },
    {
     "data": {
      "text/html": [
       "<pre>| 2719         | 5.5e+07 | 13.5137     | 49.47s       |</pre>"
      ],
      "text/plain": [
       "| 2719         | 5.5e+07 | 13.5137     | 49.47s       |"
      ]
     },
     "metadata": {},
     "output_type": "display_data"
    },
    {
     "data": {
      "text/html": [
       "<pre>| 2779         | 5.6e+07 | 13.8094     | 50.48s       |</pre>"
      ],
      "text/plain": [
       "| 2779         | 5.6e+07 | 13.8094     | 50.48s       |"
      ]
     },
     "metadata": {},
     "output_type": "display_data"
    },
    {
     "data": {
      "text/html": [
       "<pre>| 2832         | 5.7e+07 | 14.0727     | 51.50s       |</pre>"
      ],
      "text/plain": [
       "| 2832         | 5.7e+07 | 14.0727     | 51.50s       |"
      ]
     },
     "metadata": {},
     "output_type": "display_data"
    },
    {
     "data": {
      "text/html": [
       "<pre>| 2865         | 5.8e+07 | 14.2367     | 52.49s       |</pre>"
      ],
      "text/plain": [
       "| 2865         | 5.8e+07 | 14.2367     | 52.49s       |"
      ]
     },
     "metadata": {},
     "output_type": "display_data"
    },
    {
     "data": {
      "text/html": [
       "<pre>| 2897         | 5.8e+07 | 14.3957     | 53.48s       |</pre>"
      ],
      "text/plain": [
       "| 2897         | 5.8e+07 | 14.3957     | 53.48s       |"
      ]
     },
     "metadata": {},
     "output_type": "display_data"
    },
    {
     "data": {
      "text/html": [
       "<pre>| 2934         | 5.9e+07 | 14.5796     | 54.49s       |</pre>"
      ],
      "text/plain": [
       "| 2934         | 5.9e+07 | 14.5796     | 54.49s       |"
      ]
     },
     "metadata": {},
     "output_type": "display_data"
    },
    {
     "data": {
      "text/html": [
       "<pre>| 2985         | 6e+07   | 14.8355     | 55.49s       |</pre>"
      ],
      "text/plain": [
       "| 2985         | 6e+07   | 14.8355     | 55.49s       |"
      ]
     },
     "metadata": {},
     "output_type": "display_data"
    },
    {
     "data": {
      "text/html": [
       "<pre>| 3042         | 6.1e+07 | 15.1163     | 56.50s       |</pre>"
      ],
      "text/plain": [
       "| 3042         | 6.1e+07 | 15.1163     | 56.50s       |"
      ]
     },
     "metadata": {},
     "output_type": "display_data"
    },
    {
     "data": {
      "text/html": [
       "<pre>| 3099         | 6.2e+07 | 15.402      | 57.49s       |</pre>"
      ],
      "text/plain": [
       "| 3099         | 6.2e+07 | 15.402      | 57.49s       |"
      ]
     },
     "metadata": {},
     "output_type": "display_data"
    },
    {
     "data": {
      "text/html": [
       "<pre>| 3153         | 6.3e+07 | 15.6703     | 58.52s       |</pre>"
      ],
      "text/plain": [
       "| 3153         | 6.3e+07 | 15.6703     | 58.52s       |"
      ]
     },
     "metadata": {},
     "output_type": "display_data"
    },
    {
     "data": {
      "text/html": [
       "<pre>| 3212         | 6.5e+07 | 15.961      | 59.50s       |</pre>"
      ],
      "text/plain": [
       "| 3212         | 6.5e+07 | 15.961      | 59.50s       |"
      ]
     },
     "metadata": {},
     "output_type": "display_data"
    },
    {
     "data": {
      "text/html": [
       "<pre>| 3272         | 6.6e+07 | 16.2617     | 1m 0s        |</pre>"
      ],
      "text/plain": [
       "| 3272         | 6.6e+07 | 16.2617     | 1m 0s        |"
      ]
     },
     "metadata": {},
     "output_type": "display_data"
    },
    {
     "data": {
      "text/html": [
       "<pre>| 3335         | 6.7e+07 | 16.5723     | 1m 1s        |</pre>"
      ],
      "text/plain": [
       "| 3335         | 6.7e+07 | 16.5723     | 1m 1s        |"
      ]
     },
     "metadata": {},
     "output_type": "display_data"
    },
    {
     "data": {
      "text/html": [
       "<pre>| 3394         | 6.8e+07 | 16.8679     | 1m 2s        |</pre>"
      ],
      "text/plain": [
       "| 3394         | 6.8e+07 | 16.8679     | 1m 2s        |"
      ]
     },
     "metadata": {},
     "output_type": "display_data"
    },
    {
     "data": {
      "text/html": [
       "<pre>| 3457         | 7e+07   | 17.181      | 1m 3s        |</pre>"
      ],
      "text/plain": [
       "| 3457         | 7e+07   | 17.181      | 1m 3s        |"
      ]
     },
     "metadata": {},
     "output_type": "display_data"
    },
    {
     "data": {
      "text/html": [
       "<pre>| 3516         | 7.1e+07 | 17.4717     | 1m 4s        |</pre>"
      ],
      "text/plain": [
       "| 3516         | 7.1e+07 | 17.4717     | 1m 4s        |"
      ]
     },
     "metadata": {},
     "output_type": "display_data"
    },
    {
     "data": {
      "text/html": [
       "<pre>| 3575         | 7.2e+07 | 17.7649     | 1m 5s        |</pre>"
      ],
      "text/plain": [
       "| 3575         | 7.2e+07 | 17.7649     | 1m 5s        |"
      ]
     },
     "metadata": {},
     "output_type": "display_data"
    },
    {
     "data": {
      "text/html": [
       "<pre>| 3631         | 7.3e+07 | 18.0431     | 1m 6s        |</pre>"
      ],
      "text/plain": [
       "| 3631         | 7.3e+07 | 18.0431     | 1m 6s        |"
      ]
     },
     "metadata": {},
     "output_type": "display_data"
    },
    {
     "data": {
      "text/html": [
       "<pre>| 3681         | 7.4e+07 | 18.2941     | 1m 7s        |</pre>"
      ],
      "text/plain": [
       "| 3681         | 7.4e+07 | 18.2941     | 1m 7s        |"
      ]
     },
     "metadata": {},
     "output_type": "display_data"
    },
    {
     "data": {
      "text/html": [
       "<pre>| 3736         | 7.5e+07 | 18.5674     | 1m 8s        |</pre>"
      ],
      "text/plain": [
       "| 3736         | 7.5e+07 | 18.5674     | 1m 8s        |"
      ]
     },
     "metadata": {},
     "output_type": "display_data"
    },
    {
     "data": {
      "text/html": [
       "<pre>| 3791         | 7.6e+07 | 18.8382     | 1m 9s        |</pre>"
      ],
      "text/plain": [
       "| 3791         | 7.6e+07 | 18.8382     | 1m 9s        |"
      ]
     },
     "metadata": {},
     "output_type": "display_data"
    },
    {
     "data": {
      "text/html": [
       "<pre>| 3854         | 7.8e+07 | 19.1513     | 1m 10s       |</pre>"
      ],
      "text/plain": [
       "| 3854         | 7.8e+07 | 19.1513     | 1m 10s       |"
      ]
     },
     "metadata": {},
     "output_type": "display_data"
    },
    {
     "data": {
      "text/html": [
       "<pre>| 3914         | 7.9e+07 | 19.4494     | 1m 11s       |</pre>"
      ],
      "text/plain": [
       "| 3914         | 7.9e+07 | 19.4494     | 1m 11s       |"
      ]
     },
     "metadata": {},
     "output_type": "display_data"
    },
    {
     "data": {
      "text/html": [
       "<pre>| 3975         | 8e+07   | 19.7525     | 1m 12s       |</pre>"
      ],
      "text/plain": [
       "| 3975         | 8e+07   | 19.7525     | 1m 12s       |"
      ]
     },
     "metadata": {},
     "output_type": "display_data"
    },
    {
     "data": {
      "text/html": [
       "<pre>| 4035         | 8.1e+07 | 20.0532     | 1m 13s       |</pre>"
      ],
      "text/plain": [
       "| 4035         | 8.1e+07 | 20.0532     | 1m 13s       |"
      ]
     },
     "metadata": {},
     "output_type": "display_data"
    },
    {
     "data": {
      "text/html": [
       "<pre>| 4090         | 8.2e+07 | 20.3265     | 1m 14s       |</pre>"
      ],
      "text/plain": [
       "| 4090         | 8.2e+07 | 20.3265     | 1m 14s       |"
      ]
     },
     "metadata": {},
     "output_type": "display_data"
    },
    {
     "data": {
      "text/html": [
       "<pre>| 4149         | 8.4e+07 | 20.6197     | 1m 15s       |</pre>"
      ],
      "text/plain": [
       "| 4149         | 8.4e+07 | 20.6197     | 1m 15s       |"
      ]
     },
     "metadata": {},
     "output_type": "display_data"
    },
    {
     "data": {
      "text/html": [
       "<pre>| 4207         | 8.5e+07 | 20.9054     | 1m 16s       |</pre>"
      ],
      "text/plain": [
       "| 4207         | 8.5e+07 | 20.9054     | 1m 16s       |"
      ]
     },
     "metadata": {},
     "output_type": "display_data"
    },
    {
     "data": {
      "text/html": [
       "<pre>| 4252         | 8.6e+07 | 21.129      | 1m 17s       |</pre>"
      ],
      "text/plain": [
       "| 4252         | 8.6e+07 | 21.129      | 1m 17s       |"
      ]
     },
     "metadata": {},
     "output_type": "display_data"
    },
    {
     "data": {
      "text/html": [
       "<pre>| 4288         | 8.6e+07 | 21.3079     | 1m 18s       |</pre>"
      ],
      "text/plain": [
       "| 4288         | 8.6e+07 | 21.3079     | 1m 18s       |"
      ]
     },
     "metadata": {},
     "output_type": "display_data"
    },
    {
     "data": {
      "text/html": [
       "<pre>| 4321         | 8.7e+07 | 21.4719     | 1m 19s       |</pre>"
      ],
      "text/plain": [
       "| 4321         | 8.7e+07 | 21.4719     | 1m 19s       |"
      ]
     },
     "metadata": {},
     "output_type": "display_data"
    },
    {
     "data": {
      "text/html": [
       "<pre>| 4354         | 8.8e+07 | 21.6359     | 1m 20s       |</pre>"
      ],
      "text/plain": [
       "| 4354         | 8.8e+07 | 21.6359     | 1m 20s       |"
      ]
     },
     "metadata": {},
     "output_type": "display_data"
    },
    {
     "data": {
      "text/html": [
       "<pre>| 4402         | 8.9e+07 | 21.8769     | 1m 21s       |</pre>"
      ],
      "text/plain": [
       "| 4402         | 8.9e+07 | 21.8769     | 1m 21s       |"
      ]
     },
     "metadata": {},
     "output_type": "display_data"
    },
    {
     "data": {
      "text/html": [
       "<pre>| 4454         | 9e+07   | 22.1328     | 1m 22s       |</pre>"
      ],
      "text/plain": [
       "| 4454         | 9e+07   | 22.1328     | 1m 22s       |"
      ]
     },
     "metadata": {},
     "output_type": "display_data"
    },
    {
     "data": {
      "text/html": [
       "<pre>| 4507         | 9.1e+07 | 22.3986     | 1m 23s       |</pre>"
      ],
      "text/plain": [
       "| 4507         | 9.1e+07 | 22.3986     | 1m 23s       |"
      ]
     },
     "metadata": {},
     "output_type": "display_data"
    },
    {
     "data": {
      "text/html": [
       "<pre>| 4564         | 9.2e+07 | 22.6794     | 1m 24s       |</pre>"
      ],
      "text/plain": [
       "| 4564         | 9.2e+07 | 22.6794     | 1m 24s       |"
      ]
     },
     "metadata": {},
     "output_type": "display_data"
    },
    {
     "data": {
      "text/html": [
       "<pre>| 4625         | 9.3e+07 | 22.985      | 1m 25s       |</pre>"
      ],
      "text/plain": [
       "| 4625         | 9.3e+07 | 22.985      | 1m 25s       |"
      ]
     },
     "metadata": {},
     "output_type": "display_data"
    },
    {
     "data": {
      "text/html": [
       "<pre>| 4687         | 9.4e+07 | 23.2906     | 1m 26s       |</pre>"
      ],
      "text/plain": [
       "| 4687         | 9.4e+07 | 23.2906     | 1m 26s       |"
      ]
     },
     "metadata": {},
     "output_type": "display_data"
    },
    {
     "data": {
      "text/html": [
       "<pre>| 4749         | 9.6e+07 | 23.5987     | 1m 27s       |</pre>"
      ],
      "text/plain": [
       "| 4749         | 9.6e+07 | 23.5987     | 1m 27s       |"
      ]
     },
     "metadata": {},
     "output_type": "display_data"
    },
    {
     "data": {
      "text/html": [
       "<pre>| 4808         | 9.7e+07 | 23.8919     | 1m 28s       |</pre>"
      ],
      "text/plain": [
       "| 4808         | 9.7e+07 | 23.8919     | 1m 28s       |"
      ]
     },
     "metadata": {},
     "output_type": "display_data"
    },
    {
     "data": {
      "text/html": [
       "<pre>| 4863         | 9.8e+07 | 24.1677     | 1m 29s       |</pre>"
      ],
      "text/plain": [
       "| 4863         | 9.8e+07 | 24.1677     | 1m 29s       |"
      ]
     },
     "metadata": {},
     "output_type": "display_data"
    },
    {
     "data": {
      "text/html": [
       "<pre>| 4918         | 9.9e+07 | 24.4385     | 1m 30s       |</pre>"
      ],
      "text/plain": [
       "| 4918         | 9.9e+07 | 24.4385     | 1m 30s       |"
      ]
     },
     "metadata": {},
     "output_type": "display_data"
    },
    {
     "data": {
      "text/html": [
       "<pre>| 4976         | 1e+08   | 24.7267     | 1m 31s       |</pre>"
      ],
      "text/plain": [
       "| 4976         | 1e+08   | 24.7267     | 1m 31s       |"
      ]
     },
     "metadata": {},
     "output_type": "display_data"
    },
    {
     "data": {
      "text/html": [
       "<pre>| 5038         | 1e+08   | 25.0348     | 1m 32s       |</pre>"
      ],
      "text/plain": [
       "| 5038         | 1e+08   | 25.0348     | 1m 32s       |"
      ]
     },
     "metadata": {},
     "output_type": "display_data"
    },
    {
     "data": {
      "text/html": [
       "<pre>| 5101         | 1e+08   | 25.3478     | 1m 33s       |</pre>"
      ],
      "text/plain": [
       "| 5101         | 1e+08   | 25.3478     | 1m 33s       |"
      ]
     },
     "metadata": {},
     "output_type": "display_data"
    },
    {
     "data": {
      "text/html": [
       "<pre>| 5160         | 1e+08   | 25.6435     | 1m 34s       |</pre>"
      ],
      "text/plain": [
       "| 5160         | 1e+08   | 25.6435     | 1m 34s       |"
      ]
     },
     "metadata": {},
     "output_type": "display_data"
    },
    {
     "data": {
      "text/html": [
       "<pre>| 5221         | 1.1e+08 | 25.9441     | 1m 35s       |</pre>"
      ],
      "text/plain": [
       "| 5221         | 1.1e+08 | 25.9441     | 1m 35s       |"
      ]
     },
     "metadata": {},
     "output_type": "display_data"
    },
    {
     "data": {
      "text/html": [
       "<pre>| 5267         | 1.1e+08 | 26.1752     | 1m 36s       |</pre>"
      ],
      "text/plain": [
       "| 5267         | 1.1e+08 | 26.1752     | 1m 36s       |"
      ]
     },
     "metadata": {},
     "output_type": "display_data"
    },
    {
     "data": {
      "text/html": [
       "<pre>| 5328         | 1.1e+08 | 26.4758     | 1m 37s       |</pre>"
      ],
      "text/plain": [
       "| 5328         | 1.1e+08 | 26.4758     | 1m 37s       |"
      ]
     },
     "metadata": {},
     "output_type": "display_data"
    },
    {
     "data": {
      "text/html": [
       "<pre>| 5386         | 1.1e+08 | 26.7641     | 1m 38s       |</pre>"
      ],
      "text/plain": [
       "| 5386         | 1.1e+08 | 26.7641     | 1m 38s       |"
      ]
     },
     "metadata": {},
     "output_type": "display_data"
    },
    {
     "data": {
      "text/html": [
       "<pre>| 5442         | 1.1e+08 | 27.0423     | 1m 39s       |</pre>"
      ],
      "text/plain": [
       "| 5442         | 1.1e+08 | 27.0423     | 1m 39s       |"
      ]
     },
     "metadata": {},
     "output_type": "display_data"
    },
    {
     "data": {
      "text/html": [
       "<pre>| 5498         | 1.1e+08 | 27.3206     | 1m 40s       |</pre>"
      ],
      "text/plain": [
       "| 5498         | 1.1e+08 | 27.3206     | 1m 40s       |"
      ]
     },
     "metadata": {},
     "output_type": "display_data"
    },
    {
     "data": {
      "text/html": [
       "<pre>| 5560         | 1.1e+08 | 27.6312     | 1m 41s       |</pre>"
      ],
      "text/plain": [
       "| 5560         | 1.1e+08 | 27.6312     | 1m 41s       |"
      ]
     },
     "metadata": {},
     "output_type": "display_data"
    },
    {
     "data": {
      "text/html": [
       "<pre>| 5618         | 1.1e+08 | 27.9194     | 1m 42s       |</pre>"
      ],
      "text/plain": [
       "| 5618         | 1.1e+08 | 27.9194     | 1m 42s       |"
      ]
     },
     "metadata": {},
     "output_type": "display_data"
    },
    {
     "data": {
      "text/html": [
       "<pre>| 5674         | 1.1e+08 | 28.1952     | 1m 43s       |</pre>"
      ],
      "text/plain": [
       "| 5674         | 1.1e+08 | 28.1952     | 1m 43s       |"
      ]
     },
     "metadata": {},
     "output_type": "display_data"
    },
    {
     "data": {
      "text/html": [
       "<pre>| 5733         | 1.2e+08 | 28.4909     | 1m 44s       |</pre>"
      ],
      "text/plain": [
       "| 5733         | 1.2e+08 | 28.4909     | 1m 44s       |"
      ]
     },
     "metadata": {},
     "output_type": "display_data"
    },
    {
     "data": {
      "text/html": [
       "<pre>| 5788         | 1.2e+08 | 28.7642     | 1m 45s       |</pre>"
      ],
      "text/plain": [
       "| 5788         | 1.2e+08 | 28.7642     | 1m 45s       |"
      ]
     },
     "metadata": {},
     "output_type": "display_data"
    },
    {
     "data": {
      "text/html": [
       "<pre>| 5851         | 1.2e+08 | 29.0747     | 1m 46s       |</pre>"
      ],
      "text/plain": [
       "| 5851         | 1.2e+08 | 29.0747     | 1m 46s       |"
      ]
     },
     "metadata": {},
     "output_type": "display_data"
    },
    {
     "data": {
      "text/html": [
       "<pre>| 5912         | 1.2e+08 | 29.3779     | 1m 47s       |</pre>"
      ],
      "text/plain": [
       "| 5912         | 1.2e+08 | 29.3779     | 1m 47s       |"
      ]
     },
     "metadata": {},
     "output_type": "display_data"
    },
    {
     "data": {
      "text/html": [
       "<pre>| 5968         | 1.2e+08 | 29.6586     | 1m 48s       |</pre>"
      ],
      "text/plain": [
       "| 5968         | 1.2e+08 | 29.6586     | 1m 48s       |"
      ]
     },
     "metadata": {},
     "output_type": "display_data"
    },
    {
     "data": {
      "text/html": [
       "<pre>| 6027         | 1.2e+08 | 29.9518     | 1m 49s       |</pre>"
      ],
      "text/plain": [
       "| 6027         | 1.2e+08 | 29.9518     | 1m 49s       |"
      ]
     },
     "metadata": {},
     "output_type": "display_data"
    },
    {
     "data": {
      "text/html": [
       "<pre>| 6089         | 1.2e+08 | 30.2574     | 1m 50s       |</pre>"
      ],
      "text/plain": [
       "| 6089         | 1.2e+08 | 30.2574     | 1m 50s       |"
      ]
     },
     "metadata": {},
     "output_type": "display_data"
    },
    {
     "data": {
      "text/html": [
       "<pre>| 6150         | 1.2e+08 | 30.563      | 1m 51s       |</pre>"
      ],
      "text/plain": [
       "| 6150         | 1.2e+08 | 30.563      | 1m 51s       |"
      ]
     },
     "metadata": {},
     "output_type": "display_data"
    },
    {
     "data": {
      "text/html": [
       "<pre>| 6207         | 1.2e+08 | 30.8438     | 1m 52s       |</pre>"
      ],
      "text/plain": [
       "| 6207         | 1.2e+08 | 30.8438     | 1m 52s       |"
      ]
     },
     "metadata": {},
     "output_type": "display_data"
    },
    {
     "data": {
      "text/html": [
       "<pre>| 6269         | 1.3e+08 | 31.1543     | 1m 53s       |</pre>"
      ],
      "text/plain": [
       "| 6269         | 1.3e+08 | 31.1543     | 1m 53s       |"
      ]
     },
     "metadata": {},
     "output_type": "display_data"
    },
    {
     "data": {
      "text/html": [
       "<pre>| 6328         | 1.3e+08 | 31.4475     | 1m 54s       |</pre>"
      ],
      "text/plain": [
       "| 6328         | 1.3e+08 | 31.4475     | 1m 54s       |"
      ]
     },
     "metadata": {},
     "output_type": "display_data"
    },
    {
     "data": {
      "text/html": [
       "<pre>| 6376         | 1.3e+08 | 31.6836     | 1m 55s       |</pre>"
      ],
      "text/plain": [
       "| 6376         | 1.3e+08 | 31.6836     | 1m 55s       |"
      ]
     },
     "metadata": {},
     "output_type": "display_data"
    },
    {
     "data": {
      "text/html": [
       "<pre>| 6408         | 1.3e+08 | 31.8451     | 1m 56s       |</pre>"
      ],
      "text/plain": [
       "| 6408         | 1.3e+08 | 31.8451     | 1m 56s       |"
      ]
     },
     "metadata": {},
     "output_type": "display_data"
    },
    {
     "data": {
      "text/html": [
       "<pre>| 6444         | 1.3e+08 | 32.0215     | 1m 57s       |</pre>"
      ],
      "text/plain": [
       "| 6444         | 1.3e+08 | 32.0215     | 1m 57s       |"
      ]
     },
     "metadata": {},
     "output_type": "display_data"
    },
    {
     "data": {
      "text/html": [
       "<pre>| 6483         | 1.3e+08 | 32.2177     | 1m 58s       |</pre>"
      ],
      "text/plain": [
       "| 6483         | 1.3e+08 | 32.2177     | 1m 58s       |"
      ]
     },
     "metadata": {},
     "output_type": "display_data"
    },
    {
     "data": {
      "text/html": [
       "<pre>| 6532         | 1.3e+08 | 32.4588     | 1m 59s       |</pre>"
      ],
      "text/plain": [
       "| 6532         | 1.3e+08 | 32.4588     | 1m 59s       |"
      ]
     },
     "metadata": {},
     "output_type": "display_data"
    },
    {
     "data": {
      "text/html": [
       "<pre>| 6589         | 1.3e+08 | 32.742      | 2m 0s        |</pre>"
      ],
      "text/plain": [
       "| 6589         | 1.3e+08 | 32.742      | 2m 0s        |"
      ]
     },
     "metadata": {},
     "output_type": "display_data"
    },
    {
     "data": {
      "text/html": [
       "<pre>| 6650         | 1.3e+08 | 33.0451     | 2m 1s        |</pre>"
      ],
      "text/plain": [
       "| 6650         | 1.3e+08 | 33.0451     | 2m 1s        |"
      ]
     },
     "metadata": {},
     "output_type": "display_data"
    },
    {
     "data": {
      "text/html": [
       "<pre>| 6713         | 1.4e+08 | 33.3607     | 2m 2s        |</pre>"
      ],
      "text/plain": [
       "| 6713         | 1.4e+08 | 33.3607     | 2m 2s        |"
      ]
     },
     "metadata": {},
     "output_type": "display_data"
    },
    {
     "data": {
      "text/html": [
       "<pre>| 6774         | 1.4e+08 | 33.6613     | 2m 3s        |</pre>"
      ],
      "text/plain": [
       "| 6774         | 1.4e+08 | 33.6613     | 2m 3s        |"
      ]
     },
     "metadata": {},
     "output_type": "display_data"
    },
    {
     "data": {
      "text/html": [
       "<pre>| 6836         | 1.4e+08 | 33.9694     | 2m 4s        |</pre>"
      ],
      "text/plain": [
       "| 6836         | 1.4e+08 | 33.9694     | 2m 4s        |"
      ]
     },
     "metadata": {},
     "output_type": "display_data"
    },
    {
     "data": {
      "text/html": [
       "<pre>| 6898         | 1.4e+08 | 34.2775     | 2m 5s        |</pre>"
      ],
      "text/plain": [
       "| 6898         | 1.4e+08 | 34.2775     | 2m 5s        |"
      ]
     },
     "metadata": {},
     "output_type": "display_data"
    },
    {
     "data": {
      "text/html": [
       "<pre>| 6958         |         | 34.5756     | 2m 6s        |</pre>"
      ],
      "text/plain": [
       "| 6958         |         | 34.5756     | 2m 6s        |"
      ]
     },
     "metadata": {},
     "output_type": "display_data"
    },
    {
     "data": {
      "text/html": [
       "<pre>| 7021         | 1.4e+08 | 34.8887     | 2m 7s        |</pre>"
      ],
      "text/plain": [
       "| 7021         | 1.4e+08 | 34.8887     | 2m 7s        |"
      ]
     },
     "metadata": {},
     "output_type": "display_data"
    },
    {
     "data": {
      "text/html": [
       "<pre>| 7083         | 1.4e+08 | 35.1968     | 2m 8s        |</pre>"
      ],
      "text/plain": [
       "| 7083         | 1.4e+08 | 35.1968     | 2m 8s        |"
      ]
     },
     "metadata": {},
     "output_type": "display_data"
    },
    {
     "data": {
      "text/html": [
       "<pre>| 7144         | 1.4e+08 | 35.4999     | 2m 9s        |</pre>"
      ],
      "text/plain": [
       "| 7144         | 1.4e+08 | 35.4999     | 2m 9s        |"
      ]
     },
     "metadata": {},
     "output_type": "display_data"
    },
    {
     "data": {
      "text/html": [
       "<pre>| 7206         | 1.5e+08 | 35.808      | 2m 10s       |</pre>"
      ],
      "text/plain": [
       "| 7206         | 1.5e+08 | 35.808      | 2m 10s       |"
      ]
     },
     "metadata": {},
     "output_type": "display_data"
    },
    {
     "data": {
      "text/html": [
       "<pre>| 7265         | 1.5e+08 | 36.1037     | 2m 11s       |</pre>"
      ],
      "text/plain": [
       "| 7265         | 1.5e+08 | 36.1037     | 2m 11s       |"
      ]
     },
     "metadata": {},
     "output_type": "display_data"
    },
    {
     "data": {
      "text/html": [
       "<pre>| 7328         | 1.5e+08 | 36.4142     | 2m 12s       |</pre>"
      ],
      "text/plain": [
       "| 7328         | 1.5e+08 | 36.4142     | 2m 12s       |"
      ]
     },
     "metadata": {},
     "output_type": "display_data"
    },
    {
     "data": {
      "text/html": [
       "<pre>| 7390         | 1.5e+08 | 36.7248     | 2m 13s       |</pre>"
      ],
      "text/plain": [
       "| 7390         | 1.5e+08 | 36.7248     | 2m 13s       |"
      ]
     },
     "metadata": {},
     "output_type": "display_data"
    },
    {
     "data": {
      "text/html": [
       "<pre>| 7452         |         | 37.0304     | 2m 14s       |</pre>"
      ],
      "text/plain": [
       "| 7452         |         | 37.0304     | 2m 14s       |"
      ]
     },
     "metadata": {},
     "output_type": "display_data"
    },
    {
     "data": {
      "text/html": [
       "<pre>| 7511         | 1.5e+08 | 37.3261     | 2m 15s       |</pre>"
      ],
      "text/plain": [
       "| 7511         | 1.5e+08 | 37.3261     | 2m 15s       |"
      ]
     },
     "metadata": {},
     "output_type": "display_data"
    },
    {
     "data": {
      "text/html": [
       "<pre>| 7572         | 1.5e+08 | 37.6292     | 2m 16s       |</pre>"
      ],
      "text/plain": [
       "| 7572         | 1.5e+08 | 37.6292     | 2m 16s       |"
      ]
     },
     "metadata": {},
     "output_type": "display_data"
    },
    {
     "data": {
      "text/html": [
       "<pre>| 7633         | 1.5e+08 | 37.9323     | 2m 17s       |</pre>"
      ],
      "text/plain": [
       "| 7633         | 1.5e+08 | 37.9323     | 2m 17s       |"
      ]
     },
     "metadata": {},
     "output_type": "display_data"
    },
    {
     "data": {
      "text/html": [
       "<pre>| 7694         | 1.5e+08 | 38.2354     | 2m 18s       |</pre>"
      ],
      "text/plain": [
       "| 7694         | 1.5e+08 | 38.2354     | 2m 18s       |"
      ]
     },
     "metadata": {},
     "output_type": "display_data"
    },
    {
     "data": {
      "text/html": [
       "<pre>| 7756         | 1.6e+08 | 38.5435     | 2m 19s       |</pre>"
      ],
      "text/plain": [
       "| 7756         | 1.6e+08 | 38.5435     | 2m 19s       |"
      ]
     },
     "metadata": {},
     "output_type": "display_data"
    },
    {
     "data": {
      "text/html": [
       "<pre>| 7821         | 1.6e+08 | 38.8665     | 2m 20s       |</pre>"
      ],
      "text/plain": [
       "| 7821         | 1.6e+08 | 38.8665     | 2m 20s       |"
      ]
     },
     "metadata": {},
     "output_type": "display_data"
    },
    {
     "data": {
      "text/html": [
       "<pre>| 7866         | 1.6e+08 | 39.0877     | 2m 21s       |</pre>"
      ],
      "text/plain": [
       "| 7866         | 1.6e+08 | 39.0877     | 2m 21s       |"
      ]
     },
     "metadata": {},
     "output_type": "display_data"
    },
    {
     "data": {
      "text/html": [
       "<pre>| 7928         | 1.6e+08 | 39.3982     | 2m 22s       |</pre>"
      ],
      "text/plain": [
       "| 7928         | 1.6e+08 | 39.3982     | 2m 22s       |"
      ]
     },
     "metadata": {},
     "output_type": "display_data"
    },
    {
     "data": {
      "text/html": [
       "<pre>| 7984         | 1.6e+08 | 39.6765     | 2m 23s       |</pre>"
      ],
      "text/plain": [
       "| 7984         | 1.6e+08 | 39.6765     | 2m 23s       |"
      ]
     },
     "metadata": {},
     "output_type": "display_data"
    },
    {
     "data": {
      "text/html": [
       "<pre>| 8041         | 1.6e+08 | 39.9573     | 2m 24s       |</pre>"
      ],
      "text/plain": [
       "| 8041         | 1.6e+08 | 39.9573     | 2m 24s       |"
      ]
     },
     "metadata": {},
     "output_type": "display_data"
    },
    {
     "data": {
      "text/html": [
       "<pre>| 8078         | 1.6e+08 | 40.1436     | 2m 25s       |</pre>"
      ],
      "text/plain": [
       "| 8078         | 1.6e+08 | 40.1436     | 2m 25s       |"
      ]
     },
     "metadata": {},
     "output_type": "display_data"
    },
    {
     "data": {
      "text/html": [
       "<pre>| 8116         | 1.6e+08 | 40.3324     | 2m 26s       |</pre>"
      ],
      "text/plain": [
       "| 8116         | 1.6e+08 | 40.3324     | 2m 26s       |"
      ]
     },
     "metadata": {},
     "output_type": "display_data"
    },
    {
     "data": {
      "text/html": [
       "<pre>| 8159         | 1.6e+08 | 40.5436     | 2m 27s       |</pre>"
      ],
      "text/plain": [
       "| 8159         | 1.6e+08 | 40.5436     | 2m 27s       |"
      ]
     },
     "metadata": {},
     "output_type": "display_data"
    },
    {
     "data": {
      "text/html": [
       "<pre>| 8193         | 1.6e+08 | 40.7126     | 2m 28s       |</pre>"
      ],
      "text/plain": [
       "| 8193         | 1.6e+08 | 40.7126     | 2m 28s       |"
      ]
     },
     "metadata": {},
     "output_type": "display_data"
    },
    {
     "data": {
      "text/html": [
       "<pre>| 8238         | 1.7e+08 | 40.9362     | 2m 29s       |</pre>"
      ],
      "text/plain": [
       "| 8238         | 1.7e+08 | 40.9362     | 2m 29s       |"
      ]
     },
     "metadata": {},
     "output_type": "display_data"
    },
    {
     "data": {
      "text/html": [
       "<pre>| 8274         | 1.7e+08 | 41.1176     | 2m 30s       |</pre>"
      ],
      "text/plain": [
       "| 8274         | 1.7e+08 | 41.1176     | 2m 30s       |"
      ]
     },
     "metadata": {},
     "output_type": "display_data"
    },
    {
     "data": {
      "text/html": [
       "<pre>| 8322         | 1.7e+08 | 41.3536     | 2m 31s       |</pre>"
      ],
      "text/plain": [
       "| 8322         | 1.7e+08 | 41.3536     | 2m 31s       |"
      ]
     },
     "metadata": {},
     "output_type": "display_data"
    },
    {
     "data": {
      "text/html": [
       "<pre>| 8358         | 1.7e+08 | 41.535      | 2m 32s       |</pre>"
      ],
      "text/plain": [
       "| 8358         | 1.7e+08 | 41.535      | 2m 32s       |"
      ]
     },
     "metadata": {},
     "output_type": "display_data"
    },
    {
     "data": {
      "text/html": [
       "<pre>| 8400         | 1.7e+08 | 41.7412     | 2m 33s       |</pre>"
      ],
      "text/plain": [
       "| 8400         | 1.7e+08 | 41.7412     | 2m 33s       |"
      ]
     },
     "metadata": {},
     "output_type": "display_data"
    },
    {
     "data": {
      "text/html": [
       "<pre>| 8444         | 1.7e+08 | 41.9598     | 2m 34s       |</pre>"
      ],
      "text/plain": [
       "| 8444         | 1.7e+08 | 41.9598     | 2m 34s       |"
      ]
     },
     "metadata": {},
     "output_type": "display_data"
    },
    {
     "data": {
      "text/html": [
       "<pre>| 8486         | 1.7e+08 | 42.1686     | 2m 35s       |</pre>"
      ],
      "text/plain": [
       "| 8486         | 1.7e+08 | 42.1686     | 2m 35s       |"
      ]
     },
     "metadata": {},
     "output_type": "display_data"
    },
    {
     "data": {
      "text/html": [
       "<pre>| 8533         | 1.7e+08 | 42.4046     | 2m 36s       |</pre>"
      ],
      "text/plain": [
       "| 8533         | 1.7e+08 | 42.4046     | 2m 36s       |"
      ]
     },
     "metadata": {},
     "output_type": "display_data"
    },
    {
     "data": {
      "text/html": [
       "<pre>| 8582         | 1.7e+08 | 42.6481     | 2m 37s       |</pre>"
      ],
      "text/plain": [
       "| 8582         | 1.7e+08 | 42.6481     | 2m 37s       |"
      ]
     },
     "metadata": {},
     "output_type": "display_data"
    },
    {
     "data": {
      "text/html": [
       "<pre>| 8632         | 1.7e+08 | 42.8965     | 2m 38s       |</pre>"
      ],
      "text/plain": [
       "| 8632         | 1.7e+08 | 42.8965     | 2m 38s       |"
      ]
     },
     "metadata": {},
     "output_type": "display_data"
    },
    {
     "data": {
      "text/html": [
       "<pre>| 8682         | 1.7e+08 | 43.145      | 2m 39s       |</pre>"
      ],
      "text/plain": [
       "| 8682         | 1.7e+08 | 43.145      | 2m 39s       |"
      ]
     },
     "metadata": {},
     "output_type": "display_data"
    },
    {
     "data": {
      "text/html": [
       "<pre>| 8716         | 1.8e+08 | 43.314      | 2m 40s       |</pre>"
      ],
      "text/plain": [
       "| 8716         | 1.8e+08 | 43.314      | 2m 40s       |"
      ]
     },
     "metadata": {},
     "output_type": "display_data"
    },
    {
     "data": {
      "text/html": [
       "<pre>| 8767         | 1.8e+08 | 43.5649     | 2m 41s       |</pre>"
      ],
      "text/plain": [
       "| 8767         | 1.8e+08 | 43.5649     | 2m 41s       |"
      ]
     },
     "metadata": {},
     "output_type": "display_data"
    },
    {
     "data": {
      "text/html": [
       "<pre>| 8807         | 1.8e+08 | 43.7637     | 2m 42s       |</pre>"
      ],
      "text/plain": [
       "| 8807         | 1.8e+08 | 43.7637     | 2m 42s       |"
      ]
     },
     "metadata": {},
     "output_type": "display_data"
    },
    {
     "data": {
      "text/html": [
       "<pre>| 8844         | 1.8e+08 | 43.9475     | 2m 43s       |</pre>"
      ],
      "text/plain": [
       "| 8844         | 1.8e+08 | 43.9475     | 2m 43s       |"
      ]
     },
     "metadata": {},
     "output_type": "display_data"
    },
    {
     "data": {
      "text/html": [
       "<pre>| 8886         | 1.8e+08 | 44.1587     | 2m 44s       |</pre>"
      ],
      "text/plain": [
       "| 8886         | 1.8e+08 | 44.1587     | 2m 44s       |"
      ]
     },
     "metadata": {},
     "output_type": "display_data"
    },
    {
     "data": {
      "text/html": [
       "<pre>| 8921         | 1.8e+08 | 44.3302     | 2m 45s       |</pre>"
      ],
      "text/plain": [
       "| 8921         | 1.8e+08 | 44.3302     | 2m 45s       |"
      ]
     },
     "metadata": {},
     "output_type": "display_data"
    },
    {
     "data": {
      "text/html": [
       "<pre>| 8971         | 1.8e+08 | 44.5786     | 2m 46s       |</pre>"
      ],
      "text/plain": [
       "| 8971         | 1.8e+08 | 44.5786     | 2m 46s       |"
      ]
     },
     "metadata": {},
     "output_type": "display_data"
    },
    {
     "data": {
      "text/html": [
       "<pre>| 9004         | 1.8e+08 | 44.7426     | 2m 47s       |</pre>"
      ],
      "text/plain": [
       "| 9004         | 1.8e+08 | 44.7426     | 2m 47s       |"
      ]
     },
     "metadata": {},
     "output_type": "display_data"
    },
    {
     "data": {
      "text/html": [
       "<pre>| 9047         | 1.8e+08 | 44.9588     | 2m 48s       |</pre>"
      ],
      "text/plain": [
       "| 9047         | 1.8e+08 | 44.9588     | 2m 48s       |"
      ]
     },
     "metadata": {},
     "output_type": "display_data"
    },
    {
     "data": {
      "text/html": [
       "<pre>| 9086         | 1.8e+08 | 45.1526     | 2m 49s       |</pre>"
      ],
      "text/plain": [
       "| 9086         | 1.8e+08 | 45.1526     | 2m 49s       |"
      ]
     },
     "metadata": {},
     "output_type": "display_data"
    },
    {
     "data": {
      "text/html": [
       "<pre>| 9127         | 1.8e+08 | 45.3563     | 2m 50s       |</pre>"
      ],
      "text/plain": [
       "| 9127         | 1.8e+08 | 45.3563     | 2m 50s       |"
      ]
     },
     "metadata": {},
     "output_type": "display_data"
    },
    {
     "data": {
      "text/html": [
       "<pre>| 9170         | 1.8e+08 | 45.5675     | 2m 51s       |</pre>"
      ],
      "text/plain": [
       "| 9170         | 1.8e+08 | 45.5675     | 2m 51s       |"
      ]
     },
     "metadata": {},
     "output_type": "display_data"
    },
    {
     "data": {
      "text/html": [
       "<pre>| 9209         | 1.9e+08 | 45.7613     | 2m 52s       |</pre>"
      ],
      "text/plain": [
       "| 9209         | 1.9e+08 | 45.7613     | 2m 52s       |"
      ]
     },
     "metadata": {},
     "output_type": "display_data"
    },
    {
     "data": {
      "text/html": [
       "<pre>| 9259         | 1.9e+08 | 46.0097     | 2m 53s       |</pre>"
      ],
      "text/plain": [
       "| 9259         | 1.9e+08 | 46.0097     | 2m 53s       |"
      ]
     },
     "metadata": {},
     "output_type": "display_data"
    },
    {
     "data": {
      "text/html": [
       "<pre>| 9317         | 1.9e+08 | 46.298      | 2m 54s       |</pre>"
      ],
      "text/plain": [
       "| 9317         | 1.9e+08 | 46.298      | 2m 54s       |"
      ]
     },
     "metadata": {},
     "output_type": "display_data"
    },
    {
     "data": {
      "text/html": [
       "<pre>| 9379         | 1.9e+08 | 46.6085     | 2m 55s       |</pre>"
      ],
      "text/plain": [
       "| 9379         | 1.9e+08 | 46.6085     | 2m 55s       |"
      ]
     },
     "metadata": {},
     "output_type": "display_data"
    },
    {
     "data": {
      "text/html": [
       "<pre>| 9438         | 1.9e+08 | 46.8992     | 2m 56s       |</pre>"
      ],
      "text/plain": [
       "| 9438         | 1.9e+08 | 46.8992     | 2m 56s       |"
      ]
     },
     "metadata": {},
     "output_type": "display_data"
    },
    {
     "data": {
      "text/html": [
       "<pre>| 9500         | 1.9e+08 | 47.2098     | 2m 57s       |</pre>"
      ],
      "text/plain": [
       "| 9500         | 1.9e+08 | 47.2098     | 2m 57s       |"
      ]
     },
     "metadata": {},
     "output_type": "display_data"
    },
    {
     "data": {
      "text/html": [
       "<pre>| 9561         | 1.9e+08 | 47.5129     | 2m 58s       |</pre>"
      ],
      "text/plain": [
       "| 9561         | 1.9e+08 | 47.5129     | 2m 58s       |"
      ]
     },
     "metadata": {},
     "output_type": "display_data"
    },
    {
     "data": {
      "text/html": [
       "<pre>| 9623         | 1.9e+08 | 47.821      | 2m 59s       |</pre>"
      ],
      "text/plain": [
       "| 9623         | 1.9e+08 | 47.821      | 2m 59s       |"
      ]
     },
     "metadata": {},
     "output_type": "display_data"
    },
    {
     "data": {
      "text/html": [
       "<pre>| 9686         | 1.9e+08 | 48.1316     | 3m 0s        |</pre>"
      ],
      "text/plain": [
       "| 9686         | 1.9e+08 | 48.1316     | 3m 0s        |"
      ]
     },
     "metadata": {},
     "output_type": "display_data"
    },
    {
     "data": {
      "text/html": [
       "<pre>| 9746         | 2e+08   | 48.4322     | 3m 1s        |</pre>"
      ],
      "text/plain": [
       "| 9746         | 2e+08   | 48.4322     | 3m 1s        |"
      ]
     },
     "metadata": {},
     "output_type": "display_data"
    },
    {
     "data": {
      "text/html": [
       "<pre>| 9808         | 2e+08   | 48.7403     | 3m 2s        |</pre>"
      ],
      "text/plain": [
       "| 9808         | 2e+08   | 48.7403     | 3m 2s        |"
      ]
     },
     "metadata": {},
     "output_type": "display_data"
    },
    {
     "data": {
      "text/html": [
       "<pre>| 9868         | 2e+08   | 49.036      | 3m 3s        |</pre>"
      ],
      "text/plain": [
       "| 9868         | 2e+08   | 49.036      | 3m 3s        |"
      ]
     },
     "metadata": {},
     "output_type": "display_data"
    },
    {
     "data": {
      "text/html": [
       "<pre>| 9931         | 2e+08   | 49.349      | 3m 4s        |</pre>"
      ],
      "text/plain": [
       "| 9931         | 2e+08   | 49.349      | 3m 4s        |"
      ]
     },
     "metadata": {},
     "output_type": "display_data"
    },
    {
     "data": {
      "text/html": [
       "<pre>| 9992         | 2e+08   | 49.6522     | 3m 5s        |</pre>"
      ],
      "text/plain": [
       "| 9992         | 2e+08   | 49.6522     | 3m 5s        |"
      ]
     },
     "metadata": {},
     "output_type": "display_data"
    },
    {
     "data": {
      "text/html": [
       "<pre>| 10052        | 2e+08   | 49.9528     | 3m 6s        |</pre>"
      ],
      "text/plain": [
       "| 10052        | 2e+08   | 49.9528     | 3m 6s        |"
      ]
     },
     "metadata": {},
     "output_type": "display_data"
    },
    {
     "data": {
      "text/html": [
       "<pre>| 10091        | 2e+08   | 50.1466     | 3m 7s        |</pre>"
      ],
      "text/plain": [
       "| 10091        | 2e+08   | 50.1466     | 3m 7s        |"
      ]
     },
     "metadata": {},
     "output_type": "display_data"
    },
    {
     "data": {
      "text/html": [
       "<pre>| 10150        | 2e+08   | 50.4373     | 3m 8s        |</pre>"
      ],
      "text/plain": [
       "| 10150        | 2e+08   | 50.4373     | 3m 8s        |"
      ]
     },
     "metadata": {},
     "output_type": "display_data"
    },
    {
     "data": {
      "text/html": [
       "<pre>| 10209        | 2.1e+08 | 50.7305     | 3m 9s        |</pre>"
      ],
      "text/plain": [
       "| 10209        | 2.1e+08 | 50.7305     | 3m 9s        |"
      ]
     },
     "metadata": {},
     "output_type": "display_data"
    },
    {
     "data": {
      "text/html": [
       "<pre>| 10270        | 2.1e+08 | 51.0336     | 3m 10s       |</pre>"
      ],
      "text/plain": [
       "| 10270        | 2.1e+08 | 51.0336     | 3m 10s       |"
      ]
     },
     "metadata": {},
     "output_type": "display_data"
    },
    {
     "data": {
      "text/html": [
       "<pre>| 10331        | 2.1e+08 | 51.3392     | 3m 11s       |</pre>"
      ],
      "text/plain": [
       "| 10331        | 2.1e+08 | 51.3392     | 3m 11s       |"
      ]
     },
     "metadata": {},
     "output_type": "display_data"
    },
    {
     "data": {
      "text/html": [
       "<pre>| 10391        | 2.1e+08 | 51.6373     | 3m 12s       |</pre>"
      ],
      "text/plain": [
       "| 10391        | 2.1e+08 | 51.6373     | 3m 12s       |"
      ]
     },
     "metadata": {},
     "output_type": "display_data"
    },
    {
     "data": {
      "text/html": [
       "<pre>| 10453        | 2.1e+08 | 51.943      | 3m 13s       |</pre>"
      ],
      "text/plain": [
       "| 10453        | 2.1e+08 | 51.943      | 3m 13s       |"
      ]
     },
     "metadata": {},
     "output_type": "display_data"
    },
    {
     "data": {
      "text/html": [
       "<pre>| 10515        | 2.1e+08 | 52.251      | 3m 14s       |</pre>"
      ],
      "text/plain": [
       "| 10515        | 2.1e+08 | 52.251      | 3m 14s       |"
      ]
     },
     "metadata": {},
     "output_type": "display_data"
    },
    {
     "data": {
      "text/html": [
       "<pre>| 10577        | 2.1e+08 | 52.5616     | 3m 15s       |</pre>"
      ],
      "text/plain": [
       "| 10577        | 2.1e+08 | 52.5616     | 3m 15s       |"
      ]
     },
     "metadata": {},
     "output_type": "display_data"
    },
    {
     "data": {
      "text/html": [
       "<pre>| 10638        | 2.1e+08 | 52.8647     | 3m 16s       |</pre>"
      ],
      "text/plain": [
       "| 10638        | 2.1e+08 | 52.8647     | 3m 16s       |"
      ]
     },
     "metadata": {},
     "output_type": "display_data"
    },
    {
     "data": {
      "text/html": [
       "<pre>| 10699        | 2.2e+08 | 53.1654     | 3m 17s       |</pre>"
      ],
      "text/plain": [
       "| 10699        | 2.2e+08 | 53.1654     | 3m 17s       |"
      ]
     },
     "metadata": {},
     "output_type": "display_data"
    },
    {
     "data": {
      "text/html": [
       "<pre>| 10760        | 2.2e+08 | 53.471      | 3m 18s       |</pre>"
      ],
      "text/plain": [
       "| 10760        | 2.2e+08 | 53.471      | 3m 18s       |"
      ]
     },
     "metadata": {},
     "output_type": "display_data"
    },
    {
     "data": {
      "text/html": [
       "<pre>| 10822        | 2.2e+08 | 53.7766     | 3m 19s       |</pre>"
      ],
      "text/plain": [
       "| 10822        | 2.2e+08 | 53.7766     | 3m 19s       |"
      ]
     },
     "metadata": {},
     "output_type": "display_data"
    },
    {
     "data": {
      "text/html": [
       "<pre>| 10883        | 2.2e+08 | 54.0822     | 3m 20s       |</pre>"
      ],
      "text/plain": [
       "| 10883        | 2.2e+08 | 54.0822     | 3m 20s       |"
      ]
     },
     "metadata": {},
     "output_type": "display_data"
    },
    {
     "data": {
      "text/html": [
       "<pre>| 10945        | 2.2e+08 | 54.3878     | 3m 21s       |</pre>"
      ],
      "text/plain": [
       "| 10945        | 2.2e+08 | 54.3878     | 3m 21s       |"
      ]
     },
     "metadata": {},
     "output_type": "display_data"
    },
    {
     "data": {
      "text/html": [
       "<pre>| 10999        | 2.2e+08 | 54.6586     | 3m 22s       |</pre>"
      ],
      "text/plain": [
       "| 10999        | 2.2e+08 | 54.6586     | 3m 22s       |"
      ]
     },
     "metadata": {},
     "output_type": "display_data"
    },
    {
     "data": {
      "text/html": [
       "<pre>| 11061        | 2.2e+08 | 54.9642     | 3m 23s       |</pre>"
      ],
      "text/plain": [
       "| 11061        | 2.2e+08 | 54.9642     | 3m 23s       |"
      ]
     },
     "metadata": {},
     "output_type": "display_data"
    },
    {
     "data": {
      "text/html": [
       "<pre>| 11116        | 2.2e+08 | 55.2375     | 3m 24s       |</pre>"
      ],
      "text/plain": [
       "| 11116        | 2.2e+08 | 55.2375     | 3m 24s       |"
      ]
     },
     "metadata": {},
     "output_type": "display_data"
    },
    {
     "data": {
      "text/html": [
       "<pre>| 11152        | 2.2e+08 | 55.4164     | 3m 25s       |</pre>"
      ],
      "text/plain": [
       "| 11152        | 2.2e+08 | 55.4164     | 3m 25s       |"
      ]
     },
     "metadata": {},
     "output_type": "display_data"
    },
    {
     "data": {
      "text/html": [
       "<pre>| 11199        | 2.3e+08 | 55.65       | 3m 26s       |</pre>"
      ],
      "text/plain": [
       "| 11199        | 2.3e+08 | 55.65       | 3m 26s       |"
      ]
     },
     "metadata": {},
     "output_type": "display_data"
    },
    {
     "data": {
      "text/html": [
       "<pre>| 11240        | 2.3e+08 | 55.8562     | 3m 27s       |</pre>"
      ],
      "text/plain": [
       "| 11240        | 2.3e+08 | 55.8562     | 3m 27s       |"
      ]
     },
     "metadata": {},
     "output_type": "display_data"
    },
    {
     "data": {
      "text/html": [
       "<pre>| 11295        | 2.3e+08 | 56.1295     | 3m 28s       |</pre>"
      ],
      "text/plain": [
       "| 11295        | 2.3e+08 | 56.1295     | 3m 28s       |"
      ]
     },
     "metadata": {},
     "output_type": "display_data"
    },
    {
     "data": {
      "text/html": [
       "<pre>| 11356        | 2.3e+08 | 56.4326     | 3m 29s       |</pre>"
      ],
      "text/plain": [
       "| 11356        | 2.3e+08 | 56.4326     | 3m 29s       |"
      ]
     },
     "metadata": {},
     "output_type": "display_data"
    },
    {
     "data": {
      "text/html": [
       "<pre>| 11389        | 2.3e+08 | 56.5966     | 3m 31s       |</pre>"
      ],
      "text/plain": [
       "| 11389        | 2.3e+08 | 56.5966     | 3m 31s       |"
      ]
     },
     "metadata": {},
     "output_type": "display_data"
    },
    {
     "data": {
      "text/html": [
       "<pre>| 11431        |         | 56.8028     | 3m 31s       |</pre>"
      ],
      "text/plain": [
       "| 11431        |         | 56.8028     | 3m 31s       |"
      ]
     },
     "metadata": {},
     "output_type": "display_data"
    },
    {
     "data": {
      "text/html": [
       "<pre>| 11478        | 2.3e+08 | 57.0389     | 3m 32s       |</pre>"
      ],
      "text/plain": [
       "| 11478        | 2.3e+08 | 57.0389     | 3m 32s       |"
      ]
     },
     "metadata": {},
     "output_type": "display_data"
    },
    {
     "data": {
      "text/html": [
       "<pre>| 11522        | 2.3e+08 | 57.2575     | 3m 34s       |</pre>"
      ],
      "text/plain": [
       "| 11522        | 2.3e+08 | 57.2575     | 3m 34s       |"
      ]
     },
     "metadata": {},
     "output_type": "display_data"
    },
    {
     "data": {
      "text/html": [
       "<pre>| 11575        | 2.3e+08 | 57.5209     | 3m 34s       |</pre>"
      ],
      "text/plain": [
       "| 11575        | 2.3e+08 | 57.5209     | 3m 34s       |"
      ]
     },
     "metadata": {},
     "output_type": "display_data"
    },
    {
     "data": {
      "text/html": [
       "<pre>| 11637        | 2.3e+08 | 57.829      | 3m 35s       |</pre>"
      ],
      "text/plain": [
       "| 11637        | 2.3e+08 | 57.829      | 3m 35s       |"
      ]
     },
     "metadata": {},
     "output_type": "display_data"
    },
    {
     "data": {
      "text/html": [
       "<pre>| 11697        | 2.4e+08 | 58.1246     | 3m 37s       |</pre>"
      ],
      "text/plain": [
       "| 11697        | 2.4e+08 | 58.1246     | 3m 37s       |"
      ]
     },
     "metadata": {},
     "output_type": "display_data"
    },
    {
     "data": {
      "text/html": [
       "<pre>| 11753        | 2.4e+08 | 58.4029     | 3m 38s       |</pre>"
      ],
      "text/plain": [
       "| 11753        | 2.4e+08 | 58.4029     | 3m 38s       |"
      ]
     },
     "metadata": {},
     "output_type": "display_data"
    },
    {
     "data": {
      "text/html": [
       "<pre>| 11800        | 2.4e+08 | 58.6365     | 3m 39s       |</pre>"
      ],
      "text/plain": [
       "| 11800        | 2.4e+08 | 58.6365     | 3m 39s       |"
      ]
     },
     "metadata": {},
     "output_type": "display_data"
    },
    {
     "data": {
      "text/html": [
       "<pre>| 11827        | 2.4e+08 | 58.7731     | 3m 40s       |</pre>"
      ],
      "text/plain": [
       "| 11827        | 2.4e+08 | 58.7731     | 3m 40s       |"
      ]
     },
     "metadata": {},
     "output_type": "display_data"
    },
    {
     "data": {
      "text/html": [
       "<pre>| 11865        | 2.4e+08 | 58.9595     | 3m 41s       |</pre>"
      ],
      "text/plain": [
       "| 11865        | 2.4e+08 | 58.9595     | 3m 41s       |"
      ]
     },
     "metadata": {},
     "output_type": "display_data"
    },
    {
     "data": {
      "text/html": [
       "<pre>| 11901        | 2.4e+08 | 59.1383     | 3m 42s       |</pre>"
      ],
      "text/plain": [
       "| 11901        | 2.4e+08 | 59.1383     | 3m 42s       |"
      ]
     },
     "metadata": {},
     "output_type": "display_data"
    },
    {
     "data": {
      "text/html": [
       "<pre>| 11934        | 2.4e+08 | 59.3048     | 3m 43s       |</pre>"
      ],
      "text/plain": [
       "| 11934        | 2.4e+08 | 59.3048     | 3m 43s       |"
      ]
     },
     "metadata": {},
     "output_type": "display_data"
    },
    {
     "data": {
      "text/html": [
       "<pre>| 11963        | 2.4e+08 | 59.4464     | 3m 44s       |</pre>"
      ],
      "text/plain": [
       "| 11963        | 2.4e+08 | 59.4464     | 3m 44s       |"
      ]
     },
     "metadata": {},
     "output_type": "display_data"
    },
    {
     "data": {
      "text/html": [
       "<pre>| 11997        | 2.4e+08 | 59.6179     | 3m 45s       |</pre>"
      ],
      "text/plain": [
       "| 11997        | 2.4e+08 | 59.6179     | 3m 45s       |"
      ]
     },
     "metadata": {},
     "output_type": "display_data"
    },
    {
     "data": {
      "text/html": [
       "<pre>| 12047        | 2.4e+08 | 59.8663     | 3m 46s       |</pre>"
      ],
      "text/plain": [
       "| 12047        | 2.4e+08 | 59.8663     | 3m 46s       |"
      ]
     },
     "metadata": {},
     "output_type": "display_data"
    },
    {
     "data": {
      "text/html": [
       "<pre>| 12100        | 2.4e+08 | 60.1297     | 3m 47s       |</pre>"
      ],
      "text/plain": [
       "| 12100        | 2.4e+08 | 60.1297     | 3m 47s       |"
      ]
     },
     "metadata": {},
     "output_type": "display_data"
    },
    {
     "data": {
      "text/html": [
       "<pre>| 12151        | 2.4e+08 | 60.3806     | 3m 48s       |</pre>"
      ],
      "text/plain": [
       "| 12151        | 2.4e+08 | 60.3806     | 3m 48s       |"
      ]
     },
     "metadata": {},
     "output_type": "display_data"
    },
    {
     "data": {
      "text/html": [
       "<pre>| 12183        | 2.5e+08 | 60.5421     | 3m 49s       |</pre>"
      ],
      "text/plain": [
       "| 12183        | 2.5e+08 | 60.5421     | 3m 49s       |"
      ]
     },
     "metadata": {},
     "output_type": "display_data"
    },
    {
     "data": {
      "text/html": [
       "<pre>| 12207        | 2.5e+08 | 60.6589     | 3m 50s       |</pre>"
      ],
      "text/plain": [
       "| 12207        | 2.5e+08 | 60.6589     | 3m 50s       |"
      ]
     },
     "metadata": {},
     "output_type": "display_data"
    },
    {
     "data": {
      "text/html": [
       "<pre>| 12237        | 2.5e+08 | 60.808      | 3m 51s       |</pre>"
      ],
      "text/plain": [
       "| 12237        | 2.5e+08 | 60.808      | 3m 51s       |"
      ]
     },
     "metadata": {},
     "output_type": "display_data"
    },
    {
     "data": {
      "text/html": [
       "<pre>| 12265        | 2.5e+08 | 60.9471     | 3m 52s       |</pre>"
      ],
      "text/plain": [
       "| 12265        | 2.5e+08 | 60.9471     | 3m 52s       |"
      ]
     },
     "metadata": {},
     "output_type": "display_data"
    },
    {
     "data": {
      "text/html": [
       "<pre>| 12296        | 2.5e+08 | 61.1037     | 3m 53s       |</pre>"
      ],
      "text/plain": [
       "| 12296        | 2.5e+08 | 61.1037     | 3m 53s       |"
      ]
     },
     "metadata": {},
     "output_type": "display_data"
    },
    {
     "data": {
      "text/html": [
       "<pre>| 12323        | 2.5e+08 | 61.2353     | 3m 54s       |</pre>"
      ],
      "text/plain": [
       "| 12323        | 2.5e+08 | 61.2353     | 3m 54s       |"
      ]
     },
     "metadata": {},
     "output_type": "display_data"
    },
    {
     "data": {
      "text/html": [
       "<pre>| 12347        | 2.5e+08 | 61.3571     | 3m 55s       |</pre>"
      ],
      "text/plain": [
       "| 12347        | 2.5e+08 | 61.3571     | 3m 55s       |"
      ]
     },
     "metadata": {},
     "output_type": "display_data"
    },
    {
     "data": {
      "text/html": [
       "<pre>| 12374        | 2.5e+08 | 61.4913     | 3m 56s       |</pre>"
      ],
      "text/plain": [
       "| 12374        | 2.5e+08 | 61.4913     | 3m 56s       |"
      ]
     },
     "metadata": {},
     "output_type": "display_data"
    },
    {
     "data": {
      "text/html": [
       "<pre>| 12409        | 2.5e+08 | 61.6627     | 3m 57s       |</pre>"
      ],
      "text/plain": [
       "| 12409        | 2.5e+08 | 61.6627     | 3m 57s       |"
      ]
     },
     "metadata": {},
     "output_type": "display_data"
    },
    {
     "data": {
      "text/html": [
       "<pre>| 12440        | 2.5e+08 | 61.8167     | 3m 58s       |</pre>"
      ],
      "text/plain": [
       "| 12440        | 2.5e+08 | 61.8167     | 3m 58s       |"
      ]
     },
     "metadata": {},
     "output_type": "display_data"
    },
    {
     "data": {
      "text/html": [
       "<pre>| 12468        | 2.5e+08 | 61.9559     | 3m 59s       |</pre>"
      ],
      "text/plain": [
       "| 12468        | 2.5e+08 | 61.9559     | 3m 59s       |"
      ]
     },
     "metadata": {},
     "output_type": "display_data"
    },
    {
     "data": {
      "text/html": [
       "<pre>| 12512        | 2.5e+08 | 62.177      | 4m 0s        |</pre>"
      ],
      "text/plain": [
       "| 12512        | 2.5e+08 | 62.177      | 4m 0s        |"
      ]
     },
     "metadata": {},
     "output_type": "display_data"
    },
    {
     "data": {
      "text/html": [
       "<pre>| 12551        | 2.5e+08 | 62.3708     | 4m 1s        |</pre>"
      ],
      "text/plain": [
       "| 12551        | 2.5e+08 | 62.3708     | 4m 1s        |"
      ]
     },
     "metadata": {},
     "output_type": "display_data"
    },
    {
     "data": {
      "text/html": [
       "<pre>| 12595        | 2.5e+08 | 62.587      | 4m 2s        |</pre>"
      ],
      "text/plain": [
       "| 12595        | 2.5e+08 | 62.587      | 4m 2s        |"
      ]
     },
     "metadata": {},
     "output_type": "display_data"
    },
    {
     "data": {
      "text/html": [
       "<pre>| 12637        | 2.5e+08 | 62.7957     | 4m 3s        |</pre>"
      ],
      "text/plain": [
       "| 12637        | 2.5e+08 | 62.7957     | 4m 3s        |"
      ]
     },
     "metadata": {},
     "output_type": "display_data"
    },
    {
     "data": {
      "text/html": [
       "<pre>| 12684        | 2.6e+08 | 63.0292     | 4m 4s        |</pre>"
      ],
      "text/plain": [
       "| 12684        | 2.6e+08 | 63.0292     | 4m 4s        |"
      ]
     },
     "metadata": {},
     "output_type": "display_data"
    },
    {
     "data": {
      "text/html": [
       "<pre>| 12727        | 2.6e+08 | 63.2429     | 4m 5s        |</pre>"
      ],
      "text/plain": [
       "| 12727        | 2.6e+08 | 63.2429     | 4m 5s        |"
      ]
     },
     "metadata": {},
     "output_type": "display_data"
    },
    {
     "data": {
      "text/html": [
       "<pre>| 12774        | 2.6e+08 | 63.4764     | 4m 6s        |</pre>"
      ],
      "text/plain": [
       "| 12774        | 2.6e+08 | 63.4764     | 4m 6s        |"
      ]
     },
     "metadata": {},
     "output_type": "display_data"
    },
    {
     "data": {
      "text/html": [
       "<pre>| 12821        | 2.6e+08 | 63.7125     | 4m 7s        |</pre>"
      ],
      "text/plain": [
       "| 12821        | 2.6e+08 | 63.7125     | 4m 7s        |"
      ]
     },
     "metadata": {},
     "output_type": "display_data"
    },
    {
     "data": {
      "text/html": [
       "<pre>| 12861        | 2.6e+08 | 63.9113     | 4m 8s        |</pre>"
      ],
      "text/plain": [
       "| 12861        | 2.6e+08 | 63.9113     | 4m 8s        |"
      ]
     },
     "metadata": {},
     "output_type": "display_data"
    },
    {
     "data": {
      "text/html": [
       "<pre>| 12903        | 2.6e+08 | 64.12       | 4m 9s        |</pre>"
      ],
      "text/plain": [
       "| 12903        | 2.6e+08 | 64.12       | 4m 9s        |"
      ]
     },
     "metadata": {},
     "output_type": "display_data"
    },
    {
     "data": {
      "text/html": [
       "<pre>| 12953        | 2.6e+08 | 64.3659     | 4m 10s       |</pre>"
      ],
      "text/plain": [
       "| 12953        | 2.6e+08 | 64.3659     | 4m 10s       |"
      ]
     },
     "metadata": {},
     "output_type": "display_data"
    },
    {
     "data": {
      "text/html": [
       "<pre>| 13000        | 2.6e+08 | 64.5995     | 4m 11s       |</pre>"
      ],
      "text/plain": [
       "| 13000        | 2.6e+08 | 64.5995     | 4m 11s       |"
      ]
     },
     "metadata": {},
     "output_type": "display_data"
    },
    {
     "data": {
      "text/html": [
       "<pre>| 13043        | 2.6e+08 | 64.8156     | 4m 12s       |</pre>"
      ],
      "text/plain": [
       "| 13043        | 2.6e+08 | 64.8156     | 4m 12s       |"
      ]
     },
     "metadata": {},
     "output_type": "display_data"
    },
    {
     "data": {
      "text/html": [
       "<pre>| 13095        | 2.6e+08 | 65.0716     | 4m 13s       |</pre>"
      ],
      "text/plain": [
       "| 13095        | 2.6e+08 | 65.0716     | 4m 13s       |"
      ]
     },
     "metadata": {},
     "output_type": "display_data"
    },
    {
     "data": {
      "text/html": [
       "<pre>| 13148        | 2.6e+08 | 65.3349     | 4m 14s       |</pre>"
      ],
      "text/plain": [
       "| 13148        | 2.6e+08 | 65.3349     | 4m 14s       |"
      ]
     },
     "metadata": {},
     "output_type": "display_data"
    },
    {
     "data": {
      "text/html": [
       "<pre>| 13202        | 2.7e+08 | 65.6033     | 4m 15s       |</pre>"
      ],
      "text/plain": [
       "| 13202        | 2.7e+08 | 65.6033     | 4m 15s       |"
      ]
     },
     "metadata": {},
     "output_type": "display_data"
    },
    {
     "data": {
      "text/html": [
       "<pre>| 13249        | 2.7e+08 | 65.8368     | 4m 16s       |</pre>"
      ],
      "text/plain": [
       "| 13249        | 2.7e+08 | 65.8368     | 4m 16s       |"
      ]
     },
     "metadata": {},
     "output_type": "display_data"
    },
    {
     "data": {
      "text/html": [
       "<pre>| 13300        | 2.7e+08 | 66.0902     | 4m 17s       |</pre>"
      ],
      "text/plain": [
       "| 13300        | 2.7e+08 | 66.0902     | 4m 17s       |"
      ]
     },
     "metadata": {},
     "output_type": "display_data"
    },
    {
     "data": {
      "text/html": [
       "<pre>| 13354        | 2.7e+08 | 66.3586     | 4m 18s       |</pre>"
      ],
      "text/plain": [
       "| 13354        | 2.7e+08 | 66.3586     | 4m 18s       |"
      ]
     },
     "metadata": {},
     "output_type": "display_data"
    },
    {
     "data": {
      "text/html": [
       "<pre>| 13406        | 2.7e+08 | 66.617      | 4m 19s       |</pre>"
      ],
      "text/plain": [
       "| 13406        | 2.7e+08 | 66.617      | 4m 19s       |"
      ]
     },
     "metadata": {},
     "output_type": "display_data"
    },
    {
     "data": {
      "text/html": [
       "<pre>| 13459        | 2.7e+08 | 66.8828     | 4m 20s       |</pre>"
      ],
      "text/plain": [
       "| 13459        | 2.7e+08 | 66.8828     | 4m 20s       |"
      ]
     },
     "metadata": {},
     "output_type": "display_data"
    },
    {
     "data": {
      "text/html": [
       "<pre>| 13516        | 2.7e+08 | 67.1636     | 4m 21s       |</pre>"
      ],
      "text/plain": [
       "| 13516        | 2.7e+08 | 67.1636     | 4m 21s       |"
      ]
     },
     "metadata": {},
     "output_type": "display_data"
    },
    {
     "data": {
      "text/html": [
       "<pre>| 13561        | 2.7e+08 | 67.3897     | 4m 22s       |</pre>"
      ],
      "text/plain": [
       "| 13561        | 2.7e+08 | 67.3897     | 4m 22s       |"
      ]
     },
     "metadata": {},
     "output_type": "display_data"
    },
    {
     "data": {
      "text/html": [
       "<pre>| 13598        | 2.7e+08 | 67.5711     | 4m 23s       |</pre>"
      ],
      "text/plain": [
       "| 13598        | 2.7e+08 | 67.5711     | 4m 23s       |"
      ]
     },
     "metadata": {},
     "output_type": "display_data"
    },
    {
     "data": {
      "text/html": [
       "<pre>| 13650        | 2.7e+08 | 67.8319     | 4m 24s       |</pre>"
      ],
      "text/plain": [
       "| 13650        | 2.7e+08 | 67.8319     | 4m 24s       |"
      ]
     },
     "metadata": {},
     "output_type": "display_data"
    },
    {
     "data": {
      "text/html": [
       "<pre>| 13705        | 2.8e+08 | 68.1028     | 4m 25s       |</pre>"
      ],
      "text/plain": [
       "| 13705        | 2.8e+08 | 68.1028     | 4m 25s       |"
      ]
     },
     "metadata": {},
     "output_type": "display_data"
    },
    {
     "data": {
      "text/html": [
       "<pre>| 13759        | 2.8e+08 | 68.3736     | 4m 26s       |</pre>"
      ],
      "text/plain": [
       "| 13759        | 2.8e+08 | 68.3736     | 4m 26s       |"
      ]
     },
     "metadata": {},
     "output_type": "display_data"
    },
    {
     "data": {
      "text/html": [
       "<pre>| 13808        | 2.8e+08 | 68.6171     | 4m 27s       |</pre>"
      ],
      "text/plain": [
       "| 13808        | 2.8e+08 | 68.6171     | 4m 27s       |"
      ]
     },
     "metadata": {},
     "output_type": "display_data"
    },
    {
     "data": {
      "text/html": [
       "<pre>| 13864        | 2.8e+08 | 68.8953     | 4m 28s       |</pre>"
      ],
      "text/plain": [
       "| 13864        | 2.8e+08 | 68.8953     | 4m 28s       |"
      ]
     },
     "metadata": {},
     "output_type": "display_data"
    },
    {
     "data": {
      "text/html": [
       "<pre>| 13916        | 2.8e+08 | 69.1537     | 4m 29s       |</pre>"
      ],
      "text/plain": [
       "| 13916        | 2.8e+08 | 69.1537     | 4m 29s       |"
      ]
     },
     "metadata": {},
     "output_type": "display_data"
    },
    {
     "data": {
      "text/html": [
       "<pre>| 13971        | 2.8e+08 | 69.4271     | 4m 30s       |</pre>"
      ],
      "text/plain": [
       "| 13971        | 2.8e+08 | 69.4271     | 4m 30s       |"
      ]
     },
     "metadata": {},
     "output_type": "display_data"
    },
    {
     "data": {
      "text/html": [
       "<pre>| 14026        | 2.8e+08 | 69.7004     | 4m 31s       |</pre>"
      ],
      "text/plain": [
       "| 14026        | 2.8e+08 | 69.7004     | 4m 31s       |"
      ]
     },
     "metadata": {},
     "output_type": "display_data"
    },
    {
     "data": {
      "text/html": [
       "<pre>| 14081        | 2.8e+08 | 69.9737     | 4m 32s       |</pre>"
      ],
      "text/plain": [
       "| 14081        | 2.8e+08 | 69.9737     | 4m 32s       |"
      ]
     },
     "metadata": {},
     "output_type": "display_data"
    },
    {
     "data": {
      "text/html": [
       "<pre>| 14138        | 2.8e+08 | 70.2569     | 4m 33s       |</pre>"
      ],
      "text/plain": [
       "| 14138        | 2.8e+08 | 70.2569     | 4m 33s       |"
      ]
     },
     "metadata": {},
     "output_type": "display_data"
    },
    {
     "data": {
      "text/html": [
       "<pre>| 14191        | 2.9e+08 | 70.5203     | 4m 34s       |</pre>"
      ],
      "text/plain": [
       "| 14191        | 2.9e+08 | 70.5203     | 4m 34s       |"
      ]
     },
     "metadata": {},
     "output_type": "display_data"
    },
    {
     "data": {
      "text/html": [
       "<pre>| 14243        | 2.9e+08 | 70.7762     | 4m 35s       |</pre>"
      ],
      "text/plain": [
       "| 14243        | 2.9e+08 | 70.7762     | 4m 35s       |"
      ]
     },
     "metadata": {},
     "output_type": "display_data"
    },
    {
     "data": {
      "text/html": [
       "<pre>| 14296        | 2.9e+08 | 71.042      | 4m 36s       |</pre>"
      ],
      "text/plain": [
       "| 14296        | 2.9e+08 | 71.042      | 4m 36s       |"
      ]
     },
     "metadata": {},
     "output_type": "display_data"
    },
    {
     "data": {
      "text/html": [
       "<pre>| 14350        | 2.9e+08 | 71.3104     | 4m 37s       |</pre>"
      ],
      "text/plain": [
       "| 14350        | 2.9e+08 | 71.3104     | 4m 37s       |"
      ]
     },
     "metadata": {},
     "output_type": "display_data"
    },
    {
     "data": {
      "text/html": [
       "<pre>| 14387        | 2.9e+08 | 71.4942     | 4m 38s       |</pre>"
      ],
      "text/plain": [
       "| 14387        | 2.9e+08 | 71.4942     | 4m 38s       |"
      ]
     },
     "metadata": {},
     "output_type": "display_data"
    },
    {
     "data": {
      "text/html": [
       "<pre>| 14428        | 2.9e+08 | 71.698      | 4m 39s       |</pre>"
      ],
      "text/plain": [
       "| 14428        | 2.9e+08 | 71.698      | 4m 39s       |"
      ]
     },
     "metadata": {},
     "output_type": "display_data"
    },
    {
     "data": {
      "text/html": [
       "<pre>| 14478        | 2.9e+08 | 71.9464     | 4m 40s       |</pre>"
      ],
      "text/plain": [
       "| 14478        | 2.9e+08 | 71.9464     | 4m 40s       |"
      ]
     },
     "metadata": {},
     "output_type": "display_data"
    },
    {
     "data": {
      "text/html": [
       "<pre>| 14532        | 2.9e+08 | 72.2123     | 4m 41s       |</pre>"
      ],
      "text/plain": [
       "| 14532        | 2.9e+08 | 72.2123     | 4m 41s       |"
      ]
     },
     "metadata": {},
     "output_type": "display_data"
    },
    {
     "data": {
      "text/html": [
       "<pre>| 14586        | 2.9e+08 | 72.4831     | 4m 42s       |</pre>"
      ],
      "text/plain": [
       "| 14586        | 2.9e+08 | 72.4831     | 4m 42s       |"
      ]
     },
     "metadata": {},
     "output_type": "display_data"
    },
    {
     "data": {
      "text/html": [
       "<pre>| 14632        | 2.9e+08 | 72.7117     | 4m 43s       |</pre>"
      ],
      "text/plain": [
       "| 14632        | 2.9e+08 | 72.7117     | 4m 43s       |"
      ]
     },
     "metadata": {},
     "output_type": "display_data"
    },
    {
     "data": {
      "text/html": [
       "<pre>| 14677        | 3e+08   | 72.9328     | 4m 44s       |</pre>"
      ],
      "text/plain": [
       "| 14677        | 3e+08   | 72.9328     | 4m 44s       |"
      ]
     },
     "metadata": {},
     "output_type": "display_data"
    },
    {
     "data": {
      "text/html": [
       "<pre>| 14733        | 3e+08   | 73.2111     | 4m 45s       |</pre>"
      ],
      "text/plain": [
       "| 14733        | 3e+08   | 73.2111     | 4m 45s       |"
      ]
     },
     "metadata": {},
     "output_type": "display_data"
    },
    {
     "data": {
      "text/html": [
       "<pre>| 14785        | 3e+08   | 73.472      | 4m 46s       |</pre>"
      ],
      "text/plain": [
       "| 14785        | 3e+08   | 73.472      | 4m 46s       |"
      ]
     },
     "metadata": {},
     "output_type": "display_data"
    },
    {
     "data": {
      "text/html": [
       "<pre>| 14838        | 3e+08   | 73.7329     | 4m 47s       |</pre>"
      ],
      "text/plain": [
       "| 14838        | 3e+08   | 73.7329     | 4m 47s       |"
      ]
     },
     "metadata": {},
     "output_type": "display_data"
    },
    {
     "data": {
      "text/html": [
       "<pre>| 14885        | 3e+08   | 73.9689     | 4m 48s       |</pre>"
      ],
      "text/plain": [
       "| 14885        | 3e+08   | 73.9689     | 4m 48s       |"
      ]
     },
     "metadata": {},
     "output_type": "display_data"
    },
    {
     "data": {
      "text/html": [
       "<pre>| 14938        | 3e+08   | 74.2323     | 4m 49s       |</pre>"
      ],
      "text/plain": [
       "| 14938        | 3e+08   | 74.2323     | 4m 49s       |"
      ]
     },
     "metadata": {},
     "output_type": "display_data"
    },
    {
     "data": {
      "text/html": [
       "<pre>| 14994        | 3e+08   | 74.5081     | 4m 50s       |</pre>"
      ],
      "text/plain": [
       "| 14994        | 3e+08   | 74.5081     | 4m 50s       |"
      ]
     },
     "metadata": {},
     "output_type": "display_data"
    },
    {
     "data": {
      "text/html": [
       "<pre>| 15047        | 3e+08   | 74.7714     | 4m 51s       |</pre>"
      ],
      "text/plain": [
       "| 15047        | 3e+08   | 74.7714     | 4m 51s       |"
      ]
     },
     "metadata": {},
     "output_type": "display_data"
    },
    {
     "data": {
      "text/html": [
       "<pre>| 15094        | 3e+08   | 75.005      | 4m 52s       |</pre>"
      ],
      "text/plain": [
       "| 15094        | 3e+08   | 75.005      | 4m 52s       |"
      ]
     },
     "metadata": {},
     "output_type": "display_data"
    },
    {
     "data": {
      "text/html": [
       "<pre>| 15148        | 3e+08   | 75.2758     | 4m 53s       |</pre>"
      ],
      "text/plain": [
       "| 15148        | 3e+08   | 75.2758     | 4m 53s       |"
      ]
     },
     "metadata": {},
     "output_type": "display_data"
    },
    {
     "data": {
      "text/html": [
       "<pre>| 15200        | 3.1e+08 | 75.5317     | 4m 54s       |</pre>"
      ],
      "text/plain": [
       "| 15200        | 3.1e+08 | 75.5317     | 4m 54s       |"
      ]
     },
     "metadata": {},
     "output_type": "display_data"
    },
    {
     "data": {
      "text/html": [
       "<pre>| 15255        | 3.1e+08 | 75.805      | 4m 55s       |</pre>"
      ],
      "text/plain": [
       "| 15255        | 3.1e+08 | 75.805      | 4m 55s       |"
      ]
     },
     "metadata": {},
     "output_type": "display_data"
    },
    {
     "data": {
      "text/html": [
       "<pre>| 15306        | 3.1e+08 | 76.0609     | 4m 56s       |</pre>"
      ],
      "text/plain": [
       "| 15306        | 3.1e+08 | 76.0609     | 4m 56s       |"
      ]
     },
     "metadata": {},
     "output_type": "display_data"
    },
    {
     "data": {
      "text/html": [
       "<pre>| 15358        | 3.1e+08 | 76.3193     | 4m 57s       |</pre>"
      ],
      "text/plain": [
       "| 15358        | 3.1e+08 | 76.3193     | 4m 57s       |"
      ]
     },
     "metadata": {},
     "output_type": "display_data"
    },
    {
     "data": {
      "text/html": [
       "<pre>| 15412        | 3.1e+08 | 76.5877     | 4m 58s       |</pre>"
      ],
      "text/plain": [
       "| 15412        | 3.1e+08 | 76.5877     | 4m 58s       |"
      ]
     },
     "metadata": {},
     "output_type": "display_data"
    },
    {
     "data": {
      "text/html": [
       "<pre>| 15465        | 3.1e+08 | 76.851      | 4m 59s       |</pre>"
      ],
      "text/plain": [
       "| 15465        | 3.1e+08 | 76.851      | 4m 59s       |"
      ]
     },
     "metadata": {},
     "output_type": "display_data"
    },
    {
     "data": {
      "text/html": [
       "<pre>| 15514        | 3.1e+08 | 77.0945     | 5m 0s        |</pre>"
      ],
      "text/plain": [
       "| 15514        | 3.1e+08 | 77.0945     | 5m 0s        |"
      ]
     },
     "metadata": {},
     "output_type": "display_data"
    },
    {
     "data": {
      "text/html": [
       "<pre>| 15570        | 3.1e+08 | 77.3703     | 5m 1s        |</pre>"
      ],
      "text/plain": [
       "| 15570        | 3.1e+08 | 77.3703     | 5m 1s        |"
      ]
     },
     "metadata": {},
     "output_type": "display_data"
    },
    {
     "data": {
      "text/html": [
       "<pre>| 15625        | 3.1e+08 | 77.6461     | 5m 2s        |</pre>"
      ],
      "text/plain": [
       "| 15625        | 3.1e+08 | 77.6461     | 5m 2s        |"
      ]
     },
     "metadata": {},
     "output_type": "display_data"
    },
    {
     "data": {
      "text/html": [
       "<pre>| 15680        | 3.2e+08 | 77.9194     | 5m 3s        |</pre>"
      ],
      "text/plain": [
       "| 15680        | 3.2e+08 | 77.9194     | 5m 3s        |"
      ]
     },
     "metadata": {},
     "output_type": "display_data"
    },
    {
     "data": {
      "text/html": [
       "<pre>| 15733        | 3.2e+08 | 78.1828     | 5m 4s        |</pre>"
      ],
      "text/plain": [
       "| 15733        | 3.2e+08 | 78.1828     | 5m 4s        |"
      ]
     },
     "metadata": {},
     "output_type": "display_data"
    },
    {
     "data": {
      "text/html": [
       "<pre>| 15784        | 3.2e+08 | 78.4337     | 5m 5s        |</pre>"
      ],
      "text/plain": [
       "| 15784        | 3.2e+08 | 78.4337     | 5m 5s        |"
      ]
     },
     "metadata": {},
     "output_type": "display_data"
    },
    {
     "data": {
      "text/html": [
       "<pre>| 15838        | 3.2e+08 | 78.702      | 5m 6s        |</pre>"
      ],
      "text/plain": [
       "| 15838        | 3.2e+08 | 78.702      | 5m 6s        |"
      ]
     },
     "metadata": {},
     "output_type": "display_data"
    },
    {
     "data": {
      "text/html": [
       "<pre>| 15891        | 3.2e+08 | 78.9679     | 5m 7s        |</pre>"
      ],
      "text/plain": [
       "| 15891        | 3.2e+08 | 78.9679     | 5m 7s        |"
      ]
     },
     "metadata": {},
     "output_type": "display_data"
    },
    {
     "data": {
      "text/html": [
       "<pre>| 15946        | 3.2e+08 | 79.2387     | 5m 8s        |</pre>"
      ],
      "text/plain": [
       "| 15946        | 3.2e+08 | 79.2387     | 5m 8s        |"
      ]
     },
     "metadata": {},
     "output_type": "display_data"
    },
    {
     "data": {
      "text/html": [
       "<pre>| 15999        | 3.2e+08 | 79.5021     | 5m 9s        |</pre>"
      ],
      "text/plain": [
       "| 15999        | 3.2e+08 | 79.5021     | 5m 9s        |"
      ]
     },
     "metadata": {},
     "output_type": "display_data"
    },
    {
     "data": {
      "text/html": [
       "<pre>| 16052        | 3.2e+08 | 79.7679     | 5m 10s       |</pre>"
      ],
      "text/plain": [
       "| 16052        | 3.2e+08 | 79.7679     | 5m 10s       |"
      ]
     },
     "metadata": {},
     "output_type": "display_data"
    },
    {
     "data": {
      "text/html": [
       "<pre>| 16104        | 3.2e+08 | 80.0239     | 5m 11s       |</pre>"
      ],
      "text/plain": [
       "| 16104        | 3.2e+08 | 80.0239     | 5m 11s       |"
      ]
     },
     "metadata": {},
     "output_type": "display_data"
    },
    {
     "data": {
      "text/html": [
       "<pre>| 16157        | 3.3e+08 | 80.2897     | 5m 12s       |</pre>"
      ],
      "text/plain": [
       "| 16157        | 3.3e+08 | 80.2897     | 5m 12s       |"
      ]
     },
     "metadata": {},
     "output_type": "display_data"
    },
    {
     "data": {
      "text/html": [
       "<pre>| 16212        | 3.3e+08 | 80.5605     | 5m 13s       |</pre>"
      ],
      "text/plain": [
       "| 16212        | 3.3e+08 | 80.5605     | 5m 13s       |"
      ]
     },
     "metadata": {},
     "output_type": "display_data"
    },
    {
     "data": {
      "text/html": [
       "<pre>| 16265        | 3.3e+08 | 80.8264     | 5m 14s       |</pre>"
      ],
      "text/plain": [
       "| 16265        | 3.3e+08 | 80.8264     | 5m 14s       |"
      ]
     },
     "metadata": {},
     "output_type": "display_data"
    },
    {
     "data": {
      "text/html": [
       "<pre>| 16320        | 3.3e+08 | 81.0972     | 5m 15s       |</pre>"
      ],
      "text/plain": [
       "| 16320        | 3.3e+08 | 81.0972     | 5m 15s       |"
      ]
     },
     "metadata": {},
     "output_type": "display_data"
    },
    {
     "data": {
      "text/html": [
       "<pre>| 16374        | 3.3e+08 | 81.3655     | 5m 16s       |</pre>"
      ],
      "text/plain": [
       "| 16374        | 3.3e+08 | 81.3655     | 5m 16s       |"
      ]
     },
     "metadata": {},
     "output_type": "display_data"
    },
    {
     "data": {
      "text/html": [
       "<pre>| 16426        | 3.3e+08 | 81.6264     | 5m 17s       |</pre>"
      ],
      "text/plain": [
       "| 16426        | 3.3e+08 | 81.6264     | 5m 17s       |"
      ]
     },
     "metadata": {},
     "output_type": "display_data"
    },
    {
     "data": {
      "text/html": [
       "<pre>| 16481        | 3.3e+08 | 81.8972     | 5m 18s       |</pre>"
      ],
      "text/plain": [
       "| 16481        | 3.3e+08 | 81.8972     | 5m 18s       |"
      ]
     },
     "metadata": {},
     "output_type": "display_data"
    },
    {
     "data": {
      "text/html": [
       "<pre>| 16536        | 3.3e+08 | 82.173      | 5m 19s       |</pre>"
      ],
      "text/plain": [
       "| 16536        | 3.3e+08 | 82.173      | 5m 19s       |"
      ]
     },
     "metadata": {},
     "output_type": "display_data"
    },
    {
     "data": {
      "text/html": [
       "<pre>| 16591        | 3.3e+08 | 82.4438     | 5m 20s       |</pre>"
      ],
      "text/plain": [
       "| 16591        | 3.3e+08 | 82.4438     | 5m 20s       |"
      ]
     },
     "metadata": {},
     "output_type": "display_data"
    },
    {
     "data": {
      "text/html": [
       "<pre>| 16644        | 3.3e+08 | 82.7072     | 5m 21s       |</pre>"
      ],
      "text/plain": [
       "| 16644        | 3.3e+08 | 82.7072     | 5m 21s       |"
      ]
     },
     "metadata": {},
     "output_type": "display_data"
    },
    {
     "data": {
      "text/html": [
       "<pre>| 16697        | 3.4e+08 | 82.9706     | 5m 22s       |</pre>"
      ],
      "text/plain": [
       "| 16697        | 3.4e+08 | 82.9706     | 5m 22s       |"
      ]
     },
     "metadata": {},
     "output_type": "display_data"
    },
    {
     "data": {
      "text/html": [
       "<pre>| 16752        | 3.4e+08 | 83.2439     | 5m 23s       |</pre>"
      ],
      "text/plain": [
       "| 16752        | 3.4e+08 | 83.2439     | 5m 23s       |"
      ]
     },
     "metadata": {},
     "output_type": "display_data"
    },
    {
     "data": {
      "text/html": [
       "<pre>| 16803        | 3.4e+08 | 83.4998     | 5m 24s       |</pre>"
      ],
      "text/plain": [
       "| 16803        | 3.4e+08 | 83.4998     | 5m 24s       |"
      ]
     },
     "metadata": {},
     "output_type": "display_data"
    },
    {
     "data": {
      "text/html": [
       "<pre>| 16859        | 3.4e+08 | 83.7756     | 5m 25s       |</pre>"
      ],
      "text/plain": [
       "| 16859        | 3.4e+08 | 83.7756     | 5m 25s       |"
      ]
     },
     "metadata": {},
     "output_type": "display_data"
    },
    {
     "data": {
      "text/html": [
       "<pre>| 16905        | 3.4e+08 | 84.0042     | 5m 26s       |</pre>"
      ],
      "text/plain": [
       "| 16905        | 3.4e+08 | 84.0042     | 5m 26s       |"
      ]
     },
     "metadata": {},
     "output_type": "display_data"
    },
    {
     "data": {
      "text/html": [
       "<pre>| 16954        | 3.4e+08 | 84.2477     | 5m 27s       |</pre>"
      ],
      "text/plain": [
       "| 16954        | 3.4e+08 | 84.2477     | 5m 27s       |"
      ]
     },
     "metadata": {},
     "output_type": "display_data"
    },
    {
     "data": {
      "text/html": [
       "<pre>| 17005        | 3.4e+08 | 84.5011     | 5m 28s       |</pre>"
      ],
      "text/plain": [
       "| 17005        | 3.4e+08 | 84.5011     | 5m 28s       |"
      ]
     },
     "metadata": {},
     "output_type": "display_data"
    },
    {
     "data": {
      "text/html": [
       "<pre>| 17059        | 3.4e+08 | 84.7694     | 5m 29s       |</pre>"
      ],
      "text/plain": [
       "| 17059        | 3.4e+08 | 84.7694     | 5m 29s       |"
      ]
     },
     "metadata": {},
     "output_type": "display_data"
    },
    {
     "data": {
      "text/html": [
       "<pre>| 17113        | 3.4e+08 | 85.0378     | 5m 30s       |</pre>"
      ],
      "text/plain": [
       "| 17113        | 3.4e+08 | 85.0378     | 5m 30s       |"
      ]
     },
     "metadata": {},
     "output_type": "display_data"
    },
    {
     "data": {
      "text/html": [
       "<pre>| 17164        | 3.5e+08 | 85.2912     | 5m 31s       |</pre>"
      ],
      "text/plain": [
       "| 17164        | 3.5e+08 | 85.2912     | 5m 31s       |"
      ]
     },
     "metadata": {},
     "output_type": "display_data"
    },
    {
     "data": {
      "text/html": [
       "<pre>| 17218        | 3.5e+08 | 85.562      | 5m 32s       |</pre>"
      ],
      "text/plain": [
       "| 17218        | 3.5e+08 | 85.562      | 5m 32s       |"
      ]
     },
     "metadata": {},
     "output_type": "display_data"
    },
    {
     "data": {
      "text/html": [
       "<pre>| 17271        | 3.5e+08 | 85.8254     | 5m 33s       |</pre>"
      ],
      "text/plain": [
       "| 17271        | 3.5e+08 | 85.8254     | 5m 33s       |"
      ]
     },
     "metadata": {},
     "output_type": "display_data"
    },
    {
     "data": {
      "text/html": [
       "<pre>| 17325        | 3.5e+08 | 86.0912     | 5m 34s       |</pre>"
      ],
      "text/plain": [
       "| 17325        | 3.5e+08 | 86.0912     | 5m 34s       |"
      ]
     },
     "metadata": {},
     "output_type": "display_data"
    },
    {
     "data": {
      "text/html": [
       "<pre>| 17374        | 3.5e+08 | 86.3372     | 5m 35s       |</pre>"
      ],
      "text/plain": [
       "| 17374        | 3.5e+08 | 86.3372     | 5m 35s       |"
      ]
     },
     "metadata": {},
     "output_type": "display_data"
    },
    {
     "data": {
      "text/html": [
       "<pre>| 17425        | 3.5e+08 | 86.5906     | 5m 36s       |</pre>"
      ],
      "text/plain": [
       "| 17425        | 3.5e+08 | 86.5906     | 5m 36s       |"
      ]
     },
     "metadata": {},
     "output_type": "display_data"
    },
    {
     "data": {
      "text/html": [
       "<pre>| 17480        | 3.5e+08 | 86.8615     | 5m 37s       |</pre>"
      ],
      "text/plain": [
       "| 17480        | 3.5e+08 | 86.8615     | 5m 37s       |"
      ]
     },
     "metadata": {},
     "output_type": "display_data"
    },
    {
     "data": {
      "text/html": [
       "<pre>| 17533        | 3.5e+08 | 87.1273     | 5m 38s       |</pre>"
      ],
      "text/plain": [
       "| 17533        | 3.5e+08 | 87.1273     | 5m 38s       |"
      ]
     },
     "metadata": {},
     "output_type": "display_data"
    },
    {
     "data": {
      "text/html": [
       "<pre>| 17588        | 3.5e+08 | 87.3981     | 5m 39s       |</pre>"
      ],
      "text/plain": [
       "| 17588        | 3.5e+08 | 87.3981     | 5m 39s       |"
      ]
     },
     "metadata": {},
     "output_type": "display_data"
    },
    {
     "data": {
      "text/html": [
       "<pre>| 17640        | 3.5e+08 | 87.659      | 5m 40s       |</pre>"
      ],
      "text/plain": [
       "| 17640        | 3.5e+08 | 87.659      | 5m 40s       |"
      ]
     },
     "metadata": {},
     "output_type": "display_data"
    },
    {
     "data": {
      "text/html": [
       "<pre>| 17693        | 3.6e+08 | 87.9224     | 5m 41s       |</pre>"
      ],
      "text/plain": [
       "| 17693        | 3.6e+08 | 87.9224     | 5m 41s       |"
      ]
     },
     "metadata": {},
     "output_type": "display_data"
    },
    {
     "data": {
      "text/html": [
       "<pre>| 17748        | 3.6e+08 | 88.1932     | 5m 42s       |</pre>"
      ],
      "text/plain": [
       "| 17748        | 3.6e+08 | 88.1932     | 5m 42s       |"
      ]
     },
     "metadata": {},
     "output_type": "display_data"
    },
    {
     "data": {
      "text/html": [
       "<pre>| 17802        | 3.6e+08 | 88.4615     | 5m 43s       |</pre>"
      ],
      "text/plain": [
       "| 17802        | 3.6e+08 | 88.4615     | 5m 43s       |"
      ]
     },
     "metadata": {},
     "output_type": "display_data"
    },
    {
     "data": {
      "text/html": [
       "<pre>| 17854        | 3.6e+08 | 88.7199     | 5m 44s       |</pre>"
      ],
      "text/plain": [
       "| 17854        | 3.6e+08 | 88.7199     | 5m 44s       |"
      ]
     },
     "metadata": {},
     "output_type": "display_data"
    },
    {
     "data": {
      "text/html": [
       "<pre>| 17909        | 3.6e+08 | 88.9932     | 5m 45s       |</pre>"
      ],
      "text/plain": [
       "| 17909        | 3.6e+08 | 88.9932     | 5m 45s       |"
      ]
     },
     "metadata": {},
     "output_type": "display_data"
    },
    {
     "data": {
      "text/html": [
       "<pre>| 17953        | 3.6e+08 | 89.2144     | 5m 46s       |</pre>"
      ],
      "text/plain": [
       "| 17953        | 3.6e+08 | 89.2144     | 5m 46s       |"
      ]
     },
     "metadata": {},
     "output_type": "display_data"
    },
    {
     "data": {
      "text/html": [
       "<pre>| 18003        | 3.6e+08 | 89.4603     | 5m 47s       |</pre>"
      ],
      "text/plain": [
       "| 18003        | 3.6e+08 | 89.4603     | 5m 47s       |"
      ]
     },
     "metadata": {},
     "output_type": "display_data"
    },
    {
     "data": {
      "text/html": [
       "<pre>| 18056        | 3.6e+08 | 89.7237     | 5m 48s       |</pre>"
      ],
      "text/plain": [
       "| 18056        | 3.6e+08 | 89.7237     | 5m 48s       |"
      ]
     },
     "metadata": {},
     "output_type": "display_data"
    },
    {
     "data": {
      "text/html": [
       "<pre>| 18110        | 3.6e+08 | 89.992      | 5m 49s       |</pre>"
      ],
      "text/plain": [
       "| 18110        | 3.6e+08 | 89.992      | 5m 49s       |"
      ]
     },
     "metadata": {},
     "output_type": "display_data"
    },
    {
     "data": {
      "text/html": [
       "<pre>| 18160        | 3.7e+08 | 90.243      | 5m 50s       |</pre>"
      ],
      "text/plain": [
       "| 18160        | 3.7e+08 | 90.243      | 5m 50s       |"
      ]
     },
     "metadata": {},
     "output_type": "display_data"
    },
    {
     "data": {
      "text/html": [
       "<pre>| 18214        | 3.7e+08 | 90.5113     | 5m 51s       |</pre>"
      ],
      "text/plain": [
       "| 18214        | 3.7e+08 | 90.5113     | 5m 51s       |"
      ]
     },
     "metadata": {},
     "output_type": "display_data"
    },
    {
     "data": {
      "text/html": [
       "<pre>| 18268        | 3.7e+08 | 90.7797     | 5m 52s       |</pre>"
      ],
      "text/plain": [
       "| 18268        | 3.7e+08 | 90.7797     | 5m 52s       |"
      ]
     },
     "metadata": {},
     "output_type": "display_data"
    },
    {
     "data": {
      "text/html": [
       "<pre>| 18322        | 3.7e+08 | 91.048      | 5m 53s       |</pre>"
      ],
      "text/plain": [
       "| 18322        | 3.7e+08 | 91.048      | 5m 53s       |"
      ]
     },
     "metadata": {},
     "output_type": "display_data"
    },
    {
     "data": {
      "text/html": [
       "<pre>| 18375        | 3.7e+08 | 91.3114     | 5m 54s       |</pre>"
      ],
      "text/plain": [
       "| 18375        | 3.7e+08 | 91.3114     | 5m 54s       |"
      ]
     },
     "metadata": {},
     "output_type": "display_data"
    },
    {
     "data": {
      "text/html": [
       "<pre>| 18429        | 3.7e+08 | 91.5797     | 5m 55s       |</pre>"
      ],
      "text/plain": [
       "| 18429        | 3.7e+08 | 91.5797     | 5m 55s       |"
      ]
     },
     "metadata": {},
     "output_type": "display_data"
    },
    {
     "data": {
      "text/html": [
       "<pre>| 18482        | 3.7e+08 | 91.8406     | 5m 56s       |</pre>"
      ],
      "text/plain": [
       "| 18482        | 3.7e+08 | 91.8406     | 5m 56s       |"
      ]
     },
     "metadata": {},
     "output_type": "display_data"
    },
    {
     "data": {
      "text/html": [
       "<pre>| 18538        | 3.7e+08 | 92.1189     | 5m 57s       |</pre>"
      ],
      "text/plain": [
       "| 18538        | 3.7e+08 | 92.1189     | 5m 57s       |"
      ]
     },
     "metadata": {},
     "output_type": "display_data"
    },
    {
     "data": {
      "text/html": [
       "<pre>| 18591        | 3.7e+08 | 92.3822     | 5m 58s       |</pre>"
      ],
      "text/plain": [
       "| 18591        | 3.7e+08 | 92.3822     | 5m 58s       |"
      ]
     },
     "metadata": {},
     "output_type": "display_data"
    },
    {
     "data": {
      "text/html": [
       "<pre>| 18644        | 3.8e+08 | 92.6456     | 5m 59s       |</pre>"
      ],
      "text/plain": [
       "| 18644        | 3.8e+08 | 92.6456     | 5m 59s       |"
      ]
     },
     "metadata": {},
     "output_type": "display_data"
    },
    {
     "data": {
      "text/html": [
       "<pre>| 18698        | 3.8e+08 | 92.9139     | 6m 0s        |</pre>"
      ],
      "text/plain": [
       "| 18698        | 3.8e+08 | 92.9139     | 6m 0s        |"
      ]
     },
     "metadata": {},
     "output_type": "display_data"
    },
    {
     "data": {
      "text/html": [
       "<pre>| 18752        | 3.8e+08 | 93.1823     | 6m 1s        |</pre>"
      ],
      "text/plain": [
       "| 18752        | 3.8e+08 | 93.1823     | 6m 1s        |"
      ]
     },
     "metadata": {},
     "output_type": "display_data"
    },
    {
     "data": {
      "text/html": [
       "<pre>| 18806        | 3.8e+08 | 93.4506     | 6m 2s        |</pre>"
      ],
      "text/plain": [
       "| 18806        | 3.8e+08 | 93.4506     | 6m 2s        |"
      ]
     },
     "metadata": {},
     "output_type": "display_data"
    },
    {
     "data": {
      "text/html": [
       "<pre>| 18859        | 3.8e+08 | 93.714      | 6m 3s        |</pre>"
      ],
      "text/plain": [
       "| 18859        | 3.8e+08 | 93.714      | 6m 3s        |"
      ]
     },
     "metadata": {},
     "output_type": "display_data"
    },
    {
     "data": {
      "text/html": [
       "<pre>| 18912        | 3.8e+08 | 93.9798     | 6m 4s        |</pre>"
      ],
      "text/plain": [
       "| 18912        | 3.8e+08 | 93.9798     | 6m 4s        |"
      ]
     },
     "metadata": {},
     "output_type": "display_data"
    },
    {
     "data": {
      "text/html": [
       "<pre>| 18967        | 3.8e+08 | 94.2506     | 6m 5s        |</pre>"
      ],
      "text/plain": [
       "| 18967        | 3.8e+08 | 94.2506     | 6m 5s        |"
      ]
     },
     "metadata": {},
     "output_type": "display_data"
    },
    {
     "data": {
      "text/html": [
       "<pre>| 19021        | 3.8e+08 | 94.519      | 6m 6s        |</pre>"
      ],
      "text/plain": [
       "| 19021        | 3.8e+08 | 94.519      | 6m 6s        |"
      ]
     },
     "metadata": {},
     "output_type": "display_data"
    },
    {
     "data": {
      "text/html": [
       "<pre>| 19075        | 3.8e+08 | 94.7873     | 6m 7s        |</pre>"
      ],
      "text/plain": [
       "| 19075        | 3.8e+08 | 94.7873     | 6m 7s        |"
      ]
     },
     "metadata": {},
     "output_type": "display_data"
    },
    {
     "data": {
      "text/html": [
       "<pre>| 19129        | 3.8e+08 | 95.0557     | 6m 8s        |</pre>"
      ],
      "text/plain": [
       "| 19129        | 3.8e+08 | 95.0557     | 6m 8s        |"
      ]
     },
     "metadata": {},
     "output_type": "display_data"
    },
    {
     "data": {
      "text/html": [
       "<pre>| 19182        | 3.9e+08 | 95.3215     | 6m 9s        |</pre>"
      ],
      "text/plain": [
       "| 19182        | 3.9e+08 | 95.3215     | 6m 9s        |"
      ]
     },
     "metadata": {},
     "output_type": "display_data"
    },
    {
     "data": {
      "text/html": [
       "<pre>| 19233        | 3.9e+08 | 95.5725     | 6m 10s       |</pre>"
      ],
      "text/plain": [
       "| 19233        | 3.9e+08 | 95.5725     | 6m 10s       |"
      ]
     },
     "metadata": {},
     "output_type": "display_data"
    },
    {
     "data": {
      "text/html": [
       "<pre>| 19288        | 3.9e+08 | 95.8458     | 6m 11s       |</pre>"
      ],
      "text/plain": [
       "| 19288        | 3.9e+08 | 95.8458     | 6m 11s       |"
      ]
     },
     "metadata": {},
     "output_type": "display_data"
    },
    {
     "data": {
      "text/html": [
       "<pre>| 19342        | 3.9e+08 | 96.1141     | 6m 12s       |</pre>"
      ],
      "text/plain": [
       "| 19342        | 3.9e+08 | 96.1141     | 6m 12s       |"
      ]
     },
     "metadata": {},
     "output_type": "display_data"
    },
    {
     "data": {
      "text/html": [
       "<pre>| 19393        | 3.9e+08 | 96.3675     | 6m 13s       |</pre>"
      ],
      "text/plain": [
       "| 19393        | 3.9e+08 | 96.3675     | 6m 13s       |"
      ]
     },
     "metadata": {},
     "output_type": "display_data"
    },
    {
     "data": {
      "text/html": [
       "<pre>| 19447        | 3.9e+08 | 96.6359     | 6m 14s       |</pre>"
      ],
      "text/plain": [
       "| 19447        | 3.9e+08 | 96.6359     | 6m 14s       |"
      ]
     },
     "metadata": {},
     "output_type": "display_data"
    },
    {
     "data": {
      "text/html": [
       "<pre>| 19502        | 3.9e+08 | 96.9092     | 6m 15s       |</pre>"
      ],
      "text/plain": [
       "| 19502        | 3.9e+08 | 96.9092     | 6m 15s       |"
      ]
     },
     "metadata": {},
     "output_type": "display_data"
    },
    {
     "data": {
      "text/html": [
       "<pre>| 19553        | 3.9e+08 | 97.1651     | 6m 16s       |</pre>"
      ],
      "text/plain": [
       "| 19553        | 3.9e+08 | 97.1651     | 6m 16s       |"
      ]
     },
     "metadata": {},
     "output_type": "display_data"
    },
    {
     "data": {
      "text/html": [
       "<pre>| 19608        | 3.9e+08 | 97.4384     | 6m 17s       |</pre>"
      ],
      "text/plain": [
       "| 19608        | 3.9e+08 | 97.4384     | 6m 17s       |"
      ]
     },
     "metadata": {},
     "output_type": "display_data"
    },
    {
     "data": {
      "text/html": [
       "<pre>| 19663        | 4e+08   | 97.7117     | 6m 18s       |</pre>"
      ],
      "text/plain": [
       "| 19663        | 4e+08   | 97.7117     | 6m 18s       |"
      ]
     },
     "metadata": {},
     "output_type": "display_data"
    },
    {
     "data": {
      "text/html": [
       "<pre>| 19717        | 4e+08   | 97.98       | 6m 19s       |</pre>"
      ],
      "text/plain": [
       "| 19717        | 4e+08   | 97.98       | 6m 19s       |"
      ]
     },
     "metadata": {},
     "output_type": "display_data"
    },
    {
     "data": {
      "text/html": [
       "<pre>| 19769        | 4e+08   | 98.2384     | 6m 20s       |</pre>"
      ],
      "text/plain": [
       "| 19769        | 4e+08   | 98.2384     | 6m 20s       |"
      ]
     },
     "metadata": {},
     "output_type": "display_data"
    },
    {
     "data": {
      "text/html": [
       "<pre>| 19816        | 4e+08   | 98.472      | 6m 21s       |</pre>"
      ],
      "text/plain": [
       "| 19816        | 4e+08   | 98.472      | 6m 21s       |"
      ]
     },
     "metadata": {},
     "output_type": "display_data"
    },
    {
     "data": {
      "text/html": [
       "<pre>| 19839        | 4e+08   | 98.5838     | 6m 22s       |</pre>"
      ],
      "text/plain": [
       "| 19839        | 4e+08   | 98.5838     | 6m 22s       |"
      ]
     },
     "metadata": {},
     "output_type": "display_data"
    },
    {
     "data": {
      "text/html": [
       "<pre>| 19857        | 4e+08   | 98.6732     | 6m 23s       |</pre>"
      ],
      "text/plain": [
       "| 19857        | 4e+08   | 98.6732     | 6m 23s       |"
      ]
     },
     "metadata": {},
     "output_type": "display_data"
    },
    {
     "data": {
      "text/html": [
       "<pre>| 19884        | 4e+08   | 98.8099     | 6m 24s       |</pre>"
      ],
      "text/plain": [
       "| 19884        | 4e+08   | 98.8099     | 6m 24s       |"
      ]
     },
     "metadata": {},
     "output_type": "display_data"
    },
    {
     "data": {
      "text/html": [
       "<pre>| 19915        | 4e+08   | 98.9639     | 6m 25s       |</pre>"
      ],
      "text/plain": [
       "| 19915        | 4e+08   | 98.9639     | 6m 25s       |"
      ]
     },
     "metadata": {},
     "output_type": "display_data"
    },
    {
     "data": {
      "text/html": [
       "<pre>| 19947        | 4e+08   | 99.1229     | 6m 26s       |</pre>"
      ],
      "text/plain": [
       "| 19947        | 4e+08   | 99.1229     | 6m 26s       |"
      ]
     },
     "metadata": {},
     "output_type": "display_data"
    },
    {
     "data": {
      "text/html": [
       "<pre>| 19978        | 4e+08   | 99.277      | 6m 27s       |</pre>"
      ],
      "text/plain": [
       "| 19978        | 4e+08   | 99.277      | 6m 27s       |"
      ]
     },
     "metadata": {},
     "output_type": "display_data"
    },
    {
     "data": {
      "text/html": [
       "<pre>| 20010        | 4e+08   | 99.436      | 6m 28s       |</pre>"
      ],
      "text/plain": [
       "| 20010        | 4e+08   | 99.436      | 6m 28s       |"
      ]
     },
     "metadata": {},
     "output_type": "display_data"
    },
    {
     "data": {
      "text/html": [
       "<pre>| 20042        | 4e+08   | 99.595      | 6m 29s       |</pre>"
      ],
      "text/plain": [
       "| 20042        | 4e+08   | 99.595      | 6m 29s       |"
      ]
     },
     "metadata": {},
     "output_type": "display_data"
    },
    {
     "data": {
      "text/html": [
       "<pre>| 20084        | 4e+08   | 99.8037     | 6m 30s       |</pre>"
      ],
      "text/plain": [
       "| 20084        | 4e+08   | 99.8037     | 6m 30s       |"
      ]
     },
     "metadata": {},
     "output_type": "display_data"
    },
    {
     "data": {
      "text/html": [
       "<pre>| 20124        | 4e+08   | 100         | 6m 31s       |</pre>"
      ],
      "text/plain": [
       "| 20124        | 4e+08   | 100         | 6m 31s       |"
      ]
     },
     "metadata": {},
     "output_type": "display_data"
    },
    {
     "data": {
      "text/html": [
       "<pre>| Done         |         | 100         | 6m 31s       |</pre>"
      ],
      "text/plain": [
       "| Done         |         | 100         | 6m 31s       |"
      ]
     },
     "metadata": {},
     "output_type": "display_data"
    },
    {
     "data": {
      "text/html": [
       "<pre>+--------------+---------+-------------+--------------+</pre>"
      ],
      "text/plain": [
       "+--------------+---------+-------------+--------------+"
      ]
     },
     "metadata": {},
     "output_type": "display_data"
    },
    {
     "data": {
      "text/html": [
       "<pre>Preparing data set.</pre>"
      ],
      "text/plain": [
       "Preparing data set."
      ]
     },
     "metadata": {},
     "output_type": "display_data"
    },
    {
     "data": {
      "text/html": [
       "<pre>    Data has 0 observations with 0 users and 19619 items.</pre>"
      ],
      "text/plain": [
       "    Data has 0 observations with 0 users and 19619 items."
      ]
     },
     "metadata": {},
     "output_type": "display_data"
    },
    {
     "data": {
      "text/html": [
       "<pre>    Data prepared in: 2.30809s</pre>"
      ],
      "text/plain": [
       "    Data prepared in: 2.30809s"
      ]
     },
     "metadata": {},
     "output_type": "display_data"
    },
    {
     "data": {
      "text/html": [
       "<pre>Loading user-provided nearest items.</pre>"
      ],
      "text/plain": [
       "Loading user-provided nearest items."
      ]
     },
     "metadata": {},
     "output_type": "display_data"
    },
    {
     "data": {
      "text/html": [
       "<pre>Generating candidate set for working with new users.</pre>"
      ],
      "text/plain": [
       "Generating candidate set for working with new users."
      ]
     },
     "metadata": {},
     "output_type": "display_data"
    },
    {
     "data": {
      "text/html": [
       "<pre>Finished training in 0.128366s</pre>"
      ],
      "text/plain": [
       "Finished training in 0.128366s"
      ]
     },
     "metadata": {},
     "output_type": "display_data"
    }
   ],
   "source": [
    "recommender = graphlab.recommender.item_content_recommender.create(sf, item_id='url')"
   ]
  },
  {
   "cell_type": "code",
   "execution_count": 565,
   "metadata": {},
   "outputs": [],
   "source": [
    "def print_top_url(df_similar):\n",
    "    df_copy = df_similar.reset_index()\n",
    "    for i in range(len(df_similar['url'])):\n",
    "        print \"{}, {}\".format(df_copy['artist'][i].title(), df_copy['title'][i].title())\n",
    "        print \"http://open.spotify.com/album/{}\".format(df_copy['album_uri'][i])\n",
    "        print df_copy['url'][i]\n",
    "        print \"\\n\""
   ]
  },
  {
   "cell_type": "code",
   "execution_count": 566,
   "metadata": {},
   "outputs": [
    {
     "ename": "KeyError",
     "evalue": "'al'",
     "output_type": "error",
     "traceback": [
      "\u001b[0;31m---------------------------------------------------------------------------\u001b[0m",
      "\u001b[0;31mKeyError\u001b[0m                                  Traceback (most recent call last)",
      "\u001b[0;32m<ipython-input-566-3e36df36dc2f>\u001b[0m in \u001b[0;36m<module>\u001b[0;34m()\u001b[0m\n\u001b[0;32m----> 1\u001b[0;31m \u001b[0mdf_similar\u001b[0m\u001b[0;34m[\u001b[0m\u001b[0;34m'al'\u001b[0m\u001b[0;34m]\u001b[0m\u001b[0;34m\u001b[0m\u001b[0m\n\u001b[0m",
      "\u001b[0;32m/Users/andrewbashford/anaconda3/lib/python2.7/site-packages/pandas/core/frame.pyc\u001b[0m in \u001b[0;36m__getitem__\u001b[0;34m(self, key)\u001b[0m\n\u001b[1;32m   1962\u001b[0m             \u001b[0;32mreturn\u001b[0m \u001b[0mself\u001b[0m\u001b[0;34m.\u001b[0m\u001b[0m_getitem_multilevel\u001b[0m\u001b[0;34m(\u001b[0m\u001b[0mkey\u001b[0m\u001b[0;34m)\u001b[0m\u001b[0;34m\u001b[0m\u001b[0m\n\u001b[1;32m   1963\u001b[0m         \u001b[0;32melse\u001b[0m\u001b[0;34m:\u001b[0m\u001b[0;34m\u001b[0m\u001b[0m\n\u001b[0;32m-> 1964\u001b[0;31m             \u001b[0;32mreturn\u001b[0m \u001b[0mself\u001b[0m\u001b[0;34m.\u001b[0m\u001b[0m_getitem_column\u001b[0m\u001b[0;34m(\u001b[0m\u001b[0mkey\u001b[0m\u001b[0;34m)\u001b[0m\u001b[0;34m\u001b[0m\u001b[0m\n\u001b[0m\u001b[1;32m   1965\u001b[0m \u001b[0;34m\u001b[0m\u001b[0m\n\u001b[1;32m   1966\u001b[0m     \u001b[0;32mdef\u001b[0m \u001b[0m_getitem_column\u001b[0m\u001b[0;34m(\u001b[0m\u001b[0mself\u001b[0m\u001b[0;34m,\u001b[0m \u001b[0mkey\u001b[0m\u001b[0;34m)\u001b[0m\u001b[0;34m:\u001b[0m\u001b[0;34m\u001b[0m\u001b[0m\n",
      "\u001b[0;32m/Users/andrewbashford/anaconda3/lib/python2.7/site-packages/pandas/core/frame.pyc\u001b[0m in \u001b[0;36m_getitem_column\u001b[0;34m(self, key)\u001b[0m\n\u001b[1;32m   1969\u001b[0m         \u001b[0;31m# get column\u001b[0m\u001b[0;34m\u001b[0m\u001b[0;34m\u001b[0m\u001b[0m\n\u001b[1;32m   1970\u001b[0m         \u001b[0;32mif\u001b[0m \u001b[0mself\u001b[0m\u001b[0;34m.\u001b[0m\u001b[0mcolumns\u001b[0m\u001b[0;34m.\u001b[0m\u001b[0mis_unique\u001b[0m\u001b[0;34m:\u001b[0m\u001b[0;34m\u001b[0m\u001b[0m\n\u001b[0;32m-> 1971\u001b[0;31m             \u001b[0;32mreturn\u001b[0m \u001b[0mself\u001b[0m\u001b[0;34m.\u001b[0m\u001b[0m_get_item_cache\u001b[0m\u001b[0;34m(\u001b[0m\u001b[0mkey\u001b[0m\u001b[0;34m)\u001b[0m\u001b[0;34m\u001b[0m\u001b[0m\n\u001b[0m\u001b[1;32m   1972\u001b[0m \u001b[0;34m\u001b[0m\u001b[0m\n\u001b[1;32m   1973\u001b[0m         \u001b[0;31m# duplicate columns & possible reduce dimensionality\u001b[0m\u001b[0;34m\u001b[0m\u001b[0;34m\u001b[0m\u001b[0m\n",
      "\u001b[0;32m/Users/andrewbashford/anaconda3/lib/python2.7/site-packages/pandas/core/generic.pyc\u001b[0m in \u001b[0;36m_get_item_cache\u001b[0;34m(self, item)\u001b[0m\n\u001b[1;32m   1643\u001b[0m         \u001b[0mres\u001b[0m \u001b[0;34m=\u001b[0m \u001b[0mcache\u001b[0m\u001b[0;34m.\u001b[0m\u001b[0mget\u001b[0m\u001b[0;34m(\u001b[0m\u001b[0mitem\u001b[0m\u001b[0;34m)\u001b[0m\u001b[0;34m\u001b[0m\u001b[0m\n\u001b[1;32m   1644\u001b[0m         \u001b[0;32mif\u001b[0m \u001b[0mres\u001b[0m \u001b[0;32mis\u001b[0m \u001b[0mNone\u001b[0m\u001b[0;34m:\u001b[0m\u001b[0;34m\u001b[0m\u001b[0m\n\u001b[0;32m-> 1645\u001b[0;31m             \u001b[0mvalues\u001b[0m \u001b[0;34m=\u001b[0m \u001b[0mself\u001b[0m\u001b[0;34m.\u001b[0m\u001b[0m_data\u001b[0m\u001b[0;34m.\u001b[0m\u001b[0mget\u001b[0m\u001b[0;34m(\u001b[0m\u001b[0mitem\u001b[0m\u001b[0;34m)\u001b[0m\u001b[0;34m\u001b[0m\u001b[0m\n\u001b[0m\u001b[1;32m   1646\u001b[0m             \u001b[0mres\u001b[0m \u001b[0;34m=\u001b[0m \u001b[0mself\u001b[0m\u001b[0;34m.\u001b[0m\u001b[0m_box_item_values\u001b[0m\u001b[0;34m(\u001b[0m\u001b[0mitem\u001b[0m\u001b[0;34m,\u001b[0m \u001b[0mvalues\u001b[0m\u001b[0;34m)\u001b[0m\u001b[0;34m\u001b[0m\u001b[0m\n\u001b[1;32m   1647\u001b[0m             \u001b[0mcache\u001b[0m\u001b[0;34m[\u001b[0m\u001b[0mitem\u001b[0m\u001b[0;34m]\u001b[0m \u001b[0;34m=\u001b[0m \u001b[0mres\u001b[0m\u001b[0;34m\u001b[0m\u001b[0m\n",
      "\u001b[0;32m/Users/andrewbashford/anaconda3/lib/python2.7/site-packages/pandas/core/internals.pyc\u001b[0m in \u001b[0;36mget\u001b[0;34m(self, item, fastpath)\u001b[0m\n\u001b[1;32m   3588\u001b[0m \u001b[0;34m\u001b[0m\u001b[0m\n\u001b[1;32m   3589\u001b[0m             \u001b[0;32mif\u001b[0m \u001b[0;32mnot\u001b[0m \u001b[0misnull\u001b[0m\u001b[0;34m(\u001b[0m\u001b[0mitem\u001b[0m\u001b[0;34m)\u001b[0m\u001b[0;34m:\u001b[0m\u001b[0;34m\u001b[0m\u001b[0m\n\u001b[0;32m-> 3590\u001b[0;31m                 \u001b[0mloc\u001b[0m \u001b[0;34m=\u001b[0m \u001b[0mself\u001b[0m\u001b[0;34m.\u001b[0m\u001b[0mitems\u001b[0m\u001b[0;34m.\u001b[0m\u001b[0mget_loc\u001b[0m\u001b[0;34m(\u001b[0m\u001b[0mitem\u001b[0m\u001b[0;34m)\u001b[0m\u001b[0;34m\u001b[0m\u001b[0m\n\u001b[0m\u001b[1;32m   3591\u001b[0m             \u001b[0;32melse\u001b[0m\u001b[0;34m:\u001b[0m\u001b[0;34m\u001b[0m\u001b[0m\n\u001b[1;32m   3592\u001b[0m                 \u001b[0mindexer\u001b[0m \u001b[0;34m=\u001b[0m \u001b[0mnp\u001b[0m\u001b[0;34m.\u001b[0m\u001b[0marange\u001b[0m\u001b[0;34m(\u001b[0m\u001b[0mlen\u001b[0m\u001b[0;34m(\u001b[0m\u001b[0mself\u001b[0m\u001b[0;34m.\u001b[0m\u001b[0mitems\u001b[0m\u001b[0;34m)\u001b[0m\u001b[0;34m)\u001b[0m\u001b[0;34m[\u001b[0m\u001b[0misnull\u001b[0m\u001b[0;34m(\u001b[0m\u001b[0mself\u001b[0m\u001b[0;34m.\u001b[0m\u001b[0mitems\u001b[0m\u001b[0;34m)\u001b[0m\u001b[0;34m]\u001b[0m\u001b[0;34m\u001b[0m\u001b[0m\n",
      "\u001b[0;32m/Users/andrewbashford/anaconda3/lib/python2.7/site-packages/pandas/core/indexes/base.pyc\u001b[0m in \u001b[0;36mget_loc\u001b[0;34m(self, key, method, tolerance)\u001b[0m\n\u001b[1;32m   2442\u001b[0m                 \u001b[0;32mreturn\u001b[0m \u001b[0mself\u001b[0m\u001b[0;34m.\u001b[0m\u001b[0m_engine\u001b[0m\u001b[0;34m.\u001b[0m\u001b[0mget_loc\u001b[0m\u001b[0;34m(\u001b[0m\u001b[0mkey\u001b[0m\u001b[0;34m)\u001b[0m\u001b[0;34m\u001b[0m\u001b[0m\n\u001b[1;32m   2443\u001b[0m             \u001b[0;32mexcept\u001b[0m \u001b[0mKeyError\u001b[0m\u001b[0;34m:\u001b[0m\u001b[0;34m\u001b[0m\u001b[0m\n\u001b[0;32m-> 2444\u001b[0;31m                 \u001b[0;32mreturn\u001b[0m \u001b[0mself\u001b[0m\u001b[0;34m.\u001b[0m\u001b[0m_engine\u001b[0m\u001b[0;34m.\u001b[0m\u001b[0mget_loc\u001b[0m\u001b[0;34m(\u001b[0m\u001b[0mself\u001b[0m\u001b[0;34m.\u001b[0m\u001b[0m_maybe_cast_indexer\u001b[0m\u001b[0;34m(\u001b[0m\u001b[0mkey\u001b[0m\u001b[0;34m)\u001b[0m\u001b[0;34m)\u001b[0m\u001b[0;34m\u001b[0m\u001b[0m\n\u001b[0m\u001b[1;32m   2445\u001b[0m \u001b[0;34m\u001b[0m\u001b[0m\n\u001b[1;32m   2446\u001b[0m         \u001b[0mindexer\u001b[0m \u001b[0;34m=\u001b[0m \u001b[0mself\u001b[0m\u001b[0;34m.\u001b[0m\u001b[0mget_indexer\u001b[0m\u001b[0;34m(\u001b[0m\u001b[0;34m[\u001b[0m\u001b[0mkey\u001b[0m\u001b[0;34m]\u001b[0m\u001b[0;34m,\u001b[0m \u001b[0mmethod\u001b[0m\u001b[0;34m=\u001b[0m\u001b[0mmethod\u001b[0m\u001b[0;34m,\u001b[0m \u001b[0mtolerance\u001b[0m\u001b[0;34m=\u001b[0m\u001b[0mtolerance\u001b[0m\u001b[0;34m)\u001b[0m\u001b[0;34m\u001b[0m\u001b[0m\n",
      "\u001b[0;32mpandas/_libs/index.pyx\u001b[0m in \u001b[0;36mpandas._libs.index.IndexEngine.get_loc (pandas/_libs/index.c:5280)\u001b[0;34m()\u001b[0m\n",
      "\u001b[0;32mpandas/_libs/index.pyx\u001b[0m in \u001b[0;36mpandas._libs.index.IndexEngine.get_loc (pandas/_libs/index.c:5126)\u001b[0;34m()\u001b[0m\n",
      "\u001b[0;32mpandas/_libs/hashtable_class_helper.pxi\u001b[0m in \u001b[0;36mpandas._libs.hashtable.PyObjectHashTable.get_item (pandas/_libs/hashtable.c:20523)\u001b[0;34m()\u001b[0m\n",
      "\u001b[0;32mpandas/_libs/hashtable_class_helper.pxi\u001b[0m in \u001b[0;36mpandas._libs.hashtable.PyObjectHashTable.get_item (pandas/_libs/hashtable.c:20477)\u001b[0;34m()\u001b[0m\n",
      "\u001b[0;31mKeyError\u001b[0m: 'al'"
     ]
    }
   ],
   "source": [
    "df_similar['al']"
   ]
  },
  {
   "cell_type": "code",
   "execution_count": 567,
   "metadata": {},
   "outputs": [],
   "source": [
    "def get_similar(df, url, recommender):\n",
    "    top_5_similar = recommender.get_similar_items([url], k=20)['similar']\n",
    "    return df[(df['score'] > 7) & \n",
    "               (df['url'].isin(top_5_similar))][['artist','title', 'score', 'url', 'danceability rounded',\n",
    "                                                'valence rounded', 'energy rounded', 'acousticness rounded', \n",
    "                                               'pub_year', 'spotify_match', 'album_uri']].head(10)\n",
    "    "
   ]
  },
  {
   "cell_type": "code",
   "execution_count": 568,
   "metadata": {},
   "outputs": [],
   "source": [
    "def get_url(artist, title):\n",
    "    return df[(df['artist'] == artist) & (df['title'] == title)].iloc[0][6]"
   ]
  },
  {
   "cell_type": "code",
   "execution_count": 595,
   "metadata": {},
   "outputs": [
    {
     "data": {
      "text/plain": [
       "0                                             merry christmas lil mama: re-wrapped\n",
       "1                                                                         pressure\n",
       "2                                                           the beautiful & damned\n",
       "3                                                                      quiet storm\n",
       "4                                                                            pop 2\n",
       "5                                                               a home on earth ep\n",
       "6                                                                          revival\n",
       "7                                                              the golden ravedays\n",
       "8                                                          no_one ever really dies\n",
       "9                                                                    finding shore\n",
       "10                                                        rage against the machine\n",
       "11       diggin in the carts: a collection of pioneering japanese video game music\n",
       "12                                                      wyclef jean inspired by...\n",
       "13                                                                  saturation iii\n",
       "14                                                            fela kuti box set #4\n",
       "15                                                                         bloodas\n",
       "16                                                                  special forces\n",
       "17                                                                    tribute to 2\n",
       "18                                                       laughing at the system ep\n",
       "19                                                        my house from all angles\n",
       "20                                                                        say less\n",
       "21                                                               double or nothing\n",
       "22                                                                               8\n",
       "23                                                                      2 tha left\n",
       "24                                                                     highly rare\n",
       "25                                    quality control: control the streets, vol. 1\n",
       "26                                                                  improvisations\n",
       "27                                                                        too hard\n",
       "28                                                                       universel\n",
       "29                                                                      dedication\n",
       "                                           ...                                    \n",
       "20095                                                                    atardecer\n",
       "20096                                                         brand new secondhand\n",
       "20097                                                             busca invisibles\n",
       "20098                                                                  futureworld\n",
       "20099                                                                   pucker up!\n",
       "20100                                                                      solar 3\n",
       "20101                                                          the albemarle sound\n",
       "20102                                                              where's wolfie?\n",
       "20103                                                               axxess and ace\n",
       "20104                                                            cm: cornelius mix\n",
       "20105                                                        fm (fantasma remixes)\n",
       "20106                                                            singles 1989-1991\n",
       "20107                                                                    up a tree\n",
       "20108                                                     rehearsals for departure\n",
       "20109                                                        budakhan mindphone ep\n",
       "20110                                                                       clinic\n",
       "20111                                                                  summerteeth\n",
       "20112                                                                            a\n",
       "20113                                                      apple venus, volume one\n",
       "20114                                                            burning blue soul\n",
       "20115                                                           can you still feel\n",
       "20116                                                        fell in love at 22 ep\n",
       "20117                                                        keep it like a secret\n",
       "20118                                                             new world record\n",
       "20119                                                                  the sebadoh\n",
       "20120                                                                  the sebadoh\n",
       "20121                                                                     califone\n",
       "20122                                                            mission: control!\n",
       "20123                                                                       all-in\n",
       "20124                                                                 peel session\n",
       "Name: title, Length: 20124, dtype: object"
      ]
     },
     "execution_count": 595,
     "metadata": {},
     "output_type": "execute_result"
    }
   ],
   "source": [
    "df_merged.iloc[:, 4]"
   ]
  },
  {
   "cell_type": "code",
   "execution_count": null,
   "metadata": {},
   "outputs": [],
   "source": []
  },
  {
   "cell_type": "code",
   "execution_count": 618,
   "metadata": {},
   "outputs": [
    {
     "name": "stdout",
     "output_type": "stream",
     "text": [
      "Artist: chance the rapepr\n",
      "Album: coloring book\n",
      "Not a valid artist/album combination. Change the artist or choose from an album listed below\n",
      "Artist: chance the rapper\n",
      "Album: coloring book\n",
      "Brockhampton, Saturation Ii\n",
      "http://open.spotify.com/album/0XnqQzdSFAml08XZoRt1St\n",
      "https://pitchfork.com/reviews/albums/brockhampton-saturation-ii/\n",
      "\n",
      "\n",
      "Milo, Who Told You To Think??!!?!?!?!\n",
      "http://open.spotify.com/album/4Gp0hjbEreTxanivZ5N62V\n",
      "https://pitchfork.com/reviews/albums/milo-who-told-you-to-think/\n",
      "\n",
      "\n",
      "Tyler, The Creator, Flower Boy\n",
      "http://open.spotify.com/album/2nkto6YNI4rUYTLqEwWJ3o\n",
      "https://pitchfork.com/reviews/albums/tyler-the-creator-flower-boy/\n",
      "\n",
      "\n",
      "Stormzy, Gang Signs & Prayer\n",
      "http://open.spotify.com/album/5fkFWJ9LZizXE4yPenNGuy\n",
      "https://pitchfork.com/reviews/albums/22917-gang-signs-prayer/\n",
      "\n",
      "\n",
      "Childish Gambino, Awaken, My Love!\n",
      "http://open.spotify.com/album/5I8UjrKnJmBMDjKWjm9SoF\n",
      "https://pitchfork.com/reviews/albums/22671-awaken-my-love/\n",
      "\n",
      "\n",
      "Common, Black America Again\n",
      "http://open.spotify.com/album/2DTbGcv40CSMW0P4yAQQBa\n",
      "https://pitchfork.com/reviews/albums/22588-black-america-again/\n",
      "\n",
      "\n",
      "Common, Black America Again\n",
      "http://open.spotify.com/album/5dji3zHyzqBB0NM1PHjQNL\n",
      "https://pitchfork.com/reviews/albums/22588-black-america-again/\n",
      "\n",
      "\n",
      "Common, Black America Again\n",
      "http://open.spotify.com/album/74hPuIcd2Wa0T3FRqtTKHX\n",
      "https://pitchfork.com/reviews/albums/22588-black-america-again/\n",
      "\n",
      "\n",
      "Mac Miller, The Divine Feminine\n",
      "http://open.spotify.com/album/6f6tko6NWoH00cyFOl4VYQ\n",
      "https://pitchfork.com/reviews/albums/22293-the-divine-feminine/\n",
      "\n",
      "\n",
      "Yoni & Geti, Testarossa\n",
      "http://open.spotify.com/album/55uy6hFosECpgYwRjVQMFA\n",
      "https://pitchfork.com/reviews/albums/21903-testarossa/\n",
      "\n",
      "\n"
     ]
    }
   ],
   "source": [
    "artist = raw_input(\"Artist: \").strip().lower()\n",
    "title = raw_input(\"Album: \").strip().lower()\n",
    "while True:\n",
    "    try:\n",
    "        url = get_url(artist, title)\n",
    "        break\n",
    "    except:\n",
    "        print \"Not a valid artist/album combination. Change the artist or choose from an album listed below\"\n",
    "        for each in df_merged[df_merged['artist'] == artist]['title']:\n",
    "            print each\n",
    "        artist = raw_input(\"Artist: \").strip().lower()\n",
    "        title = raw_input(\"Album: \").lower()\n",
    "        url = get_url(artist, title)\n",
    "\n",
    "df_similar = get_similar(df_merged, url, recommender)\n",
    "print_top_url(df_similar)"
   ]
  },
  {
   "cell_type": "code",
   "execution_count": 505,
   "metadata": {},
   "outputs": [],
   "source": [
    "url = get_url('kanye west', 'yeezus')"
   ]
  },
  {
   "cell_type": "code",
   "execution_count": 506,
   "metadata": {},
   "outputs": [
    {
     "data": {
      "text/plain": [
       "'https://pitchfork.com/reviews/albums/18172-kanye-west-yeezus/'"
      ]
     },
     "execution_count": 506,
     "metadata": {},
     "output_type": "execute_result"
    }
   ],
   "source": [
    "url"
   ]
  },
  {
   "cell_type": "code",
   "execution_count": 507,
   "metadata": {
    "scrolled": false
   },
   "outputs": [
    {
     "data": {
      "text/html": [
       "<div>\n",
       "<style>\n",
       "    .dataframe thead tr:only-child th {\n",
       "        text-align: right;\n",
       "    }\n",
       "\n",
       "    .dataframe thead th {\n",
       "        text-align: left;\n",
       "    }\n",
       "\n",
       "    .dataframe tbody tr th {\n",
       "        vertical-align: top;\n",
       "    }\n",
       "</style>\n",
       "<table border=\"1\" class=\"dataframe\">\n",
       "  <thead>\n",
       "    <tr style=\"text-align: right;\">\n",
       "      <th></th>\n",
       "      <th>artist</th>\n",
       "      <th>title</th>\n",
       "      <th>score</th>\n",
       "      <th>url</th>\n",
       "      <th>danceability rounded</th>\n",
       "      <th>valence rounded</th>\n",
       "      <th>energy rounded</th>\n",
       "      <th>acousticness rounded</th>\n",
       "      <th>pub_year</th>\n",
       "      <th>spotify_match</th>\n",
       "    </tr>\n",
       "  </thead>\n",
       "  <tbody>\n",
       "    <tr>\n",
       "      <th>1582</th>\n",
       "      <td>mykki blanco</td>\n",
       "      <td>mykki</td>\n",
       "      <td>7.7</td>\n",
       "      <td>https://pitchfork.com/reviews/albums/22399-mykki/</td>\n",
       "      <td>6.0</td>\n",
       "      <td>3.9</td>\n",
       "      <td>6.1</td>\n",
       "      <td>2.2</td>\n",
       "      <td>2016</td>\n",
       "      <td>1</td>\n",
       "    </tr>\n",
       "    <tr>\n",
       "      <th>2708</th>\n",
       "      <td>g herbo</td>\n",
       "      <td>ballin like im kobe</td>\n",
       "      <td>7.2</td>\n",
       "      <td>https://pitchfork.com/reviews/albums/21153-ballin-like-im-kobe/</td>\n",
       "      <td>5.8</td>\n",
       "      <td>3.5</td>\n",
       "      <td>6.6</td>\n",
       "      <td>1.2</td>\n",
       "      <td>2015</td>\n",
       "      <td>1</td>\n",
       "    </tr>\n",
       "    <tr>\n",
       "      <th>3191</th>\n",
       "      <td>a$ap rocky</td>\n",
       "      <td>at.long.last.a$ap</td>\n",
       "      <td>7.8</td>\n",
       "      <td>https://pitchfork.com/reviews/albums/20661-atlonglastaap/</td>\n",
       "      <td>6.0</td>\n",
       "      <td>2.9</td>\n",
       "      <td>6.0</td>\n",
       "      <td>1.9</td>\n",
       "      <td>2015</td>\n",
       "      <td>1</td>\n",
       "    </tr>\n",
       "    <tr>\n",
       "      <th>3837</th>\n",
       "      <td>run the jewels</td>\n",
       "      <td>run the jewels 2</td>\n",
       "      <td>9.0</td>\n",
       "      <td>https://pitchfork.com/reviews/albums/19968-run-the-jewels-run-the-jewels-2/</td>\n",
       "      <td>6.2</td>\n",
       "      <td>3.3</td>\n",
       "      <td>6.4</td>\n",
       "      <td>1.0</td>\n",
       "      <td>2014</td>\n",
       "      <td>1</td>\n",
       "    </tr>\n",
       "    <tr>\n",
       "      <th>3962</th>\n",
       "      <td>freeway, the jacka</td>\n",
       "      <td>highway robbery</td>\n",
       "      <td>7.9</td>\n",
       "      <td>https://pitchfork.com/reviews/albums/19743-freeway-the-jacka-highway-robbery/</td>\n",
       "      <td>6.0</td>\n",
       "      <td>4.0</td>\n",
       "      <td>6.5</td>\n",
       "      <td>0.7</td>\n",
       "      <td>2014</td>\n",
       "      <td>1</td>\n",
       "    </tr>\n",
       "    <tr>\n",
       "      <th>4248</th>\n",
       "      <td>ab-soul</td>\n",
       "      <td>these days...</td>\n",
       "      <td>7.7</td>\n",
       "      <td>https://pitchfork.com/reviews/albums/19481-ab-soul-these-days/</td>\n",
       "      <td>6.1</td>\n",
       "      <td>4.2</td>\n",
       "      <td>5.8</td>\n",
       "      <td>2.0</td>\n",
       "      <td>2014</td>\n",
       "      <td>1</td>\n",
       "    </tr>\n",
       "    <tr>\n",
       "      <th>5164</th>\n",
       "      <td>drake</td>\n",
       "      <td>nothing was the same</td>\n",
       "      <td>8.6</td>\n",
       "      <td>https://pitchfork.com/reviews/albums/18511-drake-nothing-was-the-same/</td>\n",
       "      <td>6.6</td>\n",
       "      <td>3.3</td>\n",
       "      <td>5.7</td>\n",
       "      <td>1.5</td>\n",
       "      <td>2013</td>\n",
       "      <td>1</td>\n",
       "    </tr>\n",
       "    <tr>\n",
       "      <th>6282</th>\n",
       "      <td>kendrick lamar</td>\n",
       "      <td>good kid, m.a.a.d city</td>\n",
       "      <td>9.5</td>\n",
       "      <td>https://pitchfork.com/reviews/albums/17253-good-kid-maad-city/</td>\n",
       "      <td>5.8</td>\n",
       "      <td>3.2</td>\n",
       "      <td>6.6</td>\n",
       "      <td>1.2</td>\n",
       "      <td>2012</td>\n",
       "      <td>1</td>\n",
       "    </tr>\n",
       "    <tr>\n",
       "      <th>8001</th>\n",
       "      <td>tyler, the creator</td>\n",
       "      <td>goblin</td>\n",
       "      <td>8.0</td>\n",
       "      <td>https://pitchfork.com/reviews/albums/15413-goblin/</td>\n",
       "      <td>5.7</td>\n",
       "      <td>3.8</td>\n",
       "      <td>5.8</td>\n",
       "      <td>1.3</td>\n",
       "      <td>2011</td>\n",
       "      <td>1</td>\n",
       "    </tr>\n",
       "    <tr>\n",
       "      <th>8532</th>\n",
       "      <td>kanye west</td>\n",
       "      <td>my beautiful dark twisted fantasy</td>\n",
       "      <td>10.0</td>\n",
       "      <td>https://pitchfork.com/reviews/albums/14880-my-beautiful-dark-twisted-fantasy/</td>\n",
       "      <td>5.3</td>\n",
       "      <td>3.8</td>\n",
       "      <td>6.8</td>\n",
       "      <td>2.0</td>\n",
       "      <td>2010</td>\n",
       "      <td>1</td>\n",
       "    </tr>\n",
       "  </tbody>\n",
       "</table>\n",
       "</div>"
      ],
      "text/plain": [
       "                  artist                              title  score  \\\n",
       "1582        mykki blanco                              mykki    7.7   \n",
       "2708             g herbo                ballin like im kobe    7.2   \n",
       "3191          a$ap rocky                  at.long.last.a$ap    7.8   \n",
       "3837      run the jewels                   run the jewels 2    9.0   \n",
       "3962  freeway, the jacka                    highway robbery    7.9   \n",
       "4248             ab-soul                      these days...    7.7   \n",
       "5164               drake               nothing was the same    8.6   \n",
       "6282      kendrick lamar             good kid, m.a.a.d city    9.5   \n",
       "8001  tyler, the creator                             goblin    8.0   \n",
       "8532          kanye west  my beautiful dark twisted fantasy   10.0   \n",
       "\n",
       "                                                                                url  \\\n",
       "1582                              https://pitchfork.com/reviews/albums/22399-mykki/   \n",
       "2708                https://pitchfork.com/reviews/albums/21153-ballin-like-im-kobe/   \n",
       "3191                      https://pitchfork.com/reviews/albums/20661-atlonglastaap/   \n",
       "3837    https://pitchfork.com/reviews/albums/19968-run-the-jewels-run-the-jewels-2/   \n",
       "3962  https://pitchfork.com/reviews/albums/19743-freeway-the-jacka-highway-robbery/   \n",
       "4248                 https://pitchfork.com/reviews/albums/19481-ab-soul-these-days/   \n",
       "5164         https://pitchfork.com/reviews/albums/18511-drake-nothing-was-the-same/   \n",
       "6282                 https://pitchfork.com/reviews/albums/17253-good-kid-maad-city/   \n",
       "8001                             https://pitchfork.com/reviews/albums/15413-goblin/   \n",
       "8532  https://pitchfork.com/reviews/albums/14880-my-beautiful-dark-twisted-fantasy/   \n",
       "\n",
       "      danceability rounded  valence rounded  energy rounded  \\\n",
       "1582                   6.0              3.9             6.1   \n",
       "2708                   5.8              3.5             6.6   \n",
       "3191                   6.0              2.9             6.0   \n",
       "3837                   6.2              3.3             6.4   \n",
       "3962                   6.0              4.0             6.5   \n",
       "4248                   6.1              4.2             5.8   \n",
       "5164                   6.6              3.3             5.7   \n",
       "6282                   5.8              3.2             6.6   \n",
       "8001                   5.7              3.8             5.8   \n",
       "8532                   5.3              3.8             6.8   \n",
       "\n",
       "      acousticness rounded  pub_year  spotify_match  \n",
       "1582                   2.2      2016              1  \n",
       "2708                   1.2      2015              1  \n",
       "3191                   1.9      2015              1  \n",
       "3837                   1.0      2014              1  \n",
       "3962                   0.7      2014              1  \n",
       "4248                   2.0      2014              1  \n",
       "5164                   1.5      2013              1  \n",
       "6282                   1.2      2012              1  \n",
       "8001                   1.3      2011              1  \n",
       "8532                   2.0      2010              1  "
      ]
     },
     "execution_count": 507,
     "metadata": {},
     "output_type": "execute_result"
    }
   ],
   "source": [
    "get_similar(df_merged, url, recommender)"
   ]
  },
  {
   "cell_type": "code",
   "execution_count": 399,
   "metadata": {},
   "outputs": [
    {
     "data": {
      "text/html": [
       "<div>\n",
       "<style>\n",
       "    .dataframe thead tr:only-child th {\n",
       "        text-align: right;\n",
       "    }\n",
       "\n",
       "    .dataframe thead th {\n",
       "        text-align: left;\n",
       "    }\n",
       "\n",
       "    .dataframe tbody tr th {\n",
       "        vertical-align: top;\n",
       "    }\n",
       "</style>\n",
       "<table border=\"1\" class=\"dataframe\">\n",
       "  <thead>\n",
       "    <tr style=\"text-align: right;\">\n",
       "      <th></th>\n",
       "      <th>artist</th>\n",
       "      <th>title</th>\n",
       "      <th>score</th>\n",
       "      <th>url</th>\n",
       "      <th>danceability rounded</th>\n",
       "      <th>valence rounded</th>\n",
       "      <th>energy rounded</th>\n",
       "      <th>acousticness rounded</th>\n",
       "      <th>pub_year</th>\n",
       "      <th>spotify_match</th>\n",
       "    </tr>\n",
       "  </thead>\n",
       "  <tbody>\n",
       "    <tr>\n",
       "      <th>2708</th>\n",
       "      <td>g herbo</td>\n",
       "      <td>ballin like im kobe</td>\n",
       "      <td>7.2</td>\n",
       "      <td>https://pitchfork.com/reviews/albums/21153-ballin-like-im-kobe/</td>\n",
       "      <td>5.8</td>\n",
       "      <td>3.5</td>\n",
       "      <td>6.6</td>\n",
       "      <td>1.2</td>\n",
       "      <td>2015</td>\n",
       "      <td>1</td>\n",
       "    </tr>\n",
       "    <tr>\n",
       "      <th>3070</th>\n",
       "      <td>meek mill</td>\n",
       "      <td>dreams worth more than money</td>\n",
       "      <td>7.4</td>\n",
       "      <td>https://pitchfork.com/reviews/albums/20778-dreams-worth-more-than-money/</td>\n",
       "      <td>6.3</td>\n",
       "      <td>3.5</td>\n",
       "      <td>6.5</td>\n",
       "      <td>1.4</td>\n",
       "      <td>2015</td>\n",
       "      <td>1</td>\n",
       "    </tr>\n",
       "    <tr>\n",
       "      <th>3191</th>\n",
       "      <td>a$ap rocky</td>\n",
       "      <td>at.long.last.a$ap</td>\n",
       "      <td>7.8</td>\n",
       "      <td>https://pitchfork.com/reviews/albums/20661-atlonglastaap/</td>\n",
       "      <td>6.0</td>\n",
       "      <td>2.9</td>\n",
       "      <td>6.0</td>\n",
       "      <td>1.9</td>\n",
       "      <td>2015</td>\n",
       "      <td>1</td>\n",
       "    </tr>\n",
       "    <tr>\n",
       "      <th>3837</th>\n",
       "      <td>run the jewels</td>\n",
       "      <td>run the jewels 2</td>\n",
       "      <td>9.0</td>\n",
       "      <td>https://pitchfork.com/reviews/albums/19968-run-the-jewels-run-the-jewels-2/</td>\n",
       "      <td>6.2</td>\n",
       "      <td>3.3</td>\n",
       "      <td>6.4</td>\n",
       "      <td>1.0</td>\n",
       "      <td>2014</td>\n",
       "      <td>1</td>\n",
       "    </tr>\n",
       "    <tr>\n",
       "      <th>3962</th>\n",
       "      <td>freeway, the jacka</td>\n",
       "      <td>highway robbery</td>\n",
       "      <td>7.9</td>\n",
       "      <td>https://pitchfork.com/reviews/albums/19743-freeway-the-jacka-highway-robbery/</td>\n",
       "      <td>6.0</td>\n",
       "      <td>4.0</td>\n",
       "      <td>6.5</td>\n",
       "      <td>0.7</td>\n",
       "      <td>2014</td>\n",
       "      <td>1</td>\n",
       "    </tr>\n",
       "    <tr>\n",
       "      <th>5101</th>\n",
       "      <td>pusha t</td>\n",
       "      <td>my name is my name</td>\n",
       "      <td>8.0</td>\n",
       "      <td>https://pitchfork.com/reviews/albums/18277-pusha-t-my-name-is-my-name/</td>\n",
       "      <td>5.8</td>\n",
       "      <td>4.3</td>\n",
       "      <td>6.9</td>\n",
       "      <td>1.1</td>\n",
       "      <td>2013</td>\n",
       "      <td>1</td>\n",
       "    </tr>\n",
       "    <tr>\n",
       "      <th>5164</th>\n",
       "      <td>drake</td>\n",
       "      <td>nothing was the same</td>\n",
       "      <td>8.6</td>\n",
       "      <td>https://pitchfork.com/reviews/albums/18511-drake-nothing-was-the-same/</td>\n",
       "      <td>6.6</td>\n",
       "      <td>3.3</td>\n",
       "      <td>5.7</td>\n",
       "      <td>1.5</td>\n",
       "      <td>2013</td>\n",
       "      <td>1</td>\n",
       "    </tr>\n",
       "    <tr>\n",
       "      <th>5497</th>\n",
       "      <td>kanye west</td>\n",
       "      <td>yeezus</td>\n",
       "      <td>9.5</td>\n",
       "      <td>https://pitchfork.com/reviews/albums/18172-kanye-west-yeezus/</td>\n",
       "      <td>5.6</td>\n",
       "      <td>3.5</td>\n",
       "      <td>5.9</td>\n",
       "      <td>1.7</td>\n",
       "      <td>2013</td>\n",
       "      <td>1</td>\n",
       "    </tr>\n",
       "    <tr>\n",
       "      <th>6871</th>\n",
       "      <td>future</td>\n",
       "      <td>pluto</td>\n",
       "      <td>7.8</td>\n",
       "      <td>https://pitchfork.com/reviews/albums/16554-pluto/</td>\n",
       "      <td>6.3</td>\n",
       "      <td>4.0</td>\n",
       "      <td>6.5</td>\n",
       "      <td>0.8</td>\n",
       "      <td>2012</td>\n",
       "      <td>1</td>\n",
       "    </tr>\n",
       "    <tr>\n",
       "      <th>7398</th>\n",
       "      <td>nacho picasso</td>\n",
       "      <td>for the glory</td>\n",
       "      <td>7.9</td>\n",
       "      <td>https://pitchfork.com/reviews/albums/15976-for-the-glory/</td>\n",
       "      <td>6.6</td>\n",
       "      <td>3.3</td>\n",
       "      <td>5.9</td>\n",
       "      <td>1.6</td>\n",
       "      <td>2011</td>\n",
       "      <td>1</td>\n",
       "    </tr>\n",
       "  </tbody>\n",
       "</table>\n",
       "</div>"
      ],
      "text/plain": [
       "                  artist                         title  score  \\\n",
       "2708             g herbo           ballin like im kobe    7.2   \n",
       "3070           meek mill  dreams worth more than money    7.4   \n",
       "3191          a$ap rocky             at.long.last.a$ap    7.8   \n",
       "3837      run the jewels              run the jewels 2    9.0   \n",
       "3962  freeway, the jacka               highway robbery    7.9   \n",
       "5101             pusha t            my name is my name    8.0   \n",
       "5164               drake          nothing was the same    8.6   \n",
       "5497          kanye west                        yeezus    9.5   \n",
       "6871              future                         pluto    7.8   \n",
       "7398       nacho picasso                 for the glory    7.9   \n",
       "\n",
       "                                                                                url  \\\n",
       "2708                https://pitchfork.com/reviews/albums/21153-ballin-like-im-kobe/   \n",
       "3070       https://pitchfork.com/reviews/albums/20778-dreams-worth-more-than-money/   \n",
       "3191                      https://pitchfork.com/reviews/albums/20661-atlonglastaap/   \n",
       "3837    https://pitchfork.com/reviews/albums/19968-run-the-jewels-run-the-jewels-2/   \n",
       "3962  https://pitchfork.com/reviews/albums/19743-freeway-the-jacka-highway-robbery/   \n",
       "5101         https://pitchfork.com/reviews/albums/18277-pusha-t-my-name-is-my-name/   \n",
       "5164         https://pitchfork.com/reviews/albums/18511-drake-nothing-was-the-same/   \n",
       "5497                  https://pitchfork.com/reviews/albums/18172-kanye-west-yeezus/   \n",
       "6871                              https://pitchfork.com/reviews/albums/16554-pluto/   \n",
       "7398                      https://pitchfork.com/reviews/albums/15976-for-the-glory/   \n",
       "\n",
       "      danceability rounded  valence rounded  energy rounded  \\\n",
       "2708                   5.8              3.5             6.6   \n",
       "3070                   6.3              3.5             6.5   \n",
       "3191                   6.0              2.9             6.0   \n",
       "3837                   6.2              3.3             6.4   \n",
       "3962                   6.0              4.0             6.5   \n",
       "5101                   5.8              4.3             6.9   \n",
       "5164                   6.6              3.3             5.7   \n",
       "5497                   5.6              3.5             5.9   \n",
       "6871                   6.3              4.0             6.5   \n",
       "7398                   6.6              3.3             5.9   \n",
       "\n",
       "      acousticness rounded  pub_year  spotify_match  \n",
       "2708                   1.2      2015              1  \n",
       "3070                   1.4      2015              1  \n",
       "3191                   1.9      2015              1  \n",
       "3837                   1.0      2014              1  \n",
       "3962                   0.7      2014              1  \n",
       "5101                   1.1      2013              1  \n",
       "5164                   1.5      2013              1  \n",
       "5497                   1.7      2013              1  \n",
       "6871                   0.8      2012              1  \n",
       "7398                   1.6      2011              1  "
      ]
     },
     "execution_count": 399,
     "metadata": {},
     "output_type": "execute_result"
    }
   ],
   "source": [
    "get_similar(df_merged, 'https://pitchfork.com/reviews/albums/17253-good-kid-maad-city/', recommender)"
   ]
  },
  {
   "cell_type": "code",
   "execution_count": 407,
   "metadata": {},
   "outputs": [
    {
     "data": {
      "text/html": [
       "<div>\n",
       "<style>\n",
       "    .dataframe thead tr:only-child th {\n",
       "        text-align: right;\n",
       "    }\n",
       "\n",
       "    .dataframe thead th {\n",
       "        text-align: left;\n",
       "    }\n",
       "\n",
       "    .dataframe tbody tr th {\n",
       "        vertical-align: top;\n",
       "    }\n",
       "</style>\n",
       "<table border=\"1\" class=\"dataframe\">\n",
       "  <thead>\n",
       "    <tr style=\"text-align: right;\">\n",
       "      <th></th>\n",
       "      <th>artist</th>\n",
       "      <th>title</th>\n",
       "      <th>score</th>\n",
       "      <th>url</th>\n",
       "      <th>danceability rounded</th>\n",
       "      <th>valence rounded</th>\n",
       "      <th>energy rounded</th>\n",
       "      <th>acousticness rounded</th>\n",
       "      <th>pub_year</th>\n",
       "      <th>spotify_match</th>\n",
       "    </tr>\n",
       "  </thead>\n",
       "  <tbody>\n",
       "    <tr>\n",
       "      <th>13347</th>\n",
       "      <td>brakes</td>\n",
       "      <td>the beatific visions</td>\n",
       "      <td>7.8</td>\n",
       "      <td>https://pitchfork.com/reviews/albums/9667-the-beatific-visions/</td>\n",
       "      <td>4.7</td>\n",
       "      <td>5.8</td>\n",
       "      <td>7.2</td>\n",
       "      <td>1.8</td>\n",
       "      <td>2006</td>\n",
       "      <td>1</td>\n",
       "    </tr>\n",
       "    <tr>\n",
       "      <th>15396</th>\n",
       "      <td>the national</td>\n",
       "      <td>alligator</td>\n",
       "      <td>7.9</td>\n",
       "      <td>https://pitchfork.com/reviews/albums/5719-alligator/</td>\n",
       "      <td>5.2</td>\n",
       "      <td>5.4</td>\n",
       "      <td>7.4</td>\n",
       "      <td>2.8</td>\n",
       "      <td>2005</td>\n",
       "      <td>1</td>\n",
       "    </tr>\n",
       "    <tr>\n",
       "      <th>16809</th>\n",
       "      <td>oranger</td>\n",
       "      <td>shutdown the sun</td>\n",
       "      <td>7.3</td>\n",
       "      <td>https://pitchfork.com/reviews/albums/6022-shutdown-the-sun/</td>\n",
       "      <td>5.3</td>\n",
       "      <td>5.8</td>\n",
       "      <td>6.8</td>\n",
       "      <td>1.2</td>\n",
       "      <td>2004</td>\n",
       "      <td>1</td>\n",
       "    </tr>\n",
       "    <tr>\n",
       "      <th>17105</th>\n",
       "      <td>david bowie</td>\n",
       "      <td>reality</td>\n",
       "      <td>7.3</td>\n",
       "      <td>https://pitchfork.com/reviews/albums/880-reality/</td>\n",
       "      <td>5.7</td>\n",
       "      <td>5.0</td>\n",
       "      <td>7.3</td>\n",
       "      <td>1.7</td>\n",
       "      <td>2003</td>\n",
       "      <td>1</td>\n",
       "    </tr>\n",
       "    <tr>\n",
       "      <th>17226</th>\n",
       "      <td>the natural history</td>\n",
       "      <td>beat beat heartbeat</td>\n",
       "      <td>7.8</td>\n",
       "      <td>https://pitchfork.com/reviews/albums/5877-beat-beat-heartbeat/</td>\n",
       "      <td>5.9</td>\n",
       "      <td>6.5</td>\n",
       "      <td>7.0</td>\n",
       "      <td>2.2</td>\n",
       "      <td>2003</td>\n",
       "      <td>1</td>\n",
       "    </tr>\n",
       "    <tr>\n",
       "      <th>17417</th>\n",
       "      <td>black lipstick</td>\n",
       "      <td>converted thieves</td>\n",
       "      <td>7.5</td>\n",
       "      <td>https://pitchfork.com/reviews/albums/769-converted-thieves/</td>\n",
       "      <td>5.0</td>\n",
       "      <td>6.5</td>\n",
       "      <td>7.1</td>\n",
       "      <td>1.2</td>\n",
       "      <td>2003</td>\n",
       "      <td>1</td>\n",
       "    </tr>\n",
       "    <tr>\n",
       "      <th>18294</th>\n",
       "      <td>liars</td>\n",
       "      <td>they threw us all in a trench and stuck a monument on top</td>\n",
       "      <td>8.1</td>\n",
       "      <td>https://pitchfork.com/reviews/albums/4764-they-threw-us-all-in-a-trench-and-stuck-a-monument-on-...</td>\n",
       "      <td>5.4</td>\n",
       "      <td>5.6</td>\n",
       "      <td>6.8</td>\n",
       "      <td>1.5</td>\n",
       "      <td>2002</td>\n",
       "      <td>1</td>\n",
       "    </tr>\n",
       "    <tr>\n",
       "      <th>18318</th>\n",
       "      <td>skeleton key</td>\n",
       "      <td>obtainium</td>\n",
       "      <td>7.3</td>\n",
       "      <td>https://pitchfork.com/reviews/albums/7220-obtainium/</td>\n",
       "      <td>5.7</td>\n",
       "      <td>5.5</td>\n",
       "      <td>7.4</td>\n",
       "      <td>2.3</td>\n",
       "      <td>2002</td>\n",
       "      <td>1</td>\n",
       "    </tr>\n",
       "  </tbody>\n",
       "</table>\n",
       "</div>"
      ],
      "text/plain": [
       "                    artist  \\\n",
       "13347               brakes   \n",
       "15396         the national   \n",
       "16809              oranger   \n",
       "17105          david bowie   \n",
       "17226  the natural history   \n",
       "17417       black lipstick   \n",
       "18294                liars   \n",
       "18318         skeleton key   \n",
       "\n",
       "                                                           title  score  \\\n",
       "13347                                       the beatific visions    7.8   \n",
       "15396                                                  alligator    7.9   \n",
       "16809                                           shutdown the sun    7.3   \n",
       "17105                                                    reality    7.3   \n",
       "17226                                        beat beat heartbeat    7.8   \n",
       "17417                                          converted thieves    7.5   \n",
       "18294  they threw us all in a trench and stuck a monument on top    8.1   \n",
       "18318                                                  obtainium    7.3   \n",
       "\n",
       "                                                                                                       url  \\\n",
       "13347                                      https://pitchfork.com/reviews/albums/9667-the-beatific-visions/   \n",
       "15396                                                 https://pitchfork.com/reviews/albums/5719-alligator/   \n",
       "16809                                          https://pitchfork.com/reviews/albums/6022-shutdown-the-sun/   \n",
       "17105                                                    https://pitchfork.com/reviews/albums/880-reality/   \n",
       "17226                                       https://pitchfork.com/reviews/albums/5877-beat-beat-heartbeat/   \n",
       "17417                                          https://pitchfork.com/reviews/albums/769-converted-thieves/   \n",
       "18294  https://pitchfork.com/reviews/albums/4764-they-threw-us-all-in-a-trench-and-stuck-a-monument-on-...   \n",
       "18318                                                 https://pitchfork.com/reviews/albums/7220-obtainium/   \n",
       "\n",
       "       danceability rounded  valence rounded  energy rounded  \\\n",
       "13347                   4.7              5.8             7.2   \n",
       "15396                   5.2              5.4             7.4   \n",
       "16809                   5.3              5.8             6.8   \n",
       "17105                   5.7              5.0             7.3   \n",
       "17226                   5.9              6.5             7.0   \n",
       "17417                   5.0              6.5             7.1   \n",
       "18294                   5.4              5.6             6.8   \n",
       "18318                   5.7              5.5             7.4   \n",
       "\n",
       "       acousticness rounded  pub_year  spotify_match  \n",
       "13347                   1.8      2006              1  \n",
       "15396                   2.8      2005              1  \n",
       "16809                   1.2      2004              1  \n",
       "17105                   1.7      2003              1  \n",
       "17226                   2.2      2003              1  \n",
       "17417                   1.2      2003              1  \n",
       "18294                   1.5      2002              1  \n",
       "18318                   2.3      2002              1  "
      ]
     },
     "execution_count": 407,
     "metadata": {},
     "output_type": "execute_result"
    }
   ],
   "source": [
    "get_similar(df_merged, 'https://pitchfork.com/reviews/albums/3160-welcome-interstate-managers/', recommender)"
   ]
  },
  {
   "cell_type": "code",
   "execution_count": 414,
   "metadata": {},
   "outputs": [
    {
     "data": {
      "text/html": [
       "<div>\n",
       "<style>\n",
       "    .dataframe thead tr:only-child th {\n",
       "        text-align: right;\n",
       "    }\n",
       "\n",
       "    .dataframe thead th {\n",
       "        text-align: left;\n",
       "    }\n",
       "\n",
       "    .dataframe tbody tr th {\n",
       "        vertical-align: top;\n",
       "    }\n",
       "</style>\n",
       "<table border=\"1\" class=\"dataframe\">\n",
       "  <thead>\n",
       "    <tr style=\"text-align: right;\">\n",
       "      <th></th>\n",
       "      <th>artist</th>\n",
       "      <th>title</th>\n",
       "      <th>score</th>\n",
       "      <th>url</th>\n",
       "      <th>danceability rounded</th>\n",
       "      <th>valence rounded</th>\n",
       "      <th>energy rounded</th>\n",
       "      <th>acousticness rounded</th>\n",
       "      <th>pub_year</th>\n",
       "      <th>spotify_match</th>\n",
       "    </tr>\n",
       "  </thead>\n",
       "  <tbody>\n",
       "    <tr>\n",
       "      <th>905</th>\n",
       "      <td>white reaper</td>\n",
       "      <td>the worlds best american band</td>\n",
       "      <td>8.0</td>\n",
       "      <td>https://pitchfork.com/reviews/albums/23064-the-worlds-best-american-band/</td>\n",
       "      <td>5.3</td>\n",
       "      <td>5.0</td>\n",
       "      <td>9.2</td>\n",
       "      <td>1.1</td>\n",
       "      <td>2017</td>\n",
       "      <td>1</td>\n",
       "    </tr>\n",
       "    <tr>\n",
       "      <th>1508</th>\n",
       "      <td>joyce manor</td>\n",
       "      <td>cody</td>\n",
       "      <td>7.7</td>\n",
       "      <td>https://pitchfork.com/reviews/albums/22477-cody/</td>\n",
       "      <td>5.2</td>\n",
       "      <td>5.2</td>\n",
       "      <td>8.4</td>\n",
       "      <td>1.0</td>\n",
       "      <td>2016</td>\n",
       "      <td>1</td>\n",
       "    </tr>\n",
       "    <tr>\n",
       "      <th>1831</th>\n",
       "      <td>the julie ruin</td>\n",
       "      <td>hit reset</td>\n",
       "      <td>8.2</td>\n",
       "      <td>https://pitchfork.com/reviews/albums/22073-hit-reset/</td>\n",
       "      <td>5.5</td>\n",
       "      <td>4.9</td>\n",
       "      <td>7.9</td>\n",
       "      <td>0.8</td>\n",
       "      <td>2016</td>\n",
       "      <td>1</td>\n",
       "    </tr>\n",
       "    <tr>\n",
       "      <th>2100</th>\n",
       "      <td>operators</td>\n",
       "      <td>blue wave</td>\n",
       "      <td>7.5</td>\n",
       "      <td>https://pitchfork.com/reviews/albums/21851-blue-wave/</td>\n",
       "      <td>5.2</td>\n",
       "      <td>5.3</td>\n",
       "      <td>7.9</td>\n",
       "      <td>0.1</td>\n",
       "      <td>2016</td>\n",
       "      <td>1</td>\n",
       "    </tr>\n",
       "    <tr>\n",
       "      <th>2435</th>\n",
       "      <td>diiv</td>\n",
       "      <td>is the is are</td>\n",
       "      <td>8.1</td>\n",
       "      <td>https://pitchfork.com/reviews/albums/21462-is-the-is-are/</td>\n",
       "      <td>5.0</td>\n",
       "      <td>4.8</td>\n",
       "      <td>8.3</td>\n",
       "      <td>0.5</td>\n",
       "      <td>2016</td>\n",
       "      <td>1</td>\n",
       "    </tr>\n",
       "    <tr>\n",
       "      <th>2765</th>\n",
       "      <td>eagles of death metal</td>\n",
       "      <td>zipper down</td>\n",
       "      <td>7.3</td>\n",
       "      <td>https://pitchfork.com/reviews/albums/21115-zipper-down/</td>\n",
       "      <td>5.2</td>\n",
       "      <td>6.2</td>\n",
       "      <td>8.7</td>\n",
       "      <td>0.7</td>\n",
       "      <td>2015</td>\n",
       "      <td>1</td>\n",
       "    </tr>\n",
       "    <tr>\n",
       "      <th>2816</th>\n",
       "      <td>new order</td>\n",
       "      <td>music complete</td>\n",
       "      <td>7.2</td>\n",
       "      <td>https://pitchfork.com/reviews/albums/21036-music-complete/</td>\n",
       "      <td>5.4</td>\n",
       "      <td>5.0</td>\n",
       "      <td>9.0</td>\n",
       "      <td>0.1</td>\n",
       "      <td>2015</td>\n",
       "      <td>1</td>\n",
       "    </tr>\n",
       "    <tr>\n",
       "      <th>3480</th>\n",
       "      <td>young guv</td>\n",
       "      <td>ripe 4 luv</td>\n",
       "      <td>7.5</td>\n",
       "      <td>https://pitchfork.com/reviews/albums/20241-ripe-4-luv/</td>\n",
       "      <td>5.4</td>\n",
       "      <td>5.4</td>\n",
       "      <td>8.5</td>\n",
       "      <td>0.6</td>\n",
       "      <td>2015</td>\n",
       "      <td>1</td>\n",
       "    </tr>\n",
       "    <tr>\n",
       "      <th>4076</th>\n",
       "      <td>the new pornographers</td>\n",
       "      <td>brill bruisers</td>\n",
       "      <td>7.7</td>\n",
       "      <td>https://pitchfork.com/reviews/albums/19722-the-new-pornographers-brill-bruisers/</td>\n",
       "      <td>5.5</td>\n",
       "      <td>5.7</td>\n",
       "      <td>7.9</td>\n",
       "      <td>1.1</td>\n",
       "      <td>2014</td>\n",
       "      <td>1</td>\n",
       "    </tr>\n",
       "  </tbody>\n",
       "</table>\n",
       "</div>"
      ],
      "text/plain": [
       "                     artist                          title  score  \\\n",
       "905            white reaper  the worlds best american band    8.0   \n",
       "1508            joyce manor                           cody    7.7   \n",
       "1831         the julie ruin                      hit reset    8.2   \n",
       "2100              operators                      blue wave    7.5   \n",
       "2435                   diiv                  is the is are    8.1   \n",
       "2765  eagles of death metal                    zipper down    7.3   \n",
       "2816              new order                 music complete    7.2   \n",
       "3480              young guv                     ripe 4 luv    7.5   \n",
       "4076  the new pornographers                 brill bruisers    7.7   \n",
       "\n",
       "                                                                                   url  \\\n",
       "905          https://pitchfork.com/reviews/albums/23064-the-worlds-best-american-band/   \n",
       "1508                                  https://pitchfork.com/reviews/albums/22477-cody/   \n",
       "1831                             https://pitchfork.com/reviews/albums/22073-hit-reset/   \n",
       "2100                             https://pitchfork.com/reviews/albums/21851-blue-wave/   \n",
       "2435                         https://pitchfork.com/reviews/albums/21462-is-the-is-are/   \n",
       "2765                           https://pitchfork.com/reviews/albums/21115-zipper-down/   \n",
       "2816                        https://pitchfork.com/reviews/albums/21036-music-complete/   \n",
       "3480                            https://pitchfork.com/reviews/albums/20241-ripe-4-luv/   \n",
       "4076  https://pitchfork.com/reviews/albums/19722-the-new-pornographers-brill-bruisers/   \n",
       "\n",
       "      danceability rounded  valence rounded  energy rounded  \\\n",
       "905                    5.3              5.0             9.2   \n",
       "1508                   5.2              5.2             8.4   \n",
       "1831                   5.5              4.9             7.9   \n",
       "2100                   5.2              5.3             7.9   \n",
       "2435                   5.0              4.8             8.3   \n",
       "2765                   5.2              6.2             8.7   \n",
       "2816                   5.4              5.0             9.0   \n",
       "3480                   5.4              5.4             8.5   \n",
       "4076                   5.5              5.7             7.9   \n",
       "\n",
       "      acousticness rounded  pub_year  spotify_match  \n",
       "905                    1.1      2017              1  \n",
       "1508                   1.0      2016              1  \n",
       "1831                   0.8      2016              1  \n",
       "2100                   0.1      2016              1  \n",
       "2435                   0.5      2016              1  \n",
       "2765                   0.7      2015              1  \n",
       "2816                   0.1      2015              1  \n",
       "3480                   0.6      2015              1  \n",
       "4076                   1.1      2014              1  "
      ]
     },
     "execution_count": 414,
     "metadata": {},
     "output_type": "execute_result"
    }
   ],
   "source": [
    "get_similar(df_merged, 'https://pitchfork.com/reviews/albums/23070-whiteout-conditions/', recommender)"
   ]
  },
  {
   "cell_type": "code",
   "execution_count": 415,
   "metadata": {},
   "outputs": [
    {
     "data": {
      "text/plain": [
       "Class                            : ItemContentRecommender\n",
       "\n",
       "Schema\n",
       "------\n",
       "User ID                          : __implicit_user__\n",
       "Item ID                          : url\n",
       "Target                           : None\n",
       "Additional observation features  : 0\n",
       "User side features               : []\n",
       "Item side features               : ['url', 'tf-idf', 'danceability rounded', 'valence rounded', 'energy rounded', 'acousticness rounded', 'pub_year', 'genre_electronic', 'genre_experimental', 'genre_folk/country', 'genre_global', 'genre_jazz', 'genre_metal', 'genre_pop/r&b', 'genre_rap', 'genre_rock', 'new_album', 'spotify_match']\n",
       "\n",
       "Statistics\n",
       "----------\n",
       "Number of observations           : 0\n",
       "Number of users                  : 0\n",
       "Number of items                  : 19619\n",
       "\n",
       "Training summary\n",
       "----------------\n",
       "Training time                    : 0.0875\n",
       "\n",
       "Model Parameters\n",
       "----------------\n",
       "Model class                      : ItemContentRecommender\n",
       "threshold                        : 0.0001\n",
       "similarity_type                  : cosine\n",
       "training_method                  : auto\n",
       "\n",
       "Other Settings\n",
       "--------------\n",
       "degree_approximation_threshold   : 4096\n",
       "sparse_density_estimation_sample_size : 4096\n",
       "max_data_passes                  : 4096\n",
       "target_memory_usage              : 8589934592\n",
       "seed_item_set_size               : 50\n",
       "nearest_neighbors_interaction_proportion_threshold : 0.05\n",
       "max_item_neighborhood_size       : 64"
      ]
     },
     "execution_count": 415,
     "metadata": {},
     "output_type": "execute_result"
    }
   ],
   "source": [
    "recommender"
   ]
  },
  {
   "cell_type": "code",
   "execution_count": 286,
   "metadata": {},
   "outputs": [
    {
     "data": {
      "text/plain": [
       "Index([u'Unnamed: 0', u'Unnamed: 0.1', u'index', u'reviewid', u'title',\n",
       "       u'artist', u'url', u'score', u'best_new_music', u'best_new_reissue',\n",
       "       u'author', u'pub_date', u'pub_weekday', u'pub_day', u'pub_month',\n",
       "       u'pub_year', u'year', u'genre_electronic', u'genre_experimental',\n",
       "       u'genre_folk/country', u'genre_global', u'genre_jazz', u'genre_metal',\n",
       "       u'genre_pop/r&b', u'genre_rap', u'genre_rock', u'content', u'abstract',\n",
       "       u'reissue', u'num_years_since_release', u'new_album', u'abstract_adj',\n",
       "       u'content_adj', u'cont_polarity', u'cont_subjectivity', u'abs_polarity',\n",
       "       u'abs_subjectivity', u'abs_adj_polarity', u'abs_adj_subjectivity',\n",
       "       u'cont_adj_polarity', u'cont_adj_subjectivity', u'word_count',\n",
       "       u'adj_count', u'adj_freq', u'score_bin', u'avg_word_length',\n",
       "       u'adj_word_length', u'num_prev_reviews', u'avg_score_of_prev_reviews',\n",
       "       u'number_prev_bnm', u'era'],\n",
       "      dtype='object')"
      ]
     },
     "execution_count": 286,
     "metadata": {},
     "output_type": "execute_result"
    }
   ],
   "source": [
    "df[df['artist'] == 'foals'].columns"
   ]
  },
  {
   "cell_type": "code",
   "execution_count": null,
   "metadata": {
    "collapsed": true
   },
   "outputs": [],
   "source": []
  },
  {
   "cell_type": "code",
   "execution_count": 460,
   "metadata": {
    "collapsed": true
   },
   "outputs": [],
   "source": [
    "import numpy as np\n",
    "import matplotlib.pyplot as plt\n",
    "from scipy import stats\n",
    "\n",
    "from sklearn.linear_model import BayesianRidge, LinearRegression\n",
    "from sklearn.model_selection import train_test_split\n",
    "from sklearn.naive_bayes import MultinomialNB\n",
    "from sklearn.metrics import precision_score"
   ]
  },
  {
   "cell_type": "code",
   "execution_count": 479,
   "metadata": {},
   "outputs": [
    {
     "name": "stdout",
     "output_type": "stream",
     "text": [
      "Accuracy on test set: 0.920877793437\n"
     ]
    }
   ],
   "source": [
    "docs_train, docs_test, y_train, y_test = train_test_split(df_merged['content'], df_merged['score_bin_2'])\n",
    "vect = TfidfVectorizer(stop_words='english')\n",
    "X_train = vect.fit_transform(docs_train)\n",
    "X_test = vect.transform(docs_test)\n",
    "multiNB = MultinomialNB()\n",
    "multiNB.fit(X_train, y_train)\n",
    "print \"Accuracy on test set:\", multiNB.score(X_test, y_test)"
   ]
  },
  {
   "cell_type": "code",
   "execution_count": 480,
   "metadata": {},
   "outputs": [
    {
     "data": {
      "text/plain": [
       "0.9252298812000805"
      ]
     },
     "execution_count": 480,
     "metadata": {},
     "output_type": "execute_result"
    }
   ],
   "source": [
    "y_train.mean()"
   ]
  },
  {
   "cell_type": "code",
   "execution_count": 471,
   "metadata": {},
   "outputs": [
    {
     "data": {
      "text/plain": [
       "0.05370985603543743"
      ]
     },
     "execution_count": 471,
     "metadata": {},
     "output_type": "execute_result"
    }
   ],
   "source": [
    "df_merged['best_new_music'].mean()"
   ]
  },
  {
   "cell_type": "code",
   "execution_count": 481,
   "metadata": {},
   "outputs": [
    {
     "data": {
      "text/plain": [
       "0.92087779343668208"
      ]
     },
     "execution_count": 481,
     "metadata": {},
     "output_type": "execute_result"
    }
   ],
   "source": []
  },
  {
   "cell_type": "code",
   "execution_count": null,
   "metadata": {
    "collapsed": true
   },
   "outputs": [],
   "source": []
  },
  {
   "cell_type": "code",
   "execution_count": 447,
   "metadata": {},
   "outputs": [],
   "source": [
    "X = np.array(df_merged['tf-idf'].values)"
   ]
  },
  {
   "cell_type": "code",
   "execution_count": 448,
   "metadata": {},
   "outputs": [
    {
     "data": {
      "text/plain": [
       "array([ array([ 0.        ,  0.        ,  0.        ,  0.        ,  0.        ,\n",
       "        0.        ,  0.04922068,  0.        ,  0.05990151,  0.12285673,\n",
       "        0.        ,  0.        ,  0.        ,  0.        ,  0.        ,\n",
       "        0.        ,  0.        ,  0.10877533,  0.        ,  0.        ,\n",
       "        0.        ,  0.        ,  0.        ,  0.        ,  0.        ,\n",
       "        0.        ,  0.        ,  0.        ,  0.        ,  0.        ,\n",
       "        0.        ,  0.        ,  0.        ,  0.        ,  0.0464924 ,\n",
       "        0.04576717,  0.25116939,  0.        ,  0.        ,  0.        ,\n",
       "        0.06841754,  0.        ,  0.        ,  0.        ,  0.        ,\n",
       "        0.        ,  0.        ,  0.        ,  0.        ,  0.05935667,\n",
       "        0.        ,  0.        ,  0.        ,  0.        ,  0.        ,\n",
       "        0.05788654,  0.05558185,  0.05497862,  0.        ,  0.0556578 ,\n",
       "        0.        ,  0.        ,  0.        ,  0.        ,  0.        ,\n",
       "        0.        ,  0.        ,  0.        ,  0.        ,  0.        ,\n",
       "        0.        ,  0.        ,  0.        ,  0.05168665,  0.06661731,\n",
       "        0.        ,  0.        ,  0.        ,  0.        ,  0.06812575,\n",
       "        0.1502005 ,  0.        ,  0.        ,  0.05749217,  0.        ,\n",
       "        0.        ,  0.        ,  0.05206225,  0.0535337 ,  0.0548809 ,\n",
       "        0.        ,  0.        ,  0.48376187,  0.        ,  0.        ,\n",
       "        0.        ,  0.        ,  0.        ,  0.        ,  0.        ,\n",
       "        0.        ,  0.        ,  0.        ,  0.04891378,  0.        ,\n",
       "        0.        ,  0.        ,  0.        ,  0.        ,  0.        ,\n",
       "        0.        ,  0.        ,  0.        ,  0.06141129,  0.06159132,\n",
       "        0.08330655,  0.        ,  0.        ,  0.        ,  0.        ,\n",
       "        0.        ,  0.        ,  0.05271034,  0.        ,  0.        ,\n",
       "        0.        ,  0.        ,  0.        ,  0.        ,  0.        ,\n",
       "        0.        ,  0.05441144,  0.        ,  0.        ,  0.        ,\n",
       "        0.        ,  0.11478965,  0.08811875,  0.19390423,  0.        ,\n",
       "        0.        ,  0.        ,  0.        ,  0.05642751,  0.        ,\n",
       "        0.        ,  0.        ,  0.        ,  0.        ,  0.        ,\n",
       "        0.        ,  0.        ,  0.11298722,  0.        ,  0.13471372,\n",
       "        0.        ,  0.        ,  0.        ,  0.05955725,  0.        ,\n",
       "        0.        ,  0.        ,  0.05297909,  0.        ,  0.        ,\n",
       "        0.        ,  0.        ,  0.        ,  0.        ,  0.        ,\n",
       "        0.        ,  0.        ,  0.07470581,  0.        ,  0.08993842,\n",
       "        0.        ,  0.        ,  0.        ,  0.        ,  0.        ,\n",
       "        0.        ,  0.        ,  0.        ,  0.        ,  0.        ,\n",
       "        0.        ,  0.0650421 ,  0.        ,  0.        ,  0.04707405,\n",
       "        0.        ,  0.        ,  0.        ,  0.        ,  0.        ,\n",
       "        0.        ,  0.05834729,  0.06182528,  0.        ,  0.        ,\n",
       "        0.        ,  0.05194671,  0.        ,  0.        ,  0.05798639,\n",
       "        0.        ,  0.16007497,  0.        ,  0.        ,  0.        ,\n",
       "        0.        ,  0.        ,  0.        ,  0.        ,  0.        ,\n",
       "        0.        ,  0.        ,  0.        ,  0.        ,  0.        ,\n",
       "        0.08581168,  0.        ,  0.        ,  0.        ,  0.        ,\n",
       "        0.        ,  0.0676137 ,  0.        ,  0.0875513 ,  0.        ,\n",
       "        0.        ,  0.        ,  0.        ,  0.        ,  0.05111146,\n",
       "        0.05231676,  0.        ,  0.        ,  0.10387248,  0.        ,\n",
       "        0.04967636,  0.        ,  0.08772343,  0.        ,  0.        ,\n",
       "        0.        ,  0.        ,  0.        ,  0.        ,  0.        ,\n",
       "        0.05453671,  0.09304809,  0.        ,  0.04765271,  0.        ,\n",
       "        0.05781552,  0.        ,  0.05428105,  0.        ,  0.        ,\n",
       "        0.05574678,  0.        ,  0.        ,  0.0423714 ,  0.        ,\n",
       "        0.        ,  0.        ,  0.        ,  0.        ,  0.        ,\n",
       "        0.05093174,  0.05960384,  0.        ,  0.        ,  0.06257176,\n",
       "        0.        ,  0.        ,  0.        ,  0.        ,  0.        ,\n",
       "        0.        ,  0.        ,  0.        ,  0.        ,  0.        ,\n",
       "        0.        ,  0.        ,  0.        ,  0.05022429,  0.        ,\n",
       "        0.        ,  0.        ,  0.        ,  0.        ,  0.        ,\n",
       "        0.        ,  0.        ,  0.        ,  0.16535989,  0.        ,\n",
       "        0.        ,  0.        ,  0.        ,  0.        ,  0.        ,\n",
       "        0.        ,  0.        ,  0.04256404,  0.        ,  0.        ,\n",
       "        0.        ,  0.        ,  0.        ,  0.05474128,  0.        ,\n",
       "        0.        ,  0.        ,  0.        ,  0.06331988,  0.        ,\n",
       "        0.        ,  0.        ,  0.        ,  0.        ,  0.        ,\n",
       "        0.        ,  0.04881552,  0.        ,  0.        ,  0.04724173,\n",
       "        0.05067996,  0.        ,  0.        ,  0.        ,  0.        ,\n",
       "        0.        ,  0.        ,  0.10612422,  0.0667405 ,  0.04799984,\n",
       "        0.        ,  0.        ,  0.        ,  0.        ,  0.        ,\n",
       "        0.        ,  0.        ,  0.        ,  0.        ,  0.        ,\n",
       "        0.        ,  0.06218605,  0.2171607 ,  0.05032998,  0.        ,\n",
       "        0.        ,  0.05320127,  0.        ,  0.        ,  0.        ,\n",
       "        0.        ,  0.        ,  0.04408728,  0.        ,  0.        ,\n",
       "        0.        ,  0.14748226,  0.05739482,  0.        ,  0.        ,\n",
       "        0.        ,  0.        ,  0.        ,  0.        ,  0.        ,\n",
       "        0.        ,  0.05593241,  0.        ,  0.10966444,  0.        ,\n",
       "        0.04524885,  0.        ,  0.        ,  0.0859235 ,  0.        ,\n",
       "        0.04277166,  0.0413812 ,  0.        ,  0.04503507,  0.        ,\n",
       "        0.        ,  0.        ,  0.        ,  0.05790789,  0.        ,\n",
       "        0.        ,  0.06101431,  0.        ,  0.        ,  0.04532311,\n",
       "        0.        ,  0.        ,  0.        ,  0.        ,  0.        ,\n",
       "        0.        ,  0.        ,  0.        ,  0.        ,  0.        ,\n",
       "        0.        ,  0.        ,  0.05610037,  0.        ,  0.0658727 ,\n",
       "        0.0516402 ,  0.        ,  0.        ,  0.        ,  0.        ,\n",
       "        0.        ,  0.        ,  0.        ,  0.06080642,  0.        ,\n",
       "        0.        ,  0.        ,  0.        ,  0.        ,  0.        ,\n",
       "        0.        ,  0.        ,  0.        ,  0.        ,  0.        ,\n",
       "        0.        ,  0.        ,  0.        ,  0.        ,  0.        ,\n",
       "        0.        ,  0.06263529,  0.05001463,  0.        ,  0.        ,\n",
       "        0.06711483,  0.        ,  0.        ,  0.        ,  0.        ,\n",
       "        0.04488537,  0.        ,  0.        ,  0.        ,  0.        ,\n",
       "        0.        ,  0.        ,  0.        ,  0.        ,  0.        ,\n",
       "        0.        ,  0.        ,  0.05625671,  0.        ,  0.        ,\n",
       "        0.        ,  0.        ,  0.        ,  0.06662848,  0.        ,\n",
       "        0.        ,  0.        ,  0.        ,  0.        ,  0.0570579 ,\n",
       "        0.06556365,  0.        ,  0.04489992,  0.        ,  0.        ,\n",
       "        0.        ,  0.1019132 ,  0.        ,  0.        ,  0.        ,\n",
       "        0.        ,  0.        ,  0.11577307,  0.        ,  0.        ,\n",
       "        0.        ,  0.05925715,  0.        ,  0.        ,  0.06235553,\n",
       "        0.        ,  0.        ,  0.27441009,  0.        ,  0.        ]),\n",
       "       array([ 0.        ,  0.        ,  0.        ,  0.        ,  0.08860677,\n",
       "        0.        ,  0.        ,  0.        ,  0.        ,  0.        ,\n",
       "        0.        ,  0.        ,  0.        ,  0.16467081,  0.        ,\n",
       "        0.        ,  0.        ,  0.        ,  0.        ,  0.        ,\n",
       "        0.        ,  0.        ,  0.        ,  0.        ,  0.        ,\n",
       "        0.        ,  0.        ,  0.        ,  0.        ,  0.        ,\n",
       "        0.07413835,  0.        ,  0.        ,  0.        ,  0.19731089,\n",
       "        0.06474434,  0.14212632,  0.09478218,  0.        ,  0.        ,\n",
       "        0.        ,  0.        ,  0.        ,  0.        ,  0.        ,\n",
       "        0.        ,  0.        ,  0.        ,  0.        ,  0.        ,\n",
       "        0.        ,  0.        ,  0.        ,  0.        ,  0.        ,\n",
       "        0.        ,  0.        ,  0.        ,  0.09277929,  0.        ,\n",
       "        0.        ,  0.        ,  0.        ,  0.        ,  0.        ,\n",
       "        0.        ,  0.        ,  0.        ,  0.        ,  0.        ,\n",
       "        0.        ,  0.        ,  0.        ,  0.        ,  0.        ,\n",
       "        0.        ,  0.        ,  0.        ,  0.        ,  0.        ,\n",
       "        0.        ,  0.23392573,  0.        ,  0.        ,  0.        ,\n",
       "        0.08007815,  0.        ,  0.        ,  0.        ,  0.        ,\n",
       "        0.        ,  0.        ,  0.        ,  0.        ,  0.        ,\n",
       "        0.12080169,  0.05571062,  0.08382789,  0.        ,  0.09045507,\n",
       "        0.        ,  0.        ,  0.        ,  0.        ,  0.        ,\n",
       "        0.        ,  0.        ,  0.        ,  0.        ,  0.        ,\n",
       "        0.        ,  0.        ,  0.        ,  0.        ,  0.        ,\n",
       "        0.05892464,  0.        ,  0.        ,  0.        ,  0.        ,\n",
       "        0.        ,  0.        ,  0.        ,  0.        ,  0.        ,\n",
       "        0.        ,  0.        ,  0.        ,  0.        ,  0.08909981,\n",
       "        0.        ,  0.        ,  0.        ,  0.        ,  0.        ,\n",
       "        0.        ,  0.        ,  0.        ,  0.        ,  0.        ,\n",
       "        0.        ,  0.        ,  0.        ,  0.        ,  0.        ,\n",
       "        0.09185187,  0.        ,  0.        ,  0.        ,  0.        ,\n",
       "        0.        ,  0.        ,  0.        ,  0.        ,  0.09528612,\n",
       "        0.18655579,  0.        ,  0.        ,  0.        ,  0.19136545,\n",
       "        0.        ,  0.        ,  0.14989332,  0.        ,  0.        ,\n",
       "        0.        ,  0.        ,  0.        ,  0.        ,  0.        ,\n",
       "        0.06946303,  0.        ,  0.        ,  0.        ,  0.        ,\n",
       "        0.        ,  0.        ,  0.        ,  0.        ,  0.        ,\n",
       "        0.        ,  0.        ,  0.        ,  0.        ,  0.        ,\n",
       "        0.        ,  0.        ,  0.        ,  0.        ,  0.        ,\n",
       "        0.        ,  0.        ,  0.        ,  0.        ,  0.        ,\n",
       "        0.0654756 ,  0.        ,  0.0874609 ,  0.        ,  0.        ,\n",
       "        0.        ,  0.        ,  0.        ,  0.        ,  0.        ,\n",
       "        0.        ,  0.        ,  0.        ,  0.        ,  0.        ,\n",
       "        0.        ,  0.        ,  0.        ,  0.        ,  0.09405107,\n",
       "        0.        ,  0.        ,  0.        ,  0.        ,  0.        ,\n",
       "        0.12139316,  0.        ,  0.        ,  0.        ,  0.        ,\n",
       "        0.        ,  0.        ,  0.06081297,  0.06192705,  0.16690482,\n",
       "        0.        ,  0.        ,  0.        ,  0.        ,  0.        ,\n",
       "        0.        ,  0.        ,  0.        ,  0.        ,  0.        ,\n",
       "        0.        ,  0.        ,  0.1861464 ,  0.        ,  0.        ,\n",
       "        0.06441781,  0.        ,  0.        ,  0.        ,  0.08814771,\n",
       "        0.        ,  0.        ,  0.        ,  0.        ,  0.        ,\n",
       "        0.        ,  0.        ,  0.        ,  0.06881824,  0.        ,\n",
       "        0.        ,  0.        ,  0.        ,  0.        ,  0.        ,\n",
       "        0.        ,  0.        ,  0.        ,  0.06643802,  0.        ,\n",
       "        0.        ,  0.        ,  0.        ,  0.        ,  0.        ,\n",
       "        0.        ,  0.        ,  0.        ,  0.        ,  0.        ,\n",
       "        0.        ,  0.        ,  0.        ,  0.        ,  0.        ,\n",
       "        0.        ,  0.        ,  0.        ,  0.0710496 ,  0.        ,\n",
       "        0.        ,  0.09150666,  0.        ,  0.        ,  0.        ,\n",
       "        0.15464002,  0.        ,  0.        ,  0.        ,  0.        ,\n",
       "        0.        ,  0.        ,  0.        ,  0.        ,  0.08580975,\n",
       "        0.        ,  0.        ,  0.        ,  0.        ,  0.        ,\n",
       "        0.        ,  0.        ,  0.        ,  0.        ,  0.        ,\n",
       "        0.        ,  0.        ,  0.        ,  0.        ,  0.06362585,\n",
       "        0.        ,  0.        ,  0.        ,  0.        ,  0.        ,\n",
       "        0.        ,  0.        ,  0.        ,  0.        ,  0.        ,\n",
       "        0.        ,  0.        ,  0.        ,  0.        ,  0.        ,\n",
       "        0.06024503,  0.        ,  0.0750641 ,  0.        ,  0.        ,\n",
       "        0.        ,  0.        ,  0.        ,  0.        ,  0.06848292,\n",
       "        0.        ,  0.        ,  0.08534918,  0.        ,  0.        ,\n",
       "        0.        ,  0.43985624,  0.        ,  0.        ,  0.12176609,\n",
       "        0.        ,  0.07526097,  0.        ,  0.        ,  0.        ,\n",
       "        0.        ,  0.        ,  0.        ,  0.        ,  0.        ,\n",
       "        0.        ,  0.        ,  0.08119336,  0.        ,  0.        ,\n",
       "        0.        ,  0.        ,  0.        ,  0.        ,  0.        ,\n",
       "        0.        ,  0.        ,  0.08149924,  0.        ,  0.        ,\n",
       "        0.19203331,  0.        ,  0.        ,  0.        ,  0.        ,\n",
       "        0.        ,  0.05853975,  0.        ,  0.        ,  0.        ,\n",
       "        0.        ,  0.        ,  0.        ,  0.        ,  0.        ,\n",
       "        0.0792614 ,  0.        ,  0.        ,  0.        ,  0.        ,\n",
       "        0.        ,  0.        ,  0.        ,  0.        ,  0.        ,\n",
       "        0.        ,  0.        ,  0.        ,  0.        ,  0.        ,\n",
       "        0.        ,  0.        ,  0.        ,  0.        ,  0.        ,\n",
       "        0.07305261,  0.        ,  0.        ,  0.        ,  0.        ,\n",
       "        0.        ,  0.0936927 ,  0.        ,  0.        ,  0.        ,\n",
       "        0.        ,  0.        ,  0.        ,  0.        ,  0.        ,\n",
       "        0.        ,  0.        ,  0.        ,  0.        ,  0.        ,\n",
       "        0.        ,  0.        ,  0.        ,  0.        ,  0.        ,\n",
       "        0.        ,  0.        ,  0.        ,  0.0851671 ,  0.        ,\n",
       "        0.        ,  0.        ,  0.        ,  0.09226019,  0.        ,\n",
       "        0.12699382,  0.13879828,  0.        ,  0.07124686,  0.        ,\n",
       "        0.        ,  0.        ,  0.        ,  0.        ,  0.        ,\n",
       "        0.        ,  0.        ,  0.        ,  0.        ,  0.07714169,\n",
       "        0.08957523,  0.        ,  0.        ,  0.09425572,  0.        ,\n",
       "        0.        ,  0.        ,  0.        ,  0.        ,  0.08071674,\n",
       "        0.        ,  0.        ,  0.        ,  0.        ,  0.        ,\n",
       "        0.        ,  0.        ,  0.        ,  0.        ,  0.        ,\n",
       "        0.        ,  0.        ,  0.        ,  0.        ,  0.        ,\n",
       "        0.        ,  0.        ,  0.        ,  0.22994663,  0.        ,\n",
       "        0.18422732,  0.        ,  0.        ,  0.        ,  0.        ]),\n",
       "       array([ 0.        ,  0.        ,  0.        ,  0.        ,  0.        ,\n",
       "        0.        ,  0.        ,  0.        ,  0.        ,  0.        ,\n",
       "        0.        ,  0.        ,  0.        ,  0.        ,  0.        ,\n",
       "        0.        ,  0.        ,  0.        ,  0.        ,  0.        ,\n",
       "        0.        ,  0.        ,  0.        ,  0.        ,  0.22653006,\n",
       "        0.        ,  0.        ,  0.        ,  0.        ,  0.        ,\n",
       "        0.        ,  0.43408958,  0.        ,  0.05914872,  0.        ,\n",
       "        0.        ,  0.06823685,  0.        ,  0.        ,  0.        ,\n",
       "        0.        ,  0.        ,  0.18144056,  0.09239375,  0.        ,\n",
       "        0.        ,  0.07361439,  0.        ,  0.07137247,  0.        ,\n",
       "        0.        ,  0.        ,  0.        ,  0.        ,  0.        ,\n",
       "        0.        ,  0.        ,  0.        ,  0.        ,  0.07560461,\n",
       "        0.        ,  0.        ,  0.        ,  0.05481819,  0.11928401,\n",
       "        0.08006184,  0.        ,  0.        ,  0.        ,  0.        ,\n",
       "        0.        ,  0.        ,  0.        ,  0.07021027,  0.        ,\n",
       "        0.        ,  0.        ,  0.        ,  0.07617937,  0.        ,\n",
       "        0.        ,  0.07487403,  0.        ,  0.        ,  0.        ,\n",
       "        0.        ,  0.        ,  0.        ,  0.        ,  0.        ,\n",
       "        0.        ,  0.        ,  0.        ,  0.        ,  0.09116765,\n",
       "        0.11599719,  0.10698981,  0.        ,  0.        ,  0.        ,\n",
       "        0.        ,  0.        ,  0.        ,  0.        ,  0.        ,\n",
       "        0.        ,  0.        ,  0.        ,  0.0700354 ,  0.        ,\n",
       "        0.        ,  0.        ,  0.        ,  0.        ,  0.        ,\n",
       "        0.        ,  0.        ,  0.        ,  0.        ,  0.        ,\n",
       "        0.        ,  0.        ,  0.        ,  0.        ,  0.        ,\n",
       "        0.        ,  0.        ,  0.08530591,  0.        ,  0.        ,\n",
       "        0.        ,  0.        ,  0.        ,  0.        ,  0.        ,\n",
       "        0.05506969,  0.        ,  0.        ,  0.        ,  0.        ,\n",
       "        0.        ,  0.        ,  0.        ,  0.        ,  0.        ,\n",
       "        0.        ,  0.        ,  0.        ,  0.        ,  0.        ,\n",
       "        0.        ,  0.        ,  0.        ,  0.        ,  0.18299283,\n",
       "        0.        ,  0.        ,  0.        ,  0.        ,  0.        ,\n",
       "        0.        ,  0.        ,  0.0719659 ,  0.        ,  0.        ,\n",
       "        0.19596844,  0.0727579 ,  0.        ,  0.        ,  0.        ,\n",
       "        0.        ,  0.        ,  0.05073955,  0.        ,  0.        ,\n",
       "        0.        ,  0.        ,  0.        ,  0.        ,  0.08337373,\n",
       "        0.        ,  0.05978331,  0.        ,  0.        ,  0.11605017,\n",
       "        0.        ,  0.        ,  0.        ,  0.        ,  0.        ,\n",
       "        0.        ,  0.        ,  0.        ,  0.        ,  0.        ,\n",
       "        0.        ,  0.        ,  0.        ,  0.0752878 ,  0.        ,\n",
       "        0.        ,  0.        ,  0.        ,  0.        ,  0.        ,\n",
       "        0.        ,  0.        ,  0.        ,  0.07868045,  0.        ,\n",
       "        0.        ,  0.        ,  0.        ,  0.        ,  0.        ,\n",
       "        0.        ,  0.        ,  0.        ,  0.        ,  0.        ,\n",
       "        0.11656513,  0.        ,  0.        ,  0.        ,  0.        ,\n",
       "        0.16817843,  0.0918453 ,  0.        ,  0.17839231,  0.        ,\n",
       "        0.        ,  0.        ,  0.08714972,  0.        ,  0.        ,\n",
       "        0.        ,  0.        ,  0.        ,  0.        ,  0.        ,\n",
       "        0.        ,  0.        ,  0.05958101,  0.        ,  0.        ,\n",
       "        0.0618558 ,  0.        ,  0.        ,  0.        ,  0.        ,\n",
       "        0.        ,  0.        ,  0.        ,  0.        ,  0.        ,\n",
       "        0.        ,  0.        ,  0.        ,  0.        ,  0.05339097,\n",
       "        0.        ,  0.        ,  0.        ,  0.        ,  0.        ,\n",
       "        0.        ,  0.05196338,  0.        ,  0.12759132,  0.        ,\n",
       "        0.        ,  0.08096484,  0.        ,  0.09064391,  0.08499642,\n",
       "        0.        ,  0.        ,  0.        ,  0.        ,  0.        ,\n",
       "        0.        ,  0.07872891,  0.        ,  0.        ,  0.1280443 ,\n",
       "        0.        ,  0.        ,  0.        ,  0.06822383,  0.        ,\n",
       "        0.        ,  0.        ,  0.        ,  0.        ,  0.        ,\n",
       "        0.07424485,  0.07472365,  0.        ,  0.07487403,  0.        ,\n",
       "        0.        ,  0.        ,  0.        ,  0.08513215,  0.        ,\n",
       "        0.        ,  0.        ,  0.        ,  0.        ,  0.        ,\n",
       "        0.        ,  0.        ,  0.        ,  0.        ,  0.        ,\n",
       "        0.        ,  0.        ,  0.        ,  0.        ,  0.        ,\n",
       "        0.06159649,  0.        ,  0.        ,  0.        ,  0.        ,\n",
       "        0.        ,  0.        ,  0.        ,  0.08559389,  0.        ,\n",
       "        0.        ,  0.        ,  0.06855784,  0.        ,  0.        ,\n",
       "        0.        ,  0.        ,  0.        ,  0.        ,  0.06520216,\n",
       "        0.        ,  0.        ,  0.        ,  0.        ,  0.06575923,\n",
       "        0.        ,  0.        ,  0.        ,  0.06761272,  0.        ,\n",
       "        0.        ,  0.16894495,  0.19665827,  0.06836739,  0.05846162,\n",
       "        0.        ,  0.        ,  0.        ,  0.        ,  0.        ,\n",
       "        0.        ,  0.        ,  0.        ,  0.        ,  0.        ,\n",
       "        0.        ,  0.        ,  0.        ,  0.        ,  0.        ,\n",
       "        0.        ,  0.        ,  0.        ,  0.        ,  0.        ,\n",
       "        0.        ,  0.        ,  0.        ,  0.        ,  0.        ,\n",
       "        0.06146527,  0.        ,  0.        ,  0.        ,  0.        ,\n",
       "        0.17430088,  0.        ,  0.        ,  0.06117488,  0.        ,\n",
       "        0.08732392,  0.07573414,  0.        ,  0.        ,  0.        ,\n",
       "        0.        ,  0.        ,  0.        ,  0.        ,  0.        ,\n",
       "        0.        ,  0.        ,  0.        ,  0.        ,  0.        ,\n",
       "        0.        ,  0.        ,  0.        ,  0.        ,  0.        ,\n",
       "        0.        ,  0.        ,  0.        ,  0.        ,  0.        ,\n",
       "        0.        ,  0.        ,  0.08856263,  0.        ,  0.        ,\n",
       "        0.        ,  0.        ,  0.        ,  0.08259841,  0.        ,\n",
       "        0.        ,  0.        ,  0.        ,  0.        ,  0.        ,\n",
       "        0.        ,  0.        ,  0.        ,  0.        ,  0.08975909,\n",
       "        0.09242637,  0.08887451,  0.        ,  0.        ,  0.        ,\n",
       "        0.        ,  0.        ,  0.13587805,  0.        ,  0.        ,\n",
       "        0.        ,  0.        ,  0.        ,  0.        ,  0.05959507,\n",
       "        0.06097152,  0.        ,  0.        ,  0.        ,  0.11198775,\n",
       "        0.        ,  0.078526  ,  0.        ,  0.        ,  0.09340733,\n",
       "        0.        ,  0.        ,  0.        ,  0.09022028,  0.07407362,\n",
       "        0.        ,  0.        ,  0.07254232,  0.        ,  0.        ,\n",
       "        0.        ,  0.0842562 ,  0.        ,  0.        ,  0.        ,\n",
       "        0.        ,  0.07431038,  0.        ,  0.        ,  0.        ,\n",
       "        0.        ,  0.        ,  0.        ,  0.        ,  0.        ,\n",
       "        0.        ,  0.        ,  0.        ,  0.        ,  0.        ,\n",
       "        0.        ,  0.        ,  0.        ,  0.05520031,  0.        ,\n",
       "        0.08845013,  0.        ,  0.05325057,  0.        ,  0.        ]),\n",
       "       ...,\n",
       "       array([ 0.        ,  0.        ,  0.09671358,  0.        ,  0.        ,\n",
       "        0.        ,  0.        ,  0.        ,  0.09324038,  0.        ,\n",
       "        0.09671358,  0.        ,  0.        ,  0.        ,  0.        ,\n",
       "        0.        ,  0.        ,  0.        ,  0.        ,  0.        ,\n",
       "        0.        ,  0.        ,  0.        ,  0.10193888,  0.        ,\n",
       "        0.        ,  0.07837173,  0.        ,  0.06936712,  0.        ,\n",
       "        0.        ,  0.        ,  0.        ,  0.06777811,  0.14473658,\n",
       "        0.14247882,  0.        ,  0.        ,  0.        ,  0.        ,\n",
       "        0.        ,  0.        ,  0.        ,  0.        ,  0.        ,\n",
       "        0.        ,  0.        ,  0.        ,  0.        ,  0.        ,\n",
       "        0.        ,  0.        ,  0.        ,  0.        ,  0.        ,\n",
       "        0.        ,  0.        ,  0.        ,  0.        ,  0.        ,\n",
       "        0.        ,  0.        ,  0.        ,  0.        ,  0.06834335,\n",
       "        0.        ,  0.        ,  0.        ,  0.        ,  0.        ,\n",
       "        0.        ,  0.        ,  0.        ,  0.08045345,  0.        ,\n",
       "        0.08706225,  0.        ,  0.        ,  0.        ,  0.        ,\n",
       "        0.        ,  0.        ,  0.        ,  0.        ,  0.06130796,\n",
       "        0.08811149,  0.        ,  0.        ,  0.        ,  0.        ,\n",
       "        0.        ,  0.        ,  0.        ,  0.        ,  0.        ,\n",
       "        0.06646018,  0.        ,  0.        ,  0.        ,  0.        ,\n",
       "        0.        ,  0.        ,  0.09253601,  0.        ,  0.        ,\n",
       "        0.        ,  0.        ,  0.        ,  0.        ,  0.        ,\n",
       "        0.        ,  0.        ,  0.        ,  0.09559045,  0.        ,\n",
       "        0.        ,  0.        ,  0.09620774,  0.        ,  0.        ,\n",
       "        0.        ,  0.        ,  0.        ,  0.        ,  0.        ,\n",
       "        0.        ,  0.        ,  0.        ,  0.        ,  0.        ,\n",
       "        0.        ,  0.        ,  0.        ,  0.        ,  0.        ,\n",
       "        0.        ,  0.        ,  0.        ,  0.        ,  0.        ,\n",
       "        0.        ,  0.        ,  0.        ,  0.        ,  0.        ,\n",
       "        0.        ,  0.        ,  0.        ,  0.        ,  0.        ,\n",
       "        0.        ,  0.20440467,  0.        ,  0.        ,  0.        ,\n",
       "        0.        ,  0.09293476,  0.        ,  0.        ,  0.        ,\n",
       "        0.        ,  0.        ,  0.        ,  0.        ,  0.        ,\n",
       "        0.        ,  0.        ,  0.        ,  0.        ,  0.        ,\n",
       "        0.07643147,  0.        ,  0.1162842 ,  0.        ,  0.06999734,\n",
       "        0.        ,  0.        ,  0.        ,  0.        ,  0.        ,\n",
       "        0.20564106,  0.        ,  0.        ,  0.        ,  0.06649054,\n",
       "        0.        ,  0.        ,  0.        ,  0.        ,  0.07327366,\n",
       "        0.        ,  0.        ,  0.        ,  0.        ,  0.        ,\n",
       "        0.        ,  0.09082115,  0.        ,  0.        ,  0.        ,\n",
       "        0.        ,  0.        ,  0.09891515,  0.        ,  0.        ,\n",
       "        0.        ,  0.        ,  0.10162899,  0.        ,  0.        ,\n",
       "        0.        ,  0.        ,  0.07538701,  0.10117803,  0.        ,\n",
       "        0.09507682,  0.07220266,  0.        ,  0.        ,  0.        ,\n",
       "        0.06678558,  0.        ,  0.        ,  0.        ,  0.        ,\n",
       "        0.        ,  0.10524489,  0.        ,  0.13627899,  0.        ,\n",
       "        0.        ,  0.07662918,  0.        ,  0.        ,  0.07955813,\n",
       "        0.08143426,  0.        ,  0.        ,  0.08084195,  0.        ,\n",
       "        0.07732432,  0.        ,  0.        ,  0.        ,  0.        ,\n",
       "        0.14176024,  0.08006989,  0.08501111,  0.        ,  0.        ,\n",
       "        0.08488976,  0.        ,  0.        ,  0.        ,  0.05886461,\n",
       "        0.        ,  0.        ,  0.        ,  0.        ,  0.        ,\n",
       "        0.        ,  0.        ,  0.        ,  0.        ,  0.        ,\n",
       "        0.10073371,  0.05954447,  0.        ,  0.        ,  0.        ,\n",
       "        0.        ,  0.        ,  0.        ,  0.10386822,  0.        ,\n",
       "        0.        ,  0.        ,  0.        ,  0.        ,  0.        ,\n",
       "        0.        ,  0.        ,  0.        ,  0.15921002,  0.        ,\n",
       "        0.        ,  0.        ,  0.        ,  0.07817721,  0.        ,\n",
       "        0.        ,  0.        ,  0.        ,  0.        ,  0.        ,\n",
       "        0.        ,  0.        ,  0.        ,  0.        ,  0.        ,\n",
       "        0.        ,  0.        ,  0.        ,  0.        ,  0.        ,\n",
       "        0.        ,  0.        ,  0.        ,  0.        ,  0.        ,\n",
       "        0.        ,  0.        ,  0.        ,  0.        ,  0.        ,\n",
       "        0.        ,  0.        ,  0.        ,  0.        ,  0.07000872,\n",
       "        0.07058298,  0.        ,  0.        ,  0.        ,  0.        ,\n",
       "        0.        ,  0.        ,  0.        ,  0.        ,  0.        ,\n",
       "        0.07888648,  0.        ,  0.07855995,  0.        ,  0.        ,\n",
       "        0.        ,  0.07533267,  0.        ,  0.        ,  0.        ,\n",
       "        0.        ,  0.        ,  0.09275285,  0.        ,  0.        ,\n",
       "        0.        ,  0.        ,  0.        ,  0.07747694,  0.        ,\n",
       "        0.        ,  0.        ,  0.        ,  0.        ,  0.20097226,\n",
       "        0.        ,  0.08281105,  0.        ,  0.        ,  0.        ,\n",
       "        0.        ,  0.        ,  0.06862457,  0.07239906,  0.        ,\n",
       "        0.        ,  0.        ,  0.08933858,  0.        ,  0.        ,\n",
       "        0.        ,  0.        ,  0.        ,  0.        ,  0.        ,\n",
       "        0.        ,  0.        ,  0.        ,  0.08534973,  0.        ,\n",
       "        0.21129786,  0.17733192,  0.        ,  0.        ,  0.        ,\n",
       "        0.        ,  0.        ,  0.        ,  0.07009987,  0.        ,\n",
       "        0.        ,  0.08678321,  0.        ,  0.        ,  0.        ,\n",
       "        0.        ,  0.        ,  0.        ,  0.        ,  0.07054822,\n",
       "        0.        ,  0.        ,  0.        ,  0.        ,  0.        ,\n",
       "        0.        ,  0.        ,  0.07437093,  0.        ,  0.18572373,\n",
       "        0.        ,  0.        ,  0.        ,  0.        ,  0.        ,\n",
       "        0.08038116,  0.        ,  0.        ,  0.        ,  0.        ,\n",
       "        0.        ,  0.        ,  0.        ,  0.        ,  0.09549762,\n",
       "        0.        ,  0.        ,  0.        ,  0.        ,  0.        ,\n",
       "        0.08370235,  0.09190643,  0.        ,  0.        ,  0.        ,\n",
       "        0.        ,  0.        ,  0.        ,  0.        ,  0.        ,\n",
       "        0.        ,  0.        ,  0.        ,  0.        ,  0.        ,\n",
       "        0.        ,  0.        ,  0.        ,  0.        ,  0.        ,\n",
       "        0.        ,  0.15272235,  0.10023381,  0.        ,  0.        ,\n",
       "        0.        ,  0.        ,  0.        ,  0.        ,  0.        ,\n",
       "        0.10390319,  0.10379839,  0.08756703,  0.        ,  0.        ,\n",
       "        0.        ,  0.        ,  0.        ,  0.        ,  0.        ,\n",
       "        0.        ,  0.        ,  0.20574243,  0.        ,  0.        ,\n",
       "        0.        ,  0.        ,  0.        ,  0.        ,  0.        ,\n",
       "        0.        ,  0.        ,  0.        ,  0.        ,  0.        ,\n",
       "        0.        ,  0.31176209,  0.        ,  0.        ,  0.        ,\n",
       "        0.        ,  0.        ,  0.        ,  0.06325365,  0.        ,\n",
       "        0.        ,  0.        ,  0.        ,  0.        ,  0.08344373]),\n",
       "       array([ 0.        ,  0.        ,  0.25635978,  0.        ,  0.        ,\n",
       "        0.        ,  0.        ,  0.        ,  0.        ,  0.        ,\n",
       "        0.        ,  0.06052923,  0.        ,  0.08004723,  0.        ,\n",
       "        0.        ,  0.        ,  0.        ,  0.        ,  0.07537909,\n",
       "        0.        ,  0.        ,  0.        ,  0.        ,  0.        ,\n",
       "        0.        ,  0.        ,  0.        ,  0.06129073,  0.13233776,\n",
       "        0.21623395,  0.        ,  0.        ,  0.        ,  0.12788496,\n",
       "        0.        ,  0.        ,  0.        ,  0.        ,  0.        ,\n",
       "        0.        ,  0.        ,  0.        ,  0.09354657,  0.        ,\n",
       "        0.08555089,  0.        ,  0.        ,  0.        ,  0.        ,\n",
       "        0.        ,  0.        ,  0.        ,  0.        ,  0.06976931,\n",
       "        0.        ,  0.07644348,  0.        ,  0.        ,  0.        ,\n",
       "        0.        ,  0.17469228,  0.        ,  0.05550216,  0.        ,\n",
       "        0.        ,  0.        ,  0.        ,  0.        ,  0.        ,\n",
       "        0.        ,  0.08185771,  0.06792096,  0.        ,  0.        ,\n",
       "        0.        ,  0.        ,  0.28920062,  0.        ,  0.        ,\n",
       "        0.06885851,  0.        ,  0.        ,  0.        ,  0.        ,\n",
       "        0.        ,  0.        ,  0.        ,  0.        ,  0.07547945,\n",
       "        0.06850789,  0.        ,  0.        ,  0.        ,  0.        ,\n",
       "        0.        ,  0.05416237,  0.        ,  0.        ,  0.        ,\n",
       "        0.        ,  0.        ,  0.        ,  0.        ,  0.        ,\n",
       "        0.        ,  0.11949413,  0.        ,  0.        ,  0.        ,\n",
       "        0.        ,  0.        ,  0.        ,  0.        ,  0.        ,\n",
       "        0.        ,  0.        ,  0.        ,  0.        ,  0.        ,\n",
       "        0.        ,  0.        ,  0.        ,  0.        ,  0.        ,\n",
       "        0.        ,  0.        ,  0.        ,  0.        ,  0.        ,\n",
       "        0.        ,  0.        ,  0.        ,  0.        ,  0.        ,\n",
       "        0.        ,  0.        ,  0.        ,  0.        ,  0.        ,\n",
       "        0.        ,  0.        ,  0.        ,  0.        ,  0.        ,\n",
       "        0.        ,  0.        ,  0.        ,  0.        ,  0.        ,\n",
       "        0.        ,  0.        ,  0.        ,  0.        ,  0.        ,\n",
       "        0.        ,  0.0821144 ,  0.        ,  0.16382197,  0.        ,\n",
       "        0.        ,  0.        ,  0.        ,  0.        ,  0.08461391,\n",
       "        0.        ,  0.        ,  0.        ,  0.        ,  0.        ,\n",
       "        0.        ,  0.        ,  0.        ,  0.19566837,  0.        ,\n",
       "        0.        ,  0.        ,  0.        ,  0.        ,  0.        ,\n",
       "        0.09084918,  0.        ,  0.        ,  0.09089396,  0.05874908,\n",
       "        0.        ,  0.        ,  0.        ,  0.        ,  0.        ,\n",
       "        0.07394901,  0.22504294,  0.        ,  0.        ,  0.        ,\n",
       "        0.        ,  0.        ,  0.        ,  0.07622718,  0.        ,\n",
       "        0.        ,  0.        ,  0.        ,  0.        ,  0.        ,\n",
       "        0.        ,  0.        ,  0.08979637,  0.        ,  0.        ,\n",
       "        0.        ,  0.        ,  0.        ,  0.        ,  0.        ,\n",
       "        0.        ,  0.        ,  0.        ,  0.        ,  0.        ,\n",
       "        0.05900977,  0.        ,  0.09697624,  0.        ,  0.        ,\n",
       "        0.        ,  0.        ,  0.        ,  0.        ,  0.        ,\n",
       "        0.        ,  0.        ,  0.        ,  0.        ,  0.07029521,\n",
       "        0.0719529 ,  0.07887024,  0.        ,  0.        ,  0.        ,\n",
       "        0.        ,  0.        ,  0.        ,  0.        ,  0.        ,\n",
       "        0.        ,  0.07074739,  0.        ,  0.        ,  0.        ,\n",
       "        0.        ,  0.        ,  0.        ,  0.        ,  0.        ,\n",
       "        0.        ,  0.        ,  0.        ,  0.        ,  0.21622856,\n",
       "        0.        ,  0.        ,  0.        ,  0.        ,  0.        ,\n",
       "        0.        ,  0.        ,  0.        ,  0.        ,  0.        ,\n",
       "        0.        ,  0.        ,  0.        ,  0.        ,  0.        ,\n",
       "        0.        ,  0.        ,  0.        ,  0.        ,  0.        ,\n",
       "        0.        ,  0.        ,  0.        ,  0.        ,  0.        ,\n",
       "        0.        ,  0.        ,  0.        ,  0.06907507,  0.        ,\n",
       "        0.        ,  0.        ,  0.        ,  0.        ,  0.        ,\n",
       "        0.        ,  0.        ,  0.09119445,  0.        ,  0.        ,\n",
       "        0.        ,  0.        ,  0.08208218,  0.        ,  0.        ,\n",
       "        0.        ,  0.        ,  0.        ,  0.        ,  0.        ,\n",
       "        0.        ,  0.        ,  0.08857733,  0.        ,  0.        ,\n",
       "        0.        ,  0.        ,  0.        ,  0.        ,  0.        ,\n",
       "        0.06236504,  0.        ,  0.        ,  0.        ,  0.        ,\n",
       "        0.        ,  0.        ,  0.        ,  0.        ,  0.        ,\n",
       "        0.        ,  0.        ,  0.        ,  0.        ,  0.        ,\n",
       "        0.        ,  0.        ,  0.        ,  0.        ,  0.        ,\n",
       "        0.        ,  0.        ,  0.        ,  0.        ,  0.        ,\n",
       "        0.        ,  0.        ,  0.        ,  0.        ,  0.        ,\n",
       "        0.        ,  0.        ,  0.        ,  0.        ,  0.1183821 ,\n",
       "        0.        ,  0.        ,  0.        ,  0.        ,  0.        ,\n",
       "        0.        ,  0.        ,  0.        ,  0.        ,  0.08364038,\n",
       "        0.        ,  0.        ,  0.        ,  0.        ,  0.        ,\n",
       "        0.        ,  0.        ,  0.        ,  0.        ,  0.0605388 ,\n",
       "        0.        ,  0.        ,  0.        ,  0.        ,  0.        ,\n",
       "        0.12446436,  0.        ,  0.        ,  0.        ,  0.        ,\n",
       "        0.        ,  0.        ,  0.        ,  0.06193817,  0.        ,\n",
       "        0.08841347,  0.        ,  0.        ,  0.        ,  0.        ,\n",
       "        0.        ,  0.        ,  0.        ,  0.07492389,  0.        ,\n",
       "        0.        ,  0.        ,  0.        ,  0.        ,  0.        ,\n",
       "        0.        ,  0.        ,  0.        ,  0.        ,  0.        ,\n",
       "        0.        ,  0.06971526,  0.        ,  0.        ,  0.        ,\n",
       "        0.        ,  0.        ,  0.        ,  0.        ,  0.        ,\n",
       "        0.        ,  0.        ,  0.        ,  0.        ,  0.        ,\n",
       "        0.        ,  0.        ,  0.08498237,  0.        ,  0.        ,\n",
       "        0.07395693,  0.        ,  0.        ,  0.        ,  0.        ,\n",
       "        0.        ,  0.        ,  0.        ,  0.        ,  0.        ,\n",
       "        0.        ,  0.08614431,  0.        ,  0.        ,  0.        ,\n",
       "        0.        ,  0.48878567,  0.        ,  0.        ,  0.        ,\n",
       "        0.        ,  0.        ,  0.        ,  0.        ,  0.05669252,\n",
       "        0.        ,  0.        ,  0.        ,  0.08842709,  0.        ,\n",
       "        0.        ,  0.        ,  0.07737164,  0.        ,  0.07499785,\n",
       "        0.        ,  0.        ,  0.        ,  0.        ,  0.        ,\n",
       "        0.        ,  0.        ,  0.        ,  0.        ,  0.        ,\n",
       "        0.        ,  0.        ,  0.        ,  0.        ,  0.        ,\n",
       "        0.        ,  0.07008223,  0.        ,  0.        ,  0.        ,\n",
       "        0.        ,  0.        ,  0.        ,  0.08662365,  0.        ,\n",
       "        0.        ,  0.        ,  0.07523756,  0.        ,  0.        ,\n",
       "        0.        ,  0.        ,  0.05391499,  0.        ,  0.        ]),\n",
       "       array([ 0.        ,  0.        ,  0.        ,  0.        ,  0.        ,\n",
       "        0.        ,  0.09929928,  0.        ,  0.        ,  0.        ,\n",
       "        0.        ,  0.        ,  0.        ,  0.        ,  0.        ,\n",
       "        0.        ,  0.        ,  0.        ,  0.        ,  0.        ,\n",
       "        0.        ,  0.        ,  0.        ,  0.        ,  0.        ,\n",
       "        0.        ,  0.        ,  0.        ,  0.        ,  0.        ,\n",
       "        0.10572888,  0.12893939,  0.        ,  0.08784592,  0.        ,\n",
       "        0.        ,  0.        ,  0.        ,  0.        ,  0.        ,\n",
       "        0.        ,  0.        ,  0.        ,  0.        ,  0.        ,\n",
       "        0.        ,  0.        ,  0.        ,  0.        ,  0.        ,\n",
       "        0.        ,  0.        ,  0.        ,  0.        ,  0.        ,\n",
       "        0.        ,  0.        ,  0.        ,  0.        ,  0.        ,\n",
       "        0.        ,  0.        ,  0.        ,  0.        ,  0.        ,\n",
       "        0.        ,  0.        ,  0.        ,  0.        ,  0.        ,\n",
       "        0.        ,  0.        ,  0.        ,  0.        ,  0.        ,\n",
       "        0.        ,  0.        ,  0.        ,  0.        ,  0.        ,\n",
       "        0.        ,  0.        ,  0.        ,  0.        ,  0.        ,\n",
       "        0.        ,  0.        ,  0.        ,  0.10800051,  0.11071838,\n",
       "        0.10049203,  0.        ,  0.        ,  0.        ,  0.        ,\n",
       "        0.        ,  0.        ,  0.11954715,  0.        ,  0.        ,\n",
       "        0.27760267,  0.10147896,  0.        ,  0.        ,  0.        ,\n",
       "        0.        ,  0.        ,  0.        ,  0.        ,  0.        ,\n",
       "        0.        ,  0.        ,  0.11090317,  0.        ,  0.        ,\n",
       "        0.08403257,  0.        ,  0.        ,  0.        ,  0.        ,\n",
       "        0.        ,  0.        ,  0.        ,  0.        ,  0.        ,\n",
       "        0.        ,  0.        ,  0.        ,  0.        ,  0.        ,\n",
       "        0.        ,  0.10977127,  0.        ,  0.        ,  0.        ,\n",
       "        0.        ,  0.        ,  0.        ,  0.        ,  0.13178256,\n",
       "        0.        ,  0.12181449,  0.        ,  0.        ,  0.        ,\n",
       "        0.        ,  0.        ,  0.        ,  0.        ,  0.        ,\n",
       "        0.        ,  0.        ,  0.        ,  0.        ,  0.        ,\n",
       "        0.        ,  0.        ,  0.        ,  0.        ,  0.        ,\n",
       "        0.        ,  0.        ,  0.        ,  0.1155668 ,  0.        ,\n",
       "        0.        ,  0.        ,  0.        ,  0.        ,  0.        ,\n",
       "        0.        ,  0.        ,  0.22607063,  0.19134644,  0.        ,\n",
       "        0.        ,  0.        ,  0.        ,  0.        ,  0.        ,\n",
       "        0.13326375,  0.        ,  0.        ,  0.        ,  0.17235427,\n",
       "        0.        ,  0.        ,  0.        ,  0.        ,  0.09496861,\n",
       "        0.        ,  0.        ,  0.        ,  0.        ,  0.        ,\n",
       "        0.        ,  0.        ,  0.        ,  0.        ,  0.        ,\n",
       "        0.        ,  0.        ,  0.        ,  0.        ,  0.        ,\n",
       "        0.        ,  0.        ,  0.        ,  0.        ,  0.        ,\n",
       "        0.1264725 ,  0.        ,  0.        ,  0.        ,  0.        ,\n",
       "        0.        ,  0.09358051,  0.        ,  0.        ,  0.        ,\n",
       "        0.        ,  0.        ,  0.        ,  0.        ,  0.        ,\n",
       "        0.        ,  0.        ,  0.        ,  0.35325727,  0.        ,\n",
       "        0.        ,  0.        ,  0.        ,  0.        ,  0.        ,\n",
       "        0.        ,  0.        ,  0.        ,  0.        ,  0.        ,\n",
       "        0.        ,  0.        ,  0.        ,  0.        ,  0.        ,\n",
       "        0.        ,  0.        ,  0.        ,  0.        ,  0.        ,\n",
       "        0.        ,  0.        ,  0.        ,  0.09613601,  0.07629331,\n",
       "        0.        ,  0.        ,  0.        ,  0.        ,  0.31717874,\n",
       "        0.11246523,  0.        ,  0.        ,  0.        ,  0.12700948,\n",
       "        0.        ,  0.        ,  0.        ,  0.        ,  0.12610643,\n",
       "        0.        ,  0.        ,  0.21676141,  0.        ,  0.        ,\n",
       "        0.        ,  0.        ,  0.        ,  0.        ,  0.        ,\n",
       "        0.        ,  0.        ,  0.        ,  0.10317455,  0.        ,\n",
       "        0.09249366,  0.        ,  0.        ,  0.        ,  0.        ,\n",
       "        0.        ,  0.        ,  0.        ,  0.        ,  0.        ,\n",
       "        0.        ,  0.        ,  0.        ,  0.        ,  0.        ,\n",
       "        0.        ,  0.        ,  0.        ,  0.        ,  0.        ,\n",
       "        0.        ,  0.        ,  0.08586998,  0.        ,  0.        ,\n",
       "        0.10716115,  0.        ,  0.        ,  0.        ,  0.        ,\n",
       "        0.        ,  0.        ,  0.        ,  0.        ,  0.        ,\n",
       "        0.        ,  0.        ,  0.        ,  0.        ,  0.        ,\n",
       "        0.        ,  0.        ,  0.        ,  0.        ,  0.        ,\n",
       "        0.        ,  0.        ,  0.        ,  0.        ,  0.        ,\n",
       "        0.        ,  0.        ,  0.        ,  0.        ,  0.        ,\n",
       "        0.        ,  0.        ,  0.        ,  0.        ,  0.        ,\n",
       "        0.        ,  0.        ,  0.        ,  0.        ,  0.        ,\n",
       "        0.        ,  0.        ,  0.        ,  0.        ,  0.        ,\n",
       "        0.13348315,  0.        ,  0.        ,  0.        ,  0.        ,\n",
       "        0.        ,  0.        ,  0.        ,  0.        ,  0.        ,\n",
       "        0.        ,  0.        ,  0.        ,  0.        ,  0.        ,\n",
       "        0.1125553 ,  0.        ,  0.        ,  0.        ,  0.        ,\n",
       "        0.        ,  0.        ,  0.        ,  0.        ,  0.        ,\n",
       "        0.09128639,  0.        ,  0.12822129,  0.        ,  0.        ,\n",
       "        0.        ,  0.        ,  0.        ,  0.        ,  0.        ,\n",
       "        0.        ,  0.        ,  0.        ,  0.        ,  0.        ,\n",
       "        0.11303486,  0.        ,  0.        ,  0.        ,  0.        ,\n",
       "        0.        ,  0.        ,  0.        ,  0.        ,  0.        ,\n",
       "        0.        ,  0.        ,  0.        ,  0.        ,  0.        ,\n",
       "        0.        ,  0.        ,  0.        ,  0.        ,  0.        ,\n",
       "        0.        ,  0.        ,  0.        ,  0.        ,  0.        ,\n",
       "        0.        ,  0.        ,  0.        ,  0.        ,  0.        ,\n",
       "        0.        ,  0.        ,  0.        ,  0.        ,  0.        ,\n",
       "        0.        ,  0.        ,  0.        ,  0.        ,  0.        ,\n",
       "        0.        ,  0.        ,  0.22775704,  0.        ,  0.        ,\n",
       "        0.        ,  0.        ,  0.        ,  0.        ,  0.        ,\n",
       "        0.        ,  0.        ,  0.        ,  0.        ,  0.17701766,\n",
       "        0.0905531 ,  0.        ,  0.        ,  0.        ,  0.08316044,\n",
       "        0.        ,  0.        ,  0.13514613,  0.        ,  0.        ,\n",
       "        0.        ,  0.        ,  0.        ,  0.        ,  0.        ,\n",
       "        0.        ,  0.        ,  0.        ,  0.        ,  0.        ,\n",
       "        0.        ,  0.        ,  0.        ,  0.        ,  0.        ,\n",
       "        0.        ,  0.        ,  0.        ,  0.        ,  0.        ,\n",
       "        0.        ,  0.        ,  0.        ,  0.        ,  0.        ,\n",
       "        0.        ,  0.        ,  0.        ,  0.        ,  0.        ,\n",
       "        0.1093299 ,  0.        ,  0.        ,  0.        ,  0.        ,\n",
       "        0.        ,  0.        ,  0.07908617,  0.        ,  0.        ])], dtype=object)"
      ]
     },
     "execution_count": 448,
     "metadata": {},
     "output_type": "execute_result"
    }
   ],
   "source": [
    "X"
   ]
  },
  {
   "cell_type": "code",
   "execution_count": 420,
   "metadata": {
    "collapsed": true
   },
   "outputs": [],
   "source": [
    "y = df_merged['score']"
   ]
  },
  {
   "cell_type": "code",
   "execution_count": 454,
   "metadata": {
    "collapsed": true
   },
   "outputs": [],
   "source": [
    "multiNB = MultinomialNB()"
   ]
  },
  {
   "cell_type": "code",
   "execution_count": 452,
   "metadata": {
    "collapsed": true
   },
   "outputs": [],
   "source": [
    "X_train, X_test, y_train, y_test = train_test_split(X, y)"
   ]
  },
  {
   "cell_type": "code",
   "execution_count": 455,
   "metadata": {},
   "outputs": [
    {
     "ename": "ValueError",
     "evalue": "setting an array element with a sequence.",
     "output_type": "error",
     "traceback": [
      "\u001b[0;31m---------------------------------------------------------------------------\u001b[0m",
      "\u001b[0;31mValueError\u001b[0m                                Traceback (most recent call last)",
      "\u001b[0;32m<ipython-input-455-af668a6c8888>\u001b[0m in \u001b[0;36m<module>\u001b[0;34m()\u001b[0m\n\u001b[0;32m----> 1\u001b[0;31m \u001b[0mmultiNB\u001b[0m\u001b[0;34m.\u001b[0m\u001b[0mfit\u001b[0m\u001b[0;34m(\u001b[0m\u001b[0mX_train\u001b[0m\u001b[0;34m,\u001b[0m \u001b[0my_train\u001b[0m\u001b[0;34m)\u001b[0m\u001b[0;34m\u001b[0m\u001b[0m\n\u001b[0m",
      "\u001b[0;32m/Users/andrewbashford/anaconda3/lib/python2.7/site-packages/sklearn/naive_bayes.pyc\u001b[0m in \u001b[0;36mfit\u001b[0;34m(self, X, y, sample_weight)\u001b[0m\n\u001b[1;32m    577\u001b[0m             \u001b[0mReturns\u001b[0m \u001b[0mself\u001b[0m\u001b[0;34m.\u001b[0m\u001b[0;34m\u001b[0m\u001b[0m\n\u001b[1;32m    578\u001b[0m         \"\"\"\n\u001b[0;32m--> 579\u001b[0;31m         \u001b[0mX\u001b[0m\u001b[0;34m,\u001b[0m \u001b[0my\u001b[0m \u001b[0;34m=\u001b[0m \u001b[0mcheck_X_y\u001b[0m\u001b[0;34m(\u001b[0m\u001b[0mX\u001b[0m\u001b[0;34m,\u001b[0m \u001b[0my\u001b[0m\u001b[0;34m,\u001b[0m \u001b[0;34m'csr'\u001b[0m\u001b[0;34m)\u001b[0m\u001b[0;34m\u001b[0m\u001b[0m\n\u001b[0m\u001b[1;32m    580\u001b[0m         \u001b[0m_\u001b[0m\u001b[0;34m,\u001b[0m \u001b[0mn_features\u001b[0m \u001b[0;34m=\u001b[0m \u001b[0mX\u001b[0m\u001b[0;34m.\u001b[0m\u001b[0mshape\u001b[0m\u001b[0;34m\u001b[0m\u001b[0m\n\u001b[1;32m    581\u001b[0m \u001b[0;34m\u001b[0m\u001b[0m\n",
      "\u001b[0;32m/Users/andrewbashford/anaconda3/lib/python2.7/site-packages/sklearn/utils/validation.pyc\u001b[0m in \u001b[0;36mcheck_X_y\u001b[0;34m(X, y, accept_sparse, dtype, order, copy, force_all_finite, ensure_2d, allow_nd, multi_output, ensure_min_samples, ensure_min_features, y_numeric, warn_on_dtype, estimator)\u001b[0m\n\u001b[1;32m    540\u001b[0m     X = check_array(X, accept_sparse, dtype, order, copy, force_all_finite,\n\u001b[1;32m    541\u001b[0m                     \u001b[0mensure_2d\u001b[0m\u001b[0;34m,\u001b[0m \u001b[0mallow_nd\u001b[0m\u001b[0;34m,\u001b[0m \u001b[0mensure_min_samples\u001b[0m\u001b[0;34m,\u001b[0m\u001b[0;34m\u001b[0m\u001b[0m\n\u001b[0;32m--> 542\u001b[0;31m                     ensure_min_features, warn_on_dtype, estimator)\n\u001b[0m\u001b[1;32m    543\u001b[0m     \u001b[0;32mif\u001b[0m \u001b[0mmulti_output\u001b[0m\u001b[0;34m:\u001b[0m\u001b[0;34m\u001b[0m\u001b[0m\n\u001b[1;32m    544\u001b[0m         y = check_array(y, 'csr', force_all_finite=True, ensure_2d=False,\n",
      "\u001b[0;32m/Users/andrewbashford/anaconda3/lib/python2.7/site-packages/sklearn/utils/validation.pyc\u001b[0m in \u001b[0;36mcheck_array\u001b[0;34m(array, accept_sparse, dtype, order, copy, force_all_finite, ensure_2d, allow_nd, ensure_min_samples, ensure_min_features, warn_on_dtype, estimator)\u001b[0m\n\u001b[1;32m    400\u001b[0m                                       force_all_finite)\n\u001b[1;32m    401\u001b[0m     \u001b[0;32melse\u001b[0m\u001b[0;34m:\u001b[0m\u001b[0;34m\u001b[0m\u001b[0m\n\u001b[0;32m--> 402\u001b[0;31m         \u001b[0marray\u001b[0m \u001b[0;34m=\u001b[0m \u001b[0mnp\u001b[0m\u001b[0;34m.\u001b[0m\u001b[0marray\u001b[0m\u001b[0;34m(\u001b[0m\u001b[0marray\u001b[0m\u001b[0;34m,\u001b[0m \u001b[0mdtype\u001b[0m\u001b[0;34m=\u001b[0m\u001b[0mdtype\u001b[0m\u001b[0;34m,\u001b[0m \u001b[0morder\u001b[0m\u001b[0;34m=\u001b[0m\u001b[0morder\u001b[0m\u001b[0;34m,\u001b[0m \u001b[0mcopy\u001b[0m\u001b[0;34m=\u001b[0m\u001b[0mcopy\u001b[0m\u001b[0;34m)\u001b[0m\u001b[0;34m\u001b[0m\u001b[0m\n\u001b[0m\u001b[1;32m    403\u001b[0m \u001b[0;34m\u001b[0m\u001b[0m\n\u001b[1;32m    404\u001b[0m         \u001b[0;32mif\u001b[0m \u001b[0mensure_2d\u001b[0m\u001b[0;34m:\u001b[0m\u001b[0;34m\u001b[0m\u001b[0m\n",
      "\u001b[0;31mValueError\u001b[0m: setting an array element with a sequence."
     ]
    }
   ],
   "source": [
    "multiNB.fit(X_train, y_train)"
   ]
  },
  {
   "cell_type": "code",
   "execution_count": null,
   "metadata": {
    "collapsed": true
   },
   "outputs": [],
   "source": []
  }
 ],
 "metadata": {
  "kernelspec": {
   "display_name": "Python 2",
   "language": "python",
   "name": "python2"
  },
  "language_info": {
   "codemirror_mode": {
    "name": "ipython",
    "version": 2
   },
   "file_extension": ".py",
   "mimetype": "text/x-python",
   "name": "python",
   "nbconvert_exporter": "python",
   "pygments_lexer": "ipython2",
   "version": "2.7.13"
  }
 },
 "nbformat": 4,
 "nbformat_minor": 2
}
