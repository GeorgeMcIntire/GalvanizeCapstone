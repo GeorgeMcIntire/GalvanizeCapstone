{
 "cells": [
  {
   "cell_type": "code",
   "execution_count": 1,
   "metadata": {},
   "outputs": [],
   "source": [
    "import numpy as np\n",
    "import pandas as pd\n",
    "from sklearn.feature_extraction.text import TfidfVectorizer\n",
    "from sklearn.cluster import KMeans, AffinityPropagation\n",
    "from collections import Counter\n",
    "from scipy.spatial.distance import pdist, squareform\n",
    "import matplotlib.pyplot as plt\n",
    "from scipy.cluster.hierarchy import linkage, dendrogram\n"
   ]
  },
  {
   "cell_type": "code",
   "execution_count": 193,
   "metadata": {
    "collapsed": true
   },
   "outputs": [],
   "source": [
    "pd.options.display.max_colwidth = 100"
   ]
  },
  {
   "cell_type": "code",
   "execution_count": 2,
   "metadata": {
    "collapsed": true
   },
   "outputs": [],
   "source": [
    "import numpy as np\n",
    "import matplotlib.pyplot as plt\n",
    "%matplotlib inline\n",
    "\n",
    "# from textblob.sentiments import NaiveBayesAnalyzer\n",
    "import re\n",
    "import pandas as pd\n",
    "import sqlite3\n",
    "# from textblob import TextBlob\n",
    "\n",
    "import seaborn as sns\n",
    "sns.set(color_codes=True)\n",
    "\n",
    "# encoding=utf8\n",
    "# import sys\n",
    "# reload(sys)\n",
    "# sys.setdefaultencoding('utf8')"
   ]
  },
  {
   "cell_type": "code",
   "execution_count": null,
   "metadata": {
    "collapsed": true
   },
   "outputs": [],
   "source": []
  },
  {
   "cell_type": "code",
   "execution_count": null,
   "metadata": {},
   "outputs": [],
   "source": [
    "cd Desktop/"
   ]
  },
  {
   "cell_type": "code",
   "execution_count": null,
   "metadata": {
    "collapsed": true
   },
   "outputs": [],
   "source": [
    "df = pd.read_csv('../pitchfork3.csv')"
   ]
  },
  {
   "cell_type": "code",
   "execution_count": null,
   "metadata": {},
   "outputs": [],
   "source": []
  },
  {
   "cell_type": "code",
   "execution_count": 367,
   "metadata": {},
   "outputs": [],
   "source": [
    "df = pd.read_csv('../pitchfork3.csv')\n",
    "\n",
    "years = np.arange(1999, 2018)\n",
    "df_new = df[df['new_album'] == 1]\n",
    "df_reissue = df[df['new_album'] == 0]\n",
    "\n",
    "df_spotify = pd.read_csv('spotify_with_rank.csv')\n",
    "\n",
    "df_merged = df.merge(df_spotify, how='left', on=['artist', 'title'])"
   ]
  },
  {
   "cell_type": "code",
   "execution_count": 368,
   "metadata": {
    "collapsed": true
   },
   "outputs": [],
   "source": [
    "# 4. Limit the number of features and see if the words of the topics change.\n",
    "vectorizer = TfidfVectorizer(stop_words='english', max_features=500, max_df=.4)\n",
    "X = vectorizer.fit_transform(df_merged['content'].values.astype('U'))"
   ]
  },
  {
   "cell_type": "code",
   "execution_count": 369,
   "metadata": {},
   "outputs": [],
   "source": [
    "df_merged['tf-idf'] = list(X.toarray())"
   ]
  },
  {
   "cell_type": "code",
   "execution_count": 370,
   "metadata": {},
   "outputs": [],
   "source": [
    "df_merged['danceability rounded'] = (df_merged['danceability mean']*10).round(1)\n",
    "df_merged['valence rounded'] = (df_merged['valence mean']*10).round(1)\n",
    "df_merged['energy rounded'] = (df_merged['energy mean']*10).round(1)\n",
    "df_merged['acousticness rounded'] = (df_merged['acousticness mean']*10).round(1)\n",
    "df_merged['score_bin_5'] = pd.cut(df_merged['score'], bins=5, labels=False)"
   ]
  },
  {
   "cell_type": "code",
   "execution_count": 372,
   "metadata": {},
   "outputs": [],
   "source": [
    "df_merged['danceability rounded'].fillna(value=df_merged['danceability rounded'].mean(), inplace=True)\n",
    "df_merged['valence rounded'].fillna(value=df_merged['valence rounded'].mean(), inplace=True)\n",
    "df_merged['energy rounded'].fillna(value=df_merged['energy rounded'].mean(), inplace=True)\n",
    "df_merged['acousticness rounded'].fillna(value=df_merged['acousticness rounded'].mean(), inplace=True)\n",
    "\n",
    "\n",
    "\n"
   ]
  },
  {
   "cell_type": "code",
   "execution_count": null,
   "metadata": {},
   "outputs": [],
   "source": []
  },
  {
   "cell_type": "code",
   "execution_count": 386,
   "metadata": {},
   "outputs": [
    {
     "name": "stderr",
     "output_type": "stream",
     "text": [
      "/Users/andrewbashford/anaconda3/lib/python2.7/site-packages/ipykernel_launcher.py:1: SettingWithCopyWarning: \n",
      "A value is trying to be set on a copy of a slice from a DataFrame.\n",
      "Try using .loc[row_indexer,col_indexer] = value instead\n",
      "\n",
      "See the caveats in the documentation: http://pandas.pydata.org/pandas-docs/stable/indexing.html#indexing-view-versus-copy\n",
      "  \"\"\"Entry point for launching an IPython kernel.\n"
     ]
    }
   ],
   "source": [
    "df_merged['spotify_match'] = np.where(df_merged['year sum'] > 0, 1, 0)\n"
   ]
  },
  {
   "cell_type": "code",
   "execution_count": 364,
   "metadata": {},
   "outputs": [
    {
     "data": {
      "text/plain": [
       "2.939579640415288"
      ]
     },
     "execution_count": 364,
     "metadata": {},
     "output_type": "execute_result"
    }
   ],
   "source": [
    "df_merged['acousticness rounded'].mean()"
   ]
  },
  {
   "cell_type": "code",
   "execution_count": 340,
   "metadata": {},
   "outputs": [],
   "source": [
    "import graphlab"
   ]
  },
  {
   "cell_type": "code",
   "execution_count": 341,
   "metadata": {},
   "outputs": [
    {
     "data": {
      "text/plain": [
       "(19867, 98)"
      ]
     },
     "execution_count": 341,
     "metadata": {},
     "output_type": "execute_result"
    }
   ],
   "source": [
    "df_merged.shape"
   ]
  },
  {
   "cell_type": "code",
   "execution_count": 387,
   "metadata": {},
   "outputs": [
    {
     "data": {
      "text/html": [
       "<div>\n",
       "<style>\n",
       "    .dataframe thead tr:only-child th {\n",
       "        text-align: right;\n",
       "    }\n",
       "\n",
       "    .dataframe thead th {\n",
       "        text-align: left;\n",
       "    }\n",
       "\n",
       "    .dataframe tbody tr th {\n",
       "        vertical-align: top;\n",
       "    }\n",
       "</style>\n",
       "<table border=\"1\" class=\"dataframe\">\n",
       "  <thead>\n",
       "    <tr style=\"text-align: right;\">\n",
       "      <th></th>\n",
       "      <th>Unnamed: 0_x</th>\n",
       "      <th>Unnamed: 0.1</th>\n",
       "      <th>index</th>\n",
       "      <th>reviewid</th>\n",
       "      <th>title</th>\n",
       "      <th>artist</th>\n",
       "      <th>url</th>\n",
       "      <th>score</th>\n",
       "      <th>best_new_music</th>\n",
       "      <th>best_new_reissue</th>\n",
       "      <th>...</th>\n",
       "      <th>year mean</th>\n",
       "      <th>year std</th>\n",
       "      <th>order_of_release</th>\n",
       "      <th>tf-idf</th>\n",
       "      <th>danceability rounded</th>\n",
       "      <th>valence rounded</th>\n",
       "      <th>energy rounded</th>\n",
       "      <th>acousticness rounded</th>\n",
       "      <th>score_bin_5</th>\n",
       "      <th>spotify_match</th>\n",
       "    </tr>\n",
       "  </thead>\n",
       "  <tbody>\n",
       "    <tr>\n",
       "      <th>0</th>\n",
       "      <td>0</td>\n",
       "      <td>0</td>\n",
       "      <td>22</td>\n",
       "      <td>5a3aa14cdea49a0a938ccb18</td>\n",
       "      <td>merry christmas lil mama: re-wrapped</td>\n",
       "      <td>chance the rapper, jeremih</td>\n",
       "      <td>https://pitchfork.com/reviews/albums/merry-christmas-lil-mama-re-wrapped/</td>\n",
       "      <td>7.7</td>\n",
       "      <td>0</td>\n",
       "      <td>0</td>\n",
       "      <td>...</td>\n",
       "      <td>NaN</td>\n",
       "      <td>NaN</td>\n",
       "      <td>NaN</td>\n",
       "      <td>[0.0, 0.0, 0.0, 0.0, 0.0, 0.0, 0.0492206790311, 0.0, 0.0599015053475, 0.122856726748, 0.0, 0.0, ...</td>\n",
       "      <td>4.803942</td>\n",
       "      <td>3.948101</td>\n",
       "      <td>6.143214</td>\n",
       "      <td>2.939365</td>\n",
       "      <td>3</td>\n",
       "      <td>0</td>\n",
       "    </tr>\n",
       "    <tr>\n",
       "      <th>1</th>\n",
       "      <td>1</td>\n",
       "      <td>1</td>\n",
       "      <td>23</td>\n",
       "      <td>5a2eacf785030943c5158845</td>\n",
       "      <td>pressure</td>\n",
       "      <td>jeezy</td>\n",
       "      <td>https://pitchfork.com/reviews/albums/pressure/</td>\n",
       "      <td>6.3</td>\n",
       "      <td>0</td>\n",
       "      <td>0</td>\n",
       "      <td>...</td>\n",
       "      <td>2017.0</td>\n",
       "      <td>0.0</td>\n",
       "      <td>21.0</td>\n",
       "      <td>[0.0, 0.0, 0.0, 0.0, 0.088606767019, 0.0, 0.0, 0.0, 0.0, 0.0, 0.0, 0.0, 0.0, 0.164670809873, 0.0...</td>\n",
       "      <td>6.400000</td>\n",
       "      <td>3.400000</td>\n",
       "      <td>6.900000</td>\n",
       "      <td>0.400000</td>\n",
       "      <td>3</td>\n",
       "      <td>1</td>\n",
       "    </tr>\n",
       "    <tr>\n",
       "      <th>2</th>\n",
       "      <td>2</td>\n",
       "      <td>2</td>\n",
       "      <td>24</td>\n",
       "      <td>5a0a0f9fd5ec0a321fb119a2</td>\n",
       "      <td>the beautiful &amp; damned</td>\n",
       "      <td>g-eazy</td>\n",
       "      <td>https://pitchfork.com/reviews/albums/g-eazy-the-beautiful-and-damned/</td>\n",
       "      <td>5.1</td>\n",
       "      <td>0</td>\n",
       "      <td>0</td>\n",
       "      <td>...</td>\n",
       "      <td>2017.0</td>\n",
       "      <td>0.0</td>\n",
       "      <td>5.0</td>\n",
       "      <td>[0.0, 0.0, 0.0, 0.0, 0.0, 0.0, 0.0, 0.0, 0.0, 0.0, 0.0, 0.0, 0.0, 0.0, 0.0, 0.0, 0.0, 0.0, 0.0, ...</td>\n",
       "      <td>6.600000</td>\n",
       "      <td>3.300000</td>\n",
       "      <td>6.600000</td>\n",
       "      <td>1.300000</td>\n",
       "      <td>2</td>\n",
       "      <td>1</td>\n",
       "    </tr>\n",
       "    <tr>\n",
       "      <th>3</th>\n",
       "      <td>3</td>\n",
       "      <td>3</td>\n",
       "      <td>25</td>\n",
       "      <td>5a285f957d91d040cf1e35e1</td>\n",
       "      <td>quiet storm</td>\n",
       "      <td>shy glizzy</td>\n",
       "      <td>https://pitchfork.com/reviews/albums/shy-glizzy-quiet-storm/</td>\n",
       "      <td>7.1</td>\n",
       "      <td>0</td>\n",
       "      <td>0</td>\n",
       "      <td>...</td>\n",
       "      <td>2017.0</td>\n",
       "      <td>0.0</td>\n",
       "      <td>6.0</td>\n",
       "      <td>[0.0, 0.0, 0.0, 0.0, 0.0, 0.0, 0.0, 0.0, 0.0, 0.0, 0.0, 0.0, 0.0, 0.0, 0.0, 0.0, 0.0, 0.0, 0.093...</td>\n",
       "      <td>7.900000</td>\n",
       "      <td>4.400000</td>\n",
       "      <td>6.500000</td>\n",
       "      <td>0.800000</td>\n",
       "      <td>3</td>\n",
       "      <td>1</td>\n",
       "    </tr>\n",
       "    <tr>\n",
       "      <th>4</th>\n",
       "      <td>4</td>\n",
       "      <td>4</td>\n",
       "      <td>26</td>\n",
       "      <td>5a2eb9d5a31af72b3b598039</td>\n",
       "      <td>pop 2</td>\n",
       "      <td>charli xcx</td>\n",
       "      <td>https://pitchfork.com/reviews/albums/charli-xcx-pop-2/</td>\n",
       "      <td>8.4</td>\n",
       "      <td>1</td>\n",
       "      <td>0</td>\n",
       "      <td>...</td>\n",
       "      <td>2017.0</td>\n",
       "      <td>0.0</td>\n",
       "      <td>4.0</td>\n",
       "      <td>[0.127553030837, 0.0, 0.0636399669879, 0.0, 0.0, 0.0, 0.0, 0.0, 0.0, 0.0, 0.0636399669879, 0.090...</td>\n",
       "      <td>6.100000</td>\n",
       "      <td>4.000000</td>\n",
       "      <td>6.100000</td>\n",
       "      <td>1.900000</td>\n",
       "      <td>4</td>\n",
       "      <td>1</td>\n",
       "    </tr>\n",
       "  </tbody>\n",
       "</table>\n",
       "<p>5 rows × 104 columns</p>\n",
       "</div>"
      ],
      "text/plain": [
       "   Unnamed: 0_x  Unnamed: 0.1  index                  reviewid  \\\n",
       "0             0             0     22  5a3aa14cdea49a0a938ccb18   \n",
       "1             1             1     23  5a2eacf785030943c5158845   \n",
       "2             2             2     24  5a0a0f9fd5ec0a321fb119a2   \n",
       "3             3             3     25  5a285f957d91d040cf1e35e1   \n",
       "4             4             4     26  5a2eb9d5a31af72b3b598039   \n",
       "\n",
       "                                  title                      artist  \\\n",
       "0  merry christmas lil mama: re-wrapped  chance the rapper, jeremih   \n",
       "1                              pressure                       jeezy   \n",
       "2                the beautiful & damned                      g-eazy   \n",
       "3                           quiet storm                  shy glizzy   \n",
       "4                                 pop 2                  charli xcx   \n",
       "\n",
       "                                                                         url  \\\n",
       "0  https://pitchfork.com/reviews/albums/merry-christmas-lil-mama-re-wrapped/   \n",
       "1                             https://pitchfork.com/reviews/albums/pressure/   \n",
       "2      https://pitchfork.com/reviews/albums/g-eazy-the-beautiful-and-damned/   \n",
       "3               https://pitchfork.com/reviews/albums/shy-glizzy-quiet-storm/   \n",
       "4                     https://pitchfork.com/reviews/albums/charli-xcx-pop-2/   \n",
       "\n",
       "   score  best_new_music  best_new_reissue      ...       year mean year std  \\\n",
       "0    7.7               0                 0      ...             NaN      NaN   \n",
       "1    6.3               0                 0      ...          2017.0      0.0   \n",
       "2    5.1               0                 0      ...          2017.0      0.0   \n",
       "3    7.1               0                 0      ...          2017.0      0.0   \n",
       "4    8.4               1                 0      ...          2017.0      0.0   \n",
       "\n",
       "   order_of_release  \\\n",
       "0               NaN   \n",
       "1              21.0   \n",
       "2               5.0   \n",
       "3               6.0   \n",
       "4               4.0   \n",
       "\n",
       "                                                                                                tf-idf  \\\n",
       "0  [0.0, 0.0, 0.0, 0.0, 0.0, 0.0, 0.0492206790311, 0.0, 0.0599015053475, 0.122856726748, 0.0, 0.0, ...   \n",
       "1  [0.0, 0.0, 0.0, 0.0, 0.088606767019, 0.0, 0.0, 0.0, 0.0, 0.0, 0.0, 0.0, 0.0, 0.164670809873, 0.0...   \n",
       "2  [0.0, 0.0, 0.0, 0.0, 0.0, 0.0, 0.0, 0.0, 0.0, 0.0, 0.0, 0.0, 0.0, 0.0, 0.0, 0.0, 0.0, 0.0, 0.0, ...   \n",
       "3  [0.0, 0.0, 0.0, 0.0, 0.0, 0.0, 0.0, 0.0, 0.0, 0.0, 0.0, 0.0, 0.0, 0.0, 0.0, 0.0, 0.0, 0.0, 0.093...   \n",
       "4  [0.127553030837, 0.0, 0.0636399669879, 0.0, 0.0, 0.0, 0.0, 0.0, 0.0, 0.0, 0.0636399669879, 0.090...   \n",
       "\n",
       "   danceability rounded  valence rounded  energy rounded  \\\n",
       "0              4.803942         3.948101        6.143214   \n",
       "1              6.400000         3.400000        6.900000   \n",
       "2              6.600000         3.300000        6.600000   \n",
       "3              7.900000         4.400000        6.500000   \n",
       "4              6.100000         4.000000        6.100000   \n",
       "\n",
       "   acousticness rounded  score_bin_5  spotify_match  \n",
       "0              2.939365            3              0  \n",
       "1              0.400000            3              1  \n",
       "2              1.300000            2              1  \n",
       "3              0.800000            3              1  \n",
       "4              1.900000            4              1  \n",
       "\n",
       "[5 rows x 104 columns]"
      ]
     },
     "execution_count": 387,
     "metadata": {},
     "output_type": "execute_result"
    }
   ],
   "source": [
    "df_merged.head()"
   ]
  },
  {
   "cell_type": "code",
   "execution_count": 380,
   "metadata": {},
   "outputs": [],
   "source": [
    "df_merged =df_merged.dropna(subset=['content'])"
   ]
  },
  {
   "cell_type": "code",
   "execution_count": 388,
   "metadata": {},
   "outputs": [],
   "source": [
    "sf = graphlab.SFrame(df_merged[['url', 'tf-idf', \n",
    "                                'danceability rounded', 'valence rounded', 'energy rounded', 'acousticness rounded', \n",
    "                                'pub_year', u'genre_electronic', u'genre_experimental',\n",
    "       u'genre_folk/country', u'genre_global', u'genre_jazz', u'genre_metal',\n",
    "       u'genre_pop/r&b', u'genre_rap', u'genre_rock', 'new_album', 'spotify_match']])"
   ]
  },
  {
   "cell_type": "code",
   "execution_count": 389,
   "metadata": {
    "scrolled": true
   },
   "outputs": [
    {
     "name": "stdout",
     "output_type": "stream",
     "text": [
      "WARNING: The ItemContentRecommender model is still in beta.\n",
      "WARNING: This feature transformer is still in beta, and some interpretation rules may change in the future.\n",
      "('Applying transform:\\n', Class             : AutoVectorizer\n",
      "\n",
      "Model Fields\n",
      "------------\n",
      "Features          : ['tf-idf', 'danceability rounded', 'valence rounded', 'energy rounded', 'acousticness rounded', 'pub_year', 'genre_electronic', 'genre_experimental', 'genre_folk/country', 'genre_global', 'genre_jazz', 'genre_metal', 'genre_pop/r&b', 'genre_rap', 'genre_rock', 'new_album', 'spotify_match']\n",
      "Excluded Features : ['url']\n",
      "\n",
      "Column                Type   Interpretation  Transforms   Output Type\n",
      "--------------------  -----  --------------  -----------  -----------\n",
      "tf-idf                array  vector          None         array      \n",
      "danceability rounded  float  numerical       None         float      \n",
      "valence rounded       float  numerical       None         float      \n",
      "energy rounded        float  numerical       None         float      \n",
      "acousticness rounded  float  numerical       None         float      \n",
      "pub_year              int    numerical       None         int        \n",
      "genre_electronic      int    categorical     astype(str)  str        \n",
      "genre_experimental    int    categorical     astype(str)  str        \n",
      "genre_folk/country    int    categorical     astype(str)  str        \n",
      "genre_global          int    categorical     astype(str)  str        \n",
      "genre_jazz            int    categorical     astype(str)  str        \n",
      "genre_metal           int    categorical     astype(str)  str        \n",
      "genre_pop/r&b         int    categorical     astype(str)  str        \n",
      "genre_rap             int    categorical     astype(str)  str        \n",
      "genre_rock            int    categorical     astype(str)  str        \n",
      "new_album             int    categorical     astype(str)  str        \n",
      "spotify_match         int    categorical     astype(str)  str        \n",
      "\n",
      ")\n"
     ]
    },
    {
     "data": {
      "text/html": [
       "<pre>Recsys training: model = item_content_recommender</pre>"
      ],
      "text/plain": [
       "Recsys training: model = item_content_recommender"
      ]
     },
     "metadata": {},
     "output_type": "display_data"
    },
    {
     "name": "stdout",
     "output_type": "stream",
     "text": [
      "Defaulting to brute force instead of ball tree because there are multiple distance components.\n"
     ]
    },
    {
     "data": {
      "text/html": [
       "<pre>Starting brute force nearest neighbors model training.</pre>"
      ],
      "text/plain": [
       "Starting brute force nearest neighbors model training."
      ]
     },
     "metadata": {},
     "output_type": "display_data"
    },
    {
     "data": {
      "text/html": [
       "<pre>Starting pairwise querying.</pre>"
      ],
      "text/plain": [
       "Starting pairwise querying."
      ]
     },
     "metadata": {},
     "output_type": "display_data"
    },
    {
     "data": {
      "text/html": [
       "<pre>+--------------+---------+-------------+--------------+</pre>"
      ],
      "text/plain": [
       "+--------------+---------+-------------+--------------+"
      ]
     },
     "metadata": {},
     "output_type": "display_data"
    },
    {
     "data": {
      "text/html": [
       "<pre>| Query points | # Pairs | % Complete. | Elapsed Time |</pre>"
      ],
      "text/plain": [
       "| Query points | # Pairs | % Complete. | Elapsed Time |"
      ]
     },
     "metadata": {},
     "output_type": "display_data"
    },
    {
     "data": {
      "text/html": [
       "<pre>+--------------+---------+-------------+--------------+</pre>"
      ],
      "text/plain": [
       "+--------------+---------+-------------+--------------+"
      ]
     },
     "metadata": {},
     "output_type": "display_data"
    },
    {
     "data": {
      "text/html": [
       "<pre>| 0            | 9933    | 0.00251686  | 195.127ms    |</pre>"
      ],
      "text/plain": [
       "| 0            | 9933    | 0.00251686  | 195.127ms    |"
      ]
     },
     "metadata": {},
     "output_type": "display_data"
    },
    {
     "data": {
      "text/html": [
       "<pre>| 51           | 1023099 | 0.259237    | 1.20s        |</pre>"
      ],
      "text/plain": [
       "| 51           | 1023099 | 0.259237    | 1.20s        |"
      ]
     },
     "metadata": {},
     "output_type": "display_data"
    },
    {
     "data": {
      "text/html": [
       "<pre>| 101          | 2016399 | 0.510923    | 2.20s        |</pre>"
      ],
      "text/plain": [
       "| 101          | 2016399 | 0.510923    | 2.20s        |"
      ]
     },
     "metadata": {},
     "output_type": "display_data"
    },
    {
     "data": {
      "text/html": [
       "<pre>| 152          | 3029565 | 0.767643    | 3.20s        |</pre>"
      ],
      "text/plain": [
       "| 152          | 3029565 | 0.767643    | 3.20s        |"
      ]
     },
     "metadata": {},
     "output_type": "display_data"
    },
    {
     "data": {
      "text/html": [
       "<pre>| 196          | 3903669 | 0.989127    | 4.22s        |</pre>"
      ],
      "text/plain": [
       "| 196          | 3903669 | 0.989127    | 4.22s        |"
      ]
     },
     "metadata": {},
     "output_type": "display_data"
    },
    {
     "data": {
      "text/html": [
       "<pre>| 253          | 5026098 | 1.27353     | 5.21s        |</pre>"
      ],
      "text/plain": [
       "| 253          | 5026098 | 1.27353     | 5.21s        |"
      ]
     },
     "metadata": {},
     "output_type": "display_data"
    },
    {
     "data": {
      "text/html": [
       "<pre>| 318          | 6327321 | 1.60324     | 6.22s        |</pre>"
      ],
      "text/plain": [
       "| 318          | 6327321 | 1.60324     | 6.22s        |"
      ]
     },
     "metadata": {},
     "output_type": "display_data"
    },
    {
     "data": {
      "text/html": [
       "<pre>| 384          | 7628544 | 1.93295     | 7.22s        |</pre>"
      ],
      "text/plain": [
       "| 384          | 7628544 | 1.93295     | 7.22s        |"
      ]
     },
     "metadata": {},
     "output_type": "display_data"
    },
    {
     "data": {
      "text/html": [
       "<pre>| 451          | 8959566 | 2.27021     | 8.23s        |</pre>"
      ],
      "text/plain": [
       "| 451          | 8959566 | 2.27021     | 8.23s        |"
      ]
     },
     "metadata": {},
     "output_type": "display_data"
    },
    {
     "data": {
      "text/html": [
       "<pre>| 515          | 1e+07   | 2.59489     | 9.22s        |</pre>"
      ],
      "text/plain": [
       "| 515          | 1e+07   | 2.59489     | 9.22s        |"
      ]
     },
     "metadata": {},
     "output_type": "display_data"
    },
    {
     "data": {
      "text/html": [
       "<pre>| 582          | 1.2e+07 | 2.93215     | 10.23s       |</pre>"
      ],
      "text/plain": [
       "| 582          | 1.2e+07 | 2.93215     | 10.23s       |"
      ]
     },
     "metadata": {},
     "output_type": "display_data"
    },
    {
     "data": {
      "text/html": [
       "<pre>| 648          | 1.3e+07 | 3.26437     | 11.23s       |</pre>"
      ],
      "text/plain": [
       "| 648          | 1.3e+07 | 3.26437     | 11.23s       |"
      ]
     },
     "metadata": {},
     "output_type": "display_data"
    },
    {
     "data": {
      "text/html": [
       "<pre>| 715          | 1.4e+07 | 3.59911     | 12.23s       |</pre>"
      ],
      "text/plain": [
       "| 715          | 1.4e+07 | 3.59911     | 12.23s       |"
      ]
     },
     "metadata": {},
     "output_type": "display_data"
    },
    {
     "data": {
      "text/html": [
       "<pre>| 781          | 1.6e+07 | 3.93134     | 13.24s       |</pre>"
      ],
      "text/plain": [
       "| 781          | 1.6e+07 | 3.93134     | 13.24s       |"
      ]
     },
     "metadata": {},
     "output_type": "display_data"
    },
    {
     "data": {
      "text/html": [
       "<pre>| 847          | 1.7e+07 | 4.26608     | 14.25s       |</pre>"
      ],
      "text/plain": [
       "| 847          | 1.7e+07 | 4.26608     | 14.25s       |"
      ]
     },
     "metadata": {},
     "output_type": "display_data"
    },
    {
     "data": {
      "text/html": [
       "<pre>| 913          | 1.8e+07 | 4.59579     | 15.24s       |</pre>"
      ],
      "text/plain": [
       "| 913          | 1.8e+07 | 4.59579     | 15.24s       |"
      ]
     },
     "metadata": {},
     "output_type": "display_data"
    },
    {
     "data": {
      "text/html": [
       "<pre>| 979          | 1.9e+07 | 4.93053     | 16.24s       |</pre>"
      ],
      "text/plain": [
       "| 979          | 1.9e+07 | 4.93053     | 16.24s       |"
      ]
     },
     "metadata": {},
     "output_type": "display_data"
    },
    {
     "data": {
      "text/html": [
       "<pre>| 1046         | 2.1e+07 | 5.26779     | 17.26s       |</pre>"
      ],
      "text/plain": [
       "| 1046         | 2.1e+07 | 5.26779     | 17.26s       |"
      ]
     },
     "metadata": {},
     "output_type": "display_data"
    },
    {
     "data": {
      "text/html": [
       "<pre>| 1113         | 2.2e+07 | 5.60254     | 18.26s       |</pre>"
      ],
      "text/plain": [
       "| 1113         | 2.2e+07 | 5.60254     | 18.26s       |"
      ]
     },
     "metadata": {},
     "output_type": "display_data"
    },
    {
     "data": {
      "text/html": [
       "<pre>| 1178         | 2.3e+07 | 5.92973     | 19.25s       |</pre>"
      ],
      "text/plain": [
       "| 1178         | 2.3e+07 | 5.92973     | 19.25s       |"
      ]
     },
     "metadata": {},
     "output_type": "display_data"
    },
    {
     "data": {
      "text/html": [
       "<pre>| 1245         | 2.5e+07 | 6.26951     | 20.26s       |</pre>"
      ],
      "text/plain": [
       "| 1245         | 2.5e+07 | 6.26951     | 20.26s       |"
      ]
     },
     "metadata": {},
     "output_type": "display_data"
    },
    {
     "data": {
      "text/html": [
       "<pre>| 1313         | 2.6e+07 | 6.6118      | 21.26s       |</pre>"
      ],
      "text/plain": [
       "| 1313         | 2.6e+07 | 6.6118      | 21.26s       |"
      ]
     },
     "metadata": {},
     "output_type": "display_data"
    },
    {
     "data": {
      "text/html": [
       "<pre>| 1379         | 2.7e+07 | 6.94151     | 22.26s       |</pre>"
      ],
      "text/plain": [
       "| 1379         | 2.7e+07 | 6.94151     | 22.26s       |"
      ]
     },
     "metadata": {},
     "output_type": "display_data"
    },
    {
     "data": {
      "text/html": [
       "<pre>| 1444         | 2.9e+07 | 7.27122     | 23.26s       |</pre>"
      ],
      "text/plain": [
       "| 1444         | 2.9e+07 | 7.27122     | 23.26s       |"
      ]
     },
     "metadata": {},
     "output_type": "display_data"
    },
    {
     "data": {
      "text/html": [
       "<pre>| 1511         | 3e+07   | 7.60596     | 24.27s       |</pre>"
      ],
      "text/plain": [
       "| 1511         | 3e+07   | 7.60596     | 24.27s       |"
      ]
     },
     "metadata": {},
     "output_type": "display_data"
    },
    {
     "data": {
      "text/html": [
       "<pre>| 1578         | 3.1e+07 | 7.94574     | 25.28s       |</pre>"
      ],
      "text/plain": [
       "| 1578         | 3.1e+07 | 7.94574     | 25.28s       |"
      ]
     },
     "metadata": {},
     "output_type": "display_data"
    },
    {
     "data": {
      "text/html": [
       "<pre>| 1647         | 3.3e+07 | 8.29306     | 26.28s       |</pre>"
      ],
      "text/plain": [
       "| 1647         | 3.3e+07 | 8.29306     | 26.28s       |"
      ]
     },
     "metadata": {},
     "output_type": "display_data"
    },
    {
     "data": {
      "text/html": [
       "<pre>| 1713         | 3.4e+07 | 8.62529     | 27.28s       |</pre>"
      ],
      "text/plain": [
       "| 1713         | 3.4e+07 | 8.62529     | 27.28s       |"
      ]
     },
     "metadata": {},
     "output_type": "display_data"
    },
    {
     "data": {
      "text/html": [
       "<pre>| 1776         | 3.5e+07 | 8.94241     | 28.28s       |</pre>"
      ],
      "text/plain": [
       "| 1776         | 3.5e+07 | 8.94241     | 28.28s       |"
      ]
     },
     "metadata": {},
     "output_type": "display_data"
    },
    {
     "data": {
      "text/html": [
       "<pre>| 1845         | 3.7e+07 | 9.28722     | 29.29s       |</pre>"
      ],
      "text/plain": [
       "| 1845         | 3.7e+07 | 9.28722     | 29.29s       |"
      ]
     },
     "metadata": {},
     "output_type": "display_data"
    },
    {
     "data": {
      "text/html": [
       "<pre>| 1911         | 3.8e+07 | 9.61945     | 30.29s       |</pre>"
      ],
      "text/plain": [
       "| 1911         | 3.8e+07 | 9.61945     | 30.29s       |"
      ]
     },
     "metadata": {},
     "output_type": "display_data"
    },
    {
     "data": {
      "text/html": [
       "<pre>| 1977         | 3.9e+07 | 9.95419     | 31.30s       |</pre>"
      ],
      "text/plain": [
       "| 1977         | 3.9e+07 | 9.95419     | 31.30s       |"
      ]
     },
     "metadata": {},
     "output_type": "display_data"
    },
    {
     "data": {
      "text/html": [
       "<pre>| 2045         | 4.1e+07 | 10.294      | 32.29s       |</pre>"
      ],
      "text/plain": [
       "| 2045         | 4.1e+07 | 10.294      | 32.29s       |"
      ]
     },
     "metadata": {},
     "output_type": "display_data"
    },
    {
     "data": {
      "text/html": [
       "<pre>| 2113         | 4.2e+07 | 10.6363     | 33.32s       |</pre>"
      ],
      "text/plain": [
       "| 2113         | 4.2e+07 | 10.6363     | 33.32s       |"
      ]
     },
     "metadata": {},
     "output_type": "display_data"
    },
    {
     "data": {
      "text/html": [
       "<pre>| 2178         | 4.3e+07 | 10.9635     | 34.31s       |</pre>"
      ],
      "text/plain": [
       "| 2178         | 4.3e+07 | 10.9635     | 34.31s       |"
      ]
     },
     "metadata": {},
     "output_type": "display_data"
    },
    {
     "data": {
      "text/html": [
       "<pre>| 2245         | 4.5e+07 | 11.3032     | 35.30s       |</pre>"
      ],
      "text/plain": [
       "| 2245         | 4.5e+07 | 11.3032     | 35.30s       |"
      ]
     },
     "metadata": {},
     "output_type": "display_data"
    },
    {
     "data": {
      "text/html": [
       "<pre>| 2313         | 4.6e+07 | 11.6455     | 36.31s       |</pre>"
      ],
      "text/plain": [
       "| 2313         | 4.6e+07 | 11.6455     | 36.31s       |"
      ]
     },
     "metadata": {},
     "output_type": "display_data"
    },
    {
     "data": {
      "text/html": [
       "<pre>| 2381         | 4.7e+07 | 11.9853     | 37.33s       |</pre>"
      ],
      "text/plain": [
       "| 2381         | 4.7e+07 | 11.9853     | 37.33s       |"
      ]
     },
     "metadata": {},
     "output_type": "display_data"
    },
    {
     "data": {
      "text/html": [
       "<pre>| 2447         | 4.9e+07 | 12.3175     | 38.33s       |</pre>"
      ],
      "text/plain": [
       "| 2447         | 4.9e+07 | 12.3175     | 38.33s       |"
      ]
     },
     "metadata": {},
     "output_type": "display_data"
    },
    {
     "data": {
      "text/html": [
       "<pre>| 2513         | 5e+07   | 12.6498     | 39.34s       |</pre>"
      ],
      "text/plain": [
       "| 2513         | 5e+07   | 12.6498     | 39.34s       |"
      ]
     },
     "metadata": {},
     "output_type": "display_data"
    },
    {
     "data": {
      "text/html": [
       "<pre>| 2579         | 5.1e+07 | 12.9845     | 40.32s       |</pre>"
      ],
      "text/plain": [
       "| 2579         | 5.1e+07 | 12.9845     | 40.32s       |"
      ]
     },
     "metadata": {},
     "output_type": "display_data"
    },
    {
     "data": {
      "text/html": [
       "<pre>| 2646         | 5.3e+07 | 13.3218     | 41.32s       |</pre>"
      ],
      "text/plain": [
       "| 2646         | 5.3e+07 | 13.3218     | 41.32s       |"
      ]
     },
     "metadata": {},
     "output_type": "display_data"
    },
    {
     "data": {
      "text/html": [
       "<pre>| 2699         | 5.4e+07 | 13.586      | 42.32s       |</pre>"
      ],
      "text/plain": [
       "| 2699         | 5.4e+07 | 13.586      | 42.32s       |"
      ]
     },
     "metadata": {},
     "output_type": "display_data"
    },
    {
     "data": {
      "text/html": [
       "<pre>| 2748         | 5.5e+07 | 13.8327     | 43.33s       |</pre>"
      ],
      "text/plain": [
       "| 2748         | 5.5e+07 | 13.8327     | 43.33s       |"
      ]
     },
     "metadata": {},
     "output_type": "display_data"
    },
    {
     "data": {
      "text/html": [
       "<pre>| 2793         | 5.5e+07 | 14.0617     | 44.35s       |</pre>"
      ],
      "text/plain": [
       "| 2793         | 5.5e+07 | 14.0617     | 44.35s       |"
      ]
     },
     "metadata": {},
     "output_type": "display_data"
    },
    {
     "data": {
      "text/html": [
       "<pre>| 2852         | 5.7e+07 | 14.3562     | 45.34s       |</pre>"
      ],
      "text/plain": [
       "| 2852         | 5.7e+07 | 14.3562     | 45.34s       |"
      ]
     },
     "metadata": {},
     "output_type": "display_data"
    },
    {
     "data": {
      "text/html": [
       "<pre>| 2904         | 5.8e+07 | 14.6205     | 46.35s       |</pre>"
      ],
      "text/plain": [
       "| 2904         | 5.8e+07 | 14.6205     | 46.35s       |"
      ]
     },
     "metadata": {},
     "output_type": "display_data"
    },
    {
     "data": {
      "text/html": [
       "<pre>| 2948         | 5.9e+07 | 14.8394     | 47.34s       |</pre>"
      ],
      "text/plain": [
       "| 2948         | 5.9e+07 | 14.8394     | 47.34s       |"
      ]
     },
     "metadata": {},
     "output_type": "display_data"
    },
    {
     "data": {
      "text/html": [
       "<pre>| 2998         | 6e+07   | 15.0911     | 48.34s       |</pre>"
      ],
      "text/plain": [
       "| 2998         | 6e+07   | 15.0911     | 48.34s       |"
      ]
     },
     "metadata": {},
     "output_type": "display_data"
    },
    {
     "data": {
      "text/html": [
       "<pre>| 3042         | 6e+07   | 15.3126     | 49.34s       |</pre>"
      ],
      "text/plain": [
       "| 3042         | 6e+07   | 15.3126     | 49.34s       |"
      ]
     },
     "metadata": {},
     "output_type": "display_data"
    },
    {
     "data": {
      "text/html": [
       "<pre>| 3092         | 6.1e+07 | 15.5668     | 50.35s       |</pre>"
      ],
      "text/plain": [
       "| 3092         | 6.1e+07 | 15.5668     | 50.35s       |"
      ]
     },
     "metadata": {},
     "output_type": "display_data"
    },
    {
     "data": {
      "text/html": [
       "<pre>| 3140         | 6.2e+07 | 15.8084     | 51.36s       |</pre>"
      ],
      "text/plain": [
       "| 3140         | 6.2e+07 | 15.8084     | 51.36s       |"
      ]
     },
     "metadata": {},
     "output_type": "display_data"
    },
    {
     "data": {
      "text/html": [
       "<pre>| 3192         | 6.3e+07 | 16.0702     | 52.36s       |</pre>"
      ],
      "text/plain": [
       "| 3192         | 6.3e+07 | 16.0702     | 52.36s       |"
      ]
     },
     "metadata": {},
     "output_type": "display_data"
    },
    {
     "data": {
      "text/html": [
       "<pre>| 3251         | 6.5e+07 | 16.3672     | 53.36s       |</pre>"
      ],
      "text/plain": [
       "| 3251         | 6.5e+07 | 16.3672     | 53.36s       |"
      ]
     },
     "metadata": {},
     "output_type": "display_data"
    },
    {
     "data": {
      "text/html": [
       "<pre>| 3302         | 6.6e+07 | 16.6214     | 54.36s       |</pre>"
      ],
      "text/plain": [
       "| 3302         | 6.6e+07 | 16.6214     | 54.36s       |"
      ]
     },
     "metadata": {},
     "output_type": "display_data"
    },
    {
     "data": {
      "text/html": [
       "<pre>| 3350         | 6.7e+07 | 16.863      | 55.36s       |</pre>"
      ],
      "text/plain": [
       "| 3350         | 6.7e+07 | 16.863      | 55.36s       |"
      ]
     },
     "metadata": {},
     "output_type": "display_data"
    },
    {
     "data": {
      "text/html": [
       "<pre>| 3390         | 6.7e+07 | 17.0668     | 56.47s       |</pre>"
      ],
      "text/plain": [
       "| 3390         | 6.7e+07 | 17.0668     | 56.47s       |"
      ]
     },
     "metadata": {},
     "output_type": "display_data"
    },
    {
     "data": {
      "text/html": [
       "<pre>| 3423         |         | 17.2304     | 57.37s       |</pre>"
      ],
      "text/plain": [
       "| 3423         |         | 17.2304     | 57.37s       |"
      ]
     },
     "metadata": {},
     "output_type": "display_data"
    },
    {
     "data": {
      "text/html": [
       "<pre>| 3465         | 6.9e+07 | 17.4444     | 58.37s       |</pre>"
      ],
      "text/plain": [
       "| 3465         | 6.9e+07 | 17.4444     | 58.37s       |"
      ]
     },
     "metadata": {},
     "output_type": "display_data"
    },
    {
     "data": {
      "text/html": [
       "<pre>| 3528         | 7e+07   | 17.759      | 59.38s       |</pre>"
      ],
      "text/plain": [
       "| 3528         | 7e+07   | 17.759      | 59.38s       |"
      ]
     },
     "metadata": {},
     "output_type": "display_data"
    },
    {
     "data": {
      "text/html": [
       "<pre>| 3594         | 7.1e+07 | 18.0937     | 1m 0s        |</pre>"
      ],
      "text/plain": [
       "| 3594         | 7.1e+07 | 18.0937     | 1m 0s        |"
      ]
     },
     "metadata": {},
     "output_type": "display_data"
    },
    {
     "data": {
      "text/html": [
       "<pre>| 3632         | 7.2e+07 | 18.2825     | 1m 1s        |</pre>"
      ],
      "text/plain": [
       "| 3632         | 7.2e+07 | 18.2825     | 1m 1s        |"
      ]
     },
     "metadata": {},
     "output_type": "display_data"
    },
    {
     "data": {
      "text/html": [
       "<pre>| 3695         | 7.3e+07 | 18.5996     | 1m 2s        |</pre>"
      ],
      "text/plain": [
       "| 3695         | 7.3e+07 | 18.5996     | 1m 2s        |"
      ]
     },
     "metadata": {},
     "output_type": "display_data"
    },
    {
     "data": {
      "text/html": [
       "<pre>| 3752         | 7.5e+07 | 18.8891     | 1m 3s        |</pre>"
      ],
      "text/plain": [
       "| 3752         | 7.5e+07 | 18.8891     | 1m 3s        |"
      ]
     },
     "metadata": {},
     "output_type": "display_data"
    },
    {
     "data": {
      "text/html": [
       "<pre>| 3814         | 7.6e+07 | 19.1986     | 1m 4s        |</pre>"
      ],
      "text/plain": [
       "| 3814         | 7.6e+07 | 19.1986     | 1m 4s        |"
      ]
     },
     "metadata": {},
     "output_type": "display_data"
    },
    {
     "data": {
      "text/html": [
       "<pre>| 3872         | 7.7e+07 | 19.4906     | 1m 5s        |</pre>"
      ],
      "text/plain": [
       "| 3872         | 7.7e+07 | 19.4906     | 1m 5s        |"
      ]
     },
     "metadata": {},
     "output_type": "display_data"
    },
    {
     "data": {
      "text/html": [
       "<pre>| 3935         | 7.8e+07 | 19.8102     | 1m 6s        |</pre>"
      ],
      "text/plain": [
       "| 3935         | 7.8e+07 | 19.8102     | 1m 6s        |"
      ]
     },
     "metadata": {},
     "output_type": "display_data"
    },
    {
     "data": {
      "text/html": [
       "<pre>| 3999         | 7.9e+07 | 20.1324     | 1m 7s        |</pre>"
      ],
      "text/plain": [
       "| 3999         | 7.9e+07 | 20.1324     | 1m 7s        |"
      ]
     },
     "metadata": {},
     "output_type": "display_data"
    },
    {
     "data": {
      "text/html": [
       "<pre>| 4060         | 8.1e+07 | 20.4369     | 1m 8s        |</pre>"
      ],
      "text/plain": [
       "| 4060         | 8.1e+07 | 20.4369     | 1m 8s        |"
      ]
     },
     "metadata": {},
     "output_type": "display_data"
    },
    {
     "data": {
      "text/html": [
       "<pre>| 4121         | 8.2e+07 | 20.744      | 1m 9s        |</pre>"
      ],
      "text/plain": [
       "| 4121         | 8.2e+07 | 20.744      | 1m 9s        |"
      ]
     },
     "metadata": {},
     "output_type": "display_data"
    },
    {
     "data": {
      "text/html": [
       "<pre>| 4185         | 8.3e+07 | 21.0687     | 1m 10s       |</pre>"
      ],
      "text/plain": [
       "| 4185         | 8.3e+07 | 21.0687     | 1m 10s       |"
      ]
     },
     "metadata": {},
     "output_type": "display_data"
    },
    {
     "data": {
      "text/html": [
       "<pre>| 4232         | 8.4e+07 | 21.3052     | 1m 11s       |</pre>"
      ],
      "text/plain": [
       "| 4232         | 8.4e+07 | 21.3052     | 1m 11s       |"
      ]
     },
     "metadata": {},
     "output_type": "display_data"
    },
    {
     "data": {
      "text/html": [
       "<pre>| 4296         | 8.5e+07 | 21.6249     | 1m 12s       |</pre>"
      ],
      "text/plain": [
       "| 4296         | 8.5e+07 | 21.6249     | 1m 12s       |"
      ]
     },
     "metadata": {},
     "output_type": "display_data"
    },
    {
     "data": {
      "text/html": [
       "<pre>| 4355         | 8.7e+07 | 21.9244     | 1m 13s       |</pre>"
      ],
      "text/plain": [
       "| 4355         | 8.7e+07 | 21.9244     | 1m 13s       |"
      ]
     },
     "metadata": {},
     "output_type": "display_data"
    },
    {
     "data": {
      "text/html": [
       "<pre>| 4419         | 8.8e+07 | 22.2466     | 1m 14s       |</pre>"
      ],
      "text/plain": [
       "| 4419         | 8.8e+07 | 22.2466     | 1m 14s       |"
      ]
     },
     "metadata": {},
     "output_type": "display_data"
    },
    {
     "data": {
      "text/html": [
       "<pre>| 4488         | 8.9e+07 | 22.5914     | 1m 15s       |</pre>"
      ],
      "text/plain": [
       "| 4488         | 8.9e+07 | 22.5914     | 1m 15s       |"
      ]
     },
     "metadata": {},
     "output_type": "display_data"
    },
    {
     "data": {
      "text/html": [
       "<pre>| 4553         | 9e+07   | 22.9211     | 1m 16s       |</pre>"
      ],
      "text/plain": [
       "| 4553         | 9e+07   | 22.9211     | 1m 16s       |"
      ]
     },
     "metadata": {},
     "output_type": "display_data"
    },
    {
     "data": {
      "text/html": [
       "<pre>| 4617         | 9.2e+07 | 23.2407     | 1m 17s       |</pre>"
      ],
      "text/plain": [
       "| 4617         | 9.2e+07 | 23.2407     | 1m 17s       |"
      ]
     },
     "metadata": {},
     "output_type": "display_data"
    },
    {
     "data": {
      "text/html": [
       "<pre>| 4677         | 9.3e+07 | 23.5453     | 1m 18s       |</pre>"
      ],
      "text/plain": [
       "| 4677         | 9.3e+07 | 23.5453     | 1m 18s       |"
      ]
     },
     "metadata": {},
     "output_type": "display_data"
    },
    {
     "data": {
      "text/html": [
       "<pre>| 4729         | 9.4e+07 | 23.807      | 1m 19s       |</pre>"
      ],
      "text/plain": [
       "| 4729         | 9.4e+07 | 23.807      | 1m 19s       |"
      ]
     },
     "metadata": {},
     "output_type": "display_data"
    },
    {
     "data": {
      "text/html": [
       "<pre>| 4793         | 9.5e+07 | 24.1266     | 1m 20s       |</pre>"
      ],
      "text/plain": [
       "| 4793         | 9.5e+07 | 24.1266     | 1m 20s       |"
      ]
     },
     "metadata": {},
     "output_type": "display_data"
    },
    {
     "data": {
      "text/html": [
       "<pre>| 4859         | 9.7e+07 | 24.4589     | 1m 21s       |</pre>"
      ],
      "text/plain": [
       "| 4859         | 9.7e+07 | 24.4589     | 1m 21s       |"
      ]
     },
     "metadata": {},
     "output_type": "display_data"
    },
    {
     "data": {
      "text/html": [
       "<pre>| 4926         | 9.8e+07 | 24.7987     | 1m 22s       |</pre>"
      ],
      "text/plain": [
       "| 4926         | 9.8e+07 | 24.7987     | 1m 22s       |"
      ]
     },
     "metadata": {},
     "output_type": "display_data"
    },
    {
     "data": {
      "text/html": [
       "<pre>| 4991         | 9.9e+07 | 25.1258     | 1m 23s       |</pre>"
      ],
      "text/plain": [
       "| 4991         | 9.9e+07 | 25.1258     | 1m 23s       |"
      ]
     },
     "metadata": {},
     "output_type": "display_data"
    },
    {
     "data": {
      "text/html": [
       "<pre>| 5057         | 1e+08   | 25.4581     | 1m 24s       |</pre>"
      ],
      "text/plain": [
       "| 5057         | 1e+08   | 25.4581     | 1m 24s       |"
      ]
     },
     "metadata": {},
     "output_type": "display_data"
    },
    {
     "data": {
      "text/html": [
       "<pre>| 5122         | 1e+08   | 25.7827     | 1m 25s       |</pre>"
      ],
      "text/plain": [
       "| 5122         | 1e+08   | 25.7827     | 1m 25s       |"
      ]
     },
     "metadata": {},
     "output_type": "display_data"
    },
    {
     "data": {
      "text/html": [
       "<pre>| 5180         | 1e+08   | 26.0772     | 1m 26s       |</pre>"
      ],
      "text/plain": [
       "| 5180         | 1e+08   | 26.0772     | 1m 26s       |"
      ]
     },
     "metadata": {},
     "output_type": "display_data"
    },
    {
     "data": {
      "text/html": [
       "<pre>| 5247         | 1e+08   | 26.412      | 1m 27s       |</pre>"
      ],
      "text/plain": [
       "| 5247         | 1e+08   | 26.412      | 1m 27s       |"
      ]
     },
     "metadata": {},
     "output_type": "display_data"
    },
    {
     "data": {
      "text/html": [
       "<pre>| 5311         | 1.1e+08 | 26.7341     | 1m 28s       |</pre>"
      ],
      "text/plain": [
       "| 5311         | 1.1e+08 | 26.7341     | 1m 28s       |"
      ]
     },
     "metadata": {},
     "output_type": "display_data"
    },
    {
     "data": {
      "text/html": [
       "<pre>| 5377         | 1.1e+08 | 27.0663     | 1m 29s       |</pre>"
      ],
      "text/plain": [
       "| 5377         | 1.1e+08 | 27.0663     | 1m 29s       |"
      ]
     },
     "metadata": {},
     "output_type": "display_data"
    },
    {
     "data": {
      "text/html": [
       "<pre>| 5438         | 1.1e+08 | 27.3759     | 1m 30s       |</pre>"
      ],
      "text/plain": [
       "| 5438         | 1.1e+08 | 27.3759     | 1m 30s       |"
      ]
     },
     "metadata": {},
     "output_type": "display_data"
    },
    {
     "data": {
      "text/html": [
       "<pre>| 5497         | 1.1e+08 | 27.6729     | 1m 31s       |</pre>"
      ],
      "text/plain": [
       "| 5497         | 1.1e+08 | 27.6729     | 1m 31s       |"
      ]
     },
     "metadata": {},
     "output_type": "display_data"
    },
    {
     "data": {
      "text/html": [
       "<pre>| 5561         | 1.1e+08 | 27.9951     | 1m 32s       |</pre>"
      ],
      "text/plain": [
       "| 5561         | 1.1e+08 | 27.9951     | 1m 32s       |"
      ]
     },
     "metadata": {},
     "output_type": "display_data"
    },
    {
     "data": {
      "text/html": [
       "<pre>| 5603         | 1.1e+08 | 28.2065     | 1m 33s       |</pre>"
      ],
      "text/plain": [
       "| 5603         | 1.1e+08 | 28.2065     | 1m 33s       |"
      ]
     },
     "metadata": {},
     "output_type": "display_data"
    },
    {
     "data": {
      "text/html": [
       "<pre>| 5651         | 1.1e+08 | 28.4481     | 1m 34s       |</pre>"
      ],
      "text/plain": [
       "| 5651         | 1.1e+08 | 28.4481     | 1m 34s       |"
      ]
     },
     "metadata": {},
     "output_type": "display_data"
    },
    {
     "data": {
      "text/html": [
       "<pre>| 5704         | 1.1e+08 | 28.7149     | 1m 35s       |</pre>"
      ],
      "text/plain": [
       "| 5704         | 1.1e+08 | 28.7149     | 1m 35s       |"
      ]
     },
     "metadata": {},
     "output_type": "display_data"
    },
    {
     "data": {
      "text/html": [
       "<pre>| 5758         | 1.1e+08 | 28.9867     | 1m 36s       |</pre>"
      ],
      "text/plain": [
       "| 5758         | 1.1e+08 | 28.9867     | 1m 36s       |"
      ]
     },
     "metadata": {},
     "output_type": "display_data"
    },
    {
     "data": {
      "text/html": [
       "<pre>| 5821         | 1.2e+08 | 29.3013     | 1m 37s       |</pre>"
      ],
      "text/plain": [
       "| 5821         | 1.2e+08 | 29.3013     | 1m 37s       |"
      ]
     },
     "metadata": {},
     "output_type": "display_data"
    },
    {
     "data": {
      "text/html": [
       "<pre>| 5889         | 1.2e+08 | 29.6461     | 1m 38s       |</pre>"
      ],
      "text/plain": [
       "| 5889         | 1.2e+08 | 29.6461     | 1m 38s       |"
      ]
     },
     "metadata": {},
     "output_type": "display_data"
    },
    {
     "data": {
      "text/html": [
       "<pre>| 5956         | 1.2e+08 | 29.9809     | 1m 39s       |</pre>"
      ],
      "text/plain": [
       "| 5956         | 1.2e+08 | 29.9809     | 1m 39s       |"
      ]
     },
     "metadata": {},
     "output_type": "display_data"
    },
    {
     "data": {
      "text/html": [
       "<pre>| 6022         | 1.2e+08 | 30.3156     | 1m 40s       |</pre>"
      ],
      "text/plain": [
       "| 6022         | 1.2e+08 | 30.3156     | 1m 40s       |"
      ]
     },
     "metadata": {},
     "output_type": "display_data"
    },
    {
     "data": {
      "text/html": [
       "<pre>| 6088         | 1.2e+08 | 30.6478     | 1m 41s       |</pre>"
      ],
      "text/plain": [
       "| 6088         | 1.2e+08 | 30.6478     | 1m 41s       |"
      ]
     },
     "metadata": {},
     "output_type": "display_data"
    },
    {
     "data": {
      "text/html": [
       "<pre>| 6156         | 1.2e+08 | 30.9876     | 1m 42s       |</pre>"
      ],
      "text/plain": [
       "| 6156         | 1.2e+08 | 30.9876     | 1m 42s       |"
      ]
     },
     "metadata": {},
     "output_type": "display_data"
    },
    {
     "data": {
      "text/html": [
       "<pre>| 6219         | 1.2e+08 | 31.3073     | 1m 43s       |</pre>"
      ],
      "text/plain": [
       "| 6219         | 1.2e+08 | 31.3073     | 1m 43s       |"
      ]
     },
     "metadata": {},
     "output_type": "display_data"
    },
    {
     "data": {
      "text/html": [
       "<pre>| 6286         | 1.2e+08 | 31.6445     | 1m 44s       |</pre>"
      ],
      "text/plain": [
       "| 6286         | 1.2e+08 | 31.6445     | 1m 44s       |"
      ]
     },
     "metadata": {},
     "output_type": "display_data"
    },
    {
     "data": {
      "text/html": [
       "<pre>| 6353         | 1.3e+08 | 31.9793     | 1m 45s       |</pre>"
      ],
      "text/plain": [
       "| 6353         | 1.3e+08 | 31.9793     | 1m 45s       |"
      ]
     },
     "metadata": {},
     "output_type": "display_data"
    },
    {
     "data": {
      "text/html": [
       "<pre>| 6419         | 1.3e+08 | 32.3115     | 1m 46s       |</pre>"
      ],
      "text/plain": [
       "| 6419         | 1.3e+08 | 32.3115     | 1m 46s       |"
      ]
     },
     "metadata": {},
     "output_type": "display_data"
    },
    {
     "data": {
      "text/html": [
       "<pre>| 6480         | 1.3e+08 | 32.6185     | 1m 47s       |</pre>"
      ],
      "text/plain": [
       "| 6480         | 1.3e+08 | 32.6185     | 1m 47s       |"
      ]
     },
     "metadata": {},
     "output_type": "display_data"
    },
    {
     "data": {
      "text/html": [
       "<pre>| 6540         | 1.3e+08 | 32.9206     | 1m 48s       |</pre>"
      ],
      "text/plain": [
       "| 6540         | 1.3e+08 | 32.9206     | 1m 48s       |"
      ]
     },
     "metadata": {},
     "output_type": "display_data"
    },
    {
     "data": {
      "text/html": [
       "<pre>| 6607         | 1.3e+08 | 33.2578     | 1m 49s       |</pre>"
      ],
      "text/plain": [
       "| 6607         | 1.3e+08 | 33.2578     | 1m 49s       |"
      ]
     },
     "metadata": {},
     "output_type": "display_data"
    },
    {
     "data": {
      "text/html": [
       "<pre>| 6670         | 1.3e+08 | 33.5775     | 1m 50s       |</pre>"
      ],
      "text/plain": [
       "| 6670         | 1.3e+08 | 33.5775     | 1m 50s       |"
      ]
     },
     "metadata": {},
     "output_type": "display_data"
    },
    {
     "data": {
      "text/html": [
       "<pre>| 6732         | 1.3e+08 | 33.8896     | 1m 51s       |</pre>"
      ],
      "text/plain": [
       "| 6732         | 1.3e+08 | 33.8896     | 1m 51s       |"
      ]
     },
     "metadata": {},
     "output_type": "display_data"
    },
    {
     "data": {
      "text/html": [
       "<pre>| 6793         | 1.3e+08 | 34.1966     | 1m 52s       |</pre>"
      ],
      "text/plain": [
       "| 6793         | 1.3e+08 | 34.1966     | 1m 52s       |"
      ]
     },
     "metadata": {},
     "output_type": "display_data"
    },
    {
     "data": {
      "text/html": [
       "<pre>| 6854         | 1.4e+08 | 34.5037     | 1m 53s       |</pre>"
      ],
      "text/plain": [
       "| 6854         | 1.4e+08 | 34.5037     | 1m 53s       |"
      ]
     },
     "metadata": {},
     "output_type": "display_data"
    },
    {
     "data": {
      "text/html": [
       "<pre>| 6902         | 1.4e+08 | 34.7453     | 1m 54s       |</pre>"
      ],
      "text/plain": [
       "| 6902         | 1.4e+08 | 34.7453     | 1m 54s       |"
      ]
     },
     "metadata": {},
     "output_type": "display_data"
    },
    {
     "data": {
      "text/html": [
       "<pre>| 6965         | 1.4e+08 | 35.0599     | 1m 55s       |</pre>"
      ],
      "text/plain": [
       "| 6965         | 1.4e+08 | 35.0599     | 1m 55s       |"
      ]
     },
     "metadata": {},
     "output_type": "display_data"
    },
    {
     "data": {
      "text/html": [
       "<pre>| 7030         | 1.4e+08 | 35.3896     | 1m 56s       |</pre>"
      ],
      "text/plain": [
       "| 7030         | 1.4e+08 | 35.3896     | 1m 56s       |"
      ]
     },
     "metadata": {},
     "output_type": "display_data"
    },
    {
     "data": {
      "text/html": [
       "<pre>| 7096         | 1.4e+08 | 35.7218     | 1m 57s       |</pre>"
      ],
      "text/plain": [
       "| 7096         | 1.4e+08 | 35.7218     | 1m 57s       |"
      ]
     },
     "metadata": {},
     "output_type": "display_data"
    },
    {
     "data": {
      "text/html": [
       "<pre>| 7162         | 1.4e+08 | 36.0515     | 1m 58s       |</pre>"
      ],
      "text/plain": [
       "| 7162         | 1.4e+08 | 36.0515     | 1m 58s       |"
      ]
     },
     "metadata": {},
     "output_type": "display_data"
    },
    {
     "data": {
      "text/html": [
       "<pre>| 7220         | 1.4e+08 | 36.346      | 1m 59s       |</pre>"
      ],
      "text/plain": [
       "| 7220         | 1.4e+08 | 36.346      | 1m 59s       |"
      ]
     },
     "metadata": {},
     "output_type": "display_data"
    },
    {
     "data": {
      "text/html": [
       "<pre>| 7283         | 1.4e+08 | 36.6606     | 2m 0s        |</pre>"
      ],
      "text/plain": [
       "| 7283         | 1.4e+08 | 36.6606     | 2m 0s        |"
      ]
     },
     "metadata": {},
     "output_type": "display_data"
    },
    {
     "data": {
      "text/html": [
       "<pre>| 7349         | 1.5e+08 | 36.9954     | 2m 1s        |</pre>"
      ],
      "text/plain": [
       "| 7349         | 1.5e+08 | 36.9954     | 2m 1s        |"
      ]
     },
     "metadata": {},
     "output_type": "display_data"
    },
    {
     "data": {
      "text/html": [
       "<pre>| 7414         | 1.5e+08 | 37.3226     | 2m 2s        |</pre>"
      ],
      "text/plain": [
       "| 7414         | 1.5e+08 | 37.3226     | 2m 2s        |"
      ]
     },
     "metadata": {},
     "output_type": "display_data"
    },
    {
     "data": {
      "text/html": [
       "<pre>| 7482         | 1.5e+08 | 37.6623     | 2m 3s        |</pre>"
      ],
      "text/plain": [
       "| 7482         | 1.5e+08 | 37.6623     | 2m 3s        |"
      ]
     },
     "metadata": {},
     "output_type": "display_data"
    },
    {
     "data": {
      "text/html": [
       "<pre>| 7548         | 1.5e+08 | 37.9946     | 2m 4s        |</pre>"
      ],
      "text/plain": [
       "| 7548         | 1.5e+08 | 37.9946     | 2m 4s        |"
      ]
     },
     "metadata": {},
     "output_type": "display_data"
    },
    {
     "data": {
      "text/html": [
       "<pre>| 7612         | 1.5e+08 | 38.3192     | 2m 5s        |</pre>"
      ],
      "text/plain": [
       "| 7612         | 1.5e+08 | 38.3192     | 2m 5s        |"
      ]
     },
     "metadata": {},
     "output_type": "display_data"
    },
    {
     "data": {
      "text/html": [
       "<pre>| 7679         | 1.5e+08 | 38.6565     | 2m 6s        |</pre>"
      ],
      "text/plain": [
       "| 7679         | 1.5e+08 | 38.6565     | 2m 6s        |"
      ]
     },
     "metadata": {},
     "output_type": "display_data"
    },
    {
     "data": {
      "text/html": [
       "<pre>| 7747         | 1.5e+08 | 38.9963     | 2m 7s        |</pre>"
      ],
      "text/plain": [
       "| 7747         | 1.5e+08 | 38.9963     | 2m 7s        |"
      ]
     },
     "metadata": {},
     "output_type": "display_data"
    },
    {
     "data": {
      "text/html": [
       "<pre>| 7804         | 1.6e+08 | 39.2857     | 2m 8s        |</pre>"
      ],
      "text/plain": [
       "| 7804         | 1.6e+08 | 39.2857     | 2m 8s        |"
      ]
     },
     "metadata": {},
     "output_type": "display_data"
    },
    {
     "data": {
      "text/html": [
       "<pre>| 7869         | 1.6e+08 | 39.6129     | 2m 9s        |</pre>"
      ],
      "text/plain": [
       "| 7869         | 1.6e+08 | 39.6129     | 2m 9s        |"
      ]
     },
     "metadata": {},
     "output_type": "display_data"
    },
    {
     "data": {
      "text/html": [
       "<pre>| 7929         | 1.6e+08 | 39.9124     | 2m 10s       |</pre>"
      ],
      "text/plain": [
       "| 7929         | 1.6e+08 | 39.9124     | 2m 10s       |"
      ]
     },
     "metadata": {},
     "output_type": "display_data"
    },
    {
     "data": {
      "text/html": [
       "<pre>| 7986         | 1.6e+08 | 40.1993     | 2m 11s       |</pre>"
      ],
      "text/plain": [
       "| 7986         | 1.6e+08 | 40.1993     | 2m 11s       |"
      ]
     },
     "metadata": {},
     "output_type": "display_data"
    },
    {
     "data": {
      "text/html": [
       "<pre>| 8049         | 1.6e+08 | 40.5165     | 2m 12s       |</pre>"
      ],
      "text/plain": [
       "| 8049         | 1.6e+08 | 40.5165     | 2m 12s       |"
      ]
     },
     "metadata": {},
     "output_type": "display_data"
    },
    {
     "data": {
      "text/html": [
       "<pre>| 8111         | 1.6e+08 | 40.8311     | 2m 13s       |</pre>"
      ],
      "text/plain": [
       "| 8111         | 1.6e+08 | 40.8311     | 2m 13s       |"
      ]
     },
     "metadata": {},
     "output_type": "display_data"
    },
    {
     "data": {
      "text/html": [
       "<pre>| 8171         | 1.6e+08 | 41.1331     | 2m 14s       |</pre>"
      ],
      "text/plain": [
       "| 8171         | 1.6e+08 | 41.1331     | 2m 14s       |"
      ]
     },
     "metadata": {},
     "output_type": "display_data"
    },
    {
     "data": {
      "text/html": [
       "<pre>| 8232         | 1.6e+08 | 41.4401     | 2m 15s       |</pre>"
      ],
      "text/plain": [
       "| 8232         | 1.6e+08 | 41.4401     | 2m 15s       |"
      ]
     },
     "metadata": {},
     "output_type": "display_data"
    },
    {
     "data": {
      "text/html": [
       "<pre>| 8291         | 1.6e+08 | 41.7371     | 2m 16s       |</pre>"
      ],
      "text/plain": [
       "| 8291         | 1.6e+08 | 41.7371     | 2m 16s       |"
      ]
     },
     "metadata": {},
     "output_type": "display_data"
    },
    {
     "data": {
      "text/html": [
       "<pre>| 8351         | 1.7e+08 | 42.0392     | 2m 17s       |</pre>"
      ],
      "text/plain": [
       "| 8351         | 1.7e+08 | 42.0392     | 2m 17s       |"
      ]
     },
     "metadata": {},
     "output_type": "display_data"
    },
    {
     "data": {
      "text/html": [
       "<pre>| 8415         | 1.7e+08 | 42.3613     | 2m 18s       |</pre>"
      ],
      "text/plain": [
       "| 8415         | 1.7e+08 | 42.3613     | 2m 18s       |"
      ]
     },
     "metadata": {},
     "output_type": "display_data"
    },
    {
     "data": {
      "text/html": [
       "<pre>| 8474         | 1.7e+08 | 42.6558     | 2m 19s       |</pre>"
      ],
      "text/plain": [
       "| 8474         | 1.7e+08 | 42.6558     | 2m 19s       |"
      ]
     },
     "metadata": {},
     "output_type": "display_data"
    },
    {
     "data": {
      "text/html": [
       "<pre>| 8536         | 1.7e+08 | 42.9679     | 2m 20s       |</pre>"
      ],
      "text/plain": [
       "| 8536         | 1.7e+08 | 42.9679     | 2m 20s       |"
      ]
     },
     "metadata": {},
     "output_type": "display_data"
    },
    {
     "data": {
      "text/html": [
       "<pre>| 8595         | 1.7e+08 | 43.2674     | 2m 21s       |</pre>"
      ],
      "text/plain": [
       "| 8595         | 1.7e+08 | 43.2674     | 2m 21s       |"
      ]
     },
     "metadata": {},
     "output_type": "display_data"
    },
    {
     "data": {
      "text/html": [
       "<pre>| 8658         | 1.7e+08 | 43.5845     | 2m 22s       |</pre>"
      ],
      "text/plain": [
       "| 8658         | 1.7e+08 | 43.5845     | 2m 22s       |"
      ]
     },
     "metadata": {},
     "output_type": "display_data"
    },
    {
     "data": {
      "text/html": [
       "<pre>| 8720         | 1.7e+08 | 43.8941     | 2m 23s       |</pre>"
      ],
      "text/plain": [
       "| 8720         | 1.7e+08 | 43.8941     | 2m 23s       |"
      ]
     },
     "metadata": {},
     "output_type": "display_data"
    },
    {
     "data": {
      "text/html": [
       "<pre>| 8781         | 1.7e+08 | 44.2037     | 2m 24s       |</pre>"
      ],
      "text/plain": [
       "| 8781         | 1.7e+08 | 44.2037     | 2m 24s       |"
      ]
     },
     "metadata": {},
     "output_type": "display_data"
    },
    {
     "data": {
      "text/html": [
       "<pre>| 8849         | 1.8e+08 | 44.5434     | 2m 25s       |</pre>"
      ],
      "text/plain": [
       "| 8849         | 1.8e+08 | 44.5434     | 2m 25s       |"
      ]
     },
     "metadata": {},
     "output_type": "display_data"
    },
    {
     "data": {
      "text/html": [
       "<pre>| 8907         | 1.8e+08 | 44.8354     | 2m 26s       |</pre>"
      ],
      "text/plain": [
       "| 8907         | 1.8e+08 | 44.8354     | 2m 26s       |"
      ]
     },
     "metadata": {},
     "output_type": "display_data"
    },
    {
     "data": {
      "text/html": [
       "<pre>| 8968         | 1.8e+08 | 45.1425     | 2m 27s       |</pre>"
      ],
      "text/plain": [
       "| 8968         | 1.8e+08 | 45.1425     | 2m 27s       |"
      ]
     },
     "metadata": {},
     "output_type": "display_data"
    },
    {
     "data": {
      "text/html": [
       "<pre>| 9024         | 1.8e+08 | 45.4269     | 2m 28s       |</pre>"
      ],
      "text/plain": [
       "| 9024         | 1.8e+08 | 45.4269     | 2m 28s       |"
      ]
     },
     "metadata": {},
     "output_type": "display_data"
    },
    {
     "data": {
      "text/html": [
       "<pre>| 9081         | 1.8e+08 | 45.7113     | 2m 29s       |</pre>"
      ],
      "text/plain": [
       "| 9081         | 1.8e+08 | 45.7113     | 2m 29s       |"
      ]
     },
     "metadata": {},
     "output_type": "display_data"
    },
    {
     "data": {
      "text/html": [
       "<pre>| 9142         | 1.8e+08 | 46.0183     | 2m 30s       |</pre>"
      ],
      "text/plain": [
       "| 9142         | 1.8e+08 | 46.0183     | 2m 30s       |"
      ]
     },
     "metadata": {},
     "output_type": "display_data"
    },
    {
     "data": {
      "text/html": [
       "<pre>| 9199         | 1.8e+08 | 46.3052     | 2m 31s       |</pre>"
      ],
      "text/plain": [
       "| 9199         | 1.8e+08 | 46.3052     | 2m 31s       |"
      ]
     },
     "metadata": {},
     "output_type": "display_data"
    },
    {
     "data": {
      "text/html": [
       "<pre>| 9258         | 1.8e+08 | 46.6048     | 2m 32s       |</pre>"
      ],
      "text/plain": [
       "| 9258         | 1.8e+08 | 46.6048     | 2m 32s       |"
      ]
     },
     "metadata": {},
     "output_type": "display_data"
    },
    {
     "data": {
      "text/html": [
       "<pre>| 9317         | 1.9e+08 | 46.8992     | 2m 33s       |</pre>"
      ],
      "text/plain": [
       "| 9317         | 1.9e+08 | 46.8992     | 2m 33s       |"
      ]
     },
     "metadata": {},
     "output_type": "display_data"
    },
    {
     "data": {
      "text/html": [
       "<pre>| 9373         | 1.9e+08 | 47.1811     | 2m 34s       |</pre>"
      ],
      "text/plain": [
       "| 9373         | 1.9e+08 | 47.1811     | 2m 34s       |"
      ]
     },
     "metadata": {},
     "output_type": "display_data"
    },
    {
     "data": {
      "text/html": [
       "<pre>| 9427         | 1.9e+08 | 47.4555     | 2m 35s       |</pre>"
      ],
      "text/plain": [
       "| 9427         | 1.9e+08 | 47.4555     | 2m 35s       |"
      ]
     },
     "metadata": {},
     "output_type": "display_data"
    },
    {
     "data": {
      "text/html": [
       "<pre>| 9480         | 1.9e+08 | 47.7222     | 2m 36s       |</pre>"
      ],
      "text/plain": [
       "| 9480         | 1.9e+08 | 47.7222     | 2m 36s       |"
      ]
     },
     "metadata": {},
     "output_type": "display_data"
    },
    {
     "data": {
      "text/html": [
       "<pre>| 9548         | 1.9e+08 | 48.062      | 2m 37s       |</pre>"
      ],
      "text/plain": [
       "| 9548         | 1.9e+08 | 48.062      | 2m 37s       |"
      ]
     },
     "metadata": {},
     "output_type": "display_data"
    },
    {
     "data": {
      "text/html": [
       "<pre>| 9594         | 1.9e+08 | 48.2961     | 2m 38s       |</pre>"
      ],
      "text/plain": [
       "| 9594         | 1.9e+08 | 48.2961     | 2m 38s       |"
      ]
     },
     "metadata": {},
     "output_type": "display_data"
    },
    {
     "data": {
      "text/html": [
       "<pre>| 9652         | 1.9e+08 | 48.588      | 2m 39s       |</pre>"
      ],
      "text/plain": [
       "| 9652         | 1.9e+08 | 48.588      | 2m 39s       |"
      ]
     },
     "metadata": {},
     "output_type": "display_data"
    },
    {
     "data": {
      "text/html": [
       "<pre>| 9719         | 1.9e+08 | 48.9228     | 2m 40s       |</pre>"
      ],
      "text/plain": [
       "| 9719         | 1.9e+08 | 48.9228     | 2m 40s       |"
      ]
     },
     "metadata": {},
     "output_type": "display_data"
    },
    {
     "data": {
      "text/html": [
       "<pre>| 9785         | 1.9e+08 | 49.2575     | 2m 41s       |</pre>"
      ],
      "text/plain": [
       "| 9785         | 1.9e+08 | 49.2575     | 2m 41s       |"
      ]
     },
     "metadata": {},
     "output_type": "display_data"
    },
    {
     "data": {
      "text/html": [
       "<pre>| 9854         | 2e+08   | 49.6049     | 2m 42s       |</pre>"
      ],
      "text/plain": [
       "| 9854         | 2e+08   | 49.6049     | 2m 42s       |"
      ]
     },
     "metadata": {},
     "output_type": "display_data"
    },
    {
     "data": {
      "text/html": [
       "<pre>| 9916         | 2e+08   | 49.9169     | 2m 43s       |</pre>"
      ],
      "text/plain": [
       "| 9916         | 2e+08   | 49.9169     | 2m 43s       |"
      ]
     },
     "metadata": {},
     "output_type": "display_data"
    },
    {
     "data": {
      "text/html": [
       "<pre>| 9963         | 2e+08   | 50.1535     | 2m 44s       |</pre>"
      ],
      "text/plain": [
       "| 9963         | 2e+08   | 50.1535     | 2m 44s       |"
      ]
     },
     "metadata": {},
     "output_type": "display_data"
    },
    {
     "data": {
      "text/html": [
       "<pre>| 10027        | 2e+08   | 50.4732     | 2m 45s       |</pre>"
      ],
      "text/plain": [
       "| 10027        | 2e+08   | 50.4732     | 2m 45s       |"
      ]
     },
     "metadata": {},
     "output_type": "display_data"
    },
    {
     "data": {
      "text/html": [
       "<pre>| 10087        | 2e+08   | 50.7752     | 2m 46s       |</pre>"
      ],
      "text/plain": [
       "| 10087        | 2e+08   | 50.7752     | 2m 46s       |"
      ]
     },
     "metadata": {},
     "output_type": "display_data"
    },
    {
     "data": {
      "text/html": [
       "<pre>| 10146        | 2e+08   | 51.0747     | 2m 47s       |</pre>"
      ],
      "text/plain": [
       "| 10146        | 2e+08   | 51.0747     | 2m 47s       |"
      ]
     },
     "metadata": {},
     "output_type": "display_data"
    },
    {
     "data": {
      "text/html": [
       "<pre>| 10212        | 2e+08   | 51.4069     | 2m 48s       |</pre>"
      ],
      "text/plain": [
       "| 10212        | 2e+08   | 51.4069     | 2m 48s       |"
      ]
     },
     "metadata": {},
     "output_type": "display_data"
    },
    {
     "data": {
      "text/html": [
       "<pre>| 10277        | 2e+08   | 51.7316     | 2m 49s       |</pre>"
      ],
      "text/plain": [
       "| 10277        | 2e+08   | 51.7316     | 2m 49s       |"
      ]
     },
     "metadata": {},
     "output_type": "display_data"
    },
    {
     "data": {
      "text/html": [
       "<pre>| 10344        | 2.1e+08 | 52.0689     | 2m 50s       |</pre>"
      ],
      "text/plain": [
       "| 10344        | 2.1e+08 | 52.0689     | 2m 50s       |"
      ]
     },
     "metadata": {},
     "output_type": "display_data"
    },
    {
     "data": {
      "text/html": [
       "<pre>| 10404        | 2.1e+08 | 52.3709     | 2m 51s       |</pre>"
      ],
      "text/plain": [
       "| 10404        | 2.1e+08 | 52.3709     | 2m 51s       |"
      ]
     },
     "metadata": {},
     "output_type": "display_data"
    },
    {
     "data": {
      "text/html": [
       "<pre>| 10464        | 2.1e+08 | 52.6729     | 2m 52s       |</pre>"
      ],
      "text/plain": [
       "| 10464        | 2.1e+08 | 52.6729     | 2m 52s       |"
      ]
     },
     "metadata": {},
     "output_type": "display_data"
    },
    {
     "data": {
      "text/html": [
       "<pre>| 10532        | 2.1e+08 | 53.0152     | 2m 53s       |</pre>"
      ],
      "text/plain": [
       "| 10532        | 2.1e+08 | 53.0152     | 2m 53s       |"
      ]
     },
     "metadata": {},
     "output_type": "display_data"
    },
    {
     "data": {
      "text/html": [
       "<pre>| 10598        | 2.1e+08 | 53.3499     | 2m 54s       |</pre>"
      ],
      "text/plain": [
       "| 10598        | 2.1e+08 | 53.3499     | 2m 54s       |"
      ]
     },
     "metadata": {},
     "output_type": "display_data"
    },
    {
     "data": {
      "text/html": [
       "<pre>| 10666        | 2.1e+08 | 53.6897     | 2m 55s       |</pre>"
      ],
      "text/plain": [
       "| 10666        | 2.1e+08 | 53.6897     | 2m 55s       |"
      ]
     },
     "metadata": {},
     "output_type": "display_data"
    },
    {
     "data": {
      "text/html": [
       "<pre>| 10730        | 2.1e+08 | 54.0144     | 2m 56s       |</pre>"
      ],
      "text/plain": [
       "| 10730        | 2.1e+08 | 54.0144     | 2m 56s       |"
      ]
     },
     "metadata": {},
     "output_type": "display_data"
    },
    {
     "data": {
      "text/html": [
       "<pre>| 10797        | 2.1e+08 | 54.3491     | 2m 57s       |</pre>"
      ],
      "text/plain": [
       "| 10797        | 2.1e+08 | 54.3491     | 2m 57s       |"
      ]
     },
     "metadata": {},
     "output_type": "display_data"
    },
    {
     "data": {
      "text/html": [
       "<pre>| 10861        | 2.2e+08 | 54.6738     | 2m 58s       |</pre>"
      ],
      "text/plain": [
       "| 10861        | 2.2e+08 | 54.6738     | 2m 58s       |"
      ]
     },
     "metadata": {},
     "output_type": "display_data"
    },
    {
     "data": {
      "text/html": [
       "<pre>| 10929        | 2.2e+08 | 55.0136     | 2m 59s       |</pre>"
      ],
      "text/plain": [
       "| 10929        | 2.2e+08 | 55.0136     | 2m 59s       |"
      ]
     },
     "metadata": {},
     "output_type": "display_data"
    },
    {
     "data": {
      "text/html": [
       "<pre>| 10994        | 2.2e+08 | 55.3433     | 3m 0s        |</pre>"
      ],
      "text/plain": [
       "| 10994        | 2.2e+08 | 55.3433     | 3m 0s        |"
      ]
     },
     "metadata": {},
     "output_type": "display_data"
    },
    {
     "data": {
      "text/html": [
       "<pre>| 11059        | 2.2e+08 | 55.6705     | 3m 1s        |</pre>"
      ],
      "text/plain": [
       "| 11059        | 2.2e+08 | 55.6705     | 3m 1s        |"
      ]
     },
     "metadata": {},
     "output_type": "display_data"
    },
    {
     "data": {
      "text/html": [
       "<pre>| 11118        | 2.2e+08 | 55.965      | 3m 2s        |</pre>"
      ],
      "text/plain": [
       "| 11118        | 2.2e+08 | 55.965      | 3m 2s        |"
      ]
     },
     "metadata": {},
     "output_type": "display_data"
    },
    {
     "data": {
      "text/html": [
       "<pre>| 11173        | 2.2e+08 | 56.2443     | 3m 3s        |</pre>"
      ],
      "text/plain": [
       "| 11173        | 2.2e+08 | 56.2443     | 3m 3s        |"
      ]
     },
     "metadata": {},
     "output_type": "display_data"
    },
    {
     "data": {
      "text/html": [
       "<pre>| 11230        | 2.2e+08 | 56.5313     | 3m 4s        |</pre>"
      ],
      "text/plain": [
       "| 11230        | 2.2e+08 | 56.5313     | 3m 4s        |"
      ]
     },
     "metadata": {},
     "output_type": "display_data"
    },
    {
     "data": {
      "text/html": [
       "<pre>| 11294        | 2.2e+08 | 56.8534     | 3m 5s        |</pre>"
      ],
      "text/plain": [
       "| 11294        | 2.2e+08 | 56.8534     | 3m 5s        |"
      ]
     },
     "metadata": {},
     "output_type": "display_data"
    },
    {
     "data": {
      "text/html": [
       "<pre>| 11360        | 2.3e+08 | 57.1856     | 3m 6s        |</pre>"
      ],
      "text/plain": [
       "| 11360        | 2.3e+08 | 57.1856     | 3m 6s        |"
      ]
     },
     "metadata": {},
     "output_type": "display_data"
    },
    {
     "data": {
      "text/html": [
       "<pre>| 11415        | 2.3e+08 | 57.4625     | 3m 7s        |</pre>"
      ],
      "text/plain": [
       "| 11415        | 2.3e+08 | 57.4625     | 3m 7s        |"
      ]
     },
     "metadata": {},
     "output_type": "display_data"
    },
    {
     "data": {
      "text/html": [
       "<pre>| 11481        | 2.3e+08 | 57.7947     | 3m 8s        |</pre>"
      ],
      "text/plain": [
       "| 11481        | 2.3e+08 | 57.7947     | 3m 8s        |"
      ]
     },
     "metadata": {},
     "output_type": "display_data"
    },
    {
     "data": {
      "text/html": [
       "<pre>| 11538        | 2.3e+08 | 58.0791     | 3m 9s        |</pre>"
      ],
      "text/plain": [
       "| 11538        | 2.3e+08 | 58.0791     | 3m 9s        |"
      ]
     },
     "metadata": {},
     "output_type": "display_data"
    },
    {
     "data": {
      "text/html": [
       "<pre>| 11590        | 2.3e+08 | 58.3434     | 3m 10s       |</pre>"
      ],
      "text/plain": [
       "| 11590        | 2.3e+08 | 58.3434     | 3m 10s       |"
      ]
     },
     "metadata": {},
     "output_type": "display_data"
    },
    {
     "data": {
      "text/html": [
       "<pre>| 11626        | 2.3e+08 | 58.5221     | 3m 11s       |</pre>"
      ],
      "text/plain": [
       "| 11626        | 2.3e+08 | 58.5221     | 3m 11s       |"
      ]
     },
     "metadata": {},
     "output_type": "display_data"
    },
    {
     "data": {
      "text/html": [
       "<pre>| 11690        | 2.3e+08 | 58.8468     | 3m 12s       |</pre>"
      ],
      "text/plain": [
       "| 11690        | 2.3e+08 | 58.8468     | 3m 12s       |"
      ]
     },
     "metadata": {},
     "output_type": "display_data"
    },
    {
     "data": {
      "text/html": [
       "<pre>| 11745        | 2.3e+08 | 59.1211     | 3m 13s       |</pre>"
      ],
      "text/plain": [
       "| 11745        | 2.3e+08 | 59.1211     | 3m 13s       |"
      ]
     },
     "metadata": {},
     "output_type": "display_data"
    },
    {
     "data": {
      "text/html": [
       "<pre>| 11801        | 2.3e+08 | 59.4055     | 3m 14s       |</pre>"
      ],
      "text/plain": [
       "| 11801        | 2.3e+08 | 59.4055     | 3m 14s       |"
      ]
     },
     "metadata": {},
     "output_type": "display_data"
    },
    {
     "data": {
      "text/html": [
       "<pre>| 11856        | 2.4e+08 | 59.6799     | 3m 15s       |</pre>"
      ],
      "text/plain": [
       "| 11856        | 2.4e+08 | 59.6799     | 3m 15s       |"
      ]
     },
     "metadata": {},
     "output_type": "display_data"
    },
    {
     "data": {
      "text/html": [
       "<pre>| 11910        | 2.4e+08 | 59.9517     | 3m 16s       |</pre>"
      ],
      "text/plain": [
       "| 11910        | 2.4e+08 | 59.9517     | 3m 16s       |"
      ]
     },
     "metadata": {},
     "output_type": "display_data"
    },
    {
     "data": {
      "text/html": [
       "<pre>| 11969        | 2.4e+08 | 60.2487     | 3m 17s       |</pre>"
      ],
      "text/plain": [
       "| 11969        | 2.4e+08 | 60.2487     | 3m 17s       |"
      ]
     },
     "metadata": {},
     "output_type": "display_data"
    },
    {
     "data": {
      "text/html": [
       "<pre>| 12028        | 2.4e+08 | 60.5482     | 3m 18s       |</pre>"
      ],
      "text/plain": [
       "| 12028        | 2.4e+08 | 60.5482     | 3m 18s       |"
      ]
     },
     "metadata": {},
     "output_type": "display_data"
    },
    {
     "data": {
      "text/html": [
       "<pre>| 12082        |         | 60.8175     | 3m 19s       |</pre>"
      ],
      "text/plain": [
       "| 12082        |         | 60.8175     | 3m 19s       |"
      ]
     },
     "metadata": {},
     "output_type": "display_data"
    },
    {
     "data": {
      "text/html": [
       "<pre>| 12141        | 2.4e+08 | 61.1145     | 3m 20s       |</pre>"
      ],
      "text/plain": [
       "| 12141        | 2.4e+08 | 61.1145     | 3m 20s       |"
      ]
     },
     "metadata": {},
     "output_type": "display_data"
    },
    {
     "data": {
      "text/html": [
       "<pre>| 12208        | 2.4e+08 | 61.4517     | 3m 21s       |</pre>"
      ],
      "text/plain": [
       "| 12208        | 2.4e+08 | 61.4517     | 3m 21s       |"
      ]
     },
     "metadata": {},
     "output_type": "display_data"
    },
    {
     "data": {
      "text/html": [
       "<pre>| 12266        | 2.4e+08 | 61.7462     | 3m 22s       |</pre>"
      ],
      "text/plain": [
       "| 12266        | 2.4e+08 | 61.7462     | 3m 22s       |"
      ]
     },
     "metadata": {},
     "output_type": "display_data"
    },
    {
     "data": {
      "text/html": [
       "<pre>| 12326        | 2.4e+08 | 62.0482     | 3m 23s       |</pre>"
      ],
      "text/plain": [
       "| 12326        | 2.4e+08 | 62.0482     | 3m 23s       |"
      ]
     },
     "metadata": {},
     "output_type": "display_data"
    },
    {
     "data": {
      "text/html": [
       "<pre>| 12388        | 2.5e+08 | 62.3578     | 3m 24s       |</pre>"
      ],
      "text/plain": [
       "| 12388        | 2.5e+08 | 62.3578     | 3m 24s       |"
      ]
     },
     "metadata": {},
     "output_type": "display_data"
    },
    {
     "data": {
      "text/html": [
       "<pre>| 12448        | 2.5e+08 | 62.6623     | 3m 25s       |</pre>"
      ],
      "text/plain": [
       "| 12448        | 2.5e+08 | 62.6623     | 3m 25s       |"
      ]
     },
     "metadata": {},
     "output_type": "display_data"
    },
    {
     "data": {
      "text/html": [
       "<pre>| 12505        | 2.5e+08 | 62.9493     | 3m 26s       |</pre>"
      ],
      "text/plain": [
       "| 12505        | 2.5e+08 | 62.9493     | 3m 26s       |"
      ]
     },
     "metadata": {},
     "output_type": "display_data"
    },
    {
     "data": {
      "text/html": [
       "<pre>| 12566        | 2.5e+08 | 63.2563     | 3m 27s       |</pre>"
      ],
      "text/plain": [
       "| 12566        | 2.5e+08 | 63.2563     | 3m 27s       |"
      ]
     },
     "metadata": {},
     "output_type": "display_data"
    },
    {
     "data": {
      "text/html": [
       "<pre>| 12625        | 2.5e+08 | 63.5508     | 3m 28s       |</pre>"
      ],
      "text/plain": [
       "| 12625        | 2.5e+08 | 63.5508     | 3m 28s       |"
      ]
     },
     "metadata": {},
     "output_type": "display_data"
    },
    {
     "data": {
      "text/html": [
       "<pre>| 12679        | 2.5e+08 | 63.8226     | 3m 29s       |</pre>"
      ],
      "text/plain": [
       "| 12679        | 2.5e+08 | 63.8226     | 3m 29s       |"
      ]
     },
     "metadata": {},
     "output_type": "display_data"
    },
    {
     "data": {
      "text/html": [
       "<pre>| 12732        | 2.5e+08 | 64.0894     | 3m 30s       |</pre>"
      ],
      "text/plain": [
       "| 12732        | 2.5e+08 | 64.0894     | 3m 30s       |"
      ]
     },
     "metadata": {},
     "output_type": "display_data"
    },
    {
     "data": {
      "text/html": [
       "<pre>| 12788        | 2.5e+08 | 64.3738     | 3m 31s       |</pre>"
      ],
      "text/plain": [
       "| 12788        | 2.5e+08 | 64.3738     | 3m 31s       |"
      ]
     },
     "metadata": {},
     "output_type": "display_data"
    },
    {
     "data": {
      "text/html": [
       "<pre>| 12852        | 2.6e+08 | 64.6934     | 3m 32s       |</pre>"
      ],
      "text/plain": [
       "| 12852        | 2.6e+08 | 64.6934     | 3m 32s       |"
      ]
     },
     "metadata": {},
     "output_type": "display_data"
    },
    {
     "data": {
      "text/html": [
       "<pre>| 12919        | 2.6e+08 | 65.0332     | 3m 33s       |</pre>"
      ],
      "text/plain": [
       "| 12919        | 2.6e+08 | 65.0332     | 3m 33s       |"
      ]
     },
     "metadata": {},
     "output_type": "display_data"
    },
    {
     "data": {
      "text/html": [
       "<pre>| 12985        | 2.6e+08 | 65.3654     | 3m 34s       |</pre>"
      ],
      "text/plain": [
       "| 12985        | 2.6e+08 | 65.3654     | 3m 34s       |"
      ]
     },
     "metadata": {},
     "output_type": "display_data"
    },
    {
     "data": {
      "text/html": [
       "<pre>| 13051        | 2.6e+08 | 65.6952     | 3m 35s       |</pre>"
      ],
      "text/plain": [
       "| 13051        | 2.6e+08 | 65.6952     | 3m 35s       |"
      ]
     },
     "metadata": {},
     "output_type": "display_data"
    },
    {
     "data": {
      "text/html": [
       "<pre>| 13119        | 2.6e+08 | 66.0375     | 3m 36s       |</pre>"
      ],
      "text/plain": [
       "| 13119        | 2.6e+08 | 66.0375     | 3m 36s       |"
      ]
     },
     "metadata": {},
     "output_type": "display_data"
    },
    {
     "data": {
      "text/html": [
       "<pre>| 13186        | 2.6e+08 | 66.3747     | 3m 37s       |</pre>"
      ],
      "text/plain": [
       "| 13186        | 2.6e+08 | 66.3747     | 3m 37s       |"
      ]
     },
     "metadata": {},
     "output_type": "display_data"
    },
    {
     "data": {
      "text/html": [
       "<pre>| 13252        | 2.6e+08 | 66.7095     | 3m 38s       |</pre>"
      ],
      "text/plain": [
       "| 13252        | 2.6e+08 | 66.7095     | 3m 38s       |"
      ]
     },
     "metadata": {},
     "output_type": "display_data"
    },
    {
     "data": {
      "text/html": [
       "<pre>| 13320        | 2.6e+08 | 67.0517     | 3m 39s       |</pre>"
      ],
      "text/plain": [
       "| 13320        | 2.6e+08 | 67.0517     | 3m 39s       |"
      ]
     },
     "metadata": {},
     "output_type": "display_data"
    },
    {
     "data": {
      "text/html": [
       "<pre>| 13386        | 2.7e+08 | 67.3815     | 3m 40s       |</pre>"
      ],
      "text/plain": [
       "| 13386        | 2.7e+08 | 67.3815     | 3m 40s       |"
      ]
     },
     "metadata": {},
     "output_type": "display_data"
    },
    {
     "data": {
      "text/html": [
       "<pre>| 13452        | 2.7e+08 | 67.7162     | 3m 41s       |</pre>"
      ],
      "text/plain": [
       "| 13452        | 2.7e+08 | 67.7162     | 3m 41s       |"
      ]
     },
     "metadata": {},
     "output_type": "display_data"
    },
    {
     "data": {
      "text/html": [
       "<pre>| 13518        | 2.7e+08 | 68.0459     | 3m 42s       |</pre>"
      ],
      "text/plain": [
       "| 13518        | 2.7e+08 | 68.0459     | 3m 42s       |"
      ]
     },
     "metadata": {},
     "output_type": "display_data"
    },
    {
     "data": {
      "text/html": [
       "<pre>| 13586        | 2.7e+08 | 68.3907     | 3m 43s       |</pre>"
      ],
      "text/plain": [
       "| 13586        | 2.7e+08 | 68.3907     | 3m 43s       |"
      ]
     },
     "metadata": {},
     "output_type": "display_data"
    },
    {
     "data": {
      "text/html": [
       "<pre>| 13651        | 2.7e+08 | 68.7154     | 3m 44s       |</pre>"
      ],
      "text/plain": [
       "| 13651        | 2.7e+08 | 68.7154     | 3m 44s       |"
      ]
     },
     "metadata": {},
     "output_type": "display_data"
    },
    {
     "data": {
      "text/html": [
       "<pre>| 13718        | 2.7e+08 | 69.0527     | 3m 45s       |</pre>"
      ],
      "text/plain": [
       "| 13718        | 2.7e+08 | 69.0527     | 3m 45s       |"
      ]
     },
     "metadata": {},
     "output_type": "display_data"
    },
    {
     "data": {
      "text/html": [
       "<pre>| 13783        | 2.7e+08 | 69.3824     | 3m 46s       |</pre>"
      ],
      "text/plain": [
       "| 13783        | 2.7e+08 | 69.3824     | 3m 46s       |"
      ]
     },
     "metadata": {},
     "output_type": "display_data"
    },
    {
     "data": {
      "text/html": [
       "<pre>| 13850        | 2.8e+08 | 69.7171     | 3m 47s       |</pre>"
      ],
      "text/plain": [
       "| 13850        | 2.8e+08 | 69.7171     | 3m 47s       |"
      ]
     },
     "metadata": {},
     "output_type": "display_data"
    },
    {
     "data": {
      "text/html": [
       "<pre>| 13917        | 2.8e+08 | 70.0569     | 3m 48s       |</pre>"
      ],
      "text/plain": [
       "| 13917        | 2.8e+08 | 70.0569     | 3m 48s       |"
      ]
     },
     "metadata": {},
     "output_type": "display_data"
    },
    {
     "data": {
      "text/html": [
       "<pre>| 13986        | 2.8e+08 | 70.4017     | 3m 49s       |</pre>"
      ],
      "text/plain": [
       "| 13986        | 2.8e+08 | 70.4017     | 3m 49s       |"
      ]
     },
     "metadata": {},
     "output_type": "display_data"
    },
    {
     "data": {
      "text/html": [
       "<pre>| 14047        | 2.8e+08 | 70.7087     | 3m 50s       |</pre>"
      ],
      "text/plain": [
       "| 14047        | 2.8e+08 | 70.7087     | 3m 50s       |"
      ]
     },
     "metadata": {},
     "output_type": "display_data"
    },
    {
     "data": {
      "text/html": [
       "<pre>| 14106        | 2.8e+08 | 71.0083     | 3m 51s       |</pre>"
      ],
      "text/plain": [
       "| 14106        | 2.8e+08 | 71.0083     | 3m 51s       |"
      ]
     },
     "metadata": {},
     "output_type": "display_data"
    },
    {
     "data": {
      "text/html": [
       "<pre>| 14160        | 2.8e+08 | 71.2776     | 3m 52s       |</pre>"
      ],
      "text/plain": [
       "| 14160        | 2.8e+08 | 71.2776     | 3m 52s       |"
      ]
     },
     "metadata": {},
     "output_type": "display_data"
    },
    {
     "data": {
      "text/html": [
       "<pre>| 14221        | 2.8e+08 | 71.5871     | 3m 53s       |</pre>"
      ],
      "text/plain": [
       "| 14221        | 2.8e+08 | 71.5871     | 3m 53s       |"
      ]
     },
     "metadata": {},
     "output_type": "display_data"
    },
    {
     "data": {
      "text/html": [
       "<pre>| 14285        | 2.8e+08 | 71.9068     | 3m 54s       |</pre>"
      ],
      "text/plain": [
       "| 14285        | 2.8e+08 | 71.9068     | 3m 54s       |"
      ]
     },
     "metadata": {},
     "output_type": "display_data"
    },
    {
     "data": {
      "text/html": [
       "<pre>| 14349        | 2.9e+08 | 72.2315     | 3m 55s       |</pre>"
      ],
      "text/plain": [
       "| 14349        | 2.9e+08 | 72.2315     | 3m 55s       |"
      ]
     },
     "metadata": {},
     "output_type": "display_data"
    },
    {
     "data": {
      "text/html": [
       "<pre>| 14417        | 2.9e+08 | 72.5712     | 3m 56s       |</pre>"
      ],
      "text/plain": [
       "| 14417        | 2.9e+08 | 72.5712     | 3m 56s       |"
      ]
     },
     "metadata": {},
     "output_type": "display_data"
    },
    {
     "data": {
      "text/html": [
       "<pre>| 14475        | 2.9e+08 | 72.8632     | 3m 57s       |</pre>"
      ],
      "text/plain": [
       "| 14475        | 2.9e+08 | 72.8632     | 3m 57s       |"
      ]
     },
     "metadata": {},
     "output_type": "display_data"
    },
    {
     "data": {
      "text/html": [
       "<pre>| 14539        | 2.9e+08 | 73.1879     | 3m 58s       |</pre>"
      ],
      "text/plain": [
       "| 14539        | 2.9e+08 | 73.1879     | 3m 58s       |"
      ]
     },
     "metadata": {},
     "output_type": "display_data"
    },
    {
     "data": {
      "text/html": [
       "<pre>| 14604        | 2.9e+08 | 73.5151     | 3m 59s       |</pre>"
      ],
      "text/plain": [
       "| 14604        | 2.9e+08 | 73.5151     | 3m 59s       |"
      ]
     },
     "metadata": {},
     "output_type": "display_data"
    },
    {
     "data": {
      "text/html": [
       "<pre>| 14671        | 2.9e+08 | 73.8498     | 4m 0s        |</pre>"
      ],
      "text/plain": [
       "| 14671        | 2.9e+08 | 73.8498     | 4m 0s        |"
      ]
     },
     "metadata": {},
     "output_type": "display_data"
    },
    {
     "data": {
      "text/html": [
       "<pre>| 14737        | 2.9e+08 | 74.1845     | 4m 1s        |</pre>"
      ],
      "text/plain": [
       "| 14737        | 2.9e+08 | 74.1845     | 4m 1s        |"
      ]
     },
     "metadata": {},
     "output_type": "display_data"
    },
    {
     "data": {
      "text/html": [
       "<pre>| 14805        | 2.9e+08 | 74.5243     | 4m 2s        |</pre>"
      ],
      "text/plain": [
       "| 14805        | 2.9e+08 | 74.5243     | 4m 2s        |"
      ]
     },
     "metadata": {},
     "output_type": "display_data"
    },
    {
     "data": {
      "text/html": [
       "<pre>| 14865        | 3e+08   | 74.8289     | 4m 3s        |</pre>"
      ],
      "text/plain": [
       "| 14865        | 3e+08   | 74.8289     | 4m 3s        |"
      ]
     },
     "metadata": {},
     "output_type": "display_data"
    },
    {
     "data": {
      "text/html": [
       "<pre>| 14925        | 3e+08   | 75.1284     | 4m 4s        |</pre>"
      ],
      "text/plain": [
       "| 14925        | 3e+08   | 75.1284     | 4m 4s        |"
      ]
     },
     "metadata": {},
     "output_type": "display_data"
    },
    {
     "data": {
      "text/html": [
       "<pre>| 14978        | 3e+08   | 75.3951     | 4m 5s        |</pre>"
      ],
      "text/plain": [
       "| 14978        | 3e+08   | 75.3951     | 4m 5s        |"
      ]
     },
     "metadata": {},
     "output_type": "display_data"
    },
    {
     "data": {
      "text/html": [
       "<pre>| 15032        | 3e+08   | 75.667      | 4m 6s        |</pre>"
      ],
      "text/plain": [
       "| 15032        | 3e+08   | 75.667      | 4m 6s        |"
      ]
     },
     "metadata": {},
     "output_type": "display_data"
    },
    {
     "data": {
      "text/html": [
       "<pre>| 15090        | 3e+08   | 75.9614     | 4m 7s        |</pre>"
      ],
      "text/plain": [
       "| 15090        | 3e+08   | 75.9614     | 4m 7s        |"
      ]
     },
     "metadata": {},
     "output_type": "display_data"
    },
    {
     "data": {
      "text/html": [
       "<pre>| 15158        | 3e+08   | 76.3012     | 4m 8s        |</pre>"
      ],
      "text/plain": [
       "| 15158        | 3e+08   | 76.3012     | 4m 8s        |"
      ]
     },
     "metadata": {},
     "output_type": "display_data"
    },
    {
     "data": {
      "text/html": [
       "<pre>| 15223        | 3e+08   | 76.6309     | 4m 9s        |</pre>"
      ],
      "text/plain": [
       "| 15223        | 3e+08   | 76.6309     | 4m 9s        |"
      ]
     },
     "metadata": {},
     "output_type": "display_data"
    },
    {
     "data": {
      "text/html": [
       "<pre>| 15290        | 3e+08   | 76.9657     | 4m 10s       |</pre>"
      ],
      "text/plain": [
       "| 15290        | 3e+08   | 76.9657     | 4m 10s       |"
      ]
     },
     "metadata": {},
     "output_type": "display_data"
    },
    {
     "data": {
      "text/html": [
       "<pre>| 15357        | 3.1e+08 | 77.3029     | 4m 11s       |</pre>"
      ],
      "text/plain": [
       "| 15357        | 3.1e+08 | 77.3029     | 4m 11s       |"
      ]
     },
     "metadata": {},
     "output_type": "display_data"
    },
    {
     "data": {
      "text/html": [
       "<pre>| 15423        | 3.1e+08 | 77.6352     | 4m 12s       |</pre>"
      ],
      "text/plain": [
       "| 15423        | 3.1e+08 | 77.6352     | 4m 12s       |"
      ]
     },
     "metadata": {},
     "output_type": "display_data"
    },
    {
     "data": {
      "text/html": [
       "<pre>| 15487        | 3.1e+08 | 77.9573     | 4m 13s       |</pre>"
      ],
      "text/plain": [
       "| 15487        | 3.1e+08 | 77.9573     | 4m 13s       |"
      ]
     },
     "metadata": {},
     "output_type": "display_data"
    },
    {
     "data": {
      "text/html": [
       "<pre>| 15554        | 3.1e+08 | 78.2946     | 4m 15s       |</pre>"
      ],
      "text/plain": [
       "| 15554        | 3.1e+08 | 78.2946     | 4m 15s       |"
      ]
     },
     "metadata": {},
     "output_type": "display_data"
    },
    {
     "data": {
      "text/html": [
       "<pre>| 15621        | 3.1e+08 | 78.6344     | 4m 15s       |</pre>"
      ],
      "text/plain": [
       "| 15621        | 3.1e+08 | 78.6344     | 4m 15s       |"
      ]
     },
     "metadata": {},
     "output_type": "display_data"
    },
    {
     "data": {
      "text/html": [
       "<pre>| 15690        | 3.1e+08 | 78.9792     | 4m 17s       |</pre>"
      ],
      "text/plain": [
       "| 15690        | 3.1e+08 | 78.9792     | 4m 17s       |"
      ]
     },
     "metadata": {},
     "output_type": "display_data"
    },
    {
     "data": {
      "text/html": [
       "<pre>| 15755        | 3.1e+08 | 79.3064     | 4m 18s       |</pre>"
      ],
      "text/plain": [
       "| 15755        | 3.1e+08 | 79.3064     | 4m 18s       |"
      ]
     },
     "metadata": {},
     "output_type": "display_data"
    },
    {
     "data": {
      "text/html": [
       "<pre>| 15806        | 3.1e+08 | 79.5631     | 4m 19s       |</pre>"
      ],
      "text/plain": [
       "| 15806        | 3.1e+08 | 79.5631     | 4m 19s       |"
      ]
     },
     "metadata": {},
     "output_type": "display_data"
    },
    {
     "data": {
      "text/html": [
       "<pre>| 15846        | 3.1e+08 | 79.7669     | 4m 20s       |</pre>"
      ],
      "text/plain": [
       "| 15846        | 3.1e+08 | 79.7669     | 4m 20s       |"
      ]
     },
     "metadata": {},
     "output_type": "display_data"
    },
    {
     "data": {
      "text/html": [
       "<pre>| 15886        | 3.2e+08 | 79.9658     | 4m 21s       |</pre>"
      ],
      "text/plain": [
       "| 15886        | 3.2e+08 | 79.9658     | 4m 21s       |"
      ]
     },
     "metadata": {},
     "output_type": "display_data"
    },
    {
     "data": {
      "text/html": [
       "<pre>| 15927        | 3.2e+08 | 80.1722     | 4m 22s       |</pre>"
      ],
      "text/plain": [
       "| 15927        | 3.2e+08 | 80.1722     | 4m 22s       |"
      ]
     },
     "metadata": {},
     "output_type": "display_data"
    },
    {
     "data": {
      "text/html": [
       "<pre>| 15975        | 3.2e+08 | 80.4138     | 4m 23s       |</pre>"
      ],
      "text/plain": [
       "| 15975        | 3.2e+08 | 80.4138     | 4m 23s       |"
      ]
     },
     "metadata": {},
     "output_type": "display_data"
    },
    {
     "data": {
      "text/html": [
       "<pre>| 16029        | 3.2e+08 | 80.6881     | 4m 24s       |</pre>"
      ],
      "text/plain": [
       "| 16029        | 3.2e+08 | 80.6881     | 4m 24s       |"
      ]
     },
     "metadata": {},
     "output_type": "display_data"
    },
    {
     "data": {
      "text/html": [
       "<pre>| 16083        | 3.2e+08 | 80.9599     | 4m 25s       |</pre>"
      ],
      "text/plain": [
       "| 16083        | 3.2e+08 | 80.9599     | 4m 25s       |"
      ]
     },
     "metadata": {},
     "output_type": "display_data"
    },
    {
     "data": {
      "text/html": [
       "<pre>| 16137        | 3.2e+08 | 81.2318     | 4m 26s       |</pre>"
      ],
      "text/plain": [
       "| 16137        | 3.2e+08 | 81.2318     | 4m 26s       |"
      ]
     },
     "metadata": {},
     "output_type": "display_data"
    },
    {
     "data": {
      "text/html": [
       "<pre>| 16197        | 3.2e+08 | 81.5338     | 4m 27s       |</pre>"
      ],
      "text/plain": [
       "| 16197        | 3.2e+08 | 81.5338     | 4m 27s       |"
      ]
     },
     "metadata": {},
     "output_type": "display_data"
    },
    {
     "data": {
      "text/html": [
       "<pre>| 16260        | 3.2e+08 | 81.8484     | 4m 28s       |</pre>"
      ],
      "text/plain": [
       "| 16260        | 3.2e+08 | 81.8484     | 4m 28s       |"
      ]
     },
     "metadata": {},
     "output_type": "display_data"
    },
    {
     "data": {
      "text/html": [
       "<pre>| 16315        | 3.2e+08 | 82.1252     | 4m 29s       |</pre>"
      ],
      "text/plain": [
       "| 16315        | 3.2e+08 | 82.1252     | 4m 29s       |"
      ]
     },
     "metadata": {},
     "output_type": "display_data"
    },
    {
     "data": {
      "text/html": [
       "<pre>| 16380        | 3.3e+08 | 82.4524     | 4m 30s       |</pre>"
      ],
      "text/plain": [
       "| 16380        | 3.3e+08 | 82.4524     | 4m 30s       |"
      ]
     },
     "metadata": {},
     "output_type": "display_data"
    },
    {
     "data": {
      "text/html": [
       "<pre>| 16441        | 3.3e+08 | 82.7595     | 4m 31s       |</pre>"
      ],
      "text/plain": [
       "| 16441        | 3.3e+08 | 82.7595     | 4m 31s       |"
      ]
     },
     "metadata": {},
     "output_type": "display_data"
    },
    {
     "data": {
      "text/html": [
       "<pre>| 16493        | 3.3e+08 | 83.0212     | 4m 32s       |</pre>"
      ],
      "text/plain": [
       "| 16493        | 3.3e+08 | 83.0212     | 4m 32s       |"
      ]
     },
     "metadata": {},
     "output_type": "display_data"
    },
    {
     "data": {
      "text/html": [
       "<pre>| 16541        | 3.3e+08 | 83.2629     | 4m 33s       |</pre>"
      ],
      "text/plain": [
       "| 16541        | 3.3e+08 | 83.2629     | 4m 33s       |"
      ]
     },
     "metadata": {},
     "output_type": "display_data"
    },
    {
     "data": {
      "text/html": [
       "<pre>| 16585        | 3.3e+08 | 83.4843     | 4m 34s       |</pre>"
      ],
      "text/plain": [
       "| 16585        | 3.3e+08 | 83.4843     | 4m 34s       |"
      ]
     },
     "metadata": {},
     "output_type": "display_data"
    },
    {
     "data": {
      "text/html": [
       "<pre>| 16626        | 3.3e+08 | 83.6907     | 4m 35s       |</pre>"
      ],
      "text/plain": [
       "| 16626        | 3.3e+08 | 83.6907     | 4m 35s       |"
      ]
     },
     "metadata": {},
     "output_type": "display_data"
    },
    {
     "data": {
      "text/html": [
       "<pre>| 16676        | 3.3e+08 | 83.9424     | 4m 36s       |</pre>"
      ],
      "text/plain": [
       "| 16676        | 3.3e+08 | 83.9424     | 4m 36s       |"
      ]
     },
     "metadata": {},
     "output_type": "display_data"
    },
    {
     "data": {
      "text/html": [
       "<pre>| 16715        | 3.3e+08 | 84.1412     | 4m 37s       |</pre>"
      ],
      "text/plain": [
       "| 16715        | 3.3e+08 | 84.1412     | 4m 37s       |"
      ]
     },
     "metadata": {},
     "output_type": "display_data"
    },
    {
     "data": {
      "text/html": [
       "<pre>| 16779        | 3.3e+08 | 84.4609     | 4m 38s       |</pre>"
      ],
      "text/plain": [
       "| 16779        | 3.3e+08 | 84.4609     | 4m 38s       |"
      ]
     },
     "metadata": {},
     "output_type": "display_data"
    },
    {
     "data": {
      "text/html": [
       "<pre>| 16836        | 3.3e+08 | 84.7478     | 4m 39s       |</pre>"
      ],
      "text/plain": [
       "| 16836        | 3.3e+08 | 84.7478     | 4m 39s       |"
      ]
     },
     "metadata": {},
     "output_type": "display_data"
    },
    {
     "data": {
      "text/html": [
       "<pre>| 16876        | 3.4e+08 | 84.9517     | 4m 40s       |</pre>"
      ],
      "text/plain": [
       "| 16876        | 3.4e+08 | 84.9517     | 4m 40s       |"
      ]
     },
     "metadata": {},
     "output_type": "display_data"
    },
    {
     "data": {
      "text/html": [
       "<pre>| 16940        | 3.4e+08 | 85.2713     | 4m 41s       |</pre>"
      ],
      "text/plain": [
       "| 16940        | 3.4e+08 | 85.2713     | 4m 41s       |"
      ]
     },
     "metadata": {},
     "output_type": "display_data"
    },
    {
     "data": {
      "text/html": [
       "<pre>| 17007        | 3.4e+08 | 85.6111     | 4m 42s       |</pre>"
      ],
      "text/plain": [
       "| 17007        | 3.4e+08 | 85.6111     | 4m 42s       |"
      ]
     },
     "metadata": {},
     "output_type": "display_data"
    },
    {
     "data": {
      "text/html": [
       "<pre>| 17073        | 3.4e+08 | 85.9433     | 4m 43s       |</pre>"
      ],
      "text/plain": [
       "| 17073        | 3.4e+08 | 85.9433     | 4m 43s       |"
      ]
     },
     "metadata": {},
     "output_type": "display_data"
    },
    {
     "data": {
      "text/html": [
       "<pre>| 17139        | 3.4e+08 | 86.2755     | 4m 44s       |</pre>"
      ],
      "text/plain": [
       "| 17139        | 3.4e+08 | 86.2755     | 4m 44s       |"
      ]
     },
     "metadata": {},
     "output_type": "display_data"
    },
    {
     "data": {
      "text/html": [
       "<pre>| 17207        | 3.4e+08 | 86.6153     | 4m 45s       |</pre>"
      ],
      "text/plain": [
       "| 17207        | 3.4e+08 | 86.6153     | 4m 45s       |"
      ]
     },
     "metadata": {},
     "output_type": "display_data"
    },
    {
     "data": {
      "text/html": [
       "<pre>| 17275        | 3.4e+08 | 86.9576     | 4m 46s       |</pre>"
      ],
      "text/plain": [
       "| 17275        | 3.4e+08 | 86.9576     | 4m 46s       |"
      ]
     },
     "metadata": {},
     "output_type": "display_data"
    },
    {
     "data": {
      "text/html": [
       "<pre>| 17341        | 3.4e+08 | 87.2924     | 4m 47s       |</pre>"
      ],
      "text/plain": [
       "| 17341        | 3.4e+08 | 87.2924     | 4m 47s       |"
      ]
     },
     "metadata": {},
     "output_type": "display_data"
    },
    {
     "data": {
      "text/html": [
       "<pre>| 17407        | 3.5e+08 | 87.6246     | 4m 48s       |</pre>"
      ],
      "text/plain": [
       "| 17407        | 3.5e+08 | 87.6246     | 4m 48s       |"
      ]
     },
     "metadata": {},
     "output_type": "display_data"
    },
    {
     "data": {
      "text/html": [
       "<pre>| 17473        | 3.5e+08 | 87.9568     | 4m 49s       |</pre>"
      ],
      "text/plain": [
       "| 17473        | 3.5e+08 | 87.9568     | 4m 49s       |"
      ]
     },
     "metadata": {},
     "output_type": "display_data"
    },
    {
     "data": {
      "text/html": [
       "<pre>| 17539        | 3.5e+08 | 88.289      | 4m 50s       |</pre>"
      ],
      "text/plain": [
       "| 17539        | 3.5e+08 | 88.289      | 4m 50s       |"
      ]
     },
     "metadata": {},
     "output_type": "display_data"
    },
    {
     "data": {
      "text/html": [
       "<pre>| 17607        | 3.5e+08 | 88.6288     | 4m 51s       |</pre>"
      ],
      "text/plain": [
       "| 17607        | 3.5e+08 | 88.6288     | 4m 51s       |"
      ]
     },
     "metadata": {},
     "output_type": "display_data"
    },
    {
     "data": {
      "text/html": [
       "<pre>| 17673        | 3.5e+08 | 88.9636     | 4m 52s       |</pre>"
      ],
      "text/plain": [
       "| 17673        | 3.5e+08 | 88.9636     | 4m 52s       |"
      ]
     },
     "metadata": {},
     "output_type": "display_data"
    },
    {
     "data": {
      "text/html": [
       "<pre>| 17739        | 3.5e+08 | 89.2933     | 4m 53s       |</pre>"
      ],
      "text/plain": [
       "| 17739        | 3.5e+08 | 89.2933     | 4m 53s       |"
      ]
     },
     "metadata": {},
     "output_type": "display_data"
    },
    {
     "data": {
      "text/html": [
       "<pre>| 17805        | 3.5e+08 | 89.6255     | 4m 54s       |</pre>"
      ],
      "text/plain": [
       "| 17805        | 3.5e+08 | 89.6255     | 4m 54s       |"
      ]
     },
     "metadata": {},
     "output_type": "display_data"
    },
    {
     "data": {
      "text/html": [
       "<pre>| 17869        | 3.5e+08 | 89.9502     | 4m 55s       |</pre>"
      ],
      "text/plain": [
       "| 17869        | 3.5e+08 | 89.9502     | 4m 55s       |"
      ]
     },
     "metadata": {},
     "output_type": "display_data"
    },
    {
     "data": {
      "text/html": [
       "<pre>| 17919        | 3.6e+08 | 90.1993     | 4m 56s       |</pre>"
      ],
      "text/plain": [
       "| 17919        | 3.6e+08 | 90.1993     | 4m 56s       |"
      ]
     },
     "metadata": {},
     "output_type": "display_data"
    },
    {
     "data": {
      "text/html": [
       "<pre>| 17971        | 3.6e+08 | 90.4611     | 4m 57s       |</pre>"
      ],
      "text/plain": [
       "| 17971        | 3.6e+08 | 90.4611     | 4m 57s       |"
      ]
     },
     "metadata": {},
     "output_type": "display_data"
    },
    {
     "data": {
      "text/html": [
       "<pre>| 18018        | 3.6e+08 | 90.6977     | 4m 58s       |</pre>"
      ],
      "text/plain": [
       "| 18018        | 3.6e+08 | 90.6977     | 4m 58s       |"
      ]
     },
     "metadata": {},
     "output_type": "display_data"
    },
    {
     "data": {
      "text/html": [
       "<pre>| 18059        | 3.6e+08 | 90.9041     | 4m 59s       |</pre>"
      ],
      "text/plain": [
       "| 18059        | 3.6e+08 | 90.9041     | 4m 59s       |"
      ]
     },
     "metadata": {},
     "output_type": "display_data"
    },
    {
     "data": {
      "text/html": [
       "<pre>| 18102        | 3.6e+08 | 91.123      | 5m 0s        |</pre>"
      ],
      "text/plain": [
       "| 18102        | 3.6e+08 | 91.123      | 5m 0s        |"
      ]
     },
     "metadata": {},
     "output_type": "display_data"
    },
    {
     "data": {
      "text/html": [
       "<pre>| 18144        | 3.6e+08 | 91.3344     | 5m 1s        |</pre>"
      ],
      "text/plain": [
       "| 18144        | 3.6e+08 | 91.3344     | 5m 1s        |"
      ]
     },
     "metadata": {},
     "output_type": "display_data"
    },
    {
     "data": {
      "text/html": [
       "<pre>| 18205        | 3.6e+08 | 91.639      | 5m 2s        |</pre>"
      ],
      "text/plain": [
       "| 18205        | 3.6e+08 | 91.639      | 5m 2s        |"
      ]
     },
     "metadata": {},
     "output_type": "display_data"
    },
    {
     "data": {
      "text/html": [
       "<pre>| 18252        | 3.6e+08 | 91.8781     | 5m 3s        |</pre>"
      ],
      "text/plain": [
       "| 18252        | 3.6e+08 | 91.8781     | 5m 3s        |"
      ]
     },
     "metadata": {},
     "output_type": "display_data"
    },
    {
     "data": {
      "text/html": [
       "<pre>| 18301        | 3.6e+08 | 92.1247     | 5m 4s        |</pre>"
      ],
      "text/plain": [
       "| 18301        | 3.6e+08 | 92.1247     | 5m 4s        |"
      ]
     },
     "metadata": {},
     "output_type": "display_data"
    },
    {
     "data": {
      "text/html": [
       "<pre>| 18356        | 3.6e+08 | 92.4016     | 5m 5s        |</pre>"
      ],
      "text/plain": [
       "| 18356        | 3.6e+08 | 92.4016     | 5m 5s        |"
      ]
     },
     "metadata": {},
     "output_type": "display_data"
    },
    {
     "data": {
      "text/html": [
       "<pre>| 18409        | 3.7e+08 | 92.6659     | 5m 6s        |</pre>"
      ],
      "text/plain": [
       "| 18409        | 3.7e+08 | 92.6659     | 5m 6s        |"
      ]
     },
     "metadata": {},
     "output_type": "display_data"
    },
    {
     "data": {
      "text/html": [
       "<pre>| 18455        | 3.7e+08 | 92.8974     | 5m 7s        |</pre>"
      ],
      "text/plain": [
       "| 18455        | 3.7e+08 | 92.8974     | 5m 7s        |"
      ]
     },
     "metadata": {},
     "output_type": "display_data"
    },
    {
     "data": {
      "text/html": [
       "<pre>| 18510        | 3.7e+08 | 93.1768     | 5m 8s        |</pre>"
      ],
      "text/plain": [
       "| 18510        | 3.7e+08 | 93.1768     | 5m 8s        |"
      ]
     },
     "metadata": {},
     "output_type": "display_data"
    },
    {
     "data": {
      "text/html": [
       "<pre>| 18559        | 3.7e+08 | 93.4234     | 5m 9s        |</pre>"
      ],
      "text/plain": [
       "| 18559        | 3.7e+08 | 93.4234     | 5m 9s        |"
      ]
     },
     "metadata": {},
     "output_type": "display_data"
    },
    {
     "data": {
      "text/html": [
       "<pre>| 18611        | 3.7e+08 | 93.6852     | 5m 10s       |</pre>"
      ],
      "text/plain": [
       "| 18611        | 3.7e+08 | 93.6852     | 5m 10s       |"
      ]
     },
     "metadata": {},
     "output_type": "display_data"
    },
    {
     "data": {
      "text/html": [
       "<pre>| 18655        | 3.7e+08 | 93.9042     | 5m 11s       |</pre>"
      ],
      "text/plain": [
       "| 18655        | 3.7e+08 | 93.9042     | 5m 11s       |"
      ]
     },
     "metadata": {},
     "output_type": "display_data"
    },
    {
     "data": {
      "text/html": [
       "<pre>| 18693        | 3.7e+08 | 94.0954     | 5m 12s       |</pre>"
      ],
      "text/plain": [
       "| 18693        | 3.7e+08 | 94.0954     | 5m 12s       |"
      ]
     },
     "metadata": {},
     "output_type": "display_data"
    },
    {
     "data": {
      "text/html": [
       "<pre>| 18733        | 3.7e+08 | 94.2968     | 5m 13s       |</pre>"
      ],
      "text/plain": [
       "| 18733        | 3.7e+08 | 94.2968     | 5m 13s       |"
      ]
     },
     "metadata": {},
     "output_type": "display_data"
    },
    {
     "data": {
      "text/html": [
       "<pre>| 18782        | 3.7e+08 | 94.5434     | 5m 14s       |</pre>"
      ],
      "text/plain": [
       "| 18782        | 3.7e+08 | 94.5434     | 5m 14s       |"
      ]
     },
     "metadata": {},
     "output_type": "display_data"
    },
    {
     "data": {
      "text/html": [
       "<pre>| 18822        | 3.7e+08 | 94.7448     | 5m 15s       |</pre>"
      ],
      "text/plain": [
       "| 18822        | 3.7e+08 | 94.7448     | 5m 15s       |"
      ]
     },
     "metadata": {},
     "output_type": "display_data"
    },
    {
     "data": {
      "text/html": [
       "<pre>| 18868        | 3.7e+08 | 94.9763     | 5m 16s       |</pre>"
      ],
      "text/plain": [
       "| 18868        | 3.7e+08 | 94.9763     | 5m 16s       |"
      ]
     },
     "metadata": {},
     "output_type": "display_data"
    },
    {
     "data": {
      "text/html": [
       "<pre>| 18917        | 3.8e+08 | 95.223      | 5m 17s       |</pre>"
      ],
      "text/plain": [
       "| 18917        | 3.8e+08 | 95.223      | 5m 17s       |"
      ]
     },
     "metadata": {},
     "output_type": "display_data"
    },
    {
     "data": {
      "text/html": [
       "<pre>| 18965        | 3.8e+08 | 95.4671     | 5m 18s       |</pre>"
      ],
      "text/plain": [
       "| 18965        | 3.8e+08 | 95.4671     | 5m 18s       |"
      ]
     },
     "metadata": {},
     "output_type": "display_data"
    },
    {
     "data": {
      "text/html": [
       "<pre>| 19009        | 3.8e+08 | 95.6886     | 5m 19s       |</pre>"
      ],
      "text/plain": [
       "| 19009        | 3.8e+08 | 95.6886     | 5m 19s       |"
      ]
     },
     "metadata": {},
     "output_type": "display_data"
    },
    {
     "data": {
      "text/html": [
       "<pre>| 19053        | 3.8e+08 | 95.9076     | 5m 20s       |</pre>"
      ],
      "text/plain": [
       "| 19053        | 3.8e+08 | 95.9076     | 5m 20s       |"
      ]
     },
     "metadata": {},
     "output_type": "display_data"
    },
    {
     "data": {
      "text/html": [
       "<pre>| 19089        | 3.8e+08 | 96.0888     | 5m 21s       |</pre>"
      ],
      "text/plain": [
       "| 19089        | 3.8e+08 | 96.0888     | 5m 21s       |"
      ]
     },
     "metadata": {},
     "output_type": "display_data"
    },
    {
     "data": {
      "text/html": [
       "<pre>| 19147        | 3.8e+08 | 96.3833     | 5m 22s       |</pre>"
      ],
      "text/plain": [
       "| 19147        | 3.8e+08 | 96.3833     | 5m 22s       |"
      ]
     },
     "metadata": {},
     "output_type": "display_data"
    },
    {
     "data": {
      "text/html": [
       "<pre>| 19193        | 3.8e+08 | 96.6148     | 5m 23s       |</pre>"
      ],
      "text/plain": [
       "| 19193        | 3.8e+08 | 96.6148     | 5m 23s       |"
      ]
     },
     "metadata": {},
     "output_type": "display_data"
    },
    {
     "data": {
      "text/html": [
       "<pre>| 19243        | 3.8e+08 | 96.864      | 5m 24s       |</pre>"
      ],
      "text/plain": [
       "| 19243        | 3.8e+08 | 96.864      | 5m 24s       |"
      ]
     },
     "metadata": {},
     "output_type": "display_data"
    },
    {
     "data": {
      "text/html": [
       "<pre>| 19295        | 3.8e+08 | 97.1283     | 5m 25s       |</pre>"
      ],
      "text/plain": [
       "| 19295        | 3.8e+08 | 97.1283     | 5m 25s       |"
      ]
     },
     "metadata": {},
     "output_type": "display_data"
    },
    {
     "data": {
      "text/html": [
       "<pre>| 19345        | 3.8e+08 | 97.3774     | 5m 26s       |</pre>"
      ],
      "text/plain": [
       "| 19345        | 3.8e+08 | 97.3774     | 5m 26s       |"
      ]
     },
     "metadata": {},
     "output_type": "display_data"
    },
    {
     "data": {
      "text/html": [
       "<pre>| 19400        | 3.9e+08 | 97.6568     | 5m 27s       |</pre>"
      ],
      "text/plain": [
       "| 19400        | 3.9e+08 | 97.6568     | 5m 27s       |"
      ]
     },
     "metadata": {},
     "output_type": "display_data"
    },
    {
     "data": {
      "text/html": [
       "<pre>| 19461        | 3.9e+08 | 97.9639     | 5m 28s       |</pre>"
      ],
      "text/plain": [
       "| 19461        | 3.9e+08 | 97.9639     | 5m 28s       |"
      ]
     },
     "metadata": {},
     "output_type": "display_data"
    },
    {
     "data": {
      "text/html": [
       "<pre>| 19505        | 3.9e+08 | 98.1853     | 5m 29s       |</pre>"
      ],
      "text/plain": [
       "| 19505        | 3.9e+08 | 98.1853     | 5m 29s       |"
      ]
     },
     "metadata": {},
     "output_type": "display_data"
    },
    {
     "data": {
      "text/html": [
       "<pre>| 19557        | 3.9e+08 | 98.4446     | 5m 30s       |</pre>"
      ],
      "text/plain": [
       "| 19557        | 3.9e+08 | 98.4446     | 5m 30s       |"
      ]
     },
     "metadata": {},
     "output_type": "display_data"
    },
    {
     "data": {
      "text/html": [
       "<pre>| 19609        | 3.9e+08 | 98.7088     | 5m 31s       |</pre>"
      ],
      "text/plain": [
       "| 19609        | 3.9e+08 | 98.7088     | 5m 31s       |"
      ]
     },
     "metadata": {},
     "output_type": "display_data"
    },
    {
     "data": {
      "text/html": [
       "<pre>| 19659        | 3.9e+08 | 98.9605     | 5m 32s       |</pre>"
      ],
      "text/plain": [
       "| 19659        | 3.9e+08 | 98.9605     | 5m 32s       |"
      ]
     },
     "metadata": {},
     "output_type": "display_data"
    },
    {
     "data": {
      "text/html": [
       "<pre>| 19711        | 3.9e+08 | 99.2223     | 5m 33s       |</pre>"
      ],
      "text/plain": [
       "| 19711        | 3.9e+08 | 99.2223     | 5m 33s       |"
      ]
     },
     "metadata": {},
     "output_type": "display_data"
    },
    {
     "data": {
      "text/html": [
       "<pre>| 19752        | 3.9e+08 | 99.4287     | 5m 34s       |</pre>"
      ],
      "text/plain": [
       "| 19752        | 3.9e+08 | 99.4287     | 5m 34s       |"
      ]
     },
     "metadata": {},
     "output_type": "display_data"
    },
    {
     "data": {
      "text/html": [
       "<pre>| 19806        | 3.9e+08 | 99.7005     | 5m 35s       |</pre>"
      ],
      "text/plain": [
       "| 19806        | 3.9e+08 | 99.7005     | 5m 35s       |"
      ]
     },
     "metadata": {},
     "output_type": "display_data"
    },
    {
     "data": {
      "text/html": [
       "<pre>| 19859        | 3.9e+08 | 99.9648     | 5m 36s       |</pre>"
      ],
      "text/plain": [
       "| 19859        | 3.9e+08 | 99.9648     | 5m 36s       |"
      ]
     },
     "metadata": {},
     "output_type": "display_data"
    },
    {
     "data": {
      "text/html": [
       "<pre>| Done         |         | 100         | 5m 36s       |</pre>"
      ],
      "text/plain": [
       "| Done         |         | 100         | 5m 36s       |"
      ]
     },
     "metadata": {},
     "output_type": "display_data"
    },
    {
     "data": {
      "text/html": [
       "<pre>+--------------+---------+-------------+--------------+</pre>"
      ],
      "text/plain": [
       "+--------------+---------+-------------+--------------+"
      ]
     },
     "metadata": {},
     "output_type": "display_data"
    },
    {
     "data": {
      "text/html": [
       "<pre>Preparing data set.</pre>"
      ],
      "text/plain": [
       "Preparing data set."
      ]
     },
     "metadata": {},
     "output_type": "display_data"
    },
    {
     "data": {
      "text/html": [
       "<pre>    Data has 0 observations with 0 users and 19619 items.</pre>"
      ],
      "text/plain": [
       "    Data has 0 observations with 0 users and 19619 items."
      ]
     },
     "metadata": {},
     "output_type": "display_data"
    },
    {
     "data": {
      "text/html": [
       "<pre>    Data prepared in: 1.81126s</pre>"
      ],
      "text/plain": [
       "    Data prepared in: 1.81126s"
      ]
     },
     "metadata": {},
     "output_type": "display_data"
    },
    {
     "data": {
      "text/html": [
       "<pre>Loading user-provided nearest items.</pre>"
      ],
      "text/plain": [
       "Loading user-provided nearest items."
      ]
     },
     "metadata": {},
     "output_type": "display_data"
    },
    {
     "data": {
      "text/html": [
       "<pre>Generating candidate set for working with new users.</pre>"
      ],
      "text/plain": [
       "Generating candidate set for working with new users."
      ]
     },
     "metadata": {},
     "output_type": "display_data"
    },
    {
     "data": {
      "text/html": [
       "<pre>Finished training in 0.087441s</pre>"
      ],
      "text/plain": [
       "Finished training in 0.087441s"
      ]
     },
     "metadata": {},
     "output_type": "display_data"
    }
   ],
   "source": [
    "recommender = graphlab.recommender.item_content_recommender.create(sf, item_id='url')"
   ]
  },
  {
   "cell_type": "code",
   "execution_count": 395,
   "metadata": {},
   "outputs": [],
   "source": [
    "def get_similar(df, url, recommender):\n",
    "    top_5_similar = recommender.get_similar_items([url], k=20)['similar']\n",
    "    return df[(df['score'] > 7) & \n",
    "               (df['url'].isin(top_5_similar))][['artist','title', 'score', 'url', 'danceability rounded',\n",
    "                                                'valence rounded', 'energy rounded', 'acousticness rounded', \n",
    "                                               'pub_year', 'spotify_match']].head(10)"
   ]
  },
  {
   "cell_type": "code",
   "execution_count": null,
   "metadata": {},
   "outputs": [],
   "source": []
  },
  {
   "cell_type": "code",
   "execution_count": 398,
   "metadata": {
    "scrolled": false
   },
   "outputs": [
    {
     "data": {
      "text/html": [
       "<div>\n",
       "<style>\n",
       "    .dataframe thead tr:only-child th {\n",
       "        text-align: right;\n",
       "    }\n",
       "\n",
       "    .dataframe thead th {\n",
       "        text-align: left;\n",
       "    }\n",
       "\n",
       "    .dataframe tbody tr th {\n",
       "        vertical-align: top;\n",
       "    }\n",
       "</style>\n",
       "<table border=\"1\" class=\"dataframe\">\n",
       "  <thead>\n",
       "    <tr style=\"text-align: right;\">\n",
       "      <th></th>\n",
       "      <th>artist</th>\n",
       "      <th>title</th>\n",
       "      <th>score</th>\n",
       "      <th>url</th>\n",
       "      <th>danceability rounded</th>\n",
       "      <th>valence rounded</th>\n",
       "      <th>energy rounded</th>\n",
       "      <th>acousticness rounded</th>\n",
       "      <th>pub_year</th>\n",
       "      <th>spotify_match</th>\n",
       "    </tr>\n",
       "  </thead>\n",
       "  <tbody>\n",
       "    <tr>\n",
       "      <th>5287</th>\n",
       "      <td>earl sweatshirt</td>\n",
       "      <td>doris</td>\n",
       "      <td>8.3</td>\n",
       "      <td>https://pitchfork.com/reviews/albums/18380-earl-sweatshirt-doris/</td>\n",
       "      <td>5.5</td>\n",
       "      <td>4.7</td>\n",
       "      <td>6.6</td>\n",
       "      <td>1.8</td>\n",
       "      <td>2013</td>\n",
       "      <td>1</td>\n",
       "    </tr>\n",
       "    <tr>\n",
       "      <th>5497</th>\n",
       "      <td>kanye west</td>\n",
       "      <td>yeezus</td>\n",
       "      <td>9.5</td>\n",
       "      <td>https://pitchfork.com/reviews/albums/18172-kanye-west-yeezus/</td>\n",
       "      <td>5.6</td>\n",
       "      <td>3.5</td>\n",
       "      <td>5.9</td>\n",
       "      <td>1.7</td>\n",
       "      <td>2013</td>\n",
       "      <td>1</td>\n",
       "    </tr>\n",
       "    <tr>\n",
       "      <th>6249</th>\n",
       "      <td>meek mill</td>\n",
       "      <td>dreams and nightmares</td>\n",
       "      <td>7.4</td>\n",
       "      <td>https://pitchfork.com/reviews/albums/17315-dreams-and-nightmares/</td>\n",
       "      <td>5.3</td>\n",
       "      <td>3.9</td>\n",
       "      <td>7.7</td>\n",
       "      <td>1.2</td>\n",
       "      <td>2012</td>\n",
       "      <td>1</td>\n",
       "    </tr>\n",
       "    <tr>\n",
       "      <th>6282</th>\n",
       "      <td>kendrick lamar</td>\n",
       "      <td>good kid, m.a.a.d city</td>\n",
       "      <td>9.5</td>\n",
       "      <td>https://pitchfork.com/reviews/albums/17253-good-kid-maad-city/</td>\n",
       "      <td>5.8</td>\n",
       "      <td>3.2</td>\n",
       "      <td>6.6</td>\n",
       "      <td>1.2</td>\n",
       "      <td>2012</td>\n",
       "      <td>1</td>\n",
       "    </tr>\n",
       "    <tr>\n",
       "      <th>6548</th>\n",
       "      <td>troy ave</td>\n",
       "      <td>bricks in my backpack 3</td>\n",
       "      <td>7.5</td>\n",
       "      <td>https://pitchfork.com/reviews/albums/16932-bricks-in-my-backpack-3/</td>\n",
       "      <td>5.5</td>\n",
       "      <td>4.6</td>\n",
       "      <td>7.4</td>\n",
       "      <td>2.1</td>\n",
       "      <td>2012</td>\n",
       "      <td>1</td>\n",
       "    </tr>\n",
       "    <tr>\n",
       "      <th>8001</th>\n",
       "      <td>tyler, the creator</td>\n",
       "      <td>goblin</td>\n",
       "      <td>8.0</td>\n",
       "      <td>https://pitchfork.com/reviews/albums/15413-goblin/</td>\n",
       "      <td>5.7</td>\n",
       "      <td>3.8</td>\n",
       "      <td>5.8</td>\n",
       "      <td>1.3</td>\n",
       "      <td>2011</td>\n",
       "      <td>1</td>\n",
       "    </tr>\n",
       "    <tr>\n",
       "      <th>8991</th>\n",
       "      <td>kelis</td>\n",
       "      <td>flesh tone</td>\n",
       "      <td>7.2</td>\n",
       "      <td>https://pitchfork.com/reviews/albums/14439-flesh-tone/</td>\n",
       "      <td>5.4</td>\n",
       "      <td>3.6</td>\n",
       "      <td>6.7</td>\n",
       "      <td>2.0</td>\n",
       "      <td>2010</td>\n",
       "      <td>1</td>\n",
       "    </tr>\n",
       "    <tr>\n",
       "      <th>9071</th>\n",
       "      <td>drake</td>\n",
       "      <td>thank me later</td>\n",
       "      <td>8.4</td>\n",
       "      <td>https://pitchfork.com/reviews/albums/14367-thank-me-later/</td>\n",
       "      <td>5.4</td>\n",
       "      <td>4.7</td>\n",
       "      <td>7.5</td>\n",
       "      <td>2.0</td>\n",
       "      <td>2010</td>\n",
       "      <td>1</td>\n",
       "    </tr>\n",
       "    <tr>\n",
       "      <th>10132</th>\n",
       "      <td>willie isz</td>\n",
       "      <td>georgiavania</td>\n",
       "      <td>7.7</td>\n",
       "      <td>https://pitchfork.com/reviews/albums/13275-georgiavania/</td>\n",
       "      <td>5.3</td>\n",
       "      <td>4.0</td>\n",
       "      <td>6.4</td>\n",
       "      <td>0.9</td>\n",
       "      <td>2009</td>\n",
       "      <td>1</td>\n",
       "    </tr>\n",
       "    <tr>\n",
       "      <th>10212</th>\n",
       "      <td>drake</td>\n",
       "      <td>so far gone</td>\n",
       "      <td>7.4</td>\n",
       "      <td>https://pitchfork.com/reviews/albums/13238-so-far-gone/</td>\n",
       "      <td>5.9</td>\n",
       "      <td>3.8</td>\n",
       "      <td>6.8</td>\n",
       "      <td>2.7</td>\n",
       "      <td>2009</td>\n",
       "      <td>1</td>\n",
       "    </tr>\n",
       "  </tbody>\n",
       "</table>\n",
       "</div>"
      ],
      "text/plain": [
       "                   artist                    title  score  \\\n",
       "5287      earl sweatshirt                    doris    8.3   \n",
       "5497           kanye west                   yeezus    9.5   \n",
       "6249            meek mill    dreams and nightmares    7.4   \n",
       "6282       kendrick lamar   good kid, m.a.a.d city    9.5   \n",
       "6548             troy ave  bricks in my backpack 3    7.5   \n",
       "8001   tyler, the creator                   goblin    8.0   \n",
       "8991                kelis               flesh tone    7.2   \n",
       "9071                drake           thank me later    8.4   \n",
       "10132          willie isz             georgiavania    7.7   \n",
       "10212               drake              so far gone    7.4   \n",
       "\n",
       "                                                                       url  \\\n",
       "5287     https://pitchfork.com/reviews/albums/18380-earl-sweatshirt-doris/   \n",
       "5497         https://pitchfork.com/reviews/albums/18172-kanye-west-yeezus/   \n",
       "6249     https://pitchfork.com/reviews/albums/17315-dreams-and-nightmares/   \n",
       "6282        https://pitchfork.com/reviews/albums/17253-good-kid-maad-city/   \n",
       "6548   https://pitchfork.com/reviews/albums/16932-bricks-in-my-backpack-3/   \n",
       "8001                    https://pitchfork.com/reviews/albums/15413-goblin/   \n",
       "8991                https://pitchfork.com/reviews/albums/14439-flesh-tone/   \n",
       "9071            https://pitchfork.com/reviews/albums/14367-thank-me-later/   \n",
       "10132             https://pitchfork.com/reviews/albums/13275-georgiavania/   \n",
       "10212              https://pitchfork.com/reviews/albums/13238-so-far-gone/   \n",
       "\n",
       "       danceability rounded  valence rounded  energy rounded  \\\n",
       "5287                    5.5              4.7             6.6   \n",
       "5497                    5.6              3.5             5.9   \n",
       "6249                    5.3              3.9             7.7   \n",
       "6282                    5.8              3.2             6.6   \n",
       "6548                    5.5              4.6             7.4   \n",
       "8001                    5.7              3.8             5.8   \n",
       "8991                    5.4              3.6             6.7   \n",
       "9071                    5.4              4.7             7.5   \n",
       "10132                   5.3              4.0             6.4   \n",
       "10212                   5.9              3.8             6.8   \n",
       "\n",
       "       acousticness rounded  pub_year  spotify_match  \n",
       "5287                    1.8      2013              1  \n",
       "5497                    1.7      2013              1  \n",
       "6249                    1.2      2012              1  \n",
       "6282                    1.2      2012              1  \n",
       "6548                    2.1      2012              1  \n",
       "8001                    1.3      2011              1  \n",
       "8991                    2.0      2010              1  \n",
       "9071                    2.0      2010              1  \n",
       "10132                   0.9      2009              1  \n",
       "10212                   2.7      2009              1  "
      ]
     },
     "execution_count": 398,
     "metadata": {},
     "output_type": "execute_result"
    }
   ],
   "source": [
    "get_similar(df_merged, 'https://pitchfork.com/reviews/albums/14880-my-beautiful-dark-twisted-fantasy/', recommender)"
   ]
  },
  {
   "cell_type": "code",
   "execution_count": 399,
   "metadata": {},
   "outputs": [
    {
     "data": {
      "text/html": [
       "<div>\n",
       "<style>\n",
       "    .dataframe thead tr:only-child th {\n",
       "        text-align: right;\n",
       "    }\n",
       "\n",
       "    .dataframe thead th {\n",
       "        text-align: left;\n",
       "    }\n",
       "\n",
       "    .dataframe tbody tr th {\n",
       "        vertical-align: top;\n",
       "    }\n",
       "</style>\n",
       "<table border=\"1\" class=\"dataframe\">\n",
       "  <thead>\n",
       "    <tr style=\"text-align: right;\">\n",
       "      <th></th>\n",
       "      <th>artist</th>\n",
       "      <th>title</th>\n",
       "      <th>score</th>\n",
       "      <th>url</th>\n",
       "      <th>danceability rounded</th>\n",
       "      <th>valence rounded</th>\n",
       "      <th>energy rounded</th>\n",
       "      <th>acousticness rounded</th>\n",
       "      <th>pub_year</th>\n",
       "      <th>spotify_match</th>\n",
       "    </tr>\n",
       "  </thead>\n",
       "  <tbody>\n",
       "    <tr>\n",
       "      <th>2708</th>\n",
       "      <td>g herbo</td>\n",
       "      <td>ballin like im kobe</td>\n",
       "      <td>7.2</td>\n",
       "      <td>https://pitchfork.com/reviews/albums/21153-ballin-like-im-kobe/</td>\n",
       "      <td>5.8</td>\n",
       "      <td>3.5</td>\n",
       "      <td>6.6</td>\n",
       "      <td>1.2</td>\n",
       "      <td>2015</td>\n",
       "      <td>1</td>\n",
       "    </tr>\n",
       "    <tr>\n",
       "      <th>3070</th>\n",
       "      <td>meek mill</td>\n",
       "      <td>dreams worth more than money</td>\n",
       "      <td>7.4</td>\n",
       "      <td>https://pitchfork.com/reviews/albums/20778-dreams-worth-more-than-money/</td>\n",
       "      <td>6.3</td>\n",
       "      <td>3.5</td>\n",
       "      <td>6.5</td>\n",
       "      <td>1.4</td>\n",
       "      <td>2015</td>\n",
       "      <td>1</td>\n",
       "    </tr>\n",
       "    <tr>\n",
       "      <th>3191</th>\n",
       "      <td>a$ap rocky</td>\n",
       "      <td>at.long.last.a$ap</td>\n",
       "      <td>7.8</td>\n",
       "      <td>https://pitchfork.com/reviews/albums/20661-atlonglastaap/</td>\n",
       "      <td>6.0</td>\n",
       "      <td>2.9</td>\n",
       "      <td>6.0</td>\n",
       "      <td>1.9</td>\n",
       "      <td>2015</td>\n",
       "      <td>1</td>\n",
       "    </tr>\n",
       "    <tr>\n",
       "      <th>3837</th>\n",
       "      <td>run the jewels</td>\n",
       "      <td>run the jewels 2</td>\n",
       "      <td>9.0</td>\n",
       "      <td>https://pitchfork.com/reviews/albums/19968-run-the-jewels-run-the-jewels-2/</td>\n",
       "      <td>6.2</td>\n",
       "      <td>3.3</td>\n",
       "      <td>6.4</td>\n",
       "      <td>1.0</td>\n",
       "      <td>2014</td>\n",
       "      <td>1</td>\n",
       "    </tr>\n",
       "    <tr>\n",
       "      <th>3962</th>\n",
       "      <td>freeway, the jacka</td>\n",
       "      <td>highway robbery</td>\n",
       "      <td>7.9</td>\n",
       "      <td>https://pitchfork.com/reviews/albums/19743-freeway-the-jacka-highway-robbery/</td>\n",
       "      <td>6.0</td>\n",
       "      <td>4.0</td>\n",
       "      <td>6.5</td>\n",
       "      <td>0.7</td>\n",
       "      <td>2014</td>\n",
       "      <td>1</td>\n",
       "    </tr>\n",
       "    <tr>\n",
       "      <th>5101</th>\n",
       "      <td>pusha t</td>\n",
       "      <td>my name is my name</td>\n",
       "      <td>8.0</td>\n",
       "      <td>https://pitchfork.com/reviews/albums/18277-pusha-t-my-name-is-my-name/</td>\n",
       "      <td>5.8</td>\n",
       "      <td>4.3</td>\n",
       "      <td>6.9</td>\n",
       "      <td>1.1</td>\n",
       "      <td>2013</td>\n",
       "      <td>1</td>\n",
       "    </tr>\n",
       "    <tr>\n",
       "      <th>5164</th>\n",
       "      <td>drake</td>\n",
       "      <td>nothing was the same</td>\n",
       "      <td>8.6</td>\n",
       "      <td>https://pitchfork.com/reviews/albums/18511-drake-nothing-was-the-same/</td>\n",
       "      <td>6.6</td>\n",
       "      <td>3.3</td>\n",
       "      <td>5.7</td>\n",
       "      <td>1.5</td>\n",
       "      <td>2013</td>\n",
       "      <td>1</td>\n",
       "    </tr>\n",
       "    <tr>\n",
       "      <th>5497</th>\n",
       "      <td>kanye west</td>\n",
       "      <td>yeezus</td>\n",
       "      <td>9.5</td>\n",
       "      <td>https://pitchfork.com/reviews/albums/18172-kanye-west-yeezus/</td>\n",
       "      <td>5.6</td>\n",
       "      <td>3.5</td>\n",
       "      <td>5.9</td>\n",
       "      <td>1.7</td>\n",
       "      <td>2013</td>\n",
       "      <td>1</td>\n",
       "    </tr>\n",
       "    <tr>\n",
       "      <th>6871</th>\n",
       "      <td>future</td>\n",
       "      <td>pluto</td>\n",
       "      <td>7.8</td>\n",
       "      <td>https://pitchfork.com/reviews/albums/16554-pluto/</td>\n",
       "      <td>6.3</td>\n",
       "      <td>4.0</td>\n",
       "      <td>6.5</td>\n",
       "      <td>0.8</td>\n",
       "      <td>2012</td>\n",
       "      <td>1</td>\n",
       "    </tr>\n",
       "    <tr>\n",
       "      <th>7398</th>\n",
       "      <td>nacho picasso</td>\n",
       "      <td>for the glory</td>\n",
       "      <td>7.9</td>\n",
       "      <td>https://pitchfork.com/reviews/albums/15976-for-the-glory/</td>\n",
       "      <td>6.6</td>\n",
       "      <td>3.3</td>\n",
       "      <td>5.9</td>\n",
       "      <td>1.6</td>\n",
       "      <td>2011</td>\n",
       "      <td>1</td>\n",
       "    </tr>\n",
       "  </tbody>\n",
       "</table>\n",
       "</div>"
      ],
      "text/plain": [
       "                  artist                         title  score  \\\n",
       "2708             g herbo           ballin like im kobe    7.2   \n",
       "3070           meek mill  dreams worth more than money    7.4   \n",
       "3191          a$ap rocky             at.long.last.a$ap    7.8   \n",
       "3837      run the jewels              run the jewels 2    9.0   \n",
       "3962  freeway, the jacka               highway robbery    7.9   \n",
       "5101             pusha t            my name is my name    8.0   \n",
       "5164               drake          nothing was the same    8.6   \n",
       "5497          kanye west                        yeezus    9.5   \n",
       "6871              future                         pluto    7.8   \n",
       "7398       nacho picasso                 for the glory    7.9   \n",
       "\n",
       "                                                                                url  \\\n",
       "2708                https://pitchfork.com/reviews/albums/21153-ballin-like-im-kobe/   \n",
       "3070       https://pitchfork.com/reviews/albums/20778-dreams-worth-more-than-money/   \n",
       "3191                      https://pitchfork.com/reviews/albums/20661-atlonglastaap/   \n",
       "3837    https://pitchfork.com/reviews/albums/19968-run-the-jewels-run-the-jewels-2/   \n",
       "3962  https://pitchfork.com/reviews/albums/19743-freeway-the-jacka-highway-robbery/   \n",
       "5101         https://pitchfork.com/reviews/albums/18277-pusha-t-my-name-is-my-name/   \n",
       "5164         https://pitchfork.com/reviews/albums/18511-drake-nothing-was-the-same/   \n",
       "5497                  https://pitchfork.com/reviews/albums/18172-kanye-west-yeezus/   \n",
       "6871                              https://pitchfork.com/reviews/albums/16554-pluto/   \n",
       "7398                      https://pitchfork.com/reviews/albums/15976-for-the-glory/   \n",
       "\n",
       "      danceability rounded  valence rounded  energy rounded  \\\n",
       "2708                   5.8              3.5             6.6   \n",
       "3070                   6.3              3.5             6.5   \n",
       "3191                   6.0              2.9             6.0   \n",
       "3837                   6.2              3.3             6.4   \n",
       "3962                   6.0              4.0             6.5   \n",
       "5101                   5.8              4.3             6.9   \n",
       "5164                   6.6              3.3             5.7   \n",
       "5497                   5.6              3.5             5.9   \n",
       "6871                   6.3              4.0             6.5   \n",
       "7398                   6.6              3.3             5.9   \n",
       "\n",
       "      acousticness rounded  pub_year  spotify_match  \n",
       "2708                   1.2      2015              1  \n",
       "3070                   1.4      2015              1  \n",
       "3191                   1.9      2015              1  \n",
       "3837                   1.0      2014              1  \n",
       "3962                   0.7      2014              1  \n",
       "5101                   1.1      2013              1  \n",
       "5164                   1.5      2013              1  \n",
       "5497                   1.7      2013              1  \n",
       "6871                   0.8      2012              1  \n",
       "7398                   1.6      2011              1  "
      ]
     },
     "execution_count": 399,
     "metadata": {},
     "output_type": "execute_result"
    }
   ],
   "source": [
    "get_similar(df_merged, 'https://pitchfork.com/reviews/albums/17253-good-kid-maad-city/', recommender)"
   ]
  },
  {
   "cell_type": "code",
   "execution_count": 400,
   "metadata": {},
   "outputs": [
    {
     "data": {
      "text/html": [
       "<div>\n",
       "<style>\n",
       "    .dataframe thead tr:only-child th {\n",
       "        text-align: right;\n",
       "    }\n",
       "\n",
       "    .dataframe thead th {\n",
       "        text-align: left;\n",
       "    }\n",
       "\n",
       "    .dataframe tbody tr th {\n",
       "        vertical-align: top;\n",
       "    }\n",
       "</style>\n",
       "<table border=\"1\" class=\"dataframe\">\n",
       "  <thead>\n",
       "    <tr style=\"text-align: right;\">\n",
       "      <th></th>\n",
       "      <th>artist</th>\n",
       "      <th>title</th>\n",
       "      <th>score</th>\n",
       "      <th>url</th>\n",
       "      <th>danceability rounded</th>\n",
       "      <th>valence rounded</th>\n",
       "      <th>energy rounded</th>\n",
       "      <th>acousticness rounded</th>\n",
       "      <th>pub_year</th>\n",
       "      <th>spotify_match</th>\n",
       "    </tr>\n",
       "  </thead>\n",
       "  <tbody>\n",
       "    <tr>\n",
       "      <th>1237</th>\n",
       "      <td>g herbo</td>\n",
       "      <td>strictly 4 my fans</td>\n",
       "      <td>7.5</td>\n",
       "      <td>https://pitchfork.com/reviews/albums/22758-strictly-4-my-fans/</td>\n",
       "      <td>6.1</td>\n",
       "      <td>3.5</td>\n",
       "      <td>6.6</td>\n",
       "      <td>0.9</td>\n",
       "      <td>2017</td>\n",
       "      <td>1</td>\n",
       "    </tr>\n",
       "    <tr>\n",
       "      <th>1965</th>\n",
       "      <td>vic mensa</td>\n",
       "      <td>theres alot going on</td>\n",
       "      <td>7.5</td>\n",
       "      <td>https://pitchfork.com/reviews/albums/21998-theres-alot-going-on/</td>\n",
       "      <td>6.5</td>\n",
       "      <td>3.4</td>\n",
       "      <td>6.5</td>\n",
       "      <td>1.7</td>\n",
       "      <td>2016</td>\n",
       "      <td>1</td>\n",
       "    </tr>\n",
       "    <tr>\n",
       "      <th>2708</th>\n",
       "      <td>g herbo</td>\n",
       "      <td>ballin like im kobe</td>\n",
       "      <td>7.2</td>\n",
       "      <td>https://pitchfork.com/reviews/albums/21153-ballin-like-im-kobe/</td>\n",
       "      <td>5.8</td>\n",
       "      <td>3.5</td>\n",
       "      <td>6.6</td>\n",
       "      <td>1.2</td>\n",
       "      <td>2015</td>\n",
       "      <td>1</td>\n",
       "    </tr>\n",
       "    <tr>\n",
       "      <th>3070</th>\n",
       "      <td>meek mill</td>\n",
       "      <td>dreams worth more than money</td>\n",
       "      <td>7.4</td>\n",
       "      <td>https://pitchfork.com/reviews/albums/20778-dreams-worth-more-than-money/</td>\n",
       "      <td>6.3</td>\n",
       "      <td>3.5</td>\n",
       "      <td>6.5</td>\n",
       "      <td>1.4</td>\n",
       "      <td>2015</td>\n",
       "      <td>1</td>\n",
       "    </tr>\n",
       "    <tr>\n",
       "      <th>3139</th>\n",
       "      <td>boosie badazz</td>\n",
       "      <td>touch down 2 cause hell</td>\n",
       "      <td>7.4</td>\n",
       "      <td>https://pitchfork.com/reviews/albums/20670-touch-down-2-cause-hell/</td>\n",
       "      <td>6.4</td>\n",
       "      <td>3.9</td>\n",
       "      <td>7.1</td>\n",
       "      <td>1.2</td>\n",
       "      <td>2015</td>\n",
       "      <td>1</td>\n",
       "    </tr>\n",
       "    <tr>\n",
       "      <th>3191</th>\n",
       "      <td>a$ap rocky</td>\n",
       "      <td>at.long.last.a$ap</td>\n",
       "      <td>7.8</td>\n",
       "      <td>https://pitchfork.com/reviews/albums/20661-atlonglastaap/</td>\n",
       "      <td>6.0</td>\n",
       "      <td>2.9</td>\n",
       "      <td>6.0</td>\n",
       "      <td>1.9</td>\n",
       "      <td>2015</td>\n",
       "      <td>1</td>\n",
       "    </tr>\n",
       "    <tr>\n",
       "      <th>3962</th>\n",
       "      <td>freeway, the jacka</td>\n",
       "      <td>highway robbery</td>\n",
       "      <td>7.9</td>\n",
       "      <td>https://pitchfork.com/reviews/albums/19743-freeway-the-jacka-highway-robbery/</td>\n",
       "      <td>6.0</td>\n",
       "      <td>4.0</td>\n",
       "      <td>6.5</td>\n",
       "      <td>0.7</td>\n",
       "      <td>2014</td>\n",
       "      <td>1</td>\n",
       "    </tr>\n",
       "    <tr>\n",
       "      <th>5164</th>\n",
       "      <td>drake</td>\n",
       "      <td>nothing was the same</td>\n",
       "      <td>8.6</td>\n",
       "      <td>https://pitchfork.com/reviews/albums/18511-drake-nothing-was-the-same/</td>\n",
       "      <td>6.6</td>\n",
       "      <td>3.3</td>\n",
       "      <td>5.7</td>\n",
       "      <td>1.5</td>\n",
       "      <td>2013</td>\n",
       "      <td>1</td>\n",
       "    </tr>\n",
       "    <tr>\n",
       "      <th>5451</th>\n",
       "      <td>run the jewels</td>\n",
       "      <td>run the jewels</td>\n",
       "      <td>8.5</td>\n",
       "      <td>https://pitchfork.com/reviews/albums/18219-run-the-jewels-run-the-jewels/</td>\n",
       "      <td>6.8</td>\n",
       "      <td>3.4</td>\n",
       "      <td>7.5</td>\n",
       "      <td>0.9</td>\n",
       "      <td>2013</td>\n",
       "      <td>1</td>\n",
       "    </tr>\n",
       "    <tr>\n",
       "      <th>5497</th>\n",
       "      <td>kanye west</td>\n",
       "      <td>yeezus</td>\n",
       "      <td>9.5</td>\n",
       "      <td>https://pitchfork.com/reviews/albums/18172-kanye-west-yeezus/</td>\n",
       "      <td>5.6</td>\n",
       "      <td>3.5</td>\n",
       "      <td>5.9</td>\n",
       "      <td>1.7</td>\n",
       "      <td>2013</td>\n",
       "      <td>1</td>\n",
       "    </tr>\n",
       "  </tbody>\n",
       "</table>\n",
       "</div>"
      ],
      "text/plain": [
       "                  artist                         title  score  \\\n",
       "1237             g herbo            strictly 4 my fans    7.5   \n",
       "1965           vic mensa          theres alot going on    7.5   \n",
       "2708             g herbo           ballin like im kobe    7.2   \n",
       "3070           meek mill  dreams worth more than money    7.4   \n",
       "3139       boosie badazz       touch down 2 cause hell    7.4   \n",
       "3191          a$ap rocky             at.long.last.a$ap    7.8   \n",
       "3962  freeway, the jacka               highway robbery    7.9   \n",
       "5164               drake          nothing was the same    8.6   \n",
       "5451      run the jewels                run the jewels    8.5   \n",
       "5497          kanye west                        yeezus    9.5   \n",
       "\n",
       "                                                                                url  \\\n",
       "1237                 https://pitchfork.com/reviews/albums/22758-strictly-4-my-fans/   \n",
       "1965               https://pitchfork.com/reviews/albums/21998-theres-alot-going-on/   \n",
       "2708                https://pitchfork.com/reviews/albums/21153-ballin-like-im-kobe/   \n",
       "3070       https://pitchfork.com/reviews/albums/20778-dreams-worth-more-than-money/   \n",
       "3139            https://pitchfork.com/reviews/albums/20670-touch-down-2-cause-hell/   \n",
       "3191                      https://pitchfork.com/reviews/albums/20661-atlonglastaap/   \n",
       "3962  https://pitchfork.com/reviews/albums/19743-freeway-the-jacka-highway-robbery/   \n",
       "5164         https://pitchfork.com/reviews/albums/18511-drake-nothing-was-the-same/   \n",
       "5451      https://pitchfork.com/reviews/albums/18219-run-the-jewels-run-the-jewels/   \n",
       "5497                  https://pitchfork.com/reviews/albums/18172-kanye-west-yeezus/   \n",
       "\n",
       "      danceability rounded  valence rounded  energy rounded  \\\n",
       "1237                   6.1              3.5             6.6   \n",
       "1965                   6.5              3.4             6.5   \n",
       "2708                   5.8              3.5             6.6   \n",
       "3070                   6.3              3.5             6.5   \n",
       "3139                   6.4              3.9             7.1   \n",
       "3191                   6.0              2.9             6.0   \n",
       "3962                   6.0              4.0             6.5   \n",
       "5164                   6.6              3.3             5.7   \n",
       "5451                   6.8              3.4             7.5   \n",
       "5497                   5.6              3.5             5.9   \n",
       "\n",
       "      acousticness rounded  pub_year  spotify_match  \n",
       "1237                   0.9      2017              1  \n",
       "1965                   1.7      2016              1  \n",
       "2708                   1.2      2015              1  \n",
       "3070                   1.4      2015              1  \n",
       "3139                   1.2      2015              1  \n",
       "3191                   1.9      2015              1  \n",
       "3962                   0.7      2014              1  \n",
       "5164                   1.5      2013              1  \n",
       "5451                   0.9      2013              1  \n",
       "5497                   1.7      2013              1  "
      ]
     },
     "execution_count": 400,
     "metadata": {},
     "output_type": "execute_result"
    }
   ],
   "source": [
    "get_similar(df_merged, 'https://pitchfork.com/reviews/albums/19968-run-the-jewels-run-the-jewels-2/', recommender)"
   ]
  },
  {
   "cell_type": "code",
   "execution_count": 406,
   "metadata": {},
   "outputs": [
    {
     "data": {
      "text/html": [
       "<div>\n",
       "<style>\n",
       "    .dataframe thead tr:only-child th {\n",
       "        text-align: right;\n",
       "    }\n",
       "\n",
       "    .dataframe thead th {\n",
       "        text-align: left;\n",
       "    }\n",
       "\n",
       "    .dataframe tbody tr th {\n",
       "        vertical-align: top;\n",
       "    }\n",
       "</style>\n",
       "<table border=\"1\" class=\"dataframe\">\n",
       "  <thead>\n",
       "    <tr style=\"text-align: right;\">\n",
       "      <th></th>\n",
       "      <th>artist</th>\n",
       "      <th>title</th>\n",
       "      <th>score</th>\n",
       "      <th>url</th>\n",
       "      <th>danceability rounded</th>\n",
       "      <th>valence rounded</th>\n",
       "      <th>energy rounded</th>\n",
       "      <th>acousticness rounded</th>\n",
       "      <th>pub_year</th>\n",
       "      <th>spotify_match</th>\n",
       "    </tr>\n",
       "  </thead>\n",
       "  <tbody>\n",
       "    <tr>\n",
       "      <th>1581</th>\n",
       "      <td>biosphere</td>\n",
       "      <td>departed glories</td>\n",
       "      <td>7.6</td>\n",
       "      <td>https://pitchfork.com/reviews/albums/22302-departed-glories/</td>\n",
       "      <td>2.1</td>\n",
       "      <td>0.9</td>\n",
       "      <td>2.1</td>\n",
       "      <td>9.0</td>\n",
       "      <td>2016</td>\n",
       "      <td>1</td>\n",
       "    </tr>\n",
       "    <tr>\n",
       "      <th>1655</th>\n",
       "      <td>william basinski</td>\n",
       "      <td>92982</td>\n",
       "      <td>8.7</td>\n",
       "      <td>https://pitchfork.com/reviews/albums/22277-william-basinski-92982/</td>\n",
       "      <td>1.8</td>\n",
       "      <td>0.4</td>\n",
       "      <td>2.0</td>\n",
       "      <td>9.6</td>\n",
       "      <td>2016</td>\n",
       "      <td>1</td>\n",
       "    </tr>\n",
       "    <tr>\n",
       "      <th>2553</th>\n",
       "      <td>bing &amp; ruth</td>\n",
       "      <td>city lake</td>\n",
       "      <td>7.6</td>\n",
       "      <td>https://pitchfork.com/reviews/albums/21256-city-lake/</td>\n",
       "      <td>1.7</td>\n",
       "      <td>0.8</td>\n",
       "      <td>1.1</td>\n",
       "      <td>9.2</td>\n",
       "      <td>2015</td>\n",
       "      <td>1</td>\n",
       "    </tr>\n",
       "    <tr>\n",
       "      <th>2869</th>\n",
       "      <td>masayoshi fujita</td>\n",
       "      <td>apologues</td>\n",
       "      <td>8.2</td>\n",
       "      <td>https://pitchfork.com/reviews/albums/20931-apologues/</td>\n",
       "      <td>2.6</td>\n",
       "      <td>0.6</td>\n",
       "      <td>1.2</td>\n",
       "      <td>9.9</td>\n",
       "      <td>2015</td>\n",
       "      <td>1</td>\n",
       "    </tr>\n",
       "    <tr>\n",
       "      <th>2953</th>\n",
       "      <td>laraaji</td>\n",
       "      <td>lotus collage</td>\n",
       "      <td>8.0</td>\n",
       "      <td>https://pitchfork.com/reviews/albums/20839-all-in-one-peace/</td>\n",
       "      <td>3.1</td>\n",
       "      <td>2.0</td>\n",
       "      <td>3.1</td>\n",
       "      <td>8.5</td>\n",
       "      <td>2015</td>\n",
       "      <td>1</td>\n",
       "    </tr>\n",
       "    <tr>\n",
       "      <th>3707</th>\n",
       "      <td>jordan de la sierra</td>\n",
       "      <td>gymnosphere: song of the rose</td>\n",
       "      <td>7.5</td>\n",
       "      <td>https://pitchfork.com/reviews/albums/19994-gymnosphere-song-of-the-rose/</td>\n",
       "      <td>1.5</td>\n",
       "      <td>1.5</td>\n",
       "      <td>1.5</td>\n",
       "      <td>9.9</td>\n",
       "      <td>2014</td>\n",
       "      <td>1</td>\n",
       "    </tr>\n",
       "    <tr>\n",
       "      <th>3856</th>\n",
       "      <td>bing &amp; ruth</td>\n",
       "      <td>tomorrow was the golden age</td>\n",
       "      <td>8.1</td>\n",
       "      <td>https://pitchfork.com/reviews/albums/19887-bing-ruth-tomorrow-was-the-golden-age/</td>\n",
       "      <td>1.6</td>\n",
       "      <td>0.9</td>\n",
       "      <td>1.1</td>\n",
       "      <td>8.7</td>\n",
       "      <td>2014</td>\n",
       "      <td>1</td>\n",
       "    </tr>\n",
       "    <tr>\n",
       "      <th>3879</th>\n",
       "      <td>a winged victory for the sullen</td>\n",
       "      <td>atomos</td>\n",
       "      <td>7.3</td>\n",
       "      <td>https://pitchfork.com/reviews/albums/19868-a-winged-victory-for-the-sullen-atomos/</td>\n",
       "      <td>1.8</td>\n",
       "      <td>0.7</td>\n",
       "      <td>1.6</td>\n",
       "      <td>8.9</td>\n",
       "      <td>2014</td>\n",
       "      <td>1</td>\n",
       "    </tr>\n",
       "    <tr>\n",
       "      <th>4464</th>\n",
       "      <td>william basinski</td>\n",
       "      <td>melancholia</td>\n",
       "      <td>7.4</td>\n",
       "      <td>https://pitchfork.com/reviews/albums/19246-william-basinski-melancholia/</td>\n",
       "      <td>2.3</td>\n",
       "      <td>0.7</td>\n",
       "      <td>0.6</td>\n",
       "      <td>9.8</td>\n",
       "      <td>2014</td>\n",
       "      <td>1</td>\n",
       "    </tr>\n",
       "    <tr>\n",
       "      <th>4613</th>\n",
       "      <td>bo anders persson</td>\n",
       "      <td>love is here to stay</td>\n",
       "      <td>7.6</td>\n",
       "      <td>https://pitchfork.com/reviews/albums/19116-bo-anders-persson-love-is-here-to-stay/</td>\n",
       "      <td>2.0</td>\n",
       "      <td>1.1</td>\n",
       "      <td>1.4</td>\n",
       "      <td>9.7</td>\n",
       "      <td>2014</td>\n",
       "      <td>1</td>\n",
       "    </tr>\n",
       "  </tbody>\n",
       "</table>\n",
       "</div>"
      ],
      "text/plain": [
       "                               artist                          title  score  \\\n",
       "1581                        biosphere               departed glories    7.6   \n",
       "1655                 william basinski                          92982    8.7   \n",
       "2553                      bing & ruth                      city lake    7.6   \n",
       "2869                 masayoshi fujita                      apologues    8.2   \n",
       "2953                          laraaji                  lotus collage    8.0   \n",
       "3707              jordan de la sierra  gymnosphere: song of the rose    7.5   \n",
       "3856                      bing & ruth    tomorrow was the golden age    8.1   \n",
       "3879  a winged victory for the sullen                         atomos    7.3   \n",
       "4464                 william basinski                    melancholia    7.4   \n",
       "4613                bo anders persson           love is here to stay    7.6   \n",
       "\n",
       "                                                                                     url  \\\n",
       "1581                        https://pitchfork.com/reviews/albums/22302-departed-glories/   \n",
       "1655                  https://pitchfork.com/reviews/albums/22277-william-basinski-92982/   \n",
       "2553                               https://pitchfork.com/reviews/albums/21256-city-lake/   \n",
       "2869                               https://pitchfork.com/reviews/albums/20931-apologues/   \n",
       "2953                        https://pitchfork.com/reviews/albums/20839-all-in-one-peace/   \n",
       "3707            https://pitchfork.com/reviews/albums/19994-gymnosphere-song-of-the-rose/   \n",
       "3856   https://pitchfork.com/reviews/albums/19887-bing-ruth-tomorrow-was-the-golden-age/   \n",
       "3879  https://pitchfork.com/reviews/albums/19868-a-winged-victory-for-the-sullen-atomos/   \n",
       "4464            https://pitchfork.com/reviews/albums/19246-william-basinski-melancholia/   \n",
       "4613  https://pitchfork.com/reviews/albums/19116-bo-anders-persson-love-is-here-to-stay/   \n",
       "\n",
       "      danceability rounded  valence rounded  energy rounded  \\\n",
       "1581                   2.1              0.9             2.1   \n",
       "1655                   1.8              0.4             2.0   \n",
       "2553                   1.7              0.8             1.1   \n",
       "2869                   2.6              0.6             1.2   \n",
       "2953                   3.1              2.0             3.1   \n",
       "3707                   1.5              1.5             1.5   \n",
       "3856                   1.6              0.9             1.1   \n",
       "3879                   1.8              0.7             1.6   \n",
       "4464                   2.3              0.7             0.6   \n",
       "4613                   2.0              1.1             1.4   \n",
       "\n",
       "      acousticness rounded  pub_year  spotify_match  \n",
       "1581                   9.0      2016              1  \n",
       "1655                   9.6      2016              1  \n",
       "2553                   9.2      2015              1  \n",
       "2869                   9.9      2015              1  \n",
       "2953                   8.5      2015              1  \n",
       "3707                   9.9      2014              1  \n",
       "3856                   8.7      2014              1  \n",
       "3879                   8.9      2014              1  \n",
       "4464                   9.8      2014              1  \n",
       "4613                   9.7      2014              1  "
      ]
     },
     "execution_count": 406,
     "metadata": {},
     "output_type": "execute_result"
    }
   ],
   "source": [
    "get_similar(df_merged, 'https://pitchfork.com/reviews/albums/17064-the-disintegration-loops/', recommender)"
   ]
  },
  {
   "cell_type": "code",
   "execution_count": null,
   "metadata": {
    "collapsed": true
   },
   "outputs": [],
   "source": []
  },
  {
   "cell_type": "code",
   "execution_count": 286,
   "metadata": {},
   "outputs": [
    {
     "data": {
      "text/plain": [
       "Index([u'Unnamed: 0', u'Unnamed: 0.1', u'index', u'reviewid', u'title',\n",
       "       u'artist', u'url', u'score', u'best_new_music', u'best_new_reissue',\n",
       "       u'author', u'pub_date', u'pub_weekday', u'pub_day', u'pub_month',\n",
       "       u'pub_year', u'year', u'genre_electronic', u'genre_experimental',\n",
       "       u'genre_folk/country', u'genre_global', u'genre_jazz', u'genre_metal',\n",
       "       u'genre_pop/r&b', u'genre_rap', u'genre_rock', u'content', u'abstract',\n",
       "       u'reissue', u'num_years_since_release', u'new_album', u'abstract_adj',\n",
       "       u'content_adj', u'cont_polarity', u'cont_subjectivity', u'abs_polarity',\n",
       "       u'abs_subjectivity', u'abs_adj_polarity', u'abs_adj_subjectivity',\n",
       "       u'cont_adj_polarity', u'cont_adj_subjectivity', u'word_count',\n",
       "       u'adj_count', u'adj_freq', u'score_bin', u'avg_word_length',\n",
       "       u'adj_word_length', u'num_prev_reviews', u'avg_score_of_prev_reviews',\n",
       "       u'number_prev_bnm', u'era'],\n",
       "      dtype='object')"
      ]
     },
     "execution_count": 286,
     "metadata": {},
     "output_type": "execute_result"
    }
   ],
   "source": [
    "df[df['artist'] == 'foals'].columns"
   ]
  },
  {
   "cell_type": "code",
   "execution_count": null,
   "metadata": {
    "collapsed": true
   },
   "outputs": [],
   "source": []
  }
 ],
 "metadata": {
  "kernelspec": {
   "display_name": "Python 2",
   "language": "python",
   "name": "python2"
  },
  "language_info": {
   "codemirror_mode": {
    "name": "ipython",
    "version": 2
   },
   "file_extension": ".py",
   "mimetype": "text/x-python",
   "name": "python",
   "nbconvert_exporter": "python",
   "pygments_lexer": "ipython2",
   "version": "2.7.13"
  }
 },
 "nbformat": 4,
 "nbformat_minor": 2
}
