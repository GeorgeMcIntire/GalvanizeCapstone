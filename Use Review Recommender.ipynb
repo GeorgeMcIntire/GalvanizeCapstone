{
 "cells": [
  {
   "cell_type": "code",
   "execution_count": 4,
   "metadata": {
    "collapsed": true
   },
   "outputs": [],
   "source": [
    "import graphlab as gl\n",
    "import pandas as pd\n",
    "pd.options.display.max_colwidth = 100"
   ]
  },
  {
   "cell_type": "code",
   "execution_count": 55,
   "metadata": {},
   "outputs": [],
   "source": [
    "recommender = gl.load_model('../recommender')\n",
    "recommender_tfidf = gl.load_model('../recommender_tfidf')\n",
    "df_merged = pd.read_csv('../recommender_df.csv')"
   ]
  },
  {
   "cell_type": "code",
   "execution_count": 56,
   "metadata": {
    "collapsed": true
   },
   "outputs": [],
   "source": [
    "def print_top_url(df_similar):\n",
    "    df_copy = df_similar.reset_index()\n",
    "    for i in range(len(df_similar['url'])):\n",
    "        print \"{}, {}\".format(df_copy['artist'][i].title(), df_copy['title'][i].title())\n",
    "        print \"http://open.spotify.com/album/{}\".format(df_copy['album_uri'][i])\n",
    "        print df_copy['url'][i]\n",
    "        print \"\\n\""
   ]
  },
  {
   "cell_type": "code",
   "execution_count": 57,
   "metadata": {
    "collapsed": true
   },
   "outputs": [],
   "source": [
    "def get_links(df_similar):\n",
    "    df_copy = df_similar.reset_index()\n",
    "    spotify_links = []\n",
    "    pitchfork_links = []\n",
    "    artist_title = []\n",
    "    for i in range(len(df_similar['url'])):\n",
    "        artist_title.append(\"{}, {}\".format(df_copy['artist'][i].title(), df_copy['title'][i].title()))\n",
    "        spotify_links.append(\"http://open.spotify.com/album/{}\".format(df_copy['album_uri'][i]))\n",
    "        pitchfork_links.df_copy['url'][i]\n",
    "    return artist_title, pitchfork_links, spotify_links"
   ]
  },
  {
   "cell_type": "code",
   "execution_count": 58,
   "metadata": {},
   "outputs": [
    {
     "data": {
      "text/plain": [
       "0"
      ]
     },
     "execution_count": 58,
     "metadata": {},
     "output_type": "execute_result"
    }
   ],
   "source": [
    "df_merged[df_merged['url'] == 'https://pitchfork.com/reviews/albums/merry-christmas-lil-mama-re-wrapped/'].loc[0][-1]"
   ]
  },
  {
   "cell_type": "code",
   "execution_count": 59,
   "metadata": {},
   "outputs": [
    {
     "ename": "NameError",
     "evalue": "name 'df' is not defined",
     "output_type": "error",
     "traceback": [
      "\u001b[0;31m---------------------------------------------------------------------------\u001b[0m",
      "\u001b[0;31mNameError\u001b[0m                                 Traceback (most recent call last)",
      "\u001b[0;32m<ipython-input-59-2424bc0113d1>\u001b[0m in \u001b[0;36m<module>\u001b[0;34m()\u001b[0m\n\u001b[0;32m----> 1\u001b[0;31m \u001b[0mdf_merged\u001b[0m\u001b[0;34m[\u001b[0m\u001b[0mdf\u001b[0m\u001b[0;34m[\u001b[0m\u001b[0;34m'url'\u001b[0m\u001b[0;34m]\u001b[0m \u001b[0;34m==\u001b[0m \u001b[0murl\u001b[0m\u001b[0;34m]\u001b[0m\u001b[0;34m.\u001b[0m\u001b[0miloc\u001b[0m\u001b[0;34m[\u001b[0m\u001b[0;36m0\u001b[0m\u001b[0;34m]\u001b[0m\u001b[0;34m[\u001b[0m\u001b[0;34m-\u001b[0m\u001b[0;36m1\u001b[0m\u001b[0;34m]\u001b[0m \u001b[0;34m==\u001b[0m \u001b[0;36m0\u001b[0m\u001b[0;34m\u001b[0m\u001b[0m\n\u001b[0m",
      "\u001b[0;31mNameError\u001b[0m: name 'df' is not defined"
     ]
    }
   ],
   "source": [
    "df_merged[df['url'] == url].iloc[0][-1] == 0"
   ]
  },
  {
   "cell_type": "code",
   "execution_count": 60,
   "metadata": {
    "collapsed": true
   },
   "outputs": [],
   "source": [
    "def get_similar(df, url, recommender, recommender_tfidf):\n",
    "    if df[df['url'] == url].iloc[0][-1] == 0:\n",
    "        top_5_similar = recommender_tfidf.get_similar_items([url], k=20)['similar']\n",
    "    else:\n",
    "        top_5_similar = recommender.get_similar_items([url], k=20)['similar']\n",
    "    return df[(df['score'] > 7) & \n",
    "#               (df['spotify_match'] == 1)  &\n",
    "               (df['url'].isin(top_5_similar))][['artist','title', 'score', 'url', 'danceability rounded',\n",
    "                                                'valence rounded', 'energy rounded', 'acousticness rounded', \n",
    "                                               'pub_year', 'spotify_match', 'album_uri']].head(10)"
   ]
  },
  {
   "cell_type": "code",
   "execution_count": 61,
   "metadata": {
    "collapsed": true
   },
   "outputs": [],
   "source": [
    "def get_url(df, artist, title):\n",
    "    return df[(df['artist'] == artist) & (df['title'] == title)].iloc[0][7]"
   ]
  },
  {
   "cell_type": "code",
   "execution_count": 62,
   "metadata": {},
   "outputs": [
    {
     "data": {
      "text/plain": [
       "'https://pitchfork.com/reviews/albums/merry-christmas-lil-mama-re-wrapped/'"
      ]
     },
     "execution_count": 62,
     "metadata": {},
     "output_type": "execute_result"
    }
   ],
   "source": [
    "df_merged.iloc[0][7]"
   ]
  },
  {
   "cell_type": "code",
   "execution_count": 63,
   "metadata": {},
   "outputs": [
    {
     "data": {
      "text/plain": [
       "'joanna newsom'"
      ]
     },
     "execution_count": 63,
     "metadata": {},
     "output_type": "execute_result"
    }
   ],
   "source": [
    "df_merged[df_merged['url'] == url].iloc[0][6]"
   ]
  },
  {
   "cell_type": "code",
   "execution_count": null,
   "metadata": {
    "collapsed": true
   },
   "outputs": [],
   "source": []
  },
  {
   "cell_type": "code",
   "execution_count": 64,
   "metadata": {},
   "outputs": [
    {
     "name": "stdout",
     "output_type": "stream",
     "text": [
      "Artist: joanna newsom\n",
      "\n",
      "\n",
      "Select Album From Below:\n",
      "Divers\n",
      "Have One On Me\n",
      "Joanna Newsom & The Ys Street Band Ep\n",
      "Ys\n",
      "The Milk-Eyed Mender\n",
      "\n",
      "\n",
      "Album: divers\n",
      "\n",
      "\n",
      "Larkin Grimm, Chasing An Illusion\n",
      "http://open.spotify.com/album/1dU8ajuDtfyZogbFgsT3EV\n",
      "https://pitchfork.com/reviews/albums/larkin-grimm-chasing-an-illusion/\n",
      "\n",
      "\n",
      "Hiss Golden Messenger, Heart Like A Levee\n",
      "http://open.spotify.com/album/4rEEkztpEU1GBmy5uBYHUS\n",
      "https://pitchfork.com/reviews/albums/22323-heart-like-a-levee/\n",
      "\n",
      "\n",
      "Lee Hazlewood, The Very Special World Of Lee Hazlewood\n",
      "http://open.spotify.com/album/4BshrFXTkg7Vhtdcqg0FpX\n",
      "https://pitchfork.com/reviews/albums/21461-the-very-special-world-of-lee-hazlewood-lee-hazlewoodism-its-cause-and-cure-something-special/\n",
      "\n",
      "\n",
      "Nadia Reid, Listen To Formation, Look For The Signs\n",
      "http://open.spotify.com/album/5ZDAvkRKsM1s1O9BVqRWYt\n",
      "https://pitchfork.com/reviews/albums/21297-listen-to-formation-look-for-the-signs/\n",
      "\n",
      "\n",
      "Monk Parker, How The Spark Loves The Tinder\n",
      "http://open.spotify.com/album/nan\n",
      "https://pitchfork.com/reviews/albums/20920-how-the-spark-loves-the-tinder/\n",
      "\n",
      "\n",
      "Jackson C. Frank, The Complete Recordings Of Jackson C. Frank\n",
      "http://open.spotify.com/album/nan\n",
      "https://pitchfork.com/reviews/albums/20865-the-complete-recordings-of-jackson-c-frank/\n",
      "\n",
      "\n",
      "Bert Jansch, Live At The 12 Bar\n",
      "http://open.spotify.com/album/4YmJGXaTVl44bDvSgE2pAv\n",
      "https://pitchfork.com/reviews/albums/20716-live-at-the-12-bar/\n",
      "\n",
      "\n",
      "David Kauffman, Eric Caboor, Songs From Suicide Bridge\n",
      "http://open.spotify.com/album/nan\n",
      "https://pitchfork.com/reviews/albums/20560-songs-from-suicide-bridge/\n",
      "\n",
      "\n",
      "Bill Fay, Who Is The Sender?\n",
      "http://open.spotify.com/album/5wxzv8xBkcJTIwcYSVc5pG\n",
      "https://pitchfork.com/reviews/albums/20475-bill-fay-who-is-the-sender/\n",
      "\n",
      "\n",
      "Sufjan Stevens, Carrie & Lowell\n",
      "http://open.spotify.com/album/5MQPCHqfFR9wweKrLJyaSM\n",
      "https://pitchfork.com/reviews/albums/20218-carrie-lowell/\n",
      "\n",
      "\n"
     ]
    }
   ],
   "source": [
    "artist = raw_input(\"Artist: \").strip().lower()\n",
    "while True:\n",
    "    if len(df_merged[df_merged['artist'] == artist]['title']) == 0:\n",
    "        print \"Try another artist\"  \n",
    "    else:\n",
    "        break\n",
    "    artist = raw_input(\"Artist: \").strip().lower()\n",
    "print '\\n'\n",
    "print 'Select Album From Below:'\n",
    "for each in df_merged[df_merged['artist'] == artist]['title']:\n",
    "            print each.title()\n",
    "print '\\n'\n",
    "title = raw_input(\"Album: \").strip().lower()\n",
    "while True:\n",
    "    try:\n",
    "        url = get_url(df_merged, artist, title)\n",
    "        break\n",
    "    except:\n",
    "        print \"Not a valid album. Try again from what's listed above\"\n",
    "        title = raw_input(\"Album: \").lower()\n",
    "        url = get_url(df_merged, artist, title)\n",
    "\n",
    "df_similar = get_similar(df_merged, url, recommender, recommender_tfidf)\n",
    "print '\\n'\n",
    "print_top_url(df_similar)"
   ]
  },
  {
   "cell_type": "code",
   "execution_count": 24,
   "metadata": {
    "collapsed": true
   },
   "outputs": [],
   "source": [
    "def get_links(df_similar):\n",
    "    df_copy = df_similar.reset_index()\n",
    "    all_info = []\n",
    "    for i in range(len(df_similar['url'])):\n",
    "        all_info.append((df_copy['artist'][i].title(), \n",
    "                        df_copy['title'][i].title(),\n",
    "                        \"http://open.spotify.com/album/{}\".format(df_copy['album_uri'][i]),\n",
    "                        df_copy['url'][i]))\n",
    "    return all_info"
   ]
  },
  {
   "cell_type": "code",
   "execution_count": 25,
   "metadata": {},
   "outputs": [
    {
     "data": {
      "text/plain": [
       "[('Charli Xcx',\n",
       "  'Pop 2',\n",
       "  'http://open.spotify.com/album/2HIwUmdxEl7SeWa1ndH5wC',\n",
       "  'https://pitchfork.com/reviews/albums/charli-xcx-pop-2/'),\n",
       " ('Miguel',\n",
       "  'War & Leisure',\n",
       "  'http://open.spotify.com/album/05LEST8E8mkEIl2LRfUkcI',\n",
       "  'https://pitchfork.com/reviews/albums/miguel-war-and-leisure/'),\n",
       " ('Demi Lovato',\n",
       "  'Tell Me You Love Me',\n",
       "  'http://open.spotify.com/album/233yswCIc7oCFpZ2M9t0wa',\n",
       "  'https://pitchfork.com/reviews/albums/demi-lovato-tell-me-you-love-me/'),\n",
       " ('Nite Jewel',\n",
       "  'Real High',\n",
       "  'http://open.spotify.com/album/2XonesGr0YvUdhmdCW102B',\n",
       "  'https://pitchfork.com/reviews/albums/23152-real-high/'),\n",
       " ('Mary J. Blige',\n",
       "  'Strength Of A Woman',\n",
       "  'http://open.spotify.com/album/0ry9q0FKegt5URPRTSyqUI',\n",
       "  'https://pitchfork.com/reviews/albums/23167-strength-of-a-woman/'),\n",
       " ('Chvrches',\n",
       "  'Every Open Eye',\n",
       "  'http://open.spotify.com/album/4E61vCQ3Ty0er5FmJF68tQ',\n",
       "  'https://pitchfork.com/reviews/albums/21104-every-open-eye/'),\n",
       " ('Petite Noir',\n",
       "  'La Vie Est Belle / Life Is Beautiful',\n",
       "  'http://open.spotify.com/album/4hnuqFJKT7yxZJ8FoghqtO',\n",
       "  'https://pitchfork.com/reviews/albums/21012-petite-noir-la-vie-est-belle-life-is-beautiful/'),\n",
       " ('Empress Of',\n",
       "  'Me',\n",
       "  'http://open.spotify.com/album/6Gr9l3W2dr8YZ1SzJwRRKE',\n",
       "  'https://pitchfork.com/reviews/albums/20976-me/'),\n",
       " ('Miguel',\n",
       "  'Wildheart',\n",
       "  'http://open.spotify.com/album/6b5WANFyoXhaMTXPqLF6ez',\n",
       "  'https://pitchfork.com/reviews/albums/20728-wildheart/'),\n",
       " ('Secret Circuit',\n",
       "  'Tactile Galactics',\n",
       "  'http://open.spotify.com/album/2I4ZTFpY8VpTYIGEt5lIgI',\n",
       "  'https://pitchfork.com/reviews/albums/17952-secret-circuit-tactile-galactics/')]"
      ]
     },
     "execution_count": 25,
     "metadata": {},
     "output_type": "execute_result"
    }
   ],
   "source": [
    "get_links(df_similar)"
   ]
  },
  {
   "cell_type": "code",
   "execution_count": null,
   "metadata": {
    "collapsed": true
   },
   "outputs": [],
   "source": []
  }
 ],
 "metadata": {
  "kernelspec": {
   "display_name": "Python 2",
   "language": "python",
   "name": "python2"
  },
  "language_info": {
   "codemirror_mode": {
    "name": "ipython",
    "version": 2
   },
   "file_extension": ".py",
   "mimetype": "text/x-python",
   "name": "python",
   "nbconvert_exporter": "python",
   "pygments_lexer": "ipython2",
   "version": "2.7.13"
  }
 },
 "nbformat": 4,
 "nbformat_minor": 2
}
