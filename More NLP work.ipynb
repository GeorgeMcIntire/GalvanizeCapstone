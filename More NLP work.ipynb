{
 "cells": [
  {
   "cell_type": "code",
   "execution_count": 1,
   "metadata": {
    "collapsed": true
   },
   "outputs": [],
   "source": [
    "import numpy as np\n",
    "import matplotlib.pyplot as plt\n",
    "%matplotlib inline\n",
    "from matplotlib.colors import LogNorm\n",
    "\n",
    "from textblob.sentiments import NaiveBayesAnalyzer\n",
    "\n",
    "import pandas as pd\n",
    "import sqlite3\n",
    "from textblob import TextBlob\n",
    "\n",
    "import seaborn as sns\n",
    "sns.set(color_codes=True)\n",
    "\n",
    "\n",
    "import spacy\n",
    "nlp = spacy.load('en')\n",
    "\n",
    "import re"
   ]
  },
  {
   "cell_type": "code",
   "execution_count": 105,
   "metadata": {},
   "outputs": [],
   "source": [
    "df = pd.read_csv('../pitchfork4.csv')\n",
    "\n",
    "df['word_count'] = df['content'].str.count('\\w+')\n",
    "df['desc_count'] = df['content_desc'].str.count('\\w+')\n",
    "\n",
    "df['avg_word_length'] = df['content'].str.count('[^ ]') / df['word_count']\n",
    "df['desc_word_length'] = df['content_desc'].str.count('[^ ]') / df['content_desc'].str.count('\\w+')\n",
    "df['desc_freq'] = df['desc_count'] / df['word_count']"
   ]
  },
  {
   "cell_type": "code",
   "execution_count": 114,
   "metadata": {},
   "outputs": [
    {
     "data": {
      "text/plain": [
       "Index([u'Unnamed: 0', u'index', u'reviewid', u'title', u'artist', u'url',\n",
       "       u'score', u'best_new_music', u'best_new_reissue', u'author',\n",
       "       u'pub_date', u'pub_weekday', u'pub_day', u'pub_month', u'pub_year',\n",
       "       u'year', u'genre_electronic', u'genre_experimental',\n",
       "       u'genre_folk/country', u'genre_global', u'genre_jazz', u'genre_metal',\n",
       "       u'genre_pop/r&b', u'genre_rap', u'genre_rock', u'content', u'abstract',\n",
       "       u'reissue', u'num_years_since_release', u'new_album', u'abstract_desc',\n",
       "       u'content_desc', u'cont_polarity', u'cont_subjectivity',\n",
       "       u'abs_polarity', u'abs_subjectivity', u'word_count', u'desc_count',\n",
       "       u'desc_freq', u'score_bin', u'avg_word_length', u'desc_word_length'],\n",
       "      dtype='object')"
      ]
     },
     "execution_count": 114,
     "metadata": {},
     "output_type": "execute_result"
    }
   ],
   "source": [
    "df.columns"
   ]
  },
  {
   "cell_type": "code",
   "execution_count": 117,
   "metadata": {},
   "outputs": [],
   "source": [
    "abs_desc = df[(df['artist'] == 'sufjan stevens') & \n",
    "   (df['new_album'] == 1)]           \\\n",
    "   [['abstract', 'title', 'score', 'abstract_desc', 'abs_subjectivity']].sort_values('abs_subjectivity').reset_index()['abstract_desc'][5]\n",
    "    "
   ]
  },
  {
   "cell_type": "code",
   "execution_count": null,
   "metadata": {
    "collapsed": true
   },
   "outputs": [],
   "source": []
  },
  {
   "cell_type": "code",
   "execution_count": 41,
   "metadata": {
    "collapsed": true
   },
   "outputs": [],
   "source": [
    "abstract = \"\"\"Sufjan Stevens has always written personally, weaving his life story into larger narratives, but here his autobiography is front and center. Carrie & Lowell is a return to the stripped-back folk of Seven Swans but with a decade's worth of refinement and exploration packed into it.\"\"\""
   ]
  },
  {
   "cell_type": "code",
   "execution_count": 49,
   "metadata": {
    "collapsed": true
   },
   "outputs": [],
   "source": [
    "def parse_sentiment(abstract):\n",
    "    for word in abstract.split():\n",
    "        if TextBlob(word).sentiment[1] > 0:\n",
    "            print word, \"\\nSubjectivity:\", \\\n",
    "              TextBlob(word).sentiment[1], \"\\n\""
   ]
  },
  {
   "cell_type": "code",
   "execution_count": 71,
   "metadata": {},
   "outputs": [
    {
     "data": {
      "text/plain": [
       "Sentiment(polarity=0.049999999999999996, subjectivity=0.25)"
      ]
     },
     "execution_count": 71,
     "metadata": {},
     "output_type": "execute_result"
    }
   ],
   "source": [
    "abstract = \"\"\"Sufjan Stevens has always written\n",
    "              personally, weaving his life story\n",
    "              into larger narratives, but here his\n",
    "              autobiography is front and center.\n",
    "              Carrie & Lowell is a return to the\n",
    "              stripped-back folk of Seven Swans but\n",
    "              with a decade's worth of refinement\n",
    "              and exploration packed into it.\"\"\"\n",
    "from textblob import TextBlob\n",
    "TextBlob(abstract).sentiment"
   ]
  },
  {
   "cell_type": "code",
   "execution_count": 72,
   "metadata": {},
   "outputs": [
    {
     "name": "stdout",
     "output_type": "stream",
     "text": [
      "personally, \n",
      "Subjectivity: 0.3 \n",
      "\n",
      "larger \n",
      "Subjectivity: 0.5 \n",
      "\n",
      "center. \n",
      "Subjectivity: 0.1 \n",
      "\n",
      "worth \n",
      "Subjectivity: 0.1 \n",
      "\n"
     ]
    }
   ],
   "source": [
    "parse_sentiment(abstract)"
   ]
  },
  {
   "cell_type": "code",
   "execution_count": 33,
   "metadata": {
    "collapsed": true
   },
   "outputs": [],
   "source": [
    "blob = nlp(unicode(abstract))"
   ]
  },
  {
   "cell_type": "code",
   "execution_count": 36,
   "metadata": {},
   "outputs": [
    {
     "data": {
      "text/plain": [
       "0.0"
      ]
     },
     "execution_count": 36,
     "metadata": {},
     "output_type": "execute_result"
    }
   ],
   "source": [
    "blob."
   ]
  },
  {
   "cell_type": "code",
   "execution_count": 30,
   "metadata": {
    "collapsed": true
   },
   "outputs": [],
   "source": [
    "import spacy\n",
    "nlp = spacy.load('en')"
   ]
  },
  {
   "cell_type": "code",
   "execution_count": 52,
   "metadata": {},
   "outputs": [
    {
     "data": {
      "text/html": [
       "<div>\n",
       "<style>\n",
       "    .dataframe thead tr:only-child th {\n",
       "        text-align: right;\n",
       "    }\n",
       "\n",
       "    .dataframe thead th {\n",
       "        text-align: left;\n",
       "    }\n",
       "\n",
       "    .dataframe tbody tr th {\n",
       "        vertical-align: top;\n",
       "    }\n",
       "</style>\n",
       "<table border=\"1\" class=\"dataframe\">\n",
       "  <thead>\n",
       "    <tr style=\"text-align: right;\">\n",
       "      <th></th>\n",
       "      <th>0</th>\n",
       "      <th>1</th>\n",
       "      <th>2</th>\n",
       "    </tr>\n",
       "  </thead>\n",
       "  <tbody>\n",
       "    <tr>\n",
       "      <th>0</th>\n",
       "      <td>word</td>\n",
       "      <td>POS</td>\n",
       "      <td>tag</td>\n",
       "    </tr>\n",
       "  </tbody>\n",
       "</table>\n",
       "</div>"
      ],
      "text/plain": [
       "      0    1    2\n",
       "0  word  POS  tag"
      ]
     },
     "execution_count": 52,
     "metadata": {},
     "output_type": "execute_result"
    }
   ],
   "source": [
    "pd.DataFrame([['word', 'POS', 'tag']], )\n"
   ]
  },
  {
   "cell_type": "code",
   "execution_count": 69,
   "metadata": {
    "collapsed": true
   },
   "outputs": [],
   "source": [
    "abstract = \"\"\"Sufjan Stevens has always written\n",
    "              personally, weaving his life story\n",
    "              into larger narratives, but here his\n",
    "              autobiography is front and center.\n",
    "              Carrie & Lowell is a return to the\n",
    "              stripped-back folk of Seven Swans but\n",
    "              with a decade's worth of refinement\n",
    "              and exploration packed into it.\"\"\"\n",
    "import spacy\n",
    "nlp = spacy.load('en')"
   ]
  },
  {
   "cell_type": "code",
   "execution_count": 119,
   "metadata": {},
   "outputs": [
    {
     "data": {
      "text/html": [
       "<div>\n",
       "<style>\n",
       "    .dataframe thead tr:only-child th {\n",
       "        text-align: right;\n",
       "    }\n",
       "\n",
       "    .dataframe thead th {\n",
       "        text-align: left;\n",
       "    }\n",
       "\n",
       "    .dataframe tbody tr th {\n",
       "        vertical-align: top;\n",
       "    }\n",
       "</style>\n",
       "<table border=\"1\" class=\"dataframe\">\n",
       "  <thead>\n",
       "    <tr style=\"text-align: right;\">\n",
       "      <th></th>\n",
       "      <th>word</th>\n",
       "      <th>POS</th>\n",
       "      <th>tag</th>\n",
       "    </tr>\n",
       "  </thead>\n",
       "  <tbody>\n",
       "    <tr>\n",
       "      <th>0</th>\n",
       "      <td>has</td>\n",
       "      <td>VERB</td>\n",
       "      <td>VBZ</td>\n",
       "    </tr>\n",
       "    <tr>\n",
       "      <th>1</th>\n",
       "      <td>always</td>\n",
       "      <td>ADV</td>\n",
       "      <td>RB</td>\n",
       "    </tr>\n",
       "    <tr>\n",
       "      <th>2</th>\n",
       "      <td>personally</td>\n",
       "      <td>ADV</td>\n",
       "      <td>RB</td>\n",
       "    </tr>\n",
       "    <tr>\n",
       "      <th>3</th>\n",
       "      <td>weaving</td>\n",
       "      <td>VERB</td>\n",
       "      <td>VBG</td>\n",
       "    </tr>\n",
       "    <tr>\n",
       "      <th>4</th>\n",
       "      <td>larger</td>\n",
       "      <td>ADJ</td>\n",
       "      <td>JJR</td>\n",
       "    </tr>\n",
       "    <tr>\n",
       "      <th>5</th>\n",
       "      <td>here</td>\n",
       "      <td>ADV</td>\n",
       "      <td>RB</td>\n",
       "    </tr>\n",
       "    <tr>\n",
       "      <th>6</th>\n",
       "      <td>is</td>\n",
       "      <td>VERB</td>\n",
       "      <td>VBZ</td>\n",
       "    </tr>\n",
       "    <tr>\n",
       "      <th>7</th>\n",
       "      <td>front</td>\n",
       "      <td>ADJ</td>\n",
       "      <td>JJ</td>\n",
       "    </tr>\n",
       "    <tr>\n",
       "      <th>8</th>\n",
       "      <td>is</td>\n",
       "      <td>VERB</td>\n",
       "      <td>VBZ</td>\n",
       "    </tr>\n",
       "    <tr>\n",
       "      <th>9</th>\n",
       "      <td>s</td>\n",
       "      <td>NOUN</td>\n",
       "      <td>NN</td>\n",
       "    </tr>\n",
       "  </tbody>\n",
       "</table>\n",
       "</div>"
      ],
      "text/plain": [
       "         word   POS  tag\n",
       "0         has  VERB  VBZ\n",
       "1      always   ADV   RB\n",
       "2  personally   ADV   RB\n",
       "3     weaving  VERB  VBG\n",
       "4      larger   ADJ  JJR\n",
       "5        here   ADV   RB\n",
       "6          is  VERB  VBZ\n",
       "7       front   ADJ   JJ\n",
       "8          is  VERB  VBZ\n",
       "9           s  NOUN   NN"
      ]
     },
     "execution_count": 119,
     "metadata": {},
     "output_type": "execute_result"
    }
   ],
   "source": [
    "make_POS_df(abs_desc, nlp)"
   ]
  },
  {
   "cell_type": "code",
   "execution_count": 81,
   "metadata": {
    "collapsed": true
   },
   "outputs": [],
   "source": [
    "def make_POS_df(abstract, nlp):\n",
    "    df_POS = []\n",
    "    for each in nlp(unicode(abstract)):\n",
    "        df_POS.append([each, each.pos_, each.tag_])\n",
    "    return pd.DataFrame(df_POS, columns=['word', 'POS', 'tag'])"
   ]
  },
  {
   "cell_type": "code",
   "execution_count": 56,
   "metadata": {},
   "outputs": [
    {
     "data": {
      "text/html": [
       "<div>\n",
       "<style>\n",
       "    .dataframe thead tr:only-child th {\n",
       "        text-align: right;\n",
       "    }\n",
       "\n",
       "    .dataframe thead th {\n",
       "        text-align: left;\n",
       "    }\n",
       "\n",
       "    .dataframe tbody tr th {\n",
       "        vertical-align: top;\n",
       "    }\n",
       "</style>\n",
       "<table border=\"1\" class=\"dataframe\">\n",
       "  <thead>\n",
       "    <tr style=\"text-align: right;\">\n",
       "      <th></th>\n",
       "      <th>word</th>\n",
       "      <th>POS</th>\n",
       "      <th>tag</th>\n",
       "    </tr>\n",
       "  </thead>\n",
       "  <tbody>\n",
       "    <tr>\n",
       "      <th>0</th>\n",
       "      <td>Sufjan</td>\n",
       "      <td>PROPN</td>\n",
       "      <td>NNP</td>\n",
       "    </tr>\n",
       "    <tr>\n",
       "      <th>1</th>\n",
       "      <td>Stevens</td>\n",
       "      <td>PROPN</td>\n",
       "      <td>NNP</td>\n",
       "    </tr>\n",
       "    <tr>\n",
       "      <th>2</th>\n",
       "      <td>has</td>\n",
       "      <td>VERB</td>\n",
       "      <td>VBZ</td>\n",
       "    </tr>\n",
       "    <tr>\n",
       "      <th>3</th>\n",
       "      <td>always</td>\n",
       "      <td>ADV</td>\n",
       "      <td>RB</td>\n",
       "    </tr>\n",
       "    <tr>\n",
       "      <th>4</th>\n",
       "      <td>written</td>\n",
       "      <td>VERB</td>\n",
       "      <td>VBN</td>\n",
       "    </tr>\n",
       "    <tr>\n",
       "      <th>5</th>\n",
       "      <td>\\n</td>\n",
       "      <td>SPACE</td>\n",
       "      <td>_SP</td>\n",
       "    </tr>\n",
       "    <tr>\n",
       "      <th>6</th>\n",
       "      <td>personally</td>\n",
       "      <td>ADV</td>\n",
       "      <td>RB</td>\n",
       "    </tr>\n",
       "    <tr>\n",
       "      <th>7</th>\n",
       "      <td>,</td>\n",
       "      <td>PUNCT</td>\n",
       "      <td>,</td>\n",
       "    </tr>\n",
       "    <tr>\n",
       "      <th>8</th>\n",
       "      <td>weaving</td>\n",
       "      <td>VERB</td>\n",
       "      <td>VBG</td>\n",
       "    </tr>\n",
       "    <tr>\n",
       "      <th>9</th>\n",
       "      <td>his</td>\n",
       "      <td>ADJ</td>\n",
       "      <td>PRP$</td>\n",
       "    </tr>\n",
       "  </tbody>\n",
       "</table>\n",
       "</div>"
      ],
      "text/plain": [
       "               word    POS   tag\n",
       "0            Sufjan  PROPN   NNP\n",
       "1           Stevens  PROPN   NNP\n",
       "2               has   VERB   VBZ\n",
       "3            always    ADV    RB\n",
       "4           written   VERB   VBN\n",
       "5  \\n                SPACE   _SP\n",
       "6        personally    ADV    RB\n",
       "7                 ,  PUNCT     ,\n",
       "8           weaving   VERB   VBG\n",
       "9               his    ADJ  PRP$"
      ]
     },
     "execution_count": 56,
     "metadata": {},
     "output_type": "execute_result"
    }
   ],
   "source": [
    "pd.DataFrame(df_POS, columns=['word', 'POS', 'tag']).head(10)"
   ]
  },
  {
   "cell_type": "code",
   "execution_count": 45,
   "metadata": {
    "collapsed": true
   },
   "outputs": [],
   "source": [
    "def parse_for_adj(df, column, new_column_name):\n",
    "    prop_noun_parse = []\n",
    "    for i in range(len(df[column])):\n",
    "        non_PN = []\n",
    "        blob = nlp(unicode(df[column][i]))\n",
    "        for each in blob:\n",
    "            if each.tag_ in [u'ADJ', u'JJ', u'JJR', u'JJS' u'VBN', u'VBD', u'RB', u'RBR', u'RBS']:\n",
    "                non_PN.append(str(each))\n",
    "        prop_noun_parse.append((df['reviewid'][i], \" \".join(non_PN)))\n",
    "\n",
    "    df_new = pd.DataFrame(prop_noun_parse, columns =['reviewid', new_column_name])\n",
    "    return df.merge(df_new)"
   ]
  },
  {
   "cell_type": "code",
   "execution_count": 75,
   "metadata": {
    "collapsed": true
   },
   "outputs": [],
   "source": [
    "df = parse_for_adj(df.head(200), 'content', 'content_desc')"
   ]
  },
  {
   "cell_type": "code",
   "execution_count": 77,
   "metadata": {
    "collapsed": true
   },
   "outputs": [],
   "source": [
    "df['desc_count'] = df['content_desc'].str.count('\\w+')\n"
   ]
  },
  {
   "cell_type": "code",
   "execution_count": 78,
   "metadata": {
    "collapsed": true
   },
   "outputs": [],
   "source": [
    "df['desc_freq'] = df['desc_count'] / df['word_count']"
   ]
  },
  {
   "cell_type": "code",
   "execution_count": 79,
   "metadata": {},
   "outputs": [
    {
     "data": {
      "text/plain": [
       "0      0.134629\n",
       "1      0.118436\n",
       "2      0.115811\n",
       "3      0.105666\n",
       "4      0.141813\n",
       "5      0.107280\n",
       "6      0.138531\n",
       "7      0.133705\n",
       "8      0.115423\n",
       "9      0.119887\n",
       "10     0.149633\n",
       "11     0.122156\n",
       "12     0.111235\n",
       "13     0.125259\n",
       "14     0.124845\n",
       "15     0.125174\n",
       "16     0.139842\n",
       "17     0.101667\n",
       "18     0.110879\n",
       "19     0.135099\n",
       "20     0.121387\n",
       "21     0.120647\n",
       "22     0.112202\n",
       "23     0.110169\n",
       "24     0.133333\n",
       "25     0.102313\n",
       "26     0.139175\n",
       "27     0.142653\n",
       "28     0.118768\n",
       "29     0.134752\n",
       "         ...   \n",
       "170    0.119326\n",
       "171    0.125477\n",
       "172    0.130896\n",
       "173    0.146023\n",
       "174    0.116900\n",
       "175    0.105512\n",
       "176    0.101828\n",
       "177    0.103416\n",
       "178    0.155059\n",
       "179    0.126354\n",
       "180    0.110372\n",
       "181    0.128540\n",
       "182    0.123094\n",
       "183    0.125152\n",
       "184    0.137129\n",
       "185    0.148148\n",
       "186    0.118684\n",
       "187    0.186207\n",
       "188    0.120758\n",
       "189    0.101322\n",
       "190    0.109073\n",
       "191    0.126424\n",
       "192    0.111969\n",
       "193    0.138211\n",
       "194    0.129781\n",
       "195    0.124150\n",
       "196    0.120294\n",
       "197    0.131272\n",
       "198    0.131117\n",
       "199    0.127551\n",
       "Name: desc_freq, Length: 200, dtype: float64"
      ]
     },
     "execution_count": 79,
     "metadata": {},
     "output_type": "execute_result"
    }
   ],
   "source": [
    "df['desc_freq']"
   ]
  },
  {
   "cell_type": "code",
   "execution_count": null,
   "metadata": {
    "collapsed": true
   },
   "outputs": [],
   "source": [
    "def parse_for_less(df, column, new_column_name):\n",
    "    prop_noun_parse = []\n",
    "    for i in range(len(df[column])):\n",
    "        non_PN = []\n",
    "        blob = nlp(unicode(df[column][i]))\n",
    "        for each in blob:\n",
    "            if each.tag_ in [u'ADJ', u'JJ', u'JJR', u'VBN', u'VBD']:\n",
    "                non_PN.append(str(each))\n",
    "        prop_noun_parse.append((df['reviewid'][i], \" \".join(non_PN)))\n",
    "\n",
    "    df_new = pd.DataFrame(prop_noun_parse, columns =['reviewid', new_column_name])\n",
    "    return df.merge(df_new)"
   ]
  },
  {
   "cell_type": "code",
   "execution_count": null,
   "metadata": {
    "collapsed": true
   },
   "outputs": [],
   "source": [
    "from wordcloud import WordCloud, STOPWORDS"
   ]
  },
  {
   "cell_type": "code",
   "execution_count": null,
   "metadata": {
    "collapsed": true
   },
   "outputs": [],
   "source": [
    "stopwords = set(STOPWORDS)\n",
    "stopwords.add(\"final\")\n"
   ]
  },
  {
   "cell_type": "code",
   "execution_count": null,
   "metadata": {
    "collapsed": true
   },
   "outputs": [],
   "source": [
    "word_dict = {}\n",
    "word_dict[2]"
   ]
  },
  {
   "cell_type": "code",
   "execution_count": null,
   "metadata": {
    "collapsed": true
   },
   "outputs": [],
   "source": [
    "def make_agg_cloud(series, subj):\n",
    "    word_dict = {}\n",
    "    for each in range(len(series)):\n",
    "        print each\n",
    "        for word in series[each].split():\n",
    "            word_dict[word] = TextBlob(word).sentiment[1] + .00001\n",
    "        \n",
    "\n",
    "    wordcloud = WordCloud(stopwords=stopwords)\n",
    "    wordcloud.generate_from_frequencies(frequencies=word_dict, max_font_size=40)\n",
    "    plt.figure(figsize=(8, 6))\n",
    "    plt.title('Subjective Words with From Abstract With Score of {}'.format(subj))\n",
    "    plt.imshow(wordcloud, interpolation=\"bilinear\")\n",
    "    plt.axis(\"off\")\n",
    "    plt.show()"
   ]
  },
  {
   "cell_type": "code",
   "execution_count": null,
   "metadata": {
    "collapsed": true
   },
   "outputs": [],
   "source": [
    "df = df.dropna()"
   ]
  },
  {
   "cell_type": "code",
   "execution_count": null,
   "metadata": {
    "collapsed": true
   },
   "outputs": [],
   "source": [
    "df[(df['abs_subjectivity'] > .6) & (df['abs_subjectivity'] < .61) & \\\n",
    "    (df['new_album'] == 1)]           \\\n",
    "    [['abstract', 'title', 'score', 'content', 'abs_subjectivity']].sort_values('abs_subjectivity').sample(10).reset_index()"
   ]
  },
  {
   "cell_type": "code",
   "execution_count": null,
   "metadata": {
    "collapsed": true
   },
   "outputs": [],
   "source": [
    "series0 = df[(df['cont_subjectivity'] > .3) & (df['cont_subjectivity'] < .32) & (df['score'] > .8) & \\\n",
    "   (df['new_album'] == 1)]           \\\n",
    "   [['abstract', 'title', 'score', 'content', 'abs_subjectivity']].sort_values('abs_subjectivity').sample(2).reset_index() \\\n",
    "    ['content']\n",
    "    \n",
    "series1 = df[(df['cont_subjectivity'] > .4) & (df['cont_subjectivity'] < .42) & (df['score'] > .8) &\\\n",
    "   (df['new_album'] == 1)]           \\\n",
    "   [['abstract', 'title', 'score', 'content', 'abs_subjectivity']].sort_values('abs_subjectivity').sample(2).reset_index() \\\n",
    "    ['content']\n",
    "    \n",
    "series2 = df[(df['cont_subjectivity'] > .5) & (df['cont_subjectivity'] < .52) & (df['score'] > .8) &\\\n",
    "    (df['new_album'] == 1)]           \\\n",
    "    [['abstract', 'title', 'score', 'content', 'abs_subjectivity']].sort_values('abs_subjectivity').sample(2).reset_index() \\\n",
    "    ['content']\n",
    "    \n",
    "series3 = df[(df['cont_subjectivity'] > .6) & (df['cont_subjectivity'] < .62) & (df['score'] > .8) &\\\n",
    "    (df['new_album'] == 1)]           \\\n",
    "    [['abstract', 'title', 'score', 'content', 'abs_subjectivity']].sort_values('abs_subjectivity').sample(2).reset_index() \\\n",
    "    ['content']"
   ]
  },
  {
   "cell_type": "code",
   "execution_count": null,
   "metadata": {
    "collapsed": true
   },
   "outputs": [],
   "source": [
    "make_agg_cloud(series3, .6)"
   ]
  },
  {
   "cell_type": "code",
   "execution_count": null,
   "metadata": {
    "collapsed": true
   },
   "outputs": [],
   "source": [
    "make_agg_cloud(series2, .5)"
   ]
  },
  {
   "cell_type": "code",
   "execution_count": null,
   "metadata": {
    "collapsed": true
   },
   "outputs": [],
   "source": [
    "make_agg_cloud(series1, .4)"
   ]
  },
  {
   "cell_type": "code",
   "execution_count": null,
   "metadata": {
    "collapsed": true
   },
   "outputs": [],
   "source": [
    "make_agg_cloud(series0, .3)"
   ]
  },
  {
   "cell_type": "code",
   "execution_count": null,
   "metadata": {
    "collapsed": true
   },
   "outputs": [],
   "source": [
    "def make_cloud(sent, subj):\n",
    "    word_dict = {}\n",
    "    for word in sent.split():\n",
    "        word_dict[word] = TextBlob(word).sentiment[1] + .00001\n",
    "\n",
    "    wordcloud = WordCloud(stopwords=stopwords)\n",
    "    wordcloud.generate_from_frequencies(frequencies=word_dict)\n",
    "    plt.figure(figsize=(8, 6))\n",
    "    plt.title('Subjective Words with From Abstract With Score of {}'.format(subj))\n",
    "    plt.imshow(wordcloud, interpolation=\"bilinear\")\n",
    "    plt.axis(\"off\")\n",
    "    plt.show()"
   ]
  },
  {
   "cell_type": "code",
   "execution_count": null,
   "metadata": {
    "collapsed": true
   },
   "outputs": [],
   "source": [
    "# .4 subjectivity\n",
    "a = df[(df['artist'] == 'sufjan stevens') & \n",
    "   (df['new_album'] == 1)]           \\\n",
    "   [['abstract', 'title', 'score', 'content', 'abs_subjectivity']].sort_values('abs_subjectivity').reset_index() \\\n",
    "    ['content'][1]"
   ]
  },
  {
   "cell_type": "code",
   "execution_count": null,
   "metadata": {
    "collapsed": true
   },
   "outputs": [],
   "source": [
    "make_cloud(a, .4)"
   ]
  },
  {
   "cell_type": "code",
   "execution_count": null,
   "metadata": {
    "collapsed": true
   },
   "outputs": [],
   "source": []
  },
  {
   "cell_type": "code",
   "execution_count": null,
   "metadata": {
    "collapsed": true
   },
   "outputs": [],
   "source": [
    "# .45 subjectivity\n",
    "b = df[(df['artist'] == 'sufjan stevens') & \n",
    "   (df['new_album'] == 1)]           \\\n",
    "   [['abstract', 'title', 'score', 'content', 'abs_subjectivity']].sort_values('abs_subjectivity').reset_index() \\\n",
    "    ['content'][4]"
   ]
  },
  {
   "cell_type": "code",
   "execution_count": null,
   "metadata": {
    "collapsed": true
   },
   "outputs": [],
   "source": [
    "make_cloud(b, .45)"
   ]
  },
  {
   "cell_type": "code",
   "execution_count": null,
   "metadata": {
    "collapsed": true
   },
   "outputs": [],
   "source": [
    "# .5 subjectivity\n",
    "c = df[(df['artist'] == 'sufjan stevens') & \n",
    "   (df['new_album'] == 1)]           \\\n",
    "   [['abstract', 'title', 'score', 'content', 'abs_subjectivity']].sort_values('abs_subjectivity').reset_index() \\\n",
    "    ['content'][8]"
   ]
  },
  {
   "cell_type": "code",
   "execution_count": null,
   "metadata": {
    "collapsed": true
   },
   "outputs": [],
   "source": [
    "make_cloud(c, .5)"
   ]
  },
  {
   "cell_type": "code",
   "execution_count": null,
   "metadata": {
    "collapsed": true
   },
   "outputs": [],
   "source": [
    "# .55 subjectivity\n",
    "d = df[(df['artist'] == 'sufjan stevens') & \n",
    "   (df['new_album'] == 1)]           \\\n",
    "   [['abstract', 'title', 'score', 'content', 'abs_subjectivity']].sort_values('abs_subjectivity').reset_index() \\\n",
    "    ['content'][11]"
   ]
  },
  {
   "cell_type": "code",
   "execution_count": null,
   "metadata": {
    "collapsed": true
   },
   "outputs": [],
   "source": [
    "make_cloud(d, .55)"
   ]
  },
  {
   "cell_type": "code",
   "execution_count": null,
   "metadata": {
    "collapsed": true
   },
   "outputs": [],
   "source": [
    "df[(df['artist'] == 'sufjan stevens') & \n",
    "   (df['new_album'] == 1)]           \\\n",
    "   [['abstract', 'title', 'score', 'cont_subjectivity']].sort_values('cont_subjectivity').reset_index() \\\n",
    "    "
   ]
  },
  {
   "cell_type": "code",
   "execution_count": null,
   "metadata": {
    "collapsed": true
   },
   "outputs": [],
   "source": [
    "df[(df['abs_subjectivity'] > .4) & \\\n",
    "   (df['abs_subjectivity'] < .41) & \\\n",
    "   (df['best_new_music'] == 1) &    \\\n",
    "   (df['new_album'] == 1)]           \\\n",
    "    ['abstract']"
   ]
  },
  {
   "cell_type": "code",
   "execution_count": null,
   "metadata": {
    "collapsed": true
   },
   "outputs": [],
   "source": [
    "d = df[(df['abs_subjectivity'] > .45) & \\\n",
    "   (df['abs_subjectivity'] < .46) & \\\n",
    "   (df['best_new_music'] == 1) &    \\\n",
    "   (df['new_album'] == 1)]           \\\n",
    "    ['abstract'][8568]"
   ]
  },
  {
   "cell_type": "code",
   "execution_count": null,
   "metadata": {
    "collapsed": true
   },
   "outputs": [],
   "source": [
    "df[(df['abs_subjectivity'] > .5) & \\\n",
    "   (df['abs_subjectivity'] < .51) & \\\n",
    "   (df['best_new_music'] == 1) &    \\\n",
    "   (df['new_album'] == 1)]           \\\n",
    "    ['abstract'][670]"
   ]
  },
  {
   "cell_type": "code",
   "execution_count": 80,
   "metadata": {
    "collapsed": true
   },
   "outputs": [],
   "source": [
    "kida = \"\"\"had never even seen a shooting star before. 25 years of rotations, passes through comets' paths, and travel, and to my memory I had never witnessed burning debris scratch across the night sky. Radiohead were hunched over their instruments. Thom Yorke slowly beat on a grand piano, singing, eyes closed, into his microphone like he was trying to kiss around a big nose. Colin Greenwood tapped patiently on a double bass, waiting for his cue. White pearls of arena light swam over their faces. A lazy disco light spilled artificial constellations inside the aluminum cove of the makeshift stage. The metal skeleton of the stage ate one end of Florence's Piazza Santa Croce, on the steps of the Santa Croce Cathedral. Michelangelo's bones and cobblestone laid beneath. I stared entranced, soaking in Radiohead's new material, chiseling each sound into the best functioning parts of my brain which would be the only sound system for the material for months.\n",
    "\n",
    "The butterscotch lamps along the walls of the tight city square bled upward into the cobalt sky, which seemed as strikingly artificial and perfect as a wizard's cap. The staccato piano chords ascended repeatedly. \"Black eyed angels swam at me,\" Yorke sang like his dying words. \"There was nothing to fear, nothing to hide.\" The trained critical part of me marked the similarity to Coltrane's \"Ole.\" The human part of me wept in awe.\n",
    "\n",
    "The Italians surrounding me held their breath in communion (save for the drunken few shouting \"Criep!\"). Suddenly, a rise of whistles and orgasmic cries swept unfittingly through the crowd. The song, \"Egyptian Song,\" was certainly momentous, but wasn't the response more apt for, well, \"Creep?\" I looked up. I thought it was fireworks. A teardrop of fire shot from space and disappeared behind the church where the syrupy River Arno crawled. Radiohead had the heavens on their side.\n",
    "\n",
    "For further testament, Chip Chanko and I both suffered auto-debilitating accidents in the same week, in different parts of the country, while blasting \"Airbag\" in our respective Japanese imports. For months, I feared playing the song about car crashes in my car, just as I'd feared passing 18- wheelers after nearly being crushed by one in 1990. With good reason, I suspect Radiohead to possess incomprehensible powers. The evidence is only compounded with Kid A-- the rubber match in the band's legacy-- an album which completely obliterates how albums, and Radiohead themselves, will be considered.\n",
    "\n",
    "Even the heralded OK Computer has been nudged down one spot in Valhalla. Kid A makes rock and roll childish. Considerations on its merits as \"rock\" (i.e. its radio fodder potential, its guitar riffs, and its hooks) are pointless. Comparing this to other albums is like comparing an aquarium to blue construction paper. And not because it's jazz or fusion or ambient or electronic. Classifications don't come to mind once deep inside this expansive, hypnotic world. Ransom, the philologist hero of C.S. Lewis' Out of the Silent Planet who is kidnapped and taken to another planet, initially finds his scholarship useless in his new surroundings, and just tries to survive the beautiful new world.\n",
    "\n",
    "This is an emotional, psychological experience. Kid A sounds like a clouded brain trying to recall an alien abduction. It's the sound of a band, and its leader, losing faith in themselves, destroying themselves, and subsequently rebuilding a perfect entity. In other words, Radiohead hated being Radiohead, but ended up with the most ideal, natural Radiohead record yet.\n",
    "\n",
    "\"Everything in Its Right Place\" opens like Close Encounters spaceships communicating with pipe organs. As your ears decide whether the tones are coming or going, Thom Yorke's Cuisinarted voice struggles for its tongue. \"Everything,\" Yorke belts in uplifting sighs. The first-person mantra of \"There are two colors in my head\" is repeated until the line between Yorke's mind and the listener's mind is erased.\n",
    "\n",
    "Skittering toy boxes open the album's title song, which, like the track \"Idioteque,\" shows a heavy Warp Records influence. The vocoder lullaby lulls you deceivingly before the riotous \"National Anthem.\" Mean, fuzzy bass shapes the spine as unnerving theremin choirs limn. Brash brass bursts from above like Terry Gilliam's animated foot. The horns swarm as Yorke screams, begs, \"Turn it off!\" It's the album's shrill peak, but just one of the incessant goosebumps raisers.\n",
    "\n",
    "After the rockets exhaust, Radiohead float in their lone orbit. \"How to Disappear Completely\" boils down \"Let Down\" and \"Karma Police\" to their spectral essence. The string-laden ballad comes closest to bridging Yorke's lyrical sentiment to the instrumental effect. \"I float down the Liffey/ I'm not here/ This isn't happening,\" he sings in his trademark falsetto. The strings melt and weep as the album shifts into its underwater mode. \"Treefingers,\" an ambient soundscape similar in sound and intent to Side B of Bowie and Eno's Low, calms after the record's emotionally strenuous first half.\n",
    "\n",
    "The primal, brooding guitar attack of \"Optimistic\" stomps like mating Tyrannosaurs. The lyrics seemingly taunt, \"Try the best you can/ Try the best you can,\" before revealing the more resigned sentiment, \"The best you can is good enough.\" For an album reportedly \"lacking\" in traditional Radiohead moments, this is the best summation of their former strengths. The track erodes into a light jam before morphing into \"In Limbo.\" \"I'm lost at sea,\" Yorke cries over clean, uneasy arpeggios. The ending flares with tractor beams as Yorke is vacuumed into nothingness. The aforementioned \"Idioteque\" clicks and thuds like Aphex Twin and Bjork's Homogenic, revealing brilliant new frontiers for the \"band.\" For all the noise to this point, it's uncertain entirely who or what has created the music. There are rarely traditional arrangements in the ambiguous origin. This is part of the unique thrill of experiencing Kid A.\n",
    "\n",
    "Pulsing organs and a stuttering snare delicately propel \"Morning Bell.\" Yorke's breath can be heard frosting over the rainy, gray jam. Words accumulate and stick in his mouth like eye crust. \"Walking walking walking walking,\" he mumbles while Jonny Greenwood squirts whale-chant feedback from his guitar. The closing \"Motion Picture Soundtrack\" brings to mind The White Album, as it somehow combines the sentiment of Lennon's LP1 closer-- the ode to his dead mother, \"Julia\"-- with Ringo and Paul's maudlin, yet sincere LP2 finale, \"Goodnight.\" Pump organ and harp flutter as Yorke condones with affection, \"I think you're crazy.\" To further emphasize your feeling at that moment and the album's overall theme, Yorke bows out with \"I will see you in the next life.\" If you're not already there with him.\n",
    "\n",
    "The experience and emotions tied to listening to Kid A are like witnessing the stillborn birth of a child while simultaneously having the opportunity to see her play in the afterlife on Imax. It's an album of sparking paradox. It's cacophonous yet tranquil, experimental yet familiar, foreign yet womb-like, spacious yet visceral, textured yet vaporous, awakening yet dreamlike, infinite yet 48 minutes. It will cleanse your brain of those little crustaceans of worries and inferior albums clinging inside the fold of your gray matter. The harrowing sounds hit from unseen angles and emanate with inhuman genesis. When the headphones peel off, and it occurs that six men (Nigel Godrich included) created this, it's clear that Radiohead must be the greatest band alive, if not the best since you know who. Breathing people made this record! And you can't wait to dive back in and try to prove that wrong over and over.\"\"\""
   ]
  },
  {
   "cell_type": "code",
   "execution_count": 82,
   "metadata": {
    "collapsed": true
   },
   "outputs": [],
   "source": [
    "df_kida = make_POS_df(kida, nlp)"
   ]
  },
  {
   "cell_type": "code",
   "execution_count": 101,
   "metadata": {},
   "outputs": [
    {
     "data": {
      "text/plain": [
       "''            NaN\n",
       ",       -0.015747\n",
       "-LRB-         NaN\n",
       "-RRB-         NaN\n",
       ".        0.019218\n",
       ":             NaN\n",
       "CC      -0.021445\n",
       "CD      -0.030377\n",
       "DT      -0.002227\n",
       "EX            NaN\n",
       "FW            NaN\n",
       "HYPH    -0.002951\n",
       "IN       0.016386\n",
       "JJ       0.031647\n",
       "JJR           NaN\n",
       "JJS     -0.004831\n",
       "MD            NaN\n",
       "NN      -0.003725\n",
       "NNP     -0.079736\n",
       "NNPS          NaN\n",
       "NNS     -0.011442\n",
       "PDT           NaN\n",
       "POS      0.007295\n",
       "PRP      0.011903\n",
       "PRP$     0.013500\n",
       "RB       0.035590\n",
       "RBR           NaN\n",
       "RBS           NaN\n",
       "RP            NaN\n",
       "TO       0.000020\n",
       "UH      -0.008873\n",
       "VB       0.016996\n",
       "VBD     -0.034643\n",
       "VBG      0.029122\n",
       "VBN     -0.029549\n",
       "VBP           NaN\n",
       "VBZ      0.031265\n",
       "WDT           NaN\n",
       "WP            NaN\n",
       "WRB     -0.000263\n",
       "_SP      0.001899\n",
       "``            NaN\n",
       "Name: tag, dtype: float64"
      ]
     },
     "execution_count": 101,
     "metadata": {},
     "output_type": "execute_result"
    }
   ],
   "source": [
    "df_kida['tag'].value_counts() / len(kida.split()) - df_wiki['tag'].value_counts() / len(wiki.split())"
   ]
  },
  {
   "cell_type": "code",
   "execution_count": 94,
   "metadata": {
    "collapsed": true
   },
   "outputs": [],
   "source": [
    "wiki = \"\"\"Kid A is the fourth studio album by the English rock band Radiohead, released on 2 October 2000 by Parlophone. After having suffered a breakdown promoting Radiohead's acclaimed 1997 album OK Computer, songwriter Thom Yorke envisioned a radical change in direction. The band replaced their rock sound with synthesisers, drum machines, the ondes Martenot, string orchestras and brass instruments, and incorporated influences from electronic music, krautrock, jazz, and 20th-century classical music. They recorded Kid A with OK Computer producer Nigel Godrich in Paris, Copenhagen, Gloucestershire and their hometown Oxford, England. The sessions produced over 20 tracks, and Radiohead split the work into two albums: Kid A, and Amnesiac, released the following year.\n",
    "\n",
    "Radiohead released no singles or music videos to promote Kid A and conducted few interviews and photoshoots. They became instead one of the first major acts to use the internet as a promotional tool; the album was made available to stream and was promoted with short animated films featuring music and artwork. Bootlegs of early performances were shared on file sharing services, and the album was leaked before release.\n",
    "\n",
    "Kid A debuted at the top of the charts in Britain, where it went platinum in the first week, and it became Radiohead's first number-one album in the United States. Like OK Computer, it won a Grammy for Best Alternative Album and was nominated for Album of the Year. Its departure from Radiohead's earlier sound divided fans and critics, but it later attracted widespread acclaim. At the turn of the decade, Rolling Stone, Pitchfork and the Times ranked Kid A the greatest album of the 2000s. In 2012, Rolling Stone ranked it number 67 on its list of the 500 greatest albums of all time.\"\"\""
   ]
  },
  {
   "cell_type": "code",
   "execution_count": 95,
   "metadata": {
    "collapsed": true
   },
   "outputs": [],
   "source": [
    "df_wiki = make_POS_df(wiki, nlp)"
   ]
  },
  {
   "cell_type": "code",
   "execution_count": 100,
   "metadata": {},
   "outputs": [
    {
     "data": {
      "text/plain": [
       "NN      0.167832\n",
       "NNP     0.157343\n",
       "IN      0.115385\n",
       "DT      0.104895\n",
       ",       0.080420\n",
       "NNS     0.076923\n",
       "VBD     0.062937\n",
       "JJ      0.062937\n",
       "CC      0.059441\n",
       "VBN     0.048951\n",
       ".       0.045455\n",
       "CD      0.038462\n",
       "PRP     0.024476\n",
       "PRP$    0.013986\n",
       "VB      0.010490\n",
       "JJS     0.010490\n",
       "TO      0.010490\n",
       "POS     0.010490\n",
       "UH      0.010490\n",
       "RB      0.010490\n",
       "VBG     0.010490\n",
       "_SP     0.006993\n",
       "HYPH    0.006993\n",
       ":       0.006993\n",
       "WRB     0.003497\n",
       "VBZ     0.003497\n",
       "JJR     0.003497\n",
       "Name: tag, dtype: float64"
      ]
     },
     "execution_count": 100,
     "metadata": {},
     "output_type": "execute_result"
    }
   ],
   "source": [
    "df_wiki['tag'].value_counts() / len(wiki.split())"
   ]
  },
  {
   "cell_type": "code",
   "execution_count": null,
   "metadata": {
    "collapsed": true
   },
   "outputs": [],
   "source": []
  }
 ],
 "metadata": {
  "kernelspec": {
   "display_name": "Python 2",
   "language": "python",
   "name": "python2"
  },
  "language_info": {
   "codemirror_mode": {
    "name": "ipython",
    "version": 2
   },
   "file_extension": ".py",
   "mimetype": "text/x-python",
   "name": "python",
   "nbconvert_exporter": "python",
   "pygments_lexer": "ipython2",
   "version": "2.7.13"
  }
 },
 "nbformat": 4,
 "nbformat_minor": 2
}
