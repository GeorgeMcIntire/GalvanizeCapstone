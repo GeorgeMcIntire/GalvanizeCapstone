{
 "cells": [
  {
   "cell_type": "code",
   "execution_count": 1,
   "metadata": {},
   "outputs": [],
   "source": [
    "import numpy as np\n",
    "import matplotlib.pyplot as plt\n",
    "%matplotlib inline\n",
    "\n",
    "# from textblob.sentiments import NaiveBayesAnalyzer\n",
    "\n",
    "import pandas as pd\n",
    "import sqlite3\n",
    "# from textblob import TextBlob\n",
    "\n",
    "import seaborn as sns\n",
    "sns.set(color_codes=True)\n",
    "\n",
    "# encoding=utf8\n",
    "# import sys\n",
    "# reload(sys)\n",
    "# sys.setdefaultencoding('utf8')"
   ]
  },
  {
   "cell_type": "code",
   "execution_count": 2,
   "metadata": {},
   "outputs": [
    {
     "name": "stdout",
     "output_type": "stream",
     "text": [
      "/Users/gstudent/Desktop\n"
     ]
    }
   ],
   "source": [
    "cd .."
   ]
  },
  {
   "cell_type": "markdown",
   "metadata": {},
   "source": [
    "# Loading the Data and EDA"
   ]
  },
  {
   "cell_type": "markdown",
   "metadata": {},
   "source": [
    "## Data Pipeline to Save CSV:"
   ]
  },
  {
   "cell_type": "code",
   "execution_count": null,
   "metadata": {
    "collapsed": true
   },
   "outputs": [],
   "source": [
    "#connect to databse\n",
    "conn = sqlite3.connect(\"../pitchfork-data/pitchfork.db\")\n",
    "#create dataframes for each table\n",
    "df = pd.read_sql_query(\"select * from reviews;\", conn)\n",
    "df_reviews = pd.read_sql_query(\"select * from content\", conn)\n",
    "df_years = pd.read_sql_query(\"select * from years;\", conn)\n",
    "df_genres = pd.read_sql_query(\"select * from genres\", conn)\n",
    "#create dummies to allow for multiple genres for each review\n",
    "df_genres = pd.get_dummies(df_genres, columns=['genre']).groupby('reviewid').sum().reset_index()\n"
   ]
  },
  {
   "cell_type": "code",
   "execution_count": null,
   "metadata": {
    "collapsed": true
   },
   "outputs": [],
   "source": [
    "#merge tables\n",
    "df = df.merge(df_years)\n",
    "df = df.merge(df_genres)\n",
    "df = df.merge(df_reviews).reset_index()\n",
    "\n",
    "\n",
    "df.year.fillna(value=df.pub_year, inplace=True)\n",
    "df.drop_duplicates('reviewid',inplace=True)\n",
    "df.drop(['index'], axis=1, inplace=True)\n",
    "df.drop('author_type', axis=1, inplace=True)\n",
    "df.year = df.year.astype(int)\n",
    "df = df[df['pub_year'] < 2018]"
   ]
  },
  {
   "cell_type": "markdown",
   "metadata": {},
   "source": [
    "# Feature Engineering"
   ]
  },
  {
   "cell_type": "code",
   "execution_count": null,
   "metadata": {
    "collapsed": true
   },
   "outputs": [],
   "source": [
    "#Reviews containing the following words are reissued albums\n",
    "list_of_words = ['reissue', 'remaster', 'box set', 'collector', 'delux']\n",
    "\n",
    "def parse_content_for_reissue(df, list_of_words):\n",
    "    df['reissue'] = 0\n",
    "    for each in list_of_words:\n",
    "        df['reissue'] = df['reissue'] + df['content'].str.contains(each).astype('int')\n",
    "    df['reissue'] = df['reissue'].astype(bool).astype(int)\n",
    "\n",
    "parse_content_for_reissue(df, list_of_words)"
   ]
  },
  {
   "cell_type": "code",
   "execution_count": null,
   "metadata": {
    "collapsed": true
   },
   "outputs": [],
   "source": [
    "df['first100'] = df['content'].str[0:1000]"
   ]
  },
  {
   "cell_type": "code",
   "execution_count": null,
   "metadata": {},
   "outputs": [],
   "source": [
    "df['first100'].str.contains('reissue').sum()"
   ]
  },
  {
   "cell_type": "code",
   "execution_count": null,
   "metadata": {},
   "outputs": [],
   "source": [
    "df['content'].str.contains('reissue').sum()"
   ]
  },
  {
   "cell_type": "code",
   "execution_count": null,
   "metadata": {
    "collapsed": true
   },
   "outputs": [],
   "source": [
    "#Reviews that were reviewed years after their release are classic albums\n",
    "df['num_years_since_release'] = df.pub_year - df.year\n",
    "\n",
    "df['new_album'] = ((df['reissue'] == 0) & (df['num_years_since_release'] <= 1)).astype(int)"
   ]
  },
  {
   "cell_type": "code",
   "execution_count": null,
   "metadata": {
    "collapsed": true
   },
   "outputs": [],
   "source": [
    "df['year-month'] = df['pub_date'].str[0:7]"
   ]
  },
  {
   "cell_type": "code",
   "execution_count": null,
   "metadata": {
    "collapsed": true
   },
   "outputs": [],
   "source": [
    "df.reset_index(inplace=True)"
   ]
  },
  {
   "cell_type": "code",
   "execution_count": null,
   "metadata": {
    "collapsed": true
   },
   "outputs": [],
   "source": [
    "def f(string):\n",
    "    return re.sub('[^A-Za-z0-9]+', ' ', string)\n",
    "\n",
    "df['content_stripped'] = df['content'].map(f)"
   ]
  },
  {
   "cell_type": "code",
   "execution_count": null,
   "metadata": {
    "collapsed": true
   },
   "outputs": [],
   "source": [
    "#Adding Sentiment Scores with TextBlob. This will come in handy later.\n",
    "\n",
    "sentiments = []\n",
    "for each in range(len(df['reviewid'])):\n",
    "    sentiments.append((df['reviewid'].iloc[each], TextBlob(df['content_stripped'][each]).sentiment[0], TextBlob(df['content_stripped'][each]).sentiment[1]))\n",
    "#                           TextBlob(df_mid['content'][each], analyzer=NaiveBayesAnalyzer()).sentiment))\n",
    "\n",
    "df_sent = pd.DataFrame(sentiments, columns=['reviewid', 'polarity', 'subjectivity'])"
   ]
  },
  {
   "cell_type": "code",
   "execution_count": null,
   "metadata": {
    "collapsed": true
   },
   "outputs": [],
   "source": [
    "df = df.merge(df_sent)"
   ]
  },
  {
   "cell_type": "code",
   "execution_count": null,
   "metadata": {
    "collapsed": true
   },
   "outputs": [],
   "source": [
    "df.drop('year-month', axis=1, inplace=True)"
   ]
  },
  {
   "cell_type": "code",
   "execution_count": null,
   "metadata": {
    "collapsed": true
   },
   "outputs": [],
   "source": [
    "df.to_csv('./pitchfork.csv')"
   ]
  },
  {
   "cell_type": "markdown",
   "metadata": {},
   "source": [
    "## Load the dataframe in via CSV:"
   ]
  },
  {
   "cell_type": "code",
   "execution_count": 3,
   "metadata": {
    "collapsed": true
   },
   "outputs": [],
   "source": [
    "df = pd.read_csv('pitchfork.csv')"
   ]
  },
  {
   "cell_type": "code",
   "execution_count": null,
   "metadata": {},
   "outputs": [],
   "source": []
  },
  {
   "cell_type": "code",
   "execution_count": 4,
   "metadata": {
    "collapsed": true
   },
   "outputs": [],
   "source": [
    "df_new = df[df['new_album'] == 1]\n",
    "df_reissue = df[df['new_album'] == 0]"
   ]
  },
  {
   "cell_type": "code",
   "execution_count": 5,
   "metadata": {},
   "outputs": [
    {
     "data": {
      "text/html": [
       "<div>\n",
       "<table border=\"1\" class=\"dataframe\">\n",
       "  <thead>\n",
       "    <tr style=\"text-align: right;\">\n",
       "      <th></th>\n",
       "      <th>Unnamed: 0</th>\n",
       "      <th>index</th>\n",
       "      <th>reviewid</th>\n",
       "      <th>title</th>\n",
       "      <th>artist</th>\n",
       "      <th>url</th>\n",
       "      <th>score</th>\n",
       "      <th>best_new_music</th>\n",
       "      <th>author</th>\n",
       "      <th>pub_date</th>\n",
       "      <th>...</th>\n",
       "      <th>genre_pop/r&amp;b</th>\n",
       "      <th>genre_rap</th>\n",
       "      <th>genre_rock</th>\n",
       "      <th>content</th>\n",
       "      <th>reissue</th>\n",
       "      <th>num_years_since_release</th>\n",
       "      <th>new_album</th>\n",
       "      <th>content_stripped</th>\n",
       "      <th>polarity</th>\n",
       "      <th>subjectivity</th>\n",
       "    </tr>\n",
       "  </thead>\n",
       "  <tbody>\n",
       "    <tr>\n",
       "      <th>0</th>\n",
       "      <td>0</td>\n",
       "      <td>15</td>\n",
       "      <td>5a3aa14cdea49a0a938ccb18</td>\n",
       "      <td>merry christmas lil mama: re-wrapped</td>\n",
       "      <td>chance the rapper, jeremih</td>\n",
       "      <td>https://pitchfork.com/reviews/albums/merry-chr...</td>\n",
       "      <td>7.7</td>\n",
       "      <td>0</td>\n",
       "      <td>marc hogan</td>\n",
       "      <td>2017-12-22</td>\n",
       "      <td>...</td>\n",
       "      <td>1</td>\n",
       "      <td>1</td>\n",
       "      <td>0</td>\n",
       "      <td>A year ago, when Chance the Rapper and Jeremih...</td>\n",
       "      <td>0</td>\n",
       "      <td>0.0</td>\n",
       "      <td>1</td>\n",
       "      <td>A year ago when Chance the Rapper and Jeremih ...</td>\n",
       "      <td>0.153441</td>\n",
       "      <td>0.481077</td>\n",
       "    </tr>\n",
       "    <tr>\n",
       "      <th>1</th>\n",
       "      <td>1</td>\n",
       "      <td>16</td>\n",
       "      <td>5a2eacf785030943c5158845</td>\n",
       "      <td>pressure</td>\n",
       "      <td>jeezy</td>\n",
       "      <td>https://pitchfork.com/reviews/albums/pressure/</td>\n",
       "      <td>6.3</td>\n",
       "      <td>0</td>\n",
       "      <td>sheldon pearce</td>\n",
       "      <td>2017-12-22</td>\n",
       "      <td>...</td>\n",
       "      <td>0</td>\n",
       "      <td>1</td>\n",
       "      <td>0</td>\n",
       "      <td>For nearly a decade, Jeezy was an unwavering p...</td>\n",
       "      <td>0</td>\n",
       "      <td>0.0</td>\n",
       "      <td>1</td>\n",
       "      <td>For nearly a decade Jeezy was an unwavering pu...</td>\n",
       "      <td>0.101797</td>\n",
       "      <td>0.443825</td>\n",
       "    </tr>\n",
       "    <tr>\n",
       "      <th>2</th>\n",
       "      <td>2</td>\n",
       "      <td>17</td>\n",
       "      <td>5a0a0f9fd5ec0a321fb119a2</td>\n",
       "      <td>the beautiful &amp; damned</td>\n",
       "      <td>g-eazy</td>\n",
       "      <td>https://pitchfork.com/reviews/albums/g-eazy-th...</td>\n",
       "      <td>5.1</td>\n",
       "      <td>0</td>\n",
       "      <td>sheldon pearce</td>\n",
       "      <td>2017-12-21</td>\n",
       "      <td>...</td>\n",
       "      <td>0</td>\n",
       "      <td>1</td>\n",
       "      <td>0</td>\n",
       "      <td>F. Scott Fitzgerald’s 1922 novel The Beautiful...</td>\n",
       "      <td>0</td>\n",
       "      <td>0.0</td>\n",
       "      <td>1</td>\n",
       "      <td>F Scott Fitzgerald s 1922 novel The Beautiful ...</td>\n",
       "      <td>-0.031560</td>\n",
       "      <td>0.669026</td>\n",
       "    </tr>\n",
       "    <tr>\n",
       "      <th>3</th>\n",
       "      <td>3</td>\n",
       "      <td>18</td>\n",
       "      <td>5a285f957d91d040cf1e35e1</td>\n",
       "      <td>quiet storm</td>\n",
       "      <td>shy glizzy</td>\n",
       "      <td>https://pitchfork.com/reviews/albums/shy-glizz...</td>\n",
       "      <td>7.1</td>\n",
       "      <td>0</td>\n",
       "      <td>jay balfour</td>\n",
       "      <td>2017-12-21</td>\n",
       "      <td>...</td>\n",
       "      <td>0</td>\n",
       "      <td>1</td>\n",
       "      <td>0</td>\n",
       "      <td>All the way through 2017, Shy Glizzy’s voice h...</td>\n",
       "      <td>0</td>\n",
       "      <td>0.0</td>\n",
       "      <td>1</td>\n",
       "      <td>All the way through 2017 Shy Glizzy s voice ha...</td>\n",
       "      <td>0.123483</td>\n",
       "      <td>0.473003</td>\n",
       "    </tr>\n",
       "    <tr>\n",
       "      <th>4</th>\n",
       "      <td>4</td>\n",
       "      <td>19</td>\n",
       "      <td>5a2eb9d5a31af72b3b598039</td>\n",
       "      <td>pop 2</td>\n",
       "      <td>charli xcx</td>\n",
       "      <td>https://pitchfork.com/reviews/albums/charli-xc...</td>\n",
       "      <td>8.4</td>\n",
       "      <td>1</td>\n",
       "      <td>meaghan garvey</td>\n",
       "      <td>2017-12-20</td>\n",
       "      <td>...</td>\n",
       "      <td>1</td>\n",
       "      <td>0</td>\n",
       "      <td>0</td>\n",
       "      <td>Maybe some people look at Sophia, the world’s ...</td>\n",
       "      <td>0</td>\n",
       "      <td>0.0</td>\n",
       "      <td>1</td>\n",
       "      <td>Maybe some people look at Sophia the world s f...</td>\n",
       "      <td>0.111965</td>\n",
       "      <td>0.497445</td>\n",
       "    </tr>\n",
       "  </tbody>\n",
       "</table>\n",
       "<p>5 rows × 31 columns</p>\n",
       "</div>"
      ],
      "text/plain": [
       "   Unnamed: 0  index                  reviewid  \\\n",
       "0           0     15  5a3aa14cdea49a0a938ccb18   \n",
       "1           1     16  5a2eacf785030943c5158845   \n",
       "2           2     17  5a0a0f9fd5ec0a321fb119a2   \n",
       "3           3     18  5a285f957d91d040cf1e35e1   \n",
       "4           4     19  5a2eb9d5a31af72b3b598039   \n",
       "\n",
       "                                  title                      artist  \\\n",
       "0  merry christmas lil mama: re-wrapped  chance the rapper, jeremih   \n",
       "1                              pressure                       jeezy   \n",
       "2                the beautiful & damned                      g-eazy   \n",
       "3                           quiet storm                  shy glizzy   \n",
       "4                                 pop 2                  charli xcx   \n",
       "\n",
       "                                                 url  score  best_new_music  \\\n",
       "0  https://pitchfork.com/reviews/albums/merry-chr...    7.7               0   \n",
       "1     https://pitchfork.com/reviews/albums/pressure/    6.3               0   \n",
       "2  https://pitchfork.com/reviews/albums/g-eazy-th...    5.1               0   \n",
       "3  https://pitchfork.com/reviews/albums/shy-glizz...    7.1               0   \n",
       "4  https://pitchfork.com/reviews/albums/charli-xc...    8.4               1   \n",
       "\n",
       "           author    pub_date      ...       genre_pop/r&b  genre_rap  \\\n",
       "0      marc hogan  2017-12-22      ...                   1          1   \n",
       "1  sheldon pearce  2017-12-22      ...                   0          1   \n",
       "2  sheldon pearce  2017-12-21      ...                   0          1   \n",
       "3     jay balfour  2017-12-21      ...                   0          1   \n",
       "4  meaghan garvey  2017-12-20      ...                   1          0   \n",
       "\n",
       "   genre_rock                                            content  reissue  \\\n",
       "0           0  A year ago, when Chance the Rapper and Jeremih...        0   \n",
       "1           0  For nearly a decade, Jeezy was an unwavering p...        0   \n",
       "2           0  F. Scott Fitzgerald’s 1922 novel The Beautiful...        0   \n",
       "3           0  All the way through 2017, Shy Glizzy’s voice h...        0   \n",
       "4           0  Maybe some people look at Sophia, the world’s ...        0   \n",
       "\n",
       "   num_years_since_release  new_album  \\\n",
       "0                      0.0          1   \n",
       "1                      0.0          1   \n",
       "2                      0.0          1   \n",
       "3                      0.0          1   \n",
       "4                      0.0          1   \n",
       "\n",
       "                                    content_stripped  polarity  subjectivity  \n",
       "0  A year ago when Chance the Rapper and Jeremih ...  0.153441      0.481077  \n",
       "1  For nearly a decade Jeezy was an unwavering pu...  0.101797      0.443825  \n",
       "2  F Scott Fitzgerald s 1922 novel The Beautiful ... -0.031560      0.669026  \n",
       "3  All the way through 2017 Shy Glizzy s voice ha...  0.123483      0.473003  \n",
       "4  Maybe some people look at Sophia the world s f...  0.111965      0.497445  \n",
       "\n",
       "[5 rows x 31 columns]"
      ]
     },
     "execution_count": 5,
     "metadata": {},
     "output_type": "execute_result"
    }
   ],
   "source": [
    "df.head()"
   ]
  },
  {
   "cell_type": "markdown",
   "metadata": {},
   "source": [
    "# What Are We Dealing With Here?"
   ]
  },
  {
   "cell_type": "markdown",
   "metadata": {},
   "source": [
    "I ran a scraper on Jan 6, 2017 (credit to Nolan Conaway for creating the scraper -- I updated the scraper to accomodate changes to Pitchfork's html, and add columns for Best New Reissue and the Abstract), and captured 19,626 reviews dating back to 1999. The scrape includes the Artist, Album Name (title), Author, publication information, a bool column for each genre (some reviews have multiple listed), bools for Best New Music, Best New Reissue, and engineered features for whether it is a new release or a review of a previously released album. I also calculated a few sentiment scores, which will be explored later in the notebook."
   ]
  },
  {
   "cell_type": "code",
   "execution_count": 33,
   "metadata": {},
   "outputs": [
    {
     "name": "stdout",
     "output_type": "stream",
     "text": [
      "<class 'pandas.core.frame.DataFrame'>\n",
      "RangeIndex: 19626 entries, 0 to 19625\n",
      "Data columns (total 31 columns):\n",
      "Unnamed: 0                 19626 non-null int64\n",
      "index                      19626 non-null int64\n",
      "reviewid                   19626 non-null object\n",
      "title                      19621 non-null object\n",
      "artist                     19624 non-null object\n",
      "url                        19626 non-null object\n",
      "score                      19626 non-null float64\n",
      "best_new_music             19626 non-null int64\n",
      "author                     19626 non-null object\n",
      "pub_date                   19626 non-null object\n",
      "pub_weekday                19626 non-null int64\n",
      "pub_day                    19626 non-null int64\n",
      "pub_month                  19626 non-null int64\n",
      "pub_year                   19626 non-null int64\n",
      "year                       19221 non-null float64\n",
      "genre_electronic           19626 non-null int64\n",
      "genre_experimental         19626 non-null int64\n",
      "genre_folk/country         19626 non-null int64\n",
      "genre_global               19626 non-null int64\n",
      "genre_jazz                 19626 non-null int64\n",
      "genre_metal                19626 non-null int64\n",
      "genre_pop/r&b              19626 non-null int64\n",
      "genre_rap                  19626 non-null int64\n",
      "genre_rock                 19626 non-null int64\n",
      "content                    19624 non-null object\n",
      "reissue                    19626 non-null int64\n",
      "num_years_since_release    19221 non-null float64\n",
      "new_album                  19626 non-null int64\n",
      "content_stripped           19624 non-null object\n",
      "polarity                   19626 non-null float64\n",
      "subjectivity               19626 non-null float64\n",
      "dtypes: float64(5), int64(18), object(8)\n",
      "memory usage: 4.6+ MB\n"
     ]
    }
   ],
   "source": [
    "df.info()"
   ]
  },
  {
   "cell_type": "code",
   "execution_count": null,
   "metadata": {
    "scrolled": true
   },
   "outputs": [],
   "source": []
  },
  {
   "cell_type": "markdown",
   "metadata": {},
   "source": [
    "Pitchfork increased the number of reviews published per year for its first few years. Since 2005, Pitchfork published ~1,200 reviews per year."
   ]
  },
  {
   "cell_type": "code",
   "execution_count": 32,
   "metadata": {},
   "outputs": [
    {
     "data": {
      "image/png": "[encoded data removed]",
      "text/plain": [
       "<matplotlib.figure.Figure at 0x111e25d50>"
      ]
     },
     "metadata": {},
     "output_type": "display_data"
    }
   ],
   "source": [
    "plt.title('Count of Total Reviews by Year')\n",
    "plt.plot(df.groupby('pub_year').count()['reviewid'])\n",
    "plt.xticks(range(1999,2018), rotation=45)\n",
    "plt.show()"
   ]
  },
  {
   "cell_type": "markdown",
   "metadata": {},
   "source": [
    "Pitchfork's \"Best New Music\" designation was introduced in 2003. Since 2009, Pitchfork labels between 80 and 100 albums as Best New Music.\n",
    "\n",
    "\n",
    "#### TODO: Add Best New Reissue"
   ]
  },
  {
   "cell_type": "code",
   "execution_count": 30,
   "metadata": {
    "scrolled": false
   },
   "outputs": [
    {
     "data": {
      "image/png": "[encoded data removed]",
      "text/plain": [
       "<matplotlib.figure.Figure at 0x111684ad0>"
      ]
     },
     "metadata": {},
     "output_type": "display_data"
    }
   ],
   "source": [
    "plt.plot(df.groupby('pub_year').sum()['best_new_music'])\n",
    "plt.title(\"Count of Best New Music Reviews Per Year\")\n",
    "plt.xticks(range(1999,2018), rotation=45)\n",
    "plt.show()"
   ]
  },
  {
   "cell_type": "markdown",
   "metadata": {},
   "source": [
    "Best New Music albums usually receive a score of 8.3 or higher, though this is not a hard-and-fast rule."
   ]
  },
  {
   "cell_type": "code",
   "execution_count": 28,
   "metadata": {},
   "outputs": [
    {
     "data": {
      "image/png": "[encoded data removed]",
      "text/plain": [
       "<matplotlib.figure.Figure at 0x11206df90>"
      ]
     },
     "metadata": {},
     "output_type": "display_data"
    }
   ],
   "source": [
    "plt.hist(df[df['best_new_music'] == 1]['score'], bins=20)\n",
    "plt.show()"
   ]
  },
  {
   "cell_type": "markdown",
   "metadata": {},
   "source": [
    "# Distribution of Scores"
   ]
  },
  {
   "cell_type": "markdown",
   "metadata": {},
   "source": [
    "The overall distribution of scores (for all albums on Pitchfork) is left skewed with a mean of 7.03. There is some expected selection bias, where Pitchfork generally reviews albums that are good enough for its readers to consume. Reviews with very low scores are either released by notable artists, or are written for entertainment value."
   ]
  },
  {
   "cell_type": "code",
   "execution_count": null,
   "metadata": {},
   "outputs": [],
   "source": [
    "sns.distplot(df['score'], bins=30)\n",
    "plt.title(\"Review Distribution - All\")\n",
    "\n",
    "plt.show()\n",
    "\n",
    "print \"Overall Mean:\", df['score'].mean()"
   ]
  },
  {
   "cell_type": "markdown",
   "metadata": {},
   "source": [
    "The yearly mean score gradually decreased from 1999 to 2007, gradually increased from 2007 to 2012, and has fluctuated greatly since then. This could be due to editorial inflation/deflation, or natural fluctuation in the quality of music released year over year."
   ]
  },
  {
   "cell_type": "code",
   "execution_count": null,
   "metadata": {},
   "outputs": [],
   "source": [
    "plt.plot(df_new['pub_year'].unique(), df_new.groupby('pub_year')['score'].median())\n",
    "plt.xticks(range(1999, 2018), rotation=45)\n",
    "plt.title('Median Score by Year')\n",
    "plt.show()"
   ]
  },
  {
   "cell_type": "code",
   "execution_count": null,
   "metadata": {},
   "outputs": [],
   "source": [
    "plt.plot(df_new['pub_year'].unique(), df_new.groupby('pub_year')['score'].mean())\n",
    "plt.title('Mean Score by Year')\n",
    "plt.xticks(range(1999, 2018), rotation=45)\n",
    "plt.show()"
   ]
  },
  {
   "cell_type": "code",
   "execution_count": null,
   "metadata": {},
   "outputs": [],
   "source": [
    "plt.title(\"Review Distribution - New Releases\")\n",
    "sns.distplot(df_new['score'], bins=30)\n",
    "plt.show()"
   ]
  },
  {
   "cell_type": "markdown",
   "metadata": {},
   "source": [
    "## The distribution of scores given has shrunk over the past several years "
   ]
  },
  {
   "cell_type": "code",
   "execution_count": null,
   "metadata": {
    "collapsed": true
   },
   "outputs": [],
   "source": [
    "df_new[(df_new['score'] <= 3) & (df_new['pub_year'] > 2012)]\n",
    "pass"
   ]
  },
  {
   "cell_type": "code",
   "execution_count": null,
   "metadata": {
    "collapsed": true
   },
   "outputs": [],
   "source": [
    "years = np.arange(1999, 2018)\n",
    "less3 = list(df_new[df_new['score'] <= 3].groupby('pub_year').count()['reviewid'] / (df_new.groupby('pub_year')['reviewid'].count().astype(float)))\n",
    "less6 = list(df_new[df_new['score'] <= 6].groupby('pub_year').count()['reviewid'] / (df_new.groupby('pub_year')['reviewid'].count().astype(float)))\n",
    "more9 = list(df_new[df_new['score'] >= 9].groupby('pub_year').count()['reviewid'] / (df_new.groupby('pub_year')['reviewid'].count().astype(float)))\n",
    "reis_more9 = list(df_reissue[df_reissue['score'] >= 9].groupby('pub_year').count()['reviewid'] / (df_reissue.groupby('pub_year')['reviewid'].count().astype(float)))"
   ]
  },
  {
   "cell_type": "markdown",
   "metadata": {},
   "source": [
    "Pitchfork has sharply decreased its frequency of giving scathing reviews"
   ]
  },
  {
   "cell_type": "code",
   "execution_count": null,
   "metadata": {},
   "outputs": [],
   "source": [
    "plt.bar(years, less3)\n",
    "plt.xticks(years, range(1999, 2018),rotation =45)\n",
    "plt.title(\"Percentage of Reviews Scoring < 3\")\n",
    "plt.show()"
   ]
  },
  {
   "cell_type": "markdown",
   "metadata": {},
   "source": [
    "It's becoming more rare to see albums scoring below a 6. Nearly 90% of reviews in 2017 were 6+."
   ]
  },
  {
   "cell_type": "code",
   "execution_count": null,
   "metadata": {},
   "outputs": [],
   "source": [
    "plt.bar(years, less6)\n",
    "plt.xticks(years, range(1999, 2018),rotation =45)\n",
    "plt.title(\"Percentage of Reviews Scoring < 6\")\n",
    "\n",
    "plt.show()"
   ]
  },
  {
   "cell_type": "markdown",
   "metadata": {},
   "source": [
    "Albums scoring above 9 are still a rare commodity"
   ]
  },
  {
   "cell_type": "code",
   "execution_count": null,
   "metadata": {},
   "outputs": [],
   "source": [
    "plt.bar(years, more9)\n",
    "plt.xticks(years, range(1999, 2018),rotation =45)\n",
    "plt.title(\"Percentage of Reviews Scoring Above 9\")\n",
    "\n",
    "plt.show()"
   ]
  },
  {
   "cell_type": "markdown",
   "metadata": {},
   "source": [
    "...Except in the case of classic albums and reissues."
   ]
  },
  {
   "cell_type": "code",
   "execution_count": null,
   "metadata": {},
   "outputs": [],
   "source": [
    "plt.bar(years, reis_more9)\n",
    "plt.xticks(years, range(1999, 2018),rotation =45)\n",
    "plt.title(\"Percentage of Classic/Reissue Reviews Scoring Above 9\")\n",
    "\n",
    "plt.show()"
   ]
  },
  {
   "cell_type": "code",
   "execution_count": null,
   "metadata": {
    "collapsed": true
   },
   "outputs": [],
   "source": [
    "def plot_violins(df):\n",
    "    years = list(df.pub_year.unique())\n",
    "    score_dist = {1999: [],}\n",
    "    for score,year in zip(df.score.astype(list), df.pub_year.astype(list)):\n",
    "        if year not in score_dist.keys():\n",
    "            score_dist[year] = []\n",
    "        else:\n",
    "            score_dist[year] = score_dist[year] + [score]\n",
    "\n",
    "    plt.hlines(df['score'].mean(), 1998, 2018, linestyles='dashed')\n",
    "    for each in years:\n",
    "        plt.xticks(years, fontsize=18, rotation=45)\n",
    "        plt.yticks(range(0,11), fontsize=18)\n",
    "        if each == 2018:\n",
    "            continue\n",
    "        plt.violinplot(np.array(score_dist[each]), [each], widths=1,showmedians=True,showextrema=True)\n",
    "    plt.ylabel('Score', fontsize=20)\n",
    "    plt.xlabel('Year', fontsize=20)"
   ]
  },
  {
   "cell_type": "markdown",
   "metadata": {},
   "source": [
    "The overall distribution of scores has condensed. There hasn't been an album with a score lower than 2 since 2013."
   ]
  },
  {
   "cell_type": "code",
   "execution_count": null,
   "metadata": {
    "collapsed": true
   },
   "outputs": [],
   "source": [
    "def box_plots_score(df):\n",
    "    years = list(df.pub_year.unique())\n",
    "    score_dist = {1999: [],}\n",
    "    for score,year in zip(df.score.astype(list), df.pub_year.astype(list)):\n",
    "        if year not in score_dist.keys():\n",
    "            score_dist[year] = []\n",
    "        else:\n",
    "            score_dist[year] = score_dist[year] + [score]\n",
    "    plt.boxplot([score_dist[year] for year in range(1999,2018)], patch_artist=True)\n"
   ]
  },
  {
   "cell_type": "code",
   "execution_count": null,
   "metadata": {},
   "outputs": [],
   "source": [
    "plt.plot(df.groupby('pub_year')['score'].min())\n",
    "plt.xticks(np.arange(1999,2018), rotation=45)\n",
    "plt.yticks(np.arange(0,3,.5), np.arange(0,3,.5))\n",
    "plt.title(\"Lowest Score Given Per Year\")\n",
    "plt.show()"
   ]
  },
  {
   "cell_type": "code",
   "execution_count": null,
   "metadata": {},
   "outputs": [],
   "source": [
    "plt.figure(figsize=(18, 10))\n",
    "plt.title(\"Score Distribution by Year -- All Albums\")\n",
    "box_plots_score(df)\n",
    "plt.xticks(range(1,20), range(1999,2018), rotation=45)\n",
    "plt.show()"
   ]
  },
  {
   "cell_type": "code",
   "execution_count": null,
   "metadata": {
    "scrolled": false
   },
   "outputs": [],
   "source": [
    "plt.figure(figsize=(18,10))\n",
    "plt.title(\"Score Distribution by Year -- New Albums\")\n",
    "box_plots_score(df_new)\n",
    "plt.xticks(range(1,20), range(1999,2018), rotation=45)\n",
    "plt.show()"
   ]
  },
  {
   "cell_type": "code",
   "execution_count": null,
   "metadata": {
    "scrolled": false
   },
   "outputs": [],
   "source": [
    "plt.figure(figsize=(18,10))\n",
    "plt.title(\"Score Distribution by Year -- Reissues/Classic Albums\")\n",
    "box_plots_score(df_reissue)\n",
    "plt.xticks(range(1,20), range(1999,2018), rotation=45)\n",
    "plt.show()"
   ]
  },
  {
   "cell_type": "code",
   "execution_count": null,
   "metadata": {},
   "outputs": [],
   "source": [
    "score_by_year = df_new.groupby('pub_year').agg(['mean', 'max','min','count','sum']).reset_index()\n",
    "\n",
    "score_by_year['percent_bnm'] = score_by_year['best_new_music']['sum'] / score_by_year['score']['count']\n",
    "\n",
    "plt.plot(score_by_year['pub_year'][4:19], score_by_year['percent_bnm'][4:19])\n",
    "plt.title('Best New Music Frequency')\n",
    "plt.xticks(score_by_year['pub_year'][4:19], rotation=45)\n",
    "plt.yticks()\n",
    "plt.xlabel('Year')\n",
    "plt.ylabel('% of Albums Named Best New Music')\n",
    "plt.show()"
   ]
  },
  {
   "cell_type": "markdown",
   "metadata": {},
   "source": [
    "# Basic NLP"
   ]
  },
  {
   "cell_type": "markdown",
   "metadata": {},
   "source": [
    "I'm using TextBlob to measure the polarity and subjectivity of each review. Polarity is a score between [-1, 1] measuring positivity of text, and subjectivity is a score between [0, 1] where scores closer to 1 are more subjective."
   ]
  },
  {
   "cell_type": "code",
   "execution_count": null,
   "metadata": {},
   "outputs": [],
   "source": [
    "df.groupby('pub_year')['subjectivity'].mean()"
   ]
  },
  {
   "cell_type": "code",
   "execution_count": null,
   "metadata": {},
   "outputs": [],
   "source": [
    "plt.plot(df['pub_year'].unique()[::-1], df.groupby('pub_year')['subjectivity'].mean())\n",
    "plt.xticks(years, rotation=45)\n",
    "plt.xlabel('Year')\n",
    "plt.ylabel('Subjectivity')\n",
    "plt.title('Avg Subjectivity by Year')\n",
    "plt.show()"
   ]
  },
  {
   "cell_type": "code",
   "execution_count": null,
   "metadata": {
    "collapsed": true
   },
   "outputs": [],
   "source": [
    "df['score_bin'] = (df['score'] // 1).astype(int)\n",
    "\n",
    "def plot_subj_violins_score(df, genre='all genres'):\n",
    "    scores = list(df.score_bin.unique())\n",
    "    pol_dist = {1: [],}\n",
    "    for pol,score in zip(df.subjectivity.astype(list), df.score_bin.astype(list)):\n",
    "        if score not in pol_dist.keys():\n",
    "            pol_dist[score] = []\n",
    "        else:\n",
    "            pol_dist[score] = pol_dist[score] + [pol]\n",
    "\n",
    "    plt.figure(figsize=(30,14))\n",
    "#     plt.hlines(df['subjectivity'].mean(), 0, 10, linestyles='dotted')\n",
    "    for each in scores:\n",
    "        plt.xticks(range(0,11), fontsize=16)\n",
    "        plt.violinplot(np.array(pol_dist[each]), [each], widths=1,showmedians=True,showextrema=True)\n",
    "    plt.title('Subjectivity Distribution by Score ({})'.format(genre), fontsize=24)\n",
    "    plt.ylabel('Subjectivity', fontsize=16)\n",
    "    plt.xlabel('Binned Score', fontsize=16)"
   ]
  },
  {
   "cell_type": "code",
   "execution_count": null,
   "metadata": {},
   "outputs": [],
   "source": [
    "df_bnm = df_new[df_new['best_new_music'] == 1]\n",
    "plt.plot(df_bnm['pub_year'].unique()[::-1], df_bnm.groupby('pub_year')['subjectivity'].mean())\n",
    "plt.xticks(years, rotation=45)\n",
    "plt.title('Subjectivity by Year - Best New Music')\n",
    "plt.xlabel('Year')\n",
    "plt.ylabel('Subjectivity')\n",
    "plt.show()"
   ]
  },
  {
   "cell_type": "code",
   "execution_count": null,
   "metadata": {
    "collapsed": true
   },
   "outputs": [],
   "source": [
    "def plot_subj_violins(df):\n",
    "    years = list(df.pub_year.unique())\n",
    "    score_dist = {1999: [],}\n",
    "    for score,year in zip(df.subjectivity.astype(list), df.pub_year.astype(list)):\n",
    "        if year not in score_dist.keys():\n",
    "            score_dist[year] = []\n",
    "        else:\n",
    "            score_dist[year] = score_dist[year] + [score]\n",
    "    print score_dist\n",
    "#     plt.hlines(df['score'].mean(), 1998, 2018, linestyles='dashed')\n",
    "    plt.boxplot(score_dist)\n",
    "#     for each in years:\n",
    "#         plt.xticks(years, rotation=45)\n",
    "# #         plt.yticks(range(0,11), fontsize=18)\n",
    "#         if each == 2018:\n",
    "#             continue\n",
    "#         plt.violinplot(np.array(score_dist[each]), [each], widths=1,showmedians=True,showextrema=True)\n",
    "#     plt.ylabel('Score')\n",
    "#     plt.xlabel('Year')"
   ]
  },
  {
   "cell_type": "code",
   "execution_count": null,
   "metadata": {
    "collapsed": true
   },
   "outputs": [],
   "source": [
    "def box_plots_subj(df):\n",
    "    years = list(df.pub_year.unique())\n",
    "    score_dist = {1999: [],}\n",
    "    for score,year in zip(df.subjectivity.astype(list), df.pub_year.astype(list)):\n",
    "        if year not in score_dist.keys():\n",
    "            score_dist[year] = []\n",
    "        else:\n",
    "            score_dist[year] = score_dist[year] + [score]\n",
    "    plt.boxplot([score_dist[year] for year in range(1999,2018)], patch_artist=True)\n"
   ]
  },
  {
   "cell_type": "code",
   "execution_count": null,
   "metadata": {},
   "outputs": [],
   "source": [
    "plt.figure(figsize=(18,12))\n",
    "plt.grid(True)\n",
    "box_plots_subj(df)\n",
    "plt.ylim(.3, .65)\n",
    "plt.xticks(range(1,20), range(1999,2018), rotation=45)\n",
    "plt.title('Subjectivity Distribution by Year')\n",
    "plt.xlabel('Year')\n",
    "plt.ylabel('Subjectivity')\n",
    "plt.show()"
   ]
  },
  {
   "cell_type": "code",
   "execution_count": null,
   "metadata": {
    "collapsed": true
   },
   "outputs": [],
   "source": []
  },
  {
   "cell_type": "markdown",
   "metadata": {},
   "source": [
    "## Simple Linear Regression Using Subjectivity/Polarity"
   ]
  },
  {
   "cell_type": "code",
   "execution_count": null,
   "metadata": {},
   "outputs": [],
   "source": [
    "plt.scatter(df_new['polarity'], df_new['score'])\n",
    "plt.show()"
   ]
  },
  {
   "cell_type": "code",
   "execution_count": null,
   "metadata": {
    "collapsed": true
   },
   "outputs": [],
   "source": [
    "import statsmodels.api as sm"
   ]
  },
  {
   "cell_type": "code",
   "execution_count": null,
   "metadata": {},
   "outputs": [],
   "source": [
    "Y = df['score']\n",
    "X = df[['polarity', 'pub_year', 'new_album', 'genre_rock']]\n",
    "X = sm.add_constant(X)\n",
    "\n",
    "model = sm.OLS(Y,X)\n",
    "results = model.fit()\n",
    "results.summary()"
   ]
  },
  {
   "cell_type": "code",
   "execution_count": null,
   "metadata": {
    "collapsed": true
   },
   "outputs": [],
   "source": []
  }
 ],
 "metadata": {
  "kernelspec": {
   "display_name": "Python 2",
   "language": "python",
   "name": "python2"
  },
  "language_info": {
   "codemirror_mode": {
    "name": "ipython",
    "version": 2
   },
   "file_extension": ".py",
   "mimetype": "text/x-python",
   "name": "python",
   "nbconvert_exporter": "python",
   "pygments_lexer": "ipython2",
   "version": "2.7.13"
  }
 },
 "nbformat": 4,
 "nbformat_minor": 2
}
