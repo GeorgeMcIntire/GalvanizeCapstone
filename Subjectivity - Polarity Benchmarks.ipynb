{
 "cells": [
  {
   "cell_type": "code",
   "execution_count": 1,
   "metadata": {
    "collapsed": true
   },
   "outputs": [],
   "source": [
    "from textblob import TextBlob\n",
    "from textblob.sentiments import NaiveBayesAnalyzer\n",
    "import matplotlib.pyplot as plt\n",
    "%matplotlib inline"
   ]
  },
  {
   "cell_type": "code",
   "execution_count": 3,
   "metadata": {
    "collapsed": true
   },
   "outputs": [],
   "source": [
    "paste_review = \"\"\"DAMN. isn’t the personal journey that To Pimp a Butterfly was and it doesn’t try to be. DAMN. is Kendrick Lamar dead and Kendrick Lamar alive. It is Kendrick Lamar condemned and Kendrick Lamar redeemed. It is a meditation—or rather, a series of meditations—of Kendrick’s technical and emotional capabilities. Those meditations, on subjects explicitly named in songs like “PRIDE.” “LUST.” and “FEAR.” are bound together as an examination of Kendrick’s own existence: his past, his present, his future, his disciples, his worshippers, his enemies and his worldview.\n",
    "\n",
    "Two short years ago, when To Pimp a Butterfly came out, Kendrick was coronated hip-hop’s king and savior. Here he embraces the image, turning himself into messiah and martyr. He finds himself crucified on the very first track—his desire to do good, his outstretched hand to the blind of the world, turned upon him and used to undo him. On “DNA.” he’s “Yeshua’s new weapon,” born of Immaculate Conception and eager to lead his people. But Kendrick Lamar is not Jesus. He can’t help being human, and like the best among us, he is capable of, and often beholden to, a dark part of the mind. In highlighting the struggles inherent in his morality, he forces his listeners to consider their own. There are the fears that have altered his perception of the world around him (“FEAR.”), the deadly sins he finds himself consumed by (“PRIDE.” “LUST.”) and the hypocrisy he recognizes in some of his more instinctive notions (“XXX.”).\n",
    "\n",
    "All of this self-examination is used to fuel an album that essentially marks Kendrick’s return to the world of rap music. But the way Kendrick does commercial is still on a level separated from anyone else working today. He can take a collaboration with U2—something that, on paper, shouldn’t work—and turn it into one of the album’s best songs, in part because of Bono’s vocals, not despite them. He can take a relatively standard hip-hop beat and use it to deliver eviscerating verses, as he does on “DNA.” while “ELEMENT.” and “GOD.” show that he can do moody R&B rap well enough to make Drake nervous.\n",
    "\n",
    "Kendrick could have easily, and forgivably, fallen short on DAMN., as the expectations swirling around his Butterfly follow-up reached heights known to very few musicians. He hasn’t though. DAMN. doesn’t feel like the earthquake he produced in 2015. It’s unlikely it will ever carry the immense weight that To Pimp a Butterfly did, both for the music world for the artist himself. But it does prove that the millions of fans who have recognized in him an unstoppable creative force are not wrong. With DAMN., Kendrick Lamar plays by the rules and then sets the rule book on fire, and continues one of the most impressive runs of albums of any artist in recent memory. Will that run advance if, as rumored, he drops another album on Sunday? We can’t wait to find out.\"\n",
    "\"\"\""
   ]
  },
  {
   "cell_type": "code",
   "execution_count": 4,
   "metadata": {
    "collapsed": true
   },
   "outputs": [],
   "source": [
    "rolling_stone_review = \"\"\"Kendrick Lamar has already taken hip-hop to the outer galaxies of style, sound and resonance. Protesters in Chicago, Cleveland, Oakland and New York took to the streets singing his 2015 single \"Alright\" like it was the new \"We Shall Overcome.\" His last album, To Pimp a Butterfly, will likely go down as the defining reflection of the America that spawned #BlackLivesMatter, in the same way Pablo Picasso's Guernica stands as the defining reflection of the Spanish Civil War.\n",
    "\n",
    "But two years later, the perils of fame and the exhaustion of fighting for social justice seem to weigh on Lamar. \"Last LP I tried to lift the black artists,\" he laments on \"Element,\" one of the many bruising, battle-scarred battle-raps on his fourth LP, Damn. \"But it's a difference between black artists and wack artists.\"\n",
    "\n",
    "Seemingly exhausted with the burden of constantly pushing hip-hop forward into concept operas, electric Miles explosions and Flying Lotus electronic burbles, Damn. seemingly takes a classicist route to rap music. If To Pimp a Butterfly was the best rap album in 2015, Damn. is the platonic ideal of the best rap album of 1995, a dazzling display of showy rhyme skills, consciousness-raising political screeds, self-examination and bass-crazy-kicking. Kendrick has many talents – pop star, avant-garde poet, lyrical gymnast, storyteller. But here he explores what we traditionally know as a \"rapper\" more than on any of his albums to date. The rhymes on songs like \"DNA,\" \"Element,\" \"Feel,\" \"Humble\" and \"XXX\" come fast, furious and almost purist in nature. In an era where \"bars\" seems almost old-fashioned in the age of Drake's polyglot tunesmithery, Young Thug's Silly-Putty syllable stretching and Future's expressionist robo-croak, Lamar builds a bridge to the past.\n",
    "\n",
    "RELATED\n",
    " \n",
    "Kendrick Lamar's 'Damn.': A Track-by-Track Guide\n",
    "Notes on the producers, songwriters, guests and key themes on the latest from the virtuosic, celebrated MC\n",
    "\n",
    "On Butterfly, he untangled the mess in his mind with multiple personalities and distended voices, an Inside Out-esque spray where different emotions would almost require different timbres. Now he stares down almost everything with the same voice and a singular focus, whether his problems are external (Fox News, the prison-industrial complex, guns), internal (self-doubt, pride) or something in between (see the masterful \"Lust,\" which treats news of Donald Trump's election as but a rumble in a monotonous Groundhog Day timeline of existence). His flow remains exquisite without having fall back on the dramatic filigrees he brought to Butterfly. Producers like Mike Will Made It and Sounwave make Damn. feel state of the art – an album full of beat changes, tempo switches, backmasking, needle bounces and broken melodies – but Lamar's rapping is timeless enough to step into Ice Cube's Death Certificate Timberlands.\n",
    "\n",
    "\n",
    "Of course, this is Kendrick Lamar, so if he's going to delve into a more classic style of rap, he's going to take a complex, multifaceted, strange, unexpected path to get there. His twists on vintage hip-hop are downright post-modern. Kid Capri, the DJ whose blends and airhorn voice were omnipresent on early Nineties mixtapes, shows up with his iconic voice. But instead of brassy hype, he drops existential koans like, \"Y'all know, what happens on Earth stays on Earth.\" \"XXX\" is a vintage screed about clapping back at killer cops, perfectly in line with Rodney King-era revenge fantasies by Geto Boys, Paris and Lamar's personal hero 2Pac. But Lamar goes deeper into his own mind, painting blood-soaked hypotheticals and then juxtaposing them against his desires for gun control. (U2 are featured on the track, but their input sounds like maybe eight measures of a melody used like a sample.)\n",
    "\n",
    "That's the electric part about Damn.: 2Pac rapped through his contradictions; Lamar raps about his contradictions. The theme here is humility, and Kendrick clearly has mixed feelings. On \"Loyalty,\" he treats his boasts like a weakness, with Rihanna crooning \"It's so hard to be humble.\" On \"Pride,\" he treats his boasts as an annoying obligation, drolly saying \"I can’t fake humble just 'cause your ass is insecure.\" Then, on \"Humble,\" he finally screams \"Bitch, be humble\" like he worked up the confidence. And even then, you can't help but wonder if he's talking to himself. On \"Element,\" he'll say \"I don't give a fuck\" but then immediately follow it with \"I'm willin' to die for this shit.\"\n",
    "\n",
    "RELATED\n",
    " \n",
    "Watch Kendrick Lamar's Ruthless 'DNA' Video\n",
    "Don Cheadle tries to interrogate MC in intense new clip\n",
    "\n",
    "In the album’s introduction, Lamar helps a blind lady searching for something on the ground, and she turns out to be a murderer. The meaning of this metaphor is open for debate, but one thing is indisputable: Kendrick Lamar sees himself as someone here to help people find the things they have lost –quite often, it seems, a sense of humanity itself. And that's a huge job for one man, especially since his peers can hold court on a relatively smaller part of the collective subconscious. Chance the Rapper raps like America's hope and optimism; Kanye West its untethered id and basest impulses. Hundreds of street-level mixtape rappers represent anger and nihilism; and mega-stars like Drake, J. Cole, Big Sean, Nicki Minaj and Eminem are all explorations of various ideas of self. Lamar, patient and meticulous, self-doubting yet bold, is left as pretty much the unofficial navigator of everything else, a wide, complex, occasionally paradoxical gulf of noise.\n",
    "\n",
    "Lamar's gift is not just that he can say why he's the best (\"I got power, poison, pain and joy inside my DNA\"), but also that he articulate how this responsibility feels (\"I feel like the whole world want me to pray for 'em/But who the fuck prayin' for me?\"). He can paint pride and agony with the same brush, and it’s that ability that makes \"Fear\" probably the most emotionally rich song in his entire discography. Like Sigmund Freud meets Scarface, Lamar connects the dots from the seven-year-old terrified of catching a beating from his mother to the 17-year-old terrified of being murdered by police to the 27-year-old terrified of fame. \"I practiced runnin' from fear, guess I had some good luck,\" he raps with ease. \"At 27 years old, my biggest fear was bein' judged.\"\n",
    "\n",
    "\n",
    "Much like the recent A Tribe Called Quest record, Damn. is a brilliant combination of the timeless and the modern, the old school and the next-level. The most gifted rapper of a generation stomps into the Nineties and continues to blaze a trail forward. Don't be confused if he can't stay humble.\"\"\""
   ]
  },
  {
   "cell_type": "code",
   "execution_count": 5,
   "metadata": {
    "collapsed": true
   },
   "outputs": [],
   "source": [
    "pitchfork_review = \"\"\"Life is one funny motherfucker, it’s true. “DUCKWORTH.,” the last song on Kendrick Lamar's fourth studio album DAMN., tells a winding story about Anthony from Compton and Ducky from Chicago, whose paths cross first over KFC biscuits, and again, 20 years later, when Ducky’s son records a song about the encounter for Anthony’s record label. It’s a precious origin story, the stuff of rock docs and hood DVDs, and it’s delivered with such precision, vivid detail, and masterful pacing that it can’t possibly be true. But it’s a tale too strange to be fiction, and too powerful not to believe in—just like its author. Kendrick Lamar has proven he’s a master storyteller, but he’s been saving his best plot twist this whole time, waiting until he was ready, or able, to pull it off.\n",
    "\n",
    "Storytelling has been Lamar’s greatest skill and most primary mission, to put into (lots of) words what it's like to grow up as he did—to articulate, in human terms, the intimate specifics of daily self-defense from your surroundings. Somehow, he’s gotten better. The raps on his fourth studio album DAMN. jab mercilessly like a sewing machine. His boyish nasal instrument is distinct and inimitable as it slithers up and down in pitch on “PRIDE.” Even when Lamar sounds like Eminem, or Drake, or OutKast, he sounds like himself, and he arguably outpaces them all as a writer. On “FEAR.,” he relays daily threats from his mom (“I’ll beat your ass, keep talking back/I’ll beat your ass, who bought you that? You stole it”) and from his neighbors (“I’ll probably die because I ain’t know Demarcus was snitching/I’ll probably die at these house parties fucking with bitches”) over low-slung blues stirred by The Alchemist. Lamar’s recitation is so effortless you wonder where he breathes, or if he does at all.\n",
    "\n",
    "Kendrick is a relic of the mid-aughts rap blog era, where bedroom WordPress pages would post .zips of albums by amateurs. After years of such releases, Kendrick dropped a self-titled EP in 2009 that featured Big Pooh from Little Brother and elicited such Nah Right comments as “I like the beats on this” and “who da fuk?” Accolades swelled with each project; by 2011, he was considering signing with Dr. Dre; by 2013, he was playing “SNL” and touring with Kanye West. He came of age with his fans, and by 2015’s To Pimp a Butterfly, he put to music their chest-clenched frustrations. Ever the curtain-puller, he released an album of untitled and unmastered drafts and grew his hair out. His short absence, even after lending Taylor Swift a verse, has been made to feel longer by his media shyness and a surging tide of new rappers shuttled out daily.\n",
    "\n",
    "Throughout it all, he’s avoided the boxed-in fates of predecessors like Nas and peers like J. Cole through an electric originality and curiosity. He mastered rap not for mastery’s sake, but to use it as a form, undeterred by slow-eared fans who’ll only highlight his “simplest lines.” His best new trick is repetition; it offsets his density and drills his ideas, as enthralling as a Sunday sermon or pre-fight chirp session. There have been few threats committed to record as sincere as, “Let somebody touch my mama, touch my sister, touch my woman/Touch my daddy, touch my niece, touch my nephew, touch my brother”—you tick down the list along with him, slot in your own lifelong bonds with loved ones. Such internal processing plays out through the album’s Greek chorus, via the singer Bēkon, who speaks in riddles of balance throughout: “Is it wickedness, is it weakness;” “Love’s gonna get you killed, but pride’s gonna be the death of you;” “It was always me versus the world/Until I found it’s me versus me.”\n",
    "\n",
    "DAMN. is best in these philosophical spaces. It lags slightly around the center, where the concept loosens: “LOYALTY.,” with Rihanna, has all the makings of a radio mainstay this summer, and is as low-stakes as the platform demands; it’s always fun to hear Rih rap, and her presence is its most interesting aspect. “LUST.” would sound better if it weren’t next to an ear-worm as tender as “LOVE.,” which slow-dances between Zacari falsettos and Lamar’s sheepish read of the girl who fills him up. Between the two tracks, it’s easy to tell which force is tugging at him harder.\n",
    "\n",
    "The record’s few lulls succumb to what surrounds them. The springboard bounce of “HUMBLE.,” the war chant of “DNA.,” and hot steel of “XXX.” show Kendrick in his element, fast and lucid, like Eazy-E with college credits and Mike WiLL beats. The production is taut and clean, but schizophrenic, often splicing two or three loops into a track and swaying between tempos, closer in kin to good kid, m.A.A.d city’s siren-synths than Butterfly’s brass solos. If he was “black as the moon” on his last album, he’s an “Israelite” here, refusing to identify himself by the shade of his skin but fluent in the contents of his D.N.A. *Butterfly *floated along to soften its scathing stance—“We hate po-po” sounds better over a smooth saxophone—but with so many “wack artists” in play, what’s the reward for upliftment? Kendrick is so alone at his altitude that when he acknowledges Fox News, let alone Donald Trump, it feels like a favor to them both.\n",
    "\n",
    "Still, the album exists for “DUCKWORTH.” It’s the final piece of the TDE puzzle, a homegrown label of Compton natives that happened to deliver the best rapper of his generation. If we’re to believe the song’s last gunshot—and its seamless loop back to track one—much of DAMN. is written from the perspective of a Kendrick Lamar who grew up without a father to guide him away from the sinful temptations outside his home. He bobs in and out of this perspective, but the repeated pledges to loyalty and martyrdom evoke the life and mind of a young gang member who carries his neighborhood flag because no one’s proved to him that he shouldn’t. These choices, Lamar suggests, aren’t pre-determined or innate, but in constant dialogue with and in reaction to their surrounding circumstances. They aren’t above or beneath anyone who can hear his voice. Success and failure choose their subjects at their whim; we’re as grateful as Kendrick for his fate.\n",
    "\n",
    "Back to home\"\"\""
   ]
  },
  {
   "cell_type": "code",
   "execution_count": 6,
   "metadata": {
    "collapsed": true
   },
   "outputs": [],
   "source": [
    "paste_review = paste_review.decode('utf-8')\n",
    "rolling_stone_review = rolling_stone_review.decode('utf-8')\n",
    "pitchfork_review = pitchfork_review.decode('utf-8')\n"
   ]
  },
  {
   "cell_type": "code",
   "execution_count": 7,
   "metadata": {
    "collapsed": true
   },
   "outputs": [],
   "source": [
    "pitchfork = TextBlob(pitchfork_review)\n",
    "rollingstone = TextBlob(rolling_stone_review)\n",
    "paste = TextBlob(paste_review)"
   ]
  },
  {
   "cell_type": "code",
   "execution_count": null,
   "metadata": {
    "collapsed": true
   },
   "outputs": [],
   "source": []
  },
  {
   "cell_type": "code",
   "execution_count": 101,
   "metadata": {},
   "outputs": [
    {
     "data": {
      "text/plain": [
       "Sentiment(polarity=0.16068602693602696, subjectivity=0.45257996632996644)"
      ]
     },
     "execution_count": 101,
     "metadata": {},
     "output_type": "execute_result"
    }
   ],
   "source": [
    "paste.sentiment\n"
   ]
  },
  {
   "cell_type": "code",
   "execution_count": 9,
   "metadata": {},
   "outputs": [
    {
     "data": {
      "text/plain": [
       "Sentiment(polarity=0.162336886530435, subjectivity=0.4058879889525051)"
      ]
     },
     "execution_count": 9,
     "metadata": {},
     "output_type": "execute_result"
    }
   ],
   "source": [
    "pitchfork.sentiment"
   ]
  },
  {
   "cell_type": "code",
   "execution_count": 10,
   "metadata": {},
   "outputs": [
    {
     "data": {
      "text/plain": [
       "Sentiment(polarity=0.08794440712544158, subjectivity=0.47526465392844697)"
      ]
     },
     "execution_count": 10,
     "metadata": {},
     "output_type": "execute_result"
    }
   ],
   "source": [
    "rollingstone.sentiment"
   ]
  },
  {
   "cell_type": "code",
   "execution_count": 11,
   "metadata": {
    "collapsed": true
   },
   "outputs": [],
   "source": [
    "wiki = \"\"\"Damn (stylized as DAMN.) is the fourth studio album by American rapper Kendrick Lamar.[1] It was released on April 14, 2017, by Top Dawg Entertainment, Aftermath Entertainment and Interscope Records.[2] The album features production from a variety of record producers, including executive producer from the Top Dawg Entertainment label-head Anthony \"Top Dawg\" Tiffith, Sounwave, DJ Dahi, Mike Will Made It and Ricci Riera; as well as production contributions from James Blake, Steve Lacy, BadBadNotGood, Greg Kurstin, The Alchemist and 9th Wonder, among others.\n",
    "\n",
    "Damn received widespread critical acclaim and topped the charts in the United States and Canada while reaching number two in Australia, Belgium, Denmark, Ireland, the Netherlands, Norway, Sweden, and the United Kingdom. The album was supported by three official singles: \"Humble\", \"Loyalty\" and \"Love\". \"Humble\" became Lamar's first number one single on the US Billboard Hot 100 as a lead artist. In July 2017, Damn was certified double Platinum by the Recording Industry Association of America (RIAA). The album received a Grammy Award nomination for Best Rap Album and Album of the Year at the 60th Annual Grammy Awards, making it Lamar's third consecutive album to be nominated for the award.[3] Damn is the Billboard Year-End number one album of 2017.[4]\n",
    "\"DNA\" was the second song from the album to be recorded by Lamar and Mike Will, after \"Humble\". After the first verse of \"DNA\" was recorded with the beat that Mike Will had already prepared, Lamar started rapping the second verse a cappella, requesting that Mike Will build the beat around the rap. Lamar proposed that it sound like \"chaos\", and Mike Will put together the second half of the song with the intention to make it \"sound like he's battling the beat.\"[5]\n",
    "\n",
    "The beat for \"Humble\" was developed by Mike Will with the intention of recording with Gucci Mane, but later showed it to Lamar, thinking that this would be the first time Lamar had recorded with a trap-style beat that Mike Will had been known for. After recording, it was initially agreed upon that it would be released on Mike Will's debut album Ransom 2, but others convinced Lamar to keep it for his own next album.\"\"\""
   ]
  },
  {
   "cell_type": "code",
   "execution_count": 12,
   "metadata": {},
   "outputs": [
    {
     "data": {
      "text/plain": [
       "Sentiment(polarity=0.1487301587301587, subjectivity=0.30436507936507945)"
      ]
     },
     "execution_count": 12,
     "metadata": {},
     "output_type": "execute_result"
    }
   ],
   "source": [
    "wiki = wiki.decode('utf-8')\n",
    "\n",
    "wiki_blob = TextBlob(wiki)\n",
    "\n",
    "wiki_blob.sentiment"
   ]
  },
  {
   "cell_type": "code",
   "execution_count": 14,
   "metadata": {},
   "outputs": [
    {
     "data": {
      "text/plain": [
       "Sentiment(polarity=0.549074074074074, subjectivity=0.5164021164021165)"
      ]
     },
     "execution_count": 14,
     "metadata": {},
     "output_type": "execute_result"
    }
   ],
   "source": [
    "amazon_pos = \"\"\"Exceptional album!!!! Classic hands down. Some of his best work. We need more music like this being created. The beats and content is amazing.\n",
    "\n",
    "My favorite album of his by far! Literally so good, always listening to it.\n",
    "Heard him at Coachella this year play his album, made it that much better\n",
    "\n",
    "Best album out now. Hands down my favorite recent artist\n",
    "This is real Hip Hop!\n",
    "Great album! Kendrick is back in form doing what he does best.\n",
    "\n",
    "Gave it to her for Christmas 2017 and she LOVED IT!!! Said it was the best and the best gift! Nuff said.\n",
    "\"\"\"\n",
    "\n",
    "amazon_pos = amazon_pos.decode('utf-8')\n",
    "amazon_pos = TextBlob(amazon_pos)\n",
    "\n",
    "amazon_pos.sentiment"
   ]
  },
  {
   "cell_type": "code",
   "execution_count": 20,
   "metadata": {},
   "outputs": [
    {
     "data": {
      "text/plain": [
       "Sentiment(polarity=0.0, subjectivity=0.06666666666666667)"
      ]
     },
     "execution_count": 20,
     "metadata": {},
     "output_type": "execute_result"
    }
   ],
   "source": [
    "TextBlob('last').sentiment"
   ]
  },
  {
   "cell_type": "code",
   "execution_count": 15,
   "metadata": {},
   "outputs": [
    {
     "data": {
      "text/plain": [
       "Sentiment(polarity=0.07232142857142858, subjectivity=0.5136408730158731)"
      ]
     },
     "execution_count": 15,
     "metadata": {},
     "output_type": "execute_result"
    }
   ],
   "source": [
    "amazon_neg = \"\"\"The most over-hyped and under-delivered album this year! I'm from SoCal and I love West Coast hip hop but this is garbage! A huge disappointment. This is a step up from Pimp a Butterfly but not far. Nothing close to Good Kid or Overly Dedicated. Those were classic records.\n",
    "the packaging was awful... when i got it, there was no another aircap so the cover of its album was broken. i think i should reorder it at other shops.. anyways i really love this album. thanks..\n",
    "Im upset that I ordered the song xxx ft u2 and was greeted with a msg stated they didn't have that song\n",
    "Rap today, horrible...Hip is Dead...NAS was right years ago.\n",
    "dude's voice is corny, beats are wack.\n",
    "I really don't see what people like about this album. There may be 3 tracks that's...ok. Lamar is a hugely talented artist but this mess is NOT his best work,\n",
    "I accidentally bought it thinking was the CD\n",
    "Will like a refund i cant listen to it\n",
    "the packaging was awful... when i got it, there was no another aircap so the cover of its album was broken. i think i should reorder it at other shops.. anyways i really love this album. thanks..\n",
    "Save for Humble, this album is dull.\n",
    "\n",
    "\n",
    "\"\"\"\n",
    "\n",
    "amazon_neg = amazon_neg.decode('utf-8')\n",
    "amazon_neg = TextBlob(amazon_neg)\n",
    "\n",
    "amazon_neg.sentiment"
   ]
  },
  {
   "cell_type": "code",
   "execution_count": 24,
   "metadata": {},
   "outputs": [
    {
     "data": {
      "image/png": "[encoded data removed]",
      "text/plain": [
       "<matplotlib.figure.Figure at 0x11c961810>"
      ]
     },
     "metadata": {},
     "output_type": "display_data"
    }
   ],
   "source": [
    "plt.scatter(amazon_pos.sentiment[0], amazon_pos.sentiment[1], label='Positive Amazon')\n",
    "plt.scatter(amazon_neg.sentiment[0], amazon_neg.sentiment[1], label='Negative Amazon')\n",
    "plt.scatter(wiki_blob.sentiment[0], wiki_blob.sentiment[1], label='Wikipedia')\n",
    "plt.scatter(pitchfork.sentiment[0], pitchfork.sentiment[1], label='Pitchfork')\n",
    "plt.scatter(paste.sentiment[0], paste.sentiment[1], label='Paste')\n",
    "plt.scatter(rollingstone.sentiment[0], rollingstone.sentiment[1], label='Rolling Stone')\n",
    "plt.legend()\n",
    "plt.xlabel('Polarity')\n",
    "plt.ylabel('Subjectivity')\n",
    "plt.show()"
   ]
  },
  {
   "cell_type": "code",
   "execution_count": 26,
   "metadata": {
    "collapsed": true
   },
   "outputs": [],
   "source": [
    "scores = [amazon_pos.sentiment, amazon_neg.sentiment, wiki_blob.sentiment, pitchfork.sentiment, paste.sentiment, rollingstone.sentiment]"
   ]
  },
  {
   "cell_type": "code",
   "execution_count": 109,
   "metadata": {
    "collapsed": true
   },
   "outputs": [],
   "source": [
    "polarity = []\n",
    "subjectivity = []\n",
    "labels= ['Amazon Positive', \"Amazon Negative\", \"Wikipedia\", \" Pitchfork\", \"  Paste\", \"Rolling Stone\"]\n",
    "for p, s, in scores:\n",
    "    polarity.append(p)\n",
    "    subjectivity.append(s)\n"
   ]
  },
  {
   "cell_type": "code",
   "execution_count": 110,
   "metadata": {},
   "outputs": [
    {
     "data": {
      "text/plain": [
       "['Amazon Positive',\n",
       " 'Amazon Negative',\n",
       " 'Wikipedia',\n",
       " ' Pitchfork',\n",
       " '  Paste',\n",
       " 'Rolling Stone']"
      ]
     },
     "execution_count": 110,
     "metadata": {},
     "output_type": "execute_result"
    }
   ],
   "source": [
    "labels"
   ]
  },
  {
   "cell_type": "code",
   "execution_count": 111,
   "metadata": {},
   "outputs": [
    {
     "data": {
      "image/png": "[encoded data removed]",
      "text/plain": [
       "<matplotlib.figure.Figure at 0x11d406ed0>"
      ]
     },
     "metadata": {},
     "output_type": "display_data"
    }
   ],
   "source": [
    "fig, ax = plt.subplots()\n",
    "ax.scatter(subjectivity, polarity)\n",
    "plt.xlabel('Subjectivity')\n",
    "plt.ylabel('Polarity')\n",
    "plt.title(\"Kendrick Lamar's DAMN. Sentiment Comparison\")\n",
    "for i, txt in enumerate(labels):\n",
    "    ax.annotate(txt, (subjectivity[i],polarity[i]), rotation=14)\n",
    "plt.show()"
   ]
  },
  {
   "cell_type": "code",
   "execution_count": null,
   "metadata": {
    "collapsed": true
   },
   "outputs": [],
   "source": []
  }
 ],
 "metadata": {
  "kernelspec": {
   "display_name": "Python 2",
   "language": "python",
   "name": "python2"
  },
  "language_info": {
   "codemirror_mode": {
    "name": "ipython",
    "version": 2
   },
   "file_extension": ".py",
   "mimetype": "text/x-python",
   "name": "python",
   "nbconvert_exporter": "python",
   "pygments_lexer": "ipython2",
   "version": "2.7.13"
  }
 },
 "nbformat": 4,
 "nbformat_minor": 2
}
