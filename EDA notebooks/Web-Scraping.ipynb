{
 "cells": [
  {
   "cell_type": "code",
   "execution_count": 1,
   "metadata": {
    "collapsed": true
   },
   "outputs": [],
   "source": [
    "from bs4 import BeautifulSoup\n",
    "import requests, time\n"
   ]
  },
  {
   "cell_type": "code",
   "execution_count": 2,
   "metadata": {},
   "outputs": [
    {
     "name": "stderr",
     "output_type": "stream",
     "text": [
      "/Users/andrewbashford/anaconda3/lib/python2.7/site-packages/bs4/__init__.py:282: UserWarning: \"https://pitchfork.com/features/lists-and-guides/the-50-best-albums-of-2017/\" looks like a URL. Beautiful Soup is not an HTTP client. You should probably use an HTTP client like requests to get the document behind the URL, and feed that document to Beautiful Soup.\n",
      "  ' that document to Beautiful Soup.' % decoded_markup\n"
     ]
    }
   ],
   "source": [
    "soup = BeautifulSoup('https://pitchfork.com/features/lists-and-guides/the-50-best-albums-of-2017/', \"lxml\")\n",
    "reviews = soup.findAll(\"div\", { \"class\" : \"review\" })\n"
   ]
  },
  {
   "cell_type": "code",
   "execution_count": null,
   "metadata": {
    "collapsed": true
   },
   "outputs": [],
   "source": [
    "\tdef _set_abstract(self):\n",
    "\t\tabstract = self.soup.find(#BLAHBLAH)\n",
    "\t\tabstract = abstract.findAll(#blahblah)\n",
    "\t\tabstract = [i.get_text() for i in abstract]\n",
    "\t\tabstract = ''.join(abstract)\n",
    "\t\tself.abstract = abstract"
   ]
  }
 ],
 "metadata": {
  "kernelspec": {
   "display_name": "Python 2",
   "language": "python",
   "name": "python2"
  },
  "language_info": {
   "codemirror_mode": {
    "name": "ipython",
    "version": 2
   },
   "file_extension": ".py",
   "mimetype": "text/x-python",
   "name": "python",
   "nbconvert_exporter": "python",
   "pygments_lexer": "ipython2",
   "version": "2.7.13"
  }
 },
 "nbformat": 4,
 "nbformat_minor": 2
}
