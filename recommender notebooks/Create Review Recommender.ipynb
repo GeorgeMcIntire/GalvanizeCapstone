{
 "cells": [
  {
   "cell_type": "code",
   "execution_count": 1,
   "metadata": {
    "collapsed": true
   },
   "outputs": [],
   "source": [
    "import numpy as np\n",
    "import pandas as pd\n",
    "from sklearn.feature_extraction.text import TfidfVectorizer\n",
    "from sklearn.cluster import KMeans, AffinityPropagation\n",
    "from collections import Counter\n",
    "from scipy.spatial.distance import pdist, squareform\n",
    "import matplotlib.pyplot as plt\n",
    "from scipy.cluster.hierarchy import linkage, dendrogram\n",
    "\n",
    "import cPickle as pickle\n",
    "import graphlab"
   ]
  },
  {
   "cell_type": "code",
   "execution_count": 2,
   "metadata": {
    "collapsed": true
   },
   "outputs": [],
   "source": [
    "pd.options.display.max_colwidth = 100"
   ]
  },
  {
   "cell_type": "code",
   "execution_count": 12,
   "metadata": {
    "collapsed": true
   },
   "outputs": [],
   "source": [
    "import sys  \n",
    "\n",
    "reload(sys)  \n",
    "sys.setdefaultencoding('utf8')"
   ]
  },
  {
   "cell_type": "code",
   "execution_count": 3,
   "metadata": {
    "collapsed": true
   },
   "outputs": [],
   "source": [
    "import numpy as np\n",
    "import matplotlib.pyplot as plt\n",
    "%matplotlib inline\n",
    "\n",
    "# from textblob.sentiments import NaiveBayesAnalyzer\n",
    "import re\n",
    "import pandas as pd\n",
    "import sqlite3\n",
    "# from textblob import TextBlob\n",
    "\n",
    "import seaborn as sns\n",
    "sns.set(color_codes=True)\n",
    "\n",
    "# encoding=utf8\n",
    "# import sys\n",
    "# reload(sys)\n",
    "# sys.setdefaultencoding('utf8')"
   ]
  },
  {
   "cell_type": "code",
   "execution_count": null,
   "metadata": {
    "collapsed": true
   },
   "outputs": [],
   "source": []
  },
  {
   "cell_type": "code",
   "execution_count": 7,
   "metadata": {},
   "outputs": [
    {
     "name": "stdout",
     "output_type": "stream",
     "text": [
      "Create Review Recommender.ipynb  Use Review Recommender.ipynb\r\n"
     ]
    }
   ],
   "source": []
  },
  {
   "cell_type": "code",
   "execution_count": 9,
   "metadata": {},
   "outputs": [],
   "source": [
    "df = pd.read_csv('../data/pitchfork_no_nlp.csv')\n",
    "\n",
    "years = np.arange(1999, 2018)\n",
    "df_new = df[df['new_album'] == 1]\n",
    "df_reissue = df[df['new_album'] == 0]\n",
    "\n",
    "df_spotify = pd.read_csv('../data/spotify_with_rank.csv')\n",
    "df_spotify = df_spotify.groupby(['title', 'artist', 'album_uri']).mean().reset_index()\n",
    "\n",
    "df_merged = df.merge(df_spotify, how='left', on=['artist', 'title'])\n",
    "df_merged = df_merged.drop_duplicates(['title', 'artist', 'reviewid'], keep='first')\n"
   ]
  },
  {
   "cell_type": "code",
   "execution_count": null,
   "metadata": {},
   "outputs": [],
   "source": []
  },
  {
   "cell_type": "code",
   "execution_count": 13,
   "metadata": {},
   "outputs": [],
   "source": [
    "# 4. Limit the number of features and see if the words of the topics change.\n",
    "vectorizer = TfidfVectorizer(stop_words='english', max_features=500, max_df=.4)\n",
    "X = vectorizer.fit_transform(df_merged['content'].values.astype('U'))"
   ]
  },
  {
   "cell_type": "code",
   "execution_count": 14,
   "metadata": {
    "collapsed": true
   },
   "outputs": [],
   "source": [
    "df_merged['tf-idf'] = list(X.toarray())\n",
    "\n",
    "df_merged['danceability rounded'] = (df_merged['danceability mean']*10).round(1)\n",
    "df_merged['valence rounded'] = (df_merged['valence mean']*10).round(1)\n",
    "df_merged['energy rounded'] = (df_merged['energy mean']*10).round(1)\n",
    "df_merged['acousticness rounded'] = (df_merged['acousticness mean']*10).round(1)\n",
    "df_merged['score_bin_5'] = pd.cut(df_merged['score'], bins=5, labels=False)\n",
    "df_merged['score_bin_2'] = pd.cut(df_merged['score'], bins=2, labels=False)\n",
    "df_merged['danceability rounded'].fillna(value=df_merged['danceability rounded'].mean(), inplace=True)\n",
    "df_merged['valence rounded'].fillna(value=df_merged['valence rounded'].mean(), inplace=True)\n",
    "df_merged['energy rounded'].fillna(value=df_merged['energy rounded'].mean(), inplace=True)\n",
    "df_merged['acousticness rounded'].fillna(value=df_merged['acousticness rounded'].mean(), inplace=True)\n",
    "df_merged['spotify_match'] = np.where(df_merged['year sum'] > 0, 1, 0)\n",
    "\n",
    "df_merged.drop_duplicates(['title', 'artist'], keep='first')\n",
    "df_merged =df_merged.dropna(subset=['content'])"
   ]
  },
  {
   "cell_type": "code",
   "execution_count": 83,
   "metadata": {
    "collapsed": true
   },
   "outputs": [],
   "source": [
    "sf = graphlab.SFrame(df_merged[['url', 'tf-idf', \n",
    "                                'danceability rounded', 'valence rounded', 'energy rounded', 'acousticness rounded', \n",
    "                                'pub_year', u'genre_electronic', u'genre_experimental',\n",
    "       u'genre_folk/country', u'genre_global', u'genre_jazz', u'genre_metal',\n",
    "       u'genre_pop/r&b', u'genre_rap', u'genre_rock', 'new_album', 'spotify_match']])\n",
    "\n",
    "sf2 = graphlab.SFrame(df_merged[['url', 'tf-idf', 'pub_year', u'genre_electronic', u'genre_experimental',\n",
    "       u'genre_folk/country', u'genre_global', u'genre_jazz', u'genre_metal',\n",
    "       u'genre_pop/r&b', u'genre_rap', u'genre_rock']])"
   ]
  },
  {
   "cell_type": "code",
   "execution_count": 84,
   "metadata": {
    "scrolled": true
   },
   "outputs": [
    {
     "name": "stdout",
     "output_type": "stream",
     "text": [
      "WARNING: The ItemContentRecommender model is still in beta.\n",
      "WARNING: This feature transformer is still in beta, and some interpretation rules may change in the future.\n",
      "('Applying transform:\\n', Class             : AutoVectorizer\n",
      "\n",
      "Model Fields\n",
      "------------\n",
      "Features          : ['tf-idf', 'danceability rounded', 'valence rounded', 'energy rounded', 'acousticness rounded', 'pub_year', 'genre_electronic', 'genre_experimental', 'genre_folk/country', 'genre_global', 'genre_jazz', 'genre_metal', 'genre_pop/r&b', 'genre_rap', 'genre_rock', 'new_album', 'spotify_match']\n",
      "Excluded Features : ['url']\n",
      "\n",
      "Column                Type   Interpretation  Transforms   Output Type\n",
      "--------------------  -----  --------------  -----------  -----------\n",
      "tf-idf                array  vector          None         array      \n",
      "danceability rounded  float  numerical       None         float      \n",
      "valence rounded       float  numerical       None         float      \n",
      "energy rounded        float  numerical       None         float      \n",
      "acousticness rounded  float  numerical       None         float      \n",
      "pub_year              int    numerical       None         int        \n",
      "genre_electronic      int    categorical     astype(str)  str        \n",
      "genre_experimental    int    categorical     astype(str)  str        \n",
      "genre_folk/country    int    categorical     astype(str)  str        \n",
      "genre_global          int    categorical     astype(str)  str        \n",
      "genre_jazz            int    categorical     astype(str)  str        \n",
      "genre_metal           int    categorical     astype(str)  str        \n",
      "genre_pop/r&b         int    categorical     astype(str)  str        \n",
      "genre_rap             int    categorical     astype(str)  str        \n",
      "genre_rock            int    categorical     astype(str)  str        \n",
      "new_album             int    categorical     astype(str)  str        \n",
      "spotify_match         int    categorical     astype(str)  str        \n",
      "\n",
      ")\n"
     ]
    },
    {
     "data": {
      "text/html": [
       "<pre>Recsys training: model = item_content_recommender</pre>"
      ],
      "text/plain": [
       "Recsys training: model = item_content_recommender"
      ]
     },
     "metadata": {},
     "output_type": "display_data"
    },
    {
     "name": "stdout",
     "output_type": "stream",
     "text": [
      "Defaulting to brute force instead of ball tree because there are multiple distance components.\n"
     ]
    },
    {
     "data": {
      "text/html": [
       "<pre>Starting brute force nearest neighbors model training.</pre>"
      ],
      "text/plain": [
       "Starting brute force nearest neighbors model training."
      ]
     },
     "metadata": {},
     "output_type": "display_data"
    },
    {
     "data": {
      "text/html": [
       "<pre>Starting pairwise querying.</pre>"
      ],
      "text/plain": [
       "Starting pairwise querying."
      ]
     },
     "metadata": {},
     "output_type": "display_data"
    },
    {
     "data": {
      "text/html": [
       "<pre>+--------------+---------+-------------+--------------+</pre>"
      ],
      "text/plain": [
       "+--------------+---------+-------------+--------------+"
      ]
     },
     "metadata": {},
     "output_type": "display_data"
    },
    {
     "data": {
      "text/html": [
       "<pre>| Query points | # Pairs | % Complete. | Elapsed Time |</pre>"
      ],
      "text/plain": [
       "| Query points | # Pairs | % Complete. | Elapsed Time |"
      ]
     },
     "metadata": {},
     "output_type": "display_data"
    },
    {
     "data": {
      "text/html": [
       "<pre>+--------------+---------+-------------+--------------+</pre>"
      ],
      "text/plain": [
       "+--------------+---------+-------------+--------------+"
      ]
     },
     "metadata": {},
     "output_type": "display_data"
    },
    {
     "data": {
      "text/html": [
       "<pre>| 0            | 9809    | 0.00254842  | 294.118ms    |</pre>"
      ],
      "text/plain": [
       "| 0            | 9809    | 0.00254842  | 294.118ms    |"
      ]
     },
     "metadata": {},
     "output_type": "display_data"
    },
    {
     "data": {
      "text/html": [
       "<pre>| 34           | 676821  | 0.175841    | 1.31s        |</pre>"
      ],
      "text/plain": [
       "| 34           | 676821  | 0.175841    | 1.31s        |"
      ]
     },
     "metadata": {},
     "output_type": "display_data"
    },
    {
     "data": {
      "text/html": [
       "<pre>| 82           | 1618485 | 0.420489    | 2.30s        |</pre>"
      ],
      "text/plain": [
       "| 82           | 1618485 | 0.420489    | 2.30s        |"
      ]
     },
     "metadata": {},
     "output_type": "display_data"
    },
    {
     "data": {
      "text/html": [
       "<pre>| 142          | 2805374 | 0.728848    | 3.31s        |</pre>"
      ],
      "text/plain": [
       "| 142          | 2805374 | 0.728848    | 3.31s        |"
      ]
     },
     "metadata": {},
     "output_type": "display_data"
    },
    {
     "data": {
      "text/html": [
       "<pre>| 208          | 4090353 | 1.06269     | 4.31s        |</pre>"
      ],
      "text/plain": [
       "| 208          | 4090353 | 1.06269     | 4.31s        |"
      ]
     },
     "metadata": {},
     "output_type": "display_data"
    },
    {
     "data": {
      "text/html": [
       "<pre>| 275          | 5414568 | 1.40673     | 5.32s        |</pre>"
      ],
      "text/plain": [
       "| 275          | 5414568 | 1.40673     | 5.32s        |"
      ]
     },
     "metadata": {},
     "output_type": "display_data"
    },
    {
     "data": {
      "text/html": [
       "<pre>| 342          | 6719165 | 1.74567     | 6.34s        |</pre>"
      ],
      "text/plain": [
       "| 342          | 6719165 | 1.74567     | 6.34s        |"
      ]
     },
     "metadata": {},
     "output_type": "display_data"
    },
    {
     "data": {
      "text/html": [
       "<pre>| 408          | 8023762 | 2.08461     | 7.33s        |</pre>"
      ],
      "text/plain": [
       "| 408          | 8023762 | 2.08461     | 7.33s        |"
      ]
     },
     "metadata": {},
     "output_type": "display_data"
    },
    {
     "data": {
      "text/html": [
       "<pre>| 472          | 9279314 | 2.41081     | 8.32s        |</pre>"
      ],
      "text/plain": [
       "| 472          | 9279314 | 2.41081     | 8.32s        |"
      ]
     },
     "metadata": {},
     "output_type": "display_data"
    },
    {
     "data": {
      "text/html": [
       "<pre>| 538          | 1.1e+07 | 2.7472      | 9.34s        |</pre>"
      ],
      "text/plain": [
       "| 538          | 1.1e+07 | 2.7472      | 9.34s        |"
      ]
     },
     "metadata": {},
     "output_type": "display_data"
    },
    {
     "data": {
      "text/html": [
       "<pre>| 586          | 1.2e+07 | 2.9893      | 10.33s       |</pre>"
      ],
      "text/plain": [
       "| 586          | 1.2e+07 | 2.9893      | 10.33s       |"
      ]
     },
     "metadata": {},
     "output_type": "display_data"
    },
    {
     "data": {
      "text/html": [
       "<pre>| 649          | 1.3e+07 | 3.31295     | 11.33s       |</pre>"
      ],
      "text/plain": [
       "| 649          | 1.3e+07 | 3.31295     | 11.33s       |"
      ]
     },
     "metadata": {},
     "output_type": "display_data"
    },
    {
     "data": {
      "text/html": [
       "<pre>| 708          | 1.4e+07 | 3.61111     | 12.33s       |</pre>"
      ],
      "text/plain": [
       "| 708          | 1.4e+07 | 3.61111     | 12.33s       |"
      ]
     },
     "metadata": {},
     "output_type": "display_data"
    },
    {
     "data": {
      "text/html": [
       "<pre>| 772          | 1.5e+07 | 3.93986     | 13.36s       |</pre>"
      ],
      "text/plain": [
       "| 772          | 1.5e+07 | 3.93986     | 13.36s       |"
      ]
     },
     "metadata": {},
     "output_type": "display_data"
    },
    {
     "data": {
      "text/html": [
       "<pre>| 834          | 1.6e+07 | 4.25331     | 14.34s       |</pre>"
      ],
      "text/plain": [
       "| 834          | 1.6e+07 | 4.25331     | 14.34s       |"
      ]
     },
     "metadata": {},
     "output_type": "display_data"
    },
    {
     "data": {
      "text/html": [
       "<pre>| 900          | 1.8e+07 | 4.5897      | 15.36s       |</pre>"
      ],
      "text/plain": [
       "| 900          | 1.8e+07 | 4.5897      | 15.36s       |"
      ]
     },
     "metadata": {},
     "output_type": "display_data"
    },
    {
     "data": {
      "text/html": [
       "<pre>| 964          | 1.9e+07 | 4.9159      | 16.35s       |</pre>"
      ],
      "text/plain": [
       "| 964          | 1.9e+07 | 4.9159      | 16.35s       |"
      ]
     },
     "metadata": {},
     "output_type": "display_data"
    },
    {
     "data": {
      "text/html": [
       "<pre>| 1028         | 2e+07   | 5.2421      | 17.36s       |</pre>"
      ],
      "text/plain": [
       "| 1028         | 2e+07   | 5.2421      | 17.36s       |"
      ]
     },
     "metadata": {},
     "output_type": "display_data"
    },
    {
     "data": {
      "text/html": [
       "<pre>| 1093         | 2.1e+07 | 5.57339     | 18.37s       |</pre>"
      ],
      "text/plain": [
       "| 1093         | 2.1e+07 | 5.57339     | 18.37s       |"
      ]
     },
     "metadata": {},
     "output_type": "display_data"
    },
    {
     "data": {
      "text/html": [
       "<pre>| 1159         | 2.3e+07 | 5.91233     | 19.37s       |</pre>"
      ],
      "text/plain": [
       "| 1159         | 2.3e+07 | 5.91233     | 19.37s       |"
      ]
     },
     "metadata": {},
     "output_type": "display_data"
    },
    {
     "data": {
      "text/html": [
       "<pre>| 1223         |         | 6.23598     | 20.37s       |</pre>"
      ],
      "text/plain": [
       "| 1223         |         | 6.23598     | 20.37s       |"
      ]
     },
     "metadata": {},
     "output_type": "display_data"
    },
    {
     "data": {
      "text/html": [
       "<pre>| 1288         | 2.5e+07 | 6.56728     | 21.36s       |</pre>"
      ],
      "text/plain": [
       "| 1288         | 2.5e+07 | 6.56728     | 21.36s       |"
      ]
     },
     "metadata": {},
     "output_type": "display_data"
    },
    {
     "data": {
      "text/html": [
       "<pre>| 1353         | 2.7e+07 | 6.89857     | 22.39s       |</pre>"
      ],
      "text/plain": [
       "| 1353         | 2.7e+07 | 6.89857     | 22.39s       |"
      ]
     },
     "metadata": {},
     "output_type": "display_data"
    },
    {
     "data": {
      "text/html": [
       "<pre>| 1417         | 2.8e+07 | 7.22477     | 23.39s       |</pre>"
      ],
      "text/plain": [
       "| 1417         | 2.8e+07 | 7.22477     | 23.39s       |"
      ]
     },
     "metadata": {},
     "output_type": "display_data"
    },
    {
     "data": {
      "text/html": [
       "<pre>| 1481         | 2.9e+07 | 7.55352     | 24.39s       |</pre>"
      ],
      "text/plain": [
       "| 1481         | 2.9e+07 | 7.55352     | 24.39s       |"
      ]
     },
     "metadata": {},
     "output_type": "display_data"
    },
    {
     "data": {
      "text/html": [
       "<pre>| 1544         | 3e+07   | 7.87462     | 25.38s       |</pre>"
      ],
      "text/plain": [
       "| 1544         | 3e+07   | 7.87462     | 25.38s       |"
      ]
     },
     "metadata": {},
     "output_type": "display_data"
    },
    {
     "data": {
      "text/html": [
       "<pre>| 1610         | 3.2e+07 | 8.20846     | 26.38s       |</pre>"
      ],
      "text/plain": [
       "| 1610         | 3.2e+07 | 8.20846     | 26.38s       |"
      ]
     },
     "metadata": {},
     "output_type": "display_data"
    },
    {
     "data": {
      "text/html": [
       "<pre>| 1674         | 3.3e+07 | 8.53721     | 27.40s       |</pre>"
      ],
      "text/plain": [
       "| 1674         | 3.3e+07 | 8.53721     | 27.40s       |"
      ]
     },
     "metadata": {},
     "output_type": "display_data"
    },
    {
     "data": {
      "text/html": [
       "<pre>| 1738         | 3.4e+07 | 8.86086     | 28.39s       |</pre>"
      ],
      "text/plain": [
       "| 1738         | 3.4e+07 | 8.86086     | 28.39s       |"
      ]
     },
     "metadata": {},
     "output_type": "display_data"
    },
    {
     "data": {
      "text/html": [
       "<pre>| 1800         | 3.5e+07 | 9.17686     | 29.40s       |</pre>"
      ],
      "text/plain": [
       "| 1800         | 3.5e+07 | 9.17686     | 29.40s       |"
      ]
     },
     "metadata": {},
     "output_type": "display_data"
    },
    {
     "data": {
      "text/html": [
       "<pre>| 1863         | 3.7e+07 | 9.50051     | 30.41s       |</pre>"
      ],
      "text/plain": [
       "| 1863         | 3.7e+07 | 9.50051     | 30.41s       |"
      ]
     },
     "metadata": {},
     "output_type": "display_data"
    },
    {
     "data": {
      "text/html": [
       "<pre>| 1928         | 3.8e+07 | 9.82926     | 31.40s       |</pre>"
      ],
      "text/plain": [
       "| 1928         | 3.8e+07 | 9.82926     | 31.40s       |"
      ]
     },
     "metadata": {},
     "output_type": "display_data"
    },
    {
     "data": {
      "text/html": [
       "<pre>| 1993         | 3.9e+07 | 10.1606     | 32.41s       |</pre>"
      ],
      "text/plain": [
       "| 1993         | 3.9e+07 | 10.1606     | 32.41s       |"
      ]
     },
     "metadata": {},
     "output_type": "display_data"
    },
    {
     "data": {
      "text/html": [
       "<pre>| 2058         | 4e+07   | 10.4944     | 33.41s       |</pre>"
      ],
      "text/plain": [
       "| 2058         | 4e+07   | 10.4944     | 33.41s       |"
      ]
     },
     "metadata": {},
     "output_type": "display_data"
    },
    {
     "data": {
      "text/html": [
       "<pre>| 2121         | 4.2e+07 | 10.8155     | 34.42s       |</pre>"
      ],
      "text/plain": [
       "| 2121         | 4.2e+07 | 10.8155     | 34.42s       |"
      ]
     },
     "metadata": {},
     "output_type": "display_data"
    },
    {
     "data": {
      "text/html": [
       "<pre>| 2185         | 4.3e+07 | 11.1391     | 35.41s       |</pre>"
      ],
      "text/plain": [
       "| 2185         | 4.3e+07 | 11.1391     | 35.41s       |"
      ]
     },
     "metadata": {},
     "output_type": "display_data"
    },
    {
     "data": {
      "text/html": [
       "<pre>| 2249         | 4.4e+07 | 11.4679     | 36.42s       |</pre>"
      ],
      "text/plain": [
       "| 2249         | 4.4e+07 | 11.4679     | 36.42s       |"
      ]
     },
     "metadata": {},
     "output_type": "display_data"
    },
    {
     "data": {
      "text/html": [
       "<pre>| 2315         | 4.5e+07 | 11.8017     | 37.42s       |</pre>"
      ],
      "text/plain": [
       "| 2315         | 4.5e+07 | 11.8017     | 37.42s       |"
      ]
     },
     "metadata": {},
     "output_type": "display_data"
    },
    {
     "data": {
      "text/html": [
       "<pre>| 2381         | 4.7e+07 | 12.1381     | 38.44s       |</pre>"
      ],
      "text/plain": [
       "| 2381         | 4.7e+07 | 12.1381     | 38.44s       |"
      ]
     },
     "metadata": {},
     "output_type": "display_data"
    },
    {
     "data": {
      "text/html": [
       "<pre>| 2443         | 4.8e+07 | 12.4567     | 39.43s       |</pre>"
      ],
      "text/plain": [
       "| 2443         | 4.8e+07 | 12.4567     | 39.43s       |"
      ]
     },
     "metadata": {},
     "output_type": "display_data"
    },
    {
     "data": {
      "text/html": [
       "<pre>| 2509         | 4.9e+07 | 12.7931     | 40.45s       |</pre>"
      ],
      "text/plain": [
       "| 2509         | 4.9e+07 | 12.7931     | 40.45s       |"
      ]
     },
     "metadata": {},
     "output_type": "display_data"
    },
    {
     "data": {
      "text/html": [
       "<pre>| 2573         | 5e+07   | 13.1193     | 41.44s       |</pre>"
      ],
      "text/plain": [
       "| 2573         | 5e+07   | 13.1193     | 41.44s       |"
      ]
     },
     "metadata": {},
     "output_type": "display_data"
    },
    {
     "data": {
      "text/html": [
       "<pre>| 2638         | 5.2e+07 | 13.448      | 42.44s       |</pre>"
      ],
      "text/plain": [
       "| 2638         | 5.2e+07 | 13.448      | 42.44s       |"
      ]
     },
     "metadata": {},
     "output_type": "display_data"
    },
    {
     "data": {
      "text/html": [
       "<pre>| 2702         | 5.3e+07 | 13.7768     | 43.44s       |</pre>"
      ],
      "text/plain": [
       "| 2702         | 5.3e+07 | 13.7768     | 43.44s       |"
      ]
     },
     "metadata": {},
     "output_type": "display_data"
    },
    {
     "data": {
      "text/html": [
       "<pre>| 2767         | 5.4e+07 | 14.1055     | 44.45s       |</pre>"
      ],
      "text/plain": [
       "| 2767         | 5.4e+07 | 14.1055     | 44.45s       |"
      ]
     },
     "metadata": {},
     "output_type": "display_data"
    },
    {
     "data": {
      "text/html": [
       "<pre>| 2835         | 5.6e+07 | 14.4521     | 45.47s       |</pre>"
      ],
      "text/plain": [
       "| 2835         | 5.6e+07 | 14.4521     | 45.47s       |"
      ]
     },
     "metadata": {},
     "output_type": "display_data"
    },
    {
     "data": {
      "text/html": [
       "<pre>| 2901         | 5.7e+07 | 14.7885     | 46.45s       |</pre>"
      ],
      "text/plain": [
       "| 2901         | 5.7e+07 | 14.7885     | 46.45s       |"
      ]
     },
     "metadata": {},
     "output_type": "display_data"
    },
    {
     "data": {
      "text/html": [
       "<pre>| 2966         | 5.8e+07 | 15.1223     | 47.46s       |</pre>"
      ],
      "text/plain": [
       "| 2966         | 5.8e+07 | 15.1223     | 47.46s       |"
      ]
     },
     "metadata": {},
     "output_type": "display_data"
    },
    {
     "data": {
      "text/html": [
       "<pre>| 3029         | 5.9e+07 | 15.4409     | 48.46s       |</pre>"
      ],
      "text/plain": [
       "| 3029         | 5.9e+07 | 15.4409     | 48.46s       |"
      ]
     },
     "metadata": {},
     "output_type": "display_data"
    },
    {
     "data": {
      "text/html": [
       "<pre>| 3093         | 6.1e+07 | 15.7671     | 49.47s       |</pre>"
      ],
      "text/plain": [
       "| 3093         | 6.1e+07 | 15.7671     | 49.47s       |"
      ]
     },
     "metadata": {},
     "output_type": "display_data"
    },
    {
     "data": {
      "text/html": [
       "<pre>| 3158         | 6.2e+07 | 16.1009     | 50.48s       |</pre>"
      ],
      "text/plain": [
       "| 3158         | 6.2e+07 | 16.1009     | 50.48s       |"
      ]
     },
     "metadata": {},
     "output_type": "display_data"
    },
    {
     "data": {
      "text/html": [
       "<pre>| 3223         | 6.3e+07 | 16.4322     | 51.47s       |</pre>"
      ],
      "text/plain": [
       "| 3223         | 6.3e+07 | 16.4322     | 51.47s       |"
      ]
     },
     "metadata": {},
     "output_type": "display_data"
    },
    {
     "data": {
      "text/html": [
       "<pre>| 3287         | 6.4e+07 | 16.7559     | 52.48s       |</pre>"
      ],
      "text/plain": [
       "| 3287         | 6.4e+07 | 16.7559     | 52.48s       |"
      ]
     },
     "metadata": {},
     "output_type": "display_data"
    },
    {
     "data": {
      "text/html": [
       "<pre>| 3351         | 6.6e+07 | 17.0821     | 53.48s       |</pre>"
      ],
      "text/plain": [
       "| 3351         | 6.6e+07 | 17.0821     | 53.48s       |"
      ]
     },
     "metadata": {},
     "output_type": "display_data"
    },
    {
     "data": {
      "text/html": [
       "<pre>| 3416         | 6.7e+07 | 17.4134     | 54.49s       |</pre>"
      ],
      "text/plain": [
       "| 3416         | 6.7e+07 | 17.4134     | 54.49s       |"
      ]
     },
     "metadata": {},
     "output_type": "display_data"
    },
    {
     "data": {
      "text/html": [
       "<pre>| 3481         | 6.8e+07 | 17.7446     | 55.50s       |</pre>"
      ],
      "text/plain": [
       "| 3481         | 6.8e+07 | 17.7446     | 55.50s       |"
      ]
     },
     "metadata": {},
     "output_type": "display_data"
    },
    {
     "data": {
      "text/html": [
       "<pre>| 3544         | 7e+07   | 18.0683     | 56.49s       |</pre>"
      ],
      "text/plain": [
       "| 3544         | 7e+07   | 18.0683     | 56.49s       |"
      ]
     },
     "metadata": {},
     "output_type": "display_data"
    },
    {
     "data": {
      "text/html": [
       "<pre>| 3609         | 7.1e+07 | 18.3996     | 57.51s       |</pre>"
      ],
      "text/plain": [
       "| 3609         | 7.1e+07 | 18.3996     | 57.51s       |"
      ]
     },
     "metadata": {},
     "output_type": "display_data"
    },
    {
     "data": {
      "text/html": [
       "<pre>| 3673         | 7.2e+07 | 18.7232     | 58.50s       |</pre>"
      ],
      "text/plain": [
       "| 3673         | 7.2e+07 | 18.7232     | 58.50s       |"
      ]
     },
     "metadata": {},
     "output_type": "display_data"
    },
    {
     "data": {
      "text/html": [
       "<pre>| 3734         | 7.3e+07 | 19.0367     | 59.50s       |</pre>"
      ],
      "text/plain": [
       "| 3734         | 7.3e+07 | 19.0367     | 59.50s       |"
      ]
     },
     "metadata": {},
     "output_type": "display_data"
    },
    {
     "data": {
      "text/html": [
       "<pre>| 3800         | 7.5e+07 | 19.3705     | 1m 0s        |</pre>"
      ],
      "text/plain": [
       "| 3800         | 7.5e+07 | 19.3705     | 1m 0s        |"
      ]
     },
     "metadata": {},
     "output_type": "display_data"
    },
    {
     "data": {
      "text/html": [
       "<pre>| 3864         | 7.6e+07 | 19.6993     | 1m 1s        |</pre>"
      ],
      "text/plain": [
       "| 3864         | 7.6e+07 | 19.6993     | 1m 1s        |"
      ]
     },
     "metadata": {},
     "output_type": "display_data"
    },
    {
     "data": {
      "text/html": [
       "<pre>| 3929         | 7.7e+07 | 20.0306     | 1m 2s        |</pre>"
      ],
      "text/plain": [
       "| 3929         | 7.7e+07 | 20.0306     | 1m 2s        |"
      ]
     },
     "metadata": {},
     "output_type": "display_data"
    },
    {
     "data": {
      "text/html": [
       "<pre>| 3983         | 7.8e+07 | 20.3058     | 1m 3s        |</pre>"
      ],
      "text/plain": [
       "| 3983         | 7.8e+07 | 20.3058     | 1m 3s        |"
      ]
     },
     "metadata": {},
     "output_type": "display_data"
    },
    {
     "data": {
      "text/html": [
       "<pre>| 4029         | 7.9e+07 | 20.5377     | 1m 4s        |</pre>"
      ],
      "text/plain": [
       "| 4029         | 7.9e+07 | 20.5377     | 1m 4s        |"
      ]
     },
     "metadata": {},
     "output_type": "display_data"
    },
    {
     "data": {
      "text/html": [
       "<pre>| 4080         | 8e+07   | 20.8002     | 1m 5s        |</pre>"
      ],
      "text/plain": [
       "| 4080         | 8e+07   | 20.8002     | 1m 5s        |"
      ]
     },
     "metadata": {},
     "output_type": "display_data"
    },
    {
     "data": {
      "text/html": [
       "<pre>| 4116         | 8.1e+07 | 20.9811     | 1m 6s        |</pre>"
      ],
      "text/plain": [
       "| 4116         | 8.1e+07 | 20.9811     | 1m 6s        |"
      ]
     },
     "metadata": {},
     "output_type": "display_data"
    },
    {
     "data": {
      "text/html": [
       "<pre>| 4176         | 8.2e+07 | 21.287      | 1m 7s        |</pre>"
      ],
      "text/plain": [
       "| 4176         | 8.2e+07 | 21.287      | 1m 7s        |"
      ]
     },
     "metadata": {},
     "output_type": "display_data"
    },
    {
     "data": {
      "text/html": [
       "<pre>| 4227         | 8.3e+07 | 21.5494     | 1m 8s        |</pre>"
      ],
      "text/plain": [
       "| 4227         | 8.3e+07 | 21.5494     | 1m 8s        |"
      ]
     },
     "metadata": {},
     "output_type": "display_data"
    },
    {
     "data": {
      "text/html": [
       "<pre>| 4287         | 8.4e+07 | 21.8552     | 1m 9s        |</pre>"
      ],
      "text/plain": [
       "| 4287         | 8.4e+07 | 21.8552     | 1m 9s        |"
      ]
     },
     "metadata": {},
     "output_type": "display_data"
    },
    {
     "data": {
      "text/html": [
       "<pre>| 4352         | 8.5e+07 | 22.1865     | 1m 10s       |</pre>"
      ],
      "text/plain": [
       "| 4352         | 8.5e+07 | 22.1865     | 1m 10s       |"
      ]
     },
     "metadata": {},
     "output_type": "display_data"
    },
    {
     "data": {
      "text/html": [
       "<pre>| 4420         | 8.7e+07 | 22.5331     | 1m 11s       |</pre>"
      ],
      "text/plain": [
       "| 4420         | 8.7e+07 | 22.5331     | 1m 11s       |"
      ]
     },
     "metadata": {},
     "output_type": "display_data"
    },
    {
     "data": {
      "text/html": [
       "<pre>| 4487         | 8.8e+07 | 22.8721     | 1m 12s       |</pre>"
      ],
      "text/plain": [
       "| 4487         | 8.8e+07 | 22.8721     | 1m 12s       |"
      ]
     },
     "metadata": {},
     "output_type": "display_data"
    },
    {
     "data": {
      "text/html": [
       "<pre>| 4555         | 8.9e+07 | 23.2187     | 1m 13s       |</pre>"
      ],
      "text/plain": [
       "| 4555         | 8.9e+07 | 23.2187     | 1m 13s       |"
      ]
     },
     "metadata": {},
     "output_type": "display_data"
    },
    {
     "data": {
      "text/html": [
       "<pre>| 4620         | 9.1e+07 | 23.5525     | 1m 14s       |</pre>"
      ],
      "text/plain": [
       "| 4620         | 9.1e+07 | 23.5525     | 1m 14s       |"
      ]
     },
     "metadata": {},
     "output_type": "display_data"
    },
    {
     "data": {
      "text/html": [
       "<pre>| 4687         | 9.2e+07 | 23.894      | 1m 15s       |</pre>"
      ],
      "text/plain": [
       "| 4687         | 9.2e+07 | 23.894      | 1m 15s       |"
      ]
     },
     "metadata": {},
     "output_type": "display_data"
    },
    {
     "data": {
      "text/html": [
       "<pre>| 4754         | 9.3e+07 | 24.2355     | 1m 16s       |</pre>"
      ],
      "text/plain": [
       "| 4754         | 9.3e+07 | 24.2355     | 1m 16s       |"
      ]
     },
     "metadata": {},
     "output_type": "display_data"
    },
    {
     "data": {
      "text/html": [
       "<pre>| 4819         | 9.5e+07 | 24.5668     | 1m 17s       |</pre>"
      ],
      "text/plain": [
       "| 4819         | 9.5e+07 | 24.5668     | 1m 17s       |"
      ]
     },
     "metadata": {},
     "output_type": "display_data"
    },
    {
     "data": {
      "text/html": [
       "<pre>| 4879         | 9.6e+07 | 24.8726     | 1m 18s       |</pre>"
      ],
      "text/plain": [
       "| 4879         | 9.6e+07 | 24.8726     | 1m 18s       |"
      ]
     },
     "metadata": {},
     "output_type": "display_data"
    },
    {
     "data": {
      "text/html": [
       "<pre>| 4943         | 9.7e+07 | 25.1962     | 1m 19s       |</pre>"
      ],
      "text/plain": [
       "| 4943         | 9.7e+07 | 25.1962     | 1m 19s       |"
      ]
     },
     "metadata": {},
     "output_type": "display_data"
    },
    {
     "data": {
      "text/html": [
       "<pre>| 5008         | 9.8e+07 | 25.5301     | 1m 20s       |</pre>"
      ],
      "text/plain": [
       "| 5008         | 9.8e+07 | 25.5301     | 1m 20s       |"
      ]
     },
     "metadata": {},
     "output_type": "display_data"
    },
    {
     "data": {
      "text/html": [
       "<pre>| 5074         | 1e+08   | 25.8665     | 1m 21s       |</pre>"
      ],
      "text/plain": [
       "| 5074         | 1e+08   | 25.8665     | 1m 21s       |"
      ]
     },
     "metadata": {},
     "output_type": "display_data"
    },
    {
     "data": {
      "text/html": [
       "<pre>| 5141         | 1e+08   | 26.2054     | 1m 22s       |</pre>"
      ],
      "text/plain": [
       "| 5141         | 1e+08   | 26.2054     | 1m 22s       |"
      ]
     },
     "metadata": {},
     "output_type": "display_data"
    },
    {
     "data": {
      "text/html": [
       "<pre>| 5207         | 1e+08   | 26.5418     | 1m 23s       |</pre>"
      ],
      "text/plain": [
       "| 5207         | 1e+08   | 26.5418     | 1m 23s       |"
      ]
     },
     "metadata": {},
     "output_type": "display_data"
    },
    {
     "data": {
      "text/html": [
       "<pre>| 5274         | 1e+08   | 26.8858     | 1m 24s       |</pre>"
      ],
      "text/plain": [
       "| 5274         | 1e+08   | 26.8858     | 1m 24s       |"
      ]
     },
     "metadata": {},
     "output_type": "display_data"
    },
    {
     "data": {
      "text/html": [
       "<pre>| 5340         | 1e+08   | 27.2197     | 1m 25s       |</pre>"
      ],
      "text/plain": [
       "| 5340         | 1e+08   | 27.2197     | 1m 25s       |"
      ]
     },
     "metadata": {},
     "output_type": "display_data"
    },
    {
     "data": {
      "text/html": [
       "<pre>| 5400         | 1.1e+08 | 27.528      | 1m 26s       |</pre>"
      ],
      "text/plain": [
       "| 5400         | 1.1e+08 | 27.528      | 1m 26s       |"
      ]
     },
     "metadata": {},
     "output_type": "display_data"
    },
    {
     "data": {
      "text/html": [
       "<pre>| 5464         | 1.1e+08 | 27.8517     | 1m 27s       |</pre>"
      ],
      "text/plain": [
       "| 5464         | 1.1e+08 | 27.8517     | 1m 27s       |"
      ]
     },
     "metadata": {},
     "output_type": "display_data"
    },
    {
     "data": {
      "text/html": [
       "<pre>| 5518         | 1.1e+08 | 28.1295     | 1m 28s       |</pre>"
      ],
      "text/plain": [
       "| 5518         | 1.1e+08 | 28.1295     | 1m 28s       |"
      ]
     },
     "metadata": {},
     "output_type": "display_data"
    },
    {
     "data": {
      "text/html": [
       "<pre>| 5578         | 1.1e+08 | 28.4353     | 1m 29s       |</pre>"
      ],
      "text/plain": [
       "| 5578         | 1.1e+08 | 28.4353     | 1m 29s       |"
      ]
     },
     "metadata": {},
     "output_type": "display_data"
    },
    {
     "data": {
      "text/html": [
       "<pre>| 5635         | 1.1e+08 | 28.7258     | 1m 30s       |</pre>"
      ],
      "text/plain": [
       "| 5635         | 1.1e+08 | 28.7258     | 1m 30s       |"
      ]
     },
     "metadata": {},
     "output_type": "display_data"
    },
    {
     "data": {
      "text/html": [
       "<pre>| 5695         | 1.1e+08 | 29.0316     | 1m 31s       |</pre>"
      ],
      "text/plain": [
       "| 5695         | 1.1e+08 | 29.0316     | 1m 31s       |"
      ]
     },
     "metadata": {},
     "output_type": "display_data"
    },
    {
     "data": {
      "text/html": [
       "<pre>| 5757         | 1.1e+08 | 29.3476     | 1m 32s       |</pre>"
      ],
      "text/plain": [
       "| 5757         | 1.1e+08 | 29.3476     | 1m 32s       |"
      ]
     },
     "metadata": {},
     "output_type": "display_data"
    },
    {
     "data": {
      "text/html": [
       "<pre>| 5821         | 1.1e+08 | 29.6713     | 1m 33s       |</pre>"
      ],
      "text/plain": [
       "| 5821         | 1.1e+08 | 29.6713     | 1m 33s       |"
      ]
     },
     "metadata": {},
     "output_type": "display_data"
    },
    {
     "data": {
      "text/html": [
       "<pre>| 5886         | 1.2e+08 | 30.0051     | 1m 34s       |</pre>"
      ],
      "text/plain": [
       "| 5886         | 1.2e+08 | 30.0051     | 1m 34s       |"
      ]
     },
     "metadata": {},
     "output_type": "display_data"
    },
    {
     "data": {
      "text/html": [
       "<pre>| 5952         | 1.2e+08 | 30.3389     | 1m 35s       |</pre>"
      ],
      "text/plain": [
       "| 5952         | 1.2e+08 | 30.3389     | 1m 35s       |"
      ]
     },
     "metadata": {},
     "output_type": "display_data"
    },
    {
     "data": {
      "text/html": [
       "<pre>| 6010         | 1.2e+08 | 30.6346     | 1m 36s       |</pre>"
      ],
      "text/plain": [
       "| 6010         | 1.2e+08 | 30.6346     | 1m 36s       |"
      ]
     },
     "metadata": {},
     "output_type": "display_data"
    },
    {
     "data": {
      "text/html": [
       "<pre>| 6071         | 1.2e+08 | 30.948      | 1m 37s       |</pre>"
      ],
      "text/plain": [
       "| 6071         | 1.2e+08 | 30.948      | 1m 37s       |"
      ]
     },
     "metadata": {},
     "output_type": "display_data"
    },
    {
     "data": {
      "text/html": [
       "<pre>| 6137         | 1.2e+08 | 31.2819     | 1m 38s       |</pre>"
      ],
      "text/plain": [
       "| 6137         | 1.2e+08 | 31.2819     | 1m 38s       |"
      ]
     },
     "metadata": {},
     "output_type": "display_data"
    },
    {
     "data": {
      "text/html": [
       "<pre>| 6206         | 1.2e+08 | 31.6335     | 1m 39s       |</pre>"
      ],
      "text/plain": [
       "| 6206         | 1.2e+08 | 31.6335     | 1m 39s       |"
      ]
     },
     "metadata": {},
     "output_type": "display_data"
    },
    {
     "data": {
      "text/html": [
       "<pre>| 6263         | 1.2e+08 | 31.9241     | 1m 40s       |</pre>"
      ],
      "text/plain": [
       "| 6263         | 1.2e+08 | 31.9241     | 1m 40s       |"
      ]
     },
     "metadata": {},
     "output_type": "display_data"
    },
    {
     "data": {
      "text/html": [
       "<pre>| 6325         | 1.2e+08 | 32.2426     | 1m 41s       |</pre>"
      ],
      "text/plain": [
       "| 6325         | 1.2e+08 | 32.2426     | 1m 41s       |"
      ]
     },
     "metadata": {},
     "output_type": "display_data"
    },
    {
     "data": {
      "text/html": [
       "<pre>| 6383         | 1.3e+08 | 32.5357     | 1m 42s       |</pre>"
      ],
      "text/plain": [
       "| 6383         | 1.3e+08 | 32.5357     | 1m 42s       |"
      ]
     },
     "metadata": {},
     "output_type": "display_data"
    },
    {
     "data": {
      "text/html": [
       "<pre>| 6440         | 1.3e+08 | 32.8262     | 1m 43s       |</pre>"
      ],
      "text/plain": [
       "| 6440         | 1.3e+08 | 32.8262     | 1m 43s       |"
      ]
     },
     "metadata": {},
     "output_type": "display_data"
    },
    {
     "data": {
      "text/html": [
       "<pre>| 6500         | 1.3e+08 | 33.1346     | 1m 44s       |</pre>"
      ],
      "text/plain": [
       "| 6500         | 1.3e+08 | 33.1346     | 1m 44s       |"
      ]
     },
     "metadata": {},
     "output_type": "display_data"
    },
    {
     "data": {
      "text/html": [
       "<pre>| 6565         | 1.3e+08 | 33.4659     | 1m 45s       |</pre>"
      ],
      "text/plain": [
       "| 6565         | 1.3e+08 | 33.4659     | 1m 45s       |"
      ]
     },
     "metadata": {},
     "output_type": "display_data"
    },
    {
     "data": {
      "text/html": [
       "<pre>| 6622         | 1.3e+08 | 33.7564     | 1m 46s       |</pre>"
      ],
      "text/plain": [
       "| 6622         | 1.3e+08 | 33.7564     | 1m 46s       |"
      ]
     },
     "metadata": {},
     "output_type": "display_data"
    },
    {
     "data": {
      "text/html": [
       "<pre>| 6680         | 1.3e+08 | 34.052      | 1m 47s       |</pre>"
      ],
      "text/plain": [
       "| 6680         | 1.3e+08 | 34.052      | 1m 47s       |"
      ]
     },
     "metadata": {},
     "output_type": "display_data"
    },
    {
     "data": {
      "text/html": [
       "<pre>| 6735         | 1.3e+08 | 34.3323     | 1m 48s       |</pre>"
      ],
      "text/plain": [
       "| 6735         | 1.3e+08 | 34.3323     | 1m 48s       |"
      ]
     },
     "metadata": {},
     "output_type": "display_data"
    },
    {
     "data": {
      "text/html": [
       "<pre>| 6798         | 1.3e+08 | 34.6534     | 1m 49s       |</pre>"
      ],
      "text/plain": [
       "| 6798         | 1.3e+08 | 34.6534     | 1m 49s       |"
      ]
     },
     "metadata": {},
     "output_type": "display_data"
    },
    {
     "data": {
      "text/html": [
       "<pre>| 6857         | 1.3e+08 | 34.9541     | 1m 50s       |</pre>"
      ],
      "text/plain": [
       "| 6857         | 1.3e+08 | 34.9541     | 1m 50s       |"
      ]
     },
     "metadata": {},
     "output_type": "display_data"
    },
    {
     "data": {
      "text/html": [
       "<pre>| 6920         | 1.4e+08 | 35.2752     | 1m 51s       |</pre>"
      ],
      "text/plain": [
       "| 6920         | 1.4e+08 | 35.2752     | 1m 51s       |"
      ]
     },
     "metadata": {},
     "output_type": "display_data"
    },
    {
     "data": {
      "text/html": [
       "<pre>| 6980         | 1.4e+08 | 35.581      | 1m 52s       |</pre>"
      ],
      "text/plain": [
       "| 6980         | 1.4e+08 | 35.581      | 1m 52s       |"
      ]
     },
     "metadata": {},
     "output_type": "display_data"
    },
    {
     "data": {
      "text/html": [
       "<pre>| 7039         | 1.4e+08 | 35.8818     | 1m 53s       |</pre>"
      ],
      "text/plain": [
       "| 7039         | 1.4e+08 | 35.8818     | 1m 53s       |"
      ]
     },
     "metadata": {},
     "output_type": "display_data"
    },
    {
     "data": {
      "text/html": [
       "<pre>| 7100         | 1.4e+08 | 36.1927     | 1m 54s       |</pre>"
      ],
      "text/plain": [
       "| 7100         | 1.4e+08 | 36.1927     | 1m 54s       |"
      ]
     },
     "metadata": {},
     "output_type": "display_data"
    },
    {
     "data": {
      "text/html": [
       "<pre>| 7161         | 1.4e+08 | 36.501      | 1m 55s       |</pre>"
      ],
      "text/plain": [
       "| 7161         | 1.4e+08 | 36.501      | 1m 55s       |"
      ]
     },
     "metadata": {},
     "output_type": "display_data"
    },
    {
     "data": {
      "text/html": [
       "<pre>| 7219         | 1.4e+08 | 36.7966     | 1m 56s       |</pre>"
      ],
      "text/plain": [
       "| 7219         | 1.4e+08 | 36.7966     | 1m 56s       |"
      ]
     },
     "metadata": {},
     "output_type": "display_data"
    },
    {
     "data": {
      "text/html": [
       "<pre>| 7279         | 1.4e+08 | 37.1024     | 1m 57s       |</pre>"
      ],
      "text/plain": [
       "| 7279         | 1.4e+08 | 37.1024     | 1m 57s       |"
      ]
     },
     "metadata": {},
     "output_type": "display_data"
    },
    {
     "data": {
      "text/html": [
       "<pre>| 7336         | 1.4e+08 | 37.3955     | 1m 58s       |</pre>"
      ],
      "text/plain": [
       "| 7336         | 1.4e+08 | 37.3955     | 1m 58s       |"
      ]
     },
     "metadata": {},
     "output_type": "display_data"
    },
    {
     "data": {
      "text/html": [
       "<pre>| 7392         | 1.5e+08 | 37.6784     | 1m 59s       |</pre>"
      ],
      "text/plain": [
       "| 7392         | 1.5e+08 | 37.6784     | 1m 59s       |"
      ]
     },
     "metadata": {},
     "output_type": "display_data"
    },
    {
     "data": {
      "text/html": [
       "<pre>| 7451         | 1.5e+08 | 37.9817     | 2m 0s        |</pre>"
      ],
      "text/plain": [
       "| 7451         | 1.5e+08 | 37.9817     | 2m 0s        |"
      ]
     },
     "metadata": {},
     "output_type": "display_data"
    },
    {
     "data": {
      "text/html": [
       "<pre>| 7518         | 1.5e+08 | 38.3206     | 2m 1s        |</pre>"
      ],
      "text/plain": [
       "| 7518         | 1.5e+08 | 38.3206     | 2m 1s        |"
      ]
     },
     "metadata": {},
     "output_type": "display_data"
    },
    {
     "data": {
      "text/html": [
       "<pre>| 7585         | 1.5e+08 | 38.6646     | 2m 2s        |</pre>"
      ],
      "text/plain": [
       "| 7585         | 1.5e+08 | 38.6646     | 2m 2s        |"
      ]
     },
     "metadata": {},
     "output_type": "display_data"
    },
    {
     "data": {
      "text/html": [
       "<pre>| 7643         |         | 38.9577     | 2m 3s        |</pre>"
      ],
      "text/plain": [
       "| 7643         |         | 38.9577     | 2m 3s        |"
      ]
     },
     "metadata": {},
     "output_type": "display_data"
    },
    {
     "data": {
      "text/html": [
       "<pre>| 7705         | 1.5e+08 | 39.2762     | 2m 4s        |</pre>"
      ],
      "text/plain": [
       "| 7705         | 1.5e+08 | 39.2762     | 2m 4s        |"
      ]
     },
     "metadata": {},
     "output_type": "display_data"
    },
    {
     "data": {
      "text/html": [
       "<pre>| 7764         | 1.5e+08 | 39.577      | 2m 5s        |</pre>"
      ],
      "text/plain": [
       "| 7764         | 1.5e+08 | 39.577      | 2m 5s        |"
      ]
     },
     "metadata": {},
     "output_type": "display_data"
    },
    {
     "data": {
      "text/html": [
       "<pre>| 7820         | 1.5e+08 | 39.8598     | 2m 6s        |</pre>"
      ],
      "text/plain": [
       "| 7820         | 1.5e+08 | 39.8598     | 2m 6s        |"
      ]
     },
     "metadata": {},
     "output_type": "display_data"
    },
    {
     "data": {
      "text/html": [
       "<pre>| 7871         | 1.5e+08 | 40.1198     | 2m 7s        |</pre>"
      ],
      "text/plain": [
       "| 7871         | 1.5e+08 | 40.1198     | 2m 7s        |"
      ]
     },
     "metadata": {},
     "output_type": "display_data"
    },
    {
     "data": {
      "text/html": [
       "<pre>| 7914         | 1.6e+08 | 40.3389     | 2m 8s        |</pre>"
      ],
      "text/plain": [
       "| 7914         | 1.6e+08 | 40.3389     | 2m 8s        |"
      ]
     },
     "metadata": {},
     "output_type": "display_data"
    },
    {
     "data": {
      "text/html": [
       "<pre>| 7969         | 1.6e+08 | 40.6193     | 2m 9s        |</pre>"
      ],
      "text/plain": [
       "| 7969         | 1.6e+08 | 40.6193     | 2m 9s        |"
      ]
     },
     "metadata": {},
     "output_type": "display_data"
    },
    {
     "data": {
      "text/html": [
       "<pre>| 7997         | 1.6e+08 | 40.762      | 2m 10s       |</pre>"
      ],
      "text/plain": [
       "| 7997         | 1.6e+08 | 40.762      | 2m 10s       |"
      ]
     },
     "metadata": {},
     "output_type": "display_data"
    },
    {
     "data": {
      "text/html": [
       "<pre>| 8052         | 1.6e+08 | 41.0423     | 2m 11s       |</pre>"
      ],
      "text/plain": [
       "| 8052         | 1.6e+08 | 41.0423     | 2m 11s       |"
      ]
     },
     "metadata": {},
     "output_type": "display_data"
    },
    {
     "data": {
      "text/html": [
       "<pre>| 8104         | 1.6e+08 | 41.3099     | 2m 12s       |</pre>"
      ],
      "text/plain": [
       "| 8104         | 1.6e+08 | 41.3099     | 2m 12s       |"
      ]
     },
     "metadata": {},
     "output_type": "display_data"
    },
    {
     "data": {
      "text/html": [
       "<pre>| 8161         | 1.6e+08 | 41.6004     | 2m 13s       |</pre>"
      ],
      "text/plain": [
       "| 8161         | 1.6e+08 | 41.6004     | 2m 13s       |"
      ]
     },
     "metadata": {},
     "output_type": "display_data"
    },
    {
     "data": {
      "text/html": [
       "<pre>| 8223         | 1.6e+08 | 41.9139     | 2m 14s       |</pre>"
      ],
      "text/plain": [
       "| 8223         | 1.6e+08 | 41.9139     | 2m 14s       |"
      ]
     },
     "metadata": {},
     "output_type": "display_data"
    },
    {
     "data": {
      "text/html": [
       "<pre>| 8290         | 1.6e+08 | 42.2579     | 2m 15s       |</pre>"
      ],
      "text/plain": [
       "| 8290         | 1.6e+08 | 42.2579     | 2m 15s       |"
      ]
     },
     "metadata": {},
     "output_type": "display_data"
    },
    {
     "data": {
      "text/html": [
       "<pre>| 8357         | 1.6e+08 | 42.5994     | 2m 16s       |</pre>"
      ],
      "text/plain": [
       "| 8357         | 1.6e+08 | 42.5994     | 2m 16s       |"
      ]
     },
     "metadata": {},
     "output_type": "display_data"
    },
    {
     "data": {
      "text/html": [
       "<pre>| 8423         | 1.7e+08 | 42.9358     | 2m 17s       |</pre>"
      ],
      "text/plain": [
       "| 8423         | 1.7e+08 | 42.9358     | 2m 17s       |"
      ]
     },
     "metadata": {},
     "output_type": "display_data"
    },
    {
     "data": {
      "text/html": [
       "<pre>| 8481         | 1.7e+08 | 43.2288     | 2m 18s       |</pre>"
      ],
      "text/plain": [
       "| 8481         | 1.7e+08 | 43.2288     | 2m 18s       |"
      ]
     },
     "metadata": {},
     "output_type": "display_data"
    },
    {
     "data": {
      "text/html": [
       "<pre>| 8525         | 1.7e+08 | 43.4531     | 2m 19s       |</pre>"
      ],
      "text/plain": [
       "| 8525         | 1.7e+08 | 43.4531     | 2m 19s       |"
      ]
     },
     "metadata": {},
     "output_type": "display_data"
    },
    {
     "data": {
      "text/html": [
       "<pre>| 8585         | 1.7e+08 | 43.7615     | 2m 20s       |</pre>"
      ],
      "text/plain": [
       "| 8585         | 1.7e+08 | 43.7615     | 2m 20s       |"
      ]
     },
     "metadata": {},
     "output_type": "display_data"
    },
    {
     "data": {
      "text/html": [
       "<pre>| 8629         | 1.7e+08 | 43.9857     | 2m 21s       |</pre>"
      ],
      "text/plain": [
       "| 8629         | 1.7e+08 | 43.9857     | 2m 21s       |"
      ]
     },
     "metadata": {},
     "output_type": "display_data"
    },
    {
     "data": {
      "text/html": [
       "<pre>| 8685         | 1.7e+08 | 44.2686     | 2m 22s       |</pre>"
      ],
      "text/plain": [
       "| 8685         | 1.7e+08 | 44.2686     | 2m 22s       |"
      ]
     },
     "metadata": {},
     "output_type": "display_data"
    },
    {
     "data": {
      "text/html": [
       "<pre>| 8746         | 1.7e+08 | 44.5795     | 2m 23s       |</pre>"
      ],
      "text/plain": [
       "| 8746         | 1.7e+08 | 44.5795     | 2m 23s       |"
      ]
     },
     "metadata": {},
     "output_type": "display_data"
    },
    {
     "data": {
      "text/html": [
       "<pre>| 8812         | 1.7e+08 | 44.9185     | 2m 24s       |</pre>"
      ],
      "text/plain": [
       "| 8812         | 1.7e+08 | 44.9185     | 2m 24s       |"
      ]
     },
     "metadata": {},
     "output_type": "display_data"
    },
    {
     "data": {
      "text/html": [
       "<pre>| 8864         | 1.7e+08 | 45.1809     | 2m 25s       |</pre>"
      ],
      "text/plain": [
       "| 8864         | 1.7e+08 | 45.1809     | 2m 25s       |"
      ]
     },
     "metadata": {},
     "output_type": "display_data"
    },
    {
     "data": {
      "text/html": [
       "<pre>| 8914         | 1.7e+08 | 45.4383     | 2m 26s       |</pre>"
      ],
      "text/plain": [
       "| 8914         | 1.7e+08 | 45.4383     | 2m 26s       |"
      ]
     },
     "metadata": {},
     "output_type": "display_data"
    },
    {
     "data": {
      "text/html": [
       "<pre>| 8976         | 1.8e+08 | 45.7518     | 2m 27s       |</pre>"
      ],
      "text/plain": [
       "| 8976         | 1.8e+08 | 45.7518     | 2m 27s       |"
      ]
     },
     "metadata": {},
     "output_type": "display_data"
    },
    {
     "data": {
      "text/html": [
       "<pre>| 9040         | 1.8e+08 | 46.0805     | 2m 28s       |</pre>"
      ],
      "text/plain": [
       "| 9040         | 1.8e+08 | 46.0805     | 2m 28s       |"
      ]
     },
     "metadata": {},
     "output_type": "display_data"
    },
    {
     "data": {
      "text/html": [
       "<pre>| 9104         | 1.8e+08 | 46.4067     | 2m 29s       |</pre>"
      ],
      "text/plain": [
       "| 9104         | 1.8e+08 | 46.4067     | 2m 29s       |"
      ]
     },
     "metadata": {},
     "output_type": "display_data"
    },
    {
     "data": {
      "text/html": [
       "<pre>| 9171         | 1.8e+08 | 46.7482     | 2m 30s       |</pre>"
      ],
      "text/plain": [
       "| 9171         | 1.8e+08 | 46.7482     | 2m 30s       |"
      ]
     },
     "metadata": {},
     "output_type": "display_data"
    },
    {
     "data": {
      "text/html": [
       "<pre>| 9218         | 1.8e+08 | 46.9878     | 2m 31s       |</pre>"
      ],
      "text/plain": [
       "| 9218         | 1.8e+08 | 46.9878     | 2m 31s       |"
      ]
     },
     "metadata": {},
     "output_type": "display_data"
    },
    {
     "data": {
      "text/html": [
       "<pre>| 9275         | 1.8e+08 | 47.2783     | 2m 32s       |</pre>"
      ],
      "text/plain": [
       "| 9275         | 1.8e+08 | 47.2783     | 2m 32s       |"
      ]
     },
     "metadata": {},
     "output_type": "display_data"
    },
    {
     "data": {
      "text/html": [
       "<pre>| 9341         | 1.8e+08 | 47.6121     | 2m 33s       |</pre>"
      ],
      "text/plain": [
       "| 9341         | 1.8e+08 | 47.6121     | 2m 33s       |"
      ]
     },
     "metadata": {},
     "output_type": "display_data"
    },
    {
     "data": {
      "text/html": [
       "<pre>| 9407         | 1.8e+08 | 47.9485     | 2m 34s       |</pre>"
      ],
      "text/plain": [
       "| 9407         | 1.8e+08 | 47.9485     | 2m 34s       |"
      ]
     },
     "metadata": {},
     "output_type": "display_data"
    },
    {
     "data": {
      "text/html": [
       "<pre>| 9473         | 1.9e+08 | 48.2849     | 2m 35s       |</pre>"
      ],
      "text/plain": [
       "| 9473         | 1.9e+08 | 48.2849     | 2m 35s       |"
      ]
     },
     "metadata": {},
     "output_type": "display_data"
    },
    {
     "data": {
      "text/html": [
       "<pre>| 9540         | 1.9e+08 | 48.6289     | 2m 36s       |</pre>"
      ],
      "text/plain": [
       "| 9540         | 1.9e+08 | 48.6289     | 2m 36s       |"
      ]
     },
     "metadata": {},
     "output_type": "display_data"
    },
    {
     "data": {
      "text/html": [
       "<pre>| 9606         | 1.9e+08 | 48.9628     | 2m 37s       |</pre>"
      ],
      "text/plain": [
       "| 9606         | 1.9e+08 | 48.9628     | 2m 37s       |"
      ]
     },
     "metadata": {},
     "output_type": "display_data"
    },
    {
     "data": {
      "text/html": [
       "<pre>| 9674         | 1.9e+08 | 49.3094     | 2m 38s       |</pre>"
      ],
      "text/plain": [
       "| 9674         | 1.9e+08 | 49.3094     | 2m 38s       |"
      ]
     },
     "metadata": {},
     "output_type": "display_data"
    },
    {
     "data": {
      "text/html": [
       "<pre>| 9739         | 1.9e+08 | 49.6407     | 2m 39s       |</pre>"
      ],
      "text/plain": [
       "| 9739         | 1.9e+08 | 49.6407     | 2m 39s       |"
      ]
     },
     "metadata": {},
     "output_type": "display_data"
    },
    {
     "data": {
      "text/html": [
       "<pre>| 9798         | 1.9e+08 | 49.9439     | 2m 40s       |</pre>"
      ],
      "text/plain": [
       "| 9798         | 1.9e+08 | 49.9439     | 2m 40s       |"
      ]
     },
     "metadata": {},
     "output_type": "display_data"
    },
    {
     "data": {
      "text/html": [
       "<pre>| 9837         | 1.9e+08 | 50.1427     | 2m 41s       |</pre>"
      ],
      "text/plain": [
       "| 9837         | 1.9e+08 | 50.1427     | 2m 41s       |"
      ]
     },
     "metadata": {},
     "output_type": "display_data"
    },
    {
     "data": {
      "text/html": [
       "<pre>| 9908         | 1.9e+08 | 50.5021     | 2m 42s       |</pre>"
      ],
      "text/plain": [
       "| 9908         | 1.9e+08 | 50.5021     | 2m 42s       |"
      ]
     },
     "metadata": {},
     "output_type": "display_data"
    },
    {
     "data": {
      "text/html": [
       "<pre>| 9980         | 2e+08   | 50.8691     | 2m 43s       |</pre>"
      ],
      "text/plain": [
       "| 9980         | 2e+08   | 50.8691     | 2m 43s       |"
      ]
     },
     "metadata": {},
     "output_type": "display_data"
    },
    {
     "data": {
      "text/html": [
       "<pre>| 10048        | 2e+08   | 51.2183     | 2m 44s       |</pre>"
      ],
      "text/plain": [
       "| 10048        | 2e+08   | 51.2183     | 2m 44s       |"
      ]
     },
     "metadata": {},
     "output_type": "display_data"
    },
    {
     "data": {
      "text/html": [
       "<pre>| 10120        | 2e+08   | 51.5827     | 2m 45s       |</pre>"
      ],
      "text/plain": [
       "| 10120        | 2e+08   | 51.5827     | 2m 45s       |"
      ]
     },
     "metadata": {},
     "output_type": "display_data"
    },
    {
     "data": {
      "text/html": [
       "<pre>| 10184        | 2e+08   | 51.909      | 2m 46s       |</pre>"
      ],
      "text/plain": [
       "| 10184        | 2e+08   | 51.909      | 2m 46s       |"
      ]
     },
     "metadata": {},
     "output_type": "display_data"
    },
    {
     "data": {
      "text/html": [
       "<pre>| 10254        | 2e+08   | 52.2683     | 2m 47s       |</pre>"
      ],
      "text/plain": [
       "| 10254        | 2e+08   | 52.2683     | 2m 47s       |"
      ]
     },
     "metadata": {},
     "output_type": "display_data"
    },
    {
     "data": {
      "text/html": [
       "<pre>| 10321        | 2e+08   | 52.6098     | 2m 48s       |</pre>"
      ],
      "text/plain": [
       "| 10321        | 2e+08   | 52.6098     | 2m 48s       |"
      ]
     },
     "metadata": {},
     "output_type": "display_data"
    },
    {
     "data": {
      "text/html": [
       "<pre>| 10393        | 2e+08   | 52.9743     | 2m 49s       |</pre>"
      ],
      "text/plain": [
       "| 10393        | 2e+08   | 52.9743     | 2m 49s       |"
      ]
     },
     "metadata": {},
     "output_type": "display_data"
    },
    {
     "data": {
      "text/html": [
       "<pre>| 10465        | 2.1e+08 | 53.3413     | 2m 50s       |</pre>"
      ],
      "text/plain": [
       "| 10465        | 2.1e+08 | 53.3413     | 2m 50s       |"
      ]
     },
     "metadata": {},
     "output_type": "display_data"
    },
    {
     "data": {
      "text/html": [
       "<pre>| 10536        | 2.1e+08 | 53.7032     | 2m 51s       |</pre>"
      ],
      "text/plain": [
       "| 10536        | 2.1e+08 | 53.7032     | 2m 51s       |"
      ]
     },
     "metadata": {},
     "output_type": "display_data"
    },
    {
     "data": {
      "text/html": [
       "<pre>| 10608        | 2.1e+08 | 54.0728     | 2m 52s       |</pre>"
      ],
      "text/plain": [
       "| 10608        | 2.1e+08 | 54.0728     | 2m 52s       |"
      ]
     },
     "metadata": {},
     "output_type": "display_data"
    },
    {
     "data": {
      "text/html": [
       "<pre>| 10682        | 2.1e+08 | 54.45       | 2m 53s       |</pre>"
      ],
      "text/plain": [
       "| 10682        | 2.1e+08 | 54.45       | 2m 53s       |"
      ]
     },
     "metadata": {},
     "output_type": "display_data"
    },
    {
     "data": {
      "text/html": [
       "<pre>| 10746        | 2.1e+08 | 54.7762     | 2m 54s       |</pre>"
      ],
      "text/plain": [
       "| 10746        | 2.1e+08 | 54.7762     | 2m 54s       |"
      ]
     },
     "metadata": {},
     "output_type": "display_data"
    },
    {
     "data": {
      "text/html": [
       "<pre>| 10800        | 2.1e+08 | 55.0489     | 2m 55s       |</pre>"
      ],
      "text/plain": [
       "| 10800        | 2.1e+08 | 55.0489     | 2m 55s       |"
      ]
     },
     "metadata": {},
     "output_type": "display_data"
    },
    {
     "data": {
      "text/html": [
       "<pre>| 10859        | 2.1e+08 | 55.3497     | 2m 56s       |</pre>"
      ],
      "text/plain": [
       "| 10859        | 2.1e+08 | 55.3497     | 2m 56s       |"
      ]
     },
     "metadata": {},
     "output_type": "display_data"
    },
    {
     "data": {
      "text/html": [
       "<pre>| 10898        | 2.1e+08 | 55.551      | 2m 57s       |</pre>"
      ],
      "text/plain": [
       "| 10898        | 2.1e+08 | 55.551      | 2m 57s       |"
      ]
     },
     "metadata": {},
     "output_type": "display_data"
    },
    {
     "data": {
      "text/html": [
       "<pre>| 10936        | 2.1e+08 | 55.7422     | 2m 58s       |</pre>"
      ],
      "text/plain": [
       "| 10936        | 2.1e+08 | 55.7422     | 2m 58s       |"
      ]
     },
     "metadata": {},
     "output_type": "display_data"
    },
    {
     "data": {
      "text/html": [
       "<pre>| 10972        | 2.2e+08 | 55.9282     | 2m 59s       |</pre>"
      ],
      "text/plain": [
       "| 10972        | 2.2e+08 | 55.9282     | 2m 59s       |"
      ]
     },
     "metadata": {},
     "output_type": "display_data"
    },
    {
     "data": {
      "text/html": [
       "<pre>| 11019        | 2.2e+08 | 56.1678     | 3m 0s        |</pre>"
      ],
      "text/plain": [
       "| 11019        | 2.2e+08 | 56.1678     | 3m 0s        |"
      ]
     },
     "metadata": {},
     "output_type": "display_data"
    },
    {
     "data": {
      "text/html": [
       "<pre>| 11074        | 2.2e+08 | 56.4482     | 3m 1s        |</pre>"
      ],
      "text/plain": [
       "| 11074        | 2.2e+08 | 56.4482     | 3m 1s        |"
      ]
     },
     "metadata": {},
     "output_type": "display_data"
    },
    {
     "data": {
      "text/html": [
       "<pre>| 11127        | 2.2e+08 | 56.7183     | 3m 2s        |</pre>"
      ],
      "text/plain": [
       "| 11127        | 2.2e+08 | 56.7183     | 3m 2s        |"
      ]
     },
     "metadata": {},
     "output_type": "display_data"
    },
    {
     "data": {
      "text/html": [
       "<pre>| 11173        | 2.2e+08 | 56.9502     | 3m 3s        |</pre>"
      ],
      "text/plain": [
       "| 11173        | 2.2e+08 | 56.9502     | 3m 3s        |"
      ]
     },
     "metadata": {},
     "output_type": "display_data"
    },
    {
     "data": {
      "text/html": [
       "<pre>| 11233        | 2.2e+08 | 57.2586     | 3m 4s        |</pre>"
      ],
      "text/plain": [
       "| 11233        | 2.2e+08 | 57.2586     | 3m 4s        |"
      ]
     },
     "metadata": {},
     "output_type": "display_data"
    },
    {
     "data": {
      "text/html": [
       "<pre>| 11291        | 2.2e+08 | 57.5543     | 3m 5s        |</pre>"
      ],
      "text/plain": [
       "| 11291        | 2.2e+08 | 57.5543     | 3m 5s        |"
      ]
     },
     "metadata": {},
     "output_type": "display_data"
    },
    {
     "data": {
      "text/html": [
       "<pre>| 11336        | 2.2e+08 | 57.7811     | 3m 6s        |</pre>"
      ],
      "text/plain": [
       "| 11336        | 2.2e+08 | 57.7811     | 3m 6s        |"
      ]
     },
     "metadata": {},
     "output_type": "display_data"
    },
    {
     "data": {
      "text/html": [
       "<pre>| 11390        | 2.2e+08 | 58.0589     | 3m 7s        |</pre>"
      ],
      "text/plain": [
       "| 11390        | 2.2e+08 | 58.0589     | 3m 7s        |"
      ]
     },
     "metadata": {},
     "output_type": "display_data"
    },
    {
     "data": {
      "text/html": [
       "<pre>| 11446        | 2.2e+08 | 58.3444     | 3m 8s        |</pre>"
      ],
      "text/plain": [
       "| 11446        | 2.2e+08 | 58.3444     | 3m 8s        |"
      ]
     },
     "metadata": {},
     "output_type": "display_data"
    },
    {
     "data": {
      "text/html": [
       "<pre>| 11506        | 2.3e+08 | 58.6477     | 3m 9s        |</pre>"
      ],
      "text/plain": [
       "| 11506        | 2.3e+08 | 58.6477     | 3m 9s        |"
      ]
     },
     "metadata": {},
     "output_type": "display_data"
    },
    {
     "data": {
      "text/html": [
       "<pre>| 11577        | 2.3e+08 | 59.0096     | 3m 10s       |</pre>"
      ],
      "text/plain": [
       "| 11577        | 2.3e+08 | 59.0096     | 3m 10s       |"
      ]
     },
     "metadata": {},
     "output_type": "display_data"
    },
    {
     "data": {
      "text/html": [
       "<pre>| 11648        | 2.3e+08 | 59.3715     | 3m 11s       |</pre>"
      ],
      "text/plain": [
       "| 11648        | 2.3e+08 | 59.3715     | 3m 11s       |"
      ]
     },
     "metadata": {},
     "output_type": "display_data"
    },
    {
     "data": {
      "text/html": [
       "<pre>| 11719        | 2.3e+08 | 59.736      | 3m 12s       |</pre>"
      ],
      "text/plain": [
       "| 11719        | 2.3e+08 | 59.736      | 3m 12s       |"
      ]
     },
     "metadata": {},
     "output_type": "display_data"
    },
    {
     "data": {
      "text/html": [
       "<pre>| 11792        | 2.3e+08 | 60.1081     | 3m 13s       |</pre>"
      ],
      "text/plain": [
       "| 11792        | 2.3e+08 | 60.1081     | 3m 13s       |"
      ]
     },
     "metadata": {},
     "output_type": "display_data"
    },
    {
     "data": {
      "text/html": [
       "<pre>| 11862        | 2.3e+08 | 60.4649     | 3m 14s       |</pre>"
      ],
      "text/plain": [
       "| 11862        | 2.3e+08 | 60.4649     | 3m 14s       |"
      ]
     },
     "metadata": {},
     "output_type": "display_data"
    },
    {
     "data": {
      "text/html": [
       "<pre>| 11933        | 2.3e+08 | 60.8268     | 3m 15s       |</pre>"
      ],
      "text/plain": [
       "| 11933        | 2.3e+08 | 60.8268     | 3m 15s       |"
      ]
     },
     "metadata": {},
     "output_type": "display_data"
    },
    {
     "data": {
      "text/html": [
       "<pre>| 12003        | 2.4e+08 | 61.1811     | 3m 16s       |</pre>"
      ],
      "text/plain": [
       "| 12003        | 2.4e+08 | 61.1811     | 3m 16s       |"
      ]
     },
     "metadata": {},
     "output_type": "display_data"
    },
    {
     "data": {
      "text/html": [
       "<pre>| 12071        | 2.4e+08 | 61.5277     | 3m 17s       |</pre>"
      ],
      "text/plain": [
       "| 12071        | 2.4e+08 | 61.5277     | 3m 17s       |"
      ]
     },
     "metadata": {},
     "output_type": "display_data"
    },
    {
     "data": {
      "text/html": [
       "<pre>| 12141        | 2.4e+08 | 61.887      | 3m 18s       |</pre>"
      ],
      "text/plain": [
       "| 12141        | 2.4e+08 | 61.887      | 3m 18s       |"
      ]
     },
     "metadata": {},
     "output_type": "display_data"
    },
    {
     "data": {
      "text/html": [
       "<pre>| 12209        | 2.4e+08 | 62.2311     | 3m 19s       |</pre>"
      ],
      "text/plain": [
       "| 12209        | 2.4e+08 | 62.2311     | 3m 19s       |"
      ]
     },
     "metadata": {},
     "output_type": "display_data"
    },
    {
     "data": {
      "text/html": [
       "<pre>| 12278        | 2.4e+08 | 62.5854     | 3m 21s       |</pre>"
      ],
      "text/plain": [
       "| 12278        | 2.4e+08 | 62.5854     | 3m 21s       |"
      ]
     },
     "metadata": {},
     "output_type": "display_data"
    },
    {
     "data": {
      "text/html": [
       "<pre>| 12346        | 2.4e+08 | 62.9295     | 3m 21s       |</pre>"
      ],
      "text/plain": [
       "| 12346        | 2.4e+08 | 62.9295     | 3m 21s       |"
      ]
     },
     "metadata": {},
     "output_type": "display_data"
    },
    {
     "data": {
      "text/html": [
       "<pre>| 12416        | 2.4e+08 | 63.2888     | 3m 23s       |</pre>"
      ],
      "text/plain": [
       "| 12416        | 2.4e+08 | 63.2888     | 3m 23s       |"
      ]
     },
     "metadata": {},
     "output_type": "display_data"
    },
    {
     "data": {
      "text/html": [
       "<pre>| 12484        | 2.4e+08 | 63.6329     | 3m 24s       |</pre>"
      ],
      "text/plain": [
       "| 12484        | 2.4e+08 | 63.6329     | 3m 24s       |"
      ]
     },
     "metadata": {},
     "output_type": "display_data"
    },
    {
     "data": {
      "text/html": [
       "<pre>| 12549        | 2.5e+08 | 63.9642     | 3m 25s       |</pre>"
      ],
      "text/plain": [
       "| 12549        | 2.5e+08 | 63.9642     | 3m 25s       |"
      ]
     },
     "metadata": {},
     "output_type": "display_data"
    },
    {
     "data": {
      "text/html": [
       "<pre>| 12618        | 2.5e+08 | 64.3159     | 3m 26s       |</pre>"
      ],
      "text/plain": [
       "| 12618        | 2.5e+08 | 64.3159     | 3m 26s       |"
      ]
     },
     "metadata": {},
     "output_type": "display_data"
    },
    {
     "data": {
      "text/html": [
       "<pre>| 12689        | 2.5e+08 | 64.6804     | 3m 27s       |</pre>"
      ],
      "text/plain": [
       "| 12689        | 2.5e+08 | 64.6804     | 3m 27s       |"
      ]
     },
     "metadata": {},
     "output_type": "display_data"
    },
    {
     "data": {
      "text/html": [
       "<pre>| 12760        | 2.5e+08 | 65.0423     | 3m 28s       |</pre>"
      ],
      "text/plain": [
       "| 12760        | 2.5e+08 | 65.0423     | 3m 28s       |"
      ]
     },
     "metadata": {},
     "output_type": "display_data"
    },
    {
     "data": {
      "text/html": [
       "<pre>| 12832        | 2.5e+08 | 65.4068     | 3m 29s       |</pre>"
      ],
      "text/plain": [
       "| 12832        | 2.5e+08 | 65.4068     | 3m 29s       |"
      ]
     },
     "metadata": {},
     "output_type": "display_data"
    },
    {
     "data": {
      "text/html": [
       "<pre>| 12902        | 2.5e+08 | 65.7636     | 3m 30s       |</pre>"
      ],
      "text/plain": [
       "| 12902        | 2.5e+08 | 65.7636     | 3m 30s       |"
      ]
     },
     "metadata": {},
     "output_type": "display_data"
    },
    {
     "data": {
      "text/html": [
       "<pre>| 12966        | 2.5e+08 | 66.0924     | 3m 31s       |</pre>"
      ],
      "text/plain": [
       "| 12966        | 2.5e+08 | 66.0924     | 3m 31s       |"
      ]
     },
     "metadata": {},
     "output_type": "display_data"
    },
    {
     "data": {
      "text/html": [
       "<pre>| 13034        | 2.6e+08 | 66.4364     | 3m 32s       |</pre>"
      ],
      "text/plain": [
       "| 13034        | 2.6e+08 | 66.4364     | 3m 32s       |"
      ]
     },
     "metadata": {},
     "output_type": "display_data"
    },
    {
     "data": {
      "text/html": [
       "<pre>| 13105        | 2.6e+08 | 66.7983     | 3m 33s       |</pre>"
      ],
      "text/plain": [
       "| 13105        | 2.6e+08 | 66.7983     | 3m 33s       |"
      ]
     },
     "metadata": {},
     "output_type": "display_data"
    },
    {
     "data": {
      "text/html": [
       "<pre>| 13174        | 2.6e+08 | 67.1526     | 3m 34s       |</pre>"
      ],
      "text/plain": [
       "| 13174        | 2.6e+08 | 67.1526     | 3m 34s       |"
      ]
     },
     "metadata": {},
     "output_type": "display_data"
    },
    {
     "data": {
      "text/html": [
       "<pre>| 13244        | 2.6e+08 | 67.5069     | 3m 35s       |</pre>"
      ],
      "text/plain": [
       "| 13244        | 2.6e+08 | 67.5069     | 3m 35s       |"
      ]
     },
     "metadata": {},
     "output_type": "display_data"
    },
    {
     "data": {
      "text/html": [
       "<pre>| 13311        | 2.6e+08 | 67.851      | 3m 36s       |</pre>"
      ],
      "text/plain": [
       "| 13311        | 2.6e+08 | 67.851      | 3m 36s       |"
      ]
     },
     "metadata": {},
     "output_type": "display_data"
    },
    {
     "data": {
      "text/html": [
       "<pre>| 13380        | 2.6e+08 | 68.2001     | 3m 37s       |</pre>"
      ],
      "text/plain": [
       "| 13380        | 2.6e+08 | 68.2001     | 3m 37s       |"
      ]
     },
     "metadata": {},
     "output_type": "display_data"
    },
    {
     "data": {
      "text/html": [
       "<pre>| 13438        | 2.6e+08 | 68.4958     | 3m 38s       |</pre>"
      ],
      "text/plain": [
       "| 13438        | 2.6e+08 | 68.4958     | 3m 38s       |"
      ]
     },
     "metadata": {},
     "output_type": "display_data"
    },
    {
     "data": {
      "text/html": [
       "<pre>| 13498        | 2.6e+08 | 68.8042     | 3m 39s       |</pre>"
      ],
      "text/plain": [
       "| 13498        | 2.6e+08 | 68.8042     | 3m 39s       |"
      ]
     },
     "metadata": {},
     "output_type": "display_data"
    },
    {
     "data": {
      "text/html": [
       "<pre>| 13562        | 2.7e+08 | 69.1278     | 3m 40s       |</pre>"
      ],
      "text/plain": [
       "| 13562        | 2.7e+08 | 69.1278     | 3m 40s       |"
      ]
     },
     "metadata": {},
     "output_type": "display_data"
    },
    {
     "data": {
      "text/html": [
       "<pre>| 13626        | 2.7e+08 | 69.4566     | 3m 41s       |</pre>"
      ],
      "text/plain": [
       "| 13626        | 2.7e+08 | 69.4566     | 3m 41s       |"
      ]
     },
     "metadata": {},
     "output_type": "display_data"
    },
    {
     "data": {
      "text/html": [
       "<pre>| 13694        | 2.7e+08 | 69.8032     | 3m 42s       |</pre>"
      ],
      "text/plain": [
       "| 13694        | 2.7e+08 | 69.8032     | 3m 42s       |"
      ]
     },
     "metadata": {},
     "output_type": "display_data"
    },
    {
     "data": {
      "text/html": [
       "<pre>| 13756        | 2.7e+08 | 70.1193     | 3m 43s       |</pre>"
      ],
      "text/plain": [
       "| 13756        | 2.7e+08 | 70.1193     | 3m 43s       |"
      ]
     },
     "metadata": {},
     "output_type": "display_data"
    },
    {
     "data": {
      "text/html": [
       "<pre>| 13818        | 2.7e+08 | 70.4353     | 3m 44s       |</pre>"
      ],
      "text/plain": [
       "| 13818        | 2.7e+08 | 70.4353     | 3m 44s       |"
      ]
     },
     "metadata": {},
     "output_type": "display_data"
    },
    {
     "data": {
      "text/html": [
       "<pre>| 13888        | 2.7e+08 | 70.7921     | 3m 45s       |</pre>"
      ],
      "text/plain": [
       "| 13888        | 2.7e+08 | 70.7921     | 3m 45s       |"
      ]
     },
     "metadata": {},
     "output_type": "display_data"
    },
    {
     "data": {
      "text/html": [
       "<pre>| 13954        | 2.7e+08 | 71.126      | 3m 46s       |</pre>"
      ],
      "text/plain": [
       "| 13954        | 2.7e+08 | 71.126      | 3m 46s       |"
      ]
     },
     "metadata": {},
     "output_type": "display_data"
    },
    {
     "data": {
      "text/html": [
       "<pre>| 14024        | 2.8e+08 | 71.4828     | 3m 47s       |</pre>"
      ],
      "text/plain": [
       "| 14024        | 2.8e+08 | 71.4828     | 3m 47s       |"
      ]
     },
     "metadata": {},
     "output_type": "display_data"
    },
    {
     "data": {
      "text/html": [
       "<pre>| 14092        | 2.8e+08 | 71.8294     | 3m 48s       |</pre>"
      ],
      "text/plain": [
       "| 14092        | 2.8e+08 | 71.8294     | 3m 48s       |"
      ]
     },
     "metadata": {},
     "output_type": "display_data"
    },
    {
     "data": {
      "text/html": [
       "<pre>| 14161        | 2.8e+08 | 72.1812     | 3m 49s       |</pre>"
      ],
      "text/plain": [
       "| 14161        | 2.8e+08 | 72.1812     | 3m 49s       |"
      ]
     },
     "metadata": {},
     "output_type": "display_data"
    },
    {
     "data": {
      "text/html": [
       "<pre>| 14231        | 2.8e+08 | 72.5405     | 3m 50s       |</pre>"
      ],
      "text/plain": [
       "| 14231        | 2.8e+08 | 72.5405     | 3m 50s       |"
      ]
     },
     "metadata": {},
     "output_type": "display_data"
    },
    {
     "data": {
      "text/html": [
       "<pre>| 14303        | 2.8e+08 | 72.9075     | 3m 51s       |</pre>"
      ],
      "text/plain": [
       "| 14303        | 2.8e+08 | 72.9075     | 3m 51s       |"
      ]
     },
     "metadata": {},
     "output_type": "display_data"
    },
    {
     "data": {
      "text/html": [
       "<pre>| 14376        | 2.8e+08 | 73.2771     | 3m 52s       |</pre>"
      ],
      "text/plain": [
       "| 14376        | 2.8e+08 | 73.2771     | 3m 52s       |"
      ]
     },
     "metadata": {},
     "output_type": "display_data"
    },
    {
     "data": {
      "text/html": [
       "<pre>| 14447        | 2.8e+08 | 73.6416     | 3m 53s       |</pre>"
      ],
      "text/plain": [
       "| 14447        | 2.8e+08 | 73.6416     | 3m 53s       |"
      ]
     },
     "metadata": {},
     "output_type": "display_data"
    },
    {
     "data": {
      "text/html": [
       "<pre>| 14519        | 2.8e+08 | 74.0086     | 3m 54s       |</pre>"
      ],
      "text/plain": [
       "| 14519        | 2.8e+08 | 74.0086     | 3m 54s       |"
      ]
     },
     "metadata": {},
     "output_type": "display_data"
    },
    {
     "data": {
      "text/html": [
       "<pre>| 14592        | 2.9e+08 | 74.3781     | 3m 55s       |</pre>"
      ],
      "text/plain": [
       "| 14592        | 2.9e+08 | 74.3781     | 3m 55s       |"
      ]
     },
     "metadata": {},
     "output_type": "display_data"
    },
    {
     "data": {
      "text/html": [
       "<pre>| 14663        | 2.9e+08 | 74.7426     | 3m 56s       |</pre>"
      ],
      "text/plain": [
       "| 14663        | 2.9e+08 | 74.7426     | 3m 56s       |"
      ]
     },
     "metadata": {},
     "output_type": "display_data"
    },
    {
     "data": {
      "text/html": [
       "<pre>| 14729        | 2.9e+08 | 75.079      | 3m 57s       |</pre>"
      ],
      "text/plain": [
       "| 14729        | 2.9e+08 | 75.079      | 3m 57s       |"
      ]
     },
     "metadata": {},
     "output_type": "display_data"
    },
    {
     "data": {
      "text/html": [
       "<pre>| 14797        | 2.9e+08 | 75.4231     | 3m 58s       |</pre>"
      ],
      "text/plain": [
       "| 14797        | 2.9e+08 | 75.4231     | 3m 58s       |"
      ]
     },
     "metadata": {},
     "output_type": "display_data"
    },
    {
     "data": {
      "text/html": [
       "<pre>| 14868        | 2.9e+08 | 75.785      | 3m 59s       |</pre>"
      ],
      "text/plain": [
       "| 14868        | 2.9e+08 | 75.785      | 3m 59s       |"
      ]
     },
     "metadata": {},
     "output_type": "display_data"
    },
    {
     "data": {
      "text/html": [
       "<pre>| 14940        | 2.9e+08 | 76.152      | 4m 0s        |</pre>"
      ],
      "text/plain": [
       "| 14940        | 2.9e+08 | 76.152      | 4m 0s        |"
      ]
     },
     "metadata": {},
     "output_type": "display_data"
    },
    {
     "data": {
      "text/html": [
       "<pre>| 15013        | 2.9e+08 | 76.5241     | 4m 1s        |</pre>"
      ],
      "text/plain": [
       "| 15013        | 2.9e+08 | 76.5241     | 4m 1s        |"
      ]
     },
     "metadata": {},
     "output_type": "display_data"
    },
    {
     "data": {
      "text/html": [
       "<pre>| 15084        | 3e+08   | 76.8886     | 4m 2s        |</pre>"
      ],
      "text/plain": [
       "| 15084        | 3e+08   | 76.8886     | 4m 2s        |"
      ]
     },
     "metadata": {},
     "output_type": "display_data"
    },
    {
     "data": {
      "text/html": [
       "<pre>| 15157        | 3e+08   | 77.2607     | 4m 3s        |</pre>"
      ],
      "text/plain": [
       "| 15157        | 3e+08   | 77.2607     | 4m 3s        |"
      ]
     },
     "metadata": {},
     "output_type": "display_data"
    },
    {
     "data": {
      "text/html": [
       "<pre>| 15226        | 3e+08   | 77.6098     | 4m 4s        |</pre>"
      ],
      "text/plain": [
       "| 15226        | 3e+08   | 77.6098     | 4m 4s        |"
      ]
     },
     "metadata": {},
     "output_type": "display_data"
    },
    {
     "data": {
      "text/html": [
       "<pre>| 15293        |         | 77.9514     | 4m 5s        |</pre>"
      ],
      "text/plain": [
       "| 15293        |         | 77.9514     | 4m 5s        |"
      ]
     },
     "metadata": {},
     "output_type": "display_data"
    },
    {
     "data": {
      "text/html": [
       "<pre>| 15359        | 3e+08   | 78.2878     | 4m 6s        |</pre>"
      ],
      "text/plain": [
       "| 15359        | 3e+08   | 78.2878     | 4m 6s        |"
      ]
     },
     "metadata": {},
     "output_type": "display_data"
    },
    {
     "data": {
      "text/html": [
       "<pre>| 15427        | 3e+08   | 78.637      | 4m 7s        |</pre>"
      ],
      "text/plain": [
       "| 15427        | 3e+08   | 78.637      | 4m 7s        |"
      ]
     },
     "metadata": {},
     "output_type": "display_data"
    },
    {
     "data": {
      "text/html": [
       "<pre>| 15495        | 3e+08   | 78.981      | 4m 8s        |</pre>"
      ],
      "text/plain": [
       "| 15495        | 3e+08   | 78.981      | 4m 8s        |"
      ]
     },
     "metadata": {},
     "output_type": "display_data"
    },
    {
     "data": {
      "text/html": [
       "<pre>| 15562        | 3.1e+08 | 79.3251     | 4m 9s        |</pre>"
      ],
      "text/plain": [
       "| 15562        | 3.1e+08 | 79.3251     | 4m 9s        |"
      ]
     },
     "metadata": {},
     "output_type": "display_data"
    },
    {
     "data": {
      "text/html": [
       "<pre>| 15611        | 3.1e+08 | 79.5723     | 4m 10s       |</pre>"
      ],
      "text/plain": [
       "| 15611        | 3.1e+08 | 79.5723     | 4m 10s       |"
      ]
     },
     "metadata": {},
     "output_type": "display_data"
    },
    {
     "data": {
      "text/html": [
       "<pre>| 15653        | 3.1e+08 | 79.789      | 4m 11s       |</pre>"
      ],
      "text/plain": [
       "| 15653        | 3.1e+08 | 79.789      | 4m 11s       |"
      ]
     },
     "metadata": {},
     "output_type": "display_data"
    },
    {
     "data": {
      "text/html": [
       "<pre>| 15719        | 3.1e+08 | 80.1228     | 4m 12s       |</pre>"
      ],
      "text/plain": [
       "| 15719        | 3.1e+08 | 80.1228     | 4m 12s       |"
      ]
     },
     "metadata": {},
     "output_type": "display_data"
    },
    {
     "data": {
      "text/html": [
       "<pre>| 15781        | 3.1e+08 | 80.4389     | 4m 13s       |</pre>"
      ],
      "text/plain": [
       "| 15781        | 3.1e+08 | 80.4389     | 4m 13s       |"
      ]
     },
     "metadata": {},
     "output_type": "display_data"
    },
    {
     "data": {
      "text/html": [
       "<pre>| 15839        | 3.1e+08 | 80.7371     | 4m 14s       |</pre>"
      ],
      "text/plain": [
       "| 15839        | 3.1e+08 | 80.7371     | 4m 14s       |"
      ]
     },
     "metadata": {},
     "output_type": "display_data"
    },
    {
     "data": {
      "text/html": [
       "<pre>| 15907        | 3.1e+08 | 81.0837     | 4m 15s       |</pre>"
      ],
      "text/plain": [
       "| 15907        | 3.1e+08 | 81.0837     | 4m 15s       |"
      ]
     },
     "metadata": {},
     "output_type": "display_data"
    },
    {
     "data": {
      "text/html": [
       "<pre>| 15967        | 3.1e+08 | 81.3895     | 4m 16s       |</pre>"
      ],
      "text/plain": [
       "| 15967        | 3.1e+08 | 81.3895     | 4m 16s       |"
      ]
     },
     "metadata": {},
     "output_type": "display_data"
    },
    {
     "data": {
      "text/html": [
       "<pre>| 16037        | 3.1e+08 | 81.7438     | 4m 17s       |</pre>"
      ],
      "text/plain": [
       "| 16037        | 3.1e+08 | 81.7438     | 4m 17s       |"
      ]
     },
     "metadata": {},
     "output_type": "display_data"
    },
    {
     "data": {
      "text/html": [
       "<pre>| 16106        | 3.2e+08 | 82.0981     | 4m 18s       |</pre>"
      ],
      "text/plain": [
       "| 16106        | 3.2e+08 | 82.0981     | 4m 18s       |"
      ]
     },
     "metadata": {},
     "output_type": "display_data"
    },
    {
     "data": {
      "text/html": [
       "<pre>| 16173        | 3.2e+08 | 82.4396     | 4m 19s       |</pre>"
      ],
      "text/plain": [
       "| 16173        | 3.2e+08 | 82.4396     | 4m 19s       |"
      ]
     },
     "metadata": {},
     "output_type": "display_data"
    },
    {
     "data": {
      "text/html": [
       "<pre>| 16245        | 3.2e+08 | 82.8041     | 4m 20s       |</pre>"
      ],
      "text/plain": [
       "| 16245        | 3.2e+08 | 82.8041     | 4m 20s       |"
      ]
     },
     "metadata": {},
     "output_type": "display_data"
    },
    {
     "data": {
      "text/html": [
       "<pre>| 16314        | 3.2e+08 | 83.1583     | 4m 21s       |</pre>"
      ],
      "text/plain": [
       "| 16314        | 3.2e+08 | 83.1583     | 4m 21s       |"
      ]
     },
     "metadata": {},
     "output_type": "display_data"
    },
    {
     "data": {
      "text/html": [
       "<pre>| 16377        | 3.2e+08 | 83.4769     | 4m 22s       |</pre>"
      ],
      "text/plain": [
       "| 16377        | 3.2e+08 | 83.4769     | 4m 22s       |"
      ]
     },
     "metadata": {},
     "output_type": "display_data"
    },
    {
     "data": {
      "text/html": [
       "<pre>| 16440        | 3.2e+08 | 83.8006     | 4m 23s       |</pre>"
      ],
      "text/plain": [
       "| 16440        | 3.2e+08 | 83.8006     | 4m 23s       |"
      ]
     },
     "metadata": {},
     "output_type": "display_data"
    },
    {
     "data": {
      "text/html": [
       "<pre>| 16507        | 3.2e+08 | 84.1421     | 4m 24s       |</pre>"
      ],
      "text/plain": [
       "| 16507        | 3.2e+08 | 84.1421     | 4m 24s       |"
      ]
     },
     "metadata": {},
     "output_type": "display_data"
    },
    {
     "data": {
      "text/html": [
       "<pre>| 16568        | 3.3e+08 | 84.4505     | 4m 25s       |</pre>"
      ],
      "text/plain": [
       "| 16568        | 3.3e+08 | 84.4505     | 4m 25s       |"
      ]
     },
     "metadata": {},
     "output_type": "display_data"
    },
    {
     "data": {
      "text/html": [
       "<pre>| 16629        | 3.3e+08 | 84.7614     | 4m 26s       |</pre>"
      ],
      "text/plain": [
       "| 16629        | 3.3e+08 | 84.7614     | 4m 26s       |"
      ]
     },
     "metadata": {},
     "output_type": "display_data"
    },
    {
     "data": {
      "text/html": [
       "<pre>| 16695        | 3.3e+08 | 85.0979     | 4m 27s       |</pre>"
      ],
      "text/plain": [
       "| 16695        | 3.3e+08 | 85.0979     | 4m 27s       |"
      ]
     },
     "metadata": {},
     "output_type": "display_data"
    },
    {
     "data": {
      "text/html": [
       "<pre>| 16752        | 3.3e+08 | 85.391      | 4m 28s       |</pre>"
      ],
      "text/plain": [
       "| 16752        | 3.3e+08 | 85.391      | 4m 28s       |"
      ]
     },
     "metadata": {},
     "output_type": "display_data"
    },
    {
     "data": {
      "text/html": [
       "<pre>| 16818        |         | 85.7274     | 4m 29s       |</pre>"
      ],
      "text/plain": [
       "| 16818        |         | 85.7274     | 4m 29s       |"
      ]
     },
     "metadata": {},
     "output_type": "display_data"
    },
    {
     "data": {
      "text/html": [
       "<pre>| 16885        | 3.3e+08 | 86.0689     | 4m 30s       |</pre>"
      ],
      "text/plain": [
       "| 16885        | 3.3e+08 | 86.0689     | 4m 30s       |"
      ]
     },
     "metadata": {},
     "output_type": "display_data"
    },
    {
     "data": {
      "text/html": [
       "<pre>| 16954        | 3.3e+08 | 86.4206     | 4m 31s       |</pre>"
      ],
      "text/plain": [
       "| 16954        | 3.3e+08 | 86.4206     | 4m 31s       |"
      ]
     },
     "metadata": {},
     "output_type": "display_data"
    },
    {
     "data": {
      "text/html": [
       "<pre>| 17022        | 3.3e+08 | 86.7673     | 4m 32s       |</pre>"
      ],
      "text/plain": [
       "| 17022        | 3.3e+08 | 86.7673     | 4m 32s       |"
      ]
     },
     "metadata": {},
     "output_type": "display_data"
    },
    {
     "data": {
      "text/html": [
       "<pre>| 17087        | 3.4e+08 | 87.0986     | 4m 33s       |</pre>"
      ],
      "text/plain": [
       "| 17087        | 3.4e+08 | 87.0986     | 4m 33s       |"
      ]
     },
     "metadata": {},
     "output_type": "display_data"
    },
    {
     "data": {
      "text/html": [
       "<pre>| 17154        | 3.4e+08 | 87.4376     | 4m 34s       |</pre>"
      ],
      "text/plain": [
       "| 17154        | 3.4e+08 | 87.4376     | 4m 34s       |"
      ]
     },
     "metadata": {},
     "output_type": "display_data"
    },
    {
     "data": {
      "text/html": [
       "<pre>| 17224        | 3.4e+08 | 87.7944     | 4m 35s       |</pre>"
      ],
      "text/plain": [
       "| 17224        | 3.4e+08 | 87.7944     | 4m 35s       |"
      ]
     },
     "metadata": {},
     "output_type": "display_data"
    },
    {
     "data": {
      "text/html": [
       "<pre>| 17296        | 3.4e+08 | 88.1614     | 4m 36s       |</pre>"
      ],
      "text/plain": [
       "| 17296        | 3.4e+08 | 88.1614     | 4m 36s       |"
      ]
     },
     "metadata": {},
     "output_type": "display_data"
    },
    {
     "data": {
      "text/html": [
       "<pre>| 17366        | 3.4e+08 | 88.5182     | 4m 37s       |</pre>"
      ],
      "text/plain": [
       "| 17366        | 3.4e+08 | 88.5182     | 4m 37s       |"
      ]
     },
     "metadata": {},
     "output_type": "display_data"
    },
    {
     "data": {
      "text/html": [
       "<pre>| 17428        | 3.4e+08 | 88.8368     | 4m 38s       |</pre>"
      ],
      "text/plain": [
       "| 17428        | 3.4e+08 | 88.8368     | 4m 38s       |"
      ]
     },
     "metadata": {},
     "output_type": "display_data"
    },
    {
     "data": {
      "text/html": [
       "<pre>| 17498        | 3.4e+08 | 89.191      | 4m 39s       |</pre>"
      ],
      "text/plain": [
       "| 17498        | 3.4e+08 | 89.191      | 4m 39s       |"
      ]
     },
     "metadata": {},
     "output_type": "display_data"
    },
    {
     "data": {
      "text/html": [
       "<pre>| 17570        | 3.4e+08 | 89.5581     | 4m 40s       |</pre>"
      ],
      "text/plain": [
       "| 17570        | 3.4e+08 | 89.5581     | 4m 40s       |"
      ]
     },
     "metadata": {},
     "output_type": "display_data"
    },
    {
     "data": {
      "text/html": [
       "<pre>| 17642        | 3.5e+08 | 89.9251     | 4m 41s       |</pre>"
      ],
      "text/plain": [
       "| 17642        | 3.5e+08 | 89.9251     | 4m 41s       |"
      ]
     },
     "metadata": {},
     "output_type": "display_data"
    },
    {
     "data": {
      "text/html": [
       "<pre>| 17714        | 3.5e+08 | 90.2921     | 4m 42s       |</pre>"
      ],
      "text/plain": [
       "| 17714        | 3.5e+08 | 90.2921     | 4m 42s       |"
      ]
     },
     "metadata": {},
     "output_type": "display_data"
    },
    {
     "data": {
      "text/html": [
       "<pre>| 17779        | 3.5e+08 | 90.626      | 4m 43s       |</pre>"
      ],
      "text/plain": [
       "| 17779        | 3.5e+08 | 90.626      | 4m 43s       |"
      ]
     },
     "metadata": {},
     "output_type": "display_data"
    },
    {
     "data": {
      "text/html": [
       "<pre>| 17850        | 3.5e+08 | 90.9853     | 4m 44s       |</pre>"
      ],
      "text/plain": [
       "| 17850        | 3.5e+08 | 90.9853     | 4m 44s       |"
      ]
     },
     "metadata": {},
     "output_type": "display_data"
    },
    {
     "data": {
      "text/html": [
       "<pre>| 17919        | 3.5e+08 | 91.337      | 4m 45s       |</pre>"
      ],
      "text/plain": [
       "| 17919        | 3.5e+08 | 91.337      | 4m 45s       |"
      ]
     },
     "metadata": {},
     "output_type": "display_data"
    },
    {
     "data": {
      "text/html": [
       "<pre>| 17991        | 3.5e+08 | 91.704      | 4m 46s       |</pre>"
      ],
      "text/plain": [
       "| 17991        | 3.5e+08 | 91.704      | 4m 46s       |"
      ]
     },
     "metadata": {},
     "output_type": "display_data"
    },
    {
     "data": {
      "text/html": [
       "<pre>| 18062        | 3.5e+08 | 92.066      | 4m 47s       |</pre>"
      ],
      "text/plain": [
       "| 18062        | 3.5e+08 | 92.066      | 4m 47s       |"
      ]
     },
     "metadata": {},
     "output_type": "display_data"
    },
    {
     "data": {
      "text/html": [
       "<pre>| 18132        | 3.6e+08 | 92.4228     | 4m 48s       |</pre>"
      ],
      "text/plain": [
       "| 18132        | 3.6e+08 | 92.4228     | 4m 48s       |"
      ]
     },
     "metadata": {},
     "output_type": "display_data"
    },
    {
     "data": {
      "text/html": [
       "<pre>| 18203        | 3.6e+08 | 92.7847     | 4m 49s       |</pre>"
      ],
      "text/plain": [
       "| 18203        | 3.6e+08 | 92.7847     | 4m 49s       |"
      ]
     },
     "metadata": {},
     "output_type": "display_data"
    },
    {
     "data": {
      "text/html": [
       "<pre>| 18274        | 3.6e+08 | 93.1466     | 4m 50s       |</pre>"
      ],
      "text/plain": [
       "| 18274        | 3.6e+08 | 93.1466     | 4m 50s       |"
      ]
     },
     "metadata": {},
     "output_type": "display_data"
    },
    {
     "data": {
      "text/html": [
       "<pre>| 18346        | 3.6e+08 | 93.5136     | 4m 51s       |</pre>"
      ],
      "text/plain": [
       "| 18346        | 3.6e+08 | 93.5136     | 4m 51s       |"
      ]
     },
     "metadata": {},
     "output_type": "display_data"
    },
    {
     "data": {
      "text/html": [
       "<pre>| 18417        | 3.6e+08 | 93.8755     | 4m 52s       |</pre>"
      ],
      "text/plain": [
       "| 18417        | 3.6e+08 | 93.8755     | 4m 52s       |"
      ]
     },
     "metadata": {},
     "output_type": "display_data"
    },
    {
     "data": {
      "text/html": [
       "<pre>| 18486        | 3.6e+08 | 94.2298     | 4m 53s       |</pre>"
      ],
      "text/plain": [
       "| 18486        | 3.6e+08 | 94.2298     | 4m 53s       |"
      ]
     },
     "metadata": {},
     "output_type": "display_data"
    },
    {
     "data": {
      "text/html": [
       "<pre>| 18553        | 3.6e+08 | 94.5688     | 4m 54s       |</pre>"
      ],
      "text/plain": [
       "| 18553        | 3.6e+08 | 94.5688     | 4m 54s       |"
      ]
     },
     "metadata": {},
     "output_type": "display_data"
    },
    {
     "data": {
      "text/html": [
       "<pre>| 18617        | 3.7e+08 | 94.895      | 4m 55s       |</pre>"
      ],
      "text/plain": [
       "| 18617        | 3.7e+08 | 94.895      | 4m 55s       |"
      ]
     },
     "metadata": {},
     "output_type": "display_data"
    },
    {
     "data": {
      "text/html": [
       "<pre>| 18687        | 3.7e+08 | 95.2518     | 4m 56s       |</pre>"
      ],
      "text/plain": [
       "| 18687        | 3.7e+08 | 95.2518     | 4m 56s       |"
      ]
     },
     "metadata": {},
     "output_type": "display_data"
    },
    {
     "data": {
      "text/html": [
       "<pre>| 18757        | 3.7e+08 | 95.6112     | 4m 57s       |</pre>"
      ],
      "text/plain": [
       "| 18757        | 3.7e+08 | 95.6112     | 4m 57s       |"
      ]
     },
     "metadata": {},
     "output_type": "display_data"
    },
    {
     "data": {
      "text/html": [
       "<pre>| 18828        | 3.7e+08 | 95.9731     | 4m 58s       |</pre>"
      ],
      "text/plain": [
       "| 18828        | 3.7e+08 | 95.9731     | 4m 58s       |"
      ]
     },
     "metadata": {},
     "output_type": "display_data"
    },
    {
     "data": {
      "text/html": [
       "<pre>| 18897        | 3.7e+08 | 96.3223     | 4m 59s       |</pre>"
      ],
      "text/plain": [
       "| 18897        | 3.7e+08 | 96.3223     | 4m 59s       |"
      ]
     },
     "metadata": {},
     "output_type": "display_data"
    },
    {
     "data": {
      "text/html": [
       "<pre>| 18965        | 3.7e+08 | 96.6714     | 5m 0s        |</pre>"
      ],
      "text/plain": [
       "| 18965        | 3.7e+08 | 96.6714     | 5m 0s        |"
      ]
     },
     "metadata": {},
     "output_type": "display_data"
    },
    {
     "data": {
      "text/html": [
       "<pre>| 19032        | 3.7e+08 | 97.0104     | 5m 1s        |</pre>"
      ],
      "text/plain": [
       "| 19032        | 3.7e+08 | 97.0104     | 5m 1s        |"
      ]
     },
     "metadata": {},
     "output_type": "display_data"
    },
    {
     "data": {
      "text/html": [
       "<pre>| 19104        | 3.7e+08 | 97.38       | 5m 2s        |</pre>"
      ],
      "text/plain": [
       "| 19104        | 3.7e+08 | 97.38       | 5m 2s        |"
      ]
     },
     "metadata": {},
     "output_type": "display_data"
    },
    {
     "data": {
      "text/html": [
       "<pre>| 19174        | 3.8e+08 | 97.7342     | 5m 3s        |</pre>"
      ],
      "text/plain": [
       "| 19174        | 3.8e+08 | 97.7342     | 5m 3s        |"
      ]
     },
     "metadata": {},
     "output_type": "display_data"
    },
    {
     "data": {
      "text/html": [
       "<pre>| 19244        | 3.8e+08 | 98.091      | 5m 4s        |</pre>"
      ],
      "text/plain": [
       "| 19244        | 3.8e+08 | 98.091      | 5m 4s        |"
      ]
     },
     "metadata": {},
     "output_type": "display_data"
    },
    {
     "data": {
      "text/html": [
       "<pre>| 19312        | 3.8e+08 | 98.4402     | 5m 5s        |</pre>"
      ],
      "text/plain": [
       "| 19312        | 3.8e+08 | 98.4402     | 5m 5s        |"
      ]
     },
     "metadata": {},
     "output_type": "display_data"
    },
    {
     "data": {
      "text/html": [
       "<pre>| 19382        | 3.8e+08 | 98.7945     | 5m 6s        |</pre>"
      ],
      "text/plain": [
       "| 19382        | 3.8e+08 | 98.7945     | 5m 6s        |"
      ]
     },
     "metadata": {},
     "output_type": "display_data"
    },
    {
     "data": {
      "text/html": [
       "<pre>| 19452        | 3.8e+08 | 99.1538     | 5m 7s        |</pre>"
      ],
      "text/plain": [
       "| 19452        | 3.8e+08 | 99.1538     | 5m 7s        |"
      ]
     },
     "metadata": {},
     "output_type": "display_data"
    },
    {
     "data": {
      "text/html": [
       "<pre>| 19518        | 3.8e+08 | 99.4903     | 5m 8s        |</pre>"
      ],
      "text/plain": [
       "| 19518        | 3.8e+08 | 99.4903     | 5m 8s        |"
      ]
     },
     "metadata": {},
     "output_type": "display_data"
    },
    {
     "data": {
      "text/html": [
       "<pre>| 19586        | 3.8e+08 | 99.8369     | 5m 9s        |</pre>"
      ],
      "text/plain": [
       "| 19586        | 3.8e+08 | 99.8369     | 5m 9s        |"
      ]
     },
     "metadata": {},
     "output_type": "display_data"
    },
    {
     "data": {
      "text/html": [
       "<pre>| Done         |         | 100         | 5m 9s        |</pre>"
      ],
      "text/plain": [
       "| Done         |         | 100         | 5m 9s        |"
      ]
     },
     "metadata": {},
     "output_type": "display_data"
    },
    {
     "data": {
      "text/html": [
       "<pre>+--------------+---------+-------------+--------------+</pre>"
      ],
      "text/plain": [
       "+--------------+---------+-------------+--------------+"
      ]
     },
     "metadata": {},
     "output_type": "display_data"
    },
    {
     "data": {
      "text/html": [
       "<pre>Preparing data set.</pre>"
      ],
      "text/plain": [
       "Preparing data set."
      ]
     },
     "metadata": {},
     "output_type": "display_data"
    },
    {
     "data": {
      "text/html": [
       "<pre>    Data has 0 observations with 0 users and 19619 items.</pre>"
      ],
      "text/plain": [
       "    Data has 0 observations with 0 users and 19619 items."
      ]
     },
     "metadata": {},
     "output_type": "display_data"
    },
    {
     "data": {
      "text/html": [
       "<pre>    Data prepared in: 1.93364s</pre>"
      ],
      "text/plain": [
       "    Data prepared in: 1.93364s"
      ]
     },
     "metadata": {},
     "output_type": "display_data"
    },
    {
     "data": {
      "text/html": [
       "<pre>Loading user-provided nearest items.</pre>"
      ],
      "text/plain": [
       "Loading user-provided nearest items."
      ]
     },
     "metadata": {},
     "output_type": "display_data"
    },
    {
     "data": {
      "text/html": [
       "<pre>Generating candidate set for working with new users.</pre>"
      ],
      "text/plain": [
       "Generating candidate set for working with new users."
      ]
     },
     "metadata": {},
     "output_type": "display_data"
    },
    {
     "data": {
      "text/html": [
       "<pre>Finished training in 0.107563s</pre>"
      ],
      "text/plain": [
       "Finished training in 0.107563s"
      ]
     },
     "metadata": {},
     "output_type": "display_data"
    }
   ],
   "source": [
    "recommender = graphlab.recommender.item_content_recommender.create(sf, item_id='url')"
   ]
  },
  {
   "cell_type": "code",
   "execution_count": 108,
   "metadata": {
    "scrolled": true
   },
   "outputs": [
    {
     "name": "stdout",
     "output_type": "stream",
     "text": [
      "WARNING: The ItemContentRecommender model is still in beta.\n",
      "WARNING: This feature transformer is still in beta, and some interpretation rules may change in the future.\n",
      "('Applying transform:\\n', Class             : AutoVectorizer\n",
      "\n",
      "Model Fields\n",
      "------------\n",
      "Features          : ['tf-idf', 'pub_year', 'genre_electronic', 'genre_experimental', 'genre_folk/country', 'genre_global', 'genre_jazz', 'genre_metal', 'genre_pop/r&b', 'genre_rap', 'genre_rock']\n",
      "Excluded Features : ['url']\n",
      "\n",
      "Column              Type   Interpretation  Transforms   Output Type\n",
      "------------------  -----  --------------  -----------  -----------\n",
      "tf-idf              array  vector          None         array      \n",
      "pub_year            int    numerical       None         int        \n",
      "genre_electronic    int    categorical     astype(str)  str        \n",
      "genre_experimental  int    categorical     astype(str)  str        \n",
      "genre_folk/country  int    categorical     astype(str)  str        \n",
      "genre_global        int    categorical     astype(str)  str        \n",
      "genre_jazz          int    categorical     astype(str)  str        \n",
      "genre_metal         int    categorical     astype(str)  str        \n",
      "genre_pop/r&b       int    categorical     astype(str)  str        \n",
      "genre_rap           int    categorical     astype(str)  str        \n",
      "genre_rock          int    categorical     astype(str)  str        \n",
      "\n",
      ")\n"
     ]
    },
    {
     "data": {
      "text/html": [
       "<pre>Recsys training: model = item_content_recommender</pre>"
      ],
      "text/plain": [
       "Recsys training: model = item_content_recommender"
      ]
     },
     "metadata": {},
     "output_type": "display_data"
    },
    {
     "name": "stdout",
     "output_type": "stream",
     "text": [
      "Defaulting to brute force instead of ball tree because there are multiple distance components.\n"
     ]
    },
    {
     "data": {
      "text/html": [
       "<pre>Starting brute force nearest neighbors model training.</pre>"
      ],
      "text/plain": [
       "Starting brute force nearest neighbors model training."
      ]
     },
     "metadata": {},
     "output_type": "display_data"
    },
    {
     "data": {
      "text/html": [
       "<pre>Starting pairwise querying.</pre>"
      ],
      "text/plain": [
       "Starting pairwise querying."
      ]
     },
     "metadata": {},
     "output_type": "display_data"
    },
    {
     "data": {
      "text/html": [
       "<pre>+--------------+---------+-------------+--------------+</pre>"
      ],
      "text/plain": [
       "+--------------+---------+-------------+--------------+"
      ]
     },
     "metadata": {},
     "output_type": "display_data"
    },
    {
     "data": {
      "text/html": [
       "<pre>| Query points | # Pairs | % Complete. | Elapsed Time |</pre>"
      ],
      "text/plain": [
       "| Query points | # Pairs | % Complete. | Elapsed Time |"
      ]
     },
     "metadata": {},
     "output_type": "display_data"
    },
    {
     "data": {
      "text/html": [
       "<pre>+--------------+---------+-------------+--------------+</pre>"
      ],
      "text/plain": [
       "+--------------+---------+-------------+--------------+"
      ]
     },
     "metadata": {},
     "output_type": "display_data"
    },
    {
     "data": {
      "text/html": [
       "<pre>| 0            | 9809    | 0.00254842  | 211.123ms    |</pre>"
      ],
      "text/plain": [
       "| 0            | 9809    | 0.00254842  | 211.123ms    |"
      ]
     },
     "metadata": {},
     "output_type": "display_data"
    },
    {
     "data": {
      "text/html": [
       "<pre>| 53           | 1059372 | 0.275229    | 1.23s        |</pre>"
      ],
      "text/plain": [
       "| 53           | 1059372 | 0.275229    | 1.23s        |"
      ]
     },
     "metadata": {},
     "output_type": "display_data"
    },
    {
     "data": {
      "text/html": [
       "<pre>| 121          | 2393396 | 0.621814    | 2.22s        |</pre>"
      ],
      "text/plain": [
       "| 121          | 2393396 | 0.621814    | 2.22s        |"
      ]
     },
     "metadata": {},
     "output_type": "display_data"
    },
    {
     "data": {
      "text/html": [
       "<pre>| 195          | 3835319 | 0.996432    | 3.22s        |</pre>"
      ],
      "text/plain": [
       "| 195          | 3835319 | 0.996432    | 3.22s        |"
      ]
     },
     "metadata": {},
     "output_type": "display_data"
    },
    {
     "data": {
      "text/html": [
       "<pre>| 270          | 5306669 | 1.3787      | 4.23s        |</pre>"
      ],
      "text/plain": [
       "| 270          | 5306669 | 1.3787      | 4.23s        |"
      ]
     },
     "metadata": {},
     "output_type": "display_data"
    },
    {
     "data": {
      "text/html": [
       "<pre>| 343          | 6738783 | 1.75076     | 5.24s        |</pre>"
      ],
      "text/plain": [
       "| 343          | 6738783 | 1.75076     | 5.24s        |"
      ]
     },
     "metadata": {},
     "output_type": "display_data"
    },
    {
     "data": {
      "text/html": [
       "<pre>| 417          | 8190515 | 2.12793     | 6.24s        |</pre>"
      ],
      "text/plain": [
       "| 417          | 8190515 | 2.12793     | 6.24s        |"
      ]
     },
     "metadata": {},
     "output_type": "display_data"
    },
    {
     "data": {
      "text/html": [
       "<pre>| 490          | 9632438 | 2.50255     | 7.24s        |</pre>"
      ],
      "text/plain": [
       "| 490          | 9632438 | 2.50255     | 7.24s        |"
      ]
     },
     "metadata": {},
     "output_type": "display_data"
    },
    {
     "data": {
      "text/html": [
       "<pre>| 566          | 1.1e+07 | 2.88736     | 8.26s        |</pre>"
      ],
      "text/plain": [
       "| 566          | 1.1e+07 | 2.88736     | 8.26s        |"
      ]
     },
     "metadata": {},
     "output_type": "display_data"
    },
    {
     "data": {
      "text/html": [
       "<pre>| 639          | 1.3e+07 | 3.26198     | 9.26s        |</pre>"
      ],
      "text/plain": [
       "| 639          | 1.3e+07 | 3.26198     | 9.26s        |"
      ]
     },
     "metadata": {},
     "output_type": "display_data"
    },
    {
     "data": {
      "text/html": [
       "<pre>| 712          | 1.4e+07 | 3.63405     | 10.24s       |</pre>"
      ],
      "text/plain": [
       "| 712          | 1.4e+07 | 3.63405     | 10.24s       |"
      ]
     },
     "metadata": {},
     "output_type": "display_data"
    },
    {
     "data": {
      "text/html": [
       "<pre>| 788          | 1.5e+07 | 4.01886     | 11.25s       |</pre>"
      ],
      "text/plain": [
       "| 788          | 1.5e+07 | 4.01886     | 11.25s       |"
      ]
     },
     "metadata": {},
     "output_type": "display_data"
    },
    {
     "data": {
      "text/html": [
       "<pre>| 862          | 1.7e+07 | 4.39602     | 12.27s       |</pre>"
      ],
      "text/plain": [
       "| 862          | 1.7e+07 | 4.39602     | 12.27s       |"
      ]
     },
     "metadata": {},
     "output_type": "display_data"
    },
    {
     "data": {
      "text/html": [
       "<pre>| 936          | 1.8e+07 | 4.77574     | 13.27s       |</pre>"
      ],
      "text/plain": [
       "| 936          | 1.8e+07 | 4.77574     | 13.27s       |"
      ]
     },
     "metadata": {},
     "output_type": "display_data"
    },
    {
     "data": {
      "text/html": [
       "<pre>| 1009         | 2e+07   | 5.14781     | 14.28s       |</pre>"
      ],
      "text/plain": [
       "| 1009         | 2e+07   | 5.14781     | 14.28s       |"
      ]
     },
     "metadata": {},
     "output_type": "display_data"
    },
    {
     "data": {
      "text/html": [
       "<pre>| 1082         | 2.1e+07 | 5.51988     | 15.28s       |</pre>"
      ],
      "text/plain": [
       "| 1082         | 2.1e+07 | 5.51988     | 15.28s       |"
      ]
     },
     "metadata": {},
     "output_type": "display_data"
    },
    {
     "data": {
      "text/html": [
       "<pre>| 1155         | 2.3e+07 | 5.89195     | 16.27s       |</pre>"
      ],
      "text/plain": [
       "| 1155         | 2.3e+07 | 5.89195     | 16.27s       |"
      ]
     },
     "metadata": {},
     "output_type": "display_data"
    },
    {
     "data": {
      "text/html": [
       "<pre>| 1230         | 2.4e+07 | 6.27421     | 17.28s       |</pre>"
      ],
      "text/plain": [
       "| 1230         | 2.4e+07 | 6.27421     | 17.28s       |"
      ]
     },
     "metadata": {},
     "output_type": "display_data"
    },
    {
     "data": {
      "text/html": [
       "<pre>| 1304         | 2.6e+07 | 6.65138     | 18.29s       |</pre>"
      ],
      "text/plain": [
       "| 1304         | 2.6e+07 | 6.65138     | 18.29s       |"
      ]
     },
     "metadata": {},
     "output_type": "display_data"
    },
    {
     "data": {
      "text/html": [
       "<pre>| 1377         | 2.7e+07 | 7.02345     | 19.28s       |</pre>"
      ],
      "text/plain": [
       "| 1377         | 2.7e+07 | 7.02345     | 19.28s       |"
      ]
     },
     "metadata": {},
     "output_type": "display_data"
    },
    {
     "data": {
      "text/html": [
       "<pre>| 1451         | 2.8e+07 | 7.39806     | 20.28s       |</pre>"
      ],
      "text/plain": [
       "| 1451         | 2.8e+07 | 7.39806     | 20.28s       |"
      ]
     },
     "metadata": {},
     "output_type": "display_data"
    },
    {
     "data": {
      "text/html": [
       "<pre>| 1516         | 3e+07   | 7.73191     | 21.29s       |</pre>"
      ],
      "text/plain": [
       "| 1516         | 3e+07   | 7.73191     | 21.29s       |"
      ]
     },
     "metadata": {},
     "output_type": "display_data"
    },
    {
     "data": {
      "text/html": [
       "<pre>| 1572         | 3.1e+07 | 8.01478     | 22.28s       |</pre>"
      ],
      "text/plain": [
       "| 1572         | 3.1e+07 | 8.01478     | 22.28s       |"
      ]
     },
     "metadata": {},
     "output_type": "display_data"
    },
    {
     "data": {
      "text/html": [
       "<pre>| 1638         | 3.2e+07 | 8.35117     | 23.31s       |</pre>"
      ],
      "text/plain": [
       "| 1638         | 3.2e+07 | 8.35117     | 23.31s       |"
      ]
     },
     "metadata": {},
     "output_type": "display_data"
    },
    {
     "data": {
      "text/html": [
       "<pre>| 1710         | 3.4e+07 | 8.72069     | 24.29s       |</pre>"
      ],
      "text/plain": [
       "| 1710         | 3.4e+07 | 8.72069     | 24.29s       |"
      ]
     },
     "metadata": {},
     "output_type": "display_data"
    },
    {
     "data": {
      "text/html": [
       "<pre>| 1786         | 3.5e+07 | 9.10805     | 25.32s       |</pre>"
      ],
      "text/plain": [
       "| 1786         | 3.5e+07 | 9.10805     | 25.32s       |"
      ]
     },
     "metadata": {},
     "output_type": "display_data"
    },
    {
     "data": {
      "text/html": [
       "<pre>| 1860         | 3.6e+07 | 9.48267     | 26.31s       |</pre>"
      ],
      "text/plain": [
       "| 1860         | 3.6e+07 | 9.48267     | 26.31s       |"
      ]
     },
     "metadata": {},
     "output_type": "display_data"
    },
    {
     "data": {
      "text/html": [
       "<pre>| 1934         | 3.8e+07 | 9.86239     | 27.32s       |</pre>"
      ],
      "text/plain": [
       "| 1934         | 3.8e+07 | 9.86239     | 27.32s       |"
      ]
     },
     "metadata": {},
     "output_type": "display_data"
    },
    {
     "data": {
      "text/html": [
       "<pre>| 2008         | 3.9e+07 | 10.237      | 28.31s       |</pre>"
      ],
      "text/plain": [
       "| 2008         | 3.9e+07 | 10.237      | 28.31s       |"
      ]
     },
     "metadata": {},
     "output_type": "display_data"
    },
    {
     "data": {
      "text/html": [
       "<pre>| 2083         | 4.1e+07 | 10.6193     | 29.33s       |</pre>"
      ],
      "text/plain": [
       "| 2083         | 4.1e+07 | 10.6193     | 29.33s       |"
      ]
     },
     "metadata": {},
     "output_type": "display_data"
    },
    {
     "data": {
      "text/html": [
       "<pre>| 2152         | 4.2e+07 | 10.9709     | 30.31s       |</pre>"
      ],
      "text/plain": [
       "| 2152         | 4.2e+07 | 10.9709     | 30.31s       |"
      ]
     },
     "metadata": {},
     "output_type": "display_data"
    },
    {
     "data": {
      "text/html": [
       "<pre>| 2225         | 4.4e+07 | 11.343      | 31.32s       |</pre>"
      ],
      "text/plain": [
       "| 2225         | 4.4e+07 | 11.343      | 31.32s       |"
      ]
     },
     "metadata": {},
     "output_type": "display_data"
    },
    {
     "data": {
      "text/html": [
       "<pre>| 2299         | 4.5e+07 | 11.7227     | 32.32s       |</pre>"
      ],
      "text/plain": [
       "| 2299         | 4.5e+07 | 11.7227     | 32.32s       |"
      ]
     },
     "metadata": {},
     "output_type": "display_data"
    },
    {
     "data": {
      "text/html": [
       "<pre>| 2375         | 4.7e+07 | 12.1075     | 33.33s       |</pre>"
      ],
      "text/plain": [
       "| 2375         | 4.7e+07 | 12.1075     | 33.33s       |"
      ]
     },
     "metadata": {},
     "output_type": "display_data"
    },
    {
     "data": {
      "text/html": [
       "<pre>| 2449         | 4.8e+07 | 12.4847     | 34.33s       |</pre>"
      ],
      "text/plain": [
       "| 2449         | 4.8e+07 | 12.4847     | 34.33s       |"
      ]
     },
     "metadata": {},
     "output_type": "display_data"
    },
    {
     "data": {
      "text/html": [
       "<pre>| 2522         | 4.9e+07 | 12.8568     | 35.33s       |</pre>"
      ],
      "text/plain": [
       "| 2522         | 4.9e+07 | 12.8568     | 35.33s       |"
      ]
     },
     "metadata": {},
     "output_type": "display_data"
    },
    {
     "data": {
      "text/html": [
       "<pre>| 2597         | 5.1e+07 | 13.2416     | 36.35s       |</pre>"
      ],
      "text/plain": [
       "| 2597         | 5.1e+07 | 13.2416     | 36.35s       |"
      ]
     },
     "metadata": {},
     "output_type": "display_data"
    },
    {
     "data": {
      "text/html": [
       "<pre>| 2670         | 5.2e+07 | 13.6137     | 37.34s       |</pre>"
      ],
      "text/plain": [
       "| 2670         | 5.2e+07 | 13.6137     | 37.34s       |"
      ]
     },
     "metadata": {},
     "output_type": "display_data"
    },
    {
     "data": {
      "text/html": [
       "<pre>| 2735         | 5.4e+07 | 13.945      | 38.35s       |</pre>"
      ],
      "text/plain": [
       "| 2735         | 5.4e+07 | 13.945      | 38.35s       |"
      ]
     },
     "metadata": {},
     "output_type": "display_data"
    },
    {
     "data": {
      "text/html": [
       "<pre>| 2800         | 5.5e+07 | 14.2762     | 39.36s       |</pre>"
      ],
      "text/plain": [
       "| 2800         | 5.5e+07 | 14.2762     | 39.36s       |"
      ]
     },
     "metadata": {},
     "output_type": "display_data"
    },
    {
     "data": {
      "text/html": [
       "<pre>| 2871         | 5.6e+07 | 14.6356     | 40.35s       |</pre>"
      ],
      "text/plain": [
       "| 2871         | 5.6e+07 | 14.6356     | 40.35s       |"
      ]
     },
     "metadata": {},
     "output_type": "display_data"
    },
    {
     "data": {
      "text/html": [
       "<pre>| 2937         | 5.8e+07 | 14.972      | 41.35s       |</pre>"
      ],
      "text/plain": [
       "| 2937         | 5.8e+07 | 14.972      | 41.35s       |"
      ]
     },
     "metadata": {},
     "output_type": "display_data"
    },
    {
     "data": {
      "text/html": [
       "<pre>| 3009         | 5.9e+07 | 15.3389     | 42.36s       |</pre>"
      ],
      "text/plain": [
       "| 3009         | 5.9e+07 | 15.3389     | 42.36s       |"
      ]
     },
     "metadata": {},
     "output_type": "display_data"
    },
    {
     "data": {
      "text/html": [
       "<pre>| 3084         | 6.1e+07 | 15.7212     | 43.36s       |</pre>"
      ],
      "text/plain": [
       "| 3084         | 6.1e+07 | 15.7212     | 43.36s       |"
      ]
     },
     "metadata": {},
     "output_type": "display_data"
    },
    {
     "data": {
      "text/html": [
       "<pre>| 3155         | 6.2e+07 | 16.0856     | 44.36s       |</pre>"
      ],
      "text/plain": [
       "| 3155         | 6.2e+07 | 16.0856     | 44.36s       |"
      ]
     },
     "metadata": {},
     "output_type": "display_data"
    },
    {
     "data": {
      "text/html": [
       "<pre>| 3221         | 6.3e+07 | 16.422      | 45.38s       |</pre>"
      ],
      "text/plain": [
       "| 3221         | 6.3e+07 | 16.422      | 45.38s       |"
      ]
     },
     "metadata": {},
     "output_type": "display_data"
    },
    {
     "data": {
      "text/html": [
       "<pre>| 3296         | 6.5e+07 | 16.8017     | 46.38s       |</pre>"
      ],
      "text/plain": [
       "| 3296         | 6.5e+07 | 16.8017     | 46.38s       |"
      ]
     },
     "metadata": {},
     "output_type": "display_data"
    },
    {
     "data": {
      "text/html": [
       "<pre>| 3370         | 6.6e+07 | 17.1789     | 47.38s       |</pre>"
      ],
      "text/plain": [
       "| 3370         | 6.6e+07 | 17.1789     | 47.38s       |"
      ]
     },
     "metadata": {},
     "output_type": "display_data"
    },
    {
     "data": {
      "text/html": [
       "<pre>| 3443         | 6.8e+07 | 17.551      | 48.37s       |</pre>"
      ],
      "text/plain": [
       "| 3443         | 6.8e+07 | 17.551      | 48.37s       |"
      ]
     },
     "metadata": {},
     "output_type": "display_data"
    },
    {
     "data": {
      "text/html": [
       "<pre>| 3519         | 6.9e+07 | 17.9383     | 49.40s       |</pre>"
      ],
      "text/plain": [
       "| 3519         | 6.9e+07 | 17.9383     | 49.40s       |"
      ]
     },
     "metadata": {},
     "output_type": "display_data"
    },
    {
     "data": {
      "text/html": [
       "<pre>| 3594         | 7.1e+07 | 18.3206     | 50.40s       |</pre>"
      ],
      "text/plain": [
       "| 3594         | 7.1e+07 | 18.3206     | 50.40s       |"
      ]
     },
     "metadata": {},
     "output_type": "display_data"
    },
    {
     "data": {
      "text/html": [
       "<pre>| 3667         | 7.2e+07 | 18.6927     | 51.39s       |</pre>"
      ],
      "text/plain": [
       "| 3667         | 7.2e+07 | 18.6927     | 51.39s       |"
      ]
     },
     "metadata": {},
     "output_type": "display_data"
    },
    {
     "data": {
      "text/html": [
       "<pre>| 3741         | 7.3e+07 | 19.0698     | 52.39s       |</pre>"
      ],
      "text/plain": [
       "| 3741         | 7.3e+07 | 19.0698     | 52.39s       |"
      ]
     },
     "metadata": {},
     "output_type": "display_data"
    },
    {
     "data": {
      "text/html": [
       "<pre>| 3816         | 7.5e+07 | 19.4521     | 53.40s       |</pre>"
      ],
      "text/plain": [
       "| 3816         | 7.5e+07 | 19.4521     | 53.40s       |"
      ]
     },
     "metadata": {},
     "output_type": "display_data"
    },
    {
     "data": {
      "text/html": [
       "<pre>| 3885         | 7.6e+07 | 19.8038     | 54.42s       |</pre>"
      ],
      "text/plain": [
       "| 3885         | 7.6e+07 | 19.8038     | 54.42s       |"
      ]
     },
     "metadata": {},
     "output_type": "display_data"
    },
    {
     "data": {
      "text/html": [
       "<pre>| 3958         | 7.8e+07 | 20.1758     | 55.42s       |</pre>"
      ],
      "text/plain": [
       "| 3958         | 7.8e+07 | 20.1758     | 55.42s       |"
      ]
     },
     "metadata": {},
     "output_type": "display_data"
    },
    {
     "data": {
      "text/html": [
       "<pre>| 4031         | 7.9e+07 | 20.5479     | 56.41s       |</pre>"
      ],
      "text/plain": [
       "| 4031         | 7.9e+07 | 20.5479     | 56.41s       |"
      ]
     },
     "metadata": {},
     "output_type": "display_data"
    },
    {
     "data": {
      "text/html": [
       "<pre>| 4107         | 8.1e+07 | 20.9378     | 57.42s       |</pre>"
      ],
      "text/plain": [
       "| 4107         | 8.1e+07 | 20.9378     | 57.42s       |"
      ]
     },
     "metadata": {},
     "output_type": "display_data"
    },
    {
     "data": {
      "text/html": [
       "<pre>| 4182         | 8.2e+07 | 21.3175     | 58.43s       |</pre>"
      ],
      "text/plain": [
       "| 4182         | 8.2e+07 | 21.3175     | 58.43s       |"
      ]
     },
     "metadata": {},
     "output_type": "display_data"
    },
    {
     "data": {
      "text/html": [
       "<pre>| 4254         | 8.3e+07 | 21.6871     | 59.42s       |</pre>"
      ],
      "text/plain": [
       "| 4254         | 8.3e+07 | 21.6871     | 59.42s       |"
      ]
     },
     "metadata": {},
     "output_type": "display_data"
    },
    {
     "data": {
      "text/html": [
       "<pre>| 4327         | 8.5e+07 | 22.0591     | 1m 0s        |</pre>"
      ],
      "text/plain": [
       "| 4327         | 8.5e+07 | 22.0591     | 1m 0s        |"
      ]
     },
     "metadata": {},
     "output_type": "display_data"
    },
    {
     "data": {
      "text/html": [
       "<pre>| 4401         | 8.6e+07 | 22.4337     | 1m 1s        |</pre>"
      ],
      "text/plain": [
       "| 4401         | 8.6e+07 | 22.4337     | 1m 1s        |"
      ]
     },
     "metadata": {},
     "output_type": "display_data"
    },
    {
     "data": {
      "text/html": [
       "<pre>| 4477         | 8.8e+07 | 22.8236     | 1m 2s        |</pre>"
      ],
      "text/plain": [
       "| 4477         | 8.8e+07 | 22.8236     | 1m 2s        |"
      ]
     },
     "metadata": {},
     "output_type": "display_data"
    },
    {
     "data": {
      "text/html": [
       "<pre>| 4549         | 8.9e+07 | 23.1906     | 1m 3s        |</pre>"
      ],
      "text/plain": [
       "| 4549         | 8.9e+07 | 23.1906     | 1m 3s        |"
      ]
     },
     "metadata": {},
     "output_type": "display_data"
    },
    {
     "data": {
      "text/html": [
       "<pre>| 4625         | 9.1e+07 | 23.5754     | 1m 4s        |</pre>"
      ],
      "text/plain": [
       "| 4625         | 9.1e+07 | 23.5754     | 1m 4s        |"
      ]
     },
     "metadata": {},
     "output_type": "display_data"
    },
    {
     "data": {
      "text/html": [
       "<pre>| 4698         | 9.2e+07 | 23.9475     | 1m 5s        |</pre>"
      ],
      "text/plain": [
       "| 4698         | 9.2e+07 | 23.9475     | 1m 5s        |"
      ]
     },
     "metadata": {},
     "output_type": "display_data"
    },
    {
     "data": {
      "text/html": [
       "<pre>| 4772         | 9.4e+07 | 24.3272     | 1m 6s        |</pre>"
      ],
      "text/plain": [
       "| 4772         | 9.4e+07 | 24.3272     | 1m 6s        |"
      ]
     },
     "metadata": {},
     "output_type": "display_data"
    },
    {
     "data": {
      "text/html": [
       "<pre>| 4847         | 9.5e+07 | 24.7095     | 1m 7s        |</pre>"
      ],
      "text/plain": [
       "| 4847         | 9.5e+07 | 24.7095     | 1m 7s        |"
      ]
     },
     "metadata": {},
     "output_type": "display_data"
    },
    {
     "data": {
      "text/html": [
       "<pre>| 4915         | 9.6e+07 | 25.0535     | 1m 8s        |</pre>"
      ],
      "text/plain": [
       "| 4915         | 9.6e+07 | 25.0535     | 1m 8s        |"
      ]
     },
     "metadata": {},
     "output_type": "display_data"
    },
    {
     "data": {
      "text/html": [
       "<pre>| 4967         | 9.7e+07 | 25.3211     | 1m 9s        |</pre>"
      ],
      "text/plain": [
       "| 4967         | 9.7e+07 | 25.3211     | 1m 9s        |"
      ]
     },
     "metadata": {},
     "output_type": "display_data"
    },
    {
     "data": {
      "text/html": [
       "<pre>| 5030         | 9.9e+07 | 25.6397     | 1m 10s       |</pre>"
      ],
      "text/plain": [
       "| 5030         | 9.9e+07 | 25.6397     | 1m 10s       |"
      ]
     },
     "metadata": {},
     "output_type": "display_data"
    },
    {
     "data": {
      "text/html": [
       "<pre>| 5078         | 1e+08   | 25.8869     | 1m 11s       |</pre>"
      ],
      "text/plain": [
       "| 5078         | 1e+08   | 25.8869     | 1m 11s       |"
      ]
     },
     "metadata": {},
     "output_type": "display_data"
    },
    {
     "data": {
      "text/html": [
       "<pre>| 5118         | 1e+08   | 26.0907     | 1m 12s       |</pre>"
      ],
      "text/plain": [
       "| 5118         | 1e+08   | 26.0907     | 1m 12s       |"
      ]
     },
     "metadata": {},
     "output_type": "display_data"
    },
    {
     "data": {
      "text/html": [
       "<pre>| 5176         | 1e+08   | 26.3838     | 1m 13s       |</pre>"
      ],
      "text/plain": [
       "| 5176         | 1e+08   | 26.3838     | 1m 13s       |"
      ]
     },
     "metadata": {},
     "output_type": "display_data"
    },
    {
     "data": {
      "text/html": [
       "<pre>| 5228         | 1e+08   | 26.6514     | 1m 14s       |</pre>"
      ],
      "text/plain": [
       "| 5228         | 1e+08   | 26.6514     | 1m 14s       |"
      ]
     },
     "metadata": {},
     "output_type": "display_data"
    },
    {
     "data": {
      "text/html": [
       "<pre>| 5273         | 1e+08   | 26.8782     | 1m 15s       |</pre>"
      ],
      "text/plain": [
       "| 5273         | 1e+08   | 26.8782     | 1m 15s       |"
      ]
     },
     "metadata": {},
     "output_type": "display_data"
    },
    {
     "data": {
      "text/html": [
       "<pre>| 5327         | 1e+08   | 27.156      | 1m 16s       |</pre>"
      ],
      "text/plain": [
       "| 5327         | 1e+08   | 27.156      | 1m 16s       |"
      ]
     },
     "metadata": {},
     "output_type": "display_data"
    },
    {
     "data": {
      "text/html": [
       "<pre>| 5371         | 1.1e+08 | 27.3777     | 1m 17s       |</pre>"
      ],
      "text/plain": [
       "| 5371         | 1.1e+08 | 27.3777     | 1m 17s       |"
      ]
     },
     "metadata": {},
     "output_type": "display_data"
    },
    {
     "data": {
      "text/html": [
       "<pre>| 5423         | 1.1e+08 | 27.6453     | 1m 18s       |</pre>"
      ],
      "text/plain": [
       "| 5423         | 1.1e+08 | 27.6453     | 1m 18s       |"
      ]
     },
     "metadata": {},
     "output_type": "display_data"
    },
    {
     "data": {
      "text/html": [
       "<pre>| 5471         | 1.1e+08 | 27.8874     | 1m 19s       |</pre>"
      ],
      "text/plain": [
       "| 5471         | 1.1e+08 | 27.8874     | 1m 19s       |"
      ]
     },
     "metadata": {},
     "output_type": "display_data"
    },
    {
     "data": {
      "text/html": [
       "<pre>| 5515         | 1.1e+08 | 28.1116     | 1m 20s       |</pre>"
      ],
      "text/plain": [
       "| 5515         | 1.1e+08 | 28.1116     | 1m 20s       |"
      ]
     },
     "metadata": {},
     "output_type": "display_data"
    },
    {
     "data": {
      "text/html": [
       "<pre>| 5569         | 1.1e+08 | 28.3894     | 1m 21s       |</pre>"
      ],
      "text/plain": [
       "| 5569         | 1.1e+08 | 28.3894     | 1m 21s       |"
      ]
     },
     "metadata": {},
     "output_type": "display_data"
    },
    {
     "data": {
      "text/html": [
       "<pre>| 5612         | 1.1e+08 | 28.606      | 1m 22s       |</pre>"
      ],
      "text/plain": [
       "| 5612         | 1.1e+08 | 28.606      | 1m 22s       |"
      ]
     },
     "metadata": {},
     "output_type": "display_data"
    },
    {
     "data": {
      "text/html": [
       "<pre>| 5666         | 1.1e+08 | 28.8812     | 1m 23s       |</pre>"
      ],
      "text/plain": [
       "| 5666         | 1.1e+08 | 28.8812     | 1m 23s       |"
      ]
     },
     "metadata": {},
     "output_type": "display_data"
    },
    {
     "data": {
      "text/html": [
       "<pre>| 5711         | 1.1e+08 | 29.1131     | 1m 24s       |</pre>"
      ],
      "text/plain": [
       "| 5711         | 1.1e+08 | 29.1131     | 1m 24s       |"
      ]
     },
     "metadata": {},
     "output_type": "display_data"
    },
    {
     "data": {
      "text/html": [
       "<pre>| 5758         | 1.1e+08 | 29.3527     | 1m 25s       |</pre>"
      ],
      "text/plain": [
       "| 5758         | 1.1e+08 | 29.3527     | 1m 25s       |"
      ]
     },
     "metadata": {},
     "output_type": "display_data"
    },
    {
     "data": {
      "text/html": [
       "<pre>| 5815         | 1.1e+08 | 29.6407     | 1m 26s       |</pre>"
      ],
      "text/plain": [
       "| 5815         | 1.1e+08 | 29.6407     | 1m 26s       |"
      ]
     },
     "metadata": {},
     "output_type": "display_data"
    },
    {
     "data": {
      "text/html": [
       "<pre>| 5857         | 1.1e+08 | 29.8547     | 1m 27s       |</pre>"
      ],
      "text/plain": [
       "| 5857         | 1.1e+08 | 29.8547     | 1m 27s       |"
      ]
     },
     "metadata": {},
     "output_type": "display_data"
    },
    {
     "data": {
      "text/html": [
       "<pre>| 5907         | 1.2e+08 | 30.1121     | 1m 28s       |</pre>"
      ],
      "text/plain": [
       "| 5907         | 1.2e+08 | 30.1121     | 1m 28s       |"
      ]
     },
     "metadata": {},
     "output_type": "display_data"
    },
    {
     "data": {
      "text/html": [
       "<pre>| 5957         | 1.2e+08 | 30.367      | 1m 29s       |</pre>"
      ],
      "text/plain": [
       "| 5957         | 1.2e+08 | 30.367      | 1m 29s       |"
      ]
     },
     "metadata": {},
     "output_type": "display_data"
    },
    {
     "data": {
      "text/html": [
       "<pre>| 6004         | 1.2e+08 | 30.604      | 1m 30s       |</pre>"
      ],
      "text/plain": [
       "| 6004         | 1.2e+08 | 30.604      | 1m 30s       |"
      ]
     },
     "metadata": {},
     "output_type": "display_data"
    },
    {
     "data": {
      "text/html": [
       "<pre>| 6050         | 1.2e+08 | 30.841      | 1m 31s       |</pre>"
      ],
      "text/plain": [
       "| 6050         | 1.2e+08 | 30.841      | 1m 31s       |"
      ]
     },
     "metadata": {},
     "output_type": "display_data"
    },
    {
     "data": {
      "text/html": [
       "<pre>| 6104         | 1.2e+08 | 31.1137     | 1m 32s       |</pre>"
      ],
      "text/plain": [
       "| 6104         | 1.2e+08 | 31.1137     | 1m 32s       |"
      ]
     },
     "metadata": {},
     "output_type": "display_data"
    },
    {
     "data": {
      "text/html": [
       "<pre>| 6156         | 1.2e+08 | 31.3812     | 1m 33s       |</pre>"
      ],
      "text/plain": [
       "| 6156         | 1.2e+08 | 31.3812     | 1m 33s       |"
      ]
     },
     "metadata": {},
     "output_type": "display_data"
    },
    {
     "data": {
      "text/html": [
       "<pre>| 6202         | 1.2e+08 | 31.6157     | 1m 34s       |</pre>"
      ],
      "text/plain": [
       "| 6202         | 1.2e+08 | 31.6157     | 1m 34s       |"
      ]
     },
     "metadata": {},
     "output_type": "display_data"
    },
    {
     "data": {
      "text/html": [
       "<pre>| 6255         | 1.2e+08 | 31.8858     | 1m 35s       |</pre>"
      ],
      "text/plain": [
       "| 6255         | 1.2e+08 | 31.8858     | 1m 35s       |"
      ]
     },
     "metadata": {},
     "output_type": "display_data"
    },
    {
     "data": {
      "text/html": [
       "<pre>| 6309         | 1.2e+08 | 32.1611     | 1m 36s       |</pre>"
      ],
      "text/plain": [
       "| 6309         | 1.2e+08 | 32.1611     | 1m 36s       |"
      ]
     },
     "metadata": {},
     "output_type": "display_data"
    },
    {
     "data": {
      "text/html": [
       "<pre>| 6369         | 1.2e+08 | 32.4643     | 1m 37s       |</pre>"
      ],
      "text/plain": [
       "| 6369         | 1.2e+08 | 32.4643     | 1m 37s       |"
      ]
     },
     "metadata": {},
     "output_type": "display_data"
    },
    {
     "data": {
      "text/html": [
       "<pre>| 6441         | 1.3e+08 | 32.8338     | 1m 38s       |</pre>"
      ],
      "text/plain": [
       "| 6441         | 1.3e+08 | 32.8338     | 1m 38s       |"
      ]
     },
     "metadata": {},
     "output_type": "display_data"
    },
    {
     "data": {
      "text/html": [
       "<pre>| 6515         | 1.3e+08 | 33.2085     | 1m 39s       |</pre>"
      ],
      "text/plain": [
       "| 6515         | 1.3e+08 | 33.2085     | 1m 39s       |"
      ]
     },
     "metadata": {},
     "output_type": "display_data"
    },
    {
     "data": {
      "text/html": [
       "<pre>| 6589         | 1.3e+08 | 33.5856     | 1m 40s       |</pre>"
      ],
      "text/plain": [
       "| 6589         | 1.3e+08 | 33.5856     | 1m 40s       |"
      ]
     },
     "metadata": {},
     "output_type": "display_data"
    },
    {
     "data": {
      "text/html": [
       "<pre>| 6665         | 1.3e+08 | 33.9755     | 1m 41s       |</pre>"
      ],
      "text/plain": [
       "| 6665         | 1.3e+08 | 33.9755     | 1m 41s       |"
      ]
     },
     "metadata": {},
     "output_type": "display_data"
    },
    {
     "data": {
      "text/html": [
       "<pre>| 6738         | 1.3e+08 | 34.3476     | 1m 42s       |</pre>"
      ],
      "text/plain": [
       "| 6738         | 1.3e+08 | 34.3476     | 1m 42s       |"
      ]
     },
     "metadata": {},
     "output_type": "display_data"
    },
    {
     "data": {
      "text/html": [
       "<pre>| 6812         | 1.3e+08 | 34.7248     | 1m 43s       |</pre>"
      ],
      "text/plain": [
       "| 6812         | 1.3e+08 | 34.7248     | 1m 43s       |"
      ]
     },
     "metadata": {},
     "output_type": "display_data"
    },
    {
     "data": {
      "text/html": [
       "<pre>| 6883         | 1.4e+08 | 35.0866     | 1m 44s       |</pre>"
      ],
      "text/plain": [
       "| 6883         | 1.4e+08 | 35.0866     | 1m 44s       |"
      ]
     },
     "metadata": {},
     "output_type": "display_data"
    },
    {
     "data": {
      "text/html": [
       "<pre>| 6957         | 1.4e+08 | 35.4638     | 1m 45s       |</pre>"
      ],
      "text/plain": [
       "| 6957         | 1.4e+08 | 35.4638     | 1m 45s       |"
      ]
     },
     "metadata": {},
     "output_type": "display_data"
    },
    {
     "data": {
      "text/html": [
       "<pre>| 7031         | 1.4e+08 | 35.841      | 1m 46s       |</pre>"
      ],
      "text/plain": [
       "| 7031         | 1.4e+08 | 35.841      | 1m 46s       |"
      ]
     },
     "metadata": {},
     "output_type": "display_data"
    },
    {
     "data": {
      "text/html": [
       "<pre>| 7107         | 1.4e+08 | 36.2258     | 1m 47s       |</pre>"
      ],
      "text/plain": [
       "| 7107         | 1.4e+08 | 36.2258     | 1m 47s       |"
      ]
     },
     "metadata": {},
     "output_type": "display_data"
    },
    {
     "data": {
      "text/html": [
       "<pre>| 7182         | 1.4e+08 | 36.6106     | 1m 48s       |</pre>"
      ],
      "text/plain": [
       "| 7182         | 1.4e+08 | 36.6106     | 1m 48s       |"
      ]
     },
     "metadata": {},
     "output_type": "display_data"
    },
    {
     "data": {
      "text/html": [
       "<pre>| 7254         | 1.4e+08 | 36.9776     | 1m 49s       |</pre>"
      ],
      "text/plain": [
       "| 7254         | 1.4e+08 | 36.9776     | 1m 49s       |"
      ]
     },
     "metadata": {},
     "output_type": "display_data"
    },
    {
     "data": {
      "text/html": [
       "<pre>| 7329         | 1.4e+08 | 37.3573     | 1m 50s       |</pre>"
      ],
      "text/plain": [
       "| 7329         | 1.4e+08 | 37.3573     | 1m 50s       |"
      ]
     },
     "metadata": {},
     "output_type": "display_data"
    },
    {
     "data": {
      "text/html": [
       "<pre>| 7404         | 1.5e+08 | 37.7396     | 1m 51s       |</pre>"
      ],
      "text/plain": [
       "| 7404         | 1.5e+08 | 37.7396     | 1m 51s       |"
      ]
     },
     "metadata": {},
     "output_type": "display_data"
    },
    {
     "data": {
      "text/html": [
       "<pre>| 7476         | 1.5e+08 | 38.1065     | 1m 52s       |</pre>"
      ],
      "text/plain": [
       "| 7476         | 1.5e+08 | 38.1065     | 1m 52s       |"
      ]
     },
     "metadata": {},
     "output_type": "display_data"
    },
    {
     "data": {
      "text/html": [
       "<pre>| 7552         | 1.5e+08 | 38.4939     | 1m 53s       |</pre>"
      ],
      "text/plain": [
       "| 7552         | 1.5e+08 | 38.4939     | 1m 53s       |"
      ]
     },
     "metadata": {},
     "output_type": "display_data"
    },
    {
     "data": {
      "text/html": [
       "<pre>| 7626         | 1.5e+08 | 38.8736     | 1m 54s       |</pre>"
      ],
      "text/plain": [
       "| 7626         | 1.5e+08 | 38.8736     | 1m 54s       |"
      ]
     },
     "metadata": {},
     "output_type": "display_data"
    },
    {
     "data": {
      "text/html": [
       "<pre>| 7677         | 1.5e+08 | 39.1335     | 1m 55s       |</pre>"
      ],
      "text/plain": [
       "| 7677         | 1.5e+08 | 39.1335     | 1m 55s       |"
      ]
     },
     "metadata": {},
     "output_type": "display_data"
    },
    {
     "data": {
      "text/html": [
       "<pre>| 7728         | 1.5e+08 | 39.3909     | 1m 56s       |</pre>"
      ],
      "text/plain": [
       "| 7728         | 1.5e+08 | 39.3909     | 1m 56s       |"
      ]
     },
     "metadata": {},
     "output_type": "display_data"
    },
    {
     "data": {
      "text/html": [
       "<pre>| 7800         | 1.5e+08 | 39.7604     | 1m 57s       |</pre>"
      ],
      "text/plain": [
       "| 7800         | 1.5e+08 | 39.7604     | 1m 57s       |"
      ]
     },
     "metadata": {},
     "output_type": "display_data"
    },
    {
     "data": {
      "text/html": [
       "<pre>| 7870         | 1.5e+08 | 40.1172     | 1m 58s       |</pre>"
      ],
      "text/plain": [
       "| 7870         | 1.5e+08 | 40.1172     | 1m 58s       |"
      ]
     },
     "metadata": {},
     "output_type": "display_data"
    },
    {
     "data": {
      "text/html": [
       "<pre>| 7942         | 1.6e+08 | 40.4842     | 1m 59s       |</pre>"
      ],
      "text/plain": [
       "| 7942         | 1.6e+08 | 40.4842     | 1m 59s       |"
      ]
     },
     "metadata": {},
     "output_type": "display_data"
    },
    {
     "data": {
      "text/html": [
       "<pre>| 8016         | 1.6e+08 | 40.8588     | 2m 0s        |</pre>"
      ],
      "text/plain": [
       "| 8016         | 1.6e+08 | 40.8588     | 2m 0s        |"
      ]
     },
     "metadata": {},
     "output_type": "display_data"
    },
    {
     "data": {
      "text/html": [
       "<pre>| 8068         | 1.6e+08 | 41.1239     | 2m 1s        |</pre>"
      ],
      "text/plain": [
       "| 8068         | 1.6e+08 | 41.1239     | 2m 1s        |"
      ]
     },
     "metadata": {},
     "output_type": "display_data"
    },
    {
     "data": {
      "text/html": [
       "<pre>| 8105         | 1.6e+08 | 41.315      | 2m 2s        |</pre>"
      ],
      "text/plain": [
       "| 8105         | 1.6e+08 | 41.315      | 2m 2s        |"
      ]
     },
     "metadata": {},
     "output_type": "display_data"
    },
    {
     "data": {
      "text/html": [
       "<pre>| 8160         | 1.6e+08 | 41.5928     | 2m 3s        |</pre>"
      ],
      "text/plain": [
       "| 8160         | 1.6e+08 | 41.5928     | 2m 3s        |"
      ]
     },
     "metadata": {},
     "output_type": "display_data"
    },
    {
     "data": {
      "text/html": [
       "<pre>| 8198         | 1.6e+08 | 41.7864     | 2m 4s        |</pre>"
      ],
      "text/plain": [
       "| 8198         | 1.6e+08 | 41.7864     | 2m 4s        |"
      ]
     },
     "metadata": {},
     "output_type": "display_data"
    },
    {
     "data": {
      "text/html": [
       "<pre>| 8249         | 1.6e+08 | 42.0464     | 2m 5s        |</pre>"
      ],
      "text/plain": [
       "| 8249         | 1.6e+08 | 42.0464     | 2m 5s        |"
      ]
     },
     "metadata": {},
     "output_type": "display_data"
    },
    {
     "data": {
      "text/html": [
       "<pre>| 8302         | 1.6e+08 | 42.3165     | 2m 6s        |</pre>"
      ],
      "text/plain": [
       "| 8302         | 1.6e+08 | 42.3165     | 2m 6s        |"
      ]
     },
     "metadata": {},
     "output_type": "display_data"
    },
    {
     "data": {
      "text/html": [
       "<pre>| 8361         | 1.6e+08 | 42.6172     | 2m 7s        |</pre>"
      ],
      "text/plain": [
       "| 8361         | 1.6e+08 | 42.6172     | 2m 7s        |"
      ]
     },
     "metadata": {},
     "output_type": "display_data"
    },
    {
     "data": {
      "text/html": [
       "<pre>| 8427         | 1.7e+08 | 42.9536     | 2m 8s        |</pre>"
      ],
      "text/plain": [
       "| 8427         | 1.7e+08 | 42.9536     | 2m 8s        |"
      ]
     },
     "metadata": {},
     "output_type": "display_data"
    },
    {
     "data": {
      "text/html": [
       "<pre>| 8490         | 1.7e+08 | 43.2773     | 2m 9s        |</pre>"
      ],
      "text/plain": [
       "| 8490         | 1.7e+08 | 43.2773     | 2m 9s        |"
      ]
     },
     "metadata": {},
     "output_type": "display_data"
    },
    {
     "data": {
      "text/html": [
       "<pre>| 8565         | 1.7e+08 | 43.657      | 2m 10s       |</pre>"
      ],
      "text/plain": [
       "| 8565         | 1.7e+08 | 43.657      | 2m 10s       |"
      ]
     },
     "metadata": {},
     "output_type": "display_data"
    },
    {
     "data": {
      "text/html": [
       "<pre>| 8639         | 1.7e+08 | 44.0367     | 2m 11s       |</pre>"
      ],
      "text/plain": [
       "| 8639         | 1.7e+08 | 44.0367     | 2m 11s       |"
      ]
     },
     "metadata": {},
     "output_type": "display_data"
    },
    {
     "data": {
      "text/html": [
       "<pre>| 8713         | 1.7e+08 | 44.4113     | 2m 12s       |</pre>"
      ],
      "text/plain": [
       "| 8713         | 1.7e+08 | 44.4113     | 2m 12s       |"
      ]
     },
     "metadata": {},
     "output_type": "display_data"
    },
    {
     "data": {
      "text/html": [
       "<pre>| 8789         | 1.7e+08 | 44.8012     | 2m 13s       |</pre>"
      ],
      "text/plain": [
       "| 8789         | 1.7e+08 | 44.8012     | 2m 13s       |"
      ]
     },
     "metadata": {},
     "output_type": "display_data"
    },
    {
     "data": {
      "text/html": [
       "<pre>| 8860         | 1.7e+08 | 45.1631     | 2m 14s       |</pre>"
      ],
      "text/plain": [
       "| 8860         | 1.7e+08 | 45.1631     | 2m 14s       |"
      ]
     },
     "metadata": {},
     "output_type": "display_data"
    },
    {
     "data": {
      "text/html": [
       "<pre>| 8935         | 1.8e+08 | 45.5428     | 2m 15s       |</pre>"
      ],
      "text/plain": [
       "| 8935         | 1.8e+08 | 45.5428     | 2m 15s       |"
      ]
     },
     "metadata": {},
     "output_type": "display_data"
    },
    {
     "data": {
      "text/html": [
       "<pre>| 9008         | 1.8e+08 | 45.9149     | 2m 16s       |</pre>"
      ],
      "text/plain": [
       "| 9008         | 1.8e+08 | 45.9149     | 2m 16s       |"
      ]
     },
     "metadata": {},
     "output_type": "display_data"
    },
    {
     "data": {
      "text/html": [
       "<pre>| 9081         | 1.8e+08 | 46.2895     | 2m 17s       |</pre>"
      ],
      "text/plain": [
       "| 9081         | 1.8e+08 | 46.2895     | 2m 17s       |"
      ]
     },
     "metadata": {},
     "output_type": "display_data"
    },
    {
     "data": {
      "text/html": [
       "<pre>| 9155         | 1.8e+08 | 46.6667     | 2m 18s       |</pre>"
      ],
      "text/plain": [
       "| 9155         | 1.8e+08 | 46.6667     | 2m 18s       |"
      ]
     },
     "metadata": {},
     "output_type": "display_data"
    },
    {
     "data": {
      "text/html": [
       "<pre>| 9229         | 1.8e+08 | 47.0438     | 2m 19s       |</pre>"
      ],
      "text/plain": [
       "| 9229         | 1.8e+08 | 47.0438     | 2m 19s       |"
      ]
     },
     "metadata": {},
     "output_type": "display_data"
    },
    {
     "data": {
      "text/html": [
       "<pre>| 9301         | 1.8e+08 | 47.4083     | 2m 20s       |</pre>"
      ],
      "text/plain": [
       "| 9301         | 1.8e+08 | 47.4083     | 2m 20s       |"
      ]
     },
     "metadata": {},
     "output_type": "display_data"
    },
    {
     "data": {
      "text/html": [
       "<pre>| 9356         | 1.8e+08 | 47.6886     | 2m 21s       |</pre>"
      ],
      "text/plain": [
       "| 9356         | 1.8e+08 | 47.6886     | 2m 21s       |"
      ]
     },
     "metadata": {},
     "output_type": "display_data"
    },
    {
     "data": {
      "text/html": [
       "<pre>| 9428         | 1.8e+08 | 48.0581     | 2m 22s       |</pre>"
      ],
      "text/plain": [
       "| 9428         | 1.8e+08 | 48.0581     | 2m 22s       |"
      ]
     },
     "metadata": {},
     "output_type": "display_data"
    },
    {
     "data": {
      "text/html": [
       "<pre>| 9503         | 1.9e+08 | 48.4378     | 2m 23s       |</pre>"
      ],
      "text/plain": [
       "| 9503         | 1.9e+08 | 48.4378     | 2m 23s       |"
      ]
     },
     "metadata": {},
     "output_type": "display_data"
    },
    {
     "data": {
      "text/html": [
       "<pre>| 9576         | 1.9e+08 | 48.8099     | 2m 24s       |</pre>"
      ],
      "text/plain": [
       "| 9576         | 1.9e+08 | 48.8099     | 2m 24s       |"
      ]
     },
     "metadata": {},
     "output_type": "display_data"
    },
    {
     "data": {
      "text/html": [
       "<pre>| 9650         | 1.9e+08 | 49.1896     | 2m 25s       |</pre>"
      ],
      "text/plain": [
       "| 9650         | 1.9e+08 | 49.1896     | 2m 25s       |"
      ]
     },
     "metadata": {},
     "output_type": "display_data"
    },
    {
     "data": {
      "text/html": [
       "<pre>| 9724         | 1.9e+08 | 49.5668     | 2m 26s       |</pre>"
      ],
      "text/plain": [
       "| 9724         | 1.9e+08 | 49.5668     | 2m 26s       |"
      ]
     },
     "metadata": {},
     "output_type": "display_data"
    },
    {
     "data": {
      "text/html": [
       "<pre>| 9798         | 1.9e+08 | 49.9439     | 2m 27s       |</pre>"
      ],
      "text/plain": [
       "| 9798         | 1.9e+08 | 49.9439     | 2m 27s       |"
      ]
     },
     "metadata": {},
     "output_type": "display_data"
    },
    {
     "data": {
      "text/html": [
       "<pre>| 9847         | 1.9e+08 | 50.1937     | 2m 28s       |</pre>"
      ],
      "text/plain": [
       "| 9847         | 1.9e+08 | 50.1937     | 2m 28s       |"
      ]
     },
     "metadata": {},
     "output_type": "display_data"
    },
    {
     "data": {
      "text/html": [
       "<pre>| 9905         | 1.9e+08 | 50.4893     | 2m 29s       |</pre>"
      ],
      "text/plain": [
       "| 9905         | 1.9e+08 | 50.4893     | 2m 29s       |"
      ]
     },
     "metadata": {},
     "output_type": "display_data"
    },
    {
     "data": {
      "text/html": [
       "<pre>| 9979         | 2e+08   | 50.8666     | 2m 30s       |</pre>"
      ],
      "text/plain": [
       "| 9979         | 2e+08   | 50.8666     | 2m 30s       |"
      ]
     },
     "metadata": {},
     "output_type": "display_data"
    },
    {
     "data": {
      "text/html": [
       "<pre>| 10054        | 2e+08   | 51.2463     | 2m 31s       |</pre>"
      ],
      "text/plain": [
       "| 10054        | 2e+08   | 51.2463     | 2m 31s       |"
      ]
     },
     "metadata": {},
     "output_type": "display_data"
    },
    {
     "data": {
      "text/html": [
       "<pre>| 10126        | 2e+08   | 51.6159     | 2m 32s       |</pre>"
      ],
      "text/plain": [
       "| 10126        | 2e+08   | 51.6159     | 2m 32s       |"
      ]
     },
     "metadata": {},
     "output_type": "display_data"
    },
    {
     "data": {
      "text/html": [
       "<pre>| 10199        | 2e+08   | 51.988      | 2m 33s       |</pre>"
      ],
      "text/plain": [
       "| 10199        | 2e+08   | 51.988      | 2m 33s       |"
      ]
     },
     "metadata": {},
     "output_type": "display_data"
    },
    {
     "data": {
      "text/html": [
       "<pre>| 10268        | 2e+08   | 52.3397     | 2m 34s       |</pre>"
      ],
      "text/plain": [
       "| 10268        | 2e+08   | 52.3397     | 2m 34s       |"
      ]
     },
     "metadata": {},
     "output_type": "display_data"
    },
    {
     "data": {
      "text/html": [
       "<pre>| 10342        | 2e+08   | 52.7169     | 2m 35s       |</pre>"
      ],
      "text/plain": [
       "| 10342        | 2e+08   | 52.7169     | 2m 35s       |"
      ]
     },
     "metadata": {},
     "output_type": "display_data"
    },
    {
     "data": {
      "text/html": [
       "<pre>| 10418        | 2e+08   | 53.1043     | 2m 36s       |</pre>"
      ],
      "text/plain": [
       "| 10418        | 2e+08   | 53.1043     | 2m 36s       |"
      ]
     },
     "metadata": {},
     "output_type": "display_data"
    },
    {
     "data": {
      "text/html": [
       "<pre>| 10494        | 2.1e+08 | 53.4891     | 2m 37s       |</pre>"
      ],
      "text/plain": [
       "| 10494        | 2.1e+08 | 53.4891     | 2m 37s       |"
      ]
     },
     "metadata": {},
     "output_type": "display_data"
    },
    {
     "data": {
      "text/html": [
       "<pre>| 10571        | 2.1e+08 | 53.8842     | 2m 38s       |</pre>"
      ],
      "text/plain": [
       "| 10571        | 2.1e+08 | 53.8842     | 2m 38s       |"
      ]
     },
     "metadata": {},
     "output_type": "display_data"
    },
    {
     "data": {
      "text/html": [
       "<pre>| 10649        | 2.1e+08 | 54.2792     | 2m 39s       |</pre>"
      ],
      "text/plain": [
       "| 10649        | 2.1e+08 | 54.2792     | 2m 39s       |"
      ]
     },
     "metadata": {},
     "output_type": "display_data"
    },
    {
     "data": {
      "text/html": [
       "<pre>| 10723        | 2.1e+08 | 54.659      | 2m 40s       |</pre>"
      ],
      "text/plain": [
       "| 10723        | 2.1e+08 | 54.659      | 2m 40s       |"
      ]
     },
     "metadata": {},
     "output_type": "display_data"
    },
    {
     "data": {
      "text/html": [
       "<pre>| 10801        | 2.1e+08 | 55.054      | 2m 41s       |</pre>"
      ],
      "text/plain": [
       "| 10801        | 2.1e+08 | 55.054      | 2m 41s       |"
      ]
     },
     "metadata": {},
     "output_type": "display_data"
    },
    {
     "data": {
      "text/html": [
       "<pre>| 10878        | 2.1e+08 | 55.4491     | 2m 42s       |</pre>"
      ],
      "text/plain": [
       "| 10878        | 2.1e+08 | 55.4491     | 2m 42s       |"
      ]
     },
     "metadata": {},
     "output_type": "display_data"
    },
    {
     "data": {
      "text/html": [
       "<pre>| 10954        | 2.1e+08 | 55.8365     | 2m 43s       |</pre>"
      ],
      "text/plain": [
       "| 10954        | 2.1e+08 | 55.8365     | 2m 43s       |"
      ]
     },
     "metadata": {},
     "output_type": "display_data"
    },
    {
     "data": {
      "text/html": [
       "<pre>| 11029        | 2.2e+08 | 56.2188     | 2m 44s       |</pre>"
      ],
      "text/plain": [
       "| 11029        | 2.2e+08 | 56.2188     | 2m 44s       |"
      ]
     },
     "metadata": {},
     "output_type": "display_data"
    },
    {
     "data": {
      "text/html": [
       "<pre>| 11105        | 2.2e+08 | 56.6062     | 2m 45s       |</pre>"
      ],
      "text/plain": [
       "| 11105        | 2.2e+08 | 56.6062     | 2m 45s       |"
      ]
     },
     "metadata": {},
     "output_type": "display_data"
    },
    {
     "data": {
      "text/html": [
       "<pre>| 11183        | 2.2e+08 | 57.0038     | 2m 46s       |</pre>"
      ],
      "text/plain": [
       "| 11183        | 2.2e+08 | 57.0038     | 2m 46s       |"
      ]
     },
     "metadata": {},
     "output_type": "display_data"
    },
    {
     "data": {
      "text/html": [
       "<pre>| 11260        | 2.2e+08 | 57.3937     | 2m 47s       |</pre>"
      ],
      "text/plain": [
       "| 11260        | 2.2e+08 | 57.3937     | 2m 47s       |"
      ]
     },
     "metadata": {},
     "output_type": "display_data"
    },
    {
     "data": {
      "text/html": [
       "<pre>| 11337        | 2.2e+08 | 57.7888     | 2m 48s       |</pre>"
      ],
      "text/plain": [
       "| 11337        | 2.2e+08 | 57.7888     | 2m 48s       |"
      ]
     },
     "metadata": {},
     "output_type": "display_data"
    },
    {
     "data": {
      "text/html": [
       "<pre>| 11412        | 2.2e+08 | 58.1685     | 2m 49s       |</pre>"
      ],
      "text/plain": [
       "| 11412        | 2.2e+08 | 58.1685     | 2m 49s       |"
      ]
     },
     "metadata": {},
     "output_type": "display_data"
    },
    {
     "data": {
      "text/html": [
       "<pre>| 11489        | 2.3e+08 | 58.5636     | 2m 50s       |</pre>"
      ],
      "text/plain": [
       "| 11489        | 2.3e+08 | 58.5636     | 2m 50s       |"
      ]
     },
     "metadata": {},
     "output_type": "display_data"
    },
    {
     "data": {
      "text/html": [
       "<pre>| 11567        | 2.3e+08 | 58.9586     | 2m 51s       |</pre>"
      ],
      "text/plain": [
       "| 11567        | 2.3e+08 | 58.9586     | 2m 51s       |"
      ]
     },
     "metadata": {},
     "output_type": "display_data"
    },
    {
     "data": {
      "text/html": [
       "<pre>| 11643        | 2.3e+08 | 59.3486     | 2m 52s       |</pre>"
      ],
      "text/plain": [
       "| 11643        | 2.3e+08 | 59.3486     | 2m 52s       |"
      ]
     },
     "metadata": {},
     "output_type": "display_data"
    },
    {
     "data": {
      "text/html": [
       "<pre>| 11720        | 2.3e+08 | 59.7411     | 2m 53s       |</pre>"
      ],
      "text/plain": [
       "| 11720        | 2.3e+08 | 59.7411     | 2m 53s       |"
      ]
     },
     "metadata": {},
     "output_type": "display_data"
    },
    {
     "data": {
      "text/html": [
       "<pre>| 11797        | 2.3e+08 | 60.1336     | 2m 54s       |</pre>"
      ],
      "text/plain": [
       "| 11797        | 2.3e+08 | 60.1336     | 2m 54s       |"
      ]
     },
     "metadata": {},
     "output_type": "display_data"
    },
    {
     "data": {
      "text/html": [
       "<pre>| 11873        | 2.3e+08 | 60.521      | 2m 55s       |</pre>"
      ],
      "text/plain": [
       "| 11873        | 2.3e+08 | 60.521      | 2m 55s       |"
      ]
     },
     "metadata": {},
     "output_type": "display_data"
    },
    {
     "data": {
      "text/html": [
       "<pre>| 11950        | 2.3e+08 | 60.9109     | 2m 56s       |</pre>"
      ],
      "text/plain": [
       "| 11950        | 2.3e+08 | 60.9109     | 2m 56s       |"
      ]
     },
     "metadata": {},
     "output_type": "display_data"
    },
    {
     "data": {
      "text/html": [
       "<pre>| 12027        | 2.4e+08 | 61.3059     | 2m 57s       |</pre>"
      ],
      "text/plain": [
       "| 12027        | 2.4e+08 | 61.3059     | 2m 57s       |"
      ]
     },
     "metadata": {},
     "output_type": "display_data"
    },
    {
     "data": {
      "text/html": [
       "<pre>| 12103        | 2.4e+08 | 61.6908     | 2m 58s       |</pre>"
      ],
      "text/plain": [
       "| 12103        | 2.4e+08 | 61.6908     | 2m 58s       |"
      ]
     },
     "metadata": {},
     "output_type": "display_data"
    },
    {
     "data": {
      "text/html": [
       "<pre>| 12180        | 2.4e+08 | 62.0833     | 2m 59s       |</pre>"
      ],
      "text/plain": [
       "| 12180        | 2.4e+08 | 62.0833     | 2m 59s       |"
      ]
     },
     "metadata": {},
     "output_type": "display_data"
    },
    {
     "data": {
      "text/html": [
       "<pre>| 12257        | 2.4e+08 | 62.4758     | 3m 0s        |</pre>"
      ],
      "text/plain": [
       "| 12257        | 2.4e+08 | 62.4758     | 3m 0s        |"
      ]
     },
     "metadata": {},
     "output_type": "display_data"
    },
    {
     "data": {
      "text/html": [
       "<pre>| 12333        | 2.4e+08 | 62.8632     | 3m 1s        |</pre>"
      ],
      "text/plain": [
       "| 12333        | 2.4e+08 | 62.8632     | 3m 1s        |"
      ]
     },
     "metadata": {},
     "output_type": "display_data"
    },
    {
     "data": {
      "text/html": [
       "<pre>| 12409        | 2.4e+08 | 63.2531     | 3m 2s        |</pre>"
      ],
      "text/plain": [
       "| 12409        | 2.4e+08 | 63.2531     | 3m 2s        |"
      ]
     },
     "metadata": {},
     "output_type": "display_data"
    },
    {
     "data": {
      "text/html": [
       "<pre>| 12486        | 2.4e+08 | 63.6431     | 3m 3s        |</pre>"
      ],
      "text/plain": [
       "| 12486        | 2.4e+08 | 63.6431     | 3m 3s        |"
      ]
     },
     "metadata": {},
     "output_type": "display_data"
    },
    {
     "data": {
      "text/html": [
       "<pre>| 12554        | 2.5e+08 | 63.9923     | 3m 4s        |</pre>"
      ],
      "text/plain": [
       "| 12554        | 2.5e+08 | 63.9923     | 3m 4s        |"
      ]
     },
     "metadata": {},
     "output_type": "display_data"
    },
    {
     "data": {
      "text/html": [
       "<pre>| 12622        | 2.5e+08 | 64.3363     | 3m 5s        |</pre>"
      ],
      "text/plain": [
       "| 12622        | 2.5e+08 | 64.3363     | 3m 5s        |"
      ]
     },
     "metadata": {},
     "output_type": "display_data"
    },
    {
     "data": {
      "text/html": [
       "<pre>| 12693        | 2.5e+08 | 64.6982     | 3m 6s        |</pre>"
      ],
      "text/plain": [
       "| 12693        | 2.5e+08 | 64.6982     | 3m 6s        |"
      ]
     },
     "metadata": {},
     "output_type": "display_data"
    },
    {
     "data": {
      "text/html": [
       "<pre>| 12755        | 2.5e+08 | 65.0168     | 3m 7s        |</pre>"
      ],
      "text/plain": [
       "| 12755        | 2.5e+08 | 65.0168     | 3m 7s        |"
      ]
     },
     "metadata": {},
     "output_type": "display_data"
    },
    {
     "data": {
      "text/html": [
       "<pre>| 12811        | 2.5e+08 | 65.3023     | 3m 8s        |</pre>"
      ],
      "text/plain": [
       "| 12811        | 2.5e+08 | 65.3023     | 3m 8s        |"
      ]
     },
     "metadata": {},
     "output_type": "display_data"
    },
    {
     "data": {
      "text/html": [
       "<pre>| 12874        | 2.5e+08 | 65.6209     | 3m 9s        |</pre>"
      ],
      "text/plain": [
       "| 12874        | 2.5e+08 | 65.6209     | 3m 9s        |"
      ]
     },
     "metadata": {},
     "output_type": "display_data"
    },
    {
     "data": {
      "text/html": [
       "<pre>| 12946        | 2.5e+08 | 65.9904     | 3m 10s       |</pre>"
      ],
      "text/plain": [
       "| 12946        | 2.5e+08 | 65.9904     | 3m 10s       |"
      ]
     },
     "metadata": {},
     "output_type": "display_data"
    },
    {
     "data": {
      "text/html": [
       "<pre>| 13024        | 2.6e+08 | 66.3855     | 3m 11s       |</pre>"
      ],
      "text/plain": [
       "| 13024        | 2.6e+08 | 66.3855     | 3m 11s       |"
      ]
     },
     "metadata": {},
     "output_type": "display_data"
    },
    {
     "data": {
      "text/html": [
       "<pre>| 13100        | 2.6e+08 | 66.7754     | 3m 12s       |</pre>"
      ],
      "text/plain": [
       "| 13100        | 2.6e+08 | 66.7754     | 3m 12s       |"
      ]
     },
     "metadata": {},
     "output_type": "display_data"
    },
    {
     "data": {
      "text/html": [
       "<pre>| 13176        | 2.6e+08 | 67.1628     | 3m 13s       |</pre>"
      ],
      "text/plain": [
       "| 13176        | 2.6e+08 | 67.1628     | 3m 13s       |"
      ]
     },
     "metadata": {},
     "output_type": "display_data"
    },
    {
     "data": {
      "text/html": [
       "<pre>| 13251        |         | 67.5426     | 3m 14s       |</pre>"
      ],
      "text/plain": [
       "| 13251        |         | 67.5426     | 3m 14s       |"
      ]
     },
     "metadata": {},
     "output_type": "display_data"
    },
    {
     "data": {
      "text/html": [
       "<pre>| 13328        | 2.6e+08 | 67.9376     | 3m 15s       |</pre>"
      ],
      "text/plain": [
       "| 13328        | 2.6e+08 | 67.9376     | 3m 15s       |"
      ]
     },
     "metadata": {},
     "output_type": "display_data"
    },
    {
     "data": {
      "text/html": [
       "<pre>| 13405        | 2.6e+08 | 68.3276     | 3m 16s       |</pre>"
      ],
      "text/plain": [
       "| 13405        | 2.6e+08 | 68.3276     | 3m 16s       |"
      ]
     },
     "metadata": {},
     "output_type": "display_data"
    },
    {
     "data": {
      "text/html": [
       "<pre>| 13482        | 2.6e+08 | 68.7226     | 3m 17s       |</pre>"
      ],
      "text/plain": [
       "| 13482        | 2.6e+08 | 68.7226     | 3m 17s       |"
      ]
     },
     "metadata": {},
     "output_type": "display_data"
    },
    {
     "data": {
      "text/html": [
       "<pre>| 13561        | 2.7e+08 | 69.1227     | 3m 18s       |</pre>"
      ],
      "text/plain": [
       "| 13561        | 2.7e+08 | 69.1227     | 3m 18s       |"
      ]
     },
     "metadata": {},
     "output_type": "display_data"
    },
    {
     "data": {
      "text/html": [
       "<pre>| 13635        | 2.7e+08 | 69.4999     | 3m 19s       |</pre>"
      ],
      "text/plain": [
       "| 13635        | 2.7e+08 | 69.4999     | 3m 19s       |"
      ]
     },
     "metadata": {},
     "output_type": "display_data"
    },
    {
     "data": {
      "text/html": [
       "<pre>| 13712        | 2.7e+08 | 69.8924     | 3m 20s       |</pre>"
      ],
      "text/plain": [
       "| 13712        | 2.7e+08 | 69.8924     | 3m 20s       |"
      ]
     },
     "metadata": {},
     "output_type": "display_data"
    },
    {
     "data": {
      "text/html": [
       "<pre>| 13780        | 2.7e+08 | 70.2391     | 3m 21s       |</pre>"
      ],
      "text/plain": [
       "| 13780        | 2.7e+08 | 70.2391     | 3m 21s       |"
      ]
     },
     "metadata": {},
     "output_type": "display_data"
    },
    {
     "data": {
      "text/html": [
       "<pre>| 13845        | 2.7e+08 | 70.5704     | 3m 22s       |</pre>"
      ],
      "text/plain": [
       "| 13845        | 2.7e+08 | 70.5704     | 3m 22s       |"
      ]
     },
     "metadata": {},
     "output_type": "display_data"
    },
    {
     "data": {
      "text/html": [
       "<pre>| 13873        | 2.7e+08 | 70.7131     | 3m 23s       |</pre>"
      ],
      "text/plain": [
       "| 13873        | 2.7e+08 | 70.7131     | 3m 23s       |"
      ]
     },
     "metadata": {},
     "output_type": "display_data"
    },
    {
     "data": {
      "text/html": [
       "<pre>| 13930        | 2.7e+08 | 71.0037     | 3m 24s       |</pre>"
      ],
      "text/plain": [
       "| 13930        | 2.7e+08 | 71.0037     | 3m 24s       |"
      ]
     },
     "metadata": {},
     "output_type": "display_data"
    },
    {
     "data": {
      "text/html": [
       "<pre>| 13990        | 2.7e+08 | 71.3095     | 3m 25s       |</pre>"
      ],
      "text/plain": [
       "| 13990        | 2.7e+08 | 71.3095     | 3m 25s       |"
      ]
     },
     "metadata": {},
     "output_type": "display_data"
    },
    {
     "data": {
      "text/html": [
       "<pre>| 14065        | 2.8e+08 | 71.6918     | 3m 26s       |</pre>"
      ],
      "text/plain": [
       "| 14065        | 2.8e+08 | 71.6918     | 3m 26s       |"
      ]
     },
     "metadata": {},
     "output_type": "display_data"
    },
    {
     "data": {
      "text/html": [
       "<pre>| 14141        | 2.8e+08 | 72.0792     | 3m 27s       |</pre>"
      ],
      "text/plain": [
       "| 14141        | 2.8e+08 | 72.0792     | 3m 27s       |"
      ]
     },
     "metadata": {},
     "output_type": "display_data"
    },
    {
     "data": {
      "text/html": [
       "<pre>| 14220        | 2.8e+08 | 72.4845     | 3m 28s       |</pre>"
      ],
      "text/plain": [
       "| 14220        | 2.8e+08 | 72.4845     | 3m 28s       |"
      ]
     },
     "metadata": {},
     "output_type": "display_data"
    },
    {
     "data": {
      "text/html": [
       "<pre>| 14295        | 2.8e+08 | 72.8642     | 3m 29s       |</pre>"
      ],
      "text/plain": [
       "| 14295        | 2.8e+08 | 72.8642     | 3m 29s       |"
      ]
     },
     "metadata": {},
     "output_type": "display_data"
    },
    {
     "data": {
      "text/html": [
       "<pre>| 14371        | 2.8e+08 | 73.2542     | 3m 30s       |</pre>"
      ],
      "text/plain": [
       "| 14371        | 2.8e+08 | 73.2542     | 3m 30s       |"
      ]
     },
     "metadata": {},
     "output_type": "display_data"
    },
    {
     "data": {
      "text/html": [
       "<pre>| 14447        | 2.8e+08 | 73.6416     | 3m 31s       |</pre>"
      ],
      "text/plain": [
       "| 14447        | 2.8e+08 | 73.6416     | 3m 31s       |"
      ]
     },
     "metadata": {},
     "output_type": "display_data"
    },
    {
     "data": {
      "text/html": [
       "<pre>| 14526        | 2.8e+08 | 74.0417     | 3m 32s       |</pre>"
      ],
      "text/plain": [
       "| 14526        | 2.8e+08 | 74.0417     | 3m 32s       |"
      ]
     },
     "metadata": {},
     "output_type": "display_data"
    },
    {
     "data": {
      "text/html": [
       "<pre>| 14602        | 2.9e+08 | 74.4316     | 3m 33s       |</pre>"
      ],
      "text/plain": [
       "| 14602        | 2.9e+08 | 74.4316     | 3m 33s       |"
      ]
     },
     "metadata": {},
     "output_type": "display_data"
    },
    {
     "data": {
      "text/html": [
       "<pre>| 14679        | 2.9e+08 | 74.8241     | 3m 34s       |</pre>"
      ],
      "text/plain": [
       "| 14679        | 2.9e+08 | 74.8241     | 3m 34s       |"
      ]
     },
     "metadata": {},
     "output_type": "display_data"
    },
    {
     "data": {
      "text/html": [
       "<pre>| 14755        | 2.9e+08 | 75.2115     | 3m 35s       |</pre>"
      ],
      "text/plain": [
       "| 14755        | 2.9e+08 | 75.2115     | 3m 35s       |"
      ]
     },
     "metadata": {},
     "output_type": "display_data"
    },
    {
     "data": {
      "text/html": [
       "<pre>| 14829        | 2.9e+08 | 75.5862     | 3m 36s       |</pre>"
      ],
      "text/plain": [
       "| 14829        | 2.9e+08 | 75.5862     | 3m 36s       |"
      ]
     },
     "metadata": {},
     "output_type": "display_data"
    },
    {
     "data": {
      "text/html": [
       "<pre>| 14892        | 2.9e+08 | 75.9099     | 3m 37s       |</pre>"
      ],
      "text/plain": [
       "| 14892        | 2.9e+08 | 75.9099     | 3m 37s       |"
      ]
     },
     "metadata": {},
     "output_type": "display_data"
    },
    {
     "data": {
      "text/html": [
       "<pre>| 14959        | 2.9e+08 | 76.2514     | 3m 38s       |</pre>"
      ],
      "text/plain": [
       "| 14959        | 2.9e+08 | 76.2514     | 3m 38s       |"
      ]
     },
     "metadata": {},
     "output_type": "display_data"
    },
    {
     "data": {
      "text/html": [
       "<pre>| 15029        | 2.9e+08 | 76.6082     | 3m 39s       |</pre>"
      ],
      "text/plain": [
       "| 15029        | 2.9e+08 | 76.6082     | 3m 39s       |"
      ]
     },
     "metadata": {},
     "output_type": "display_data"
    },
    {
     "data": {
      "text/html": [
       "<pre>| 15105        | 3e+08   | 76.9956     | 3m 40s       |</pre>"
      ],
      "text/plain": [
       "| 15105        | 3e+08   | 76.9956     | 3m 40s       |"
      ]
     },
     "metadata": {},
     "output_type": "display_data"
    },
    {
     "data": {
      "text/html": [
       "<pre>| 15181        | 3e+08   | 77.383      | 3m 41s       |</pre>"
      ],
      "text/plain": [
       "| 15181        | 3e+08   | 77.383      | 3m 41s       |"
      ]
     },
     "metadata": {},
     "output_type": "display_data"
    },
    {
     "data": {
      "text/html": [
       "<pre>| 15258        | 3e+08   | 77.7755     | 3m 42s       |</pre>"
      ],
      "text/plain": [
       "| 15258        | 3e+08   | 77.7755     | 3m 42s       |"
      ]
     },
     "metadata": {},
     "output_type": "display_data"
    },
    {
     "data": {
      "text/html": [
       "<pre>| 15333        | 3e+08   | 78.1578     | 3m 43s       |</pre>"
      ],
      "text/plain": [
       "| 15333        | 3e+08   | 78.1578     | 3m 43s       |"
      ]
     },
     "metadata": {},
     "output_type": "display_data"
    },
    {
     "data": {
      "text/html": [
       "<pre>| 15384        | 3e+08   | 78.4152     | 3m 44s       |</pre>"
      ],
      "text/plain": [
       "| 15384        | 3e+08   | 78.4152     | 3m 44s       |"
      ]
     },
     "metadata": {},
     "output_type": "display_data"
    },
    {
     "data": {
      "text/html": [
       "<pre>| 15441        | 3e+08   | 78.7058     | 3m 45s       |</pre>"
      ],
      "text/plain": [
       "| 15441        | 3e+08   | 78.7058     | 3m 45s       |"
      ]
     },
     "metadata": {},
     "output_type": "display_data"
    },
    {
     "data": {
      "text/html": [
       "<pre>| 15488        | 3e+08   | 78.9479     | 3m 47s       |</pre>"
      ],
      "text/plain": [
       "| 15488        | 3e+08   | 78.9479     | 3m 47s       |"
      ]
     },
     "metadata": {},
     "output_type": "display_data"
    },
    {
     "data": {
      "text/html": [
       "<pre>| 15555        | 3.1e+08 | 79.2869     | 3m 48s       |</pre>"
      ],
      "text/plain": [
       "| 15555        | 3.1e+08 | 79.2869     | 3m 48s       |"
      ]
     },
     "metadata": {},
     "output_type": "display_data"
    },
    {
     "data": {
      "text/html": [
       "<pre>| 15619        | 3.1e+08 | 79.6157     | 3m 49s       |</pre>"
      ],
      "text/plain": [
       "| 15619        | 3.1e+08 | 79.6157     | 3m 49s       |"
      ]
     },
     "metadata": {},
     "output_type": "display_data"
    },
    {
     "data": {
      "text/html": [
       "<pre>| 15684        | 3.1e+08 | 79.9444     | 3m 50s       |</pre>"
      ],
      "text/plain": [
       "| 15684        | 3.1e+08 | 79.9444     | 3m 50s       |"
      ]
     },
     "metadata": {},
     "output_type": "display_data"
    },
    {
     "data": {
      "text/html": [
       "<pre>| 15750        | 3.1e+08 | 80.2809     | 3m 51s       |</pre>"
      ],
      "text/plain": [
       "| 15750        | 3.1e+08 | 80.2809     | 3m 51s       |"
      ]
     },
     "metadata": {},
     "output_type": "display_data"
    },
    {
     "data": {
      "text/html": [
       "<pre>| 15825        | 3.1e+08 | 80.6657     | 3m 52s       |</pre>"
      ],
      "text/plain": [
       "| 15825        | 3.1e+08 | 80.6657     | 3m 52s       |"
      ]
     },
     "metadata": {},
     "output_type": "display_data"
    },
    {
     "data": {
      "text/html": [
       "<pre>| 15894        | 3.1e+08 | 81.0174     | 3m 53s       |</pre>"
      ],
      "text/plain": [
       "| 15894        | 3.1e+08 | 81.0174     | 3m 53s       |"
      ]
     },
     "metadata": {},
     "output_type": "display_data"
    },
    {
     "data": {
      "text/html": [
       "<pre>| 15959        | 3.1e+08 | 81.3488     | 3m 54s       |</pre>"
      ],
      "text/plain": [
       "| 15959        | 3.1e+08 | 81.3488     | 3m 54s       |"
      ]
     },
     "metadata": {},
     "output_type": "display_data"
    },
    {
     "data": {
      "text/html": [
       "<pre>| 16030        | 3.1e+08 | 81.7107     | 3m 55s       |</pre>"
      ],
      "text/plain": [
       "| 16030        | 3.1e+08 | 81.7107     | 3m 55s       |"
      ]
     },
     "metadata": {},
     "output_type": "display_data"
    },
    {
     "data": {
      "text/html": [
       "<pre>| 16071        | 3.2e+08 | 81.9197     | 3m 56s       |</pre>"
      ],
      "text/plain": [
       "| 16071        | 3.2e+08 | 81.9197     | 3m 56s       |"
      ]
     },
     "metadata": {},
     "output_type": "display_data"
    },
    {
     "data": {
      "text/html": [
       "<pre>| 16130        | 3.2e+08 | 82.2179     | 3m 57s       |</pre>"
      ],
      "text/plain": [
       "| 16130        | 3.2e+08 | 82.2179     | 3m 57s       |"
      ]
     },
     "metadata": {},
     "output_type": "display_data"
    },
    {
     "data": {
      "text/html": [
       "<pre>| 16203        | 3.2e+08 | 82.5925     | 3m 58s       |</pre>"
      ],
      "text/plain": [
       "| 16203        | 3.2e+08 | 82.5925     | 3m 58s       |"
      ]
     },
     "metadata": {},
     "output_type": "display_data"
    },
    {
     "data": {
      "text/html": [
       "<pre>| 16260        | 3.2e+08 | 82.8831     | 3m 59s       |</pre>"
      ],
      "text/plain": [
       "| 16260        | 3.2e+08 | 82.8831     | 3m 59s       |"
      ]
     },
     "metadata": {},
     "output_type": "display_data"
    },
    {
     "data": {
      "text/html": [
       "<pre>| 16327        | 3.2e+08 | 83.2246     | 4m 0s        |</pre>"
      ],
      "text/plain": [
       "| 16327        | 3.2e+08 | 83.2246     | 4m 0s        |"
      ]
     },
     "metadata": {},
     "output_type": "display_data"
    },
    {
     "data": {
      "text/html": [
       "<pre>| 16404        | 3.2e+08 | 83.6171     | 4m 1s        |</pre>"
      ],
      "text/plain": [
       "| 16404        | 3.2e+08 | 83.6171     | 4m 1s        |"
      ]
     },
     "metadata": {},
     "output_type": "display_data"
    },
    {
     "data": {
      "text/html": [
       "<pre>| 16481        | 3.2e+08 | 84.0096     | 4m 2s        |</pre>"
      ],
      "text/plain": [
       "| 16481        | 3.2e+08 | 84.0096     | 4m 2s        |"
      ]
     },
     "metadata": {},
     "output_type": "display_data"
    },
    {
     "data": {
      "text/html": [
       "<pre>| 16557        | 3.2e+08 | 84.397      | 4m 3s        |</pre>"
      ],
      "text/plain": [
       "| 16557        | 3.2e+08 | 84.397      | 4m 3s        |"
      ]
     },
     "metadata": {},
     "output_type": "display_data"
    },
    {
     "data": {
      "text/html": [
       "<pre>| 16623        | 3.3e+08 | 84.7309     | 4m 4s        |</pre>"
      ],
      "text/plain": [
       "| 16623        | 3.3e+08 | 84.7309     | 4m 4s        |"
      ]
     },
     "metadata": {},
     "output_type": "display_data"
    },
    {
     "data": {
      "text/html": [
       "<pre>| 16684        | 3.3e+08 | 85.0443     | 4m 5s        |</pre>"
      ],
      "text/plain": [
       "| 16684        | 3.3e+08 | 85.0443     | 4m 5s        |"
      ]
     },
     "metadata": {},
     "output_type": "display_data"
    },
    {
     "data": {
      "text/html": [
       "<pre>| 16757        | 3.3e+08 | 85.4165     | 4m 6s        |</pre>"
      ],
      "text/plain": [
       "| 16757        | 3.3e+08 | 85.4165     | 4m 6s        |"
      ]
     },
     "metadata": {},
     "output_type": "display_data"
    },
    {
     "data": {
      "text/html": [
       "<pre>| 16832        | 3.3e+08 | 85.7988     | 4m 7s        |</pre>"
      ],
      "text/plain": [
       "| 16832        | 3.3e+08 | 85.7988     | 4m 7s        |"
      ]
     },
     "metadata": {},
     "output_type": "display_data"
    },
    {
     "data": {
      "text/html": [
       "<pre>| 16899        | 3.3e+08 | 86.1403     | 4m 8s        |</pre>"
      ],
      "text/plain": [
       "| 16899        | 3.3e+08 | 86.1403     | 4m 8s        |"
      ]
     },
     "metadata": {},
     "output_type": "display_data"
    },
    {
     "data": {
      "text/html": [
       "<pre>| 16970        | 3.3e+08 | 86.5022     | 4m 9s        |</pre>"
      ],
      "text/plain": [
       "| 16970        | 3.3e+08 | 86.5022     | 4m 9s        |"
      ]
     },
     "metadata": {},
     "output_type": "display_data"
    },
    {
     "data": {
      "text/html": [
       "<pre>| 17036        | 3.3e+08 | 86.8361     | 4m 10s       |</pre>"
      ],
      "text/plain": [
       "| 17036        | 3.3e+08 | 86.8361     | 4m 10s       |"
      ]
     },
     "metadata": {},
     "output_type": "display_data"
    },
    {
     "data": {
      "text/html": [
       "<pre>| 17100        | 3.4e+08 | 87.1648     | 4m 11s       |</pre>"
      ],
      "text/plain": [
       "| 17100        | 3.4e+08 | 87.1648     | 4m 11s       |"
      ]
     },
     "metadata": {},
     "output_type": "display_data"
    },
    {
     "data": {
      "text/html": [
       "<pre>| 17142        | 3.4e+08 | 87.3764     | 4m 12s       |</pre>"
      ],
      "text/plain": [
       "| 17142        | 3.4e+08 | 87.3764     | 4m 12s       |"
      ]
     },
     "metadata": {},
     "output_type": "display_data"
    },
    {
     "data": {
      "text/html": [
       "<pre>| 17197        | 3.4e+08 | 87.6567     | 4m 13s       |</pre>"
      ],
      "text/plain": [
       "| 17197        | 3.4e+08 | 87.6567     | 4m 13s       |"
      ]
     },
     "metadata": {},
     "output_type": "display_data"
    },
    {
     "data": {
      "text/html": [
       "<pre>| 17239        | 3.4e+08 | 87.8708     | 4m 14s       |</pre>"
      ],
      "text/plain": [
       "| 17239        | 3.4e+08 | 87.8708     | 4m 14s       |"
      ]
     },
     "metadata": {},
     "output_type": "display_data"
    },
    {
     "data": {
      "text/html": [
       "<pre>| 17285        | 3.4e+08 | 88.1079     | 4m 15s       |</pre>"
      ],
      "text/plain": [
       "| 17285        | 3.4e+08 | 88.1079     | 4m 15s       |"
      ]
     },
     "metadata": {},
     "output_type": "display_data"
    },
    {
     "data": {
      "text/html": [
       "<pre>| 17331        |         | 88.3398     | 4m 16s       |</pre>"
      ],
      "text/plain": [
       "| 17331        |         | 88.3398     | 4m 16s       |"
      ]
     },
     "metadata": {},
     "output_type": "display_data"
    },
    {
     "data": {
      "text/html": [
       "<pre>| 17377        | 3.4e+08 | 88.5743     | 4m 17s       |</pre>"
      ],
      "text/plain": [
       "| 17377        | 3.4e+08 | 88.5743     | 4m 17s       |"
      ]
     },
     "metadata": {},
     "output_type": "display_data"
    },
    {
     "data": {
      "text/html": [
       "<pre>| 17423        | 3.4e+08 | 88.8087     | 4m 18s       |</pre>"
      ],
      "text/plain": [
       "| 17423        | 3.4e+08 | 88.8087     | 4m 18s       |"
      ]
     },
     "metadata": {},
     "output_type": "display_data"
    },
    {
     "data": {
      "text/html": [
       "<pre>| 17487        | 3.4e+08 | 89.1375     | 4m 19s       |</pre>"
      ],
      "text/plain": [
       "| 17487        | 3.4e+08 | 89.1375     | 4m 19s       |"
      ]
     },
     "metadata": {},
     "output_type": "display_data"
    },
    {
     "data": {
      "text/html": [
       "<pre>| 17530        | 3.4e+08 | 89.3567     | 4m 20s       |</pre>"
      ],
      "text/plain": [
       "| 17530        | 3.4e+08 | 89.3567     | 4m 20s       |"
      ]
     },
     "metadata": {},
     "output_type": "display_data"
    },
    {
     "data": {
      "text/html": [
       "<pre>| 17571        | 3.4e+08 | 89.5632     | 4m 21s       |</pre>"
      ],
      "text/plain": [
       "| 17571        | 3.4e+08 | 89.5632     | 4m 21s       |"
      ]
     },
     "metadata": {},
     "output_type": "display_data"
    },
    {
     "data": {
      "text/html": [
       "<pre>| 17613        | 3.5e+08 | 89.7772     | 4m 22s       |</pre>"
      ],
      "text/plain": [
       "| 17613        | 3.5e+08 | 89.7772     | 4m 22s       |"
      ]
     },
     "metadata": {},
     "output_type": "display_data"
    },
    {
     "data": {
      "text/html": [
       "<pre>| 17654        | 3.5e+08 | 89.9888     | 4m 23s       |</pre>"
      ],
      "text/plain": [
       "| 17654        | 3.5e+08 | 89.9888     | 4m 23s       |"
      ]
     },
     "metadata": {},
     "output_type": "display_data"
    },
    {
     "data": {
      "text/html": [
       "<pre>| 17697        | 3.5e+08 | 90.2054     | 4m 24s       |</pre>"
      ],
      "text/plain": [
       "| 17697        | 3.5e+08 | 90.2054     | 4m 24s       |"
      ]
     },
     "metadata": {},
     "output_type": "display_data"
    },
    {
     "data": {
      "text/html": [
       "<pre>| 17741        | 3.5e+08 | 90.4297     | 4m 25s       |</pre>"
      ],
      "text/plain": [
       "| 17741        | 3.5e+08 | 90.4297     | 4m 25s       |"
      ]
     },
     "metadata": {},
     "output_type": "display_data"
    },
    {
     "data": {
      "text/html": [
       "<pre>| 17797        | 3.5e+08 | 90.7177     | 4m 26s       |</pre>"
      ],
      "text/plain": [
       "| 17797        | 3.5e+08 | 90.7177     | 4m 26s       |"
      ]
     },
     "metadata": {},
     "output_type": "display_data"
    },
    {
     "data": {
      "text/html": [
       "<pre>| 17835        | 3.5e+08 | 90.9114     | 4m 27s       |</pre>"
      ],
      "text/plain": [
       "| 17835        | 3.5e+08 | 90.9114     | 4m 27s       |"
      ]
     },
     "metadata": {},
     "output_type": "display_data"
    },
    {
     "data": {
      "text/html": [
       "<pre>| 17897        | 3.5e+08 | 91.2274     | 4m 28s       |</pre>"
      ],
      "text/plain": [
       "| 17897        | 3.5e+08 | 91.2274     | 4m 28s       |"
      ]
     },
     "metadata": {},
     "output_type": "display_data"
    },
    {
     "data": {
      "text/html": [
       "<pre>| 17971        | 3.5e+08 | 91.6021     | 4m 29s       |</pre>"
      ],
      "text/plain": [
       "| 17971        | 3.5e+08 | 91.6021     | 4m 29s       |"
      ]
     },
     "metadata": {},
     "output_type": "display_data"
    },
    {
     "data": {
      "text/html": [
       "<pre>| 18032        | 3.5e+08 | 91.9156     | 4m 30s       |</pre>"
      ],
      "text/plain": [
       "| 18032        | 3.5e+08 | 91.9156     | 4m 30s       |"
      ]
     },
     "metadata": {},
     "output_type": "display_data"
    },
    {
     "data": {
      "text/html": [
       "<pre>| 18076        | 3.5e+08 | 92.1373     | 4m 31s       |</pre>"
      ],
      "text/plain": [
       "| 18076        | 3.5e+08 | 92.1373     | 4m 31s       |"
      ]
     },
     "metadata": {},
     "output_type": "display_data"
    },
    {
     "data": {
      "text/html": [
       "<pre>| 18128        | 3.6e+08 | 92.4024     | 4m 32s       |</pre>"
      ],
      "text/plain": [
       "| 18128        | 3.6e+08 | 92.4024     | 4m 32s       |"
      ]
     },
     "metadata": {},
     "output_type": "display_data"
    },
    {
     "data": {
      "text/html": [
       "<pre>| 18175        | 3.6e+08 | 92.6445     | 4m 33s       |</pre>"
      ],
      "text/plain": [
       "| 18175        | 3.6e+08 | 92.6445     | 4m 33s       |"
      ]
     },
     "metadata": {},
     "output_type": "display_data"
    },
    {
     "data": {
      "text/html": [
       "<pre>| 18237        | 3.6e+08 | 92.9605     | 4m 34s       |</pre>"
      ],
      "text/plain": [
       "| 18237        | 3.6e+08 | 92.9605     | 4m 34s       |"
      ]
     },
     "metadata": {},
     "output_type": "display_data"
    },
    {
     "data": {
      "text/html": [
       "<pre>| 18293        | 3.6e+08 | 93.246      | 4m 35s       |</pre>"
      ],
      "text/plain": [
       "| 18293        | 3.6e+08 | 93.246      | 4m 35s       |"
      ]
     },
     "metadata": {},
     "output_type": "display_data"
    },
    {
     "data": {
      "text/html": [
       "<pre>| 18354        | 3.6e+08 | 93.5544     | 4m 36s       |</pre>"
      ],
      "text/plain": [
       "| 18354        | 3.6e+08 | 93.5544     | 4m 36s       |"
      ]
     },
     "metadata": {},
     "output_type": "display_data"
    },
    {
     "data": {
      "text/html": [
       "<pre>| 18401        | 3.6e+08 | 93.7965     | 4m 37s       |</pre>"
      ],
      "text/plain": [
       "| 18401        | 3.6e+08 | 93.7965     | 4m 37s       |"
      ]
     },
     "metadata": {},
     "output_type": "display_data"
    },
    {
     "data": {
      "text/html": [
       "<pre>| 18458        | 3.6e+08 | 94.0845     | 4m 38s       |</pre>"
      ],
      "text/plain": [
       "| 18458        | 3.6e+08 | 94.0845     | 4m 38s       |"
      ]
     },
     "metadata": {},
     "output_type": "display_data"
    },
    {
     "data": {
      "text/html": [
       "<pre>| 18505        | 3.6e+08 | 94.3241     | 4m 39s       |</pre>"
      ],
      "text/plain": [
       "| 18505        | 3.6e+08 | 94.3241     | 4m 39s       |"
      ]
     },
     "metadata": {},
     "output_type": "display_data"
    },
    {
     "data": {
      "text/html": [
       "<pre>| 18552        | 3.6e+08 | 94.5637     | 4m 40s       |</pre>"
      ],
      "text/plain": [
       "| 18552        | 3.6e+08 | 94.5637     | 4m 40s       |"
      ]
     },
     "metadata": {},
     "output_type": "display_data"
    },
    {
     "data": {
      "text/html": [
       "<pre>| 18602        | 3.6e+08 | 94.8211     | 4m 41s       |</pre>"
      ],
      "text/plain": [
       "| 18602        | 3.6e+08 | 94.8211     | 4m 41s       |"
      ]
     },
     "metadata": {},
     "output_type": "display_data"
    },
    {
     "data": {
      "text/html": [
       "<pre>| 18654        | 3.7e+08 | 95.0836     | 4m 42s       |</pre>"
      ],
      "text/plain": [
       "| 18654        | 3.7e+08 | 95.0836     | 4m 42s       |"
      ]
     },
     "metadata": {},
     "output_type": "display_data"
    },
    {
     "data": {
      "text/html": [
       "<pre>| 18698        | 3.7e+08 | 95.3079     | 4m 43s       |</pre>"
      ],
      "text/plain": [
       "| 18698        | 3.7e+08 | 95.3079     | 4m 43s       |"
      ]
     },
     "metadata": {},
     "output_type": "display_data"
    },
    {
     "data": {
      "text/html": [
       "<pre>| 18749        | 3.7e+08 | 95.5704     | 4m 44s       |</pre>"
      ],
      "text/plain": [
       "| 18749        | 3.7e+08 | 95.5704     | 4m 44s       |"
      ]
     },
     "metadata": {},
     "output_type": "display_data"
    },
    {
     "data": {
      "text/html": [
       "<pre>| 18802        | 3.7e+08 | 95.8406     | 4m 45s       |</pre>"
      ],
      "text/plain": [
       "| 18802        | 3.7e+08 | 95.8406     | 4m 45s       |"
      ]
     },
     "metadata": {},
     "output_type": "display_data"
    },
    {
     "data": {
      "text/html": [
       "<pre>| 18853        | 3.7e+08 | 96.098      | 4m 46s       |</pre>"
      ],
      "text/plain": [
       "| 18853        | 3.7e+08 | 96.098      | 4m 46s       |"
      ]
     },
     "metadata": {},
     "output_type": "display_data"
    },
    {
     "data": {
      "text/html": [
       "<pre>| 18907        | 3.7e+08 | 96.3758     | 4m 47s       |</pre>"
      ],
      "text/plain": [
       "| 18907        | 3.7e+08 | 96.3758     | 4m 47s       |"
      ]
     },
     "metadata": {},
     "output_type": "display_data"
    },
    {
     "data": {
      "text/html": [
       "<pre>| 18957        | 3.7e+08 | 96.6281     | 4m 48s       |</pre>"
      ],
      "text/plain": [
       "| 18957        | 3.7e+08 | 96.6281     | 4m 48s       |"
      ]
     },
     "metadata": {},
     "output_type": "display_data"
    },
    {
     "data": {
      "text/html": [
       "<pre>| 19005        | 3.7e+08 | 96.8753     | 4m 49s       |</pre>"
      ],
      "text/plain": [
       "| 19005        | 3.7e+08 | 96.8753     | 4m 49s       |"
      ]
     },
     "metadata": {},
     "output_type": "display_data"
    },
    {
     "data": {
      "text/html": [
       "<pre>| 19055        | 3.7e+08 | 97.1276     | 4m 50s       |</pre>"
      ],
      "text/plain": [
       "| 19055        | 3.7e+08 | 97.1276     | 4m 50s       |"
      ]
     },
     "metadata": {},
     "output_type": "display_data"
    },
    {
     "data": {
      "text/html": [
       "<pre>| 19109        | 3.7e+08 | 97.4029     | 4m 51s       |</pre>"
      ],
      "text/plain": [
       "| 19109        | 3.7e+08 | 97.4029     | 4m 51s       |"
      ]
     },
     "metadata": {},
     "output_type": "display_data"
    },
    {
     "data": {
      "text/html": [
       "<pre>| 19165        | 3.8e+08 | 97.6909     | 4m 52s       |</pre>"
      ],
      "text/plain": [
       "| 19165        | 3.8e+08 | 97.6909     | 4m 52s       |"
      ]
     },
     "metadata": {},
     "output_type": "display_data"
    },
    {
     "data": {
      "text/html": [
       "<pre>| 19216        | 3.8e+08 | 97.9483     | 4m 53s       |</pre>"
      ],
      "text/plain": [
       "| 19216        | 3.8e+08 | 97.9483     | 4m 53s       |"
      ]
     },
     "metadata": {},
     "output_type": "display_data"
    },
    {
     "data": {
      "text/html": [
       "<pre>| 19261        | 3.8e+08 | 98.1777     | 4m 54s       |</pre>"
      ],
      "text/plain": [
       "| 19261        | 3.8e+08 | 98.1777     | 4m 54s       |"
      ]
     },
     "metadata": {},
     "output_type": "display_data"
    },
    {
     "data": {
      "text/html": [
       "<pre>| 19314        | 3.8e+08 | 98.4504     | 4m 55s       |</pre>"
      ],
      "text/plain": [
       "| 19314        | 3.8e+08 | 98.4504     | 4m 55s       |"
      ]
     },
     "metadata": {},
     "output_type": "display_data"
    },
    {
     "data": {
      "text/html": [
       "<pre>| 19365        | 3.8e+08 | 98.7078     | 4m 56s       |</pre>"
      ],
      "text/plain": [
       "| 19365        | 3.8e+08 | 98.7078     | 4m 56s       |"
      ]
     },
     "metadata": {},
     "output_type": "display_data"
    },
    {
     "data": {
      "text/html": [
       "<pre>| 19434        | 3.8e+08 | 99.0595     | 4m 57s       |</pre>"
      ],
      "text/plain": [
       "| 19434        | 3.8e+08 | 99.0595     | 4m 57s       |"
      ]
     },
     "metadata": {},
     "output_type": "display_data"
    },
    {
     "data": {
      "text/html": [
       "<pre>| 19485        | 3.8e+08 | 99.3221     | 4m 58s       |</pre>"
      ],
      "text/plain": [
       "| 19485        | 3.8e+08 | 99.3221     | 4m 58s       |"
      ]
     },
     "metadata": {},
     "output_type": "display_data"
    },
    {
     "data": {
      "text/html": [
       "<pre>| 19543        | 3.8e+08 | 99.6177     | 4m 59s       |</pre>"
      ],
      "text/plain": [
       "| 19543        | 3.8e+08 | 99.6177     | 4m 59s       |"
      ]
     },
     "metadata": {},
     "output_type": "display_data"
    },
    {
     "data": {
      "text/html": [
       "<pre>| 19587        | 3.8e+08 | 99.842      | 5m 0s        |</pre>"
      ],
      "text/plain": [
       "| 19587        | 3.8e+08 | 99.842      | 5m 0s        |"
      ]
     },
     "metadata": {},
     "output_type": "display_data"
    },
    {
     "data": {
      "text/html": [
       "<pre>| Done         |         | 100         | 5m 0s        |</pre>"
      ],
      "text/plain": [
       "| Done         |         | 100         | 5m 0s        |"
      ]
     },
     "metadata": {},
     "output_type": "display_data"
    },
    {
     "data": {
      "text/html": [
       "<pre>+--------------+---------+-------------+--------------+</pre>"
      ],
      "text/plain": [
       "+--------------+---------+-------------+--------------+"
      ]
     },
     "metadata": {},
     "output_type": "display_data"
    },
    {
     "data": {
      "text/html": [
       "<pre>Preparing data set.</pre>"
      ],
      "text/plain": [
       "Preparing data set."
      ]
     },
     "metadata": {},
     "output_type": "display_data"
    },
    {
     "data": {
      "text/html": [
       "<pre>    Data has 0 observations with 0 users and 19619 items.</pre>"
      ],
      "text/plain": [
       "    Data has 0 observations with 0 users and 19619 items."
      ]
     },
     "metadata": {},
     "output_type": "display_data"
    },
    {
     "data": {
      "text/html": [
       "<pre>    Data prepared in: 2.37619s</pre>"
      ],
      "text/plain": [
       "    Data prepared in: 2.37619s"
      ]
     },
     "metadata": {},
     "output_type": "display_data"
    },
    {
     "data": {
      "text/html": [
       "<pre>Loading user-provided nearest items.</pre>"
      ],
      "text/plain": [
       "Loading user-provided nearest items."
      ]
     },
     "metadata": {},
     "output_type": "display_data"
    },
    {
     "data": {
      "text/html": [
       "<pre>Generating candidate set for working with new users.</pre>"
      ],
      "text/plain": [
       "Generating candidate set for working with new users."
      ]
     },
     "metadata": {},
     "output_type": "display_data"
    },
    {
     "data": {
      "text/html": [
       "<pre>Finished training in 0.131057s</pre>"
      ],
      "text/plain": [
       "Finished training in 0.131057s"
      ]
     },
     "metadata": {},
     "output_type": "display_data"
    }
   ],
   "source": [
    "recommender_tfidf = graphlab.recommender.item_content_recommender.create(sf2, item_id='url')"
   ]
  },
  {
   "cell_type": "code",
   "execution_count": 93,
   "metadata": {
    "collapsed": true
   },
   "outputs": [],
   "source": [
    "#Save recommenders and DataFrame\n",
    "\n",
    "recommender.save('../recommender')\n",
    "\n",
    "recommender_tfidf.save('../recommender_tfidf')\n",
    "\n",
    "df_merged.to_csv('../recommender_df.csv')"
   ]
  },
  {
   "cell_type": "code",
   "execution_count": null,
   "metadata": {
    "collapsed": true
   },
   "outputs": [],
   "source": []
  },
  {
   "cell_type": "code",
   "execution_count": 85,
   "metadata": {
    "collapsed": true
   },
   "outputs": [],
   "source": [
    "def print_top_url(df_similar):\n",
    "    df_copy = df_similar.reset_index()\n",
    "    for i in range(len(df_similar['url'])):\n",
    "        print \"{}, {}\".format(df_copy['artist'][i].title(), df_copy['title'][i].title())\n",
    "        print \"http://open.spotify.com/album/{}\".format(df_copy['album_uri'][i])\n",
    "        print df_copy['url'][i]\n",
    "        print \"\\n\""
   ]
  },
  {
   "cell_type": "code",
   "execution_count": 86,
   "metadata": {
    "collapsed": true
   },
   "outputs": [],
   "source": [
    "def get_similar(df, url, recommender):\n",
    "    top_5_similar = recommender.get_similar_items([url], k=20)['similar']\n",
    "    return df[(df['score'] > 7) & \n",
    "               (df['url'].isin(top_5_similar))][['artist','title', 'score', 'url', 'danceability rounded',\n",
    "                                                'valence rounded', 'energy rounded', 'acousticness rounded', \n",
    "                                               'pub_year', 'spotify_match', 'album_uri']].head(10)\n",
    "    "
   ]
  },
  {
   "cell_type": "code",
   "execution_count": 87,
   "metadata": {
    "collapsed": true
   },
   "outputs": [],
   "source": [
    "def get_url(artist, title):\n",
    "    return df[(df['artist'] == artist) & (df['title'] == title)].iloc[0][6]"
   ]
  },
  {
   "cell_type": "code",
   "execution_count": 88,
   "metadata": {},
   "outputs": [
    {
     "data": {
      "text/plain": [
       "0"
      ]
     },
     "execution_count": 88,
     "metadata": {},
     "output_type": "execute_result"
    }
   ],
   "source": [
    "len(df_merged[df_merged['artist'] == 'jlkjk']['title'])"
   ]
  },
  {
   "cell_type": "code",
   "execution_count": 111,
   "metadata": {},
   "outputs": [
    {
     "name": "stdout",
     "output_type": "stream",
     "text": [
      "Artist: joanna newsom\n",
      "\n",
      "\n",
      "Select Album From Below:\n",
      "divers\n",
      "have one on me\n",
      "joanna newsom & the ys street band ep\n",
      "ys\n",
      "the milk-eyed mender\n",
      "\n",
      "\n",
      "Album: divers\n",
      "\n",
      "\n",
      "Larkin Grimm, Chasing An Illusion\n",
      "http://open.spotify.com/album/1dU8ajuDtfyZogbFgsT3EV\n",
      "https://pitchfork.com/reviews/albums/larkin-grimm-chasing-an-illusion/\n",
      "\n",
      "\n",
      "Hiss Golden Messenger, Heart Like A Levee\n",
      "http://open.spotify.com/album/4rEEkztpEU1GBmy5uBYHUS\n",
      "https://pitchfork.com/reviews/albums/22323-heart-like-a-levee/\n",
      "\n",
      "\n",
      "Lee Hazlewood, The Very Special World Of Lee Hazlewood\n",
      "http://open.spotify.com/album/4BshrFXTkg7Vhtdcqg0FpX\n",
      "https://pitchfork.com/reviews/albums/21461-the-very-special-world-of-lee-hazlewood-lee-hazlewoodism-its-cause-and-cure-something-special/\n",
      "\n",
      "\n",
      "Nadia Reid, Listen To Formation, Look For The Signs\n",
      "http://open.spotify.com/album/5ZDAvkRKsM1s1O9BVqRWYt\n",
      "https://pitchfork.com/reviews/albums/21297-listen-to-formation-look-for-the-signs/\n",
      "\n",
      "\n",
      "Monk Parker, How The Spark Loves The Tinder\n",
      "http://open.spotify.com/album/nan\n",
      "https://pitchfork.com/reviews/albums/20920-how-the-spark-loves-the-tinder/\n",
      "\n",
      "\n",
      "Jackson C. Frank, The Complete Recordings Of Jackson C. Frank\n",
      "http://open.spotify.com/album/nan\n",
      "https://pitchfork.com/reviews/albums/20865-the-complete-recordings-of-jackson-c-frank/\n",
      "\n",
      "\n",
      "Bert Jansch, Live At The 12 Bar\n",
      "http://open.spotify.com/album/4YmJGXaTVl44bDvSgE2pAv\n",
      "https://pitchfork.com/reviews/albums/20716-live-at-the-12-bar/\n",
      "\n",
      "\n",
      "David Kauffman, Eric Caboor, Songs From Suicide Bridge\n",
      "http://open.spotify.com/album/nan\n",
      "https://pitchfork.com/reviews/albums/20560-songs-from-suicide-bridge/\n",
      "\n",
      "\n",
      "Bill Fay, Who Is The Sender?\n",
      "http://open.spotify.com/album/5wxzv8xBkcJTIwcYSVc5pG\n",
      "https://pitchfork.com/reviews/albums/20475-bill-fay-who-is-the-sender/\n",
      "\n",
      "\n",
      "Sufjan Stevens, Carrie & Lowell\n",
      "http://open.spotify.com/album/5MQPCHqfFR9wweKrLJyaSM\n",
      "https://pitchfork.com/reviews/albums/20218-carrie-lowell/\n",
      "\n",
      "\n"
     ]
    }
   ],
   "source": [
    "artist = raw_input(\"Artist: \").strip().lower()\n",
    "while True:\n",
    "    if len(df_merged[df_merged['artist'] == artist]['title']) == 0:\n",
    "        print \"Try another artist\"  \n",
    "    else:\n",
    "        break\n",
    "    artist = raw_input(\"Artist: \").strip().lower()\n",
    "print '\\n'\n",
    "print 'Select Album From Below:'\n",
    "for each in df_merged[df_merged['artist'] == artist]['title']:\n",
    "            print each\n",
    "print '\\n'\n",
    "title = raw_input(\"Album: \").strip().lower()\n",
    "while True:\n",
    "    try:\n",
    "        url = get_url(artist, title)\n",
    "        break\n",
    "    except:\n",
    "        print \"Not a valid album. Try again from what's listed above\"\n",
    "        title = raw_input(\"Album: \").lower()\n",
    "        url = get_url(artist, title)\n",
    "\n",
    "df_similar = get_similar(df_merged, url, recommender_tfidf)\n",
    "print '\\n'\n",
    "print_top_url(df_similar)"
   ]
  },
  {
   "cell_type": "code",
   "execution_count": 92,
   "metadata": {},
   "outputs": [
    {
     "data": {
      "text/plain": [
       "graphlab.toolkits.recommender.item_content_recommender.ItemContentRecommender"
      ]
     },
     "execution_count": 92,
     "metadata": {},
     "output_type": "execute_result"
    }
   ],
   "source": [
    "type(recommender)"
   ]
  },
  {
   "cell_type": "code",
   "execution_count": 505,
   "metadata": {
    "collapsed": true
   },
   "outputs": [],
   "source": [
    "url = get_url('kanye west', 'yeezus')"
   ]
  },
  {
   "cell_type": "code",
   "execution_count": 506,
   "metadata": {},
   "outputs": [
    {
     "data": {
      "text/plain": [
       "'https://pitchfork.com/reviews/albums/18172-kanye-west-yeezus/'"
      ]
     },
     "execution_count": 506,
     "metadata": {},
     "output_type": "execute_result"
    }
   ],
   "source": [
    "url"
   ]
  },
  {
   "cell_type": "code",
   "execution_count": 41,
   "metadata": {
    "scrolled": false
   },
   "outputs": [
    {
     "data": {
      "text/html": [
       "<div>\n",
       "<style>\n",
       "    .dataframe thead tr:only-child th {\n",
       "        text-align: right;\n",
       "    }\n",
       "\n",
       "    .dataframe thead th {\n",
       "        text-align: left;\n",
       "    }\n",
       "\n",
       "    .dataframe tbody tr th {\n",
       "        vertical-align: top;\n",
       "    }\n",
       "</style>\n",
       "<table border=\"1\" class=\"dataframe\">\n",
       "  <thead>\n",
       "    <tr style=\"text-align: right;\">\n",
       "      <th></th>\n",
       "      <th>artist</th>\n",
       "      <th>title</th>\n",
       "      <th>score</th>\n",
       "      <th>url</th>\n",
       "      <th>danceability rounded</th>\n",
       "      <th>valence rounded</th>\n",
       "      <th>energy rounded</th>\n",
       "      <th>acousticness rounded</th>\n",
       "      <th>pub_year</th>\n",
       "      <th>spotify_match</th>\n",
       "      <th>album_uri</th>\n",
       "    </tr>\n",
       "  </thead>\n",
       "  <tbody>\n",
       "    <tr>\n",
       "      <th>2811</th>\n",
       "      <td>deerhunter</td>\n",
       "      <td>fading frontier</td>\n",
       "      <td>8.4</td>\n",
       "      <td>https://pitchfork.com/reviews/albums/21039-fading-frontier/</td>\n",
       "      <td>5.0</td>\n",
       "      <td>4.7</td>\n",
       "      <td>6.8</td>\n",
       "      <td>1.2</td>\n",
       "      <td>2015</td>\n",
       "      <td>1</td>\n",
       "      <td>0y5XgOUEiJSSIMxC4ALRAC</td>\n",
       "    </tr>\n",
       "    <tr>\n",
       "      <th>3119</th>\n",
       "      <td>tame impala</td>\n",
       "      <td>currents</td>\n",
       "      <td>9.3</td>\n",
       "      <td>https://pitchfork.com/reviews/albums/20578-currents/</td>\n",
       "      <td>5.0</td>\n",
       "      <td>4.7</td>\n",
       "      <td>7.1</td>\n",
       "      <td>1.6</td>\n",
       "      <td>2015</td>\n",
       "      <td>1</td>\n",
       "      <td>79dL7FLiJFOO0EoehUHQBv</td>\n",
       "    </tr>\n",
       "    <tr>\n",
       "      <th>3725</th>\n",
       "      <td>the sidekicks</td>\n",
       "      <td>runners in the nerved world</td>\n",
       "      <td>7.4</td>\n",
       "      <td>https://pitchfork.com/reviews/albums/20139-runners-in-the-nerved-world/</td>\n",
       "      <td>5.1</td>\n",
       "      <td>5.2</td>\n",
       "      <td>7.4</td>\n",
       "      <td>1.3</td>\n",
       "      <td>2015</td>\n",
       "      <td>1</td>\n",
       "      <td>2lzS0Mb1A7ndVfiY5TgTmV</td>\n",
       "    </tr>\n",
       "    <tr>\n",
       "      <th>4486</th>\n",
       "      <td>the pains of being pure at heart</td>\n",
       "      <td>days of abandon</td>\n",
       "      <td>7.5</td>\n",
       "      <td>https://pitchfork.com/reviews/albums/19335-the-pains-of-being-pure-at-heart-days-of-abandon/</td>\n",
       "      <td>5.0</td>\n",
       "      <td>4.9</td>\n",
       "      <td>6.5</td>\n",
       "      <td>1.4</td>\n",
       "      <td>2014</td>\n",
       "      <td>1</td>\n",
       "      <td>2lV0RUPATtdoDFxRtV605S</td>\n",
       "    </tr>\n",
       "    <tr>\n",
       "      <th>5128</th>\n",
       "      <td>arcade fire</td>\n",
       "      <td>reflektor</td>\n",
       "      <td>9.2</td>\n",
       "      <td>https://pitchfork.com/reviews/albums/18667-arcade-fire-reflektor/</td>\n",
       "      <td>4.8</td>\n",
       "      <td>4.8</td>\n",
       "      <td>6.6</td>\n",
       "      <td>1.6</td>\n",
       "      <td>2013</td>\n",
       "      <td>1</td>\n",
       "      <td>3Y2bjF2Jwocc0USbu08Y2I</td>\n",
       "    </tr>\n",
       "    <tr>\n",
       "      <th>5129</th>\n",
       "      <td>arcade fire</td>\n",
       "      <td>reflektor</td>\n",
       "      <td>9.2</td>\n",
       "      <td>https://pitchfork.com/reviews/albums/18667-arcade-fire-reflektor/</td>\n",
       "      <td>4.8</td>\n",
       "      <td>4.7</td>\n",
       "      <td>6.6</td>\n",
       "      <td>1.7</td>\n",
       "      <td>2013</td>\n",
       "      <td>1</td>\n",
       "      <td>4E0m7AIVc2d2QZMrMNXdMZ</td>\n",
       "    </tr>\n",
       "    <tr>\n",
       "      <th>5169</th>\n",
       "      <td>paul mccartney</td>\n",
       "      <td>new</td>\n",
       "      <td>7.8</td>\n",
       "      <td>https://pitchfork.com/reviews/albums/18634-paul-mccartney-new/</td>\n",
       "      <td>5.5</td>\n",
       "      <td>4.3</td>\n",
       "      <td>6.9</td>\n",
       "      <td>1.3</td>\n",
       "      <td>2013</td>\n",
       "      <td>1</td>\n",
       "      <td>216q1rvAofGBh1CPyl0Qzl</td>\n",
       "    </tr>\n",
       "    <tr>\n",
       "      <th>5349</th>\n",
       "      <td>disappears</td>\n",
       "      <td>era</td>\n",
       "      <td>7.3</td>\n",
       "      <td>https://pitchfork.com/reviews/albums/18430-disappears-era/</td>\n",
       "      <td>5.3</td>\n",
       "      <td>3.9</td>\n",
       "      <td>6.8</td>\n",
       "      <td>1.0</td>\n",
       "      <td>2013</td>\n",
       "      <td>1</td>\n",
       "      <td>2GvxR9cvRQK6SzJ6fFfTY9</td>\n",
       "    </tr>\n",
       "    <tr>\n",
       "      <th>6050</th>\n",
       "      <td>foals</td>\n",
       "      <td>holy fire</td>\n",
       "      <td>7.6</td>\n",
       "      <td>https://pitchfork.com/reviews/albums/17578-holy-fire/</td>\n",
       "      <td>5.5</td>\n",
       "      <td>4.3</td>\n",
       "      <td>6.9</td>\n",
       "      <td>1.4</td>\n",
       "      <td>2013</td>\n",
       "      <td>1</td>\n",
       "      <td>0PIR7PK8DMB4pgoxq7F9Ad</td>\n",
       "    </tr>\n",
       "    <tr>\n",
       "      <th>9364</th>\n",
       "      <td>broken social scene</td>\n",
       "      <td>forgiveness rock record</td>\n",
       "      <td>8.3</td>\n",
       "      <td>https://pitchfork.com/reviews/albums/14200-forgiveness-rock-record/</td>\n",
       "      <td>5.0</td>\n",
       "      <td>4.1</td>\n",
       "      <td>6.3</td>\n",
       "      <td>0.9</td>\n",
       "      <td>2010</td>\n",
       "      <td>1</td>\n",
       "      <td>2LHfGLiEaV595PIYmCPMmh</td>\n",
       "    </tr>\n",
       "  </tbody>\n",
       "</table>\n",
       "</div>"
      ],
      "text/plain": [
       "                                artist                        title  score  \\\n",
       "2811                        deerhunter              fading frontier    8.4   \n",
       "3119                       tame impala                     currents    9.3   \n",
       "3725                     the sidekicks  runners in the nerved world    7.4   \n",
       "4486  the pains of being pure at heart              days of abandon    7.5   \n",
       "5128                       arcade fire                    reflektor    9.2   \n",
       "5129                       arcade fire                    reflektor    9.2   \n",
       "5169                    paul mccartney                          new    7.8   \n",
       "5349                        disappears                          era    7.3   \n",
       "6050                             foals                    holy fire    7.6   \n",
       "9364               broken social scene      forgiveness rock record    8.3   \n",
       "\n",
       "                                                                                               url  \\\n",
       "2811                                   https://pitchfork.com/reviews/albums/21039-fading-frontier/   \n",
       "3119                                          https://pitchfork.com/reviews/albums/20578-currents/   \n",
       "3725                       https://pitchfork.com/reviews/albums/20139-runners-in-the-nerved-world/   \n",
       "4486  https://pitchfork.com/reviews/albums/19335-the-pains-of-being-pure-at-heart-days-of-abandon/   \n",
       "5128                             https://pitchfork.com/reviews/albums/18667-arcade-fire-reflektor/   \n",
       "5129                             https://pitchfork.com/reviews/albums/18667-arcade-fire-reflektor/   \n",
       "5169                                https://pitchfork.com/reviews/albums/18634-paul-mccartney-new/   \n",
       "5349                                    https://pitchfork.com/reviews/albums/18430-disappears-era/   \n",
       "6050                                         https://pitchfork.com/reviews/albums/17578-holy-fire/   \n",
       "9364                           https://pitchfork.com/reviews/albums/14200-forgiveness-rock-record/   \n",
       "\n",
       "      danceability rounded  valence rounded  energy rounded  \\\n",
       "2811                   5.0              4.7             6.8   \n",
       "3119                   5.0              4.7             7.1   \n",
       "3725                   5.1              5.2             7.4   \n",
       "4486                   5.0              4.9             6.5   \n",
       "5128                   4.8              4.8             6.6   \n",
       "5129                   4.8              4.7             6.6   \n",
       "5169                   5.5              4.3             6.9   \n",
       "5349                   5.3              3.9             6.8   \n",
       "6050                   5.5              4.3             6.9   \n",
       "9364                   5.0              4.1             6.3   \n",
       "\n",
       "      acousticness rounded  pub_year  spotify_match               album_uri  \n",
       "2811                   1.2      2015              1  0y5XgOUEiJSSIMxC4ALRAC  \n",
       "3119                   1.6      2015              1  79dL7FLiJFOO0EoehUHQBv  \n",
       "3725                   1.3      2015              1  2lzS0Mb1A7ndVfiY5TgTmV  \n",
       "4486                   1.4      2014              1  2lV0RUPATtdoDFxRtV605S  \n",
       "5128                   1.6      2013              1  3Y2bjF2Jwocc0USbu08Y2I  \n",
       "5129                   1.7      2013              1  4E0m7AIVc2d2QZMrMNXdMZ  \n",
       "5169                   1.3      2013              1  216q1rvAofGBh1CPyl0Qzl  \n",
       "5349                   1.0      2013              1  2GvxR9cvRQK6SzJ6fFfTY9  \n",
       "6050                   1.4      2013              1  0PIR7PK8DMB4pgoxq7F9Ad  \n",
       "9364                   0.9      2010              1  2LHfGLiEaV595PIYmCPMmh  "
      ]
     },
     "execution_count": 41,
     "metadata": {},
     "output_type": "execute_result"
    }
   ],
   "source": [
    "get_similar(df_merged, url, recommender)"
   ]
  },
  {
   "cell_type": "code",
   "execution_count": 399,
   "metadata": {},
   "outputs": [
    {
     "data": {
      "text/html": [
       "<div>\n",
       "<style>\n",
       "    .dataframe thead tr:only-child th {\n",
       "        text-align: right;\n",
       "    }\n",
       "\n",
       "    .dataframe thead th {\n",
       "        text-align: left;\n",
       "    }\n",
       "\n",
       "    .dataframe tbody tr th {\n",
       "        vertical-align: top;\n",
       "    }\n",
       "</style>\n",
       "<table border=\"1\" class=\"dataframe\">\n",
       "  <thead>\n",
       "    <tr style=\"text-align: right;\">\n",
       "      <th></th>\n",
       "      <th>artist</th>\n",
       "      <th>title</th>\n",
       "      <th>score</th>\n",
       "      <th>url</th>\n",
       "      <th>danceability rounded</th>\n",
       "      <th>valence rounded</th>\n",
       "      <th>energy rounded</th>\n",
       "      <th>acousticness rounded</th>\n",
       "      <th>pub_year</th>\n",
       "      <th>spotify_match</th>\n",
       "    </tr>\n",
       "  </thead>\n",
       "  <tbody>\n",
       "    <tr>\n",
       "      <th>2708</th>\n",
       "      <td>g herbo</td>\n",
       "      <td>ballin like im kobe</td>\n",
       "      <td>7.2</td>\n",
       "      <td>https://pitchfork.com/reviews/albums/21153-ballin-like-im-kobe/</td>\n",
       "      <td>5.8</td>\n",
       "      <td>3.5</td>\n",
       "      <td>6.6</td>\n",
       "      <td>1.2</td>\n",
       "      <td>2015</td>\n",
       "      <td>1</td>\n",
       "    </tr>\n",
       "    <tr>\n",
       "      <th>3070</th>\n",
       "      <td>meek mill</td>\n",
       "      <td>dreams worth more than money</td>\n",
       "      <td>7.4</td>\n",
       "      <td>https://pitchfork.com/reviews/albums/20778-dreams-worth-more-than-money/</td>\n",
       "      <td>6.3</td>\n",
       "      <td>3.5</td>\n",
       "      <td>6.5</td>\n",
       "      <td>1.4</td>\n",
       "      <td>2015</td>\n",
       "      <td>1</td>\n",
       "    </tr>\n",
       "    <tr>\n",
       "      <th>3191</th>\n",
       "      <td>a$ap rocky</td>\n",
       "      <td>at.long.last.a$ap</td>\n",
       "      <td>7.8</td>\n",
       "      <td>https://pitchfork.com/reviews/albums/20661-atlonglastaap/</td>\n",
       "      <td>6.0</td>\n",
       "      <td>2.9</td>\n",
       "      <td>6.0</td>\n",
       "      <td>1.9</td>\n",
       "      <td>2015</td>\n",
       "      <td>1</td>\n",
       "    </tr>\n",
       "    <tr>\n",
       "      <th>3837</th>\n",
       "      <td>run the jewels</td>\n",
       "      <td>run the jewels 2</td>\n",
       "      <td>9.0</td>\n",
       "      <td>https://pitchfork.com/reviews/albums/19968-run-the-jewels-run-the-jewels-2/</td>\n",
       "      <td>6.2</td>\n",
       "      <td>3.3</td>\n",
       "      <td>6.4</td>\n",
       "      <td>1.0</td>\n",
       "      <td>2014</td>\n",
       "      <td>1</td>\n",
       "    </tr>\n",
       "    <tr>\n",
       "      <th>3962</th>\n",
       "      <td>freeway, the jacka</td>\n",
       "      <td>highway robbery</td>\n",
       "      <td>7.9</td>\n",
       "      <td>https://pitchfork.com/reviews/albums/19743-freeway-the-jacka-highway-robbery/</td>\n",
       "      <td>6.0</td>\n",
       "      <td>4.0</td>\n",
       "      <td>6.5</td>\n",
       "      <td>0.7</td>\n",
       "      <td>2014</td>\n",
       "      <td>1</td>\n",
       "    </tr>\n",
       "    <tr>\n",
       "      <th>5101</th>\n",
       "      <td>pusha t</td>\n",
       "      <td>my name is my name</td>\n",
       "      <td>8.0</td>\n",
       "      <td>https://pitchfork.com/reviews/albums/18277-pusha-t-my-name-is-my-name/</td>\n",
       "      <td>5.8</td>\n",
       "      <td>4.3</td>\n",
       "      <td>6.9</td>\n",
       "      <td>1.1</td>\n",
       "      <td>2013</td>\n",
       "      <td>1</td>\n",
       "    </tr>\n",
       "    <tr>\n",
       "      <th>5164</th>\n",
       "      <td>drake</td>\n",
       "      <td>nothing was the same</td>\n",
       "      <td>8.6</td>\n",
       "      <td>https://pitchfork.com/reviews/albums/18511-drake-nothing-was-the-same/</td>\n",
       "      <td>6.6</td>\n",
       "      <td>3.3</td>\n",
       "      <td>5.7</td>\n",
       "      <td>1.5</td>\n",
       "      <td>2013</td>\n",
       "      <td>1</td>\n",
       "    </tr>\n",
       "    <tr>\n",
       "      <th>5497</th>\n",
       "      <td>kanye west</td>\n",
       "      <td>yeezus</td>\n",
       "      <td>9.5</td>\n",
       "      <td>https://pitchfork.com/reviews/albums/18172-kanye-west-yeezus/</td>\n",
       "      <td>5.6</td>\n",
       "      <td>3.5</td>\n",
       "      <td>5.9</td>\n",
       "      <td>1.7</td>\n",
       "      <td>2013</td>\n",
       "      <td>1</td>\n",
       "    </tr>\n",
       "    <tr>\n",
       "      <th>6871</th>\n",
       "      <td>future</td>\n",
       "      <td>pluto</td>\n",
       "      <td>7.8</td>\n",
       "      <td>https://pitchfork.com/reviews/albums/16554-pluto/</td>\n",
       "      <td>6.3</td>\n",
       "      <td>4.0</td>\n",
       "      <td>6.5</td>\n",
       "      <td>0.8</td>\n",
       "      <td>2012</td>\n",
       "      <td>1</td>\n",
       "    </tr>\n",
       "    <tr>\n",
       "      <th>7398</th>\n",
       "      <td>nacho picasso</td>\n",
       "      <td>for the glory</td>\n",
       "      <td>7.9</td>\n",
       "      <td>https://pitchfork.com/reviews/albums/15976-for-the-glory/</td>\n",
       "      <td>6.6</td>\n",
       "      <td>3.3</td>\n",
       "      <td>5.9</td>\n",
       "      <td>1.6</td>\n",
       "      <td>2011</td>\n",
       "      <td>1</td>\n",
       "    </tr>\n",
       "  </tbody>\n",
       "</table>\n",
       "</div>"
      ],
      "text/plain": [
       "                  artist                         title  score  \\\n",
       "2708             g herbo           ballin like im kobe    7.2   \n",
       "3070           meek mill  dreams worth more than money    7.4   \n",
       "3191          a$ap rocky             at.long.last.a$ap    7.8   \n",
       "3837      run the jewels              run the jewels 2    9.0   \n",
       "3962  freeway, the jacka               highway robbery    7.9   \n",
       "5101             pusha t            my name is my name    8.0   \n",
       "5164               drake          nothing was the same    8.6   \n",
       "5497          kanye west                        yeezus    9.5   \n",
       "6871              future                         pluto    7.8   \n",
       "7398       nacho picasso                 for the glory    7.9   \n",
       "\n",
       "                                                                                url  \\\n",
       "2708                https://pitchfork.com/reviews/albums/21153-ballin-like-im-kobe/   \n",
       "3070       https://pitchfork.com/reviews/albums/20778-dreams-worth-more-than-money/   \n",
       "3191                      https://pitchfork.com/reviews/albums/20661-atlonglastaap/   \n",
       "3837    https://pitchfork.com/reviews/albums/19968-run-the-jewels-run-the-jewels-2/   \n",
       "3962  https://pitchfork.com/reviews/albums/19743-freeway-the-jacka-highway-robbery/   \n",
       "5101         https://pitchfork.com/reviews/albums/18277-pusha-t-my-name-is-my-name/   \n",
       "5164         https://pitchfork.com/reviews/albums/18511-drake-nothing-was-the-same/   \n",
       "5497                  https://pitchfork.com/reviews/albums/18172-kanye-west-yeezus/   \n",
       "6871                              https://pitchfork.com/reviews/albums/16554-pluto/   \n",
       "7398                      https://pitchfork.com/reviews/albums/15976-for-the-glory/   \n",
       "\n",
       "      danceability rounded  valence rounded  energy rounded  \\\n",
       "2708                   5.8              3.5             6.6   \n",
       "3070                   6.3              3.5             6.5   \n",
       "3191                   6.0              2.9             6.0   \n",
       "3837                   6.2              3.3             6.4   \n",
       "3962                   6.0              4.0             6.5   \n",
       "5101                   5.8              4.3             6.9   \n",
       "5164                   6.6              3.3             5.7   \n",
       "5497                   5.6              3.5             5.9   \n",
       "6871                   6.3              4.0             6.5   \n",
       "7398                   6.6              3.3             5.9   \n",
       "\n",
       "      acousticness rounded  pub_year  spotify_match  \n",
       "2708                   1.2      2015              1  \n",
       "3070                   1.4      2015              1  \n",
       "3191                   1.9      2015              1  \n",
       "3837                   1.0      2014              1  \n",
       "3962                   0.7      2014              1  \n",
       "5101                   1.1      2013              1  \n",
       "5164                   1.5      2013              1  \n",
       "5497                   1.7      2013              1  \n",
       "6871                   0.8      2012              1  \n",
       "7398                   1.6      2011              1  "
      ]
     },
     "execution_count": 399,
     "metadata": {},
     "output_type": "execute_result"
    }
   ],
   "source": [
    "get_similar(df_merged, 'https://pitchfork.com/reviews/albums/17253-good-kid-maad-city/', recommender)"
   ]
  },
  {
   "cell_type": "code",
   "execution_count": 407,
   "metadata": {},
   "outputs": [
    {
     "data": {
      "text/html": [
       "<div>\n",
       "<style>\n",
       "    .dataframe thead tr:only-child th {\n",
       "        text-align: right;\n",
       "    }\n",
       "\n",
       "    .dataframe thead th {\n",
       "        text-align: left;\n",
       "    }\n",
       "\n",
       "    .dataframe tbody tr th {\n",
       "        vertical-align: top;\n",
       "    }\n",
       "</style>\n",
       "<table border=\"1\" class=\"dataframe\">\n",
       "  <thead>\n",
       "    <tr style=\"text-align: right;\">\n",
       "      <th></th>\n",
       "      <th>artist</th>\n",
       "      <th>title</th>\n",
       "      <th>score</th>\n",
       "      <th>url</th>\n",
       "      <th>danceability rounded</th>\n",
       "      <th>valence rounded</th>\n",
       "      <th>energy rounded</th>\n",
       "      <th>acousticness rounded</th>\n",
       "      <th>pub_year</th>\n",
       "      <th>spotify_match</th>\n",
       "    </tr>\n",
       "  </thead>\n",
       "  <tbody>\n",
       "    <tr>\n",
       "      <th>13347</th>\n",
       "      <td>brakes</td>\n",
       "      <td>the beatific visions</td>\n",
       "      <td>7.8</td>\n",
       "      <td>https://pitchfork.com/reviews/albums/9667-the-beatific-visions/</td>\n",
       "      <td>4.7</td>\n",
       "      <td>5.8</td>\n",
       "      <td>7.2</td>\n",
       "      <td>1.8</td>\n",
       "      <td>2006</td>\n",
       "      <td>1</td>\n",
       "    </tr>\n",
       "    <tr>\n",
       "      <th>15396</th>\n",
       "      <td>the national</td>\n",
       "      <td>alligator</td>\n",
       "      <td>7.9</td>\n",
       "      <td>https://pitchfork.com/reviews/albums/5719-alligator/</td>\n",
       "      <td>5.2</td>\n",
       "      <td>5.4</td>\n",
       "      <td>7.4</td>\n",
       "      <td>2.8</td>\n",
       "      <td>2005</td>\n",
       "      <td>1</td>\n",
       "    </tr>\n",
       "    <tr>\n",
       "      <th>16809</th>\n",
       "      <td>oranger</td>\n",
       "      <td>shutdown the sun</td>\n",
       "      <td>7.3</td>\n",
       "      <td>https://pitchfork.com/reviews/albums/6022-shutdown-the-sun/</td>\n",
       "      <td>5.3</td>\n",
       "      <td>5.8</td>\n",
       "      <td>6.8</td>\n",
       "      <td>1.2</td>\n",
       "      <td>2004</td>\n",
       "      <td>1</td>\n",
       "    </tr>\n",
       "    <tr>\n",
       "      <th>17105</th>\n",
       "      <td>david bowie</td>\n",
       "      <td>reality</td>\n",
       "      <td>7.3</td>\n",
       "      <td>https://pitchfork.com/reviews/albums/880-reality/</td>\n",
       "      <td>5.7</td>\n",
       "      <td>5.0</td>\n",
       "      <td>7.3</td>\n",
       "      <td>1.7</td>\n",
       "      <td>2003</td>\n",
       "      <td>1</td>\n",
       "    </tr>\n",
       "    <tr>\n",
       "      <th>17226</th>\n",
       "      <td>the natural history</td>\n",
       "      <td>beat beat heartbeat</td>\n",
       "      <td>7.8</td>\n",
       "      <td>https://pitchfork.com/reviews/albums/5877-beat-beat-heartbeat/</td>\n",
       "      <td>5.9</td>\n",
       "      <td>6.5</td>\n",
       "      <td>7.0</td>\n",
       "      <td>2.2</td>\n",
       "      <td>2003</td>\n",
       "      <td>1</td>\n",
       "    </tr>\n",
       "    <tr>\n",
       "      <th>17417</th>\n",
       "      <td>black lipstick</td>\n",
       "      <td>converted thieves</td>\n",
       "      <td>7.5</td>\n",
       "      <td>https://pitchfork.com/reviews/albums/769-converted-thieves/</td>\n",
       "      <td>5.0</td>\n",
       "      <td>6.5</td>\n",
       "      <td>7.1</td>\n",
       "      <td>1.2</td>\n",
       "      <td>2003</td>\n",
       "      <td>1</td>\n",
       "    </tr>\n",
       "    <tr>\n",
       "      <th>18294</th>\n",
       "      <td>liars</td>\n",
       "      <td>they threw us all in a trench and stuck a monument on top</td>\n",
       "      <td>8.1</td>\n",
       "      <td>https://pitchfork.com/reviews/albums/4764-they-threw-us-all-in-a-trench-and-stuck-a-monument-on-...</td>\n",
       "      <td>5.4</td>\n",
       "      <td>5.6</td>\n",
       "      <td>6.8</td>\n",
       "      <td>1.5</td>\n",
       "      <td>2002</td>\n",
       "      <td>1</td>\n",
       "    </tr>\n",
       "    <tr>\n",
       "      <th>18318</th>\n",
       "      <td>skeleton key</td>\n",
       "      <td>obtainium</td>\n",
       "      <td>7.3</td>\n",
       "      <td>https://pitchfork.com/reviews/albums/7220-obtainium/</td>\n",
       "      <td>5.7</td>\n",
       "      <td>5.5</td>\n",
       "      <td>7.4</td>\n",
       "      <td>2.3</td>\n",
       "      <td>2002</td>\n",
       "      <td>1</td>\n",
       "    </tr>\n",
       "  </tbody>\n",
       "</table>\n",
       "</div>"
      ],
      "text/plain": [
       "                    artist  \\\n",
       "13347               brakes   \n",
       "15396         the national   \n",
       "16809              oranger   \n",
       "17105          david bowie   \n",
       "17226  the natural history   \n",
       "17417       black lipstick   \n",
       "18294                liars   \n",
       "18318         skeleton key   \n",
       "\n",
       "                                                           title  score  \\\n",
       "13347                                       the beatific visions    7.8   \n",
       "15396                                                  alligator    7.9   \n",
       "16809                                           shutdown the sun    7.3   \n",
       "17105                                                    reality    7.3   \n",
       "17226                                        beat beat heartbeat    7.8   \n",
       "17417                                          converted thieves    7.5   \n",
       "18294  they threw us all in a trench and stuck a monument on top    8.1   \n",
       "18318                                                  obtainium    7.3   \n",
       "\n",
       "                                                                                                       url  \\\n",
       "13347                                      https://pitchfork.com/reviews/albums/9667-the-beatific-visions/   \n",
       "15396                                                 https://pitchfork.com/reviews/albums/5719-alligator/   \n",
       "16809                                          https://pitchfork.com/reviews/albums/6022-shutdown-the-sun/   \n",
       "17105                                                    https://pitchfork.com/reviews/albums/880-reality/   \n",
       "17226                                       https://pitchfork.com/reviews/albums/5877-beat-beat-heartbeat/   \n",
       "17417                                          https://pitchfork.com/reviews/albums/769-converted-thieves/   \n",
       "18294  https://pitchfork.com/reviews/albums/4764-they-threw-us-all-in-a-trench-and-stuck-a-monument-on-...   \n",
       "18318                                                 https://pitchfork.com/reviews/albums/7220-obtainium/   \n",
       "\n",
       "       danceability rounded  valence rounded  energy rounded  \\\n",
       "13347                   4.7              5.8             7.2   \n",
       "15396                   5.2              5.4             7.4   \n",
       "16809                   5.3              5.8             6.8   \n",
       "17105                   5.7              5.0             7.3   \n",
       "17226                   5.9              6.5             7.0   \n",
       "17417                   5.0              6.5             7.1   \n",
       "18294                   5.4              5.6             6.8   \n",
       "18318                   5.7              5.5             7.4   \n",
       "\n",
       "       acousticness rounded  pub_year  spotify_match  \n",
       "13347                   1.8      2006              1  \n",
       "15396                   2.8      2005              1  \n",
       "16809                   1.2      2004              1  \n",
       "17105                   1.7      2003              1  \n",
       "17226                   2.2      2003              1  \n",
       "17417                   1.2      2003              1  \n",
       "18294                   1.5      2002              1  \n",
       "18318                   2.3      2002              1  "
      ]
     },
     "execution_count": 407,
     "metadata": {},
     "output_type": "execute_result"
    }
   ],
   "source": [
    "get_similar(df_merged, 'https://pitchfork.com/reviews/albums/3160-welcome-interstate-managers/', recommender)"
   ]
  },
  {
   "cell_type": "code",
   "execution_count": 414,
   "metadata": {},
   "outputs": [
    {
     "data": {
      "text/html": [
       "<div>\n",
       "<style>\n",
       "    .dataframe thead tr:only-child th {\n",
       "        text-align: right;\n",
       "    }\n",
       "\n",
       "    .dataframe thead th {\n",
       "        text-align: left;\n",
       "    }\n",
       "\n",
       "    .dataframe tbody tr th {\n",
       "        vertical-align: top;\n",
       "    }\n",
       "</style>\n",
       "<table border=\"1\" class=\"dataframe\">\n",
       "  <thead>\n",
       "    <tr style=\"text-align: right;\">\n",
       "      <th></th>\n",
       "      <th>artist</th>\n",
       "      <th>title</th>\n",
       "      <th>score</th>\n",
       "      <th>url</th>\n",
       "      <th>danceability rounded</th>\n",
       "      <th>valence rounded</th>\n",
       "      <th>energy rounded</th>\n",
       "      <th>acousticness rounded</th>\n",
       "      <th>pub_year</th>\n",
       "      <th>spotify_match</th>\n",
       "    </tr>\n",
       "  </thead>\n",
       "  <tbody>\n",
       "    <tr>\n",
       "      <th>905</th>\n",
       "      <td>white reaper</td>\n",
       "      <td>the worlds best american band</td>\n",
       "      <td>8.0</td>\n",
       "      <td>https://pitchfork.com/reviews/albums/23064-the-worlds-best-american-band/</td>\n",
       "      <td>5.3</td>\n",
       "      <td>5.0</td>\n",
       "      <td>9.2</td>\n",
       "      <td>1.1</td>\n",
       "      <td>2017</td>\n",
       "      <td>1</td>\n",
       "    </tr>\n",
       "    <tr>\n",
       "      <th>1508</th>\n",
       "      <td>joyce manor</td>\n",
       "      <td>cody</td>\n",
       "      <td>7.7</td>\n",
       "      <td>https://pitchfork.com/reviews/albums/22477-cody/</td>\n",
       "      <td>5.2</td>\n",
       "      <td>5.2</td>\n",
       "      <td>8.4</td>\n",
       "      <td>1.0</td>\n",
       "      <td>2016</td>\n",
       "      <td>1</td>\n",
       "    </tr>\n",
       "    <tr>\n",
       "      <th>1831</th>\n",
       "      <td>the julie ruin</td>\n",
       "      <td>hit reset</td>\n",
       "      <td>8.2</td>\n",
       "      <td>https://pitchfork.com/reviews/albums/22073-hit-reset/</td>\n",
       "      <td>5.5</td>\n",
       "      <td>4.9</td>\n",
       "      <td>7.9</td>\n",
       "      <td>0.8</td>\n",
       "      <td>2016</td>\n",
       "      <td>1</td>\n",
       "    </tr>\n",
       "    <tr>\n",
       "      <th>2100</th>\n",
       "      <td>operators</td>\n",
       "      <td>blue wave</td>\n",
       "      <td>7.5</td>\n",
       "      <td>https://pitchfork.com/reviews/albums/21851-blue-wave/</td>\n",
       "      <td>5.2</td>\n",
       "      <td>5.3</td>\n",
       "      <td>7.9</td>\n",
       "      <td>0.1</td>\n",
       "      <td>2016</td>\n",
       "      <td>1</td>\n",
       "    </tr>\n",
       "    <tr>\n",
       "      <th>2435</th>\n",
       "      <td>diiv</td>\n",
       "      <td>is the is are</td>\n",
       "      <td>8.1</td>\n",
       "      <td>https://pitchfork.com/reviews/albums/21462-is-the-is-are/</td>\n",
       "      <td>5.0</td>\n",
       "      <td>4.8</td>\n",
       "      <td>8.3</td>\n",
       "      <td>0.5</td>\n",
       "      <td>2016</td>\n",
       "      <td>1</td>\n",
       "    </tr>\n",
       "    <tr>\n",
       "      <th>2765</th>\n",
       "      <td>eagles of death metal</td>\n",
       "      <td>zipper down</td>\n",
       "      <td>7.3</td>\n",
       "      <td>https://pitchfork.com/reviews/albums/21115-zipper-down/</td>\n",
       "      <td>5.2</td>\n",
       "      <td>6.2</td>\n",
       "      <td>8.7</td>\n",
       "      <td>0.7</td>\n",
       "      <td>2015</td>\n",
       "      <td>1</td>\n",
       "    </tr>\n",
       "    <tr>\n",
       "      <th>2816</th>\n",
       "      <td>new order</td>\n",
       "      <td>music complete</td>\n",
       "      <td>7.2</td>\n",
       "      <td>https://pitchfork.com/reviews/albums/21036-music-complete/</td>\n",
       "      <td>5.4</td>\n",
       "      <td>5.0</td>\n",
       "      <td>9.0</td>\n",
       "      <td>0.1</td>\n",
       "      <td>2015</td>\n",
       "      <td>1</td>\n",
       "    </tr>\n",
       "    <tr>\n",
       "      <th>3480</th>\n",
       "      <td>young guv</td>\n",
       "      <td>ripe 4 luv</td>\n",
       "      <td>7.5</td>\n",
       "      <td>https://pitchfork.com/reviews/albums/20241-ripe-4-luv/</td>\n",
       "      <td>5.4</td>\n",
       "      <td>5.4</td>\n",
       "      <td>8.5</td>\n",
       "      <td>0.6</td>\n",
       "      <td>2015</td>\n",
       "      <td>1</td>\n",
       "    </tr>\n",
       "    <tr>\n",
       "      <th>4076</th>\n",
       "      <td>the new pornographers</td>\n",
       "      <td>brill bruisers</td>\n",
       "      <td>7.7</td>\n",
       "      <td>https://pitchfork.com/reviews/albums/19722-the-new-pornographers-brill-bruisers/</td>\n",
       "      <td>5.5</td>\n",
       "      <td>5.7</td>\n",
       "      <td>7.9</td>\n",
       "      <td>1.1</td>\n",
       "      <td>2014</td>\n",
       "      <td>1</td>\n",
       "    </tr>\n",
       "  </tbody>\n",
       "</table>\n",
       "</div>"
      ],
      "text/plain": [
       "                     artist                          title  score  \\\n",
       "905            white reaper  the worlds best american band    8.0   \n",
       "1508            joyce manor                           cody    7.7   \n",
       "1831         the julie ruin                      hit reset    8.2   \n",
       "2100              operators                      blue wave    7.5   \n",
       "2435                   diiv                  is the is are    8.1   \n",
       "2765  eagles of death metal                    zipper down    7.3   \n",
       "2816              new order                 music complete    7.2   \n",
       "3480              young guv                     ripe 4 luv    7.5   \n",
       "4076  the new pornographers                 brill bruisers    7.7   \n",
       "\n",
       "                                                                                   url  \\\n",
       "905          https://pitchfork.com/reviews/albums/23064-the-worlds-best-american-band/   \n",
       "1508                                  https://pitchfork.com/reviews/albums/22477-cody/   \n",
       "1831                             https://pitchfork.com/reviews/albums/22073-hit-reset/   \n",
       "2100                             https://pitchfork.com/reviews/albums/21851-blue-wave/   \n",
       "2435                         https://pitchfork.com/reviews/albums/21462-is-the-is-are/   \n",
       "2765                           https://pitchfork.com/reviews/albums/21115-zipper-down/   \n",
       "2816                        https://pitchfork.com/reviews/albums/21036-music-complete/   \n",
       "3480                            https://pitchfork.com/reviews/albums/20241-ripe-4-luv/   \n",
       "4076  https://pitchfork.com/reviews/albums/19722-the-new-pornographers-brill-bruisers/   \n",
       "\n",
       "      danceability rounded  valence rounded  energy rounded  \\\n",
       "905                    5.3              5.0             9.2   \n",
       "1508                   5.2              5.2             8.4   \n",
       "1831                   5.5              4.9             7.9   \n",
       "2100                   5.2              5.3             7.9   \n",
       "2435                   5.0              4.8             8.3   \n",
       "2765                   5.2              6.2             8.7   \n",
       "2816                   5.4              5.0             9.0   \n",
       "3480                   5.4              5.4             8.5   \n",
       "4076                   5.5              5.7             7.9   \n",
       "\n",
       "      acousticness rounded  pub_year  spotify_match  \n",
       "905                    1.1      2017              1  \n",
       "1508                   1.0      2016              1  \n",
       "1831                   0.8      2016              1  \n",
       "2100                   0.1      2016              1  \n",
       "2435                   0.5      2016              1  \n",
       "2765                   0.7      2015              1  \n",
       "2816                   0.1      2015              1  \n",
       "3480                   0.6      2015              1  \n",
       "4076                   1.1      2014              1  "
      ]
     },
     "execution_count": 414,
     "metadata": {},
     "output_type": "execute_result"
    }
   ],
   "source": [
    "get_similar(df_merged, 'https://pitchfork.com/reviews/albums/23070-whiteout-conditions/', recommender)"
   ]
  },
  {
   "cell_type": "code",
   "execution_count": 415,
   "metadata": {},
   "outputs": [
    {
     "data": {
      "text/plain": [
       "Class                            : ItemContentRecommender\n",
       "\n",
       "Schema\n",
       "------\n",
       "User ID                          : __implicit_user__\n",
       "Item ID                          : url\n",
       "Target                           : None\n",
       "Additional observation features  : 0\n",
       "User side features               : []\n",
       "Item side features               : ['url', 'tf-idf', 'danceability rounded', 'valence rounded', 'energy rounded', 'acousticness rounded', 'pub_year', 'genre_electronic', 'genre_experimental', 'genre_folk/country', 'genre_global', 'genre_jazz', 'genre_metal', 'genre_pop/r&b', 'genre_rap', 'genre_rock', 'new_album', 'spotify_match']\n",
       "\n",
       "Statistics\n",
       "----------\n",
       "Number of observations           : 0\n",
       "Number of users                  : 0\n",
       "Number of items                  : 19619\n",
       "\n",
       "Training summary\n",
       "----------------\n",
       "Training time                    : 0.0875\n",
       "\n",
       "Model Parameters\n",
       "----------------\n",
       "Model class                      : ItemContentRecommender\n",
       "threshold                        : 0.0001\n",
       "similarity_type                  : cosine\n",
       "training_method                  : auto\n",
       "\n",
       "Other Settings\n",
       "--------------\n",
       "degree_approximation_threshold   : 4096\n",
       "sparse_density_estimation_sample_size : 4096\n",
       "max_data_passes                  : 4096\n",
       "target_memory_usage              : 8589934592\n",
       "seed_item_set_size               : 50\n",
       "nearest_neighbors_interaction_proportion_threshold : 0.05\n",
       "max_item_neighborhood_size       : 64"
      ]
     },
     "execution_count": 415,
     "metadata": {},
     "output_type": "execute_result"
    }
   ],
   "source": [
    "recommender"
   ]
  },
  {
   "cell_type": "code",
   "execution_count": null,
   "metadata": {
    "collapsed": true
   },
   "outputs": [],
   "source": []
  },
  {
   "cell_type": "code",
   "execution_count": null,
   "metadata": {
    "collapsed": true
   },
   "outputs": [],
   "source": []
  }
 ],
 "metadata": {
  "kernelspec": {
   "display_name": "Python 2",
   "language": "python",
   "name": "python2"
  },
  "language_info": {
   "codemirror_mode": {
    "name": "ipython",
    "version": 2
   },
   "file_extension": ".py",
   "mimetype": "text/x-python",
   "name": "python",
   "nbconvert_exporter": "python",
   "pygments_lexer": "ipython2",
   "version": "2.7.13"
  }
 },
 "nbformat": 4,
 "nbformat_minor": 2
}
