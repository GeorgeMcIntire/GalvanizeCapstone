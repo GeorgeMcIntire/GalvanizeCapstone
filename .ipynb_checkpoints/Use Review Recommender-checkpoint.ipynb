{
 "cells": [
  {
   "cell_type": "code",
   "execution_count": 4,
   "metadata": {
    "collapsed": true
   },
   "outputs": [],
   "source": [
    "import graphlab as gl\n",
    "import pandas as pd\n",
    "pd.options.display.max_colwidth = 100"
   ]
  },
  {
   "cell_type": "code",
   "execution_count": 5,
   "metadata": {},
   "outputs": [],
   "source": [
    "recommender = gl.load_model('../recommender')\n",
    "df_merged = pd.read_csv('../recommender_df.csv')"
   ]
  },
  {
   "cell_type": "code",
   "execution_count": 6,
   "metadata": {
    "collapsed": true
   },
   "outputs": [],
   "source": [
    "def print_top_url(df_similar):\n",
    "    df_copy = df_similar.reset_index()\n",
    "    for i in range(len(df_similar['url'])):\n",
    "        print \"{}, {}\".format(df_copy['artist'][i].title(), df_copy['title'][i].title())\n",
    "        print \"http://open.spotify.com/album/{}\".format(df_copy['album_uri'][i])\n",
    "        print df_copy['url'][i]\n",
    "        print \"\\n\""
   ]
  },
  {
   "cell_type": "code",
   "execution_count": null,
   "metadata": {
    "collapsed": true
   },
   "outputs": [],
   "source": [
    "def get_links(df_similar):\n",
    "    df_copy = df_similar.reset_index()\n",
    "    spotify_links = []\n",
    "    pitchfork_links = []\n",
    "    artist_title = []\n",
    "    for i in range(len(df_similar['url'])):\n",
    "        artist_title.append(\"{}, {}\".format(df_copy['artist'][i].title(), df_copy['title'][i].title()))\n",
    "        spotify_links.append(\"http://open.spotify.com/album/{}\".format(df_copy['album_uri'][i]))\n",
    "        pitchfork_links.df_copy['url'][i]\n",
    "    return artist_title, pitchfork_links, spotify_links"
   ]
  },
  {
   "cell_type": "code",
   "execution_count": 7,
   "metadata": {
    "collapsed": true
   },
   "outputs": [],
   "source": [
    "def get_similar(df, url, recommender):\n",
    "    top_5_similar = recommender.get_similar_items([url], k=20)['similar']\n",
    "    return df[(df['score'] > 7) & \n",
    "               (df['url'].isin(top_5_similar))][['artist','title', 'score', 'url', 'danceability rounded',\n",
    "                                                'valence rounded', 'energy rounded', 'acousticness rounded', \n",
    "                                               'pub_year', 'spotify_match', 'album_uri']].head(10)"
   ]
  },
  {
   "cell_type": "code",
   "execution_count": 16,
   "metadata": {
    "collapsed": true
   },
   "outputs": [],
   "source": [
    "def get_url(df, artist, title):\n",
    "    return df[(df['artist'] == artist) & (df['title'] == title)].iloc[0][7]"
   ]
  },
  {
   "cell_type": "code",
   "execution_count": 15,
   "metadata": {},
   "outputs": [
    {
     "data": {
      "text/plain": [
       "'https://pitchfork.com/reviews/albums/merry-christmas-lil-mama-re-wrapped/'"
      ]
     },
     "execution_count": 15,
     "metadata": {},
     "output_type": "execute_result"
    }
   ],
   "source": [
    "df_merged.iloc[0][7]"
   ]
  },
  {
   "cell_type": "code",
   "execution_count": 19,
   "metadata": {},
   "outputs": [
    {
     "name": "stdout",
     "output_type": "stream",
     "text": [
      "Artist: Taylor Swift\n",
      "\n",
      "\n",
      "Select Album From Below:\n",
      "Reputation\n",
      "\n",
      "\n",
      "Album: Reputation\n",
      "\n",
      "\n",
      "Charli Xcx, Pop 2\n",
      "http://open.spotify.com/album/2HIwUmdxEl7SeWa1ndH5wC\n",
      "https://pitchfork.com/reviews/albums/charli-xcx-pop-2/\n",
      "\n",
      "\n",
      "Miguel, War & Leisure\n",
      "http://open.spotify.com/album/05LEST8E8mkEIl2LRfUkcI\n",
      "https://pitchfork.com/reviews/albums/miguel-war-and-leisure/\n",
      "\n",
      "\n",
      "Demi Lovato, Tell Me You Love Me\n",
      "http://open.spotify.com/album/233yswCIc7oCFpZ2M9t0wa\n",
      "https://pitchfork.com/reviews/albums/demi-lovato-tell-me-you-love-me/\n",
      "\n",
      "\n",
      "Nite Jewel, Real High\n",
      "http://open.spotify.com/album/2XonesGr0YvUdhmdCW102B\n",
      "https://pitchfork.com/reviews/albums/23152-real-high/\n",
      "\n",
      "\n",
      "Mary J. Blige, Strength Of A Woman\n",
      "http://open.spotify.com/album/0ry9q0FKegt5URPRTSyqUI\n",
      "https://pitchfork.com/reviews/albums/23167-strength-of-a-woman/\n",
      "\n",
      "\n",
      "Chvrches, Every Open Eye\n",
      "http://open.spotify.com/album/4E61vCQ3Ty0er5FmJF68tQ\n",
      "https://pitchfork.com/reviews/albums/21104-every-open-eye/\n",
      "\n",
      "\n",
      "Petite Noir, La Vie Est Belle / Life Is Beautiful\n",
      "http://open.spotify.com/album/4hnuqFJKT7yxZJ8FoghqtO\n",
      "https://pitchfork.com/reviews/albums/21012-petite-noir-la-vie-est-belle-life-is-beautiful/\n",
      "\n",
      "\n",
      "Empress Of, Me\n",
      "http://open.spotify.com/album/6Gr9l3W2dr8YZ1SzJwRRKE\n",
      "https://pitchfork.com/reviews/albums/20976-me/\n",
      "\n",
      "\n",
      "Miguel, Wildheart\n",
      "http://open.spotify.com/album/6b5WANFyoXhaMTXPqLF6ez\n",
      "https://pitchfork.com/reviews/albums/20728-wildheart/\n",
      "\n",
      "\n",
      "Secret Circuit, Tactile Galactics\n",
      "http://open.spotify.com/album/2I4ZTFpY8VpTYIGEt5lIgI\n",
      "https://pitchfork.com/reviews/albums/17952-secret-circuit-tactile-galactics/\n",
      "\n",
      "\n"
     ]
    }
   ],
   "source": [
    "artist = raw_input(\"Artist: \").strip().lower()\n",
    "while True:\n",
    "    if len(df_merged[df_merged['artist'] == artist]['title']) == 0:\n",
    "        print \"Try another artist\"  \n",
    "    else:\n",
    "        break\n",
    "    artist = raw_input(\"Artist: \").strip().lower()\n",
    "print '\\n'\n",
    "print 'Select Album From Below:'\n",
    "for each in df_merged[df_merged['artist'] == artist]['title']:\n",
    "            print each.title()\n",
    "print '\\n'\n",
    "title = raw_input(\"Album: \").strip().lower()\n",
    "while True:\n",
    "    try:\n",
    "        url = get_url(df_merged, artist, title)\n",
    "        break\n",
    "    except:\n",
    "        print \"Not a valid album. Try again from what's listed above\"\n",
    "        title = raw_input(\"Album: \").lower()\n",
    "        url = get_url(df_merged, artist, title)\n",
    "\n",
    "df_similar = get_similar(df_merged, url, recommender)\n",
    "print '\\n'\n",
    "print_top_url(df_similar)"
   ]
  },
  {
   "cell_type": "code",
   "execution_count": null,
   "metadata": {
    "collapsed": true
   },
   "outputs": [],
   "source": []
  }
 ],
 "metadata": {
  "kernelspec": {
   "display_name": "Python 2",
   "language": "python",
   "name": "python2"
  },
  "language_info": {
   "codemirror_mode": {
    "name": "ipython",
    "version": 2
   },
   "file_extension": ".py",
   "mimetype": "text/x-python",
   "name": "python",
   "nbconvert_exporter": "python",
   "pygments_lexer": "ipython2",
   "version": "2.7.13"
  }
 },
 "nbformat": 4,
 "nbformat_minor": 2
}
