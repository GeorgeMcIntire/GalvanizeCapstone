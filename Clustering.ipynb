{
 "cells": [
  {
   "cell_type": "code",
   "execution_count": 1,
   "metadata": {},
   "outputs": [],
   "source": [
    "import numpy as np\n",
    "import pandas as pd\n",
    "from sklearn.feature_extraction.text import TfidfVectorizer\n",
    "from sklearn.cluster import KMeans, AffinityPropagation\n",
    "from collections import Counter\n",
    "from scipy.spatial.distance import pdist, squareform\n",
    "import matplotlib.pyplot as plt\n",
    "from scipy.cluster.hierarchy import linkage, dendrogram\n"
   ]
  },
  {
   "cell_type": "code",
   "execution_count": 2,
   "metadata": {
    "collapsed": true
   },
   "outputs": [],
   "source": [
    "import numpy as np\n",
    "import matplotlib.pyplot as plt\n",
    "%matplotlib inline\n",
    "\n",
    "# from textblob.sentiments import NaiveBayesAnalyzer\n",
    "import re\n",
    "import pandas as pd\n",
    "import sqlite3\n",
    "# from textblob import TextBlob\n",
    "\n",
    "import seaborn as sns\n",
    "sns.set(color_codes=True)\n",
    "\n",
    "# encoding=utf8\n",
    "# import sys\n",
    "# reload(sys)\n",
    "# sys.setdefaultencoding('utf8')"
   ]
  },
  {
   "cell_type": "code",
   "execution_count": null,
   "metadata": {
    "collapsed": true
   },
   "outputs": [],
   "source": []
  },
  {
   "cell_type": "code",
   "execution_count": null,
   "metadata": {},
   "outputs": [],
   "source": [
    "cd Desktop/"
   ]
  },
  {
   "cell_type": "code",
   "execution_count": null,
   "metadata": {
    "collapsed": true
   },
   "outputs": [],
   "source": [
    "df = pd.read_csv('../pitchfork3.csv')"
   ]
  },
  {
   "cell_type": "code",
   "execution_count": 20,
   "metadata": {},
   "outputs": [],
   "source": [
    "df = pd.read_csv('../pitchfork3.csv')\n",
    "\n",
    "years = np.arange(1999, 2018)\n",
    "df_new = df[df['new_album'] == 1]\n",
    "df_reissue = df[df['new_album'] == 0]\n",
    "\n",
    "df_spotify = pd.read_csv('spotify_with_rank.csv')\n",
    "\n",
    "df_merged = df_new.merge(df_spotify, how='left', on=['artist', 'title'])"
   ]
  },
  {
   "cell_type": "code",
   "execution_count": 21,
   "metadata": {},
   "outputs": [],
   "source": [
    "df_sample = df_merged[df_merged['best_new_music'] == 1]"
   ]
  },
  {
   "cell_type": "code",
   "execution_count": 22,
   "metadata": {},
   "outputs": [
    {
     "name": "stdout",
     "output_type": "stream",
     "text": [
      "top features for each cluster with 500 max features:\n",
      "0: punk, post, art, energy, live, drum, bands, hooks, right, let\n",
      "1: cox, dream, solo, loops, ambient, bass, weird, gets, indie, era\n",
      "2: kanye, west, rapper, drake, chance, rap, mixtape, soul, future, hip\n",
      "3: rk, bj, folk, broken, songwriter, piano, singer, chords, moment, digital\n",
      "4: indie, girls, bands, ll, heart, lo, chorus, fi, want, title\n",
      "5: black, metal, noise, guitars, blood, minutes, group, power, pink, live\n",
      "6: rap, hop, hip, beats, rapper, jay, mike, beat, mixtape, production\n",
      "7: techno, electronic, dance, field, producer, bass, piano, noise, space, ambient\n",
      "8: dance, disco, house, electro, electronic, vocal, duo, dj, vocals, bass\n",
      "9: death, sings, know, woman, end, heart, real, old, things, youth\n",
      "10: vocal, kind, bear, records, collective, folk, animal, vocals, dream, jazz\n"
     ]
    }
   ],
   "source": [
    "# 4. Limit the number of features and see if the words of the topics change.\n",
    "vectorizer = TfidfVectorizer(stop_words='english', max_features=500, max_df=.4)\n",
    "X = vectorizer.fit_transform(df_sample['content'].values.astype('U'))\n",
    "features = vectorizer.get_feature_names()\n",
    "kmeans = KMeans(n_clusters=11)\n",
    "kmeans.fit(X)\n",
    "top_centroids = kmeans.cluster_centers_.argsort()[:,-1:-11:-1]\n",
    "print \"top features for each cluster with 500 max features:\"\n",
    "for num, centroid in enumerate(top_centroids):\n",
    "    print \"%d: %s\" % (num, \", \".join(features[i] for i in centroid))"
   ]
  },
  {
   "cell_type": "code",
   "execution_count": 23,
   "metadata": {},
   "outputs": [
    {
     "name": "stderr",
     "output_type": "stream",
     "text": [
      "/Users/andrewbashford/anaconda3/lib/python2.7/site-packages/ipykernel_launcher.py:1: SettingWithCopyWarning: \n",
      "A value is trying to be set on a copy of a slice from a DataFrame.\n",
      "Try using .loc[row_indexer,col_indexer] = value instead\n",
      "\n",
      "See the caveats in the documentation: http://pandas.pydata.org/pandas-docs/stable/indexing.html#indexing-view-versus-copy\n",
      "  \"\"\"Entry point for launching an IPython kernel.\n"
     ]
    }
   ],
   "source": [
    "df_sample['tf-idf'] = list(X.toarray())"
   ]
  },
  {
   "cell_type": "code",
   "execution_count": null,
   "metadata": {},
   "outputs": [],
   "source": []
  },
  {
   "cell_type": "code",
   "execution_count": null,
   "metadata": {
    "scrolled": false
   },
   "outputs": [],
   "source": [
    "# 5. Print out the titles of a random sample of the articles assigned to each\n",
    "# cluster to get a sense of the topic.\n",
    "assigned_cluster = kmeans.transform(X).argmin(axis=1)\n",
    "for i in range(kmeans.n_clusters):\n",
    "    cluster = np.arange(0, X.shape[0])[assigned_cluster==i]\n",
    "    sample_articles = np.random.choice(cluster, 8, replace=False)\n",
    "    print \"cluster %d:\" % i\n",
    "    for article in sample_articles:\n",
    "        print \"    %s\" % df.iloc[article][5]"
   ]
  },
  {
   "cell_type": "code",
   "execution_count": null,
   "metadata": {},
   "outputs": [],
   "source": [
    "df_merged['cluster']  =  kmeans.predict(X)"
   ]
  },
  {
   "cell_type": "code",
   "execution_count": 7,
   "metadata": {},
   "outputs": [],
   "source": [
    "import graphlab"
   ]
  },
  {
   "cell_type": "code",
   "execution_count": 169,
   "metadata": {},
   "outputs": [
    {
     "data": {
      "text/plain": [
       "Index([u'Unnamed: 0_x', u'Unnamed: 0.1', u'index', u'reviewid', u'title',\n",
       "       u'artist', u'url', u'score', u'best_new_music', u'best_new_reissue',\n",
       "       u'author', u'pub_date', u'pub_weekday', u'pub_day', u'pub_month',\n",
       "       u'pub_year', u'year', u'genre_electronic', u'genre_experimental',\n",
       "       u'genre_folk/country', u'genre_global', u'genre_jazz', u'genre_metal',\n",
       "       u'genre_pop/r&b', u'genre_rap', u'genre_rock', u'content', u'abstract',\n",
       "       u'reissue', u'num_years_since_release', u'new_album', u'abstract_adj',\n",
       "       u'content_adj', u'cont_polarity', u'cont_subjectivity', u'abs_polarity',\n",
       "       u'abs_subjectivity', u'abs_adj_polarity', u'abs_adj_subjectivity',\n",
       "       u'cont_adj_polarity', u'cont_adj_subjectivity', u'word_count',\n",
       "       u'adj_count', u'adj_freq', u'score_bin', u'avg_word_length',\n",
       "       u'adj_word_length', u'num_prev_reviews', u'avg_score_of_prev_reviews',\n",
       "       u'number_prev_bnm', u'era', u'Unnamed: 0_y', u'album_name',\n",
       "       u'album_release_year', u'album_popularity sum',\n",
       "       u'album_popularity mean', u'album_popularity std', u'danceability sum',\n",
       "       u'danceability mean', u'danceability std', u'energy sum',\n",
       "       u'energy mean', u'energy std', u'loudness sum', u'loudness mean',\n",
       "       u'loudness std', u'speechiness sum', u'speechiness mean',\n",
       "       u'speechiness std', u'acousticness sum', u'acousticness mean',\n",
       "       u'acousticness std', u'instrumentalness sum', u'instrumentalness mean',\n",
       "       u'instrumentalness std', u'liveness sum', u'liveness mean',\n",
       "       u'liveness std', u'valence sum', u'valence mean', u'valence std',\n",
       "       u'tempo sum', u'tempo mean', u'tempo std', u'duration_ms sum',\n",
       "       u'duration_ms mean', u'duration_ms std', u'time_signature sum',\n",
       "       u'time_signature mean', u'time_signature std', u'track_popularity sum',\n",
       "       u'track_popularity mean', u'track_popularity std', u'year sum',\n",
       "       u'year mean', u'year std', u'order_of_release', u'tf-idf'],\n",
       "      dtype='object')"
      ]
     },
     "execution_count": 169,
     "metadata": {},
     "output_type": "execute_result"
    }
   ],
   "source": [
    "df_sample.columns"
   ]
  },
  {
   "cell_type": "code",
   "execution_count": 182,
   "metadata": {},
   "outputs": [
    {
     "name": "stderr",
     "output_type": "stream",
     "text": [
      "/Users/andrewbashford/anaconda3/lib/python2.7/site-packages/ipykernel_launcher.py:1: SettingWithCopyWarning: \n",
      "A value is trying to be set on a copy of a slice from a DataFrame.\n",
      "Try using .loc[row_indexer,col_indexer] = value instead\n",
      "\n",
      "See the caveats in the documentation: http://pandas.pydata.org/pandas-docs/stable/indexing.html#indexing-view-versus-copy\n",
      "  \"\"\"Entry point for launching an IPython kernel.\n"
     ]
    }
   ],
   "source": [
    "df_sample['danceability rounded'] = df_sample['danceability mean'].round(2) * 100 // 10"
   ]
  },
  {
   "cell_type": "code",
   "execution_count": 187,
   "metadata": {},
   "outputs": [],
   "source": [
    "sf = graphlab.SFrame(df_sample[['reviewid', 'tf-idf', 'score_bin']])"
   ]
  },
  {
   "cell_type": "code",
   "execution_count": 188,
   "metadata": {},
   "outputs": [
    {
     "name": "stdout",
     "output_type": "stream",
     "text": [
      "WARNING: The ItemContentRecommender model is still in beta.\n",
      "WARNING: This feature transformer is still in beta, and some interpretation rules may change in the future.\n",
      "('Applying transform:\\n', Class             : AutoVectorizer\n",
      "\n",
      "Model Fields\n",
      "------------\n",
      "Features          : ['tf-idf', 'score_bin']\n",
      "Excluded Features : ['reviewid']\n",
      "\n",
      "Column     Type   Interpretation  Transforms  Output Type\n",
      "---------  -----  --------------  ----------  -----------\n",
      "tf-idf     array  vector          None        array      \n",
      "score_bin  int    numerical       None        int        \n",
      "\n",
      ")\n"
     ]
    },
    {
     "data": {
      "text/html": [
       "<pre>Recsys training: model = item_content_recommender</pre>"
      ],
      "text/plain": [
       "Recsys training: model = item_content_recommender"
      ]
     },
     "metadata": {},
     "output_type": "display_data"
    },
    {
     "name": "stdout",
     "output_type": "stream",
     "text": [
      "Defaulting to brute force instead of ball tree because there are multiple distance components.\n"
     ]
    },
    {
     "data": {
      "text/html": [
       "<pre>Starting brute force nearest neighbors model training.</pre>"
      ],
      "text/plain": [
       "Starting brute force nearest neighbors model training."
      ]
     },
     "metadata": {},
     "output_type": "display_data"
    },
    {
     "data": {
      "text/html": [
       "<pre>Starting pairwise querying.</pre>"
      ],
      "text/plain": [
       "Starting pairwise querying."
      ]
     },
     "metadata": {},
     "output_type": "display_data"
    },
    {
     "data": {
      "text/html": [
       "<pre>+--------------+---------+-------------+--------------+</pre>"
      ],
      "text/plain": [
       "+--------------+---------+-------------+--------------+"
      ]
     },
     "metadata": {},
     "output_type": "display_data"
    },
    {
     "data": {
      "text/html": [
       "<pre>| Query points | # Pairs | % Complete. | Elapsed Time |</pre>"
      ],
      "text/plain": [
       "| Query points | # Pairs | % Complete. | Elapsed Time |"
      ]
     },
     "metadata": {},
     "output_type": "display_data"
    },
    {
     "data": {
      "text/html": [
       "<pre>+--------------+---------+-------------+--------------+</pre>"
      ],
      "text/plain": [
       "+--------------+---------+-------------+--------------+"
      ]
     },
     "metadata": {},
     "output_type": "display_data"
    },
    {
     "data": {
      "text/html": [
       "<pre>| 1            | 662     | 0.151057    | 17.095ms     |</pre>"
      ],
      "text/plain": [
       "| 1            | 662     | 0.151057    | 17.095ms     |"
      ]
     },
     "metadata": {},
     "output_type": "display_data"
    },
    {
     "data": {
      "text/html": [
       "<pre>| Done         |         | 100         | 342.251ms    |</pre>"
      ],
      "text/plain": [
       "| Done         |         | 100         | 342.251ms    |"
      ]
     },
     "metadata": {},
     "output_type": "display_data"
    },
    {
     "data": {
      "text/html": [
       "<pre>+--------------+---------+-------------+--------------+</pre>"
      ],
      "text/plain": [
       "+--------------+---------+-------------+--------------+"
      ]
     },
     "metadata": {},
     "output_type": "display_data"
    },
    {
     "data": {
      "text/html": [
       "<pre>Preparing data set.</pre>"
      ],
      "text/plain": [
       "Preparing data set."
      ]
     },
     "metadata": {},
     "output_type": "display_data"
    },
    {
     "data": {
      "text/html": [
       "<pre>    Data has 0 observations with 0 users and 644 items.</pre>"
      ],
      "text/plain": [
       "    Data has 0 observations with 0 users and 644 items."
      ]
     },
     "metadata": {},
     "output_type": "display_data"
    },
    {
     "data": {
      "text/html": [
       "<pre>    Data prepared in: 0.087639s</pre>"
      ],
      "text/plain": [
       "    Data prepared in: 0.087639s"
      ]
     },
     "metadata": {},
     "output_type": "display_data"
    },
    {
     "data": {
      "text/html": [
       "<pre>Loading user-provided nearest items.</pre>"
      ],
      "text/plain": [
       "Loading user-provided nearest items."
      ]
     },
     "metadata": {},
     "output_type": "display_data"
    },
    {
     "data": {
      "text/html": [
       "<pre>Generating candidate set for working with new users.</pre>"
      ],
      "text/plain": [
       "Generating candidate set for working with new users."
      ]
     },
     "metadata": {},
     "output_type": "display_data"
    },
    {
     "data": {
      "text/html": [
       "<pre>Finished training in 0.006198s</pre>"
      ],
      "text/plain": [
       "Finished training in 0.006198s"
      ]
     },
     "metadata": {},
     "output_type": "display_data"
    }
   ],
   "source": [
    "recommender = graphlab.recommender.item_content_recommender.create(sf, item_id='reviewid')"
   ]
  },
  {
   "cell_type": "code",
   "execution_count": null,
   "metadata": {},
   "outputs": [],
   "source": []
  },
  {
   "cell_type": "code",
   "execution_count": 111,
   "metadata": {
    "collapsed": true
   },
   "outputs": [],
   "source": [
    "pd.options.display.max_colwidth = 100"
   ]
  },
  {
   "cell_type": "code",
   "execution_count": null,
   "metadata": {},
   "outputs": [],
   "source": [
    "recommender.get_similar_items(['reviewid'])"
   ]
  },
  {
   "cell_type": "code",
   "execution_count": 66,
   "metadata": {},
   "outputs": [],
   "source": [
    "top_5_similar = recommender.get_similar_items(['5929e803c0084474cd0c5102'], k=5)['similar']"
   ]
  },
  {
   "cell_type": "code",
   "execution_count": 61,
   "metadata": {},
   "outputs": [
    {
     "data": {
      "text/html": [
       "<div style=\"max-height:1000px;max-width:1500px;overflow:auto;\"><table frame=\"box\" rules=\"cols\">\n",
       "    <tr>\n",
       "        <th style=\"padding-left: 1em; padding-right: 1em; text-align: center\">reviewid</th>\n",
       "        <th style=\"padding-left: 1em; padding-right: 1em; text-align: center\">similar</th>\n",
       "        <th style=\"padding-left: 1em; padding-right: 1em; text-align: center\">score</th>\n",
       "        <th style=\"padding-left: 1em; padding-right: 1em; text-align: center\">rank</th>\n",
       "    </tr>\n",
       "</table>\n",
       "[0 rows x 4 columns]<br/>\n",
       "</div>"
      ],
      "text/plain": [
       "Columns:\n",
       "\treviewid\tstr\n",
       "\tsimilar\tstr\n",
       "\tscore\tfloat\n",
       "\trank\tint\n",
       "\n",
       "Rows: 0\n",
       "\n",
       "Data:\n",
       "\t[]"
      ]
     },
     "execution_count": 61,
     "metadata": {},
     "output_type": "execute_result"
    }
   ],
   "source": [
    "recommender.get_similar_items(['https://pitchfork.com/reviews/albums/18172-kanye-west-yeezus/'])"
   ]
  },
  {
   "cell_type": "code",
   "execution_count": 189,
   "metadata": {},
   "outputs": [],
   "source": [
    "def get_similar(df, url, recommender):\n",
    "    reviewid = df[df['url'] == url].iloc[0][3]\n",
    "    print reviewid\n",
    "    top_5_similar = recommender.get_similar_items([reviewid], k=10)['similar']\n",
    "    print top_5_similar\n",
    "    return df[df['reviewid'].isin(top_5_similar)][['artist','title', 'score', 'url']]"
   ]
  },
  {
   "cell_type": "code",
   "execution_count": 167,
   "metadata": {},
   "outputs": [
    {
     "data": {
      "text/plain": [
       "'5929e5fd5e6ef959693253fc'"
      ]
     },
     "execution_count": 167,
     "metadata": {},
     "output_type": "execute_result"
    }
   ],
   "source": [
    "df_merged[df_merged['url'] == 'https://pitchfork.com/reviews/albums/18172-kanye-west-yeezus/'].iloc[0][3]"
   ]
  },
  {
   "cell_type": "code",
   "execution_count": 190,
   "metadata": {},
   "outputs": [
    {
     "name": "stdout",
     "output_type": "stream",
     "text": [
      "5929e2ad5e6ef95969325178\n",
      "['5929d8995e6ef95969324701', '5929dbf013d197565213cf22', '5929e3f8eb335119a49ef19e', '5929d8d1eb335119a49ee663', '5929e052eb335119a49eedac', '5929e56bd7a71d1ea569a70e', '5929e4e3c0084474cd0c4fc2', '5929d8305e6ef9596932469f', '5929e7425e6ef95969325475', '5929dc970c2bba1b7de02546']\n"
     ]
    },
    {
     "data": {
      "text/html": [
       "<div>\n",
       "<style>\n",
       "    .dataframe thead tr:only-child th {\n",
       "        text-align: right;\n",
       "    }\n",
       "\n",
       "    .dataframe thead th {\n",
       "        text-align: left;\n",
       "    }\n",
       "\n",
       "    .dataframe tbody tr th {\n",
       "        vertical-align: top;\n",
       "    }\n",
       "</style>\n",
       "<table border=\"1\" class=\"dataframe\">\n",
       "  <thead>\n",
       "    <tr style=\"text-align: right;\">\n",
       "      <th></th>\n",
       "      <th>artist</th>\n",
       "      <th>title</th>\n",
       "      <th>score</th>\n",
       "      <th>url</th>\n",
       "    </tr>\n",
       "  </thead>\n",
       "  <tbody>\n",
       "    <tr>\n",
       "      <th>762</th>\n",
       "      <td>mount eerie</td>\n",
       "      <td>a crow looked at me</td>\n",
       "      <td>9.0</td>\n",
       "      <td>https://pitchfork.com/reviews/albums/22970-a-crow-looked-at-me/</td>\n",
       "    </tr>\n",
       "    <tr>\n",
       "      <th>1694</th>\n",
       "      <td>anohni</td>\n",
       "      <td>hopelessness</td>\n",
       "      <td>9.0</td>\n",
       "      <td>https://pitchfork.com/reviews/albums/21819-hopelessness/</td>\n",
       "    </tr>\n",
       "    <tr>\n",
       "      <th>3986</th>\n",
       "      <td>sun kil moon</td>\n",
       "      <td>benji</td>\n",
       "      <td>9.2</td>\n",
       "      <td>https://pitchfork.com/reviews/albums/18860-sun-kil-moon-benji/</td>\n",
       "    </tr>\n",
       "    <tr>\n",
       "      <th>4959</th>\n",
       "      <td>my bloody valentine</td>\n",
       "      <td>m b v</td>\n",
       "      <td>9.1</td>\n",
       "      <td>https://pitchfork.com/reviews/albums/17726-mbv/</td>\n",
       "    </tr>\n",
       "    <tr>\n",
       "      <th>5212</th>\n",
       "      <td>kendrick lamar</td>\n",
       "      <td>good kid, m.a.a.d city</td>\n",
       "      <td>9.5</td>\n",
       "      <td>https://pitchfork.com/reviews/albums/17253-good-kid-maad-city/</td>\n",
       "    </tr>\n",
       "    <tr>\n",
       "      <th>6529</th>\n",
       "      <td>bon iver</td>\n",
       "      <td>bon iver, bon iver</td>\n",
       "      <td>9.5</td>\n",
       "      <td>https://pitchfork.com/reviews/albums/15551-bon-iver/</td>\n",
       "    </tr>\n",
       "    <tr>\n",
       "      <th>9394</th>\n",
       "      <td>tv on the radio</td>\n",
       "      <td>dear science</td>\n",
       "      <td>9.2</td>\n",
       "      <td>https://pitchfork.com/reviews/albums/12246-dear-science/</td>\n",
       "    </tr>\n",
       "    <tr>\n",
       "      <th>12751</th>\n",
       "      <td>sufjan stevens</td>\n",
       "      <td>illinois</td>\n",
       "      <td>9.2</td>\n",
       "      <td>https://pitchfork.com/reviews/albums/7514-illinois/</td>\n",
       "    </tr>\n",
       "    <tr>\n",
       "      <th>14542</th>\n",
       "      <td>the rapture</td>\n",
       "      <td>echoes</td>\n",
       "      <td>9.0</td>\n",
       "      <td>https://pitchfork.com/reviews/albums/6693-echoes/</td>\n",
       "    </tr>\n",
       "    <tr>\n",
       "      <th>14935</th>\n",
       "      <td>sunburned hand of the man</td>\n",
       "      <td>headdress</td>\n",
       "      <td>9.0</td>\n",
       "      <td>https://pitchfork.com/reviews/albums/7569-headdress/</td>\n",
       "    </tr>\n",
       "  </tbody>\n",
       "</table>\n",
       "</div>"
      ],
      "text/plain": [
       "                          artist                   title  score  \\\n",
       "762                  mount eerie     a crow looked at me    9.0   \n",
       "1694                      anohni            hopelessness    9.0   \n",
       "3986                sun kil moon                   benji    9.2   \n",
       "4959         my bloody valentine                   m b v    9.1   \n",
       "5212              kendrick lamar  good kid, m.a.a.d city    9.5   \n",
       "6529                    bon iver      bon iver, bon iver    9.5   \n",
       "9394             tv on the radio            dear science    9.2   \n",
       "12751             sufjan stevens                illinois    9.2   \n",
       "14542                the rapture                  echoes    9.0   \n",
       "14935  sunburned hand of the man               headdress    9.0   \n",
       "\n",
       "                                                                   url  \n",
       "762    https://pitchfork.com/reviews/albums/22970-a-crow-looked-at-me/  \n",
       "1694          https://pitchfork.com/reviews/albums/21819-hopelessness/  \n",
       "3986    https://pitchfork.com/reviews/albums/18860-sun-kil-moon-benji/  \n",
       "4959                   https://pitchfork.com/reviews/albums/17726-mbv/  \n",
       "5212    https://pitchfork.com/reviews/albums/17253-good-kid-maad-city/  \n",
       "6529              https://pitchfork.com/reviews/albums/15551-bon-iver/  \n",
       "9394          https://pitchfork.com/reviews/albums/12246-dear-science/  \n",
       "12751              https://pitchfork.com/reviews/albums/7514-illinois/  \n",
       "14542                https://pitchfork.com/reviews/albums/6693-echoes/  \n",
       "14935             https://pitchfork.com/reviews/albums/7569-headdress/  "
      ]
     },
     "execution_count": 190,
     "metadata": {},
     "output_type": "execute_result"
    }
   ],
   "source": [
    "get_similar(df_merged, 'https://pitchfork.com/reviews/albums/452-funeral/', recommender)"
   ]
  },
  {
   "cell_type": "code",
   "execution_count": 98,
   "metadata": {},
   "outputs": [
    {
     "data": {
      "text/plain": [
       "dtype: str\n",
       "Rows: 10\n",
       "['5929dfdb13d197565213d322', '5929dc970c2bba1b7de02546', '5929d930d7a71d1ea5699a8a', '5929d8305e6ef9596932469f', '5929e544c0084474cd0c500b', '5929dc95eb335119a49ee9f3', '5929e0cc5e6ef95969324f96', '5929e40ad7a71d1ea569a5e8', '5929e332c0084474cd0c4e48', '5929d83513d197565213cb98']"
      ]
     },
     "execution_count": 98,
     "metadata": {},
     "output_type": "execute_result"
    }
   ],
   "source": [
    "recommender.get_similar_items(['5929e5fd5e6ef959693253fc'])['similar']"
   ]
  },
  {
   "cell_type": "code",
   "execution_count": 75,
   "metadata": {},
   "outputs": [],
   "source": [
    "reviewid = df[df['url'] == 'https://pitchfork.com/reviews/albums/18172-kanye-west-yeezus/']['reviewid']"
   ]
  },
  {
   "cell_type": "code",
   "execution_count": 97,
   "metadata": {},
   "outputs": [
    {
     "data": {
      "text/plain": [
       "'5929e5fd5e6ef959693253fc'"
      ]
     },
     "execution_count": 97,
     "metadata": {},
     "output_type": "execute_result"
    }
   ],
   "source": [
    "df[df['url'] == 'https://pitchfork.com/reviews/albums/18172-kanye-west-yeezus/'].iloc[0][3]"
   ]
  },
  {
   "cell_type": "code",
   "execution_count": 49,
   "metadata": {},
   "outputs": [
    {
     "data": {
      "text/html": [
       "<div>\n",
       "<style>\n",
       "    .dataframe thead tr:only-child th {\n",
       "        text-align: right;\n",
       "    }\n",
       "\n",
       "    .dataframe thead th {\n",
       "        text-align: left;\n",
       "    }\n",
       "\n",
       "    .dataframe tbody tr th {\n",
       "        vertical-align: top;\n",
       "    }\n",
       "</style>\n",
       "<table border=\"1\" class=\"dataframe\">\n",
       "  <thead>\n",
       "    <tr style=\"text-align: right;\">\n",
       "      <th></th>\n",
       "      <th>artist</th>\n",
       "      <th>title</th>\n",
       "    </tr>\n",
       "  </thead>\n",
       "  <tbody>\n",
       "    <tr>\n",
       "      <th>10454</th>\n",
       "      <td>cymbals eat guitars</td>\n",
       "      <td>why there are mountains</td>\n",
       "    </tr>\n",
       "  </tbody>\n",
       "</table>\n",
       "</div>"
      ],
      "text/plain": [
       "                    artist                    title\n",
       "10454  cymbals eat guitars  why there are mountains"
      ]
     },
     "execution_count": 49,
     "metadata": {},
     "output_type": "execute_result"
    }
   ],
   "source": [
    "df[df['reviewid'] == '5929e391c0084474cd0c4eb1'][['artist','title']]"
   ]
  },
  {
   "cell_type": "code",
   "execution_count": null,
   "metadata": {
    "collapsed": true
   },
   "outputs": [],
   "source": []
  }
 ],
 "metadata": {
  "kernelspec": {
   "display_name": "Python 2",
   "language": "python",
   "name": "python2"
  },
  "language_info": {
   "codemirror_mode": {
    "name": "ipython",
    "version": 2
   },
   "file_extension": ".py",
   "mimetype": "text/x-python",
   "name": "python",
   "nbconvert_exporter": "python",
   "pygments_lexer": "ipython2",
   "version": "2.7.13"
  }
 },
 "nbformat": 4,
 "nbformat_minor": 2
}
