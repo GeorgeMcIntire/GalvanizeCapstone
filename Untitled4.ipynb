{
 "cells": [
  {
   "cell_type": "code",
   "execution_count": 1,
   "metadata": {
    "collapsed": true
   },
   "outputs": [],
   "source": [
    "import spacy\n",
    "nlp = spacy.load('en')"
   ]
  },
  {
   "cell_type": "code",
   "execution_count": null,
   "metadata": {
    "collapsed": true
   },
   "outputs": [],
   "source": []
  },
  {
   "cell_type": "code",
   "execution_count": null,
   "metadata": {
    "collapsed": true
   },
   "outputs": [],
   "source": []
  },
  {
   "cell_type": "code",
   "execution_count": null,
   "metadata": {
    "collapsed": true
   },
   "outputs": [],
   "source": [
    "def parse_for_adj(df, column, new_column_name):\n",
    "    prop_noun_parse = []\n",
    "    for i in range(len(df[column])):\n",
    "        non_PN = []\n",
    "        blob = nlp(unicode(df[column][i]))\n",
    "        for each in blob:\n",
    "            if each.tag_ == u'ADJ' or each.tag_ == u'JJ':\n",
    "                non_PN.append(str(each))\n",
    "        prop_noun_parse.append((df['reviewid'][i], \" \".join(non_PN)))\n",
    "\n",
    "    df_new = pd.DataFrame(prop_noun_parse, columns =['reviewid', new_column_name])\n",
    "    return df.merge(df_new)"
   ]
  }
 ],
 "metadata": {
  "kernelspec": {
   "display_name": "Python 2",
   "language": "python",
   "name": "python2"
  },
  "language_info": {
   "codemirror_mode": {
    "name": "ipython",
    "version": 2
   },
   "file_extension": ".py",
   "mimetype": "text/x-python",
   "name": "python",
   "nbconvert_exporter": "python",
   "pygments_lexer": "ipython2",
   "version": "2.7.13"
  }
 },
 "nbformat": 4,
 "nbformat_minor": 2
}
